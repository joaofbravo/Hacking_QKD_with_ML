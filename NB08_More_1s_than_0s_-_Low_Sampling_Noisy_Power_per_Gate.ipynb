{
 "cells": [
  {
   "cell_type": "code",
   "execution_count": 1,
   "id": "3c56d89b",
   "metadata": {
    "ExecuteTime": {
     "end_time": "2022-04-04T17:50:42.182779Z",
     "start_time": "2022-04-04T17:50:01.961627Z"
    }
   },
   "outputs": [
    {
     "name": "stderr",
     "output_type": "stream",
     "text": [
      "Intel(R) Extension for Scikit-learn* enabled (https://github.com/intel/scikit-learn-intelex)\n"
     ]
    }
   ],
   "source": [
    "import timeit\n",
    "from datetime import timedelta\n",
    "import numpy as np\n",
    "import pandas as pd\n",
    "# from pandas_profiling import ProfileReport\n",
    "# import lux # slows down dataframe processing\n",
    "import matplotlib.pyplot as plt\n",
    "%matplotlib inline\n",
    "import joblib\n",
    "\n",
    "from sklearnex import patch_sklearn\n",
    "patch_sklearn()\n",
    "\n",
    "from sklearn.model_selection import train_test_split, StratifiedKFold, cross_val_score\n",
    "from sklearn.linear_model import LogisticRegression, SGDClassifier\n",
    "from sklearn.svm import SVC, LinearSVC\n",
    "from sklearn.naive_bayes import GaussianNB, MultinomialNB, CategoricalNB\n",
    "from sklearn.tree import DecisionTreeClassifier\n",
    "from sklearn.metrics import accuracy_score, classification_report, confusion_matrix, ConfusionMatrixDisplay\n",
    "\n",
    "np.set_printoptions(suppress=True) # do not print scientific notation\n",
    "\n",
    "# Set some matplotlib style parameters\n",
    "plt.style.use('seaborn')\n",
    "plt.rcParams.update({'figure.facecolor' : 'white',\n",
    "                     'figure.edgecolor' : 'white',\n",
    "                     'axes.grid'        : True,\n",
    "                     # 'axes.axisbelow'   : True,\n",
    "                     'figure.autolayout': True # tight_layout\n",
    "                    })\n",
    "\n",
    "# Set some pandas options\n",
    "pd.set_option('display.max_columns', None, # show x columns (None shows all)\n",
    "              # 'display.max_rows', None,  # show x rows    (None shows all)\n",
    "              'compute.use_numba', True)   # turn off for Lux"
   ]
  },
  {
   "cell_type": "code",
   "execution_count": 11,
   "id": "10eaff45",
   "metadata": {
    "ExecuteTime": {
     "end_time": "2022-04-04T17:50:56.183147Z",
     "start_time": "2022-04-04T17:50:56.164149Z"
    }
   },
   "outputs": [],
   "source": [
    "nb_name = 'more_1s_than_0s' # for saving objects with joblib\n",
    "seed = 42\n",
    "rng = np.random.default_rng(seed)\n",
    "\n",
    "n = secure_bits = 32        # rows\n",
    "m = corrected_key_bits = 64 # columns\n",
    "N_vec = 10000               # nº of corrected key vectors"
   ]
  },
  {
   "cell_type": "markdown",
   "id": "333ab43c",
   "metadata": {
    "ExecuteTime": {
     "end_time": "2021-08-05T19:00:12.884341Z",
     "start_time": "2021-08-05T19:00:12.870374Z"
    }
   },
   "source": [
    "## Functions"
   ]
  },
  {
   "cell_type": "markdown",
   "id": "f6c9c258",
   "metadata": {},
   "source": [
    "### Detect power consumption of basic gates"
   ]
  },
  {
   "cell_type": "code",
   "execution_count": 12,
   "id": "4461dfc5",
   "metadata": {
    "ExecuteTime": {
     "end_time": "2022-04-04T17:50:58.101150Z",
     "start_time": "2022-04-04T17:50:58.074154Z"
    },
    "code_folding": []
   },
   "outputs": [],
   "source": [
    "def get_product_power(mat, vec, gate_powers, noise_std=0.):\n",
    "    '''Returns: array with the power consumed by the gates of each product.\n",
    "    Set noise_std = 0 to eliminate noise.'''\n",
    "    n, m = mat.shape\n",
    "    count = [[] for _ in range(n)]\n",
    "    for i in range(n):\n",
    "        for j in range(m):\n",
    "            idx = 2 * mat[i, j] + vec[j]\n",
    "            count[i].extend(gate_powers[idx] + rng.normal(scale=noise_std, size=gate_powers[idx].size))\n",
    "    return count # size = n * m * gate_powers[idx].size"
   ]
  },
  {
   "cell_type": "code",
   "execution_count": 13,
   "id": "9a46243d",
   "metadata": {
    "ExecuteTime": {
     "end_time": "2022-04-04T17:50:58.133152Z",
     "start_time": "2022-04-04T17:50:58.105151Z"
    },
    "code_folding": []
   },
   "outputs": [],
   "source": [
    "def get_sum_power(mat, vec, gate_powers, noise_std=0.):\n",
    "    '''Returns: array with the power consumed by the gates of each sum.\n",
    "    Set noise_std = 0 to eliminate noise.'''\n",
    "    n, m = mat.shape\n",
    "    count = [[] for _ in range(n)]\n",
    "    for i in range(n):\n",
    "        result = 0\n",
    "        for j in range(m):\n",
    "            next_element = mat[i, j] * vec[j]\n",
    "            idx = 2 * result + next_element\n",
    "            count[i].extend(gate_powers[idx] + rng.normal(scale=noise_std, size=gate_powers[idx].size))\n",
    "            result = (result + next_element) % 2\n",
    "    return count # size = n * m * gate_powers[idx].size"
   ]
  },
  {
   "cell_type": "code",
   "execution_count": 14,
   "id": "475c9df9",
   "metadata": {
    "ExecuteTime": {
     "end_time": "2022-04-04T17:51:03.107151Z",
     "start_time": "2022-04-04T17:51:03.093155Z"
    },
    "code_folding": [
     0
    ]
   },
   "outputs": [],
   "source": [
    "# # TEST\n",
    "# mat = np.asarray([[0, 1, 1, 0, 1],\n",
    "#                   [1, 0, 1, 1, 1],\n",
    "#                   [1, 1, 1, 1, 1],\n",
    "#                   [0, 0, 0, 0, 0]])\n",
    "# # vec = np.asarray([0, 0, 0, 0, 0])\n",
    "# # vec = np.asarray([1, 1, 1, 1, 1])\n",
    "# vec = np.asarray([1, 1, 1, 0, 0])\n",
    "# power_products = np.asarray([[.1, 1.1], [.2, 1.2], [.3, 1.3], [.4, 1.4]])\n",
    "# power_sums = np.asarray([[1.1, 2.1], [1.2, 2.2], [1.3, 2.3], [1.4, 2.4]])\n",
    "\n",
    "# print(mat @ vec % 2, '\\n')\n",
    "# count = get_product_power(mat, vec, power_products, 0.01)\n",
    "# print(np.around(count, 3), '\\n')\n",
    "# count = get_sum_power(mat, vec, power_sums, 0.01)\n",
    "# print(np.around(count, 3))"
   ]
  },
  {
   "cell_type": "markdown",
   "id": "32abfb3a",
   "metadata": {},
   "source": [
    "### Class"
   ]
  },
  {
   "cell_type": "code",
   "execution_count": 15,
   "id": "ae72549a",
   "metadata": {
    "ExecuteTime": {
     "end_time": "2022-04-04T17:51:04.835156Z",
     "start_time": "2022-04-04T17:51:04.822159Z"
    },
    "code_folding": []
   },
   "outputs": [],
   "source": [
    "# Detect if there are more 1s than 0s\n",
    "def More_1_than_0(mat, vec):\n",
    "    return np.sum(mat @ vec % 2) > secure_bits / 2"
   ]
  },
  {
   "cell_type": "markdown",
   "id": "bfd3583e",
   "metadata": {},
   "source": [
    "### Other"
   ]
  },
  {
   "cell_type": "code",
   "execution_count": 16,
   "id": "e78f260d",
   "metadata": {
    "ExecuteTime": {
     "end_time": "2022-04-04T17:51:06.931157Z",
     "start_time": "2022-04-04T17:51:06.918158Z"
    }
   },
   "outputs": [],
   "source": [
    "# Check if input & output vectors from sample are unique\n",
    "def Check_uniqueness(mat, vec):\n",
    "    res = []\n",
    "    for i in range(len(vec)):\n",
    "        res.append(mat @ vec[i] % 2)\n",
    "    unique_in  = np.unique(vec, axis=0)\n",
    "    unique_out = np.unique(res, axis=0)\n",
    "    return unique_in.shape[0], unique_out.shape[0]"
   ]
  },
  {
   "cell_type": "markdown",
   "id": "8ae9b25b",
   "metadata": {},
   "source": [
    "## Generate data"
   ]
  },
  {
   "cell_type": "code",
   "execution_count": 17,
   "id": "64ae1572",
   "metadata": {
    "ExecuteTime": {
     "end_time": "2022-04-04T17:51:08.619181Z",
     "start_time": "2022-04-04T17:51:08.606159Z"
    }
   },
   "outputs": [
    {
     "data": {
      "text/plain": [
       "((5, 10),\n",
       " array([[1, 0, 1, 0, 1, 1, 0, 1, 1, 1],\n",
       "        [1, 1, 0, 0, 0, 0, 0, 0, 1, 0],\n",
       "        [1, 0, 1, 1, 1, 1, 0, 0, 0, 1],\n",
       "        [1, 1, 1, 1, 1, 0, 1, 0, 0, 0],\n",
       "        [1, 0, 1, 1, 1, 0, 1, 1, 0, 0]], dtype=int8))"
      ]
     },
     "execution_count": 17,
     "metadata": {},
     "output_type": "execute_result"
    }
   ],
   "source": [
    "mat = rng.integers(2, size=(secure_bits,corrected_key_bits), dtype=np.int8)\n",
    "\n",
    "mat.shape, mat"
   ]
  },
  {
   "cell_type": "code",
   "execution_count": 18,
   "id": "d3a84273",
   "metadata": {
    "ExecuteTime": {
     "end_time": "2022-04-04T17:51:10.296163Z",
     "start_time": "2022-04-04T17:51:10.126160Z"
    }
   },
   "outputs": [
    {
     "data": {
      "text/plain": [
       "((10000, 10), array([0, 0, 1, 1, 0, 1, 1, 1, 1, 1], dtype=int8))"
      ]
     },
     "execution_count": 18,
     "metadata": {},
     "output_type": "execute_result"
    }
   ],
   "source": [
    "vec = [rng.integers(2, size=corrected_key_bits, dtype=np.int8) for _ in range(N_vec)]\n",
    "\n",
    "np.shape(vec), vec[0]"
   ]
  },
  {
   "cell_type": "code",
   "execution_count": 19,
   "id": "01ed0428",
   "metadata": {
    "ExecuteTime": {
     "end_time": "2022-04-04T17:51:12.071202Z",
     "start_time": "2022-04-04T17:51:11.993162Z"
    }
   },
   "outputs": [
    {
     "name": "stdout",
     "output_type": "stream",
     "text": [
      "10000 inputs: 1024 unique inputs, 32 unique solutions\n"
     ]
    }
   ],
   "source": [
    "unique_in, unique_out = Check_uniqueness(mat, vec)\n",
    "print(f'{N_vec} inputs: {unique_in} unique inputs, {unique_out} unique solutions')"
   ]
  },
  {
   "cell_type": "markdown",
   "id": "309187e2",
   "metadata": {},
   "source": [
    "Assumptions on power consumption (based on https://ieeexplore.ieee.org/document/6644863):\n",
    "- NOT:\n",
    "    - 0 - 6.73 pA\n",
    "    - 1 - 7.45 pA\n",
    "- 2-input NOR:\n",
    "    - 00 - 13.50 pA\n",
    "    - 01 - 12.80 pA\n",
    "    - 10 - &nbsp; 7.93 pA\n",
    "    - 11 - &nbsp; 5.93 pA\n",
    "- 2-input NAND:\n",
    "    - 00 - &nbsp; 5.79 pA\n",
    "    - 01 - &nbsp; 7.00 pA\n",
    "    - 10 - 11.77 pA\n",
    "    - 11 - 14.91 pA\n",
    "\n",
    "Writing our operations in the gates above:\n",
    "- A\\*B &nbsp;= AND(A, B)\n",
    "= NOT(NAND(A, B))\n",
    "\n",
    "- A+B = XOR(A, B)\n",
    "= NOT(A<=>B)\n",
    "= NOT(AND(A->B, B->A))\n",
    "= NAND(A->B, B->A)\n",
    "= NAND(OR(NOT(A), B), OR(NOT(B), A)) =  \n",
    "&nbsp; &nbsp; &nbsp; &nbsp; = NAND(NOT(NOR(NOT(A), B)), NOT(NOR(NOT(B), A)))\n",
    "\n",
    "Thus:\n",
    "- 0\\*0: &nbsp; &nbsp; 5.79 + 7.45 = 13.24 pA\n",
    "- 0\\*1: &nbsp; &nbsp; 7.00 + 7.45 = 14.45 pA\n",
    "- 1\\*0: &nbsp; 11.77 + 7.45 = 19.22 pA\n",
    "- 1\\*1: &nbsp; 14.91 + 6.73 = 21.64 pA\n",
    "\n",
    "\n",
    "- 0+0: &nbsp; 6.73 + 6.73 + &nbsp; 7.93 + &nbsp; 7.93 + 6.73 + 6.73 + 14.91 = 57.69 pA\n",
    "- 0+1: &nbsp; 6.73 + 7.45 + &nbsp; 5.93 + 13.50 + 6.73 + 7.45 + 11.77 = 59.56 pA\n",
    "- 1+0: &nbsp; 7.45 + 6.73 + 13.50 + &nbsp; 5.93 + 7.45 + 6.73 + &nbsp; 7.00 = 54.79 pA\n",
    "- 1+1: &nbsp; 7.45 + 7.45 + 12.80 + 12.80 + 6.73 + 6.73 + 14.91 = 68.87 pA"
   ]
  },
  {
   "cell_type": "code",
   "execution_count": 20,
   "id": "5b228cb7",
   "metadata": {
    "ExecuteTime": {
     "end_time": "2022-04-04T17:51:13.596163Z",
     "start_time": "2022-04-04T17:51:13.582164Z"
    }
   },
   "outputs": [],
   "source": [
    "# Define power consumption for each gate & noise level\n",
    "power_product_gates = np.asarray([[5.79, 7.45], [7., 7.45], [11.77, 7.45], [14.91, 6.73]]) # 0*0, 0*1, 1*0, 1*1\n",
    "power_sum_gates = np.asarray([[6.73, 6.73, 7.93, 7.93, 6.73, 6.73, 14.91],  # '0+0' gates\n",
    "                              [6.73, 7.45, 5.93, 13.5, 6.73, 7.45, 11.77],  # '0+1' gates\n",
    "                              [7.45, 6.73, 13.5, 5.93, 7.45, 6.73, 7.],     # '1+0' gates\n",
    "                              [7.45, 7.45, 12.8, 12.8, 6.73, 6.73, 14.91]]) # '1+1' gates\n",
    "noise_std = 0.05 + 0.0 # article measurement precision + hacker device noise"
   ]
  },
  {
   "cell_type": "code",
   "execution_count": 15,
   "id": "6e42c81d",
   "metadata": {
    "ExecuteTime": {
     "end_time": "2022-02-17T12:33:25.947989Z",
     "start_time": "2022-02-17T12:33:25.938948Z"
    }
   },
   "outputs": [],
   "source": [
    "# i = 0\n",
    "# print('Products:\\n', np.around(get_product_power(mat, vec[i], power_product_gates, noise_std), 3))\n",
    "# print('Sums:\\n', np.around(get_sum_power(mat, vec[i], power_sum_gates, noise_std), 3))"
   ]
  },
  {
   "cell_type": "code",
   "execution_count": 16,
   "id": "007e2611",
   "metadata": {
    "ExecuteTime": {
     "end_time": "2022-02-17T12:33:26.500713Z",
     "start_time": "2022-02-17T12:33:26.491715Z"
    }
   },
   "outputs": [],
   "source": [
    "# print(\"#1 > #0?\")\n",
    "# print(\"--------\")\n",
    "# for i in range(10):\n",
    "#     print(More_1_than_0(mat, vec[i]), '\\t', mat @ vec[i] % 2)"
   ]
  },
  {
   "cell_type": "code",
   "execution_count": 21,
   "id": "743bec2b",
   "metadata": {
    "ExecuteTime": {
     "end_time": "2022-04-04T17:51:26.143402Z",
     "start_time": "2022-04-04T17:51:15.120165Z"
    }
   },
   "outputs": [
    {
     "data": {
      "text/plain": [
       "(10000, 451)"
      ]
     },
     "execution_count": 21,
     "metadata": {},
     "output_type": "execute_result"
    }
   ],
   "source": [
    "# Order data by time (row by row)\n",
    "data = [[] for _ in range(N_vec)]\n",
    "for i in range(N_vec):\n",
    "    product_power = get_product_power(mat, vec[i], power_product_gates, noise_std)\n",
    "    sum_power     = get_sum_power(mat, vec[i], power_sum_gates, noise_std)\n",
    "    for j in range(n):\n",
    "        data[i].extend(product_power[j])\n",
    "        data[i].extend(sum_power[j])\n",
    "    data[i].append(More_1_than_0(mat, vec[i]))\n",
    "\n",
    "data = np.asarray(data)\n",
    "data.shape"
   ]
  },
  {
   "cell_type": "code",
   "execution_count": null,
   "id": "a55ca91c",
   "metadata": {
    "code_folding": [
     0
    ],
    "scrolled": true
   },
   "outputs": [],
   "source": [
    "# # Wrong model - Lower data sampling (does not work if sampling_interval does not divide data.shape[1])\n",
    "# sampling_interval = 2 # in gates\n",
    "# data_low_sampling = np.sum([data[:, i:-1:sampling_interval] for i in range(sampling_interval)], axis=0)\n",
    "# data_low_sampling = np.append(data_low_sampling, data[:, [-1]], axis=1)\n",
    "\n",
    "# class_index = data_low_sampling.shape[1] - 1\n",
    "# data_low_sampling.shape"
   ]
  },
  {
   "cell_type": "code",
   "execution_count": null,
   "id": "1ff6b135",
   "metadata": {
    "code_folding": [
     0
    ],
    "scrolled": true
   },
   "outputs": [],
   "source": [
    "# # Wrong model - Lower data sampling (works even if sampling_interval does not divide data.shape[1])\n",
    "# sampling_interval = 2 # in gates\n",
    "# data_low_sampling = [data[:, i:-1:sampling_interval] for i in range(sampling_interval)]\n",
    "# data_low_sampling[0] = data_low_sampling[0].copy()\n",
    "\n",
    "# # for data_i in data_low_sampling:\n",
    "# #     print(data_i.shape, data_i, '\\n')\n",
    "\n",
    "# for i in range(1, sampling_interval):\n",
    "#     data_low_sampling[0][:, :data_low_sampling[i].shape[1]] += data_low_sampling[i]\n",
    "#     # print(data_low_sampling[0].shape, data_low_sampling[0], '\\n')\n",
    "# data_low_sampling = np.append(data_low_sampling[0], data[:, [-1]], axis=1)\n",
    "\n",
    "# class_index = data_low_sampling.shape[1] - 1\n",
    "# data_low_sampling.shape"
   ]
  },
  {
   "cell_type": "code",
   "execution_count": 22,
   "id": "1d413cb6",
   "metadata": {
    "ExecuteTime": {
     "end_time": "2022-04-04T17:51:27.737182Z",
     "start_time": "2022-04-04T17:51:27.707185Z"
    }
   },
   "outputs": [
    {
     "data": {
      "text/plain": [
       "(10000, 226)"
      ]
     },
     "execution_count": 22,
     "metadata": {},
     "output_type": "execute_result"
    }
   ],
   "source": [
    "# Lower data sampling\n",
    "sampling_interval = 2 # in gates\n",
    "data_low_sampling = data[:, 0:-1:sampling_interval]\n",
    "data_low_sampling = np.append(data_low_sampling, data[:, [-1]], axis=1)\n",
    "\n",
    "class_index = data_low_sampling.shape[1] - 1\n",
    "data_low_sampling.shape"
   ]
  },
  {
   "cell_type": "code",
   "execution_count": 23,
   "id": "515ff3da",
   "metadata": {
    "ExecuteTime": {
     "end_time": "2022-04-04T17:51:30.308183Z",
     "start_time": "2022-04-04T17:51:29.930185Z"
    }
   },
   "outputs": [],
   "source": [
    "# Create dataframe for plotting raw data\n",
    "df = pd.DataFrame(data_low_sampling).astype({class_index: bool})\n",
    "df.drop_duplicates(inplace=True, ignore_index=True)\n",
    "# np.around(df, 3)"
   ]
  },
  {
   "cell_type": "code",
   "execution_count": null,
   "id": "875ed900",
   "metadata": {
    "code_folding": []
   },
   "outputs": [],
   "source": [
    "# Plot full power consumption through time\n",
    "y = df.iloc[0][:-1]\n",
    "X = np.arange(len(y))\n",
    "\n",
    "# Plot line\n",
    "plt.figure(figsize=(16, 4))\n",
    "plt.plot(X, y, '-', label='Record 0') # colors: b,g,r,c,m,y,k,w\n",
    "plt.xlim(X.min(), X.max()*1.01)\n",
    "plt.ylim(y.min()*0.925, y.max()*1.075)\n",
    "plt.xticks(np.arange(0, len(y)+1, 250))\n",
    "# plt.yticks(np.arange(6, 16.1, 2))\n",
    "\n",
    "# Set labels\n",
    "plt.legend() # loc='best', 'upper right', 'lower left', ...\n",
    "plt.xlabel('Data point')\n",
    "plt.ylabel('Power consumption ($pA$)')\n",
    "plt.title('Total Power consumption', fontsize=14)\n",
    "\n",
    "# plt.savefig(f'Results/Other/power_consumption_total_{n}x{m}_noise_std={noise_std}_sampling={sampling_interval}.png', dpi=200)\n",
    "plt.show()\n",
    "\n",
    "# Plot power consumption of one row through time\n",
    "line_length = int(np.ceil(m * (power_product_gates.shape[1] + power_sum_gates.shape[1]) / sampling_interval))\n",
    "X = np.arange(line_length)\n",
    "y = df.iloc[0][:line_length]\n",
    "\n",
    "# Plot line\n",
    "plt.figure(figsize=(16, 4))\n",
    "plt.plot(X, y, '-', label='Record 0') # colors: b,g,r,c,m,y,k,w\n",
    "plt.xlim(X.min(), X.max()*1.01)\n",
    "# plt.ylim(y.min()*0.925, y.max()*1.05)\n",
    "plt.xticks(np.arange(0, line_length+1, 10))\n",
    "# plt.yticks(np.arange(6, 16.1, 2))\n",
    "\n",
    "# Set labels\n",
    "plt.legend() # loc='best', 'upper right', 'lower left', ...\n",
    "plt.xlabel('Data point')\n",
    "plt.ylabel('Power consumption ($pA$)')\n",
    "plt.title('Power consumption of one row', fontsize=14)\n",
    "\n",
    "# plt.savefig(f'Results/Other/power_consumption_one_row_{n}x{m}_noise_std={noise_std}_sampling={sampling_interval}.png', dpi=200)\n",
    "plt.show()"
   ]
  },
  {
   "cell_type": "code",
   "execution_count": null,
   "id": "f184d0a5",
   "metadata": {
    "code_folding": [
     0
    ]
   },
   "outputs": [],
   "source": [
    "# FULL RESOLUTION (1 gate) ----- # Plot full power consumption through time\n",
    "y = df.iloc[0][:-1]\n",
    "X = np.arange(len(y))\n",
    "\n",
    "# Plot line\n",
    "plt.figure(figsize=(16, 4))\n",
    "plt.plot(X, y, '-', label='Record 0') # colors: b,g,r,c,m,y,k,w\n",
    "plt.xlim(X.min(), X.max()*1.01)\n",
    "plt.ylim(y.min()*0.925, y.max()*1.075)\n",
    "plt.xticks(np.arange(0, len(y)+1, 1000))\n",
    "# plt.yticks(np.arange(6, 16.1, 2))\n",
    "\n",
    "# Set labels\n",
    "plt.legend() # loc='best', 'upper right', 'lower left', ...\n",
    "plt.xlabel('Data point')\n",
    "plt.ylabel('Power consumption ($pA$)')\n",
    "plt.title('Total Power consumption', fontsize=14)\n",
    "\n",
    "# plt.savefig(f'Results/Other/power_consumption_total_{n}x{m}_noise_std={noise_std}_sampling={sampling_interval}.png', dpi=200)\n",
    "plt.show()\n",
    "\n",
    "# Plot power consumption of one row through time\n",
    "line_length = m * (power_product_gates.shape[1] + power_sum_gates.shape[1])\n",
    "X = np.arange(line_length)\n",
    "y = df.iloc[0][:line_length]\n",
    "\n",
    "# Plot line\n",
    "plt.figure(figsize=(16, 4))\n",
    "plt.plot(X, y, '-', label='Record 0') # colors: b,g,r,c,m,y,k,w\n",
    "plt.xlim(X.min(), X.max()*1.01)\n",
    "# plt.ylim(y.min()*0.925, y.max()*1.075)\n",
    "plt.xticks(np.arange(0, line_length+1, 25))\n",
    "# plt.yticks(np.arange(6, 16.1, 2))\n",
    "\n",
    "# Set labels\n",
    "plt.legend() # loc='best', 'upper right', 'lower left', ...\n",
    "plt.xlabel('Data point')\n",
    "plt.ylabel('Power consumption ($pA$)')\n",
    "plt.title('Power consumption of one row', fontsize=14)\n",
    "\n",
    "# plt.savefig(f'Results/Other/power_consumption_one_row_{n}x{m}_noise_std={noise_std}_sampling={sampling_interval}.png', dpi=200)\n",
    "plt.show()"
   ]
  },
  {
   "cell_type": "code",
   "execution_count": null,
   "id": "fa7067fe",
   "metadata": {
    "code_folding": [
     0
    ],
    "scrolled": true
   },
   "outputs": [],
   "source": [
    "# # Drop columns with equal values (worthless with noise)\n",
    "# def duplicate_columns(df):\n",
    "#     groups = df.columns.to_series().groupby(df.dtypes).groups\n",
    "#     dups = []\n",
    "#     for t, v in groups.items():\n",
    "#         dcols = df[v].to_dict(orient='list')\n",
    "#         vs = list(dcols.values())\n",
    "#         ks = list(dcols.keys())\n",
    "#         for i in range(len(vs)):\n",
    "#             for j in range(i+1, len(vs)):\n",
    "#                 if vs[i] == vs[j]: \n",
    "#                     dups.append(ks[i])\n",
    "#                     break\n",
    "#     if dups: print('Duplicate columns:', *dups)\n",
    "#     return dups\n",
    "\n",
    "# df.drop(duplicate_columns(df), axis=1, inplace=True)\n",
    "# np.around(df, 3)"
   ]
  },
  {
   "cell_type": "code",
   "execution_count": null,
   "id": "2e9b72f0",
   "metadata": {
    "code_folding": [
     0
    ]
   },
   "outputs": [],
   "source": [
    "# # Check some trends in data (turn off numba engine first)\n",
    "# pd.set_option('compute.use_numba', False)\n",
    "# df2 = df.copy()\n",
    "# df2.intent = [90] # More_1_than_0\n",
    "# display(df2)\n",
    "# pd.set_option('compute.use_numba', True)"
   ]
  },
  {
   "cell_type": "code",
   "execution_count": null,
   "id": "e2079e6b",
   "metadata": {
    "code_folding": [
     0
    ]
   },
   "outputs": [],
   "source": [
    "# # Generate pandas profiling report\n",
    "# profile = ProfileReport(\n",
    "#     df, title=f'More_1s_or_0s Low_Sampling={sampling_interval}_Noisy_Power_per_Gate noise_std={noise_std} Dataset Report',\n",
    "#     explorative=True)\n",
    "# # profile.to_widgets()\n",
    "# profile.to_file(f'Docs/More_1s_or_0s_-_Low_Sampling={sampling_interval}_Noisy_Power_per_Gate_noisestd={noise_std}_report.html')"
   ]
  },
  {
   "cell_type": "markdown",
   "id": "d8493810",
   "metadata": {},
   "source": [
    "### Split data"
   ]
  },
  {
   "cell_type": "code",
   "execution_count": 24,
   "id": "0d8996cb",
   "metadata": {
    "ExecuteTime": {
     "end_time": "2022-04-04T17:51:35.246438Z",
     "start_time": "2022-04-04T17:51:34.540395Z"
    }
   },
   "outputs": [
    {
     "name": "stdout",
     "output_type": "stream",
     "text": [
      "Trues in train set: 49.74%\n",
      "Trues in test set:  49.75%\n"
     ]
    }
   ],
   "source": [
    "# Split data into training & test set\n",
    "X = np.asarray(df.drop(class_index, axis=1), order='C')\n",
    "y = np.asarray(df[class_index], order='C')\n",
    "assert X.flags['C_CONTIGUOUS']\n",
    "assert y.flags['C_CONTIGUOUS']\n",
    "\n",
    "X_train, X_test, y_train, y_test = train_test_split(X, y, test_size=0.2, stratify=y, random_state=seed)\n",
    "\n",
    "print(f'Trues in train set: {y_train.mean():.2%}\\n'\n",
    "      f'Trues in test set:  {y_test.mean():.2%}')"
   ]
  },
  {
   "cell_type": "code",
   "execution_count": null,
   "id": "c00edb0a",
   "metadata": {},
   "outputs": [],
   "source": [
    "# Save test set\n",
    "test_set = {'X_test': X_test,\n",
    "            'y_test': y_test}\n",
    "joblib.dump(test_set, f'Data/test_set_{nb_name}_{n}x{m}_noise_std={noise_std}_sampling={sampling_interval}.joblib', compress=3)"
   ]
  },
  {
   "cell_type": "code",
   "execution_count": null,
   "id": "bac12282",
   "metadata": {},
   "outputs": [],
   "source": [
    "# Delete unused variables to free some memory\n",
    "del df, data_low_sampling, X, y"
   ]
  },
  {
   "cell_type": "markdown",
   "id": "6e0648c2",
   "metadata": {},
   "source": [
    "## Classifiers"
   ]
  },
  {
   "cell_type": "markdown",
   "id": "41f4f223",
   "metadata": {},
   "source": [
    "### Functions to train & test models"
   ]
  },
  {
   "cell_type": "code",
   "execution_count": 23,
   "id": "a692c4af",
   "metadata": {
    "ExecuteTime": {
     "end_time": "2022-03-11T17:31:24.682456Z",
     "start_time": "2022-03-11T17:31:24.672470Z"
    },
    "code_folding": []
   },
   "outputs": [],
   "source": [
    "# Train model with stratified k-fold cross-validation & get statistics\n",
    "def Train_stratCV(model, X, y, n_splits=5, seed=seed):\n",
    "    start_time = timeit.default_timer()\n",
    "    lst_acc = []\n",
    "    skf = StratifiedKFold(n_splits, shuffle=True, random_state=seed)\n",
    "\n",
    "    # Train & test each fold\n",
    "    for train_idx, test_idx in skf.split(X, y):\n",
    "        x_train_fold, x_test_fold = X[train_idx], X[test_idx]\n",
    "        y_train_fold, y_test_fold = y[train_idx], y[test_idx]\n",
    "        model.fit(x_train_fold, y_train_fold)\n",
    "        lst_acc.append(model.score(x_test_fold, y_test_fold))\n",
    "\n",
    "    delta_time = timedelta(seconds=round(timeit.default_timer()-start_time))\n",
    "    print(f'\\nList of accuracies: {np.around(lst_acc, 4) * 100}\\n'\n",
    "          # f'Min/max accuracy:   {min(lst_acc):6.2%} <---> {max(lst_acc):6.2%}\\n'\n",
    "          f'Mean accuracy:      {np.mean(lst_acc):6.2%} +- {np.std(lst_acc):6.3%}\\n'\n",
    "          f'Executed in:        {delta_time}')\n",
    "\n",
    "    return lst_acc"
   ]
  },
  {
   "cell_type": "code",
   "execution_count": 24,
   "id": "fd3c045d",
   "metadata": {
    "ExecuteTime": {
     "end_time": "2022-03-11T17:31:25.394269Z",
     "start_time": "2022-03-11T17:31:25.381269Z"
    }
   },
   "outputs": [],
   "source": [
    "# Test different parameters\n",
    "    # ***** use grid search\n",
    "def test_eta0(model, low, up, X, y, seed):\n",
    "    best_eta0, best_acc = 0., 0.\n",
    "\n",
    "    for i in np.arange(up-1, low-1, -1):\n",
    "        model.eta0 = 10.**i\n",
    "        lst_acc = Train_stratCV(model, X, y, 5, seed)\n",
    "        print(f'eta0 = {model.eta0:.0e}')\n",
    "\n",
    "        current_acc = np.mean(lst_acc)\n",
    "        if current_acc > best_acc or (current_acc == best_acc and model.eta0 > best_eta0):\n",
    "            best_acc  = current_acc\n",
    "            best_eta0 = model.eta0\n",
    "\n",
    "    print(f'\\nBest accuracy: {best_acc:.2%} ---> eta0 = {best_eta0:.0e}')\n",
    "    return best_eta0\n",
    "\n",
    "def test_coef0(model, low, up, X, y, seed):\n",
    "    best_coef0, best_acc = 0., 0.\n",
    "\n",
    "    for i in np.arange(low, up, 1):\n",
    "        model.coef0 = i\n",
    "        lst_acc = Train_stratCV(model, X, y, 5, seed)\n",
    "        print(f'coef0 = {model.coef0}')\n",
    "\n",
    "        current_acc = np.mean(lst_acc)\n",
    "        if current_acc > best_acc:\n",
    "            best_acc   = current_acc\n",
    "            best_coef0 = model.coef0\n",
    "\n",
    "    print(f'\\nBest accuracy: {best_acc:.2%} ---> coef0 = {best_coef0}')\n",
    "    return best_coef0\n",
    "\n",
    "def test_trees(model, X, y, seed, criterion=['gini'], max_depth=[None], max_features=[None], max_leaf_nodes=[None],\n",
    "               min_impurity_decrease=[0.]):\n",
    "    best_par = []\n",
    "    best_acc = 0.\n",
    "    for crit in criterion:\n",
    "        model.criterion = crit\n",
    "        for md in max_depth:\n",
    "            model.max_depth = md\n",
    "            for mf in max_features:\n",
    "                model.max_features = mf\n",
    "                for mln in max_leaf_nodes:\n",
    "                    model.max_leaf_nodes = mln\n",
    "                    for mid in min_impurity_decrease:\n",
    "                        model.min_impurity_decrease = mid\n",
    "                        lst_acc = Train_stratCV(model, X, y, 5, seed)\n",
    "                        print(f'{crit}, {md}, {mf}, {mln}, {mid:.0e}')\n",
    "\n",
    "                        current_acc = np.mean(lst_acc)\n",
    "                        if current_acc > best_acc:\n",
    "                            best_acc = current_acc\n",
    "                            best_par = crit, md, mf, mln, mid\n",
    "\n",
    "    print(f'\\nBest accuracy:          {best_acc:.2%}\\n'\n",
    "          f'criterion             = {best_par[0]}\\n'\n",
    "          f'max_depth             = {best_par[1]}\\n'\n",
    "          f'max_features          = {best_par[2]}\\n'\n",
    "          f'max_leaf_nodes        = {best_par[3]}\\n'\n",
    "          f'min_impurity_decrease = {best_par[4]:.0e}')\n",
    "    return best_par"
   ]
  },
  {
   "cell_type": "code",
   "execution_count": 25,
   "id": "85811ad8",
   "metadata": {
    "ExecuteTime": {
     "end_time": "2022-03-11T17:31:26.056470Z",
     "start_time": "2022-03-11T17:31:26.042579Z"
    },
    "code_folding": []
   },
   "outputs": [],
   "source": [
    "# Get prediction statistics\n",
    "def get_statistics(model, X_test, y_test, model_name, prob=False):\n",
    "    print(f'Mean accuracy on test set:      {model.score(X_test, y_test):.2%}')\n",
    "    if prob:\n",
    "        y_prob = model.predict_proba(X_test)\n",
    "        print(f'Mean certainty (even if wrong): {np.mean(np.max(y_prob, axis=1)):.2%}')\n",
    "\n",
    "    y_pred = model.predict(X_test)\n",
    "    cm = confusion_matrix(y_test, y_pred)\n",
    "    # print('\\nConfusion matrix: \\n', cm, '\\n')\n",
    "    print('\\nReport: \\n', classification_report(y_test, y_pred, digits=3))\n",
    "\n",
    "    # Plot confusion matrix\n",
    "    print('Confusion matrix:')\n",
    "    fig, ax = plt.subplots(figsize=(3, 2))\n",
    "    ConfusionMatrixDisplay(cm).plot(values_format='d', cmap='Blues', colorbar=False, ax=ax)\n",
    "    ax.set(xlabel='Predicted label', ylabel='True label')\n",
    "    ax.grid(False)\n",
    "    plt.savefig(f'Results/Other/confusion_matrix_{model_name}_{nb_name}_{n}x{m}_noise_std={noise_std}_sampling={sampling_interval}.png', dpi=200)\n",
    "    plt.show()"
   ]
  },
  {
   "cell_type": "markdown",
   "id": "4fd5d621",
   "metadata": {},
   "source": [
    "### Logistic regression"
   ]
  },
  {
   "cell_type": "code",
   "execution_count": 19,
   "id": "9209a7fc",
   "metadata": {
    "ExecuteTime": {
     "end_time": "2022-03-11T17:30:39.365244Z",
     "start_time": "2022-03-11T17:30:39.352302Z"
    }
   },
   "outputs": [],
   "source": [
    "model = LogisticRegression(solver='lbfgs', penalty='l2', C=1., tol=1e-3, max_iter=1e4, n_jobs=-1, random_state=seed, verbose=0)\n",
    "# model = LogisticRegression(solver='saga', penalty='l2', C=1., tol=1e-3, max_iter=1e4, n_jobs=-1, random_state=seed, verbose=-1)\n",
    "# Select hyperparameters\n",
    "# ***** test solver & C"
   ]
  },
  {
   "cell_type": "code",
   "execution_count": 20,
   "id": "be27206e",
   "metadata": {
    "ExecuteTime": {
     "end_time": "2022-03-11T17:30:40.625011Z",
     "start_time": "2022-03-11T17:30:40.388697Z"
    }
   },
   "outputs": [],
   "source": [
    "# Train with full training set\n",
    "model.fit(X_train, y_train)\n",
    "# lst_acc, lst_wrong_keys = Train_stratCV(model, X_train, y_train, 5, seed)\n",
    "\n",
    "# Save model\n",
    "model_name = 'LR1'\n",
    "joblib.dump(model, f'Results/Models/model_{model_name}_{nb_name}_{n}x{m}_noise_std={noise_std}_sampling={sampling_interval}.joblib');"
   ]
  },
  {
   "cell_type": "code",
   "execution_count": 21,
   "id": "c4d41a79",
   "metadata": {
    "ExecuteTime": {
     "end_time": "2022-03-11T17:30:47.090178Z",
     "start_time": "2022-03-11T17:30:46.804659Z"
    },
    "collapsed": true
   },
   "outputs": [
    {
     "name": "stdout",
     "output_type": "stream",
     "text": [
      "Mean accuracy on test set:      98.50%\n",
      "Mean certainty (even if wrong): 92.01%\n",
      "\n",
      "Report: \n",
      "               precision    recall  f1-score   support\n",
      "\n",
      "       False      0.980     0.990     0.985        99\n",
      "        True      0.990     0.980     0.985       101\n",
      "\n",
      "    accuracy                          0.985       200\n",
      "   macro avg      0.985     0.985     0.985       200\n",
      "weighted avg      0.985     0.985     0.985       200\n",
      "\n",
      "Confusion matrix:\n"
     ]
    },
    {
     "data": {
      "image/png": "[encoded data removed]",
      "text/plain": [
       "<Figure size 216x144 with 1 Axes>"
      ]
     },
     "metadata": {},
     "output_type": "display_data"
    }
   ],
   "source": [
    "# Get prediction statistics\n",
    "get_statistics(model, X_test, y_test, model_name, prob=True)"
   ]
  },
  {
   "cell_type": "code",
   "execution_count": 27,
   "id": "c061d4bd",
   "metadata": {
    "ExecuteTime": {
     "end_time": "2022-03-11T17:31:54.794247Z",
     "start_time": "2022-03-11T17:31:39.200158Z"
    },
    "collapsed": true
   },
   "outputs": [
    {
     "name": "stdout",
     "output_type": "stream",
     "text": [
      "\n",
      "List of accuracies: [76.25 83.12 75.   82.5  84.38]\n",
      "Mean accuracy:      80.25% +- 3.845%\n",
      "Executed in:        0:00:01\n",
      "eta0 = 1e+05\n",
      "\n",
      "List of accuracies: [76.25 85.   85.62 83.12 84.38]\n",
      "Mean accuracy:      82.88% +- 3.414%\n",
      "Executed in:        0:00:01\n",
      "eta0 = 1e+04\n",
      "\n",
      "List of accuracies: [77.5  79.38 76.25 82.5  83.75]\n",
      "Mean accuracy:      79.88% +- 2.861%\n",
      "Executed in:        0:00:03\n",
      "eta0 = 1e+03\n",
      "\n",
      "List of accuracies: [75.   81.25 75.   83.75 85.  ]\n",
      "Mean accuracy:      80.00% +- 4.257%\n",
      "Executed in:        0:00:01\n",
      "eta0 = 1e+02\n",
      "\n",
      "List of accuracies: [75.   81.25 75.62 84.38 83.75]\n",
      "Mean accuracy:      80.00% +- 3.973%\n",
      "Executed in:        0:00:02\n",
      "eta0 = 1e+01\n",
      "\n",
      "List of accuracies: [75.62 79.38 75.   81.88 82.5 ]\n",
      "Mean accuracy:      78.88% +- 3.097%\n",
      "Executed in:        0:00:05\n",
      "eta0 = 1e+00\n",
      "\n",
      "List of accuracies: [75.   80.   73.12 82.5  85.  ]\n",
      "Mean accuracy:      79.12% +- 4.465%\n",
      "Executed in:        0:00:01\n",
      "eta0 = 1e-01\n",
      "\n",
      "List of accuracies: [75.   80.   75.62 84.38 84.38]\n",
      "Mean accuracy:      79.88% +- 4.058%\n",
      "Executed in:        0:00:00\n",
      "eta0 = 1e-02\n",
      "\n",
      "List of accuracies: [75.62 80.   76.25 85.   83.12]\n",
      "Mean accuracy:      80.00% +- 3.687%\n",
      "Executed in:        0:00:00\n",
      "eta0 = 1e-03\n",
      "\n",
      "List of accuracies: [75.   76.25 76.88 85.   81.88]\n",
      "Mean accuracy:      79.00% +- 3.804%\n",
      "Executed in:        0:00:00\n",
      "eta0 = 1e-04\n",
      "\n",
      "List of accuracies: [75.   75.   75.62 81.25 81.88]\n",
      "Mean accuracy:      77.75% +- 3.127%\n",
      "Executed in:        0:00:00\n",
      "eta0 = 1e-05\n",
      "\n",
      "Best accuracy: 82.88% ---> eta0 = 1e+04\n"
     ]
    }
   ],
   "source": [
    "model = SGDClassifier(loss='log', learning_rate='adaptive', eta0=1., tol=1e-3, max_iter=1e4, n_jobs=-1, random_state=seed,\n",
    "                      verbose=0)\n",
    "# Select hyperparameters\n",
    "# ***** test alpha\n",
    "model.eta0 = test_eta0(model, -5, 6, X_train, y_train, seed)"
   ]
  },
  {
   "cell_type": "code",
   "execution_count": 28,
   "id": "ccb28987",
   "metadata": {
    "ExecuteTime": {
     "end_time": "2022-03-11T17:32:55.628775Z",
     "start_time": "2022-03-11T17:32:55.481014Z"
    },
    "code_folding": [
     0
    ]
   },
   "outputs": [],
   "source": [
    "# Train with full training set\n",
    "model.fit(X_train, y_train)\n",
    "# lst_acc = Train_stratCV(model, X_train, y_train, 5, seed)\n",
    "\n",
    "# Save model\n",
    "model_name = 'LR2'\n",
    "joblib.dump(model, f'Results/Models/model_{model_name}_{nb_name}_{n}x{m}_noise_std={noise_std}_sampling={sampling_interval}.joblib');"
   ]
  },
  {
   "cell_type": "code",
   "execution_count": 29,
   "id": "4a8a5972",
   "metadata": {
    "ExecuteTime": {
     "end_time": "2022-03-11T17:32:57.265440Z",
     "start_time": "2022-03-11T17:32:57.084446Z"
    },
    "collapsed": true
   },
   "outputs": [
    {
     "name": "stdout",
     "output_type": "stream",
     "text": [
      "Mean accuracy on test set:      86.00%\n",
      "Mean certainty (even if wrong): 99.97%\n",
      "\n",
      "Report: \n",
      "               precision    recall  f1-score   support\n",
      "\n",
      "       False      0.845     0.879     0.861        99\n",
      "        True      0.876     0.842     0.859       101\n",
      "\n",
      "    accuracy                          0.860       200\n",
      "   macro avg      0.860     0.860     0.860       200\n",
      "weighted avg      0.861     0.860     0.860       200\n",
      "\n",
      "Confusion matrix:\n"
     ]
    },
    {
     "data": {
      "image/png": "[encoded data removed]",
      "text/plain": [
       "<Figure size 216x144 with 1 Axes>"
      ]
     },
     "metadata": {},
     "output_type": "display_data"
    }
   ],
   "source": [
    "# Get prediction statistics\n",
    "get_statistics(model, X_test, y_test, model_name, prob=True)"
   ]
  },
  {
   "cell_type": "markdown",
   "id": "ffb1c7b7",
   "metadata": {},
   "source": [
    "### SVM"
   ]
  },
  {
   "cell_type": "markdown",
   "id": "095d5cfa",
   "metadata": {},
   "source": [
    "#### Linear kernel"
   ]
  },
  {
   "cell_type": "code",
   "execution_count": 30,
   "id": "fec39e74",
   "metadata": {
    "ExecuteTime": {
     "end_time": "2022-03-11T17:33:14.688457Z",
     "start_time": "2022-03-11T17:33:14.670438Z"
    }
   },
   "outputs": [],
   "source": [
    "model = SVC(kernel='linear', probability=False, tol=1e-3, max_iter=-1, cache_size=1000, random_state=seed, verbose=True)\n",
    "# Select hyperparameters\n",
    "# ***** test C"
   ]
  },
  {
   "cell_type": "code",
   "execution_count": 31,
   "id": "a00be2cf",
   "metadata": {
    "ExecuteTime": {
     "end_time": "2022-03-11T17:33:24.317550Z",
     "start_time": "2022-03-11T17:33:23.912069Z"
    },
    "code_folding": [
     0
    ]
   },
   "outputs": [],
   "source": [
    "# Train with full training set\n",
    "model.fit(X_train, y_train)\n",
    "# lst_acc = Train_stratCV(model, X_train, y_train, 5, seed)\n",
    "\n",
    "# Save model\n",
    "model_name = 'SVM_linear1'\n",
    "joblib.dump(model, f'Results/Models/model_{model_name}_{nb_name}_{n}x{m}_noise_std={noise_std}_sampling={sampling_interval}.joblib');"
   ]
  },
  {
   "cell_type": "code",
   "execution_count": 32,
   "id": "70ef6569",
   "metadata": {
    "ExecuteTime": {
     "end_time": "2022-03-11T17:33:25.274464Z",
     "start_time": "2022-03-11T17:33:25.130948Z"
    },
    "collapsed": true
   },
   "outputs": [
    {
     "name": "stdout",
     "output_type": "stream",
     "text": [
      "Mean accuracy on test set:      100.00%\n",
      "\n",
      "Report: \n",
      "               precision    recall  f1-score   support\n",
      "\n",
      "       False      1.000     1.000     1.000        99\n",
      "        True      1.000     1.000     1.000       101\n",
      "\n",
      "    accuracy                          1.000       200\n",
      "   macro avg      1.000     1.000     1.000       200\n",
      "weighted avg      1.000     1.000     1.000       200\n",
      "\n",
      "Confusion matrix:\n"
     ]
    },
    {
     "data": {
      "image/png": "[encoded data removed]",
      "text/plain": [
       "<Figure size 216x144 with 1 Axes>"
      ]
     },
     "metadata": {},
     "output_type": "display_data"
    }
   ],
   "source": [
    "# Get prediction statistics\n",
    "get_statistics(model, X_test, y_test, model_name)"
   ]
  },
  {
   "cell_type": "code",
   "execution_count": 36,
   "id": "2f451769",
   "metadata": {
    "ExecuteTime": {
     "end_time": "2022-03-11T17:33:54.276908Z",
     "start_time": "2022-03-11T17:33:54.264852Z"
    }
   },
   "outputs": [],
   "source": [
    "model = LinearSVC(loss='squared_hinge', dual=False, tol=1e-3, max_iter=1e4, random_state=seed, verbose=1)\n",
    "# Select hyperparameters\n",
    "# ***** test C"
   ]
  },
  {
   "cell_type": "code",
   "execution_count": 37,
   "id": "2042b4e6",
   "metadata": {
    "ExecuteTime": {
     "end_time": "2022-03-11T17:33:55.504638Z",
     "start_time": "2022-03-11T17:33:55.383003Z"
    },
    "code_folding": [
     0
    ]
   },
   "outputs": [
    {
     "name": "stdout",
     "output_type": "stream",
     "text": [
      "[LibLinear]"
     ]
    }
   ],
   "source": [
    "# Train with full training set\n",
    "model.fit(X_train, y_train)\n",
    "# lst_acc = Train_stratCV(model, X_train, y_train, 5, seed)\n",
    "\n",
    "# Save model\n",
    "model_name = 'SVM_linear2'\n",
    "joblib.dump(model, f'Results/Models/model_{model_name}_{nb_name}_{n}x{m}_noise_std={noise_std}_sampling={sampling_interval}.joblib');"
   ]
  },
  {
   "cell_type": "code",
   "execution_count": 38,
   "id": "5cf31d85",
   "metadata": {
    "ExecuteTime": {
     "end_time": "2022-03-11T17:33:56.354787Z",
     "start_time": "2022-03-11T17:33:56.153075Z"
    },
    "collapsed": true
   },
   "outputs": [
    {
     "name": "stdout",
     "output_type": "stream",
     "text": [
      "Mean accuracy on test set:      100.00%\n",
      "\n",
      "Report: \n",
      "               precision    recall  f1-score   support\n",
      "\n",
      "       False      1.000     1.000     1.000        99\n",
      "        True      1.000     1.000     1.000       101\n",
      "\n",
      "    accuracy                          1.000       200\n",
      "   macro avg      1.000     1.000     1.000       200\n",
      "weighted avg      1.000     1.000     1.000       200\n",
      "\n",
      "Confusion matrix:\n"
     ]
    },
    {
     "data": {
      "image/png": "[encoded data removed]",
      "text/plain": [
       "<Figure size 216x144 with 1 Axes>"
      ]
     },
     "metadata": {},
     "output_type": "display_data"
    }
   ],
   "source": [
    "# Get prediction statistics\n",
    "get_statistics(model, X_test, y_test, model_name)"
   ]
  },
  {
   "cell_type": "code",
   "execution_count": 39,
   "id": "2cf151a6",
   "metadata": {
    "ExecuteTime": {
     "end_time": "2022-03-11T17:34:06.000262Z",
     "start_time": "2022-03-11T17:34:05.989265Z"
    }
   },
   "outputs": [],
   "source": [
    "model = LinearSVC(loss='squared_hinge', dual=True, tol=1e-3, max_iter=1e4, random_state=seed, verbose=1)\n",
    "# Select hyperparameters\n",
    "# ***** test C"
   ]
  },
  {
   "cell_type": "code",
   "execution_count": 40,
   "id": "c58005fc",
   "metadata": {
    "ExecuteTime": {
     "end_time": "2022-03-11T17:34:09.494010Z",
     "start_time": "2022-03-11T17:34:06.709551Z"
    },
    "code_folding": [
     0
    ],
    "collapsed": true
   },
   "outputs": [
    {
     "name": "stdout",
     "output_type": "stream",
     "text": [
      "[LibLinear]"
     ]
    },
    {
     "name": "stderr",
     "output_type": "stream",
     "text": [
      "C:\\Users\\V082335\\Anaconda3\\envs\\azure\\lib\\site-packages\\sklearn\\svm\\_base.py:986: ConvergenceWarning: Liblinear failed to converge, increase the number of iterations.\n",
      "  \"the number of iterations.\", ConvergenceWarning)\n"
     ]
    }
   ],
   "source": [
    "# Train with full training set\n",
    "model.fit(X_train, y_train)\n",
    "# lst_acc = Train_stratCV(model, X_train, y_train, 5, seed)\n",
    "\n",
    "# Save model\n",
    "model_name = 'SVM_linear3'\n",
    "joblib.dump(model, f'Results/Models/model_{model_name}_{nb_name}_{n}x{m}_noise_std={noise_std}_sampling={sampling_interval}.joblib');"
   ]
  },
  {
   "cell_type": "code",
   "execution_count": 41,
   "id": "0c600bfc",
   "metadata": {
    "ExecuteTime": {
     "end_time": "2022-03-11T17:34:10.264631Z",
     "start_time": "2022-03-11T17:34:10.078111Z"
    },
    "collapsed": true
   },
   "outputs": [
    {
     "name": "stdout",
     "output_type": "stream",
     "text": [
      "Mean accuracy on test set:      100.00%\n",
      "\n",
      "Report: \n",
      "               precision    recall  f1-score   support\n",
      "\n",
      "       False      1.000     1.000     1.000        99\n",
      "        True      1.000     1.000     1.000       101\n",
      "\n",
      "    accuracy                          1.000       200\n",
      "   macro avg      1.000     1.000     1.000       200\n",
      "weighted avg      1.000     1.000     1.000       200\n",
      "\n",
      "Confusion matrix:\n"
     ]
    },
    {
     "data": {
      "image/png": "[encoded data removed]",
      "text/plain": [
       "<Figure size 216x144 with 1 Axes>"
      ]
     },
     "metadata": {},
     "output_type": "display_data"
    }
   ],
   "source": [
    "# Get prediction statistics\n",
    "get_statistics(model, X_test, y_test, model_name)"
   ]
  },
  {
   "cell_type": "code",
   "execution_count": 33,
   "id": "74d7f70f",
   "metadata": {
    "ExecuteTime": {
     "end_time": "2022-03-11T17:33:39.986404Z",
     "start_time": "2022-03-11T17:33:34.467340Z"
    },
    "collapsed": true
   },
   "outputs": [
    {
     "name": "stdout",
     "output_type": "stream",
     "text": [
      "\n",
      "List of accuracies: [75.   80.   73.75 83.75 84.38]\n",
      "Mean accuracy:      79.38% +- 4.366%\n",
      "Executed in:        0:00:02\n",
      "eta0 = 1e+05\n",
      "\n",
      "List of accuracies: [75.62 81.88 80.   81.88 84.38]\n",
      "Mean accuracy:      80.75% +- 2.915%\n",
      "Executed in:        0:00:00\n",
      "eta0 = 1e+04\n",
      "\n",
      "List of accuracies: [75.   81.88 75.62 84.38 84.38]\n",
      "Mean accuracy:      80.25% +- 4.138%\n",
      "Executed in:        0:00:01\n",
      "eta0 = 1e+03\n",
      "\n",
      "List of accuracies: [76.25 80.62 76.25 85.   83.75]\n",
      "Mean accuracy:      80.38% +- 3.657%\n",
      "Executed in:        0:00:00\n",
      "eta0 = 1e+02\n",
      "\n",
      "List of accuracies: [75.62 83.75 75.62 83.12 83.12]\n",
      "Mean accuracy:      80.25% +- 3.783%\n",
      "Executed in:        0:00:00\n",
      "eta0 = 1e+01\n",
      "\n",
      "List of accuracies: [76.25 80.   75.62 83.75 85.  ]\n",
      "Mean accuracy:      80.12% +- 3.800%\n",
      "Executed in:        0:00:01\n",
      "eta0 = 1e+00\n",
      "\n",
      "List of accuracies: [75.62 78.12 75.62 82.5  83.75]\n",
      "Mean accuracy:      79.12% +- 3.414%\n",
      "Executed in:        0:00:00\n",
      "eta0 = 1e-01\n",
      "\n",
      "List of accuracies: [75.   80.   74.38 81.88 84.38]\n",
      "Mean accuracy:      79.12% +- 3.885%\n",
      "Executed in:        0:00:00\n",
      "eta0 = 1e-02\n",
      "\n",
      "List of accuracies: [75.   80.62 75.   85.62 81.88]\n",
      "Mean accuracy:      79.62% +- 4.119%\n",
      "Executed in:        0:00:00\n",
      "eta0 = 1e-03\n",
      "\n",
      "List of accuracies: [74.38 77.5  78.75 83.75 82.5 ]\n",
      "Mean accuracy:      79.38% +- 3.400%\n",
      "Executed in:        0:00:00\n",
      "eta0 = 1e-04\n",
      "\n",
      "List of accuracies: [73.75 76.88 76.25 83.75 78.75]\n",
      "Mean accuracy:      77.88% +- 3.345%\n",
      "Executed in:        0:00:00\n",
      "eta0 = 1e-05\n",
      "\n",
      "Best accuracy: 80.75% ---> eta0 = 1e+04\n"
     ]
    }
   ],
   "source": [
    "model = SGDClassifier(loss='hinge', learning_rate='adaptive', eta0=1., tol=1e-3, max_iter=1e4, n_jobs=-1, random_state=seed,\n",
    "                      verbose=0)\n",
    "# Select hyperparameters\n",
    "# ***** test alpha\n",
    "model.eta0 = test_eta0(model, -5, 6, X_train, y_train, seed)"
   ]
  },
  {
   "cell_type": "code",
   "execution_count": 34,
   "id": "6c8a4956",
   "metadata": {
    "ExecuteTime": {
     "end_time": "2022-03-11T17:33:43.427183Z",
     "start_time": "2022-03-11T17:33:43.310771Z"
    },
    "code_folding": [
     0
    ]
   },
   "outputs": [],
   "source": [
    "# Train with full training set\n",
    "model.fit(X_train, y_train)\n",
    "# lst_acc = Train_stratCV(model, X_train, y_train, 5, seed)\n",
    "\n",
    "# Save model\n",
    "model_name = 'SVM_linear4'\n",
    "joblib.dump(model, f'Results/Models/model_{model_name}_{nb_name}_{n}x{m}_noise_std={noise_std}_sampling={sampling_interval}.joblib');"
   ]
  },
  {
   "cell_type": "code",
   "execution_count": 35,
   "id": "20ce6253",
   "metadata": {
    "ExecuteTime": {
     "end_time": "2022-03-11T17:33:45.935426Z",
     "start_time": "2022-03-11T17:33:45.771430Z"
    },
    "collapsed": true
   },
   "outputs": [
    {
     "name": "stdout",
     "output_type": "stream",
     "text": [
      "Mean accuracy on test set:      89.50%\n",
      "\n",
      "Report: \n",
      "               precision    recall  f1-score   support\n",
      "\n",
      "       False      0.875     0.919     0.897        99\n",
      "        True      0.917     0.871     0.893       101\n",
      "\n",
      "    accuracy                          0.895       200\n",
      "   macro avg      0.896     0.895     0.895       200\n",
      "weighted avg      0.896     0.895     0.895       200\n",
      "\n",
      "Confusion matrix:\n"
     ]
    },
    {
     "data": {
      "image/png": "[encoded data removed]",
      "text/plain": [
       "<Figure size 216x144 with 1 Axes>"
      ]
     },
     "metadata": {},
     "output_type": "display_data"
    }
   ],
   "source": [
    "# Get prediction statistics\n",
    "get_statistics(model, X_test, y_test, model_name)"
   ]
  },
  {
   "cell_type": "markdown",
   "id": "d8aa52a1",
   "metadata": {},
   "source": [
    "#### Gaussian kernel"
   ]
  },
  {
   "cell_type": "code",
   "execution_count": 42,
   "id": "9b85a04e",
   "metadata": {
    "ExecuteTime": {
     "end_time": "2022-03-11T17:34:16.664505Z",
     "start_time": "2022-03-11T17:34:16.646524Z"
    }
   },
   "outputs": [],
   "source": [
    "model = SVC(kernel='rbf', gamma='scale', probability=False, tol=1e-3, max_iter=-1, cache_size=1000, random_state=seed,\n",
    "            verbose=True)\n",
    "# Select hyperparameters\n",
    "# ***** test C"
   ]
  },
  {
   "cell_type": "code",
   "execution_count": 43,
   "id": "089e66db",
   "metadata": {
    "ExecuteTime": {
     "end_time": "2022-03-11T17:34:19.142896Z",
     "start_time": "2022-03-11T17:34:19.096099Z"
    },
    "code_folding": [
     0
    ]
   },
   "outputs": [],
   "source": [
    "# Train with full training set\n",
    "model.fit(X_train, y_train)\n",
    "# lst_acc = Train_stratCV(model, X_train, y_train, 5, seed)\n",
    "\n",
    "# Save model\n",
    "model_name = 'SVM_gaussian1'\n",
    "joblib.dump(model, f'Results/Models/model_{model_name}_{nb_name}_{n}x{m}_noise_std={noise_std}_sampling={sampling_interval}.joblib');"
   ]
  },
  {
   "cell_type": "code",
   "execution_count": 44,
   "id": "ca5d446d",
   "metadata": {
    "ExecuteTime": {
     "end_time": "2022-03-11T17:34:21.035560Z",
     "start_time": "2022-03-11T17:34:20.851514Z"
    },
    "collapsed": true
   },
   "outputs": [
    {
     "name": "stdout",
     "output_type": "stream",
     "text": [
      "Mean accuracy on test set:      88.00%\n",
      "\n",
      "Report: \n",
      "               precision    recall  f1-score   support\n",
      "\n",
      "       False      0.921     0.828     0.872        99\n",
      "        True      0.847     0.931     0.887       101\n",
      "\n",
      "    accuracy                          0.880       200\n",
      "   macro avg      0.884     0.879     0.880       200\n",
      "weighted avg      0.884     0.880     0.880       200\n",
      "\n",
      "Confusion matrix:\n"
     ]
    },
    {
     "data": {
      "image/png": "[encoded data removed]",
      "text/plain": [
       "<Figure size 216x144 with 1 Axes>"
      ]
     },
     "metadata": {},
     "output_type": "display_data"
    }
   ],
   "source": [
    "# Get prediction statistics\n",
    "get_statistics(model, X_test, y_test, model_name)"
   ]
  },
  {
   "cell_type": "code",
   "execution_count": 46,
   "id": "ae6cc033",
   "metadata": {
    "ExecuteTime": {
     "end_time": "2022-03-11T17:34:36.212134Z",
     "start_time": "2022-03-11T17:34:36.197133Z"
    }
   },
   "outputs": [],
   "source": [
    "model = SVC(kernel='rbf', gamma='auto', probability=False, tol=1e-3, max_iter=-1, cache_size=1000, random_state=seed,\n",
    "            verbose=True)\n",
    "# Select hyperparameters\n",
    "# ***** test C"
   ]
  },
  {
   "cell_type": "code",
   "execution_count": 47,
   "id": "68aa8d7e",
   "metadata": {
    "ExecuteTime": {
     "end_time": "2022-03-11T17:34:36.932355Z",
     "start_time": "2022-03-11T17:34:36.889279Z"
    },
    "code_folding": [
     0
    ]
   },
   "outputs": [],
   "source": [
    "# Train with full training set\n",
    "model.fit(X_train, y_train)\n",
    "# lst_acc = Train_stratCV(model, X_train, y_train, 5, seed)\n",
    "\n",
    "# Save model\n",
    "model_name = 'SVM_gaussian2'\n",
    "joblib.dump(model, f'Results/Models/model_{model_name}_{nb_name}_{n}x{m}_noise_std={noise_std}_sampling={sampling_interval}.joblib');"
   ]
  },
  {
   "cell_type": "code",
   "execution_count": 48,
   "id": "99f36f5d",
   "metadata": {
    "ExecuteTime": {
     "end_time": "2022-03-11T17:34:38.661913Z",
     "start_time": "2022-03-11T17:34:38.511141Z"
    },
    "collapsed": true
   },
   "outputs": [
    {
     "name": "stdout",
     "output_type": "stream",
     "text": [
      "Mean accuracy on test set:      87.50%\n",
      "\n",
      "Report: \n",
      "               precision    recall  f1-score   support\n",
      "\n",
      "       False      0.911     0.828     0.868        99\n",
      "        True      0.845     0.921     0.882       101\n",
      "\n",
      "    accuracy                          0.875       200\n",
      "   macro avg      0.878     0.875     0.875       200\n",
      "weighted avg      0.878     0.875     0.875       200\n",
      "\n",
      "Confusion matrix:\n"
     ]
    },
    {
     "data": {
      "image/png": "[encoded data removed]",
      "text/plain": [
       "<Figure size 216x144 with 1 Axes>"
      ]
     },
     "metadata": {},
     "output_type": "display_data"
    }
   ],
   "source": [
    "# Get prediction statistics\n",
    "get_statistics(model, X_test, y_test, model_name)"
   ]
  },
  {
   "cell_type": "markdown",
   "id": "3d130321",
   "metadata": {},
   "source": [
    "#### Polynomial kernel"
   ]
  },
  {
   "cell_type": "code",
   "execution_count": 49,
   "id": "6bc1973f",
   "metadata": {
    "ExecuteTime": {
     "end_time": "2022-03-11T17:35:26.371830Z",
     "start_time": "2022-03-11T17:35:25.403603Z"
    },
    "collapsed": true
   },
   "outputs": [
    {
     "name": "stdout",
     "output_type": "stream",
     "text": [
      "\n",
      "List of accuracies: [100. 100. 100. 100. 100.]\n",
      "Mean accuracy:      100.00% +- 0.000%\n",
      "Executed in:        0:00:00\n",
      "coef0 = -1\n",
      "\n",
      "List of accuracies: [100. 100. 100. 100. 100.]\n",
      "Mean accuracy:      100.00% +- 0.000%\n",
      "Executed in:        0:00:00\n",
      "coef0 = 0\n",
      "\n",
      "List of accuracies: [100. 100. 100. 100. 100.]\n",
      "Mean accuracy:      100.00% +- 0.000%\n",
      "Executed in:        0:00:00\n",
      "coef0 = 1\n",
      "\n",
      "Best accuracy: 100.00% ---> coef0 = -1\n"
     ]
    }
   ],
   "source": [
    "model = SVC(kernel='poly', degree=3, coef0=0., probability=False, tol=1e-3, max_iter=-1, cache_size=1000, random_state=seed,\n",
    "            verbose=True)\n",
    "# Select hyperparameters\n",
    "# ***** test C\n",
    "model.coef0 = test_coef0(model, -1, 2, X_train, y_train, seed)"
   ]
  },
  {
   "cell_type": "code",
   "execution_count": 50,
   "id": "b49a32f0",
   "metadata": {
    "ExecuteTime": {
     "end_time": "2022-03-11T17:35:29.186064Z",
     "start_time": "2022-03-11T17:35:29.086232Z"
    },
    "code_folding": [
     0
    ]
   },
   "outputs": [],
   "source": [
    "# Train with full training set\n",
    "model.fit(X_train, y_train)\n",
    "# lst_acc = Train_stratCV(model, X_train, y_train, 5, seed)\n",
    "\n",
    "# Save model\n",
    "model_name = 'SVM_poly1'\n",
    "joblib.dump(model, f'Results/Models/model_{model_name}_{nb_name}_{n}x{m}_noise_std={noise_std}_sampling={sampling_interval}.joblib');"
   ]
  },
  {
   "cell_type": "code",
   "execution_count": 51,
   "id": "c5ac5b92",
   "metadata": {
    "ExecuteTime": {
     "end_time": "2022-03-11T17:35:30.127515Z",
     "start_time": "2022-03-11T17:35:29.940706Z"
    },
    "collapsed": true
   },
   "outputs": [
    {
     "name": "stdout",
     "output_type": "stream",
     "text": [
      "Mean accuracy on test set:      100.00%\n",
      "\n",
      "Report: \n",
      "               precision    recall  f1-score   support\n",
      "\n",
      "       False      1.000     1.000     1.000        99\n",
      "        True      1.000     1.000     1.000       101\n",
      "\n",
      "    accuracy                          1.000       200\n",
      "   macro avg      1.000     1.000     1.000       200\n",
      "weighted avg      1.000     1.000     1.000       200\n",
      "\n",
      "Confusion matrix:\n"
     ]
    },
    {
     "data": {
      "image/png": "[encoded data removed]",
      "text/plain": [
       "<Figure size 216x144 with 1 Axes>"
      ]
     },
     "metadata": {},
     "output_type": "display_data"
    }
   ],
   "source": [
    "# Get prediction statistics\n",
    "get_statistics(model, X_test, y_test, model_name)"
   ]
  },
  {
   "cell_type": "code",
   "execution_count": 52,
   "id": "b611bb34",
   "metadata": {
    "ExecuteTime": {
     "end_time": "2022-03-11T17:35:38.709811Z",
     "start_time": "2022-03-11T17:35:37.993493Z"
    },
    "collapsed": true
   },
   "outputs": [
    {
     "name": "stdout",
     "output_type": "stream",
     "text": [
      "\n",
      "List of accuracies: [100. 100. 100. 100. 100.]\n",
      "Mean accuracy:      100.00% +- 0.000%\n",
      "Executed in:        0:00:00\n",
      "coef0 = -1\n",
      "\n",
      "List of accuracies: [100. 100. 100. 100. 100.]\n",
      "Mean accuracy:      100.00% +- 0.000%\n",
      "Executed in:        0:00:00\n",
      "coef0 = 0\n",
      "\n",
      "List of accuracies: [100. 100. 100. 100. 100.]\n",
      "Mean accuracy:      100.00% +- 0.000%\n",
      "Executed in:        0:00:00\n",
      "coef0 = 1\n",
      "\n",
      "Best accuracy: 100.00% ---> coef0 = -1\n"
     ]
    }
   ],
   "source": [
    "model = SVC(kernel='poly', degree=4, coef0=0., probability=False, tol=1e-3, max_iter=-1, cache_size=1000, random_state=seed,\n",
    "            verbose=True)\n",
    "# Select hyperparameters\n",
    "# ***** test C\n",
    "model.coef0 = test_coef0(model, -1, 2, X_train, y_train, seed)"
   ]
  },
  {
   "cell_type": "code",
   "execution_count": 53,
   "id": "31420f14",
   "metadata": {
    "ExecuteTime": {
     "end_time": "2022-03-11T17:35:39.383518Z",
     "start_time": "2022-03-11T17:35:39.322556Z"
    },
    "code_folding": [
     0
    ]
   },
   "outputs": [],
   "source": [
    "# Train with full training set\n",
    "model.fit(X_train, y_train)\n",
    "# lst_acc = Train_stratCV(model, X_train, y_train, 5, seed)\n",
    "\n",
    "# Save model\n",
    "model_name = 'SVM_poly2'\n",
    "joblib.dump(model, f'Results/Models/model_{model_name}_{nb_name}_{n}x{m}_noise_std={noise_std}_sampling={sampling_interval}.joblib');"
   ]
  },
  {
   "cell_type": "code",
   "execution_count": 54,
   "id": "b5d586bf",
   "metadata": {
    "ExecuteTime": {
     "end_time": "2022-03-11T17:35:40.165559Z",
     "start_time": "2022-03-11T17:35:40.011655Z"
    },
    "collapsed": true
   },
   "outputs": [
    {
     "name": "stdout",
     "output_type": "stream",
     "text": [
      "Mean accuracy on test set:      100.00%\n",
      "\n",
      "Report: \n",
      "               precision    recall  f1-score   support\n",
      "\n",
      "       False      1.000     1.000     1.000        99\n",
      "        True      1.000     1.000     1.000       101\n",
      "\n",
      "    accuracy                          1.000       200\n",
      "   macro avg      1.000     1.000     1.000       200\n",
      "weighted avg      1.000     1.000     1.000       200\n",
      "\n",
      "Confusion matrix:\n"
     ]
    },
    {
     "data": {
      "image/png": "[encoded data removed]",
      "text/plain": [
       "<Figure size 216x144 with 1 Axes>"
      ]
     },
     "metadata": {},
     "output_type": "display_data"
    }
   ],
   "source": [
    "# Get prediction statistics\n",
    "get_statistics(model, X_test, y_test, model_name)"
   ]
  },
  {
   "cell_type": "markdown",
   "id": "4e1ccbda",
   "metadata": {},
   "source": [
    "#### Sigmoid kernel"
   ]
  },
  {
   "cell_type": "code",
   "execution_count": 55,
   "id": "15b20280",
   "metadata": {
    "ExecuteTime": {
     "end_time": "2022-03-11T17:35:55.790099Z",
     "start_time": "2022-03-11T17:35:54.860451Z"
    },
    "collapsed": true
   },
   "outputs": [
    {
     "name": "stdout",
     "output_type": "stream",
     "text": [
      "\n",
      "List of accuracies: [50.62 50.62 50.62 50.62 50.62]\n",
      "Mean accuracy:      50.62% +- 0.000%\n",
      "Executed in:        0:00:00\n",
      "coef0 = -1\n",
      "\n",
      "List of accuracies: [50.62 50.62 50.62 50.62 50.62]\n",
      "Mean accuracy:      50.62% +- 0.000%\n",
      "Executed in:        0:00:00\n",
      "coef0 = 0\n",
      "\n",
      "List of accuracies: [50.62 50.62 50.62 50.62 50.62]\n",
      "Mean accuracy:      50.62% +- 0.000%\n",
      "Executed in:        0:00:00\n",
      "coef0 = 1\n",
      "\n",
      "Best accuracy: 50.62% ---> coef0 = -1\n"
     ]
    }
   ],
   "source": [
    "model = SVC(kernel='sigmoid', gamma='scale', coef0=0., probability=False, tol=1e-3, max_iter=-1, cache_size=1000,\n",
    "            random_state=seed, verbose=False)\n",
    "# Select hyperparameters\n",
    "# ***** test C\n",
    "model.coef0 = test_coef0(model, -1, 2, X_train, y_train, seed)"
   ]
  },
  {
   "cell_type": "code",
   "execution_count": 56,
   "id": "526ffb07",
   "metadata": {
    "ExecuteTime": {
     "end_time": "2022-03-11T17:35:56.531293Z",
     "start_time": "2022-03-11T17:35:56.440168Z"
    },
    "code_folding": [
     0
    ]
   },
   "outputs": [],
   "source": [
    "# Train with full training set\n",
    "model.fit(X_train, y_train)\n",
    "# lst_acc = Train_stratCV(model, X_train, y_train, 5, seed)\n",
    "\n",
    "# Save model\n",
    "model_name = 'SVM_sigmoid1'\n",
    "joblib.dump(model, f'Results/Models/model_{model_name}_{nb_name}_{n}x{m}_noise_std={noise_std}_sampling={sampling_interval}.joblib');"
   ]
  },
  {
   "cell_type": "code",
   "execution_count": 57,
   "id": "ee312603",
   "metadata": {
    "ExecuteTime": {
     "end_time": "2022-03-11T17:35:57.349807Z",
     "start_time": "2022-03-11T17:35:57.148702Z"
    },
    "collapsed": true
   },
   "outputs": [
    {
     "name": "stdout",
     "output_type": "stream",
     "text": [
      "Mean accuracy on test set:      50.50%\n",
      "\n",
      "Report: \n",
      "               precision    recall  f1-score   support\n",
      "\n",
      "       False      0.000     0.000     0.000        99\n",
      "        True      0.505     1.000     0.671       101\n",
      "\n",
      "    accuracy                          0.505       200\n",
      "   macro avg      0.253     0.500     0.336       200\n",
      "weighted avg      0.255     0.505     0.339       200\n",
      "\n",
      "Confusion matrix:\n"
     ]
    },
    {
     "name": "stderr",
     "output_type": "stream",
     "text": [
      "C:\\Users\\V082335\\Anaconda3\\envs\\azure\\lib\\site-packages\\sklearn\\metrics\\_classification.py:1248: UndefinedMetricWarning: Precision and F-score are ill-defined and being set to 0.0 in labels with no predicted samples. Use `zero_division` parameter to control this behavior.\n",
      "  _warn_prf(average, modifier, msg_start, len(result))\n",
      "C:\\Users\\V082335\\Anaconda3\\envs\\azure\\lib\\site-packages\\sklearn\\metrics\\_classification.py:1248: UndefinedMetricWarning: Precision and F-score are ill-defined and being set to 0.0 in labels with no predicted samples. Use `zero_division` parameter to control this behavior.\n",
      "  _warn_prf(average, modifier, msg_start, len(result))\n",
      "C:\\Users\\V082335\\Anaconda3\\envs\\azure\\lib\\site-packages\\sklearn\\metrics\\_classification.py:1248: UndefinedMetricWarning: Precision and F-score are ill-defined and being set to 0.0 in labels with no predicted samples. Use `zero_division` parameter to control this behavior.\n",
      "  _warn_prf(average, modifier, msg_start, len(result))\n"
     ]
    },
    {
     "data": {
      "image/png": "[encoded data removed]",
      "text/plain": [
       "<Figure size 216x144 with 1 Axes>"
      ]
     },
     "metadata": {},
     "output_type": "display_data"
    }
   ],
   "source": [
    "# Get prediction statistics\n",
    "get_statistics(model, X_test, y_test, model_name)"
   ]
  },
  {
   "cell_type": "code",
   "execution_count": 58,
   "id": "7cc84cf5",
   "metadata": {
    "ExecuteTime": {
     "end_time": "2022-03-11T17:35:58.731756Z",
     "start_time": "2022-03-11T17:35:57.993772Z"
    },
    "collapsed": true
   },
   "outputs": [
    {
     "name": "stdout",
     "output_type": "stream",
     "text": [
      "\n",
      "List of accuracies: [50.62 50.62 50.62 50.62 50.62]\n",
      "Mean accuracy:      50.62% +- 0.000%\n",
      "Executed in:        0:00:00\n",
      "coef0 = -1\n",
      "\n",
      "List of accuracies: [50.62 50.62 50.62 50.62 50.62]\n",
      "Mean accuracy:      50.62% +- 0.000%\n",
      "Executed in:        0:00:00\n",
      "coef0 = 0\n",
      "\n",
      "List of accuracies: [50.62 50.62 50.62 50.62 50.62]\n",
      "Mean accuracy:      50.62% +- 0.000%\n",
      "Executed in:        0:00:00\n",
      "coef0 = 1\n",
      "\n",
      "Best accuracy: 50.62% ---> coef0 = -1\n"
     ]
    }
   ],
   "source": [
    "model = SVC(kernel='sigmoid', gamma='auto', coef0=0., probability=False, tol=1e-3, max_iter=-1, cache_size=1000,\n",
    "            random_state=seed, verbose=False)\n",
    "# Select hyperparameters\n",
    "# ***** test C\n",
    "model.coef0 = test_coef0(model, -1, 2, X_train, y_train, seed)"
   ]
  },
  {
   "cell_type": "code",
   "execution_count": 59,
   "id": "a22eed2e",
   "metadata": {
    "ExecuteTime": {
     "end_time": "2022-03-11T17:35:59.487872Z",
     "start_time": "2022-03-11T17:35:59.411847Z"
    },
    "code_folding": [
     0
    ],
    "collapsed": true
   },
   "outputs": [],
   "source": [
    "# Train with full training set\n",
    "model.fit(X_train, y_train)\n",
    "# lst_acc = Train_stratCV(model, X_train, y_train, 5, seed)\n",
    "\n",
    "# Save model\n",
    "model_name = 'SVM_sigmoid2'\n",
    "joblib.dump(model, f'Results/Models/model_{model_name}_{nb_name}_{n}x{m}_noise_std={noise_std}_sampling={sampling_interval}.joblib');"
   ]
  },
  {
   "cell_type": "code",
   "execution_count": 60,
   "id": "b6451d18",
   "metadata": {
    "ExecuteTime": {
     "end_time": "2022-03-11T17:36:00.414826Z",
     "start_time": "2022-03-11T17:36:00.213510Z"
    },
    "collapsed": true
   },
   "outputs": [
    {
     "name": "stdout",
     "output_type": "stream",
     "text": [
      "Mean accuracy on test set:      50.50%\n",
      "\n",
      "Report: \n",
      "               precision    recall  f1-score   support\n",
      "\n",
      "       False      0.000     0.000     0.000        99\n",
      "        True      0.505     1.000     0.671       101\n",
      "\n",
      "    accuracy                          0.505       200\n",
      "   macro avg      0.253     0.500     0.336       200\n",
      "weighted avg      0.255     0.505     0.339       200\n",
      "\n",
      "Confusion matrix:\n"
     ]
    },
    {
     "name": "stderr",
     "output_type": "stream",
     "text": [
      "C:\\Users\\V082335\\Anaconda3\\envs\\azure\\lib\\site-packages\\sklearn\\metrics\\_classification.py:1248: UndefinedMetricWarning: Precision and F-score are ill-defined and being set to 0.0 in labels with no predicted samples. Use `zero_division` parameter to control this behavior.\n",
      "  _warn_prf(average, modifier, msg_start, len(result))\n",
      "C:\\Users\\V082335\\Anaconda3\\envs\\azure\\lib\\site-packages\\sklearn\\metrics\\_classification.py:1248: UndefinedMetricWarning: Precision and F-score are ill-defined and being set to 0.0 in labels with no predicted samples. Use `zero_division` parameter to control this behavior.\n",
      "  _warn_prf(average, modifier, msg_start, len(result))\n",
      "C:\\Users\\V082335\\Anaconda3\\envs\\azure\\lib\\site-packages\\sklearn\\metrics\\_classification.py:1248: UndefinedMetricWarning: Precision and F-score are ill-defined and being set to 0.0 in labels with no predicted samples. Use `zero_division` parameter to control this behavior.\n",
      "  _warn_prf(average, modifier, msg_start, len(result))\n"
     ]
    },
    {
     "data": {
      "image/png": "[encoded data removed]",
      "text/plain": [
       "<Figure size 216x144 with 1 Axes>"
      ]
     },
     "metadata": {},
     "output_type": "display_data"
    }
   ],
   "source": [
    "# Get prediction statistics\n",
    "get_statistics(model, X_test, y_test, model_name)"
   ]
  },
  {
   "cell_type": "markdown",
   "id": "1f4231d0",
   "metadata": {},
   "source": [
    "### Naïve Bayes"
   ]
  },
  {
   "cell_type": "markdown",
   "id": "350bca37",
   "metadata": {},
   "source": [
    "#### Gaussian NB"
   ]
  },
  {
   "cell_type": "code",
   "execution_count": 61,
   "id": "48e357b4",
   "metadata": {
    "ExecuteTime": {
     "end_time": "2022-03-11T17:36:19.514675Z",
     "start_time": "2022-03-11T17:36:19.500623Z"
    }
   },
   "outputs": [],
   "source": [
    "model = GaussianNB(var_smoothing=1e-9)\n",
    "# Select hyperparameters\n",
    "# ***** test var_smoothing"
   ]
  },
  {
   "cell_type": "code",
   "execution_count": 62,
   "id": "f1e90850",
   "metadata": {
    "ExecuteTime": {
     "end_time": "2022-03-11T17:36:21.709103Z",
     "start_time": "2022-03-11T17:36:21.687404Z"
    },
    "code_folding": [
     0
    ]
   },
   "outputs": [],
   "source": [
    "# Train with full training set\n",
    "model.fit(X_train, y_train)\n",
    "# lst_acc = Train_stratCV(model, X_train, y_train, 5, seed)\n",
    "\n",
    "# Save model\n",
    "model_name = 'NB_gaussian'\n",
    "joblib.dump(model, f'Results/Models/model_{model_name}_{nb_name}_{n}x{m}_noise_std={noise_std}_sampling={sampling_interval}.joblib');"
   ]
  },
  {
   "cell_type": "code",
   "execution_count": 74,
   "id": "1bc1c3c8",
   "metadata": {
    "ExecuteTime": {
     "end_time": "2022-02-17T16:48:59.312623Z",
     "start_time": "2022-02-17T16:48:59.168818Z"
    },
    "collapsed": true
   },
   "outputs": [
    {
     "name": "stdout",
     "output_type": "stream",
     "text": [
      "Mean accuracy on test set:      100.00%\n",
      "\n",
      "Report: \n",
      "               precision    recall  f1-score   support\n",
      "\n",
      "       False      1.000     1.000     1.000        99\n",
      "        True      1.000     1.000     1.000       101\n",
      "\n",
      "    accuracy                          1.000       200\n",
      "   macro avg      1.000     1.000     1.000       200\n",
      "weighted avg      1.000     1.000     1.000       200\n",
      "\n",
      "Confusion matrix:\n"
     ]
    },
    {
     "data": {
      "image/png": "[encoded data removed]",
      "text/plain": [
       "<Figure size 216x144 with 1 Axes>"
      ]
     },
     "metadata": {},
     "output_type": "display_data"
    }
   ],
   "source": [
    "# Get prediction statistics\n",
    "get_statistics(model, X_test, y_test, model_name, prob=True)"
   ]
  },
  {
   "cell_type": "markdown",
   "id": "687d07fb",
   "metadata": {},
   "source": [
    "#### Multinomial NB"
   ]
  },
  {
   "cell_type": "code",
   "execution_count": 63,
   "id": "89dfa242",
   "metadata": {
    "ExecuteTime": {
     "end_time": "2022-03-11T17:36:31.509249Z",
     "start_time": "2022-03-11T17:36:31.503251Z"
    }
   },
   "outputs": [],
   "source": [
    "model = MultinomialNB(alpha=1.) # does not work with negative values\n",
    "# Select hyperparameters\n",
    "# ***** test alpha"
   ]
  },
  {
   "cell_type": "code",
   "execution_count": 64,
   "id": "3f51367f",
   "metadata": {
    "ExecuteTime": {
     "end_time": "2022-03-11T17:36:32.230716Z",
     "start_time": "2022-03-11T17:36:32.202613Z"
    },
    "code_folding": []
   },
   "outputs": [
    {
     "data": {
      "text/plain": [
       "225"
      ]
     },
     "execution_count": 64,
     "metadata": {},
     "output_type": "execute_result"
    }
   ],
   "source": [
    "# Train with full training set\n",
    "model.fit(X_train, y_train)\n",
    "# lst_acc = Train_stratCV(model, X_train, y_train, 5, seed)\n",
    "\n",
    "# Save model\n",
    "model_name = 'NB_multi'\n",
    "joblib.dump(model, f'Results/Models/model_{model_name}_{nb_name}_{n}x{m}_noise_std={noise_std}_sampling={sampling_interval}.joblib');\n",
    "\n",
    "model.n_features_in_#, model.feature_count_"
   ]
  },
  {
   "cell_type": "code",
   "execution_count": 74,
   "id": "a6fcfa54",
   "metadata": {
    "ExecuteTime": {
     "end_time": "2022-02-17T16:48:59.312623Z",
     "start_time": "2022-02-17T16:48:59.168818Z"
    },
    "collapsed": true
   },
   "outputs": [
    {
     "name": "stdout",
     "output_type": "stream",
     "text": [
      "Mean accuracy on test set:      100.00%\n",
      "\n",
      "Report: \n",
      "               precision    recall  f1-score   support\n",
      "\n",
      "       False      1.000     1.000     1.000        99\n",
      "        True      1.000     1.000     1.000       101\n",
      "\n",
      "    accuracy                          1.000       200\n",
      "   macro avg      1.000     1.000     1.000       200\n",
      "weighted avg      1.000     1.000     1.000       200\n",
      "\n",
      "Confusion matrix:\n"
     ]
    },
    {
     "data": {
      "image/png": "[encoded data removed]",
      "text/plain": [
       "<Figure size 216x144 with 1 Axes>"
      ]
     },
     "metadata": {},
     "output_type": "display_data"
    }
   ],
   "source": [
    "# Get prediction statistics\n",
    "get_statistics(model, X_test, y_test, model_name, prob=True)"
   ]
  },
  {
   "cell_type": "markdown",
   "id": "ec4488ca",
   "metadata": {},
   "source": [
    "#### Categorical NB"
   ]
  },
  {
   "cell_type": "code",
   "execution_count": 65,
   "id": "08215277",
   "metadata": {
    "ExecuteTime": {
     "end_time": "2022-03-11T17:36:51.090910Z",
     "start_time": "2022-03-11T17:36:51.084870Z"
    }
   },
   "outputs": [],
   "source": [
    "model = CategoricalNB(alpha=0.001, min_categories=1) # does not work with negative values\n",
    "# Select hyperparameters\n",
    "# ***** test alpha & min_categories"
   ]
  },
  {
   "cell_type": "code",
   "execution_count": 66,
   "id": "c686d3c2",
   "metadata": {
    "ExecuteTime": {
     "end_time": "2022-03-11T17:36:58.055854Z",
     "start_time": "2022-03-11T17:36:57.971723Z"
    },
    "code_folding": [],
    "collapsed": true
   },
   "outputs": [
    {
     "data": {
      "text/plain": [
       "(225,\n",
       " array([16,  8, 16,  8, 16, 16,  8, 16, 16, 16,  7,  9,  7, 16,  7,  9,  7,\n",
       "         8, 14,  8, 16,  7,  9,  7,  8, 14,  8, 16,  8, 14,  8,  8, 14,  8,\n",
       "        16,  8, 14,  8,  8, 14,  8, 16,  8, 14,  8, 16, 16,  8,  8,  8,  8,\n",
       "         8,  8, 16,  8,  7,  9,  7, 16,  8, 14,  8,  8, 14,  8, 16,  7,  9,\n",
       "         7,  8, 14,  8, 16,  7,  9,  7,  8, 14,  8, 16,  7,  9,  7,  8, 14,\n",
       "         8, 16,  7,  9,  7, 16,  8, 16, 16, 16, 16,  8,  8,  8, 16,  7,  9,\n",
       "         7, 16,  7,  9,  7,  8, 14,  8, 16,  8, 14,  8,  8, 14,  8, 16,  8,\n",
       "        14,  8,  8, 14,  8, 16,  7,  9,  7,  8, 14,  8, 16,  8, 14,  8, 16,\n",
       "        16, 16, 16, 16,  8, 16,  8,  8,  8,  7,  9,  7, 16,  8, 14,  8,  8,\n",
       "        14,  8, 16,  8, 14,  8,  8, 14,  8, 16,  7,  9,  7,  8, 14,  8, 16,\n",
       "         7,  9,  7,  8, 14,  8, 16,  7,  9,  7, 16,  8, 16, 16, 16,  8, 16,\n",
       "        16,  8,  8,  7,  9,  7, 16,  7,  9,  7,  8, 14,  8, 16,  8, 14,  8,\n",
       "         8, 14,  8, 16,  7,  9,  7,  8, 14,  8, 16,  8, 14,  8,  8, 14,  8,\n",
       "        16,  7,  9,  7], dtype=int64))"
      ]
     },
     "execution_count": 66,
     "metadata": {},
     "output_type": "execute_result"
    }
   ],
   "source": [
    "# Train with full training set\n",
    "model.fit(X_train, y_train)\n",
    "# lst_acc = Train_stratCV(model, X_train, y_train, 5, seed)\n",
    "\n",
    "# Save model\n",
    "model_name = 'NB_cat'\n",
    "joblib.dump(model, f'Results/Models/model_{model_name}_{nb_name}_{n}x{m}_noise_std={noise_std}_sampling={sampling_interval}.joblib');\n",
    "\n",
    "model.n_features_in_, model.n_categories_"
   ]
  },
  {
   "cell_type": "code",
   "execution_count": 74,
   "id": "4f387ce0",
   "metadata": {
    "ExecuteTime": {
     "end_time": "2022-02-17T16:48:59.312623Z",
     "start_time": "2022-02-17T16:48:59.168818Z"
    },
    "collapsed": true
   },
   "outputs": [
    {
     "name": "stdout",
     "output_type": "stream",
     "text": [
      "Mean accuracy on test set:      100.00%\n",
      "\n",
      "Report: \n",
      "               precision    recall  f1-score   support\n",
      "\n",
      "       False      1.000     1.000     1.000        99\n",
      "        True      1.000     1.000     1.000       101\n",
      "\n",
      "    accuracy                          1.000       200\n",
      "   macro avg      1.000     1.000     1.000       200\n",
      "weighted avg      1.000     1.000     1.000       200\n",
      "\n",
      "Confusion matrix:\n"
     ]
    },
    {
     "data": {
      "image/png": "[encoded data removed]",
      "text/plain": [
       "<Figure size 216x144 with 1 Axes>"
      ]
     },
     "metadata": {},
     "output_type": "display_data"
    }
   ],
   "source": [
    "# Get prediction statistics\n",
    "get_statistics(model, X_test, y_test, model_name, prob=True)"
   ]
  },
  {
   "cell_type": "markdown",
   "id": "3bafde67",
   "metadata": {},
   "source": [
    "### Decision tree"
   ]
  },
  {
   "cell_type": "code",
   "execution_count": 67,
   "id": "34603cd7",
   "metadata": {
    "ExecuteTime": {
     "end_time": "2022-03-11T17:37:59.459355Z",
     "start_time": "2022-03-11T17:37:30.077657Z"
    },
    "code_folding": [],
    "collapsed": true
   },
   "outputs": [
    {
     "name": "stdout",
     "output_type": "stream",
     "text": [
      "\n",
      "List of accuracies: [50.62 50.62 65.   50.62 50.62]\n",
      "Mean accuracy:      53.50% +- 5.750%\n",
      "Executed in:        0:00:00\n",
      "gini, 5, None, None, 1e-01\n",
      "\n",
      "List of accuracies: [80.62 82.5  70.62 79.38 81.88]\n",
      "Mean accuracy:      79.00% +- 4.323%\n",
      "Executed in:        0:00:00\n",
      "gini, 5, None, None, 1e-02\n",
      "\n",
      "List of accuracies: [80.62 78.12 70.62 76.88 83.12]\n",
      "Mean accuracy:      77.88% +- 4.213%\n",
      "Executed in:        0:00:00\n",
      "gini, 5, None, None, 1e-03\n",
      "\n",
      "List of accuracies: [80.62 78.12 70.62 76.88 83.12]\n",
      "Mean accuracy:      77.88% +- 4.213%\n",
      "Executed in:        0:00:00\n",
      "gini, 5, None, None, 1e-04\n",
      "\n",
      "List of accuracies: [80.62 78.12 70.62 76.88 83.12]\n",
      "Mean accuracy:      77.88% +- 4.213%\n",
      "Executed in:        0:00:00\n",
      "gini, 5, None, None, 1e-05\n",
      "\n",
      "List of accuracies: [80.62 78.12 70.62 76.88 83.12]\n",
      "Mean accuracy:      77.88% +- 4.213%\n",
      "Executed in:        0:00:00\n",
      "gini, 5, None, None, 1e-06\n",
      "\n",
      "List of accuracies: [80.62 78.12 70.62 76.88 83.12]\n",
      "Mean accuracy:      77.88% +- 4.213%\n",
      "Executed in:        0:00:00\n",
      "gini, 5, None, None, 1e-07\n",
      "\n",
      "List of accuracies: [80.62 78.12 70.62 76.88 83.12]\n",
      "Mean accuracy:      77.88% +- 4.213%\n",
      "Executed in:        0:00:00\n",
      "gini, 5, None, None, 0e+00\n",
      "\n",
      "List of accuracies: [50.62 50.62 65.   50.62 50.62]\n",
      "Mean accuracy:      53.50% +- 5.750%\n",
      "Executed in:        0:00:00\n",
      "gini, 10, None, None, 1e-01\n",
      "\n",
      "List of accuracies: [80.62 84.38 70.62 79.38 84.38]\n",
      "Mean accuracy:      79.88% +- 5.037%\n",
      "Executed in:        0:00:00\n",
      "gini, 10, None, None, 1e-02\n",
      "\n",
      "List of accuracies: [81.25 79.38 71.25 80.   83.75]\n",
      "Mean accuracy:      79.12% +- 4.213%\n",
      "Executed in:        0:00:00\n",
      "gini, 10, None, None, 1e-03\n",
      "\n",
      "List of accuracies: [81.25 79.38 71.25 80.   83.75]\n",
      "Mean accuracy:      79.12% +- 4.213%\n",
      "Executed in:        0:00:00\n",
      "gini, 10, None, None, 1e-04\n",
      "\n",
      "List of accuracies: [81.25 79.38 71.25 80.   83.75]\n",
      "Mean accuracy:      79.12% +- 4.213%\n",
      "Executed in:        0:00:00\n",
      "gini, 10, None, None, 1e-05\n",
      "\n",
      "List of accuracies: [81.25 79.38 71.25 80.   83.75]\n",
      "Mean accuracy:      79.12% +- 4.213%\n",
      "Executed in:        0:00:00\n",
      "gini, 10, None, None, 1e-06\n",
      "\n",
      "List of accuracies: [81.25 79.38 71.25 80.   83.75]\n",
      "Mean accuracy:      79.12% +- 4.213%\n",
      "Executed in:        0:00:00\n",
      "gini, 10, None, None, 1e-07\n",
      "\n",
      "List of accuracies: [81.25 79.38 71.25 80.   83.75]\n",
      "Mean accuracy:      79.12% +- 4.213%\n",
      "Executed in:        0:00:00\n",
      "gini, 10, None, None, 0e+00\n",
      "\n",
      "List of accuracies: [50.62 50.62 65.   50.62 50.62]\n",
      "Mean accuracy:      53.50% +- 5.750%\n",
      "Executed in:        0:00:00\n",
      "gini, 20, None, None, 1e-01\n",
      "\n",
      "List of accuracies: [80.62 84.38 70.62 79.38 84.38]\n",
      "Mean accuracy:      79.88% +- 5.037%\n",
      "Executed in:        0:00:00\n",
      "gini, 20, None, None, 1e-02\n",
      "\n",
      "List of accuracies: [81.25 79.38 71.25 80.   83.75]\n",
      "Mean accuracy:      79.12% +- 4.213%\n",
      "Executed in:        0:00:00\n",
      "gini, 20, None, None, 1e-03\n",
      "\n",
      "List of accuracies: [81.25 79.38 71.25 80.   83.75]\n",
      "Mean accuracy:      79.12% +- 4.213%\n",
      "Executed in:        0:00:00\n",
      "gini, 20, None, None, 1e-04\n",
      "\n",
      "List of accuracies: [81.25 79.38 71.25 80.   83.75]\n",
      "Mean accuracy:      79.12% +- 4.213%\n",
      "Executed in:        0:00:00\n",
      "gini, 20, None, None, 1e-05\n",
      "\n",
      "List of accuracies: [81.25 79.38 71.25 80.   83.75]\n",
      "Mean accuracy:      79.12% +- 4.213%\n",
      "Executed in:        0:00:00\n",
      "gini, 20, None, None, 1e-06\n",
      "\n",
      "List of accuracies: [81.25 79.38 71.25 80.   83.75]\n",
      "Mean accuracy:      79.12% +- 4.213%\n",
      "Executed in:        0:00:00\n",
      "gini, 20, None, None, 1e-07\n",
      "\n",
      "List of accuracies: [81.25 79.38 71.25 80.   83.75]\n",
      "Mean accuracy:      79.12% +- 4.213%\n",
      "Executed in:        0:00:00\n",
      "gini, 20, None, None, 0e+00\n",
      "\n",
      "List of accuracies: [50.62 50.62 65.   50.62 50.62]\n",
      "Mean accuracy:      53.50% +- 5.750%\n",
      "Executed in:        0:00:00\n",
      "gini, 30, None, None, 1e-01\n",
      "\n",
      "List of accuracies: [80.62 84.38 70.62 79.38 84.38]\n",
      "Mean accuracy:      79.88% +- 5.037%\n",
      "Executed in:        0:00:00\n",
      "gini, 30, None, None, 1e-02\n",
      "\n",
      "List of accuracies: [81.25 79.38 71.25 80.   83.75]\n",
      "Mean accuracy:      79.12% +- 4.213%\n",
      "Executed in:        0:00:00\n",
      "gini, 30, None, None, 1e-03\n",
      "\n",
      "List of accuracies: [81.25 79.38 71.25 80.   83.75]\n",
      "Mean accuracy:      79.12% +- 4.213%\n",
      "Executed in:        0:00:00\n",
      "gini, 30, None, None, 1e-04\n",
      "\n",
      "List of accuracies: [81.25 79.38 71.25 80.   83.75]\n",
      "Mean accuracy:      79.12% +- 4.213%\n",
      "Executed in:        0:00:00\n",
      "gini, 30, None, None, 1e-05\n",
      "\n",
      "List of accuracies: [81.25 79.38 71.25 80.   83.75]\n",
      "Mean accuracy:      79.12% +- 4.213%\n",
      "Executed in:        0:00:00\n",
      "gini, 30, None, None, 1e-06\n",
      "\n",
      "List of accuracies: [81.25 79.38 71.25 80.   83.75]\n",
      "Mean accuracy:      79.12% +- 4.213%\n",
      "Executed in:        0:00:00\n",
      "gini, 30, None, None, 1e-07\n",
      "\n",
      "List of accuracies: [81.25 79.38 71.25 80.   83.75]\n",
      "Mean accuracy:      79.12% +- 4.213%\n",
      "Executed in:        0:00:00\n",
      "gini, 30, None, None, 0e+00\n",
      "\n",
      "List of accuracies: [50.62 50.62 65.   50.62 50.62]\n",
      "Mean accuracy:      53.50% +- 5.750%\n",
      "Executed in:        0:00:00\n",
      "gini, None, None, None, 1e-01\n",
      "\n",
      "List of accuracies: [80.62 84.38 70.62 79.38 84.38]\n",
      "Mean accuracy:      79.88% +- 5.037%\n",
      "Executed in:        0:00:00\n",
      "gini, None, None, None, 1e-02\n",
      "\n",
      "List of accuracies: [81.25 79.38 71.25 80.   83.75]\n",
      "Mean accuracy:      79.12% +- 4.213%\n",
      "Executed in:        0:00:00\n",
      "gini, None, None, None, 1e-03\n",
      "\n",
      "List of accuracies: [81.25 79.38 71.25 80.   83.75]\n",
      "Mean accuracy:      79.12% +- 4.213%\n",
      "Executed in:        0:00:00\n",
      "gini, None, None, None, 1e-04\n",
      "\n",
      "List of accuracies: [81.25 79.38 71.25 80.   83.75]\n",
      "Mean accuracy:      79.12% +- 4.213%\n",
      "Executed in:        0:00:00\n",
      "gini, None, None, None, 1e-05\n",
      "\n",
      "List of accuracies: [81.25 79.38 71.25 80.   83.75]\n",
      "Mean accuracy:      79.12% +- 4.213%\n",
      "Executed in:        0:00:00\n",
      "gini, None, None, None, 1e-06\n",
      "\n",
      "List of accuracies: [81.25 79.38 71.25 80.   83.75]\n",
      "Mean accuracy:      79.12% +- 4.213%\n",
      "Executed in:        0:00:00\n",
      "gini, None, None, None, 1e-07\n",
      "\n",
      "List of accuracies: [81.25 79.38 71.25 80.   83.75]\n",
      "Mean accuracy:      79.12% +- 4.213%\n",
      "Executed in:        0:00:00\n",
      "gini, None, None, None, 0e+00\n",
      "\n",
      "List of accuracies: [70.62 70.62 65.   73.12 74.38]\n",
      "Mean accuracy:      70.75% +- 3.221%\n",
      "Executed in:        0:00:00\n",
      "entropy, 5, None, None, 1e-01\n",
      "\n",
      "List of accuracies: [75.   79.38 75.   83.75 80.  ]\n",
      "Mean accuracy:      78.63% +- 3.317%\n",
      "Executed in:        0:00:00\n",
      "entropy, 5, None, None, 1e-02\n",
      "\n",
      "List of accuracies: [75.   79.38 75.62 83.75 80.  ]\n",
      "Mean accuracy:      78.75% +- 3.187%\n",
      "Executed in:        0:00:00\n",
      "entropy, 5, None, None, 1e-03\n",
      "\n",
      "List of accuracies: [75.   79.38 75.62 83.75 80.  ]\n",
      "Mean accuracy:      78.75% +- 3.187%\n",
      "Executed in:        0:00:00\n",
      "entropy, 5, None, None, 1e-04\n",
      "\n",
      "List of accuracies: [75.   79.38 75.62 83.75 80.  ]\n",
      "Mean accuracy:      78.75% +- 3.187%\n",
      "Executed in:        0:00:00\n",
      "entropy, 5, None, None, 1e-05\n",
      "\n",
      "List of accuracies: [75.   79.38 75.62 83.75 80.  ]\n",
      "Mean accuracy:      78.75% +- 3.187%\n",
      "Executed in:        0:00:00\n",
      "entropy, 5, None, None, 1e-06\n",
      "\n",
      "List of accuracies: [75.   79.38 75.62 83.75 80.  ]\n",
      "Mean accuracy:      78.75% +- 3.187%\n",
      "Executed in:        0:00:00\n",
      "entropy, 5, None, None, 1e-07\n",
      "\n",
      "List of accuracies: [75.   79.38 75.62 83.75 80.  ]\n",
      "Mean accuracy:      78.75% +- 3.187%\n",
      "Executed in:        0:00:00\n",
      "entropy, 5, None, None, 0e+00\n",
      "\n",
      "List of accuracies: [70.62 70.62 65.   73.12 74.38]\n",
      "Mean accuracy:      70.75% +- 3.221%\n",
      "Executed in:        0:00:00\n",
      "entropy, 10, None, None, 1e-01\n",
      "\n",
      "List of accuracies: [85.62 83.12 79.38 86.88 83.75]\n",
      "Mean accuracy:      83.75% +- 2.562%\n",
      "Executed in:        0:00:00\n",
      "entropy, 10, None, None, 1e-02\n",
      "\n",
      "List of accuracies: [85.62 83.12 79.38 86.88 85.  ]\n",
      "Mean accuracy:      84.00% +- 2.610%\n",
      "Executed in:        0:00:00\n",
      "entropy, 10, None, None, 1e-03\n",
      "\n",
      "List of accuracies: [85.62 83.12 79.38 86.88 85.  ]\n",
      "Mean accuracy:      84.00% +- 2.610%\n",
      "Executed in:        0:00:00\n",
      "entropy, 10, None, None, 1e-04\n",
      "\n",
      "List of accuracies: [85.62 83.12 79.38 86.88 85.  ]\n",
      "Mean accuracy:      84.00% +- 2.610%\n",
      "Executed in:        0:00:01\n",
      "entropy, 10, None, None, 1e-05\n",
      "\n",
      "List of accuracies: [85.62 83.12 79.38 86.88 85.  ]\n",
      "Mean accuracy:      84.00% +- 2.610%\n",
      "Executed in:        0:00:01\n",
      "entropy, 10, None, None, 1e-06\n",
      "\n",
      "List of accuracies: [85.62 83.12 79.38 86.88 85.  ]\n",
      "Mean accuracy:      84.00% +- 2.610%\n",
      "Executed in:        0:00:01\n",
      "entropy, 10, None, None, 1e-07\n",
      "\n",
      "List of accuracies: [85.62 83.12 79.38 86.88 85.  ]\n",
      "Mean accuracy:      84.00% +- 2.610%\n",
      "Executed in:        0:00:01\n",
      "entropy, 10, None, None, 0e+00\n"
     ]
    },
    {
     "name": "stdout",
     "output_type": "stream",
     "text": [
      "\n",
      "List of accuracies: [70.62 70.62 65.   73.12 74.38]\n",
      "Mean accuracy:      70.75% +- 3.221%\n",
      "Executed in:        0:00:00\n",
      "entropy, 20, None, None, 1e-01\n",
      "\n",
      "List of accuracies: [85.62 83.12 79.38 86.88 83.75]\n",
      "Mean accuracy:      83.75% +- 2.562%\n",
      "Executed in:        0:00:01\n",
      "entropy, 20, None, None, 1e-02\n",
      "\n",
      "List of accuracies: [85.62 83.12 79.38 86.88 85.  ]\n",
      "Mean accuracy:      84.00% +- 2.610%\n",
      "Executed in:        0:00:00\n",
      "entropy, 20, None, None, 1e-03\n",
      "\n",
      "List of accuracies: [85.62 83.12 79.38 86.88 85.  ]\n",
      "Mean accuracy:      84.00% +- 2.610%\n",
      "Executed in:        0:00:01\n",
      "entropy, 20, None, None, 1e-04\n",
      "\n",
      "List of accuracies: [85.62 83.12 79.38 86.88 85.  ]\n",
      "Mean accuracy:      84.00% +- 2.610%\n",
      "Executed in:        0:00:01\n",
      "entropy, 20, None, None, 1e-05\n",
      "\n",
      "List of accuracies: [85.62 83.12 79.38 86.88 85.  ]\n",
      "Mean accuracy:      84.00% +- 2.610%\n",
      "Executed in:        0:00:01\n",
      "entropy, 20, None, None, 1e-06\n",
      "\n",
      "List of accuracies: [85.62 83.12 79.38 86.88 85.  ]\n",
      "Mean accuracy:      84.00% +- 2.610%\n",
      "Executed in:        0:00:01\n",
      "entropy, 20, None, None, 1e-07\n",
      "\n",
      "List of accuracies: [85.62 83.12 79.38 86.88 85.  ]\n",
      "Mean accuracy:      84.00% +- 2.610%\n",
      "Executed in:        0:00:01\n",
      "entropy, 20, None, None, 0e+00\n",
      "\n",
      "List of accuracies: [70.62 70.62 65.   73.12 74.38]\n",
      "Mean accuracy:      70.75% +- 3.221%\n",
      "Executed in:        0:00:00\n",
      "entropy, 30, None, None, 1e-01\n",
      "\n",
      "List of accuracies: [85.62 83.12 79.38 86.88 83.75]\n",
      "Mean accuracy:      83.75% +- 2.562%\n",
      "Executed in:        0:00:01\n",
      "entropy, 30, None, None, 1e-02\n",
      "\n",
      "List of accuracies: [85.62 83.12 79.38 86.88 85.  ]\n",
      "Mean accuracy:      84.00% +- 2.610%\n",
      "Executed in:        0:00:01\n",
      "entropy, 30, None, None, 1e-03\n",
      "\n",
      "List of accuracies: [85.62 83.12 79.38 86.88 85.  ]\n",
      "Mean accuracy:      84.00% +- 2.610%\n",
      "Executed in:        0:00:01\n",
      "entropy, 30, None, None, 1e-04\n",
      "\n",
      "List of accuracies: [85.62 83.12 79.38 86.88 85.  ]\n",
      "Mean accuracy:      84.00% +- 2.610%\n",
      "Executed in:        0:00:01\n",
      "entropy, 30, None, None, 1e-05\n",
      "\n",
      "List of accuracies: [85.62 83.12 79.38 86.88 85.  ]\n",
      "Mean accuracy:      84.00% +- 2.610%\n",
      "Executed in:        0:00:00\n",
      "entropy, 30, None, None, 1e-06\n",
      "\n",
      "List of accuracies: [85.62 83.12 79.38 86.88 85.  ]\n",
      "Mean accuracy:      84.00% +- 2.610%\n",
      "Executed in:        0:00:01\n",
      "entropy, 30, None, None, 1e-07\n",
      "\n",
      "List of accuracies: [85.62 83.12 79.38 86.88 85.  ]\n",
      "Mean accuracy:      84.00% +- 2.610%\n",
      "Executed in:        0:00:01\n",
      "entropy, 30, None, None, 0e+00\n",
      "\n",
      "List of accuracies: [70.62 70.62 65.   73.12 74.38]\n",
      "Mean accuracy:      70.75% +- 3.221%\n",
      "Executed in:        0:00:00\n",
      "entropy, None, None, None, 1e-01\n",
      "\n",
      "List of accuracies: [85.62 83.12 79.38 86.88 83.75]\n",
      "Mean accuracy:      83.75% +- 2.562%\n",
      "Executed in:        0:00:01\n",
      "entropy, None, None, None, 1e-02\n",
      "\n",
      "List of accuracies: [85.62 83.12 79.38 86.88 85.  ]\n",
      "Mean accuracy:      84.00% +- 2.610%\n",
      "Executed in:        0:00:01\n",
      "entropy, None, None, None, 1e-03\n",
      "\n",
      "List of accuracies: [85.62 83.12 79.38 86.88 85.  ]\n",
      "Mean accuracy:      84.00% +- 2.610%\n",
      "Executed in:        0:00:01\n",
      "entropy, None, None, None, 1e-04\n",
      "\n",
      "List of accuracies: [85.62 83.12 79.38 86.88 85.  ]\n",
      "Mean accuracy:      84.00% +- 2.610%\n",
      "Executed in:        0:00:01\n",
      "entropy, None, None, None, 1e-05\n",
      "\n",
      "List of accuracies: [85.62 83.12 79.38 86.88 85.  ]\n",
      "Mean accuracy:      84.00% +- 2.610%\n",
      "Executed in:        0:00:00\n",
      "entropy, None, None, None, 1e-06\n",
      "\n",
      "List of accuracies: [85.62 83.12 79.38 86.88 85.  ]\n",
      "Mean accuracy:      84.00% +- 2.610%\n",
      "Executed in:        0:00:01\n",
      "entropy, None, None, None, 1e-07\n",
      "\n",
      "List of accuracies: [85.62 83.12 79.38 86.88 85.  ]\n",
      "Mean accuracy:      84.00% +- 2.610%\n",
      "Executed in:        0:00:01\n",
      "entropy, None, None, None, 0e+00\n",
      "\n",
      "Best accuracy:          84.00%\n",
      "criterion             = entropy\n",
      "max_depth             = 10\n",
      "max_features          = None\n",
      "max_leaf_nodes        = None\n",
      "min_impurity_decrease = 1e-03\n"
     ]
    }
   ],
   "source": [
    "model = DecisionTreeClassifier(criterion=None, max_depth=None, max_features=None, max_leaf_nodes=None, min_impurity_decrease=None,\n",
    "                               random_state=seed)\n",
    "# Select hyperparameters\n",
    "best_par = test_trees(model, X_train, y_train, seed,\n",
    "                      criterion=['gini', 'entropy'],\n",
    "                      max_depth=[5, 10, 20, 30, None],\n",
    "                      # max_features=[0.25, 0.5, 0.75, None],\n",
    "                      # max_leaf_nodes=range(2, 21),\n",
    "                      min_impurity_decrease=[*(10.**-np.arange(1, 8))]+[0.]\n",
    "                     )\n",
    "model.criterion             = best_par[0]\n",
    "model.max_depth             = best_par[1]\n",
    "model.max_features          = best_par[2]\n",
    "model.max_leaf_nodes        = best_par[3]\n",
    "model.min_impurity_decrease = best_par[4]"
   ]
  },
  {
   "cell_type": "code",
   "execution_count": 68,
   "id": "e6d0f2c0",
   "metadata": {
    "ExecuteTime": {
     "end_time": "2022-03-11T17:38:05.212693Z",
     "start_time": "2022-03-11T17:38:00.160502Z"
    },
    "collapsed": true
   },
   "outputs": [
    {
     "name": "stdout",
     "output_type": "stream",
     "text": [
      "\n",
      "List of accuracies: [85.62 83.12 79.38 86.88 85.  ]\n",
      "Mean accuracy:      84.00% +- 2.610%\n",
      "Executed in:        0:00:01\n",
      "entropy, 10, None, None, 2e-04\n",
      "\n",
      "List of accuracies: [85.62 83.12 79.38 86.88 85.  ]\n",
      "Mean accuracy:      84.00% +- 2.610%\n",
      "Executed in:        0:00:01\n",
      "entropy, 10, None, None, 4e-04\n",
      "\n",
      "List of accuracies: [85.62 83.12 79.38 86.88 85.  ]\n",
      "Mean accuracy:      84.00% +- 2.610%\n",
      "Executed in:        0:00:01\n",
      "entropy, 10, None, None, 6e-04\n",
      "\n",
      "List of accuracies: [85.62 83.12 79.38 86.88 85.  ]\n",
      "Mean accuracy:      84.00% +- 2.610%\n",
      "Executed in:        0:00:01\n",
      "entropy, 10, None, None, 8e-04\n",
      "\n",
      "List of accuracies: [85.62 83.12 79.38 86.88 85.  ]\n",
      "Mean accuracy:      84.00% +- 2.610%\n",
      "Executed in:        0:00:01\n",
      "entropy, 10, None, None, 1e-03\n",
      "\n",
      "List of accuracies: [85.62 83.12 79.38 86.88 85.  ]\n",
      "Mean accuracy:      84.00% +- 2.610%\n",
      "Executed in:        0:00:01\n",
      "entropy, 10, None, None, 2e-03\n",
      "\n",
      "List of accuracies: [85.62 83.12 79.38 86.88 85.  ]\n",
      "Mean accuracy:      84.00% +- 2.610%\n",
      "Executed in:        0:00:01\n",
      "entropy, 10, None, None, 4e-03\n",
      "\n",
      "List of accuracies: [85.62 83.12 79.38 86.88 84.38]\n",
      "Mean accuracy:      83.87% +- 2.574%\n",
      "Executed in:        0:00:01\n",
      "entropy, 10, None, None, 6e-03\n",
      "\n",
      "List of accuracies: [85.62 83.12 79.38 86.25 83.12]\n",
      "Mean accuracy:      83.50% +- 2.424%\n",
      "Executed in:        0:00:01\n",
      "entropy, 10, None, None, 8e-03\n",
      "\n",
      "Best accuracy:          84.00%\n",
      "criterion             = entropy\n",
      "max_depth             = 10\n",
      "max_features          = None\n",
      "max_leaf_nodes        = None\n",
      "min_impurity_decrease = 2e-04\n"
     ]
    }
   ],
   "source": [
    "# Select hyperparameters again - min_impurity_decrease\n",
    "if model.min_impurity_decrease != 0.:\n",
    "    best_par = test_trees(model, X_train, y_train, seed,\n",
    "                          criterion=[model.criterion],\n",
    "                          max_depth=[model.max_depth],\n",
    "                          # max_features=[0.25, 0.5, 0.75, None],\n",
    "                          # max_leaf_nodes=range(2, 21),\n",
    "                          min_impurity_decrease=model.min_impurity_decrease*np.asarray([0.2, 0.4, 0.6, 0.8, 1, 2, 4, 6, 8])\n",
    "                         )\n",
    "    model.criterion             = best_par[0]\n",
    "    model.max_depth             = best_par[1]\n",
    "    model.max_features          = best_par[2]\n",
    "    model.max_leaf_nodes        = best_par[3]\n",
    "    model.min_impurity_decrease = best_par[4]"
   ]
  },
  {
   "cell_type": "code",
   "execution_count": 69,
   "id": "04249560",
   "metadata": {
    "ExecuteTime": {
     "end_time": "2022-03-11T17:38:20.815267Z",
     "start_time": "2022-03-11T17:38:16.146894Z"
    },
    "collapsed": true
   },
   "outputs": [
    {
     "name": "stdout",
     "output_type": "stream",
     "text": [
      "\n",
      "List of accuracies: [82.5  81.25 76.88 88.12 82.5 ]\n",
      "Mean accuracy:      82.25% +- 3.593%\n",
      "Executed in:        0:00:00\n",
      "entropy, 6, None, None, 2e-04\n",
      "\n",
      "List of accuracies: [83.12 82.5  75.62 86.88 83.75]\n",
      "Mean accuracy:      82.38% +- 3.695%\n",
      "Executed in:        0:00:00\n",
      "entropy, 7, None, None, 2e-04\n",
      "\n",
      "List of accuracies: [85.62 83.12 79.38 86.88 86.88]\n",
      "Mean accuracy:      84.38% +- 2.850%\n",
      "Executed in:        0:00:00\n",
      "entropy, 8, None, None, 2e-04\n",
      "\n",
      "List of accuracies: [85.62 83.12 79.38 86.88 85.  ]\n",
      "Mean accuracy:      84.00% +- 2.610%\n",
      "Executed in:        0:00:00\n",
      "entropy, 9, None, None, 2e-04\n",
      "\n",
      "List of accuracies: [85.62 83.12 79.38 86.88 85.  ]\n",
      "Mean accuracy:      84.00% +- 2.610%\n",
      "Executed in:        0:00:00\n",
      "entropy, 10, None, None, 2e-04\n",
      "\n",
      "List of accuracies: [85.62 83.12 79.38 86.88 85.  ]\n",
      "Mean accuracy:      84.00% +- 2.610%\n",
      "Executed in:        0:00:01\n",
      "entropy, 11, None, None, 2e-04\n",
      "\n",
      "List of accuracies: [85.62 83.12 79.38 86.88 85.  ]\n",
      "Mean accuracy:      84.00% +- 2.610%\n",
      "Executed in:        0:00:01\n",
      "entropy, 12, None, None, 2e-04\n",
      "\n",
      "List of accuracies: [85.62 83.12 79.38 86.88 85.  ]\n",
      "Mean accuracy:      84.00% +- 2.610%\n",
      "Executed in:        0:00:01\n",
      "entropy, 13, None, None, 2e-04\n",
      "\n",
      "List of accuracies: [85.62 83.12 79.38 86.88 85.  ]\n",
      "Mean accuracy:      84.00% +- 2.610%\n",
      "Executed in:        0:00:01\n",
      "entropy, 14, None, None, 2e-04\n",
      "\n",
      "Best accuracy:          84.38%\n",
      "criterion             = entropy\n",
      "max_depth             = 8\n",
      "max_features          = None\n",
      "max_leaf_nodes        = None\n",
      "min_impurity_decrease = 2e-04\n"
     ]
    }
   ],
   "source": [
    "# Select hyperparameters again - max_depth\n",
    "if model.max_depth != None:\n",
    "    best_par = test_trees(model, X_train, y_train, seed,\n",
    "                          criterion=[model.criterion],\n",
    "                          max_depth=model.max_depth+np.arange(-4, 5),\n",
    "                          # max_features=[0.25, 0.5, 0.75, None],\n",
    "                          # max_leaf_nodes=range(2, 21),\n",
    "                          min_impurity_decrease=[model.min_impurity_decrease]\n",
    "                         )\n",
    "    model.criterion             = best_par[0]\n",
    "    model.max_depth             = best_par[1]\n",
    "    model.max_features          = best_par[2]\n",
    "    model.max_leaf_nodes        = best_par[3]\n",
    "    model.min_impurity_decrease = best_par[4]"
   ]
  },
  {
   "cell_type": "code",
   "execution_count": 70,
   "id": "31168d4a",
   "metadata": {
    "ExecuteTime": {
     "end_time": "2022-03-11T17:38:41.341151Z",
     "start_time": "2022-03-11T17:38:41.202153Z"
    },
    "code_folding": []
   },
   "outputs": [
    {
     "data": {
      "text/plain": [
       "(7, 37)"
      ]
     },
     "execution_count": 70,
     "metadata": {},
     "output_type": "execute_result"
    }
   ],
   "source": [
    "# Train with full training set\n",
    "model.fit(X_train, y_train)\n",
    "# lst_acc = Train_stratCV(model, X_train, y_train, 5, seed)\n",
    "# cross_val_score(model, X_train, y_train, cv=5, n_jobs=-1, verbose=1)\n",
    "\n",
    "# Save model\n",
    "model_name = 'DT'\n",
    "joblib.dump(model, f'Results/Models/model_{model_name}_{nb_name}_{n}x{m}_noise_std={noise_std}_sampling={sampling_interval}.joblib');\n",
    "\n",
    "model.get_depth(), model.get_n_leaves()"
   ]
  },
  {
   "cell_type": "code",
   "execution_count": 74,
   "id": "48e0d062",
   "metadata": {
    "ExecuteTime": {
     "end_time": "2022-02-17T16:48:59.312623Z",
     "start_time": "2022-02-17T16:48:59.168818Z"
    },
    "collapsed": true
   },
   "outputs": [
    {
     "name": "stdout",
     "output_type": "stream",
     "text": [
      "Mean accuracy on test set:      100.00%\n",
      "\n",
      "Report: \n",
      "               precision    recall  f1-score   support\n",
      "\n",
      "       False      1.000     1.000     1.000        99\n",
      "        True      1.000     1.000     1.000       101\n",
      "\n",
      "    accuracy                          1.000       200\n",
      "   macro avg      1.000     1.000     1.000       200\n",
      "weighted avg      1.000     1.000     1.000       200\n",
      "\n",
      "Confusion matrix:\n"
     ]
    },
    {
     "data": {
      "image/png": "[encoded data removed]",
      "text/plain": [
       "<Figure size 216x144 with 1 Axes>"
      ]
     },
     "metadata": {},
     "output_type": "display_data"
    }
   ],
   "source": [
    "# Get prediction statistics\n",
    "get_statistics(model, X_test, y_test, model_name, prob=True)"
   ]
  },
  {
   "cell_type": "code",
   "execution_count": null,
   "id": "a22323c4",
   "metadata": {},
   "outputs": [],
   "source": [
    "from sklearn.tree import export_graphviz\n",
    "import graphviz\n",
    "\n",
    "dot_data = export_graphviz(model, feature_names=df.columns[:-1], class_names=['0','1'],\n",
    "                           filled=True, rounded=True, special_characters=True)\n",
    "# Draw tree\n",
    "graph = graphviz.Source(dot_data)\n",
    "graph.render(f'Results/Other/DT_{nb_name}_low_sampling={sampling_interval}_noisy_power_per_gate_noisestd={noise_std}', cleanup=True)\n",
    "graph"
   ]
  },
  {
   "cell_type": "markdown",
   "id": "7f3c321b",
   "metadata": {},
   "source": [
    "## To-do?"
   ]
  },
  {
   "cell_type": "markdown",
   "id": "14599650",
   "metadata": {},
   "source": [
    "### Random forest"
   ]
  },
  {
   "cell_type": "markdown",
   "id": "8b2bbd09",
   "metadata": {},
   "source": [
    "### Gradient-boosting"
   ]
  },
  {
   "cell_type": "markdown",
   "id": "f1f05103",
   "metadata": {},
   "source": [
    "### KNN"
   ]
  },
  {
   "cell_type": "markdown",
   "id": "698a495c",
   "metadata": {},
   "source": [
    "### Neural network"
   ]
  }
 ],
 "metadata": {
  "kernelspec": {
   "display_name": "Python [conda env:thesis]",
   "language": "python",
   "name": "conda-env-thesis-py"
  },
  "language_info": {
   "codemirror_mode": {
    "name": "ipython",
    "version": 3
   },
   "file_extension": ".py",
   "mimetype": "text/x-python",
   "name": "python",
   "nbconvert_exporter": "python",
   "pygments_lexer": "ipython3",
   "version": "3.8.12"
  },
  "toc": {
   "base_numbering": 1,
   "nav_menu": {},
   "number_sections": true,
   "sideBar": true,
   "skip_h1_title": false,
   "title_cell": "Contents",
   "title_sidebar": "Contents",
   "toc_cell": false,
   "toc_position": {
    "height": "606.6px",
    "left": "223px",
    "top": "87.6px",
    "width": "232.188px"
   },
   "toc_section_display": true,
   "toc_window_display": true
  },
  "varInspector": {
   "cols": {
    "lenName": 16,
    "lenType": 16,
    "lenVar": 40
   },
   "kernels_config": {
    "python": {
     "delete_cmd_postfix": "",
     "delete_cmd_prefix": "del ",
     "library": "var_list.py",
     "varRefreshCmd": "print(var_dic_list())"
    },
    "r": {
     "delete_cmd_postfix": ") ",
     "delete_cmd_prefix": "rm(",
     "library": "var_list.r",
     "varRefreshCmd": "cat(var_dic_list()) "
    }
   },
   "oldHeight": 299.4,
   "position": {
    "height": "321.4px",
    "left": "864px",
    "right": "20px",
    "top": "87px",
    "width": "656px"
   },
   "types_to_exclude": [
    "module",
    "function",
    "builtin_function_or_method",
    "instance",
    "_Feature"
   ],
   "varInspector_section_display": "block",
   "window_display": false
  }
 },
 "nbformat": 4,
 "nbformat_minor": 5
}
