{
 "cells": [
  {
   "cell_type": "code",
   "execution_count": 2,
   "id": "3c56d89b",
   "metadata": {
    "ExecuteTime": {
     "end_time": "2021-11-20T04:01:50.441276Z",
     "start_time": "2021-11-20T04:01:50.422176Z"
    }
   },
   "outputs": [
    {
     "name": "stderr",
     "output_type": "stream",
     "text": [
      "Intel(R) Extension for Scikit-learn* enabled (https://github.com/intel/scikit-learn-intelex)\n"
     ]
    }
   ],
   "source": [
    "import numpy as np\n",
    "import pandas as pd\n",
    "from pandas_profiling import ProfileReport\n",
    "import lux\n",
    "import matplotlib.pyplot as plt\n",
    "%matplotlib inline\n",
    "\n",
    "from sklearnex import patch_sklearn\n",
    "patch_sklearn()\n",
    "\n",
    "from sklearn.model_selection import train_test_split, StratifiedKFold, cross_val_score\n",
    "from sklearn.linear_model import SGDClassifier\n",
    "from sklearn.svm import SVC, LinearSVC\n",
    "from sklearn.naive_bayes import GaussianNB, MultinomialNB, CategoricalNB\n",
    "from sklearn.tree import DecisionTreeClassifier\n",
    "from sklearn.metrics import accuracy_score, confusion_matrix, classification_report\n",
    "\n",
    "np.set_printoptions(suppress=True) # do not print scientific notation\n",
    "\n",
    "# Set some matplotlib style parameters\n",
    "plt.style.use('seaborn')\n",
    "plt.rcParams.update({'figure.facecolor': 'white',\n",
    "                     'figure.edgecolor': 'white',\n",
    "                     'axes.grid': True,\n",
    "                     'figure.autolayout': True # tight_layout\n",
    "                    })\n",
    "\n",
    "# Set some pandas options\n",
    "pd.set_option('display.max_columns', None, # show x columns (None shows all)\n",
    "              # 'display.max_rows', None,  # show x rows (None shows all)\n",
    "              'compute.use_numba', True)   # turn off for Lux"
   ]
  },
  {
   "cell_type": "code",
   "execution_count": 3,
   "id": "10eaff45",
   "metadata": {
    "ExecuteTime": {
     "end_time": "2021-11-20T04:01:51.310933Z",
     "start_time": "2021-11-20T04:01:51.301803Z"
    }
   },
   "outputs": [],
   "source": [
    "seed = 42\n",
    "rng = np.random.default_rng(seed)\n",
    "\n",
    "n = secure_bits = 1         # rows\n",
    "m = corrected_key_bits = 50 # columns\n",
    "N_vec = 10000               # nº of corrected key vectors"
   ]
  },
  {
   "cell_type": "markdown",
   "id": "333ab43c",
   "metadata": {
    "ExecuteTime": {
     "end_time": "2021-08-05T19:00:12.884341Z",
     "start_time": "2021-08-05T19:00:12.870374Z"
    }
   },
   "source": [
    "## Functions"
   ]
  },
  {
   "cell_type": "markdown",
   "id": "f6c9c258",
   "metadata": {},
   "source": [
    "### Detect power consumption of basic operations"
   ]
  },
  {
   "cell_type": "code",
   "execution_count": 4,
   "id": "03cc4576",
   "metadata": {
    "ExecuteTime": {
     "end_time": "2021-11-20T04:01:52.648953Z",
     "start_time": "2021-11-20T04:01:52.632240Z"
    },
    "code_folding": []
   },
   "outputs": [],
   "source": [
    "# def get_product_power(mat, vec, op_powers):\n",
    "#     '''\n",
    "#     Returns: count[0] -> 0*0 power\n",
    "#              count[1] -> 0*1 power\n",
    "#              count[2] -> 1*0 power\n",
    "#              count[3] -> 1*1 power\n",
    "#     '''\n",
    "#     n, m = mat.shape\n",
    "#     count = np.zeros((4, n, m))\n",
    "#     for i in range(n):\n",
    "#         for j in range(m):\n",
    "#             if not mat[i, j] and not vec[j]:\n",
    "#                 count[0, i, j] = 1\n",
    "#             if not mat[i, j] and vec[j]:\n",
    "#                 count[1, i, j] = 1\n",
    "#             if mat[i, j] and not vec[j]:\n",
    "#                 count[2, i, j] = 1\n",
    "#             if mat[i, j] and vec[j]:\n",
    "#                 count[3, i, j] = 1\n",
    "#     return np.asarray([(count[i] * power).ravel() for i, power in enumerate(op_powers)])\n",
    "\n",
    "# Cooler version :)\n",
    "def get_product_power(mat, vec, op_powers):\n",
    "    '''Returns: array with the power of each product.'''\n",
    "    n, m = mat.shape\n",
    "    count = np.zeros((n, m))\n",
    "    for i in range(n):\n",
    "        for j in range(m):\n",
    "            count[i, j] = op_powers[2 * mat[i, j] + vec[j]]\n",
    "    return count.ravel()"
   ]
  },
  {
   "cell_type": "code",
   "execution_count": 5,
   "id": "9a46243d",
   "metadata": {
    "ExecuteTime": {
     "end_time": "2021-11-20T04:01:52.849795Z",
     "start_time": "2021-11-20T04:01:52.833151Z"
    },
    "code_folding": []
   },
   "outputs": [],
   "source": [
    "# def get_sum_power(mat, vec, op_powers):\n",
    "#     '''\n",
    "#     Returns: count[0] -> 0+0 power\n",
    "#              count[1] -> 0+1 power\n",
    "#              count[2] -> 1+0 power\n",
    "#              count[3] -> 1+1 power\n",
    "#     '''\n",
    "#     n, m = mat.shape\n",
    "#     count = np.zeros((4, n, m))\n",
    "#     for i in range(n):\n",
    "#         result = 0\n",
    "#         for j in range(m):\n",
    "#             next_element = mat[i, j] * vec[j]\n",
    "#             if not result and not next_element:\n",
    "#                 count[0, i, j] = 1\n",
    "#             if not result and next_element:\n",
    "#                 count[1, i, j] = 1\n",
    "#             if result and not next_element:\n",
    "#                 count[2, i, j] = 1\n",
    "#             if result and next_element:\n",
    "#                 count[3, i, j] = 1\n",
    "#             result = (result + next_element) % 2\n",
    "#     return np.asarray([(count[i] * power).ravel() for i, power in enumerate(op_powers)])\n",
    "\n",
    "# Cooler version :)\n",
    "def get_sum_power(mat, vec, op_powers):\n",
    "    '''Returns: array with the power of each sum.'''\n",
    "    n, m = mat.shape\n",
    "    count = np.zeros((n, m))\n",
    "    for i in range(n):\n",
    "        result = 0\n",
    "        for j in range(m):\n",
    "            next_element = mat[i, j] * vec[j]\n",
    "            count[i, j] = op_powers[2 * result + next_element]\n",
    "            result = (result + next_element) % 2\n",
    "    return count.ravel()"
   ]
  },
  {
   "cell_type": "code",
   "execution_count": 6,
   "id": "025a0f40",
   "metadata": {
    "ExecuteTime": {
     "end_time": "2021-11-20T04:01:53.022270Z",
     "start_time": "2021-11-20T04:01:53.012291Z"
    },
    "code_folding": [
     0
    ]
   },
   "outputs": [],
   "source": [
    "# # TEST\n",
    "# mat = np.asarray([[0, 1, 1, 0, 1],\n",
    "#                   [1, 0, 1, 1, 1],\n",
    "#                   [1, 1, 1, 1, 1],\n",
    "#                   [0, 0, 0, 0, 0]])\n",
    "# # vec = np.asarray([0, 0, 0, 0, 0])\n",
    "# vec = np.asarray([1, 1, 1, 1, 1])\n",
    "# # vec = np.asarray([1, 1, 1, 0, 0])\n",
    "# n, m = mat.shape\n",
    "\n",
    "# print(mat @ vec % 2, '\\n')\n",
    "# count = get_product_power(mat, vec, [.1, .2, .3, .4])\n",
    "# for i in range(n): print(count[i*m:(i+1)*m])\n",
    "# print()\n",
    "# count = get_sum_power(mat, vec, [1.1, 1.2, 1.3, 1.4])\n",
    "# for i in range(n): print(count[i*m:(i+1)*m])"
   ]
  },
  {
   "cell_type": "markdown",
   "id": "32abfb3a",
   "metadata": {},
   "source": [
    "### Class"
   ]
  },
  {
   "cell_type": "code",
   "execution_count": 7,
   "id": "ae72549a",
   "metadata": {
    "ExecuteTime": {
     "end_time": "2021-11-20T04:01:53.440552Z",
     "start_time": "2021-11-20T04:01:53.424373Z"
    },
    "code_folding": []
   },
   "outputs": [],
   "source": [
    "# Detect if there are more 1s than 0s\n",
    "def More_1_than_0(mat, vec):\n",
    "    return np.sum(mat @ vec % 2) > secure_bits / 2"
   ]
  },
  {
   "cell_type": "markdown",
   "id": "981e3e5f",
   "metadata": {},
   "source": [
    "### Other"
   ]
  },
  {
   "cell_type": "code",
   "execution_count": 8,
   "id": "93f0b421",
   "metadata": {
    "ExecuteTime": {
     "end_time": "2021-11-20T04:01:53.781541Z",
     "start_time": "2021-11-20T04:01:53.761275Z"
    }
   },
   "outputs": [],
   "source": [
    "# Check if output vectors from sample are unique\n",
    "def Check_uniqueness(mat, vec):\n",
    "    res = []\n",
    "    for i in range(len(vec)):\n",
    "        res.append(mat @ vec[i] % 2)\n",
    "    unique = np.unique(res, axis=0, return_counts=True)\n",
    "    return unique[1].shape[0] == np.shape(vec)[0], unique[1].shape[0]"
   ]
  },
  {
   "cell_type": "markdown",
   "id": "8ae9b25b",
   "metadata": {},
   "source": [
    "## Generate data"
   ]
  },
  {
   "cell_type": "code",
   "execution_count": 9,
   "id": "64ae1572",
   "metadata": {
    "ExecuteTime": {
     "end_time": "2021-11-20T04:01:54.573584Z",
     "start_time": "2021-11-20T04:01:54.545053Z"
    }
   },
   "outputs": [
    {
     "data": {
      "text/plain": [
       "((1, 50),\n",
       " array([[1, 0, 1, 0, 1, 1, 0, 1, 1, 1, 1, 1, 0, 0, 0, 0, 0, 0, 1, 0, 1, 0,\n",
       "         1, 1, 1, 1, 0, 0, 0, 1, 1, 1, 1, 1, 1, 0, 1, 0, 0, 0, 1, 0, 1, 1,\n",
       "         1, 0, 1, 1, 0, 0]], dtype=int8))"
      ]
     },
     "execution_count": 9,
     "metadata": {},
     "output_type": "execute_result"
    }
   ],
   "source": [
    "mat = rng.integers(2, size=(secure_bits,corrected_key_bits), dtype=np.int8)\n",
    "\n",
    "mat.shape, mat"
   ]
  },
  {
   "cell_type": "code",
   "execution_count": 10,
   "id": "d3a84273",
   "metadata": {
    "ExecuteTime": {
     "end_time": "2021-11-20T04:01:55.586360Z",
     "start_time": "2021-11-20T04:01:55.206709Z"
    }
   },
   "outputs": [
    {
     "data": {
      "text/plain": [
       "((10000, 50),\n",
       " array([0, 0, 1, 1, 0, 1, 1, 1, 1, 1, 0, 1, 0, 1, 0, 1, 0, 0, 1, 0, 0, 1,\n",
       "        1, 1, 0, 0, 0, 0, 0, 0, 0, 1, 1, 1, 1, 0, 1, 1, 1, 0, 0, 0, 0, 1,\n",
       "        0, 1, 0, 1, 0, 0], dtype=int8))"
      ]
     },
     "execution_count": 10,
     "metadata": {},
     "output_type": "execute_result"
    }
   ],
   "source": [
    "vec = [rng.integers(2, size=corrected_key_bits, dtype=np.int8) for _ in range(N_vec)]\n",
    "\n",
    "np.shape(vec), vec[0]"
   ]
  },
  {
   "cell_type": "code",
   "execution_count": 10,
   "id": "01ed0428",
   "metadata": {
    "ExecuteTime": {
     "end_time": "2021-11-20T02:20:49.416918Z",
     "start_time": "2021-11-20T02:20:49.373167Z"
    }
   },
   "outputs": [
    {
     "name": "stdout",
     "output_type": "stream",
     "text": [
      "Are solutions from this sample unique? False ---> 2 unique sols out of 10000\n"
     ]
    }
   ],
   "source": [
    "print('Are solutions from this sample unique? %s ---> %i unique sols out of %i' % (*Check_uniqueness(mat, vec), N_vec))"
   ]
  },
  {
   "cell_type": "markdown",
   "id": "309187e2",
   "metadata": {},
   "source": [
    "Assumptions on power consumption (based on https://ieeexplore.ieee.org/document/6644863):\n",
    "- NOT:\n",
    "    - 0 - 6.73 pA ~ 7 pA\n",
    "    - 1 - 7.45 pA ~ 7 pA\n",
    "- 2-input NOR:\n",
    "    - 00 - 13.50 pA\n",
    "    - 01 - 12.80 pA\n",
    "    - 10 - &nbsp; 7.93 pA\n",
    "    - 11 - &nbsp; 5.93 pA\n",
    "- 2-input NAND:\n",
    "    - 00 - &nbsp; 5.79 pA\n",
    "    - 01 - &nbsp; 7.00 pA\n",
    "    - 10 - 11.77 pA\n",
    "    - 11 - 14.91 pA\n",
    "\n",
    "Writing our operations in the gates above:\n",
    "- A\\*B &nbsp;= AND(A, B)\n",
    "= NOT(NAND(A, B))\n",
    "\n",
    "- A+B = XOR(A, B)\n",
    "= NOT(A<=>B)\n",
    "= NOT(AND(A->B, B->A))\n",
    "= NAND(A->B, B->A)\n",
    "= NAND(OR(NOT(A), B), OR(NOT(B), A)) =  \n",
    "&nbsp; &nbsp; &nbsp; &nbsp; = NAND(NOT(NOR(NOT(A), B)), NOT(NOR(NOT(B), A)))\n",
    "\n",
    "Thus:\n",
    "- 0\\*0: &nbsp; &nbsp; 5.79 + 7 = 12.79 pA\n",
    "- 0\\*1: &nbsp; &nbsp; 7.00 + 7 = 14.00 pA\n",
    "- 1\\*0: &nbsp; 11.77 + 7 = 18.77 pA\n",
    "- 1\\*1: &nbsp; 14.91 + 7 = 21.91 pA\n",
    "\n",
    "\n",
    "- 0+0: &nbsp; (7 + 7.93 + 7) + (7 + 7.93 + 7) + 14.91 = 58.77 pA\n",
    "- 0+1: &nbsp; (7 + 5.93 + 7) + (7 + 13.5 + 7) + 11.77 = 59.20 pA\n",
    "- 1+0: &nbsp; (7 + 13.5 + 7) + (7 + 5.93 + 7) + 7 &nbsp; &nbsp; &nbsp; &nbsp;= 54.43 pA\n",
    "- 1+1: &nbsp; (7 + 12.8 + 7) + (7 + 12.8 + 7) + 14.91 = 68.51 pA"
   ]
  },
  {
   "cell_type": "code",
   "execution_count": 11,
   "id": "5b228cb7",
   "metadata": {
    "ExecuteTime": {
     "end_time": "2021-11-20T04:02:05.414447Z",
     "start_time": "2021-11-20T04:02:05.394291Z"
    }
   },
   "outputs": [],
   "source": [
    "# Define power consumption for each operation\n",
    "power_products = np.asarray([12.79,  14., 18.77, 21.91]) # 0*0, 0*1, 1*0, 1*1\n",
    "power_sums     = np.asarray([58.77, 59.2, 54.43, 68.51]) # 0+0, 0+1, 1+0, 1+1"
   ]
  },
  {
   "cell_type": "code",
   "execution_count": 12,
   "id": "6e42c81d",
   "metadata": {
    "ExecuteTime": {
     "end_time": "2021-11-20T02:20:56.218035Z",
     "start_time": "2021-11-20T02:20:56.205768Z"
    },
    "scrolled": true
   },
   "outputs": [
    {
     "name": "stdout",
     "output_type": "stream",
     "text": [
      "Products: [18.77 12.79 21.91 14.   18.77 21.91 14.   21.91 21.91 21.91 18.77 21.91\n",
      " 12.79 14.   12.79 14.   12.79 12.79 21.91 12.79 18.77 14.   21.91 21.91\n",
      " 18.77 18.77 12.79 12.79 12.79 18.77 18.77 21.91 21.91 21.91 21.91 12.79\n",
      " 21.91 14.   14.   12.79 18.77 12.79 18.77 21.91 18.77 14.   18.77 21.91\n",
      " 12.79 12.79]\n",
      "Sums:     [58.77 58.77 59.2  54.43 54.43 68.51 58.77 59.2  68.51 59.2  54.43 68.51\n",
      " 58.77 58.77 58.77 58.77 58.77 58.77 59.2  54.43 54.43 54.43 68.51 59.2\n",
      " 54.43 54.43 54.43 54.43 54.43 54.43 54.43 68.51 59.2  68.51 59.2  54.43\n",
      " 68.51 58.77 58.77 58.77 58.77 58.77 58.77 59.2  54.43 54.43 54.43 68.51\n",
      " 58.77 58.77]\n"
     ]
    }
   ],
   "source": [
    "i = 0\n",
    "print('Products:', get_product_power(mat, vec[i], power_products))\n",
    "print('Sums:    ', get_sum_power(mat, vec[i], power_sums))"
   ]
  },
  {
   "cell_type": "code",
   "execution_count": 13,
   "id": "007e2611",
   "metadata": {
    "ExecuteTime": {
     "end_time": "2021-11-20T02:21:00.078227Z",
     "start_time": "2021-11-20T02:21:00.064560Z"
    },
    "scrolled": false
   },
   "outputs": [
    {
     "name": "stdout",
     "output_type": "stream",
     "text": [
      "#1 > #0?\n",
      "--------\n",
      "False \t [0]\n",
      "True \t [1]\n",
      "True \t [1]\n",
      "True \t [1]\n",
      "True \t [1]\n",
      "False \t [0]\n",
      "False \t [0]\n",
      "True \t [1]\n",
      "False \t [0]\n",
      "False \t [0]\n"
     ]
    }
   ],
   "source": [
    "print(\"#1 > #0?\")\n",
    "print(\"--------\")\n",
    "for i in range(10):\n",
    "    print(More_1_than_0(mat, vec[i]), '\\t', mat @ vec[i] % 2)"
   ]
  },
  {
   "cell_type": "code",
   "execution_count": 12,
   "id": "41d52f00",
   "metadata": {
    "ExecuteTime": {
     "end_time": "2021-11-20T04:02:20.559911Z",
     "start_time": "2021-11-20T04:02:13.062239Z"
    },
    "scrolled": false
   },
   "outputs": [
    {
     "data": {
      "text/plain": [
       "(10000, 101)"
      ]
     },
     "execution_count": 12,
     "metadata": {},
     "output_type": "execute_result"
    }
   ],
   "source": [
    "# Warning: data is not time-ordered, i.e. row-by-row power\n",
    "data = [[*get_product_power(mat, vec[i], power_products) - power_products.mean(),\n",
    "         *get_sum_power(mat, vec[i], power_sums) - power_sums.mean(),\n",
    "         More_1_than_0(mat, vec[i])] for i in range(N_vec)]\n",
    "np.shape(data)"
   ]
  },
  {
   "cell_type": "code",
   "execution_count": 13,
   "id": "468654bc",
   "metadata": {
    "ExecuteTime": {
     "end_time": "2021-11-20T04:02:33.458925Z",
     "start_time": "2021-11-20T04:02:32.676106Z"
    },
    "scrolled": true
   },
   "outputs": [],
   "source": [
    "# Create column labels\n",
    "row_bits = [str(i // m)+','+str(i % m) for i in range(n * m)]\n",
    "columns = row_bits + ['+'+row_bits[i] for i in range(n * m)] + ['More_1_than_0']\n",
    "\n",
    "# Create dataframe\n",
    "df = pd.DataFrame(data, columns=columns)\n",
    "df.drop_duplicates(inplace=True, ignore_index=True)\n",
    "# df"
   ]
  },
  {
   "cell_type": "code",
   "execution_count": 14,
   "id": "57131c48",
   "metadata": {
    "ExecuteTime": {
     "end_time": "2021-11-20T04:04:59.059338Z",
     "start_time": "2021-11-20T04:02:44.962240Z"
    },
    "scrolled": true
   },
   "outputs": [
    {
     "name": "stdout",
     "output_type": "stream",
     "text": [
      "Duplicate columns: +0,12 +0,13 +0,14 +0,15 +0,16 +0,26 +0,27 +0,37 +0,38 +0,48\n"
     ]
    },
    {
     "data": {
      "application/vnd.jupyter.widget-view+json": {
       "model_id": "0e4ad716ca154d64b78447754eea8958",
       "version_major": 2,
       "version_minor": 0
      },
      "text/plain": [
       "Button(description='Toggle Pandas/Lux', layout=Layout(top='5px', width='140px'), style=ButtonStyle())"
      ]
     },
     "metadata": {},
     "output_type": "display_data"
    },
    {
     "data": {
      "application/vnd.jupyter.widget-view+json": {
       "model_id": "bd9a6d61e8fd4373ac29cb8371046e0c",
       "version_major": 2,
       "version_minor": 0
      },
      "text/plain": [
       "Output()"
      ]
     },
     "metadata": {},
     "output_type": "display_data"
    }
   ],
   "source": [
    "# Drop columns with equal values\n",
    "def duplicate_columns(df):\n",
    "    groups = df.columns.to_series().groupby(df.dtypes).groups\n",
    "    dups = []\n",
    "    for t, v in groups.items():\n",
    "        dcols = df[v].to_dict(orient='list')\n",
    "        vs = list(dcols.values())\n",
    "        ks = list(dcols.keys())\n",
    "        for i in range(len(vs)):\n",
    "            for j in range(i+1, len(vs)):\n",
    "                if vs[i] == vs[j]: \n",
    "                    dups.append(ks[i])\n",
    "                    break\n",
    "    if dups: print('Duplicate columns:', *dups)\n",
    "    return dups\n",
    "\n",
    "df.drop(duplicate_columns(df), axis=1, inplace=True)\n",
    "df"
   ]
  },
  {
   "cell_type": "code",
   "execution_count": 79,
   "id": "c8227458",
   "metadata": {
    "ExecuteTime": {
     "end_time": "2021-09-16T00:38:02.397595Z",
     "start_time": "2021-09-16T00:38:02.228513Z"
    },
    "collapsed": true
   },
   "outputs": [
    {
     "name": "stderr",
     "output_type": "stream",
     "text": [
      "C:\\Users\\V082335\\Anaconda3\\lib\\site-packages\\IPython\\core\\formatters.py:918: UserWarning:\n",
      "Unexpected error in rendering Lux widget and recommendations. Falling back to Pandas display.\n",
      "Please report the following issue on Github: https://github.com/lux-org/lux/issues \n",
      "\n",
      "C:\\Users\\V082335\\Anaconda3\\lib\\site-packages\\lux\\core\\frame.py:628: UserWarning:Traceback (most recent call last):\n",
      "  File \"C:\\Users\\V082335\\Anaconda3\\lib\\site-packages\\lux\\core\\frame.py\", line 590, in _ipython_display_\n",
      "    self.maintain_recs()\n",
      "  File \"C:\\Users\\V082335\\Anaconda3\\lib\\site-packages\\lux\\core\\frame.py\", line 432, in maintain_recs\n",
      "    custom_action_collection = custom_actions(rec_df)\n",
      "  File \"C:\\Users\\V082335\\Anaconda3\\lib\\site-packages\\lux\\action\\custom.py\", line 76, in custom_actions\n",
      "    recommendation = lux.config.actions[action_name].action(ldf)\n",
      "  File \"C:\\Users\\V082335\\Anaconda3\\lib\\site-packages\\lux\\action\\enhance.py\", line 65, in enhance\n",
      "    vlist = lux.vis.VisList.VisList(intent, ldf)\n",
      "  File \"C:\\Users\\V082335\\Anaconda3\\lib\\site-packages\\lux\\vis\\VisList.py\", line 43, in __init__\n",
      "    self.refresh_source(self._source)\n",
      "  File \"C:\\Users\\V082335\\Anaconda3\\lib\\site-packages\\lux\\vis\\VisList.py\", line 336, in refresh_source\n",
      "    lux.config.executor.execute(self._collection, ldf, approx=approx)\n",
      "  File \"C:\\Users\\V082335\\Anaconda3\\lib\\site-packages\\lux\\executor\\PandasExecutor.py\", line 134, in execute\n",
      "    PandasExecutor.execute_aggregate(vis, isFiltered=filter_executed)\n",
      "  File \"C:\\Users\\V082335\\Anaconda3\\lib\\site-packages\\lux\\executor\\PandasExecutor.py\", line 231, in execute_aggregate\n",
      "    groupby_result = groupby_result.agg(agg_func)\n",
      "  File \"C:\\Users\\V082335\\Anaconda3\\lib\\site-packages\\lux\\core\\groupby.py\", line 32, in aggregate\n",
      "    ret_val = super(LuxGroupBy, self).aggregate(*args, **kwargs)\n",
      "  File \"C:\\Users\\V082335\\Anaconda3\\lib\\site-packages\\pandas\\core\\groupby\\generic.py\", line 970, in aggregate\n",
      "    result, index = self._aggregate_with_numba(\n",
      "  File \"C:\\Users\\V082335\\Anaconda3\\lib\\site-packages\\pandas\\core\\groupby\\groupby.py\", line 1192, in _aggregate_with_numba\n",
      "    starts, ends, sorted_index, sorted_data = self._numba_prep(func, data)\n",
      "  File \"C:\\Users\\V082335\\Anaconda3\\lib\\site-packages\\pandas\\core\\groupby\\groupby.py\", line 1138, in _numba_prep\n",
      "    raise NotImplementedError(\n",
      "NotImplementedError: Numba engine can only be used with a single function.\n",
      "\n"
     ]
    },
    {
     "data": {
      "text/html": [
       "<div>\n",
       "<style scoped>\n",
       "    .dataframe tbody tr th:only-of-type {\n",
       "        vertical-align: middle;\n",
       "    }\n",
       "\n",
       "    .dataframe tbody tr th {\n",
       "        vertical-align: top;\n",
       "    }\n",
       "\n",
       "    .dataframe thead th {\n",
       "        text-align: right;\n",
       "    }\n",
       "</style>\n",
       "<table border=\"1\" class=\"dataframe\">\n",
       "  <thead>\n",
       "    <tr style=\"text-align: right;\">\n",
       "      <th></th>\n",
       "      <th>0,0</th>\n",
       "      <th>0,1</th>\n",
       "      <th>0,2</th>\n",
       "      <th>0,3</th>\n",
       "      <th>0,4</th>\n",
       "      <th>0,5</th>\n",
       "      <th>0,6</th>\n",
       "      <th>0,7</th>\n",
       "      <th>0,8</th>\n",
       "      <th>0,9</th>\n",
       "      <th>0,0+0,1</th>\n",
       "      <th>+0,2</th>\n",
       "      <th>+0,3</th>\n",
       "      <th>+0,4</th>\n",
       "      <th>+0,5</th>\n",
       "      <th>+0,6</th>\n",
       "      <th>+0,7</th>\n",
       "      <th>+0,8</th>\n",
       "      <th>+0,9</th>\n",
       "      <th>More_1_than_0</th>\n",
       "      <th>row0</th>\n",
       "      <th>row0_1/2</th>\n",
       "      <th>row0_2/2</th>\n",
       "      <th>row0_1/3</th>\n",
       "      <th>row0_2/3</th>\n",
       "      <th>row0_3/3</th>\n",
       "      <th>row0_1/5</th>\n",
       "      <th>row0_2/5</th>\n",
       "      <th>row0_3/5</th>\n",
       "      <th>row0_4/5</th>\n",
       "      <th>row0_5/5</th>\n",
       "    </tr>\n",
       "  </thead>\n",
       "  <tbody>\n",
       "    <tr>\n",
       "      <th>0</th>\n",
       "      <td>18.77</td>\n",
       "      <td>12.79</td>\n",
       "      <td>18.77</td>\n",
       "      <td>12.79</td>\n",
       "      <td>18.77</td>\n",
       "      <td>18.77</td>\n",
       "      <td>14.00</td>\n",
       "      <td>18.77</td>\n",
       "      <td>21.91</td>\n",
       "      <td>18.77</td>\n",
       "      <td>58.77</td>\n",
       "      <td>58.77</td>\n",
       "      <td>58.77</td>\n",
       "      <td>58.77</td>\n",
       "      <td>58.77</td>\n",
       "      <td>58.77</td>\n",
       "      <td>58.77</td>\n",
       "      <td>59.20</td>\n",
       "      <td>54.43</td>\n",
       "      <td>True</td>\n",
       "      <td>174.11</td>\n",
       "      <td>81.89</td>\n",
       "      <td>92.22</td>\n",
       "      <td>50.33</td>\n",
       "      <td>50.33</td>\n",
       "      <td>73.45</td>\n",
       "      <td>31.56</td>\n",
       "      <td>31.56</td>\n",
       "      <td>37.54</td>\n",
       "      <td>32.77</td>\n",
       "      <td>40.68</td>\n",
       "    </tr>\n",
       "    <tr>\n",
       "      <th>1</th>\n",
       "      <td>21.91</td>\n",
       "      <td>14.00</td>\n",
       "      <td>18.77</td>\n",
       "      <td>12.79</td>\n",
       "      <td>18.77</td>\n",
       "      <td>21.91</td>\n",
       "      <td>14.00</td>\n",
       "      <td>21.91</td>\n",
       "      <td>21.91</td>\n",
       "      <td>21.91</td>\n",
       "      <td>54.43</td>\n",
       "      <td>54.43</td>\n",
       "      <td>54.43</td>\n",
       "      <td>54.43</td>\n",
       "      <td>68.51</td>\n",
       "      <td>58.77</td>\n",
       "      <td>59.20</td>\n",
       "      <td>68.51</td>\n",
       "      <td>59.20</td>\n",
       "      <td>True</td>\n",
       "      <td>187.88</td>\n",
       "      <td>86.24</td>\n",
       "      <td>101.64</td>\n",
       "      <td>54.68</td>\n",
       "      <td>53.47</td>\n",
       "      <td>79.73</td>\n",
       "      <td>35.91</td>\n",
       "      <td>31.56</td>\n",
       "      <td>40.68</td>\n",
       "      <td>35.91</td>\n",
       "      <td>43.82</td>\n",
       "    </tr>\n",
       "    <tr>\n",
       "      <th>2</th>\n",
       "      <td>21.91</td>\n",
       "      <td>12.79</td>\n",
       "      <td>18.77</td>\n",
       "      <td>12.79</td>\n",
       "      <td>21.91</td>\n",
       "      <td>18.77</td>\n",
       "      <td>14.00</td>\n",
       "      <td>21.91</td>\n",
       "      <td>21.91</td>\n",
       "      <td>18.77</td>\n",
       "      <td>54.43</td>\n",
       "      <td>54.43</td>\n",
       "      <td>54.43</td>\n",
       "      <td>68.51</td>\n",
       "      <td>58.77</td>\n",
       "      <td>58.77</td>\n",
       "      <td>59.20</td>\n",
       "      <td>68.51</td>\n",
       "      <td>58.77</td>\n",
       "      <td>False</td>\n",
       "      <td>183.53</td>\n",
       "      <td>88.17</td>\n",
       "      <td>95.36</td>\n",
       "      <td>53.47</td>\n",
       "      <td>53.47</td>\n",
       "      <td>76.59</td>\n",
       "      <td>34.70</td>\n",
       "      <td>31.56</td>\n",
       "      <td>40.68</td>\n",
       "      <td>35.91</td>\n",
       "      <td>40.68</td>\n",
       "    </tr>\n",
       "    <tr>\n",
       "      <th>3</th>\n",
       "      <td>18.77</td>\n",
       "      <td>12.79</td>\n",
       "      <td>18.77</td>\n",
       "      <td>14.00</td>\n",
       "      <td>18.77</td>\n",
       "      <td>18.77</td>\n",
       "      <td>14.00</td>\n",
       "      <td>21.91</td>\n",
       "      <td>18.77</td>\n",
       "      <td>21.91</td>\n",
       "      <td>58.77</td>\n",
       "      <td>58.77</td>\n",
       "      <td>58.77</td>\n",
       "      <td>58.77</td>\n",
       "      <td>58.77</td>\n",
       "      <td>58.77</td>\n",
       "      <td>59.20</td>\n",
       "      <td>54.43</td>\n",
       "      <td>68.51</td>\n",
       "      <td>False</td>\n",
       "      <td>178.46</td>\n",
       "      <td>83.10</td>\n",
       "      <td>95.36</td>\n",
       "      <td>50.33</td>\n",
       "      <td>51.54</td>\n",
       "      <td>76.59</td>\n",
       "      <td>31.56</td>\n",
       "      <td>32.77</td>\n",
       "      <td>37.54</td>\n",
       "      <td>35.91</td>\n",
       "      <td>40.68</td>\n",
       "    </tr>\n",
       "    <tr>\n",
       "      <th>4</th>\n",
       "      <td>21.91</td>\n",
       "      <td>14.00</td>\n",
       "      <td>18.77</td>\n",
       "      <td>14.00</td>\n",
       "      <td>18.77</td>\n",
       "      <td>21.91</td>\n",
       "      <td>12.79</td>\n",
       "      <td>21.91</td>\n",
       "      <td>18.77</td>\n",
       "      <td>18.77</td>\n",
       "      <td>54.43</td>\n",
       "      <td>54.43</td>\n",
       "      <td>54.43</td>\n",
       "      <td>54.43</td>\n",
       "      <td>68.51</td>\n",
       "      <td>58.77</td>\n",
       "      <td>59.20</td>\n",
       "      <td>54.43</td>\n",
       "      <td>54.43</td>\n",
       "      <td>True</td>\n",
       "      <td>181.60</td>\n",
       "      <td>87.45</td>\n",
       "      <td>94.15</td>\n",
       "      <td>54.68</td>\n",
       "      <td>54.68</td>\n",
       "      <td>72.24</td>\n",
       "      <td>35.91</td>\n",
       "      <td>32.77</td>\n",
       "      <td>40.68</td>\n",
       "      <td>34.70</td>\n",
       "      <td>37.54</td>\n",
       "    </tr>\n",
       "    <tr>\n",
       "      <th>...</th>\n",
       "      <td>...</td>\n",
       "      <td>...</td>\n",
       "      <td>...</td>\n",
       "      <td>...</td>\n",
       "      <td>...</td>\n",
       "      <td>...</td>\n",
       "      <td>...</td>\n",
       "      <td>...</td>\n",
       "      <td>...</td>\n",
       "      <td>...</td>\n",
       "      <td>...</td>\n",
       "      <td>...</td>\n",
       "      <td>...</td>\n",
       "      <td>...</td>\n",
       "      <td>...</td>\n",
       "      <td>...</td>\n",
       "      <td>...</td>\n",
       "      <td>...</td>\n",
       "      <td>...</td>\n",
       "      <td>...</td>\n",
       "      <td>...</td>\n",
       "      <td>...</td>\n",
       "      <td>...</td>\n",
       "      <td>...</td>\n",
       "      <td>...</td>\n",
       "      <td>...</td>\n",
       "      <td>...</td>\n",
       "      <td>...</td>\n",
       "      <td>...</td>\n",
       "      <td>...</td>\n",
       "      <td>...</td>\n",
       "    </tr>\n",
       "    <tr>\n",
       "      <th>1019</th>\n",
       "      <td>21.91</td>\n",
       "      <td>12.79</td>\n",
       "      <td>21.91</td>\n",
       "      <td>12.79</td>\n",
       "      <td>18.77</td>\n",
       "      <td>18.77</td>\n",
       "      <td>14.00</td>\n",
       "      <td>21.91</td>\n",
       "      <td>21.91</td>\n",
       "      <td>21.91</td>\n",
       "      <td>54.43</td>\n",
       "      <td>68.51</td>\n",
       "      <td>58.77</td>\n",
       "      <td>58.77</td>\n",
       "      <td>58.77</td>\n",
       "      <td>58.77</td>\n",
       "      <td>59.20</td>\n",
       "      <td>68.51</td>\n",
       "      <td>59.20</td>\n",
       "      <td>True</td>\n",
       "      <td>186.67</td>\n",
       "      <td>88.17</td>\n",
       "      <td>98.50</td>\n",
       "      <td>56.61</td>\n",
       "      <td>50.33</td>\n",
       "      <td>79.73</td>\n",
       "      <td>34.70</td>\n",
       "      <td>34.70</td>\n",
       "      <td>37.54</td>\n",
       "      <td>35.91</td>\n",
       "      <td>43.82</td>\n",
       "    </tr>\n",
       "    <tr>\n",
       "      <th>1020</th>\n",
       "      <td>21.91</td>\n",
       "      <td>14.00</td>\n",
       "      <td>18.77</td>\n",
       "      <td>12.79</td>\n",
       "      <td>18.77</td>\n",
       "      <td>18.77</td>\n",
       "      <td>12.79</td>\n",
       "      <td>21.91</td>\n",
       "      <td>21.91</td>\n",
       "      <td>18.77</td>\n",
       "      <td>54.43</td>\n",
       "      <td>54.43</td>\n",
       "      <td>54.43</td>\n",
       "      <td>54.43</td>\n",
       "      <td>54.43</td>\n",
       "      <td>54.43</td>\n",
       "      <td>68.51</td>\n",
       "      <td>59.20</td>\n",
       "      <td>54.43</td>\n",
       "      <td>True</td>\n",
       "      <td>180.39</td>\n",
       "      <td>86.24</td>\n",
       "      <td>94.15</td>\n",
       "      <td>54.68</td>\n",
       "      <td>50.33</td>\n",
       "      <td>75.38</td>\n",
       "      <td>35.91</td>\n",
       "      <td>31.56</td>\n",
       "      <td>37.54</td>\n",
       "      <td>34.70</td>\n",
       "      <td>40.68</td>\n",
       "    </tr>\n",
       "    <tr>\n",
       "      <th>1021</th>\n",
       "      <td>21.91</td>\n",
       "      <td>12.79</td>\n",
       "      <td>21.91</td>\n",
       "      <td>14.00</td>\n",
       "      <td>21.91</td>\n",
       "      <td>18.77</td>\n",
       "      <td>14.00</td>\n",
       "      <td>18.77</td>\n",
       "      <td>21.91</td>\n",
       "      <td>18.77</td>\n",
       "      <td>54.43</td>\n",
       "      <td>68.51</td>\n",
       "      <td>58.77</td>\n",
       "      <td>59.20</td>\n",
       "      <td>54.43</td>\n",
       "      <td>54.43</td>\n",
       "      <td>54.43</td>\n",
       "      <td>68.51</td>\n",
       "      <td>58.77</td>\n",
       "      <td>False</td>\n",
       "      <td>184.74</td>\n",
       "      <td>92.52</td>\n",
       "      <td>92.22</td>\n",
       "      <td>56.61</td>\n",
       "      <td>54.68</td>\n",
       "      <td>73.45</td>\n",
       "      <td>34.70</td>\n",
       "      <td>35.91</td>\n",
       "      <td>40.68</td>\n",
       "      <td>32.77</td>\n",
       "      <td>40.68</td>\n",
       "    </tr>\n",
       "    <tr>\n",
       "      <th>1022</th>\n",
       "      <td>21.91</td>\n",
       "      <td>12.79</td>\n",
       "      <td>18.77</td>\n",
       "      <td>14.00</td>\n",
       "      <td>21.91</td>\n",
       "      <td>21.91</td>\n",
       "      <td>12.79</td>\n",
       "      <td>18.77</td>\n",
       "      <td>21.91</td>\n",
       "      <td>18.77</td>\n",
       "      <td>54.43</td>\n",
       "      <td>54.43</td>\n",
       "      <td>54.43</td>\n",
       "      <td>68.51</td>\n",
       "      <td>59.20</td>\n",
       "      <td>54.43</td>\n",
       "      <td>54.43</td>\n",
       "      <td>68.51</td>\n",
       "      <td>58.77</td>\n",
       "      <td>False</td>\n",
       "      <td>183.53</td>\n",
       "      <td>89.38</td>\n",
       "      <td>94.15</td>\n",
       "      <td>53.47</td>\n",
       "      <td>57.82</td>\n",
       "      <td>72.24</td>\n",
       "      <td>34.70</td>\n",
       "      <td>32.77</td>\n",
       "      <td>43.82</td>\n",
       "      <td>31.56</td>\n",
       "      <td>40.68</td>\n",
       "    </tr>\n",
       "    <tr>\n",
       "      <th>1023</th>\n",
       "      <td>18.77</td>\n",
       "      <td>12.79</td>\n",
       "      <td>18.77</td>\n",
       "      <td>12.79</td>\n",
       "      <td>18.77</td>\n",
       "      <td>18.77</td>\n",
       "      <td>12.79</td>\n",
       "      <td>18.77</td>\n",
       "      <td>21.91</td>\n",
       "      <td>21.91</td>\n",
       "      <td>58.77</td>\n",
       "      <td>58.77</td>\n",
       "      <td>58.77</td>\n",
       "      <td>58.77</td>\n",
       "      <td>58.77</td>\n",
       "      <td>58.77</td>\n",
       "      <td>58.77</td>\n",
       "      <td>59.20</td>\n",
       "      <td>68.51</td>\n",
       "      <td>False</td>\n",
       "      <td>176.04</td>\n",
       "      <td>81.89</td>\n",
       "      <td>94.15</td>\n",
       "      <td>50.33</td>\n",
       "      <td>50.33</td>\n",
       "      <td>75.38</td>\n",
       "      <td>31.56</td>\n",
       "      <td>31.56</td>\n",
       "      <td>37.54</td>\n",
       "      <td>31.56</td>\n",
       "      <td>43.82</td>\n",
       "    </tr>\n",
       "  </tbody>\n",
       "</table>\n",
       "<p>1024 rows × 31 columns</p>\n",
       "</div>"
      ],
      "text/plain": [
       "        0,0    0,1    0,2    0,3    0,4    0,5    0,6    0,7    0,8    0,9  \\\n",
       "0     18.77  12.79  18.77  12.79  18.77  18.77  14.00  18.77  21.91  18.77   \n",
       "1     21.91  14.00  18.77  12.79  18.77  21.91  14.00  21.91  21.91  21.91   \n",
       "2     21.91  12.79  18.77  12.79  21.91  18.77  14.00  21.91  21.91  18.77   \n",
       "3     18.77  12.79  18.77  14.00  18.77  18.77  14.00  21.91  18.77  21.91   \n",
       "4     21.91  14.00  18.77  14.00  18.77  21.91  12.79  21.91  18.77  18.77   \n",
       "...     ...    ...    ...    ...    ...    ...    ...    ...    ...    ...   \n",
       "1019  21.91  12.79  21.91  12.79  18.77  18.77  14.00  21.91  21.91  21.91   \n",
       "1020  21.91  14.00  18.77  12.79  18.77  18.77  12.79  21.91  21.91  18.77   \n",
       "1021  21.91  12.79  21.91  14.00  21.91  18.77  14.00  18.77  21.91  18.77   \n",
       "1022  21.91  12.79  18.77  14.00  21.91  21.91  12.79  18.77  21.91  18.77   \n",
       "1023  18.77  12.79  18.77  12.79  18.77  18.77  12.79  18.77  21.91  21.91   \n",
       "\n",
       "      0,0+0,1   +0,2   +0,3   +0,4   +0,5   +0,6   +0,7   +0,8   +0,9  \\\n",
       "0       58.77  58.77  58.77  58.77  58.77  58.77  58.77  59.20  54.43   \n",
       "1       54.43  54.43  54.43  54.43  68.51  58.77  59.20  68.51  59.20   \n",
       "2       54.43  54.43  54.43  68.51  58.77  58.77  59.20  68.51  58.77   \n",
       "3       58.77  58.77  58.77  58.77  58.77  58.77  59.20  54.43  68.51   \n",
       "4       54.43  54.43  54.43  54.43  68.51  58.77  59.20  54.43  54.43   \n",
       "...       ...    ...    ...    ...    ...    ...    ...    ...    ...   \n",
       "1019    54.43  68.51  58.77  58.77  58.77  58.77  59.20  68.51  59.20   \n",
       "1020    54.43  54.43  54.43  54.43  54.43  54.43  68.51  59.20  54.43   \n",
       "1021    54.43  68.51  58.77  59.20  54.43  54.43  54.43  68.51  58.77   \n",
       "1022    54.43  54.43  54.43  68.51  59.20  54.43  54.43  68.51  58.77   \n",
       "1023    58.77  58.77  58.77  58.77  58.77  58.77  58.77  59.20  68.51   \n",
       "\n",
       "      More_1_than_0    row0  row0_1/2  row0_2/2  row0_1/3  row0_2/3  row0_3/3  \\\n",
       "0              True  174.11     81.89     92.22     50.33     50.33     73.45   \n",
       "1              True  187.88     86.24    101.64     54.68     53.47     79.73   \n",
       "2             False  183.53     88.17     95.36     53.47     53.47     76.59   \n",
       "3             False  178.46     83.10     95.36     50.33     51.54     76.59   \n",
       "4              True  181.60     87.45     94.15     54.68     54.68     72.24   \n",
       "...             ...     ...       ...       ...       ...       ...       ...   \n",
       "1019           True  186.67     88.17     98.50     56.61     50.33     79.73   \n",
       "1020           True  180.39     86.24     94.15     54.68     50.33     75.38   \n",
       "1021          False  184.74     92.52     92.22     56.61     54.68     73.45   \n",
       "1022          False  183.53     89.38     94.15     53.47     57.82     72.24   \n",
       "1023          False  176.04     81.89     94.15     50.33     50.33     75.38   \n",
       "\n",
       "      row0_1/5  row0_2/5  row0_3/5  row0_4/5  row0_5/5  \n",
       "0        31.56     31.56     37.54     32.77     40.68  \n",
       "1        35.91     31.56     40.68     35.91     43.82  \n",
       "2        34.70     31.56     40.68     35.91     40.68  \n",
       "3        31.56     32.77     37.54     35.91     40.68  \n",
       "4        35.91     32.77     40.68     34.70     37.54  \n",
       "...        ...       ...       ...       ...       ...  \n",
       "1019     34.70     34.70     37.54     35.91     43.82  \n",
       "1020     35.91     31.56     37.54     34.70     40.68  \n",
       "1021     34.70     35.91     40.68     32.77     40.68  \n",
       "1022     34.70     32.77     43.82     31.56     40.68  \n",
       "1023     31.56     31.56     37.54     31.56     43.82  \n",
       "\n",
       "[1024 rows x 31 columns]"
      ]
     },
     "metadata": {},
     "output_type": "display_data"
    }
   ],
   "source": [
    "# Check some trends in data (turn off numba engine first)\n",
    "pd.set_option('compute.use_numba', False)\n",
    "df2 = df.copy()\n",
    "df2.intent = ['More_1_than_0']\n",
    "display(df2)\n",
    "pd.set_option('compute.use_numba', True)"
   ]
  },
  {
   "cell_type": "code",
   "execution_count": 486,
   "id": "e2079e6b",
   "metadata": {
    "ExecuteTime": {
     "end_time": "2021-09-06T01:31:17.694856Z",
     "start_time": "2021-09-06T00:46:39.752756Z"
    },
    "collapsed": true
   },
   "outputs": [
    {
     "data": {
      "application/vnd.jupyter.widget-view+json": {
       "model_id": "958894d2c1c143c9bf0973aadeaac3bc",
       "version_major": 2,
       "version_minor": 0
      },
      "text/plain": [
       "Summarize dataset:   0%|          | 0/161 [00:00<?, ?it/s]"
      ]
     },
     "metadata": {},
     "output_type": "display_data"
    },
    {
     "name": "stderr",
     "output_type": "stream",
     "text": [
      "C:\\Users\\V082335\\Anaconda3\\lib\\site-packages\\pandas\\core\\series.py:1441: PerformanceWarning:DataFrame is highly fragmented.  This is usually the result of calling `frame.insert` many times, which has poor performance.  Consider using pd.concat instead.  To get a de-fragmented frame, use `newframe = frame.copy()`\n"
     ]
    },
    {
     "data": {
      "application/vnd.jupyter.widget-view+json": {
       "model_id": "e895d74947df4dd0b25737f37ccef8a6",
       "version_major": 2,
       "version_minor": 0
      },
      "text/plain": [
       "Generate report structure:   0%|          | 0/1 [00:00<?, ?it/s]"
      ]
     },
     "metadata": {},
     "output_type": "display_data"
    },
    {
     "data": {
      "application/vnd.jupyter.widget-view+json": {
       "model_id": "05ae27b53a03480f967565f18ec8c7bc",
       "version_major": 2,
       "version_minor": 0
      },
      "text/plain": [
       "Render HTML:   0%|          | 0/1 [00:00<?, ?it/s]"
      ]
     },
     "metadata": {},
     "output_type": "display_data"
    },
    {
     "data": {
      "application/vnd.jupyter.widget-view+json": {
       "model_id": "b37b6435ae9840428b47c55a0cbabba9",
       "version_major": 2,
       "version_minor": 0
      },
      "text/plain": [
       "Export report to file:   0%|          | 0/1 [00:00<?, ?it/s]"
      ]
     },
     "metadata": {},
     "output_type": "display_data"
    }
   ],
   "source": [
    "# Generate pandas profiling report\n",
    "profile = ProfileReport(df, title=\"More_1s_or_0s Power_per_Op Dataset Report\", explorative=True)\n",
    "# profile.to_widgets()\n",
    "profile.to_file(\"Docs/More_1s_or_0s_-_Power_per_Op_report.html\")"
   ]
  },
  {
   "cell_type": "markdown",
   "id": "bec7603e",
   "metadata": {},
   "source": [
    "### Split data"
   ]
  },
  {
   "cell_type": "code",
   "execution_count": 15,
   "id": "0d8996cb",
   "metadata": {
    "ExecuteTime": {
     "end_time": "2021-11-20T04:05:05.416954Z",
     "start_time": "2021-11-20T04:05:05.406136Z"
    }
   },
   "outputs": [],
   "source": [
    "# Split data into training & test set\n",
    "X = np.asarray(df.drop('More_1_than_0', axis=1))\n",
    "y = np.asarray(df['More_1_than_0'])\n",
    "\n",
    "# X_train, X_test, y_train, y_test = train_test_split(X, y, test_size=0.2, random_state=seed) # used before cross-val"
   ]
  },
  {
   "cell_type": "markdown",
   "id": "6e0648c2",
   "metadata": {},
   "source": [
    "## Classifiers"
   ]
  },
  {
   "cell_type": "markdown",
   "id": "00a31be3",
   "metadata": {},
   "source": [
    "Models able to to predict with ~100% accuracy:\n",
    "- Logistic regression\n",
    "- All SVM\n",
    "- Gaussian Naïve Bayes\n",
    "- Decision tree\n",
    "\n",
    "Models which comparatively suck:\n",
    "- None"
   ]
  },
  {
   "cell_type": "code",
   "execution_count": 17,
   "id": "a692c4af",
   "metadata": {
    "ExecuteTime": {
     "end_time": "2021-11-20T04:05:55.549010Z",
     "start_time": "2021-11-20T04:05:55.528190Z"
    },
    "code_folding": []
   },
   "outputs": [],
   "source": [
    "# Train model with stratified k-fold cross-validation & get statistics\n",
    "def Train_stratCV(model, X, y, n_splits=5, seed=seed):\n",
    "    skf = StratifiedKFold(n_splits, shuffle=True, random_state=seed)\n",
    "    lst_acc = []\n",
    "    lst_y_pred = [] # not used yet\n",
    "\n",
    "    # Train & test each fold\n",
    "    for train_idx, test_idx in skf.split(X, y):\n",
    "        x_train_fold, x_test_fold = X[train_idx], X[test_idx]\n",
    "        y_train_fold, y_test_fold = y[train_idx], y[test_idx]\n",
    "        model.fit(x_train_fold, y_train_fold)\n",
    "        lst_acc.append(model.score(x_test_fold, y_test_fold))\n",
    "        lst_y_pred.append(model.predict(x_test_fold))\n",
    "\n",
    "    print(f'\\nList of accuracies: {lst_acc}')\n",
    "    print(f'Min/max accuracy:   {min(lst_acc):.2%} <---> {max(lst_acc):.2%}')\n",
    "    print(f'Mean accuracy:      {np.mean(lst_acc):.2%} +- {np.std(lst_acc):.3%}')\n",
    "    \n",
    "    # add more stats\n",
    "    \n",
    "    return lst_acc, lst_y_pred\n",
    "\n",
    "# accuracy_score(y_test, y_pred) # how often is the classifier correct?\n",
    "# confusion_matrix(y_test, y_pred, normalize='pred') # precision\n",
    "# confusion_matrix(y_test, y_pred, normalize='true') # recall\n",
    "# classification_report(y_test, y_pred, output_dict=True)"
   ]
  },
  {
   "cell_type": "markdown",
   "id": "4fd5d621",
   "metadata": {},
   "source": [
    "### Logistic regression"
   ]
  },
  {
   "cell_type": "code",
   "execution_count": 21,
   "id": "220eb9aa",
   "metadata": {
    "ExecuteTime": {
     "end_time": "2021-11-20T02:24:04.657643Z",
     "start_time": "2021-11-20T02:24:03.426459Z"
    }
   },
   "outputs": [
    {
     "name": "stdout",
     "output_type": "stream",
     "text": [
      "Convergence after 47 epochs took 0.20 seconds\n",
      "Convergence after 49 epochs took 0.24 seconds\n",
      "Convergence after 47 epochs took 0.22 seconds\n",
      "Convergence after 47 epochs took 0.22 seconds\n",
      "Convergence after 47 epochs took 0.26 seconds\n",
      "\n",
      "List of accuracies: [1.0, 1.0, 1.0, 1.0, 1.0]\n",
      "Min/max accuracy:   100.00% <---> 100.00%\n",
      "Mean accuracy:      100.00% +- 0.000%\n"
     ]
    }
   ],
   "source": [
    "model = SGDClassifier(loss='log', learning_rate='adaptive', eta0=1e-1, max_iter=1e5, tol=1e-5, n_jobs=-1, random_state=seed,\n",
    "                      verbose=-1)\n",
    "# model.fit(X_train, y_train) # used before cross-val\n",
    "acc_strat, y_pred = Train_stratCV(model, X, y, 5, seed)"
   ]
  },
  {
   "cell_type": "code",
   "execution_count": 164,
   "id": "5e9a7fa7",
   "metadata": {
    "ExecuteTime": {
     "end_time": "2021-08-31T01:57:11.200422Z",
     "start_time": "2021-08-31T01:57:11.188455Z"
    },
    "code_folding": [
     0
    ],
    "scrolled": true
   },
   "outputs": [],
   "source": [
    "# # Get prediction statistics (used before cross-val)\n",
    "# y_pred = model.predict(X_test)\n",
    "# print('Confusion matrix: \\n', confusion_matrix(y_test, y_pred))\n",
    "# print('\\nReport: \\n', classification_report(y_test, y_pred, digits=3))\n",
    "\n",
    "# print(f'Mean accuracy on test set: {model.score(X_test, y_test):.2%}')\n",
    "\n",
    "# y_prob = model.predict_proba(X_test)\n",
    "# print(f'Mean certainty (even if wrong): {np.mean(np.max(y_prob, axis=1)):.2%}')"
   ]
  },
  {
   "cell_type": "markdown",
   "id": "ffb1c7b7",
   "metadata": {},
   "source": [
    "### SVM"
   ]
  },
  {
   "cell_type": "markdown",
   "id": "095d5cfa",
   "metadata": {},
   "source": [
    "#### Linear kernel"
   ]
  },
  {
   "cell_type": "code",
   "execution_count": 22,
   "id": "ebf3d46d",
   "metadata": {
    "ExecuteTime": {
     "end_time": "2021-11-20T02:24:12.763975Z",
     "start_time": "2021-11-20T02:24:10.653724Z"
    }
   },
   "outputs": [
    {
     "name": "stdout",
     "output_type": "stream",
     "text": [
      "\n",
      "List of accuracies: [1.0, 1.0, 1.0, 1.0, 1.0]\n",
      "Min/max accuracy:   100.00% <---> 100.00%\n",
      "Mean accuracy:      100.00% +- 0.000%\n"
     ]
    }
   ],
   "source": [
    "model = SVC(kernel='linear', probability=False, random_state=seed, verbose=True)\n",
    "# model.fit(X_train, y_train) # used before cross-val\n",
    "acc_strat, y_pred = Train_stratCV(model, X, y, 5, seed)"
   ]
  },
  {
   "cell_type": "code",
   "execution_count": 646,
   "id": "90217a7e",
   "metadata": {
    "ExecuteTime": {
     "end_time": "2021-08-25T05:27:13.743032Z",
     "start_time": "2021-08-25T05:27:13.725081Z"
    },
    "code_folding": [
     0
    ],
    "scrolled": true
   },
   "outputs": [],
   "source": [
    "# # Get prediction statistics (used before cross-val)\n",
    "# y_pred = model.predict(X_test)\n",
    "# print('Confusion matrix: \\n', confusion_matrix(y_test, y_pred))\n",
    "# print('\\nReport: \\n', classification_report(y_test, y_pred, digits=3))\n",
    "\n",
    "# print(f'Mean accuracy on test set: {model.score(X_test, y_test):.2%}')\n",
    "\n",
    "# y_prob = model.predict_proba(X_test)\n",
    "# print(f'Mean certainty (even if wrong): {np.mean(np.max(y_prob, axis=1)):.2%}')"
   ]
  },
  {
   "cell_type": "code",
   "execution_count": 329,
   "id": "1d9f4ed1",
   "metadata": {
    "ExecuteTime": {
     "end_time": "2021-09-16T02:33:52.496645Z",
     "start_time": "2021-09-16T02:33:51.920168Z"
    }
   },
   "outputs": [
    {
     "name": "stdout",
     "output_type": "stream",
     "text": [
      "Convergence after 53 epochs took 0.10 seconds\n",
      "Convergence after 56 epochs took 0.12 seconds\n",
      "Convergence after 53 epochs took 0.09 seconds\n",
      "Convergence after 55 epochs took 0.10 seconds\n",
      "Convergence after 52 epochs took 0.10 seconds\n",
      "\n",
      "List of accuracies: [1.0, 1.0, 1.0, 1.0, 1.0]\n",
      "Min/max accuracy:   100.00% <---> 100.00%\n",
      "Mean accuracy:      100.00% +- 0.000%\n"
     ]
    }
   ],
   "source": [
    "model = SGDClassifier(loss='hinge', learning_rate='adaptive', eta0=1e0, tol=1e-5, n_jobs=-1, random_state=seed, verbose=-1)\n",
    "# model.fit(X_train, y_train) # used before cross-val\n",
    "acc_strat, y_pred = Train_stratCV(model, X, y, 5, seed)"
   ]
  },
  {
   "cell_type": "code",
   "execution_count": 186,
   "id": "e157670e",
   "metadata": {
    "ExecuteTime": {
     "end_time": "2021-08-30T01:50:25.511257Z",
     "start_time": "2021-08-30T01:50:25.499509Z"
    },
    "code_folding": [
     0
    ]
   },
   "outputs": [],
   "source": [
    "# # Get prediction statistics (used before cross-val)\n",
    "# y_pred = model.predict(X_test)\n",
    "# print('Confusion matrix: \\n', confusion_matrix(y_test, y_pred))\n",
    "# print('\\nReport: \\n', classification_report(y_test, y_pred, digits=3))\n",
    "\n",
    "# print(f'Mean accuracy on test set: {model.score(X_test, y_test):.2%}')\n",
    "\n",
    "# y_prob = model.predict_proba(X_test)\n",
    "# print(f'Mean certainty (even if wrong): {np.mean(np.max(y_prob, axis=1)):.2%}')"
   ]
  },
  {
   "cell_type": "code",
   "execution_count": 23,
   "id": "2aea837b",
   "metadata": {
    "ExecuteTime": {
     "end_time": "2021-11-20T02:24:20.021384Z",
     "start_time": "2021-11-20T02:24:19.144778Z"
    }
   },
   "outputs": [
    {
     "name": "stdout",
     "output_type": "stream",
     "text": [
      "[LibLinear][LibLinear][LibLinear][LibLinear][LibLinear]\n",
      "List of accuracies: [1.0, 1.0, 1.0, 1.0, 1.0]\n",
      "Min/max accuracy:   100.00% <---> 100.00%\n",
      "Mean accuracy:      100.00% +- 0.000%\n"
     ]
    }
   ],
   "source": [
    "model = LinearSVC(loss='squared_hinge', dual=False, tol=1e-5, random_state=seed, verbose=1)\n",
    "# model.fit(X_train, y_train) # used before cross-val\n",
    "acc_strat, y_pred = Train_stratCV(model, X, y, 5, seed)"
   ]
  },
  {
   "cell_type": "code",
   "execution_count": 188,
   "id": "cdb5be7e",
   "metadata": {
    "ExecuteTime": {
     "end_time": "2021-08-30T01:50:36.832150Z",
     "start_time": "2021-08-30T01:50:36.819840Z"
    },
    "code_folding": [
     0
    ],
    "scrolled": false
   },
   "outputs": [],
   "source": [
    "# # Get prediction statistics (used before cross-val)\n",
    "# y_pred = model.predict(X_test)\n",
    "# print('Confusion matrix: \\n', confusion_matrix(y_test, y_pred))\n",
    "# print('\\nReport: \\n', classification_report(y_test, y_pred, digits=3))\n",
    "\n",
    "# print(f'Mean accuracy on test set: {model.score(X_test, y_test):.2%}')\n",
    "\n",
    "# y_prob = model.predict_proba(X_test)\n",
    "# print(f'Mean certainty (even if wrong): {np.mean(np.max(y_prob, axis=1)):.2%}')"
   ]
  },
  {
   "cell_type": "markdown",
   "id": "d8aa52a1",
   "metadata": {},
   "source": [
    "#### Gaussian kernel"
   ]
  },
  {
   "cell_type": "code",
   "execution_count": 43,
   "id": "334a4709",
   "metadata": {
    "ExecuteTime": {
     "end_time": "2021-09-16T16:10:58.432241Z",
     "start_time": "2021-09-16T16:08:12.590187Z"
    }
   },
   "outputs": [
    {
     "name": "stdout",
     "output_type": "stream",
     "text": [
      "[LibSVM][LibSVM][LibSVM][LibSVM][LibSVM]\n",
      "List of accuracies: [1.0, 1.0, 1.0, 1.0, 1.0]\n",
      "Min/max accuracy:   100.00% <---> 100.00%\n",
      "Mean accuracy:      100.00% +- 0.000%\n"
     ]
    }
   ],
   "source": [
    "model = SVC(kernel='rbf', gamma='scale', tol=1e-5, probability=False, random_state=seed, verbose=True)\n",
    "# model.fit(X_train, y_train) # used before cross-val\n",
    "acc_strat, y_pred = Train_stratCV(model, X, y, 5, seed)"
   ]
  },
  {
   "cell_type": "code",
   "execution_count": 42,
   "id": "fc579652",
   "metadata": {
    "ExecuteTime": {
     "end_time": "2021-09-16T16:08:08.280601Z",
     "start_time": "2021-09-16T15:54:16.592555Z"
    }
   },
   "outputs": [
    {
     "name": "stdout",
     "output_type": "stream",
     "text": [
      "[LibSVM][LibSVM][LibSVM][LibSVM][LibSVM]\n",
      "List of accuracies: [0.701, 0.689, 0.69, 0.6795, 0.698]\n",
      "Min/max accuracy:   67.95% <---> 70.10%\n",
      "Mean accuracy:      69.15% +- 0.755%\n"
     ]
    }
   ],
   "source": [
    "model = SVC(kernel='rbf', gamma='auto', tol=1e-5, probability=False, random_state=seed, verbose=True)\n",
    "# model.fit(X_train, y_train) # used before cross-val\n",
    "acc_strat, y_pred = Train_stratCV(model, X, y, 5, seed)"
   ]
  },
  {
   "cell_type": "code",
   "execution_count": 189,
   "id": "185eccdf",
   "metadata": {
    "ExecuteTime": {
     "end_time": "2021-08-30T01:50:54.686859Z",
     "start_time": "2021-08-30T01:50:54.673360Z"
    },
    "code_folding": [
     0
    ]
   },
   "outputs": [],
   "source": [
    "# # Get prediction statistics (used before cross-val)\n",
    "# y_pred = model.predict(X_test)\n",
    "# print('Confusion matrix: \\n', confusion_matrix(y_test, y_pred))\n",
    "# print('\\nReport: \\n', classification_report(y_test, y_pred, digits=3))\n",
    "\n",
    "# print(f'Mean accuracy on test set: {model.score(X_test, y_test):.2%}')\n",
    "\n",
    "# y_prob = model.predict_proba(X_test)\n",
    "# print(f'Mean certainty (even if wrong): {np.mean(np.max(y_prob, axis=1)):.2%}')"
   ]
  },
  {
   "cell_type": "markdown",
   "id": "3d130321",
   "metadata": {},
   "source": [
    "#### Polynomial kernel"
   ]
  },
  {
   "cell_type": "code",
   "execution_count": 347,
   "id": "cf006989",
   "metadata": {
    "ExecuteTime": {
     "end_time": "2021-09-16T03:07:01.427917Z",
     "start_time": "2021-09-16T03:06:55.636882Z"
    }
   },
   "outputs": [
    {
     "name": "stdout",
     "output_type": "stream",
     "text": [
      "[LibSVM][LibSVM][LibSVM][LibSVM][LibSVM]\n",
      "List of accuracies: [1.0, 1.0, 1.0, 1.0, 1.0]\n",
      "Min/max accuracy:   100.00% <---> 100.00%\n",
      "Mean accuracy:      100.00% +- 0.000%\n"
     ]
    }
   ],
   "source": [
    "model = SVC(kernel='poly', degree=3, coef0=0., tol=1e-5, probability=False, random_state=seed, verbose=True)\n",
    "# model.fit(X_train, y_train) # used before cross-val\n",
    "acc_strat, y_pred = Train_stratCV(model, X, y, 5, seed)"
   ]
  },
  {
   "cell_type": "code",
   "execution_count": 334,
   "id": "8056dce3",
   "metadata": {
    "ExecuteTime": {
     "end_time": "2021-09-16T02:36:24.472937Z",
     "start_time": "2021-09-16T02:36:14.647879Z"
    }
   },
   "outputs": [
    {
     "name": "stdout",
     "output_type": "stream",
     "text": [
      "[LibSVM][LibSVM][LibSVM][LibSVM][LibSVM]\n",
      "List of accuracies: [1.0, 1.0, 1.0, 1.0, 1.0]\n",
      "Min/max accuracy:   100.00% <---> 100.00%\n",
      "Mean accuracy:      100.00% +- 0.000%\n"
     ]
    }
   ],
   "source": [
    "model = SVC(kernel='poly', degree=4, coef0=0., tol=1e-5, probability=False, random_state=seed, verbose=True)\n",
    "# model.fit(X_train, y_train) # used before cross-val\n",
    "acc_strat, y_pred = Train_stratCV(model, X, y, 5, seed)"
   ]
  },
  {
   "cell_type": "code",
   "execution_count": 657,
   "id": "e7651bd2",
   "metadata": {
    "ExecuteTime": {
     "end_time": "2021-08-25T05:34:53.238485Z",
     "start_time": "2021-08-25T05:34:53.226514Z"
    },
    "code_folding": [
     0
    ]
   },
   "outputs": [],
   "source": [
    "# # Get prediction statistics (used before cross-val)\n",
    "# y_pred = model.predict(X_test)\n",
    "# print('Confusion matrix: \\n', confusion_matrix(y_test, y_pred))\n",
    "# print('\\nReport: \\n', classification_report(y_test, y_pred, digits=3))\n",
    "\n",
    "# print(f'Mean accuracy on test set: {model.score(X_test, y_test):.2%}')\n",
    "\n",
    "# y_prob = model.predict_proba(X_test)\n",
    "# print(f'Mean certainty (even if wrong): {np.mean(np.max(y_prob, axis=1)):.2%}')"
   ]
  },
  {
   "cell_type": "markdown",
   "id": "4e1ccbda",
   "metadata": {},
   "source": [
    "#### Sigmoid kernel"
   ]
  },
  {
   "cell_type": "code",
   "execution_count": 45,
   "id": "fc77dd4d",
   "metadata": {
    "ExecuteTime": {
     "end_time": "2021-09-16T16:13:16.489207Z",
     "start_time": "2021-09-16T16:12:57.802166Z"
    }
   },
   "outputs": [
    {
     "name": "stdout",
     "output_type": "stream",
     "text": [
      "[LibSVM][LibSVM][LibSVM][LibSVM][LibSVM]\n",
      "List of accuracies: [1.0, 1.0, 1.0, 1.0, 1.0]\n",
      "Min/max accuracy:   100.00% <---> 100.00%\n",
      "Mean accuracy:      100.00% +- 0.000%\n"
     ]
    }
   ],
   "source": [
    "model = SVC(kernel='sigmoid', gamma='scale', coef0=-1., tol=1e-5, probability=False, random_state=seed, verbose=True)\n",
    "# model.fit(X_train, y_train) # used before cross-val\n",
    "acc_strat, y_pred = Train_stratCV(model, X, y, 5, seed)"
   ]
  },
  {
   "cell_type": "code",
   "execution_count": 44,
   "id": "3131f3c3",
   "metadata": {
    "ExecuteTime": {
     "end_time": "2021-09-16T16:13:16.489207Z",
     "start_time": "2021-09-16T16:12:57.802166Z"
    }
   },
   "outputs": [
    {
     "name": "stdout",
     "output_type": "stream",
     "text": [
      "[LibSVM][LibSVM][LibSVM][LibSVM][LibSVM]\n",
      "List of accuracies: [0.5045, 0.5045, 0.504, 0.504, 0.5045]\n",
      "Min/max accuracy:   50.40% <---> 50.45%\n",
      "Mean accuracy:      50.43% +- 0.024%\n"
     ]
    }
   ],
   "source": [
    "model = SVC(kernel='sigmoid', gamma='auto', coef0=-1., tol=1e-5, probability=False, random_state=seed, verbose=True)\n",
    "# model.fit(X_train, y_train) # used before cross-val\n",
    "acc_strat, y_pred = Train_stratCV(model, X, y, 5, seed)"
   ]
  },
  {
   "cell_type": "code",
   "execution_count": 658,
   "id": "0f0a2222",
   "metadata": {
    "ExecuteTime": {
     "end_time": "2021-08-25T05:35:03.651342Z",
     "start_time": "2021-08-25T05:35:03.638378Z"
    },
    "code_folding": [
     0
    ],
    "scrolled": false
   },
   "outputs": [],
   "source": [
    "# # Get prediction statistics (used before cross-val)\n",
    "# y_pred = model.predict(X_test)\n",
    "# print('Confusion matrix: \\n', confusion_matrix(y_test, y_pred))\n",
    "# print('\\nReport: \\n', classification_report(y_test, y_pred, digits=3))\n",
    "\n",
    "# print(f'Mean accuracy on test set: {model.score(X_test, y_test):.2%}')\n",
    "\n",
    "# y_prob = model.predict_proba(X_test)\n",
    "# print(f'Mean certainty (even if wrong): {np.mean(np.max(y_prob, axis=1)):.2%}')"
   ]
  },
  {
   "cell_type": "markdown",
   "id": "1f4231d0",
   "metadata": {},
   "source": [
    "### Naïve Bayes"
   ]
  },
  {
   "cell_type": "markdown",
   "id": "350bca37",
   "metadata": {},
   "source": [
    "#### Gaussian NB"
   ]
  },
  {
   "cell_type": "code",
   "execution_count": 24,
   "id": "48e357b4",
   "metadata": {
    "ExecuteTime": {
     "end_time": "2021-11-20T02:24:27.276462Z",
     "start_time": "2021-11-20T02:24:27.092838Z"
    }
   },
   "outputs": [
    {
     "name": "stdout",
     "output_type": "stream",
     "text": [
      "\n",
      "List of accuracies: [1.0, 1.0, 1.0, 1.0, 1.0]\n",
      "Min/max accuracy:   100.00% <---> 100.00%\n",
      "Mean accuracy:      100.00% +- 0.000%\n"
     ]
    }
   ],
   "source": [
    "model = GaussianNB()\n",
    "# model.fit(X_train, y_train) # used before cross-val\n",
    "acc_strat, y_pred = Train_stratCV(model, X, y, 5, seed)"
   ]
  },
  {
   "cell_type": "code",
   "execution_count": 72,
   "id": "250ce4c8",
   "metadata": {
    "ExecuteTime": {
     "end_time": "2021-08-25T06:44:50.199565Z",
     "start_time": "2021-08-25T06:44:50.183608Z"
    },
    "code_folding": [
     0
    ]
   },
   "outputs": [],
   "source": [
    "# # Get prediction statistics (used before cross-val)\n",
    "# y_pred = model.predict(X_test)\n",
    "# print('Confusion matrix: \\n', confusion_matrix(y_test, y_pred))\n",
    "# print('\\nReport: \\n', classification_report(y_test, y_pred, digits=3))\n",
    "\n",
    "# print(f'Mean accuracy on test set: {model.score(X_test, y_test):.2%}')\n",
    "\n",
    "# y_prob = model.predict_proba(X_test)\n",
    "# print(f'Mean certainty (even if wrong): {np.mean(np.max(y_prob, axis=1)):.2%}')"
   ]
  },
  {
   "cell_type": "markdown",
   "id": "687d07fb",
   "metadata": {
    "heading_collapsed": true
   },
   "source": [
    "#### Multinomial NB"
   ]
  },
  {
   "cell_type": "code",
   "execution_count": 343,
   "id": "89dfa242",
   "metadata": {
    "ExecuteTime": {
     "end_time": "2021-09-16T03:05:49.197814Z",
     "start_time": "2021-09-16T03:05:49.185188Z"
    },
    "hidden": true
   },
   "outputs": [],
   "source": [
    "model = MultinomialNB() # does not work with negative values\n",
    "# model.fit(X_train, y_train) # used before cross-val\n",
    "# acc_strat, y_pred = Train_stratCV(model, X, y, 5, seed)"
   ]
  },
  {
   "cell_type": "code",
   "execution_count": 43,
   "id": "dae42455",
   "metadata": {
    "ExecuteTime": {
     "end_time": "2021-08-25T05:53:35.319986Z",
     "start_time": "2021-08-25T05:53:35.307021Z"
    },
    "code_folding": [
     0
    ],
    "hidden": true
   },
   "outputs": [],
   "source": [
    "# # Get prediction statistics (used before cross-val)\n",
    "# y_pred = model.predict(X_test)\n",
    "# print('Confusion matrix: \\n', confusion_matrix(y_test, y_pred))\n",
    "# print('\\nReport: \\n', classification_report(y_test, y_pred, digits=3))\n",
    "\n",
    "# print(f'Mean accuracy on test set: {model.score(X_test, y_test):.2%}')\n",
    "\n",
    "# y_prob = model.predict_proba(X_test)\n",
    "# print(f'Mean certainty (even if wrong): {np.mean(np.max(y_prob, axis=1)):.2%}')"
   ]
  },
  {
   "cell_type": "markdown",
   "id": "ec4488ca",
   "metadata": {
    "heading_collapsed": true
   },
   "source": [
    "#### Categorical NB"
   ]
  },
  {
   "cell_type": "code",
   "execution_count": 253,
   "id": "4cc285c6",
   "metadata": {
    "ExecuteTime": {
     "end_time": "2021-09-16T02:14:32.114624Z",
     "start_time": "2021-09-16T02:14:32.100572Z"
    },
    "hidden": true
   },
   "outputs": [],
   "source": [
    "model = CategoricalNB() # does not work with negative values\n",
    "# model.fit(X_train, y_train) # used before cross-val\n",
    "# acc_strat, y_pred = Train_stratCV(model, X, y, 5, seed)"
   ]
  },
  {
   "cell_type": "code",
   "execution_count": 1,
   "id": "903986a5",
   "metadata": {
    "ExecuteTime": {
     "end_time": "2021-09-22T11:37:44.961655Z",
     "start_time": "2021-09-22T11:37:44.945684Z"
    },
    "code_folding": [
     0
    ],
    "hidden": true
   },
   "outputs": [],
   "source": [
    "# # Get prediction statistics (used before cross-val)\n",
    "# y_pred = model.predict(X_test)\n",
    "# print('Confusion matrix: \\n', confusion_matrix(y_test, y_pred))\n",
    "# print('\\nReport: \\n', classification_report(y_test, y_pred, digits=3))\n",
    "\n",
    "# print(f'Mean accuracy on test set: {model.score(X_test, y_test):.2%}')\n",
    "\n",
    "# y_prob = model.predict_proba(X_test)\n",
    "# print(f'Mean certainty (even if wrong): {np.mean(np.max(y_prob, axis=1)):.2%}')"
   ]
  },
  {
   "cell_type": "markdown",
   "id": "3bafde67",
   "metadata": {},
   "source": [
    "### Decision tree"
   ]
  },
  {
   "cell_type": "code",
   "execution_count": 18,
   "id": "5c9115f9",
   "metadata": {
    "ExecuteTime": {
     "end_time": "2021-11-20T04:06:03.482322Z",
     "start_time": "2021-11-20T04:06:02.971330Z"
    },
    "code_folding": []
   },
   "outputs": [
    {
     "name": "stdout",
     "output_type": "stream",
     "text": [
      "\n",
      "List of accuracies: [1.0, 1.0, 1.0, 1.0, 1.0]\n",
      "Min/max accuracy:   100.00% <---> 100.00%\n",
      "Mean accuracy:      100.00% +- 0.000%\n"
     ]
    },
    {
     "data": {
      "text/plain": [
       "(1, 2)"
      ]
     },
     "execution_count": 18,
     "metadata": {},
     "output_type": "execute_result"
    }
   ],
   "source": [
    "model = DecisionTreeClassifier(max_depth=None,\n",
    "                               max_features=None,\n",
    "                               max_leaf_nodes=None,\n",
    "                               min_impurity_decrease=0.,\n",
    "                               random_state=seed)\n",
    "\n",
    "acc_strat, y_pred = Train_stratCV(model, X, y, 5, seed)\n",
    "# cross_val_score(model, X, y, cv=5, n_jobs=-1, verbose=1)\n",
    "\n",
    "model.get_depth(), model.get_n_leaves()"
   ]
  },
  {
   "cell_type": "code",
   "execution_count": 19,
   "id": "a22323c4",
   "metadata": {
    "ExecuteTime": {
     "end_time": "2021-11-20T04:39:59.139219Z",
     "start_time": "2021-11-20T04:39:58.728528Z"
    },
    "scrolled": false
   },
   "outputs": [
    {
     "data": {
      "image/svg+xml": [
       "<?xml version=\"1.0\" encoding=\"UTF-8\" standalone=\"no\"?>\n",
       "<!DOCTYPE svg PUBLIC \"-//W3C//DTD SVG 1.1//EN\"\n",
       " \"http://www.w3.org/Graphics/SVG/1.1/DTD/svg11.dtd\">\n",
       "<!-- Generated by graphviz version 2.49.3 (0)\n",
       " -->\n",
       "<!-- Title: Tree Pages: 1 -->\n",
       "<svg width=\"266pt\" height=\"195pt\"\n",
       " viewBox=\"0.00 0.00 266.00 195.00\" xmlns=\"http://www.w3.org/2000/svg\" xmlns:xlink=\"http://www.w3.org/1999/xlink\">\n",
       "<g id=\"graph0\" class=\"graph\" transform=\"scale(1 1) rotate(0) translate(4 191)\">\n",
       "<title>Tree</title>\n",
       "<polygon fill=\"white\" stroke=\"transparent\" points=\"-4,4 -4,-191 262,-191 262,4 -4,4\"/>\n",
       "<!-- 0 -->\n",
       "<g id=\"node1\" class=\"node\">\n",
       "<title>0</title>\n",
       "<path fill=\"#fffdfc\" stroke=\"black\" d=\"M189,-187C189,-187 69,-187 69,-187 63,-187 57,-181 57,-175 57,-175 57,-116 57,-116 57,-110 63,-104 69,-104 69,-104 189,-104 189,-104 195,-104 201,-110 201,-116 201,-116 201,-175 201,-175 201,-181 195,-187 189,-187\"/>\n",
       "<text text-anchor=\"start\" x=\"83.5\" y=\"-171.8\" font-family=\"Helvetica,sans-Serif\" font-size=\"14.00\">+0,49 ≤ &#45;3.628</text>\n",
       "<text text-anchor=\"start\" x=\"100\" y=\"-156.8\" font-family=\"Helvetica,sans-Serif\" font-size=\"14.00\">gini = 0.5</text>\n",
       "<text text-anchor=\"start\" x=\"79\" y=\"-141.8\" font-family=\"Helvetica,sans-Serif\" font-size=\"14.00\">samples = 8000</text>\n",
       "<text text-anchor=\"start\" x=\"65\" y=\"-126.8\" font-family=\"Helvetica,sans-Serif\" font-size=\"14.00\">value = [4031, 3969]</text>\n",
       "<text text-anchor=\"start\" x=\"101\" y=\"-111.8\" font-family=\"Helvetica,sans-Serif\" font-size=\"14.00\">class = 0</text>\n",
       "</g>\n",
       "<!-- 1 -->\n",
       "<g id=\"node2\" class=\"node\">\n",
       "<title>1</title>\n",
       "<path fill=\"#399de5\" stroke=\"black\" d=\"M108,-68C108,-68 12,-68 12,-68 6,-68 0,-62 0,-56 0,-56 0,-12 0,-12 0,-6 6,0 12,0 12,0 108,0 108,0 114,0 120,-6 120,-12 120,-12 120,-56 120,-56 120,-62 114,-68 108,-68\"/>\n",
       "<text text-anchor=\"start\" x=\"31\" y=\"-52.8\" font-family=\"Helvetica,sans-Serif\" font-size=\"14.00\">gini = 0.0</text>\n",
       "<text text-anchor=\"start\" x=\"10\" y=\"-37.8\" font-family=\"Helvetica,sans-Serif\" font-size=\"14.00\">samples = 3969</text>\n",
       "<text text-anchor=\"start\" x=\"8\" y=\"-22.8\" font-family=\"Helvetica,sans-Serif\" font-size=\"14.00\">value = [0, 3969]</text>\n",
       "<text text-anchor=\"start\" x=\"32\" y=\"-7.8\" font-family=\"Helvetica,sans-Serif\" font-size=\"14.00\">class = 1</text>\n",
       "</g>\n",
       "<!-- 0&#45;&gt;1 -->\n",
       "<g id=\"edge1\" class=\"edge\">\n",
       "<title>0&#45;&gt;1</title>\n",
       "<path fill=\"none\" stroke=\"black\" d=\"M103.31,-103.73C97.79,-94.97 91.95,-85.7 86.41,-76.91\"/>\n",
       "<polygon fill=\"black\" stroke=\"black\" points=\"89.28,-74.89 80.98,-68.3 83.35,-78.63 89.28,-74.89\"/>\n",
       "<text text-anchor=\"middle\" x=\"75.45\" y=\"-88.98\" font-family=\"Helvetica,sans-Serif\" font-size=\"14.00\">True</text>\n",
       "</g>\n",
       "<!-- 2 -->\n",
       "<g id=\"node3\" class=\"node\">\n",
       "<title>2</title>\n",
       "<path fill=\"#e58139\" stroke=\"black\" d=\"M246,-68C246,-68 150,-68 150,-68 144,-68 138,-62 138,-56 138,-56 138,-12 138,-12 138,-6 144,0 150,0 150,0 246,0 246,0 252,0 258,-6 258,-12 258,-12 258,-56 258,-56 258,-62 252,-68 246,-68\"/>\n",
       "<text text-anchor=\"start\" x=\"169\" y=\"-52.8\" font-family=\"Helvetica,sans-Serif\" font-size=\"14.00\">gini = 0.0</text>\n",
       "<text text-anchor=\"start\" x=\"148\" y=\"-37.8\" font-family=\"Helvetica,sans-Serif\" font-size=\"14.00\">samples = 4031</text>\n",
       "<text text-anchor=\"start\" x=\"146\" y=\"-22.8\" font-family=\"Helvetica,sans-Serif\" font-size=\"14.00\">value = [4031, 0]</text>\n",
       "<text text-anchor=\"start\" x=\"170\" y=\"-7.8\" font-family=\"Helvetica,sans-Serif\" font-size=\"14.00\">class = 0</text>\n",
       "</g>\n",
       "<!-- 0&#45;&gt;2 -->\n",
       "<g id=\"edge2\" class=\"edge\">\n",
       "<title>0&#45;&gt;2</title>\n",
       "<path fill=\"none\" stroke=\"black\" d=\"M154.69,-103.73C160.21,-94.97 166.05,-85.7 171.59,-76.91\"/>\n",
       "<polygon fill=\"black\" stroke=\"black\" points=\"174.65,-78.63 177.02,-68.3 168.72,-74.89 174.65,-78.63\"/>\n",
       "<text text-anchor=\"middle\" x=\"182.55\" y=\"-88.98\" font-family=\"Helvetica,sans-Serif\" font-size=\"14.00\">False</text>\n",
       "</g>\n",
       "</g>\n",
       "</svg>\n"
      ],
      "text/plain": [
       "<graphviz.sources.Source at 0x280fccc23d0>"
      ]
     },
     "execution_count": 19,
     "metadata": {},
     "output_type": "execute_result"
    }
   ],
   "source": [
    "from sklearn.tree import export_graphviz\n",
    "import graphviz\n",
    "\n",
    "dot_data = export_graphviz(model, feature_names=df.columns[:-1], class_names=['0','1'],\n",
    "                           filled=True, rounded=True, special_characters=True)\n",
    "# Draw tree\n",
    "graph = graphviz.Source(dot_data)\n",
    "graph.render('Docs/DTree_power_per_op', format='png', cleanup=True)\n",
    "graph"
   ]
  },
  {
   "cell_type": "code",
   "execution_count": 20,
   "id": "a7415cb8",
   "metadata": {
    "ExecuteTime": {
     "end_time": "2021-11-20T04:40:06.281052Z",
     "start_time": "2021-11-20T04:40:04.111322Z"
    },
    "scrolled": true
   },
   "outputs": [
    {
     "data": {
      "application/vnd.jupyter.widget-view+json": {
       "model_id": "18878ad506a246cba573575942cb44aa",
       "version_major": 2,
       "version_minor": 0
      },
      "text/plain": [
       "Button(description='Toggle Pandas/Lux', layout=Layout(top='5px', width='140px'), style=ButtonStyle())"
      ]
     },
     "metadata": {},
     "output_type": "display_data"
    },
    {
     "data": {
      "application/vnd.jupyter.widget-view+json": {
       "model_id": "dc356bdc6d1146b9b08b5de2c861c352",
       "version_major": 2,
       "version_minor": 0
      },
      "text/plain": [
       "Output()"
      ]
     },
     "metadata": {},
     "output_type": "display_data"
    }
   ],
   "source": [
    "df[[df.columns[89], df.columns[-1]]]"
   ]
  }
 ],
 "metadata": {
  "kernelspec": {
   "display_name": "Python [conda env:thesis]",
   "language": "python",
   "name": "conda-env-thesis-py"
  },
  "language_info": {
   "codemirror_mode": {
    "name": "ipython",
    "version": 3
   },
   "file_extension": ".py",
   "mimetype": "text/x-python",
   "name": "python",
   "nbconvert_exporter": "python",
   "pygments_lexer": "ipython3",
   "version": "3.8.12"
  },
  "toc": {
   "base_numbering": 1,
   "nav_menu": {},
   "number_sections": true,
   "sideBar": true,
   "skip_h1_title": false,
   "title_cell": "Contents",
   "title_sidebar": "Contents",
   "toc_cell": false,
   "toc_position": {
    "height": "543.6px",
    "left": "253px",
    "top": "87.6px",
    "width": "228.2px"
   },
   "toc_section_display": true,
   "toc_window_display": true
  },
  "varInspector": {
   "cols": {
    "lenName": 16,
    "lenType": 16,
    "lenVar": 40
   },
   "kernels_config": {
    "python": {
     "delete_cmd_postfix": "",
     "delete_cmd_prefix": "del ",
     "library": "var_list.py",
     "varRefreshCmd": "print(var_dic_list())"
    },
    "r": {
     "delete_cmd_postfix": ") ",
     "delete_cmd_prefix": "rm(",
     "library": "var_list.r",
     "varRefreshCmd": "cat(var_dic_list()) "
    }
   },
   "oldHeight": 188.4,
   "position": {
    "height": "210.4px",
    "left": "1008px",
    "right": "20px",
    "top": "88px",
    "width": "516px"
   },
   "types_to_exclude": [
    "module",
    "function",
    "builtin_function_or_method",
    "instance",
    "_Feature"
   ],
   "varInspector_section_display": "block",
   "window_display": false
  }
 },
 "nbformat": 4,
 "nbformat_minor": 5
}
