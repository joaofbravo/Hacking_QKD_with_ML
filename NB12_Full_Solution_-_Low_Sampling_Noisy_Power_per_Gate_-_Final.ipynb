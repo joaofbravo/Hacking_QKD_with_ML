{
 "cells": [
  {
   "cell_type": "code",
   "execution_count": 1,
   "id": "3c56d89b",
   "metadata": {
    "ExecuteTime": {
     "end_time": "2022-09-01T09:32:44.918683Z",
     "start_time": "2022-09-01T09:32:41.607903Z"
    },
    "scrolled": true
   },
   "outputs": [
    {
     "name": "stderr",
     "output_type": "stream",
     "text": [
      "Intel(R) Extension for Scikit-learn* enabled (https://github.com/intel/scikit-learn-intelex)\n"
     ]
    }
   ],
   "source": [
    "import timeit\n",
    "from datetime import timedelta\n",
    "import math\n",
    "import numpy as np\n",
    "import pandas as pd\n",
    "# from pandas_profiling import ProfileReport\n",
    "# import lux # slows down dataframe processing\n",
    "import matplotlib.pyplot as plt\n",
    "%matplotlib inline\n",
    "import joblib\n",
    "\n",
    "from sklearnex import patch_sklearn\n",
    "patch_sklearn()\n",
    "\n",
    "from sklearn.experimental import enable_halving_search_cv\n",
    "from sklearn.model_selection import train_test_split, KFold, HalvingGridSearchCV\n",
    "from sklearn.pipeline import Pipeline\n",
    "from sklearn.preprocessing import MinMaxScaler, StandardScaler, RobustScaler\n",
    "from sklearn.multioutput import MultiOutputClassifier\n",
    "from sklearn.linear_model import LogisticRegression, SGDClassifier\n",
    "from sklearn.svm import SVC, LinearSVC\n",
    "from sklearn.neighbors import KNeighborsClassifier\n",
    "from sklearn.naive_bayes import GaussianNB, MultinomialNB, CategoricalNB\n",
    "from sklearn.tree import DecisionTreeClassifier\n",
    "from sklearn.ensemble import RandomForestClassifier, GradientBoostingClassifier\n",
    "from sklearn.metrics import accuracy_score, zero_one_loss, hamming_loss, classification_report, multilabel_confusion_matrix, \\\n",
    "                            ConfusionMatrixDisplay\n",
    "\n",
    "np.set_printoptions(suppress=True) # do not print scientific notation\n",
    "\n",
    "# Set some matplotlib style parameters\n",
    "plt.style.use('seaborn')\n",
    "plt.rcParams.update({'figure.facecolor' : 'white',\n",
    "                     'figure.edgecolor' : 'white',\n",
    "                     'axes.grid'        : True,\n",
    "                     # 'axes.axisbelow'   : True,\n",
    "                     'figure.autolayout': True # tight_layout\n",
    "                    })\n",
    "\n",
    "# Set some pandas options\n",
    "pd.set_option('display.max_columns', None, # show x columns (None shows all)\n",
    "              # 'display.max_rows', None,  # show x rows    (None shows all)\n",
    "              'compute.use_numba', True)   # turn off for Lux"
   ]
  },
  {
   "cell_type": "code",
   "execution_count": 26,
   "id": "10eaff45",
   "metadata": {
    "ExecuteTime": {
     "end_time": "2022-09-01T09:41:39.061749Z",
     "start_time": "2022-09-01T09:41:39.049709Z"
    }
   },
   "outputs": [],
   "source": [
    "nb_name = 'full_solution' # for saving objects with joblib\n",
    "seed = 42\n",
    "rng = np.random.default_rng(seed)\n",
    "\n",
    "n = secure_bits = 32        # rows\n",
    "m = corrected_key_bits = 64 # columns\n",
    "N_vec = 10000               # nº of corrected key vectors"
   ]
  },
  {
   "cell_type": "markdown",
   "id": "333ab43c",
   "metadata": {
    "ExecuteTime": {
     "end_time": "2021-08-05T19:00:12.884341Z",
     "start_time": "2021-08-05T19:00:12.870374Z"
    }
   },
   "source": [
    "## Functions"
   ]
  },
  {
   "cell_type": "markdown",
   "id": "f6c9c258",
   "metadata": {},
   "source": [
    "### Detect power consumption of basic gates"
   ]
  },
  {
   "cell_type": "code",
   "execution_count": 3,
   "id": "4461dfc5",
   "metadata": {
    "ExecuteTime": {
     "end_time": "2022-09-01T09:33:02.083171Z",
     "start_time": "2022-09-01T09:33:02.068353Z"
    },
    "code_folding": []
   },
   "outputs": [],
   "source": [
    "def get_product_power(mat, vec, gate_powers, noise_std=0.):\n",
    "    '''Returns: array with the power consumed by the gates of each product.\n",
    "    Set noise_std = 0 to eliminate noise.'''\n",
    "    n, m = mat.shape\n",
    "    count = [[] for _ in range(n)]\n",
    "    for i in range(n):\n",
    "        for j in range(m):\n",
    "            idx = 2 * mat[i, j] + vec[j]\n",
    "            count[i].extend(gate_powers[idx] + rng.normal(scale=noise_std, size=gate_powers[idx].size))\n",
    "    return count # size = n * m * gate_powers[idx].size"
   ]
  },
  {
   "cell_type": "code",
   "execution_count": 4,
   "id": "9a46243d",
   "metadata": {
    "ExecuteTime": {
     "end_time": "2022-09-01T09:33:02.487796Z",
     "start_time": "2022-09-01T09:33:02.476687Z"
    },
    "code_folding": []
   },
   "outputs": [],
   "source": [
    "def get_sum_power(mat, vec, gate_powers, noise_std=0.):\n",
    "    '''Returns: array with the power consumed by the gates of each sum.\n",
    "    Set noise_std = 0 to eliminate noise.'''\n",
    "    n, m = mat.shape\n",
    "    count = [[] for _ in range(n)]\n",
    "    for i in range(n):\n",
    "        result = 0\n",
    "        for j in range(m):\n",
    "            next_element = mat[i, j] * vec[j]\n",
    "            idx = 2 * result + next_element\n",
    "            count[i].extend(gate_powers[idx] + rng.normal(scale=noise_std, size=gate_powers[idx].size))\n",
    "            result = (result + next_element) % 2\n",
    "    return count # size = n * m * gate_powers[idx].size"
   ]
  },
  {
   "cell_type": "code",
   "execution_count": 5,
   "id": "475c9df9",
   "metadata": {
    "ExecuteTime": {
     "end_time": "2022-05-09T10:12:58.366578Z",
     "start_time": "2022-05-09T10:12:58.364280Z"
    },
    "code_folding": [
     0
    ]
   },
   "outputs": [],
   "source": [
    "# # TEST\n",
    "# mat = np.asarray([[0, 1, 1, 0, 1],\n",
    "#                   [1, 0, 1, 1, 1],\n",
    "#                   [1, 1, 1, 1, 1],\n",
    "#                   [0, 0, 0, 0, 0]])\n",
    "# # vec = np.asarray([0, 0, 0, 0, 0])\n",
    "# # vec = np.asarray([1, 1, 1, 1, 1])\n",
    "# vec = np.asarray([1, 1, 1, 0, 0])\n",
    "# power_products = np.asarray([[.1, 1.1], [.2, 1.2], [.3, 1.3], [.4, 1.4]])\n",
    "# power_sums = np.asarray([[1.1, 2.1], [1.2, 2.2], [1.3, 2.3], [1.4, 2.4]])\n",
    "\n",
    "# print(mat @ vec % 2, '\\n')\n",
    "# count = get_product_power(mat, vec, power_products, 0.01)\n",
    "# print(np.around(count, 3), '\\n')\n",
    "# count = get_sum_power(mat, vec, power_sums, 0.01)\n",
    "# print(np.around(count, 3))"
   ]
  },
  {
   "cell_type": "markdown",
   "id": "32abfb3a",
   "metadata": {},
   "source": [
    "### Class"
   ]
  },
  {
   "cell_type": "code",
   "execution_count": 5,
   "id": "ae72549a",
   "metadata": {
    "ExecuteTime": {
     "end_time": "2022-09-01T09:33:03.815020Z",
     "start_time": "2022-09-01T09:33:03.801527Z"
    },
    "code_folding": []
   },
   "outputs": [],
   "source": [
    "# Detect if there are more 1s than 0s\n",
    "# def More_1_than_0(mat, vec):\n",
    "#     return np.sum(mat @ vec % 2) > secure_bits / 2\n",
    "\n",
    "# Detect full solution\n",
    "def Full_solution(mat, vec):\n",
    "    return mat @ vec % 2"
   ]
  },
  {
   "cell_type": "markdown",
   "id": "bfd3583e",
   "metadata": {},
   "source": [
    "### Other"
   ]
  },
  {
   "cell_type": "code",
   "execution_count": 6,
   "id": "e78f260d",
   "metadata": {
    "ExecuteTime": {
     "end_time": "2022-09-01T09:33:05.073752Z",
     "start_time": "2022-09-01T09:33:05.059787Z"
    }
   },
   "outputs": [],
   "source": [
    "# Check if input & output vectors from sample are unique\n",
    "def Check_uniqueness(mat, vec):\n",
    "    res = []\n",
    "    for i in range(len(vec)):\n",
    "        res.append(mat @ vec[i] % 2)\n",
    "    unique_in  = np.unique(vec, axis=0)\n",
    "    unique_out = np.unique(res, axis=0)\n",
    "    return unique_in.shape[0], unique_out.shape[0]"
   ]
  },
  {
   "cell_type": "markdown",
   "id": "8ae9b25b",
   "metadata": {},
   "source": [
    "## Generate data"
   ]
  },
  {
   "cell_type": "code",
   "execution_count": 27,
   "id": "64ae1572",
   "metadata": {
    "ExecuteTime": {
     "end_time": "2022-09-01T09:41:44.557027Z",
     "start_time": "2022-09-01T09:41:44.544953Z"
    },
    "scrolled": true
   },
   "outputs": [
    {
     "data": {
      "text/plain": [
       "((32, 64),\n",
       " array([[1, 0, 1, ..., 1, 0, 1],\n",
       "        [0, 1, 0, ..., 0, 0, 0],\n",
       "        [0, 0, 1, ..., 1, 1, 1],\n",
       "        ...,\n",
       "        [1, 1, 1, ..., 1, 1, 0],\n",
       "        [0, 1, 1, ..., 0, 1, 0],\n",
       "        [0, 1, 0, ..., 1, 1, 1]], dtype=int8))"
      ]
     },
     "execution_count": 27,
     "metadata": {},
     "output_type": "execute_result"
    }
   ],
   "source": [
    "mat = rng.integers(2, size=(secure_bits,corrected_key_bits), dtype=np.int8)\n",
    "\n",
    "mat.shape, mat"
   ]
  },
  {
   "cell_type": "code",
   "execution_count": 28,
   "id": "d3a84273",
   "metadata": {
    "ExecuteTime": {
     "end_time": "2022-09-01T09:41:45.904814Z",
     "start_time": "2022-09-01T09:41:45.798784Z"
    }
   },
   "outputs": [
    {
     "data": {
      "text/plain": [
       "((10000, 64),\n",
       " array([1, 0, 0, 1, 1, 1, 0, 1, 1, 0, 1, 1, 0, 1, 1, 0, 1, 1, 1, 1, 0, 0,\n",
       "        0, 0, 0, 0, 1, 0, 1, 1, 0, 1, 1, 1, 1, 0, 0, 1, 0, 0, 1, 1, 0, 0,\n",
       "        0, 0, 0, 1, 1, 1, 1, 0, 1, 0, 0, 0, 1, 0, 0, 1, 0, 1, 1, 0],\n",
       "       dtype=int8))"
      ]
     },
     "execution_count": 28,
     "metadata": {},
     "output_type": "execute_result"
    }
   ],
   "source": [
    "vec = [rng.integers(2, size=corrected_key_bits, dtype=np.int8) for _ in range(N_vec)]\n",
    "\n",
    "np.shape(vec), vec[0]"
   ]
  },
  {
   "cell_type": "code",
   "execution_count": 29,
   "id": "01ed0428",
   "metadata": {
    "ExecuteTime": {
     "end_time": "2022-09-01T09:41:48.593648Z",
     "start_time": "2022-09-01T09:41:48.475722Z"
    }
   },
   "outputs": [
    {
     "name": "stdout",
     "output_type": "stream",
     "text": [
      "10000 inputs: 10000 unique inputs, 10000 unique solutions\n"
     ]
    }
   ],
   "source": [
    "unique_in, unique_out = Check_uniqueness(mat, vec)\n",
    "print(f'{N_vec} inputs: {unique_in} unique inputs, {unique_out} unique solutions')"
   ]
  },
  {
   "cell_type": "markdown",
   "id": "22d2c096",
   "metadata": {},
   "source": [
    "Assumptions on power consumption (based on https://ieeexplore.ieee.org/document/6644863):\n",
    "- NOT:\n",
    "    - 0 - 6.73 pA\n",
    "    - 1 - 7.45 pA\n",
    "- 2-input NOR:\n",
    "    - 00 - 13.50 pA\n",
    "    - 01 - 12.80 pA\n",
    "    - 10 - &nbsp; 7.93 pA\n",
    "    - 11 - &nbsp; 5.93 pA\n",
    "- 2-input NAND:\n",
    "    - 00 - &nbsp; 5.79 pA\n",
    "    - 01 - &nbsp; 7.00 pA\n",
    "    - 10 - 11.77 pA\n",
    "    - 11 - 14.91 pA\n",
    "\n",
    "Writing our operations in the gates above:\n",
    "- A\\*B &nbsp;= AND(A, B)\n",
    "= NOT(NAND(A, B))\n",
    "\n",
    "- A+B = XOR(A, B)\n",
    "= NOT(A<=>B)\n",
    "= NOT(AND(A->B, B->A))\n",
    "= NAND(A->B, B->A)\n",
    "= NAND(OR(NOT(A), B), OR(NOT(B), A)) =  \n",
    "&nbsp; &nbsp; &nbsp; &nbsp; = NAND(NOT(NOR(NOT(A), B)), NOT(NOR(NOT(B), A)))\n",
    "\n",
    "Thus:\n",
    "- 0\\*0: &nbsp; &nbsp; 5.79 + 7.45 = 13.24 pA\n",
    "- 0\\*1: &nbsp; &nbsp; 7.00 + 7.45 = 14.45 pA\n",
    "- 1\\*0: &nbsp; 11.77 + 7.45 = 19.22 pA\n",
    "- 1\\*1: &nbsp; 14.91 + 6.73 = 21.64 pA\n",
    "\n",
    "\n",
    "- 0+0: &nbsp; 6.73 + 6.73 + &nbsp; 7.93 + &nbsp; 7.93 + 6.73 + 6.73 + 14.91 = 57.69 pA\n",
    "- 0+1: &nbsp; 6.73 + 7.45 + &nbsp; 5.93 + 13.50 + 6.73 + 7.45 + 11.77 = 59.56 pA\n",
    "- 1+0: &nbsp; 7.45 + 6.73 + 13.50 + &nbsp; 5.93 + 7.45 + 6.73 + &nbsp; 7.00 = 54.79 pA\n",
    "- 1+1: &nbsp; 7.45 + 7.45 + 12.80 + 12.80 + 6.73 + 6.73 + 14.91 = 68.87 pA"
   ]
  },
  {
   "cell_type": "code",
   "execution_count": 10,
   "id": "5b228cb7",
   "metadata": {
    "ExecuteTime": {
     "end_time": "2022-09-01T09:33:11.427364Z",
     "start_time": "2022-09-01T09:33:11.412155Z"
    }
   },
   "outputs": [],
   "source": [
    "# Define power consumption for each gate & noise level\n",
    "power_product_gates = np.asarray([[5.79, 7.45], [7., 7.45], [11.77, 7.45], [14.91, 6.73]]) # 0*0, 0*1, 1*0, 1*1\n",
    "power_sum_gates = np.asarray([[6.73, 6.73, 7.93, 7.93, 6.73, 6.73, 14.91],  # '0+0' gates\n",
    "                              [6.73, 7.45, 5.93, 13.5, 6.73, 7.45, 11.77],  # '0+1' gates\n",
    "                              [7.45, 6.73, 13.5, 5.93, 7.45, 6.73, 7.],     # '1+0' gates\n",
    "                              [7.45, 7.45, 12.8, 12.8, 6.73, 6.73, 14.91]]) # '1+1' gates\n",
    "noise_std = 0.05 + 0.0 # article measurement precision + hacker device noise"
   ]
  },
  {
   "cell_type": "code",
   "execution_count": 11,
   "id": "6e42c81d",
   "metadata": {
    "ExecuteTime": {
     "end_time": "2022-05-07T17:31:17.439865Z",
     "start_time": "2022-05-07T17:31:17.437672Z"
    }
   },
   "outputs": [],
   "source": [
    "# i = 0\n",
    "# print('Products:\\n', np.around(get_product_power(mat, vec[i], power_product_gates, noise_std), 3))\n",
    "# print('Sums:\\n', np.around(get_sum_power(mat, vec[i], power_sum_gates, noise_std), 3))"
   ]
  },
  {
   "cell_type": "code",
   "execution_count": 12,
   "id": "007e2611",
   "metadata": {
    "ExecuteTime": {
     "end_time": "2022-05-07T17:31:19.095153Z",
     "start_time": "2022-05-07T17:31:19.093059Z"
    }
   },
   "outputs": [],
   "source": [
    "# print(\"Full solution\")\n",
    "# print(\"-------------\")\n",
    "# for i in range(10):\n",
    "#     print(Full_solution(mat, vec[i]))"
   ]
  },
  {
   "cell_type": "code",
   "execution_count": 11,
   "id": "743bec2b",
   "metadata": {
    "ExecuteTime": {
     "end_time": "2022-09-01T09:33:30.453800Z",
     "start_time": "2022-09-01T09:33:13.404466Z"
    }
   },
   "outputs": [
    {
     "data": {
      "text/plain": [
       "(10000, 1160)"
      ]
     },
     "execution_count": 11,
     "metadata": {},
     "output_type": "execute_result"
    }
   ],
   "source": [
    "# Order data by time (row by row)\n",
    "data = [[] for _ in range(N_vec)]\n",
    "for i in range(N_vec):\n",
    "    product_power = get_product_power(mat, vec[i], power_product_gates, noise_std)\n",
    "    sum_power     = get_sum_power(mat, vec[i], power_sum_gates, noise_std)\n",
    "    for j in range(n):\n",
    "        data[i].extend(product_power[j])\n",
    "        data[i].extend(sum_power[j])\n",
    "    data[i].extend(Full_solution(mat, vec[i]))\n",
    "\n",
    "data = np.asarray(data)\n",
    "data.shape"
   ]
  },
  {
   "cell_type": "code",
   "execution_count": 12,
   "id": "d039ba35",
   "metadata": {
    "ExecuteTime": {
     "end_time": "2022-09-01T09:33:34.222026Z",
     "start_time": "2022-09-01T09:33:34.195334Z"
    },
    "scrolled": false
   },
   "outputs": [
    {
     "data": {
      "text/plain": [
       "(10000, 124)"
      ]
     },
     "execution_count": 12,
     "metadata": {},
     "output_type": "execute_result"
    }
   ],
   "source": [
    "# Lower data sampling\n",
    "sampling_interval = 10 # in gates\n",
    "data_low_sampling = data[:, 0:-n:sampling_interval]\n",
    "data_low_sampling = np.append(data_low_sampling, data[:, -n:], axis=1)\n",
    "\n",
    "data_low_sampling.shape"
   ]
  },
  {
   "cell_type": "code",
   "execution_count": 13,
   "id": "515ff3da",
   "metadata": {
    "ExecuteTime": {
     "end_time": "2022-09-01T09:33:36.195873Z",
     "start_time": "2022-09-01T09:33:36.093403Z"
    }
   },
   "outputs": [],
   "source": [
    "# Create dataframe for plotting raw data\n",
    "df = pd.DataFrame(data_low_sampling)\n",
    "df.drop_duplicates(inplace=True, ignore_index=True)\n",
    "# np.around(df, 3)"
   ]
  },
  {
   "cell_type": "code",
   "execution_count": null,
   "id": "875ed900",
   "metadata": {
    "code_folding": []
   },
   "outputs": [],
   "source": [
    "# Plot full power consumption through time\n",
    "y = df.iloc[0][:-n]\n",
    "X = np.arange(len(y))\n",
    "\n",
    "# Plot line\n",
    "plt.figure(figsize=(16, 4))\n",
    "plt.plot(X, y, '-', label='Record 0') # colors: b,g,r,c,m,y,k,w\n",
    "plt.xlim(X.min(), X.max()*1.01)\n",
    "plt.ylim(y.min()*0.925, y.max()*1.075)\n",
    "# plt.xticks(np.arange(0, len(y)+1, 250))\n",
    "# plt.yticks(np.arange(6, 16.1, 2))\n",
    "\n",
    "# Set labels\n",
    "plt.legend() # loc='best', 'upper right', 'lower left', ...\n",
    "plt.xlabel('Data point')\n",
    "plt.ylabel('Power consumption ($pA$)')\n",
    "plt.title('Total Power consumption', fontsize=14)\n",
    "\n",
    "# plt.savefig(f'Results/Other/power_consumption_total_{n}x{m}_noise_std={noise_std}_sampling={sampling_interval}.png', dpi=200)\n",
    "plt.show()\n",
    "\n",
    "# Plot power consumption of one row through time\n",
    "line_length = int(np.ceil(m * (power_product_gates.shape[1] + power_sum_gates.shape[1]) / sampling_interval))\n",
    "X = np.arange(line_length)\n",
    "y = df.iloc[0][:line_length]\n",
    "\n",
    "# Plot line\n",
    "plt.figure(figsize=(16, 4))\n",
    "plt.plot(X, y, '-', label='Record 0') # colors: b,g,r,c,m,y,k,w\n",
    "plt.xlim(X.min(), X.max()*1.01)\n",
    "# plt.ylim(y.min()*0.925, y.max()*1.075)\n",
    "# plt.xticks(np.arange(0, line_length+1, 10))\n",
    "# plt.yticks(np.arange(6, 16.1, 2))\n",
    "\n",
    "# Set labels\n",
    "plt.legend() # loc='best', 'upper right', 'lower left', ...\n",
    "plt.xlabel('Data point')\n",
    "plt.ylabel('Power consumption ($pA$)')\n",
    "plt.title('Power consumption of one row', fontsize=14)\n",
    "\n",
    "# plt.savefig(f'Results/Other/power_consumption_one_row_{n}x{m}_noise_std={noise_std}_sampling={sampling_interval}.png', dpi=200)\n",
    "plt.show()"
   ]
  },
  {
   "cell_type": "code",
   "execution_count": null,
   "id": "f184d0a5",
   "metadata": {
    "code_folding": [
     0
    ]
   },
   "outputs": [],
   "source": [
    "# FULL RESOLUTION (1 gate) ----- # Plot full power consumption through time\n",
    "y = df.iloc[0][:-n]\n",
    "X = np.arange(len(y))\n",
    "\n",
    "# Plot line\n",
    "plt.figure(figsize=(16, 4))\n",
    "plt.plot(X, y, '-', label='Record 0') # colors: b,g,r,c,m,y,k,w\n",
    "plt.xlim(X.min(), X.max()*1.01)\n",
    "plt.ylim(y.min()*0.925, y.max()*1.075)\n",
    "# plt.xticks(np.arange(0, len(y)+1, 1000))\n",
    "# plt.yticks(np.arange(6, 16.1, 2))\n",
    "\n",
    "# Set labels\n",
    "plt.legend() # loc='best', 'upper right', 'lower left', ...\n",
    "plt.xlabel('Data point')\n",
    "plt.ylabel('Power consumption ($pA$)')\n",
    "plt.title('Total Power consumption', fontsize=14)\n",
    "\n",
    "# plt.savefig(f'Results/Other/power_consumption_total_{n}x{m}_noise_std={noise_std}_sampling={sampling_interval}.png', dpi=200)\n",
    "plt.show()\n",
    "\n",
    "# Plot power consumption of one row through time\n",
    "line_length = m * (power_product_gates.shape[1] + power_sum_gates.shape[1])\n",
    "X = np.arange(line_length)\n",
    "y = df.iloc[0][:line_length]\n",
    "\n",
    "# Plot line\n",
    "plt.figure(figsize=(16, 4))\n",
    "plt.plot(X, y, '-', label='Record 0') # colors: b,g,r,c,m,y,k,w\n",
    "plt.xlim(X.min(), X.max()*1.01)\n",
    "# plt.ylim(y.min()*0.925, y.max()*1.075)\n",
    "# plt.xticks(np.arange(0, line_length+1, 25))\n",
    "# plt.yticks(np.arange(6, 16.1, 2))\n",
    "\n",
    "# Set labels\n",
    "plt.legend() # loc='best', 'upper right', 'lower left', ...\n",
    "plt.xlabel('Data point')\n",
    "plt.ylabel('Power consumption ($pA$)')\n",
    "plt.title('Power consumption of one row', fontsize=14)\n",
    "\n",
    "# plt.savefig(f'Results/Other/power_consumption_one_row_{n}x{m}_noise_std={noise_std}_sampling={sampling_interval}.png', dpi=200)\n",
    "plt.show()"
   ]
  },
  {
   "cell_type": "code",
   "execution_count": 18,
   "id": "fa7067fe",
   "metadata": {
    "ExecuteTime": {
     "end_time": "2021-09-22T15:15:35.646938Z",
     "start_time": "2021-09-22T15:15:35.627976Z"
    },
    "code_folding": [
     0
    ],
    "scrolled": true
   },
   "outputs": [],
   "source": [
    "# # Drop columns with equal values (worthless with noise)\n",
    "# def duplicate_columns(df):\n",
    "#     groups = df.columns.to_series().groupby(df.dtypes).groups\n",
    "#     dups = []\n",
    "#     for t, v in groups.items():\n",
    "#         dcols = df[v].to_dict(orient='list')\n",
    "#         vs = list(dcols.values())\n",
    "#         ks = list(dcols.keys())\n",
    "#         for i in range(len(vs)):\n",
    "#             for j in range(i+1, len(vs)):\n",
    "#                 if vs[i] == vs[j]: \n",
    "#                     dups.append(ks[i])\n",
    "#                     break\n",
    "#     if dups: print('Duplicate columns:', *dups)\n",
    "#     return dups\n",
    "\n",
    "# df.drop(duplicate_columns(df), axis=1, inplace=True)\n",
    "# np.around(df, 3)"
   ]
  },
  {
   "cell_type": "code",
   "execution_count": 19,
   "id": "2e9b72f0",
   "metadata": {
    "ExecuteTime": {
     "end_time": "2021-09-22T15:15:39.766377Z",
     "start_time": "2021-09-22T15:15:39.747396Z"
    },
    "code_folding": [
     0
    ]
   },
   "outputs": [],
   "source": [
    "# # Check some trends in data (turn off numba engine first)\n",
    "# pd.set_option('compute.use_numba', False)\n",
    "# df2 = df.copy()\n",
    "# df2.intent = [90] # More_1_than_0\n",
    "# display(df2)\n",
    "# pd.set_option('compute.use_numba', True)"
   ]
  },
  {
   "cell_type": "code",
   "execution_count": 26,
   "id": "e2079e6b",
   "metadata": {
    "ExecuteTime": {
     "end_time": "2022-02-17T14:43:41.108577Z",
     "start_time": "2022-02-17T14:43:41.096576Z"
    },
    "code_folding": [
     0
    ]
   },
   "outputs": [],
   "source": [
    "# # Generate pandas profiling report\n",
    "# profile = ProfileReport(\n",
    "#     df, title=f'Full_Solution Low_Sampling={sampling_interval}_Noisy_Power_per_Gate noise_std={noise_std} Dataset Report',\n",
    "#     explorative=True)\n",
    "# # profile.to_widgets()\n",
    "# profile.to_file(f'Docs/Full_Solution_-_Low_Sampling={sampling_interval}_Noisy_Power_per_Gate_noisestd={noise_std}_report.html')"
   ]
  },
  {
   "cell_type": "markdown",
   "id": "d8493810",
   "metadata": {},
   "source": [
    "### Split data"
   ]
  },
  {
   "cell_type": "markdown",
   "id": "10dd5415",
   "metadata": {},
   "source": [
    "- CV splitters: integer seed (so splits are the same & we can compare folds)\n",
    "\n",
    "- Estimators: RandomState seed (so estimator is robust to randomness)"
   ]
  },
  {
   "cell_type": "code",
   "execution_count": 14,
   "id": "0d8996cb",
   "metadata": {
    "ExecuteTime": {
     "end_time": "2022-09-01T09:33:45.492522Z",
     "start_time": "2022-09-01T09:33:44.836125Z"
    },
    "scrolled": true
   },
   "outputs": [
    {
     "name": "stdout",
     "output_type": "stream",
     "text": [
      "1s in train set: 49.72 49.46 49.69 48.71 49.99 51.31 50.35 49.96 \n",
      "1s in test set:  50.85 49.2 49.25 51.05 50.3 49.75 50.45 49.85\n"
     ]
    },
    {
     "data": {
      "text/plain": [
       "((8000, 116), (2000, 116))"
      ]
     },
     "execution_count": 14,
     "metadata": {},
     "output_type": "execute_result"
    }
   ],
   "source": [
    "# Split data into training & test set\n",
    "X = np.asarray(df.iloc[:, :-n], order='C')\n",
    "y = np.asarray(df.iloc[:, -n:], order='C')\n",
    "assert X.flags['C_CONTIGUOUS']\n",
    "assert y.flags['C_CONTIGUOUS']\n",
    "\n",
    "X_train, X_test, y_train, y_test = train_test_split(X, y, test_size=0.2, random_state=seed)\n",
    "\n",
    "print('1s in train set:', *np.around(y_train.mean(axis=0) * 100, 2),\n",
    "      '\\n1s in test set: ', *np.around(y_test.mean(axis=0) * 100, 2))\n",
    "np.shape(X_train), np.shape(X_test)"
   ]
  },
  {
   "cell_type": "code",
   "execution_count": null,
   "id": "3d826a9b",
   "metadata": {},
   "outputs": [],
   "source": [
    "# Save test set\n",
    "test_set = {'X_test': X_test,\n",
    "            'y_test': y_test}\n",
    "joblib.dump(test_set, f'Data/test_set_{nb_name}_{n}x{m}_noise_std={noise_std}_sampling={sampling_interval}.joblib', compress=3)"
   ]
  },
  {
   "cell_type": "code",
   "execution_count": null,
   "id": "f84a83f7",
   "metadata": {},
   "outputs": [],
   "source": [
    "# Delete unused variables to free some memory\n",
    "del df, data_low_sampling, X, y"
   ]
  },
  {
   "cell_type": "markdown",
   "id": "6e0648c2",
   "metadata": {},
   "source": [
    "## Classifiers"
   ]
  },
  {
   "cell_type": "markdown",
   "id": "41f4f223",
   "metadata": {},
   "source": [
    "### Functions to train & test models"
   ]
  },
  {
   "cell_type": "markdown",
   "id": "15d8a84b",
   "metadata": {
    "heading_collapsed": true
   },
   "source": [
    "#### TuneGridSearchCV (very slow)"
   ]
  },
  {
   "cell_type": "code",
   "execution_count": 66,
   "id": "572de68b",
   "metadata": {
    "ExecuteTime": {
     "end_time": "2022-03-25T15:16:19.070905Z",
     "start_time": "2022-03-25T15:16:19.067265Z"
    },
    "hidden": true
   },
   "outputs": [],
   "source": [
    "# Metric functions for grid search\n",
    "def hamming_loss_scorer(model, X, y):\n",
    "    '''Incorrectly-predicted bits'''\n",
    "    y_pred = model.predict(X)\n",
    "    return -hamming_loss(y, y_pred)\n",
    "\n",
    "def zero_one_loss_scorer(model, X, y):\n",
    "    '''Incorrectly-predicted keys'''\n",
    "    y_pred = model.predict(X)\n",
    "    return -zero_one_loss(y, y_pred)"
   ]
  },
  {
   "cell_type": "code",
   "execution_count": 67,
   "id": "9db407f8",
   "metadata": {
    "ExecuteTime": {
     "end_time": "2022-03-25T15:16:19.732274Z",
     "start_time": "2022-03-25T15:16:19.720016Z"
    },
    "hidden": true
   },
   "outputs": [],
   "source": [
    "# Get best metrics & parameters\n",
    "def get_best_result(grid_search):\n",
    "    lst_hamming_loss  = grid_search.cv_results_['mean_test_hamming_loss']\n",
    "    lst_zero_one_loss = grid_search.cv_results_['mean_test_zero_one_loss']\n",
    "    lst_acc           = grid_search.cv_results_['mean_test_subset_accuracy']\n",
    "    best_hl, best_zol = 1., 1.\n",
    "\n",
    "    for i, (hl, zol, acc) in enumerate(zip(lst_hamming_loss, lst_zero_one_loss, lst_acc)):\n",
    "        if -hl < best_hl or (-hl == best_hl and -zol < best_zol):\n",
    "            best_i   = i\n",
    "            best_hl  = -hl\n",
    "            best_zol = -zol\n",
    "            best_acc = acc\n",
    "\n",
    "    best_pars = grid_search.cv_results_['params'][best_i]\n",
    "    print(f\"Best pars: {best_pars}\\n\"\n",
    "          f\"Fewest incorrectly-predicted bits: {best_hl:6.2%} +- {grid_search.cv_results_['std_test_hamming_loss'][best_i]:6.3%}\\n\"\n",
    "          f\"Incorrectly-predicted keys:        {best_zol:6.2%} +- {grid_search.cv_results_['std_test_zero_one_loss'][best_i]:6.3%}\\n\"\n",
    "          f\"Subset accuracy:                   {best_acc:6.2%} +- {grid_search.cv_results_['std_test_subset_accuracy'][best_i]:6.3%}\")\n",
    "    return best_pars"
   ]
  },
  {
   "cell_type": "code",
   "execution_count": 70,
   "id": "4b1d1ab3",
   "metadata": {
    "ExecuteTime": {
     "end_time": "2022-03-25T15:24:52.513635Z",
     "start_time": "2022-03-25T15:24:52.506388Z"
    },
    "hidden": true
   },
   "outputs": [],
   "source": [
    "from tune_sklearn import TuneGridSearchCV\n",
    "from ray.tune.schedulers import ASHAScheduler\n",
    "\n",
    "# Perform a grid search with k-fold cross validation & early stopping\n",
    "def Grid_Search(model, param_grid, X_train, y_train, early_stopping=False, multi_target=False):\n",
    "    if multi_target:\n",
    "        model = MultiOutputClassifier(model, n_jobs=-1) # DOES NOT WORK WITH MultiOutputClassifier :(\n",
    "    pipe    = Pipeline([('scaler', None), ('model', model)])\n",
    "    cv      = KFold(5, shuffle=True, random_state=seed) # cannot use stratification for multilabel classification\n",
    "    metrics = {'hamming_loss':    hamming_loss_scorer,\n",
    "               'zero_one_loss':   zero_one_loss_scorer,\n",
    "               'subset_accuracy': 'accuracy'}\n",
    "    if early_stopping:\n",
    "        max_iters = 5\n",
    "        early_stopping = ASHAScheduler(max_t=max_iters, reduction_factor=2)\n",
    "    else:\n",
    "        max_iters = 1\n",
    "        early_stopping = False\n",
    "\n",
    "    grid_search = TuneGridSearchCV(pipe, param_grid, scoring=metrics, refit='hamming_loss', early_stopping=early_stopping,\n",
    "                                   max_iters=max_iters, cv=cv, n_jobs=-1, use_gpu=False, verbose=1)\n",
    "\n",
    "    start_time = timeit.default_timer()\n",
    "    # with joblib.parallel_backend('multiprocessing', n_jobs=-1):\n",
    "    grid_search.fit(X_train, y_train)\n",
    "    delta_time = timedelta(seconds=round(timeit.default_timer()-start_time))\n",
    "\n",
    "    # Get best metrics & parameters\n",
    "    best_pars = get_best_result(grid_search)\n",
    "    pipe.set_params(**best_pars)\n",
    "    print(f'Executed in:                      {delta_time}')\n",
    "\n",
    "    return pipe"
   ]
  },
  {
   "cell_type": "code",
   "execution_count": 42,
   "id": "96e494b7",
   "metadata": {
    "ExecuteTime": {
     "end_time": "2022-03-25T16:59:02.102935Z",
     "start_time": "2022-03-25T16:59:01.805179Z"
    },
    "hidden": true
   },
   "outputs": [],
   "source": [
    "# Remove ray-tune leftovers after training\n",
    "! rm -rf /tmp/ray/\n",
    "! rm -rf ~/ray_results"
   ]
  },
  {
   "cell_type": "markdown",
   "id": "3e24592c",
   "metadata": {
    "heading_collapsed": true
   },
   "source": [
    "#### GridSearchCV"
   ]
  },
  {
   "cell_type": "code",
   "execution_count": 72,
   "id": "6b07f6f2",
   "metadata": {
    "ExecuteTime": {
     "end_time": "2022-03-25T15:26:47.737581Z",
     "start_time": "2022-03-25T15:26:47.727979Z"
    },
    "code_folding": [],
    "hidden": true
   },
   "outputs": [],
   "source": [
    "# Metric functions for grid search\n",
    "def my_scorer(model, X, y):\n",
    "    y_pred = model.predict(X)\n",
    "    return {'hamming_loss':    -hamming_loss(y, y_pred),  # incorrectly-predicted bits\n",
    "            'zero_one_loss':   -zero_one_loss(y, y_pred), # incorrectly-predicted keys\n",
    "            'subset_accuracy': accuracy_score(y, y_pred)}"
   ]
  },
  {
   "cell_type": "code",
   "execution_count": 73,
   "id": "9c81bc12",
   "metadata": {
    "ExecuteTime": {
     "end_time": "2022-03-25T15:26:48.104030Z",
     "start_time": "2022-03-25T15:26:48.099103Z"
    },
    "code_folding": [],
    "hidden": true
   },
   "outputs": [],
   "source": [
    "# Get best metrics & parameters\n",
    "def get_best_result(cv_results_):\n",
    "    lst_hamming_loss  = cv_results_['mean_test_hamming_loss']\n",
    "    lst_zero_one_loss = cv_results_['mean_test_zero_one_loss']\n",
    "    lst_acc           = cv_results_['mean_test_subset_accuracy']\n",
    "    best_hl, best_zol = 1., 1.\n",
    "\n",
    "    for i, (hl, zol, acc) in enumerate(zip(lst_hamming_loss, lst_zero_one_loss, lst_acc)):\n",
    "        if -hl < best_hl or (-hl == best_hl and -zol < best_zol):\n",
    "            best_i   = i\n",
    "            best_hl  = -hl\n",
    "            best_zol = -zol\n",
    "            best_acc = acc\n",
    "\n",
    "    best_pars = cv_results_['params'][best_i]\n",
    "    print(f\"\\nBest pars: {best_pars}\\n\"\n",
    "          f\"Fewest incorrectly-predicted bits: {best_hl:6.2%} +- {cv_results_['std_test_hamming_loss'][best_i]:6.3%}\\n\"\n",
    "          f\"Incorrectly-predicted keys:        {best_zol:6.2%} +- {cv_results_['std_test_zero_one_loss'][best_i]:6.3%}\\n\"\n",
    "          f\"Subset accuracy:                   {best_acc:6.2%} +- {cv_results_['std_test_subset_accuracy'][best_i]:6.3%}\")\n",
    "    return best_i"
   ]
  },
  {
   "cell_type": "code",
   "execution_count": 74,
   "id": "9186bae6",
   "metadata": {
    "ExecuteTime": {
     "end_time": "2022-03-25T15:26:48.518604Z",
     "start_time": "2022-03-25T15:26:48.505492Z"
    },
    "hidden": true
   },
   "outputs": [],
   "source": [
    "from sklearn.model_selection import GridSearchCV\n",
    "\n",
    "# Perform a grid search with k-fold cross validation\n",
    "def Grid_Search(model, param_grid, X_train, y_train, multi_target=False):\n",
    "    if multi_target:\n",
    "        model = MultiOutputClassifier(model, n_jobs=-1)\n",
    "    pipe        = Pipeline([('scaler', None), ('model', model)])\n",
    "    cv          = KFold(5, shuffle=True, random_state=seed) # cannot use stratification for multilabel classification\n",
    "    grid_search = GridSearchCV(pipe, param_grid, scoring=my_scorer, refit=get_best_result, cv=cv, n_jobs=-1, verbose=2)\n",
    "\n",
    "    start_time = timeit.default_timer()\n",
    "    with joblib.parallel_backend('multiprocessing', n_jobs=-1):\n",
    "        grid_search.fit(X_train, y_train)\n",
    "    delta_time = timedelta(seconds=round(timeit.default_timer()-start_time))\n",
    "    print(f'Executed in:                      {delta_time}')\n",
    "\n",
    "    return grid_search.best_estimator_"
   ]
  },
  {
   "cell_type": "markdown",
   "id": "141c69f0",
   "metadata": {},
   "source": [
    "#### HalvingGridSearchCV"
   ]
  },
  {
   "cell_type": "code",
   "execution_count": 5,
   "id": "4069f6de",
   "metadata": {
    "ExecuteTime": {
     "end_time": "2022-06-02T09:26:27.112839Z",
     "start_time": "2022-06-02T09:26:27.109550Z"
    }
   },
   "outputs": [],
   "source": [
    "# Metric function for grid search\n",
    "def hamming_loss_scorer(model, X, y):\n",
    "    '''Incorrectly-predicted bits'''\n",
    "    y_pred = model.predict(X)\n",
    "    return -hamming_loss(y, y_pred)"
   ]
  },
  {
   "cell_type": "code",
   "execution_count": 6,
   "id": "6dfb7b7f",
   "metadata": {
    "ExecuteTime": {
     "end_time": "2022-06-02T09:26:27.567895Z",
     "start_time": "2022-06-02T09:26:27.558809Z"
    }
   },
   "outputs": [],
   "source": [
    "# Perform a grid search with k-fold cross validation & successive halving\n",
    "    # does not support multimetric scoring yet\n",
    "def Grid_Search(model, param_grid, X_train, y_train, resource='n_samples', multi_target=False):\n",
    "    if multi_target:\n",
    "        model = MultiOutputClassifier(model, n_jobs=-1)\n",
    "    pipe = Pipeline([('scaler', None), ('model', model)])\n",
    "    cv   = KFold(3, shuffle=True, random_state=seed) # cannot use stratification for multilabel classification\n",
    "\n",
    "    factor = 3\n",
    "    if resource == 'n_samples':\n",
    "        max_resources = len(X_train) # resources to use in last iteration\n",
    "        grid_points   = sum([np.prod([len(v) for v in param_grid[i].values()]) for i in range(len(param_grid))])\n",
    "        min_resources = int(max(max_resources//factor**round(math.log(max_resources/150, factor)), # use ~150 rows on first iteration\n",
    "                                max_resources//factor**math.floor(math.log(grid_points, factor)))) # exhaust resources\n",
    "    elif resource == 'n_estimators':\n",
    "        min_resources = 'exhaust'\n",
    "        if multi_target:\n",
    "            resource      = 'model__estimator__' + resource\n",
    "            max_resources = model.estimator.n_estimators\n",
    "        else:\n",
    "            resource      = 'model__' + resource\n",
    "            max_resources = model.n_estimators\n",
    "\n",
    "    grid_search = HalvingGridSearchCV(pipe, param_grid, scoring=hamming_loss_scorer, refit=True, factor=factor-1e-8,\n",
    "                                      resource=resource, min_resources=min_resources, max_resources=max_resources+1, cv=cv,\n",
    "                                      return_train_score=False, n_jobs=-1, random_state=seed, verbose=1) # factor-eps & max_resources+1 due to rounding errors\n",
    "\n",
    "    start_time = timeit.default_timer()\n",
    "    with joblib.parallel_backend('multiprocessing', n_jobs=-1): # faster backend\n",
    "        grid_search.fit(X_train, y_train)\n",
    "    delta_time = timedelta(seconds=round(timeit.default_timer()-start_time))\n",
    "\n",
    "    # Print best metric & parameters\n",
    "    print(f\"\\nBest pars: {grid_search.best_params_}\\n\"\n",
    "          f\"Fewest incorrectly-predicted bits: {-grid_search.best_score_:6.2%} +- {grid_search.cv_results_['std_test_score'][grid_search.best_index_]:6.3%}\\n\"\n",
    "          f\"Executed in:                      {delta_time}\")\n",
    "\n",
    "    return grid_search.best_estimator_"
   ]
  },
  {
   "cell_type": "code",
   "execution_count": 7,
   "id": "841b26fd",
   "metadata": {
    "ExecuteTime": {
     "end_time": "2022-06-02T09:26:28.151809Z",
     "start_time": "2022-06-02T09:26:28.148001Z"
    },
    "code_folding": []
   },
   "outputs": [],
   "source": [
    "# Get prediction statistics\n",
    "def get_statistics(model, X_test, y_test, model_name, prob=False):\n",
    "    y_pred = model.predict(X_test)\n",
    "    print(f'Incorrectly-predicted bits:  {hamming_loss(y_test, y_pred):6.2%}\\n'  # (see description)\n",
    "          f'Incorrectly-predicted keys:  {zero_one_loss(y_test, y_pred):6.2%}\\n' # (see description)\n",
    "          f'Subset accuracy on test set: {model.score(X_test, y_test):6.2%}')\n",
    "    if prob:\n",
    "        y_prob = model.predict_proba(X_test)\n",
    "        print(f'Mean probability:            {np.mean(np.max(y_prob, axis=1)):6.2%}')\n",
    "\n",
    "    confusion_matrices = multilabel_confusion_matrix(y_test, y_pred)\n",
    "    # print('Confusion matrices: \\n', confusion_matrices, '\\n')\n",
    "    print('\\nReport:\\n', classification_report(y_test, y_pred, digits=3))\n",
    "\n",
    "    # Plot confusion matrices\n",
    "    print('Confusion matrices:')\n",
    "    n_rows, n_cols = 1 + (n - 1) // 5, 5\n",
    "    plt.figure(figsize=(2.5 * n_cols, 2 * n_rows))\n",
    "    for i in range(n_rows):\n",
    "        for j in range(n_cols):\n",
    "            idx = n_cols * i + j\n",
    "            if idx == n: break\n",
    "\n",
    "            ax = plt.subplot(n_rows, n_cols, idx+1)\n",
    "            ConfusionMatrixDisplay(confusion_matrices[idx]).plot(values_format='d', cmap='Blues', colorbar=False, ax=ax)\n",
    "            ax.set(xlabel='Predicted bit', ylabel='True bit')\n",
    "            ax.grid(False)\n",
    "\n",
    "    plt.savefig(f'Results/Other/confusion_matrices_{model_name}_{nb_name}_{n}x{m}_noise_std={noise_std}_sampling={sampling_interval}.png', dpi=200)\n",
    "    plt.show()"
   ]
  },
  {
   "cell_type": "markdown",
   "id": "4fd5d621",
   "metadata": {},
   "source": [
    "### Logistic regression"
   ]
  },
  {
   "cell_type": "code",
   "execution_count": 50,
   "id": "46cd3e65",
   "metadata": {
    "ExecuteTime": {
     "end_time": "2022-05-17T23:42:11.154477Z",
     "start_time": "2022-05-17T20:10:20.151583Z"
    },
    "collapsed": true
   },
   "outputs": [
    {
     "name": "stdout",
     "output_type": "stream",
     "text": [
      "n_iterations: 4\n",
      "n_required_iterations: 4\n",
      "n_possible_iterations: 4\n",
      "min_resources_: 296\n",
      "max_resources_: 8001\n",
      "aggressive_elimination: False\n",
      "factor: 2.99999999\n",
      "----------\n",
      "iter: 0\n",
      "n_candidates: 51\n",
      "n_resources: 296\n",
      "Fitting 3 folds for each of 51 candidates, totalling 153 fits\n",
      "----------\n",
      "iter: 1\n",
      "n_candidates: 18\n",
      "n_resources: 887\n",
      "Fitting 3 folds for each of 18 candidates, totalling 54 fits\n",
      "----------\n",
      "iter: 2\n",
      "n_candidates: 7\n",
      "n_resources: 2663\n",
      "Fitting 3 folds for each of 7 candidates, totalling 21 fits\n",
      "----------\n",
      "iter: 3\n",
      "n_candidates: 3\n",
      "n_resources: 7991\n",
      "Fitting 3 folds for each of 3 candidates, totalling 9 fits\n",
      "\n",
      "Best pars: {'model__estimator__C': 0.1, 'model__estimator__penalty': 'l1', 'model__estimator__solver': 'saga', 'scaler': StandardScaler()}\n",
      "Fewest incorrectly-predicted bits:  0.47% +- 0.022%\n",
      "Executed in:                      3:31:51\n"
     ]
    }
   ],
   "source": [
    "model = LogisticRegression(tol=1e-3, max_iter=1e4, n_jobs=-1, random_state=np.random.RandomState(seed), verbose=0)\n",
    "\n",
    "# Perform a grid search with k-fold cross validation\n",
    "param_grid = [{'scaler': [MinMaxScaler((0, 1)), StandardScaler(), RobustScaler(quantile_range=(25., 75.))],\n",
    "               'model__estimator__solver':  ['saga', 'lbfgs'],\n",
    "               'model__estimator__penalty': ['none']},\n",
    "              {'scaler': [MinMaxScaler((0, 1)), StandardScaler(), RobustScaler(quantile_range=(25., 75.))],\n",
    "               'model__estimator__solver':  ['saga'],\n",
    "               'model__estimator__penalty': ['l1', 'l2'],\n",
    "               'model__estimator__C':       np.logspace(2, -2, 5)},\n",
    "              {'scaler': [MinMaxScaler((0, 1)), StandardScaler(), RobustScaler(quantile_range=(25., 75.))],\n",
    "               'model__estimator__solver':  ['lbfgs'],\n",
    "               'model__estimator__penalty': ['l2'],\n",
    "               'model__estimator__C':       np.logspace(2, -2, 5)}]\n",
    "pipe = Grid_Search(model, param_grid, X_train, y_train, multi_target=True) # GridSearchCV, HalvingGridSearchCV"
   ]
  },
  {
   "cell_type": "code",
   "execution_count": 51,
   "id": "3f58494a",
   "metadata": {
    "ExecuteTime": {
     "end_time": "2022-05-17T23:53:37.642670Z",
     "start_time": "2022-05-17T23:42:11.284251Z"
    },
    "scrolled": true
   },
   "outputs": [],
   "source": [
    "# Train with full training set\n",
    "with joblib.parallel_backend('multiprocessing', n_jobs=-1): # faster backend\n",
    "    pipe.fit(X_train, y_train)\n",
    "\n",
    "# Save model\n",
    "model_name = 'LR1'\n",
    "# joblib.dump(pipe, f'Results/Models/pipe_{model_name}_{nb_name}_{n}x{m}_noise_std={noise_std}_sampling={sampling_interval}.joblib');"
   ]
  },
  {
   "cell_type": "code",
   "execution_count": 52,
   "id": "082ae1be",
   "metadata": {
    "ExecuteTime": {
     "end_time": "2022-05-17T23:53:39.066699Z",
     "start_time": "2022-05-17T23:53:37.773449Z"
    },
    "collapsed": true
   },
   "outputs": [
    {
     "name": "stdout",
     "output_type": "stream",
     "text": [
      "Incorrectly-predicted bits:   0.38%\n",
      "Incorrectly-predicted keys:  10.90%\n"
     ]
    }
   ],
   "source": [
    "# Get prediction statistics\n",
    "with joblib.parallel_backend('multiprocessing', n_jobs=-1): # faster backend\n",
    "    get_statistics(pipe, X_test, y_test, model_name, prob=True)"
   ]
  },
  {
   "cell_type": "code",
   "execution_count": 53,
   "id": "8bf9c7c2",
   "metadata": {
    "ExecuteTime": {
     "end_time": "2022-05-18T00:44:15.157991Z",
     "start_time": "2022-05-17T23:53:39.201735Z"
    },
    "collapsed": true
   },
   "outputs": [
    {
     "name": "stdout",
     "output_type": "stream",
     "text": [
      "n_iterations: 5\n",
      "n_required_iterations: 6\n",
      "n_possible_iterations: 5\n",
      "min_resources_: 98\n",
      "max_resources_: 8001\n",
      "aggressive_elimination: False\n",
      "factor: 2.99999999\n",
      "----------\n",
      "iter: 0\n",
      "n_candidates: 336\n",
      "n_resources: 98\n",
      "Fitting 3 folds for each of 336 candidates, totalling 1008 fits\n",
      "----------\n",
      "iter: 1\n",
      "n_candidates: 113\n",
      "n_resources: 293\n",
      "Fitting 3 folds for each of 113 candidates, totalling 339 fits\n",
      "----------\n",
      "iter: 2\n",
      "n_candidates: 38\n",
      "n_resources: 881\n",
      "Fitting 3 folds for each of 38 candidates, totalling 114 fits\n",
      "----------\n",
      "iter: 3\n",
      "n_candidates: 13\n",
      "n_resources: 2645\n",
      "Fitting 3 folds for each of 13 candidates, totalling 39 fits\n",
      "----------\n",
      "iter: 4\n",
      "n_candidates: 5\n",
      "n_resources: 7937\n",
      "Fitting 3 folds for each of 5 candidates, totalling 15 fits\n",
      "\n",
      "Best pars: {'model__estimator__alpha': 0.01, 'model__estimator__eta0': 0.01, 'model__estimator__penalty': 'l1', 'scaler': StandardScaler()}\n",
      "Fewest incorrectly-predicted bits:  0.80% +- 0.022%\n",
      "Executed in:                      0:50:36\n"
     ]
    }
   ],
   "source": [
    "model = SGDClassifier(loss='log', learning_rate='adaptive', eta0=1., tol=1e-3, max_iter=1e4, n_jobs=-1,\n",
    "                      random_state=np.random.RandomState(seed), verbose=0)\n",
    "\n",
    "# Perform a grid search with k-fold cross validation\n",
    "param_grid = [{'scaler': [MinMaxScaler((0, 1)), StandardScaler(), RobustScaler(quantile_range=(25., 75.))],\n",
    "               'model__estimator__penalty': ['l1', 'l2'],\n",
    "               'model__estimator__alpha':   [0, *np.logspace(-5, 1, 7)],\n",
    "               'model__estimator__eta0':    np.logspace(3, -3, 7)}]\n",
    "pipe = Grid_Search(model, param_grid, X_train, y_train, multi_target=True) # GridSearchCV, HalvingGridSearchCV"
   ]
  },
  {
   "cell_type": "code",
   "execution_count": 54,
   "id": "f2e7836a",
   "metadata": {
    "ExecuteTime": {
     "end_time": "2022-05-18T00:45:24.657646Z",
     "start_time": "2022-05-18T00:44:15.292153Z"
    },
    "code_folding": []
   },
   "outputs": [],
   "source": [
    "# Train with full training set\n",
    "with joblib.parallel_backend('multiprocessing', n_jobs=-1): # faster backend\n",
    "    pipe.fit(X_train, y_train)\n",
    "\n",
    "# Save model\n",
    "model_name = 'LR2'\n",
    "# joblib.dump(pipe, f'Results/Models/pipe_{model_name}_{nb_name}_{n}x{m}_noise_std={noise_std}_sampling={sampling_interval}.joblib');"
   ]
  },
  {
   "cell_type": "code",
   "execution_count": 55,
   "id": "f9d1de5c",
   "metadata": {
    "ExecuteTime": {
     "end_time": "2022-05-18T00:45:26.777826Z",
     "start_time": "2022-05-18T00:45:24.795425Z"
    },
    "collapsed": true
   },
   "outputs": [
    {
     "name": "stdout",
     "output_type": "stream",
     "text": [
      "Incorrectly-predicted bits:   0.75%\n",
      "Incorrectly-predicted keys:  18.50%\n"
     ]
    }
   ],
   "source": [
    "# Get prediction statistics\n",
    "with joblib.parallel_backend('multiprocessing', n_jobs=-1): # faster backend\n",
    "    get_statistics(pipe, X_test, y_test, model_name, prob=True)"
   ]
  },
  {
   "cell_type": "markdown",
   "id": "ffb1c7b7",
   "metadata": {},
   "source": [
    "### SVM"
   ]
  },
  {
   "cell_type": "code",
   "execution_count": 20,
   "id": "0af8cabc",
   "metadata": {
    "ExecuteTime": {
     "end_time": "2022-05-08T21:00:57.618224Z",
     "start_time": "2022-05-08T19:27:00.575923Z"
    },
    "code_folding": [],
    "collapsed": true
   },
   "outputs": [
    {
     "name": "stdout",
     "output_type": "stream",
     "text": [
      "n_iterations: 5\n",
      "n_required_iterations: 5\n",
      "n_possible_iterations: 5\n",
      "min_resources_: 98\n",
      "max_resources_: 8001\n",
      "aggressive_elimination: False\n",
      "factor: 2.99999999\n",
      "----------\n",
      "iter: 0\n",
      "n_candidates: 210\n",
      "n_resources: 98\n",
      "Fitting 5 folds for each of 210 candidates, totalling 1050 fits\n",
      "----------\n",
      "iter: 1\n",
      "n_candidates: 71\n",
      "n_resources: 293\n",
      "Fitting 5 folds for each of 71 candidates, totalling 355 fits\n",
      "----------\n",
      "iter: 2\n",
      "n_candidates: 24\n",
      "n_resources: 881\n",
      "Fitting 5 folds for each of 24 candidates, totalling 120 fits\n",
      "----------\n",
      "iter: 3\n",
      "n_candidates: 9\n",
      "n_resources: 2645\n",
      "Fitting 5 folds for each of 9 candidates, totalling 45 fits\n",
      "----------\n",
      "iter: 4\n",
      "n_candidates: 4\n",
      "n_resources: 7937\n",
      "Fitting 5 folds for each of 4 candidates, totalling 20 fits\n"
     ]
    },
    {
     "name": "stderr",
     "output_type": "stream",
     "text": [
      "ERROR:root:Internal Python error in the inspect module.\n",
      "Below is the traceback from this internal error.\n",
      "\n"
     ]
    },
    {
     "name": "stdout",
     "output_type": "stream",
     "text": [
      "Traceback (most recent call last):\n",
      "  File \"/home/v082327/.local/lib/python3.6/site-packages/joblib/parallel.py\", line 935, in retrieve\n",
      "    self._output.extend(job.get(timeout=self.timeout))\n",
      "  File \"/usr/lib/python3.6/multiprocessing/pool.py\", line 638, in get\n",
      "    self.wait(timeout)\n",
      "  File \"/usr/lib/python3.6/multiprocessing/pool.py\", line 635, in wait\n",
      "    self._event.wait(timeout)\n",
      "  File \"/usr/lib/python3.6/threading.py\", line 551, in wait\n",
      "    signaled = self._cond.wait(timeout)\n",
      "  File \"/usr/lib/python3.6/threading.py\", line 295, in wait\n",
      "    waiter.acquire()\n",
      "KeyboardInterrupt\n",
      "\n",
      "During handling of the above exception, another exception occurred:\n",
      "\n",
      "Traceback (most recent call last):\n",
      "  File \"/home/v082327/.local/lib/python3.6/site-packages/IPython/core/interactiveshell.py\", line 3343, in run_code\n",
      "    exec(code_obj, self.user_global_ns, self.user_ns)\n",
      "  File \"<ipython-input-20-f254c377ce2b>\", line 23, in <module>\n",
      "    pipe = Grid_Search(model, param_grid, X_train, y_train, multi_target=True) # GridSearchCV, HalvingGridSearchCV\n",
      "  File \"<ipython-input-18-28cbaa88be40>\", line 31, in Grid_Search\n",
      "    grid_search.fit(X_train, y_train)\n",
      "  File \"/home/v082327/.local/lib/python3.6/site-packages/sklearn/model_selection/_search_successive_halving.py\", line 213, in fit\n",
      "    super().fit(X, y=y, groups=groups, **fit_params)\n",
      "  File \"/home/v082327/.local/lib/python3.6/site-packages/sklearn/utils/validation.py\", line 63, in inner_f\n",
      "    return f(*args, **kwargs)\n",
      "  File \"/home/v082327/.local/lib/python3.6/site-packages/sklearn/model_selection/_search.py\", line 841, in fit\n",
      "    self._run_search(evaluate_candidates)\n",
      "  File \"/home/v082327/.local/lib/python3.6/site-packages/sklearn/model_selection/_search_successive_halving.py\", line 320, in _run_search\n",
      "    more_results=more_results)\n",
      "  File \"/home/v082327/.local/lib/python3.6/site-packages/sklearn/model_selection/_search.py\", line 809, in evaluate_candidates\n",
      "    enumerate(cv.split(X, y, groups))))\n",
      "  File \"/home/v082327/.local/lib/python3.6/site-packages/joblib/parallel.py\", line 1056, in __call__\n",
      "    self.retrieve()\n",
      "  File \"/home/v082327/.local/lib/python3.6/site-packages/joblib/parallel.py\", line 957, in retrieve\n",
      "    backend.abort_everything(ensure_ready=ensure_ready)\n",
      "  File \"/home/v082327/.local/lib/python3.6/site-packages/joblib/_parallel_backends.py\", line 257, in abort_everything\n",
      "    self.terminate()\n",
      "  File \"/home/v082327/.local/lib/python3.6/site-packages/joblib/_parallel_backends.py\", line 476, in terminate\n",
      "    super(MultiprocessingBackend, self).terminate()\n",
      "  File \"/home/v082327/.local/lib/python3.6/site-packages/joblib/_parallel_backends.py\", line 243, in terminate\n",
      "    self._pool.terminate()  # terminate does a join()\n",
      "  File \"/home/v082327/.local/lib/python3.6/site-packages/joblib/pool.py\", line 329, in terminate\n",
      "    super(MemmappingPool, self).terminate()\n",
      "  File \"/usr/lib/python3.6/multiprocessing/pool.py\", line 541, in terminate\n",
      "    self._terminate()\n",
      "  File \"/usr/lib/python3.6/multiprocessing/util.py\", line 186, in __call__\n",
      "    res = self._callback(*self._args, **self._kwargs)\n",
      "  File \"/usr/lib/python3.6/multiprocessing/pool.py\", line 605, in _terminate_pool\n",
      "    p.join()\n",
      "  File \"/usr/lib/python3.6/multiprocessing/process.py\", line 124, in join\n",
      "    res = self._popen.wait(timeout)\n",
      "  File \"/usr/lib/python3.6/multiprocessing/popen_fork.py\", line 50, in wait\n",
      "    return self.poll(os.WNOHANG if timeout == 0.0 else 0)\n",
      "  File \"/usr/lib/python3.6/multiprocessing/popen_fork.py\", line 28, in poll\n",
      "    pid, sts = os.waitpid(self.pid, flag)\n",
      "KeyboardInterrupt\n",
      "\n",
      "During handling of the above exception, another exception occurred:\n",
      "\n",
      "Traceback (most recent call last):\n",
      "  File \"/home/v082327/.local/lib/python3.6/site-packages/IPython/core/interactiveshell.py\", line 2044, in showtraceback\n",
      "    stb = value._render_traceback_()\n",
      "AttributeError: 'KeyboardInterrupt' object has no attribute '_render_traceback_'\n",
      "\n",
      "During handling of the above exception, another exception occurred:\n",
      "\n",
      "Traceback (most recent call last):\n",
      "  File \"/home/v082327/.local/lib/python3.6/site-packages/IPython/core/ultratb.py\", line 1169, in get_records\n",
      "    return _fixed_getinnerframes(etb, number_of_lines_of_context, tb_offset)\n",
      "  File \"/home/v082327/.local/lib/python3.6/site-packages/IPython/core/ultratb.py\", line 316, in wrapped\n",
      "    return f(*args, **kwargs)\n",
      "  File \"/home/v082327/.local/lib/python3.6/site-packages/IPython/core/ultratb.py\", line 350, in _fixed_getinnerframes\n",
      "    records = fix_frame_records_filenames(inspect.getinnerframes(etb, context))\n",
      "  File \"/usr/lib/python3.6/inspect.py\", line 1490, in getinnerframes\n",
      "    frameinfo = (tb.tb_frame,) + getframeinfo(tb, context)\n",
      "  File \"/usr/lib/python3.6/inspect.py\", line 1448, in getframeinfo\n",
      "    filename = getsourcefile(frame) or getfile(frame)\n",
      "  File \"/usr/lib/python3.6/inspect.py\", line 696, in getsourcefile\n",
      "    if getattr(getmodule(object, filename), '__loader__', None) is not None:\n",
      "  File \"/usr/lib/python3.6/inspect.py\", line 739, in getmodule\n",
      "    f = getabsfile(module)\n",
      "  File \"/usr/lib/python3.6/inspect.py\", line 708, in getabsfile\n",
      "    _filename = getsourcefile(object) or getfile(object)\n",
      "  File \"/usr/lib/python3.6/inspect.py\", line 693, in getsourcefile\n",
      "    if os.path.exists(filename):\n",
      "  File \"/usr/lib/python3.6/genericpath.py\", line 19, in exists\n",
      "    os.stat(path)\n",
      "KeyboardInterrupt\n"
     ]
    },
    {
     "ename": "TypeError",
     "evalue": "object of type 'NoneType' has no len()",
     "output_type": "error",
     "traceback": [
      "\u001b[0;31m---------------------------------------------------------------------------\u001b[0m",
      "\u001b[0;31mKeyboardInterrupt\u001b[0m                         Traceback (most recent call last)",
      "\u001b[0;32m~/.local/lib/python3.6/site-packages/joblib/parallel.py\u001b[0m in \u001b[0;36mretrieve\u001b[0;34m(self)\u001b[0m\n\u001b[1;32m    934\u001b[0m                 \u001b[0;32mif\u001b[0m \u001b[0mgetattr\u001b[0m\u001b[0;34m(\u001b[0m\u001b[0mself\u001b[0m\u001b[0;34m.\u001b[0m\u001b[0m_backend\u001b[0m\u001b[0;34m,\u001b[0m \u001b[0;34m'supports_timeout'\u001b[0m\u001b[0;34m,\u001b[0m \u001b[0;32mFalse\u001b[0m\u001b[0;34m)\u001b[0m\u001b[0;34m:\u001b[0m\u001b[0;34m\u001b[0m\u001b[0;34m\u001b[0m\u001b[0m\n\u001b[0;32m--> 935\u001b[0;31m                     \u001b[0mself\u001b[0m\u001b[0;34m.\u001b[0m\u001b[0m_output\u001b[0m\u001b[0;34m.\u001b[0m\u001b[0mextend\u001b[0m\u001b[0;34m(\u001b[0m\u001b[0mjob\u001b[0m\u001b[0;34m.\u001b[0m\u001b[0mget\u001b[0m\u001b[0;34m(\u001b[0m\u001b[0mtimeout\u001b[0m\u001b[0;34m=\u001b[0m\u001b[0mself\u001b[0m\u001b[0;34m.\u001b[0m\u001b[0mtimeout\u001b[0m\u001b[0;34m)\u001b[0m\u001b[0;34m)\u001b[0m\u001b[0;34m\u001b[0m\u001b[0;34m\u001b[0m\u001b[0m\n\u001b[0m\u001b[1;32m    936\u001b[0m                 \u001b[0;32melse\u001b[0m\u001b[0;34m:\u001b[0m\u001b[0;34m\u001b[0m\u001b[0;34m\u001b[0m\u001b[0m\n",
      "\u001b[0;32m/usr/lib/python3.6/multiprocessing/pool.py\u001b[0m in \u001b[0;36mget\u001b[0;34m(self, timeout)\u001b[0m\n\u001b[1;32m    637\u001b[0m     \u001b[0;32mdef\u001b[0m \u001b[0mget\u001b[0m\u001b[0;34m(\u001b[0m\u001b[0mself\u001b[0m\u001b[0;34m,\u001b[0m \u001b[0mtimeout\u001b[0m\u001b[0;34m=\u001b[0m\u001b[0;32mNone\u001b[0m\u001b[0;34m)\u001b[0m\u001b[0;34m:\u001b[0m\u001b[0;34m\u001b[0m\u001b[0;34m\u001b[0m\u001b[0m\n\u001b[0;32m--> 638\u001b[0;31m         \u001b[0mself\u001b[0m\u001b[0;34m.\u001b[0m\u001b[0mwait\u001b[0m\u001b[0;34m(\u001b[0m\u001b[0mtimeout\u001b[0m\u001b[0;34m)\u001b[0m\u001b[0;34m\u001b[0m\u001b[0;34m\u001b[0m\u001b[0m\n\u001b[0m\u001b[1;32m    639\u001b[0m         \u001b[0;32mif\u001b[0m \u001b[0;32mnot\u001b[0m \u001b[0mself\u001b[0m\u001b[0;34m.\u001b[0m\u001b[0mready\u001b[0m\u001b[0;34m(\u001b[0m\u001b[0;34m)\u001b[0m\u001b[0;34m:\u001b[0m\u001b[0;34m\u001b[0m\u001b[0;34m\u001b[0m\u001b[0m\n",
      "\u001b[0;32m/usr/lib/python3.6/multiprocessing/pool.py\u001b[0m in \u001b[0;36mwait\u001b[0;34m(self, timeout)\u001b[0m\n\u001b[1;32m    634\u001b[0m     \u001b[0;32mdef\u001b[0m \u001b[0mwait\u001b[0m\u001b[0;34m(\u001b[0m\u001b[0mself\u001b[0m\u001b[0;34m,\u001b[0m \u001b[0mtimeout\u001b[0m\u001b[0;34m=\u001b[0m\u001b[0;32mNone\u001b[0m\u001b[0;34m)\u001b[0m\u001b[0;34m:\u001b[0m\u001b[0;34m\u001b[0m\u001b[0;34m\u001b[0m\u001b[0m\n\u001b[0;32m--> 635\u001b[0;31m         \u001b[0mself\u001b[0m\u001b[0;34m.\u001b[0m\u001b[0m_event\u001b[0m\u001b[0;34m.\u001b[0m\u001b[0mwait\u001b[0m\u001b[0;34m(\u001b[0m\u001b[0mtimeout\u001b[0m\u001b[0;34m)\u001b[0m\u001b[0;34m\u001b[0m\u001b[0;34m\u001b[0m\u001b[0m\n\u001b[0m\u001b[1;32m    636\u001b[0m \u001b[0;34m\u001b[0m\u001b[0m\n",
      "\u001b[0;32m/usr/lib/python3.6/threading.py\u001b[0m in \u001b[0;36mwait\u001b[0;34m(self, timeout)\u001b[0m\n\u001b[1;32m    550\u001b[0m             \u001b[0;32mif\u001b[0m \u001b[0;32mnot\u001b[0m \u001b[0msignaled\u001b[0m\u001b[0;34m:\u001b[0m\u001b[0;34m\u001b[0m\u001b[0;34m\u001b[0m\u001b[0m\n\u001b[0;32m--> 551\u001b[0;31m                 \u001b[0msignaled\u001b[0m \u001b[0;34m=\u001b[0m \u001b[0mself\u001b[0m\u001b[0;34m.\u001b[0m\u001b[0m_cond\u001b[0m\u001b[0;34m.\u001b[0m\u001b[0mwait\u001b[0m\u001b[0;34m(\u001b[0m\u001b[0mtimeout\u001b[0m\u001b[0;34m)\u001b[0m\u001b[0;34m\u001b[0m\u001b[0;34m\u001b[0m\u001b[0m\n\u001b[0m\u001b[1;32m    552\u001b[0m             \u001b[0;32mreturn\u001b[0m \u001b[0msignaled\u001b[0m\u001b[0;34m\u001b[0m\u001b[0;34m\u001b[0m\u001b[0m\n",
      "\u001b[0;32m/usr/lib/python3.6/threading.py\u001b[0m in \u001b[0;36mwait\u001b[0;34m(self, timeout)\u001b[0m\n\u001b[1;32m    294\u001b[0m             \u001b[0;32mif\u001b[0m \u001b[0mtimeout\u001b[0m \u001b[0;32mis\u001b[0m \u001b[0;32mNone\u001b[0m\u001b[0;34m:\u001b[0m\u001b[0;34m\u001b[0m\u001b[0;34m\u001b[0m\u001b[0m\n\u001b[0;32m--> 295\u001b[0;31m                 \u001b[0mwaiter\u001b[0m\u001b[0;34m.\u001b[0m\u001b[0macquire\u001b[0m\u001b[0;34m(\u001b[0m\u001b[0;34m)\u001b[0m\u001b[0;34m\u001b[0m\u001b[0;34m\u001b[0m\u001b[0m\n\u001b[0m\u001b[1;32m    296\u001b[0m                 \u001b[0mgotit\u001b[0m \u001b[0;34m=\u001b[0m \u001b[0;32mTrue\u001b[0m\u001b[0;34m\u001b[0m\u001b[0;34m\u001b[0m\u001b[0m\n",
      "\u001b[0;31mKeyboardInterrupt\u001b[0m: ",
      "\nDuring handling of the above exception, another exception occurred:\n",
      "\u001b[0;31mKeyboardInterrupt\u001b[0m                         Traceback (most recent call last)",
      "    \u001b[0;31m[... skipping hidden 1 frame]\u001b[0m\n",
      "\u001b[0;32m<ipython-input-20-f254c377ce2b>\u001b[0m in \u001b[0;36m<module>\u001b[0;34m\u001b[0m\n\u001b[1;32m     22\u001b[0m              ]\n\u001b[0;32m---> 23\u001b[0;31m \u001b[0mpipe\u001b[0m \u001b[0;34m=\u001b[0m \u001b[0mGrid_Search\u001b[0m\u001b[0;34m(\u001b[0m\u001b[0mmodel\u001b[0m\u001b[0;34m,\u001b[0m \u001b[0mparam_grid\u001b[0m\u001b[0;34m,\u001b[0m \u001b[0mX_train\u001b[0m\u001b[0;34m,\u001b[0m \u001b[0my_train\u001b[0m\u001b[0;34m,\u001b[0m \u001b[0mmulti_target\u001b[0m\u001b[0;34m=\u001b[0m\u001b[0;32mTrue\u001b[0m\u001b[0;34m)\u001b[0m \u001b[0;31m# GridSearchCV, HalvingGridSearchCV\u001b[0m\u001b[0;34m\u001b[0m\u001b[0;34m\u001b[0m\u001b[0m\n\u001b[0m",
      "\u001b[0;32m<ipython-input-18-28cbaa88be40>\u001b[0m in \u001b[0;36mGrid_Search\u001b[0;34m(model, param_grid, X_train, y_train, resource, multi_target)\u001b[0m\n\u001b[1;32m     30\u001b[0m     \u001b[0;32mwith\u001b[0m \u001b[0mjoblib\u001b[0m\u001b[0;34m.\u001b[0m\u001b[0mparallel_backend\u001b[0m\u001b[0;34m(\u001b[0m\u001b[0;34m'multiprocessing'\u001b[0m\u001b[0;34m,\u001b[0m \u001b[0mn_jobs\u001b[0m\u001b[0;34m=\u001b[0m\u001b[0;34m-\u001b[0m\u001b[0;36m1\u001b[0m\u001b[0;34m)\u001b[0m\u001b[0;34m:\u001b[0m \u001b[0;31m# faster backend\u001b[0m\u001b[0;34m\u001b[0m\u001b[0;34m\u001b[0m\u001b[0m\n\u001b[0;32m---> 31\u001b[0;31m         \u001b[0mgrid_search\u001b[0m\u001b[0;34m.\u001b[0m\u001b[0mfit\u001b[0m\u001b[0;34m(\u001b[0m\u001b[0mX_train\u001b[0m\u001b[0;34m,\u001b[0m \u001b[0my_train\u001b[0m\u001b[0;34m)\u001b[0m\u001b[0;34m\u001b[0m\u001b[0;34m\u001b[0m\u001b[0m\n\u001b[0m\u001b[1;32m     32\u001b[0m     \u001b[0mdelta_time\u001b[0m \u001b[0;34m=\u001b[0m \u001b[0mtimedelta\u001b[0m\u001b[0;34m(\u001b[0m\u001b[0mseconds\u001b[0m\u001b[0;34m=\u001b[0m\u001b[0mround\u001b[0m\u001b[0;34m(\u001b[0m\u001b[0mtimeit\u001b[0m\u001b[0;34m.\u001b[0m\u001b[0mdefault_timer\u001b[0m\u001b[0;34m(\u001b[0m\u001b[0;34m)\u001b[0m\u001b[0;34m-\u001b[0m\u001b[0mstart_time\u001b[0m\u001b[0;34m)\u001b[0m\u001b[0;34m)\u001b[0m\u001b[0;34m\u001b[0m\u001b[0;34m\u001b[0m\u001b[0m\n",
      "\u001b[0;32m~/.local/lib/python3.6/site-packages/sklearn/model_selection/_search_successive_halving.py\u001b[0m in \u001b[0;36mfit\u001b[0;34m(self, X, y, groups, **fit_params)\u001b[0m\n\u001b[1;32m    212\u001b[0m \u001b[0;34m\u001b[0m\u001b[0m\n\u001b[0;32m--> 213\u001b[0;31m         \u001b[0msuper\u001b[0m\u001b[0;34m(\u001b[0m\u001b[0;34m)\u001b[0m\u001b[0;34m.\u001b[0m\u001b[0mfit\u001b[0m\u001b[0;34m(\u001b[0m\u001b[0mX\u001b[0m\u001b[0;34m,\u001b[0m \u001b[0my\u001b[0m\u001b[0;34m=\u001b[0m\u001b[0my\u001b[0m\u001b[0;34m,\u001b[0m \u001b[0mgroups\u001b[0m\u001b[0;34m=\u001b[0m\u001b[0mgroups\u001b[0m\u001b[0;34m,\u001b[0m \u001b[0;34m**\u001b[0m\u001b[0mfit_params\u001b[0m\u001b[0;34m)\u001b[0m\u001b[0;34m\u001b[0m\u001b[0;34m\u001b[0m\u001b[0m\n\u001b[0m\u001b[1;32m    214\u001b[0m \u001b[0;34m\u001b[0m\u001b[0m\n",
      "\u001b[0;32m~/.local/lib/python3.6/site-packages/sklearn/utils/validation.py\u001b[0m in \u001b[0;36minner_f\u001b[0;34m(*args, **kwargs)\u001b[0m\n\u001b[1;32m     62\u001b[0m             \u001b[0;32mif\u001b[0m \u001b[0mextra_args\u001b[0m \u001b[0;34m<=\u001b[0m \u001b[0;36m0\u001b[0m\u001b[0;34m:\u001b[0m\u001b[0;34m\u001b[0m\u001b[0;34m\u001b[0m\u001b[0m\n\u001b[0;32m---> 63\u001b[0;31m                 \u001b[0;32mreturn\u001b[0m \u001b[0mf\u001b[0m\u001b[0;34m(\u001b[0m\u001b[0;34m*\u001b[0m\u001b[0margs\u001b[0m\u001b[0;34m,\u001b[0m \u001b[0;34m**\u001b[0m\u001b[0mkwargs\u001b[0m\u001b[0;34m)\u001b[0m\u001b[0;34m\u001b[0m\u001b[0;34m\u001b[0m\u001b[0m\n\u001b[0m\u001b[1;32m     64\u001b[0m \u001b[0;34m\u001b[0m\u001b[0m\n",
      "\u001b[0;32m~/.local/lib/python3.6/site-packages/sklearn/model_selection/_search.py\u001b[0m in \u001b[0;36mfit\u001b[0;34m(self, X, y, groups, **fit_params)\u001b[0m\n\u001b[1;32m    840\u001b[0m \u001b[0;34m\u001b[0m\u001b[0m\n\u001b[0;32m--> 841\u001b[0;31m             \u001b[0mself\u001b[0m\u001b[0;34m.\u001b[0m\u001b[0m_run_search\u001b[0m\u001b[0;34m(\u001b[0m\u001b[0mevaluate_candidates\u001b[0m\u001b[0;34m)\u001b[0m\u001b[0;34m\u001b[0m\u001b[0;34m\u001b[0m\u001b[0m\n\u001b[0m\u001b[1;32m    842\u001b[0m \u001b[0;34m\u001b[0m\u001b[0m\n",
      "\u001b[0;32m~/.local/lib/python3.6/site-packages/sklearn/model_selection/_search_successive_halving.py\u001b[0m in \u001b[0;36m_run_search\u001b[0;34m(self, evaluate_candidates)\u001b[0m\n\u001b[1;32m    319\u001b[0m             results = evaluate_candidates(candidate_params, cv,\n\u001b[0;32m--> 320\u001b[0;31m                                           more_results=more_results)\n\u001b[0m\u001b[1;32m    321\u001b[0m \u001b[0;34m\u001b[0m\u001b[0m\n",
      "\u001b[0;32m~/.local/lib/python3.6/site-packages/sklearn/model_selection/_search.py\u001b[0m in \u001b[0;36mevaluate_candidates\u001b[0;34m(candidate_params, cv, more_results)\u001b[0m\n\u001b[1;32m    808\u001b[0m                                    \u001b[0menumerate\u001b[0m\u001b[0;34m(\u001b[0m\u001b[0mcandidate_params\u001b[0m\u001b[0;34m)\u001b[0m\u001b[0;34m,\u001b[0m\u001b[0;34m\u001b[0m\u001b[0;34m\u001b[0m\u001b[0m\n\u001b[0;32m--> 809\u001b[0;31m                                    enumerate(cv.split(X, y, groups))))\n\u001b[0m\u001b[1;32m    810\u001b[0m \u001b[0;34m\u001b[0m\u001b[0m\n",
      "\u001b[0;32m~/.local/lib/python3.6/site-packages/joblib/parallel.py\u001b[0m in \u001b[0;36m__call__\u001b[0;34m(self, iterable)\u001b[0m\n\u001b[1;32m   1055\u001b[0m             \u001b[0;32mwith\u001b[0m \u001b[0mself\u001b[0m\u001b[0;34m.\u001b[0m\u001b[0m_backend\u001b[0m\u001b[0;34m.\u001b[0m\u001b[0mretrieval_context\u001b[0m\u001b[0;34m(\u001b[0m\u001b[0;34m)\u001b[0m\u001b[0;34m:\u001b[0m\u001b[0;34m\u001b[0m\u001b[0;34m\u001b[0m\u001b[0m\n\u001b[0;32m-> 1056\u001b[0;31m                 \u001b[0mself\u001b[0m\u001b[0;34m.\u001b[0m\u001b[0mretrieve\u001b[0m\u001b[0;34m(\u001b[0m\u001b[0;34m)\u001b[0m\u001b[0;34m\u001b[0m\u001b[0;34m\u001b[0m\u001b[0m\n\u001b[0m\u001b[1;32m   1057\u001b[0m             \u001b[0;31m# Make sure that we get a last message telling us we are done\u001b[0m\u001b[0;34m\u001b[0m\u001b[0;34m\u001b[0m\u001b[0;34m\u001b[0m\u001b[0m\n",
      "\u001b[0;32m~/.local/lib/python3.6/site-packages/joblib/parallel.py\u001b[0m in \u001b[0;36mretrieve\u001b[0;34m(self)\u001b[0m\n\u001b[1;32m    956\u001b[0m                     \u001b[0mensure_ready\u001b[0m \u001b[0;34m=\u001b[0m \u001b[0mself\u001b[0m\u001b[0;34m.\u001b[0m\u001b[0m_managed_backend\u001b[0m\u001b[0;34m\u001b[0m\u001b[0;34m\u001b[0m\u001b[0m\n\u001b[0;32m--> 957\u001b[0;31m                     \u001b[0mbackend\u001b[0m\u001b[0;34m.\u001b[0m\u001b[0mabort_everything\u001b[0m\u001b[0;34m(\u001b[0m\u001b[0mensure_ready\u001b[0m\u001b[0;34m=\u001b[0m\u001b[0mensure_ready\u001b[0m\u001b[0;34m)\u001b[0m\u001b[0;34m\u001b[0m\u001b[0;34m\u001b[0m\u001b[0m\n\u001b[0m\u001b[1;32m    958\u001b[0m                 \u001b[0;32mraise\u001b[0m\u001b[0;34m\u001b[0m\u001b[0;34m\u001b[0m\u001b[0m\n",
      "\u001b[0;32m~/.local/lib/python3.6/site-packages/joblib/_parallel_backends.py\u001b[0m in \u001b[0;36mabort_everything\u001b[0;34m(self, ensure_ready)\u001b[0m\n\u001b[1;32m    256\u001b[0m         \u001b[0;34m\"\"\"Shutdown the pool and restart a new one with the same parameters\"\"\"\u001b[0m\u001b[0;34m\u001b[0m\u001b[0;34m\u001b[0m\u001b[0m\n\u001b[0;32m--> 257\u001b[0;31m         \u001b[0mself\u001b[0m\u001b[0;34m.\u001b[0m\u001b[0mterminate\u001b[0m\u001b[0;34m(\u001b[0m\u001b[0;34m)\u001b[0m\u001b[0;34m\u001b[0m\u001b[0;34m\u001b[0m\u001b[0m\n\u001b[0m\u001b[1;32m    258\u001b[0m         \u001b[0;32mif\u001b[0m \u001b[0mensure_ready\u001b[0m\u001b[0;34m:\u001b[0m\u001b[0;34m\u001b[0m\u001b[0;34m\u001b[0m\u001b[0m\n",
      "\u001b[0;32m~/.local/lib/python3.6/site-packages/joblib/_parallel_backends.py\u001b[0m in \u001b[0;36mterminate\u001b[0;34m(self)\u001b[0m\n\u001b[1;32m    475\u001b[0m         \u001b[0;34m\"\"\"Shutdown the process or thread pool\"\"\"\u001b[0m\u001b[0;34m\u001b[0m\u001b[0;34m\u001b[0m\u001b[0m\n\u001b[0;32m--> 476\u001b[0;31m         \u001b[0msuper\u001b[0m\u001b[0;34m(\u001b[0m\u001b[0mMultiprocessingBackend\u001b[0m\u001b[0;34m,\u001b[0m \u001b[0mself\u001b[0m\u001b[0;34m)\u001b[0m\u001b[0;34m.\u001b[0m\u001b[0mterminate\u001b[0m\u001b[0;34m(\u001b[0m\u001b[0;34m)\u001b[0m\u001b[0;34m\u001b[0m\u001b[0;34m\u001b[0m\u001b[0m\n\u001b[0m\u001b[1;32m    477\u001b[0m         \u001b[0mself\u001b[0m\u001b[0;34m.\u001b[0m\u001b[0mreset_batch_stats\u001b[0m\u001b[0;34m(\u001b[0m\u001b[0;34m)\u001b[0m\u001b[0;34m\u001b[0m\u001b[0;34m\u001b[0m\u001b[0m\n",
      "\u001b[0;32m~/.local/lib/python3.6/site-packages/joblib/_parallel_backends.py\u001b[0m in \u001b[0;36mterminate\u001b[0;34m(self)\u001b[0m\n\u001b[1;32m    242\u001b[0m             \u001b[0mself\u001b[0m\u001b[0;34m.\u001b[0m\u001b[0m_pool\u001b[0m\u001b[0;34m.\u001b[0m\u001b[0mclose\u001b[0m\u001b[0;34m(\u001b[0m\u001b[0;34m)\u001b[0m\u001b[0;34m\u001b[0m\u001b[0;34m\u001b[0m\u001b[0m\n\u001b[0;32m--> 243\u001b[0;31m             \u001b[0mself\u001b[0m\u001b[0;34m.\u001b[0m\u001b[0m_pool\u001b[0m\u001b[0;34m.\u001b[0m\u001b[0mterminate\u001b[0m\u001b[0;34m(\u001b[0m\u001b[0;34m)\u001b[0m  \u001b[0;31m# terminate does a join()\u001b[0m\u001b[0;34m\u001b[0m\u001b[0;34m\u001b[0m\u001b[0m\n\u001b[0m\u001b[1;32m    244\u001b[0m             \u001b[0mself\u001b[0m\u001b[0;34m.\u001b[0m\u001b[0m_pool\u001b[0m \u001b[0;34m=\u001b[0m \u001b[0;32mNone\u001b[0m\u001b[0;34m\u001b[0m\u001b[0;34m\u001b[0m\u001b[0m\n",
      "\u001b[0;32m~/.local/lib/python3.6/site-packages/joblib/pool.py\u001b[0m in \u001b[0;36mterminate\u001b[0;34m(self)\u001b[0m\n\u001b[1;32m    328\u001b[0m             \u001b[0;32mtry\u001b[0m\u001b[0;34m:\u001b[0m\u001b[0;34m\u001b[0m\u001b[0;34m\u001b[0m\u001b[0m\n\u001b[0;32m--> 329\u001b[0;31m                 \u001b[0msuper\u001b[0m\u001b[0;34m(\u001b[0m\u001b[0mMemmappingPool\u001b[0m\u001b[0;34m,\u001b[0m \u001b[0mself\u001b[0m\u001b[0;34m)\u001b[0m\u001b[0;34m.\u001b[0m\u001b[0mterminate\u001b[0m\u001b[0;34m(\u001b[0m\u001b[0;34m)\u001b[0m\u001b[0;34m\u001b[0m\u001b[0;34m\u001b[0m\u001b[0m\n\u001b[0m\u001b[1;32m    330\u001b[0m                 \u001b[0;32mbreak\u001b[0m\u001b[0;34m\u001b[0m\u001b[0;34m\u001b[0m\u001b[0m\n",
      "\u001b[0;32m/usr/lib/python3.6/multiprocessing/pool.py\u001b[0m in \u001b[0;36mterminate\u001b[0;34m(self)\u001b[0m\n\u001b[1;32m    540\u001b[0m         \u001b[0mself\u001b[0m\u001b[0;34m.\u001b[0m\u001b[0m_worker_handler\u001b[0m\u001b[0;34m.\u001b[0m\u001b[0m_state\u001b[0m \u001b[0;34m=\u001b[0m \u001b[0mTERMINATE\u001b[0m\u001b[0;34m\u001b[0m\u001b[0;34m\u001b[0m\u001b[0m\n\u001b[0;32m--> 541\u001b[0;31m         \u001b[0mself\u001b[0m\u001b[0;34m.\u001b[0m\u001b[0m_terminate\u001b[0m\u001b[0;34m(\u001b[0m\u001b[0;34m)\u001b[0m\u001b[0;34m\u001b[0m\u001b[0;34m\u001b[0m\u001b[0m\n\u001b[0m\u001b[1;32m    542\u001b[0m \u001b[0;34m\u001b[0m\u001b[0m\n",
      "\u001b[0;32m/usr/lib/python3.6/multiprocessing/util.py\u001b[0m in \u001b[0;36m__call__\u001b[0;34m(self, wr, _finalizer_registry, sub_debug, getpid)\u001b[0m\n\u001b[1;32m    185\u001b[0m                           self._callback, self._args, self._kwargs)\n\u001b[0;32m--> 186\u001b[0;31m                 \u001b[0mres\u001b[0m \u001b[0;34m=\u001b[0m \u001b[0mself\u001b[0m\u001b[0;34m.\u001b[0m\u001b[0m_callback\u001b[0m\u001b[0;34m(\u001b[0m\u001b[0;34m*\u001b[0m\u001b[0mself\u001b[0m\u001b[0;34m.\u001b[0m\u001b[0m_args\u001b[0m\u001b[0;34m,\u001b[0m \u001b[0;34m**\u001b[0m\u001b[0mself\u001b[0m\u001b[0;34m.\u001b[0m\u001b[0m_kwargs\u001b[0m\u001b[0;34m)\u001b[0m\u001b[0;34m\u001b[0m\u001b[0;34m\u001b[0m\u001b[0m\n\u001b[0m\u001b[1;32m    187\u001b[0m             \u001b[0mself\u001b[0m\u001b[0;34m.\u001b[0m\u001b[0m_weakref\u001b[0m \u001b[0;34m=\u001b[0m \u001b[0mself\u001b[0m\u001b[0;34m.\u001b[0m\u001b[0m_callback\u001b[0m \u001b[0;34m=\u001b[0m \u001b[0mself\u001b[0m\u001b[0;34m.\u001b[0m\u001b[0m_args\u001b[0m \u001b[0;34m=\u001b[0m\u001b[0;31m \u001b[0m\u001b[0;31m\\\u001b[0m\u001b[0;34m\u001b[0m\u001b[0;34m\u001b[0m\u001b[0m\n",
      "\u001b[0;32m/usr/lib/python3.6/multiprocessing/pool.py\u001b[0m in \u001b[0;36m_terminate_pool\u001b[0;34m(cls, taskqueue, inqueue, outqueue, pool, worker_handler, task_handler, result_handler, cache)\u001b[0m\n\u001b[1;32m    604\u001b[0m                     \u001b[0mutil\u001b[0m\u001b[0;34m.\u001b[0m\u001b[0mdebug\u001b[0m\u001b[0;34m(\u001b[0m\u001b[0;34m'cleaning up worker %d'\u001b[0m \u001b[0;34m%\u001b[0m \u001b[0mp\u001b[0m\u001b[0;34m.\u001b[0m\u001b[0mpid\u001b[0m\u001b[0;34m)\u001b[0m\u001b[0;34m\u001b[0m\u001b[0;34m\u001b[0m\u001b[0m\n\u001b[0;32m--> 605\u001b[0;31m                     \u001b[0mp\u001b[0m\u001b[0;34m.\u001b[0m\u001b[0mjoin\u001b[0m\u001b[0;34m(\u001b[0m\u001b[0;34m)\u001b[0m\u001b[0;34m\u001b[0m\u001b[0;34m\u001b[0m\u001b[0m\n\u001b[0m\u001b[1;32m    606\u001b[0m \u001b[0;34m\u001b[0m\u001b[0m\n",
      "\u001b[0;32m/usr/lib/python3.6/multiprocessing/process.py\u001b[0m in \u001b[0;36mjoin\u001b[0;34m(self, timeout)\u001b[0m\n\u001b[1;32m    123\u001b[0m         \u001b[0;32massert\u001b[0m \u001b[0mself\u001b[0m\u001b[0;34m.\u001b[0m\u001b[0m_popen\u001b[0m \u001b[0;32mis\u001b[0m \u001b[0;32mnot\u001b[0m \u001b[0;32mNone\u001b[0m\u001b[0;34m,\u001b[0m \u001b[0;34m'can only join a started process'\u001b[0m\u001b[0;34m\u001b[0m\u001b[0;34m\u001b[0m\u001b[0m\n\u001b[0;32m--> 124\u001b[0;31m         \u001b[0mres\u001b[0m \u001b[0;34m=\u001b[0m \u001b[0mself\u001b[0m\u001b[0;34m.\u001b[0m\u001b[0m_popen\u001b[0m\u001b[0;34m.\u001b[0m\u001b[0mwait\u001b[0m\u001b[0;34m(\u001b[0m\u001b[0mtimeout\u001b[0m\u001b[0;34m)\u001b[0m\u001b[0;34m\u001b[0m\u001b[0;34m\u001b[0m\u001b[0m\n\u001b[0m\u001b[1;32m    125\u001b[0m         \u001b[0;32mif\u001b[0m \u001b[0mres\u001b[0m \u001b[0;32mis\u001b[0m \u001b[0;32mnot\u001b[0m \u001b[0;32mNone\u001b[0m\u001b[0;34m:\u001b[0m\u001b[0;34m\u001b[0m\u001b[0;34m\u001b[0m\u001b[0m\n",
      "\u001b[0;32m/usr/lib/python3.6/multiprocessing/popen_fork.py\u001b[0m in \u001b[0;36mwait\u001b[0;34m(self, timeout)\u001b[0m\n\u001b[1;32m     49\u001b[0m             \u001b[0;31m# This shouldn't block if wait() returned successfully.\u001b[0m\u001b[0;34m\u001b[0m\u001b[0;34m\u001b[0m\u001b[0;34m\u001b[0m\u001b[0m\n\u001b[0;32m---> 50\u001b[0;31m             \u001b[0;32mreturn\u001b[0m \u001b[0mself\u001b[0m\u001b[0;34m.\u001b[0m\u001b[0mpoll\u001b[0m\u001b[0;34m(\u001b[0m\u001b[0mos\u001b[0m\u001b[0;34m.\u001b[0m\u001b[0mWNOHANG\u001b[0m \u001b[0;32mif\u001b[0m \u001b[0mtimeout\u001b[0m \u001b[0;34m==\u001b[0m \u001b[0;36m0.0\u001b[0m \u001b[0;32melse\u001b[0m \u001b[0;36m0\u001b[0m\u001b[0;34m)\u001b[0m\u001b[0;34m\u001b[0m\u001b[0;34m\u001b[0m\u001b[0m\n\u001b[0m\u001b[1;32m     51\u001b[0m         \u001b[0;32mreturn\u001b[0m \u001b[0mself\u001b[0m\u001b[0;34m.\u001b[0m\u001b[0mreturncode\u001b[0m\u001b[0;34m\u001b[0m\u001b[0;34m\u001b[0m\u001b[0m\n",
      "\u001b[0;32m/usr/lib/python3.6/multiprocessing/popen_fork.py\u001b[0m in \u001b[0;36mpoll\u001b[0;34m(self, flag)\u001b[0m\n\u001b[1;32m     27\u001b[0m                 \u001b[0;32mtry\u001b[0m\u001b[0;34m:\u001b[0m\u001b[0;34m\u001b[0m\u001b[0;34m\u001b[0m\u001b[0m\n\u001b[0;32m---> 28\u001b[0;31m                     \u001b[0mpid\u001b[0m\u001b[0;34m,\u001b[0m \u001b[0msts\u001b[0m \u001b[0;34m=\u001b[0m \u001b[0mos\u001b[0m\u001b[0;34m.\u001b[0m\u001b[0mwaitpid\u001b[0m\u001b[0;34m(\u001b[0m\u001b[0mself\u001b[0m\u001b[0;34m.\u001b[0m\u001b[0mpid\u001b[0m\u001b[0;34m,\u001b[0m \u001b[0mflag\u001b[0m\u001b[0;34m)\u001b[0m\u001b[0;34m\u001b[0m\u001b[0;34m\u001b[0m\u001b[0m\n\u001b[0m\u001b[1;32m     29\u001b[0m                 \u001b[0;32mexcept\u001b[0m \u001b[0mOSError\u001b[0m \u001b[0;32mas\u001b[0m \u001b[0me\u001b[0m\u001b[0;34m:\u001b[0m\u001b[0;34m\u001b[0m\u001b[0;34m\u001b[0m\u001b[0m\n",
      "\u001b[0;31mKeyboardInterrupt\u001b[0m: ",
      "\nDuring handling of the above exception, another exception occurred:\n",
      "\u001b[0;31mAttributeError\u001b[0m                            Traceback (most recent call last)",
      "\u001b[0;32m~/.local/lib/python3.6/site-packages/IPython/core/interactiveshell.py\u001b[0m in \u001b[0;36mshowtraceback\u001b[0;34m(self, exc_tuple, filename, tb_offset, exception_only, running_compiled_code)\u001b[0m\n\u001b[1;32m   2043\u001b[0m                         \u001b[0;31m# in the engines. This should return a list of strings.\u001b[0m\u001b[0;34m\u001b[0m\u001b[0;34m\u001b[0m\u001b[0;34m\u001b[0m\u001b[0m\n\u001b[0;32m-> 2044\u001b[0;31m                         \u001b[0mstb\u001b[0m \u001b[0;34m=\u001b[0m \u001b[0mvalue\u001b[0m\u001b[0;34m.\u001b[0m\u001b[0m_render_traceback_\u001b[0m\u001b[0;34m(\u001b[0m\u001b[0;34m)\u001b[0m\u001b[0;34m\u001b[0m\u001b[0;34m\u001b[0m\u001b[0m\n\u001b[0m\u001b[1;32m   2045\u001b[0m                     \u001b[0;32mexcept\u001b[0m \u001b[0mException\u001b[0m\u001b[0;34m:\u001b[0m\u001b[0;34m\u001b[0m\u001b[0;34m\u001b[0m\u001b[0m\n",
      "\u001b[0;31mAttributeError\u001b[0m: 'KeyboardInterrupt' object has no attribute '_render_traceback_'",
      "\nDuring handling of the above exception, another exception occurred:\n",
      "\u001b[0;31mTypeError\u001b[0m                                 Traceback (most recent call last)",
      "    \u001b[0;31m[... skipping hidden 1 frame]\u001b[0m\n",
      "\u001b[0;32m~/.local/lib/python3.6/site-packages/IPython/core/interactiveshell.py\u001b[0m in \u001b[0;36mshowtraceback\u001b[0;34m(self, exc_tuple, filename, tb_offset, exception_only, running_compiled_code)\u001b[0m\n\u001b[1;32m   2045\u001b[0m                     \u001b[0;32mexcept\u001b[0m \u001b[0mException\u001b[0m\u001b[0;34m:\u001b[0m\u001b[0;34m\u001b[0m\u001b[0;34m\u001b[0m\u001b[0m\n\u001b[1;32m   2046\u001b[0m                         stb = self.InteractiveTB.structured_traceback(etype,\n\u001b[0;32m-> 2047\u001b[0;31m                                             value, tb, tb_offset=tb_offset)\n\u001b[0m\u001b[1;32m   2048\u001b[0m \u001b[0;34m\u001b[0m\u001b[0m\n\u001b[1;32m   2049\u001b[0m                     \u001b[0mself\u001b[0m\u001b[0;34m.\u001b[0m\u001b[0m_showtraceback\u001b[0m\u001b[0;34m(\u001b[0m\u001b[0metype\u001b[0m\u001b[0;34m,\u001b[0m \u001b[0mvalue\u001b[0m\u001b[0;34m,\u001b[0m \u001b[0mstb\u001b[0m\u001b[0;34m)\u001b[0m\u001b[0;34m\u001b[0m\u001b[0;34m\u001b[0m\u001b[0m\n",
      "\u001b[0;32m~/.local/lib/python3.6/site-packages/IPython/core/ultratb.py\u001b[0m in \u001b[0;36mstructured_traceback\u001b[0;34m(self, etype, value, tb, tb_offset, number_of_lines_of_context)\u001b[0m\n\u001b[1;32m   1434\u001b[0m             \u001b[0mself\u001b[0m\u001b[0;34m.\u001b[0m\u001b[0mtb\u001b[0m \u001b[0;34m=\u001b[0m \u001b[0mtb\u001b[0m\u001b[0;34m\u001b[0m\u001b[0;34m\u001b[0m\u001b[0m\n\u001b[1;32m   1435\u001b[0m         return FormattedTB.structured_traceback(\n\u001b[0;32m-> 1436\u001b[0;31m             self, etype, value, tb, tb_offset, number_of_lines_of_context)\n\u001b[0m\u001b[1;32m   1437\u001b[0m \u001b[0;34m\u001b[0m\u001b[0m\n\u001b[1;32m   1438\u001b[0m \u001b[0;34m\u001b[0m\u001b[0m\n",
      "\u001b[0;32m~/.local/lib/python3.6/site-packages/IPython/core/ultratb.py\u001b[0m in \u001b[0;36mstructured_traceback\u001b[0;34m(self, etype, value, tb, tb_offset, number_of_lines_of_context)\u001b[0m\n\u001b[1;32m   1334\u001b[0m             \u001b[0;31m# Verbose modes need a full traceback\u001b[0m\u001b[0;34m\u001b[0m\u001b[0;34m\u001b[0m\u001b[0;34m\u001b[0m\u001b[0m\n\u001b[1;32m   1335\u001b[0m             return VerboseTB.structured_traceback(\n\u001b[0;32m-> 1336\u001b[0;31m                 \u001b[0mself\u001b[0m\u001b[0;34m,\u001b[0m \u001b[0metype\u001b[0m\u001b[0;34m,\u001b[0m \u001b[0mvalue\u001b[0m\u001b[0;34m,\u001b[0m \u001b[0mtb\u001b[0m\u001b[0;34m,\u001b[0m \u001b[0mtb_offset\u001b[0m\u001b[0;34m,\u001b[0m \u001b[0mnumber_of_lines_of_context\u001b[0m\u001b[0;34m\u001b[0m\u001b[0;34m\u001b[0m\u001b[0m\n\u001b[0m\u001b[1;32m   1337\u001b[0m             )\n\u001b[1;32m   1338\u001b[0m         \u001b[0;32melif\u001b[0m \u001b[0mmode\u001b[0m \u001b[0;34m==\u001b[0m \u001b[0;34m'Minimal'\u001b[0m\u001b[0;34m:\u001b[0m\u001b[0;34m\u001b[0m\u001b[0;34m\u001b[0m\u001b[0m\n",
      "\u001b[0;32m~/.local/lib/python3.6/site-packages/IPython/core/ultratb.py\u001b[0m in \u001b[0;36mstructured_traceback\u001b[0;34m(self, etype, evalue, etb, tb_offset, number_of_lines_of_context)\u001b[0m\n\u001b[1;32m   1191\u001b[0m \u001b[0;34m\u001b[0m\u001b[0m\n\u001b[1;32m   1192\u001b[0m         formatted_exception = self.format_exception_as_a_whole(etype, evalue, etb, number_of_lines_of_context,\n\u001b[0;32m-> 1193\u001b[0;31m                                                                tb_offset)\n\u001b[0m\u001b[1;32m   1194\u001b[0m \u001b[0;34m\u001b[0m\u001b[0m\n\u001b[1;32m   1195\u001b[0m         \u001b[0mcolors\u001b[0m \u001b[0;34m=\u001b[0m \u001b[0mself\u001b[0m\u001b[0;34m.\u001b[0m\u001b[0mColors\u001b[0m  \u001b[0;31m# just a shorthand + quicker name lookup\u001b[0m\u001b[0;34m\u001b[0m\u001b[0;34m\u001b[0m\u001b[0m\n",
      "\u001b[0;32m~/.local/lib/python3.6/site-packages/IPython/core/ultratb.py\u001b[0m in \u001b[0;36mformat_exception_as_a_whole\u001b[0;34m(self, etype, evalue, etb, number_of_lines_of_context, tb_offset)\u001b[0m\n\u001b[1;32m   1148\u001b[0m \u001b[0;34m\u001b[0m\u001b[0m\n\u001b[1;32m   1149\u001b[0m \u001b[0;34m\u001b[0m\u001b[0m\n\u001b[0;32m-> 1150\u001b[0;31m         \u001b[0mlast_unique\u001b[0m\u001b[0;34m,\u001b[0m \u001b[0mrecursion_repeat\u001b[0m \u001b[0;34m=\u001b[0m \u001b[0mfind_recursion\u001b[0m\u001b[0;34m(\u001b[0m\u001b[0morig_etype\u001b[0m\u001b[0;34m,\u001b[0m \u001b[0mevalue\u001b[0m\u001b[0;34m,\u001b[0m \u001b[0mrecords\u001b[0m\u001b[0;34m)\u001b[0m\u001b[0;34m\u001b[0m\u001b[0;34m\u001b[0m\u001b[0m\n\u001b[0m\u001b[1;32m   1151\u001b[0m \u001b[0;34m\u001b[0m\u001b[0m\n\u001b[1;32m   1152\u001b[0m         \u001b[0mframes\u001b[0m \u001b[0;34m=\u001b[0m \u001b[0mself\u001b[0m\u001b[0;34m.\u001b[0m\u001b[0mformat_records\u001b[0m\u001b[0;34m(\u001b[0m\u001b[0mrecords\u001b[0m\u001b[0;34m,\u001b[0m \u001b[0mlast_unique\u001b[0m\u001b[0;34m,\u001b[0m \u001b[0mrecursion_repeat\u001b[0m\u001b[0;34m)\u001b[0m\u001b[0;34m\u001b[0m\u001b[0;34m\u001b[0m\u001b[0m\n",
      "\u001b[0;32m~/.local/lib/python3.6/site-packages/IPython/core/ultratb.py\u001b[0m in \u001b[0;36mfind_recursion\u001b[0;34m(etype, value, records)\u001b[0m\n\u001b[1;32m    449\u001b[0m     \u001b[0;31m# first frame (from in to out) that looks different.\u001b[0m\u001b[0;34m\u001b[0m\u001b[0;34m\u001b[0m\u001b[0;34m\u001b[0m\u001b[0m\n\u001b[1;32m    450\u001b[0m     \u001b[0;32mif\u001b[0m \u001b[0;32mnot\u001b[0m \u001b[0mis_recursion_error\u001b[0m\u001b[0;34m(\u001b[0m\u001b[0metype\u001b[0m\u001b[0;34m,\u001b[0m \u001b[0mvalue\u001b[0m\u001b[0;34m,\u001b[0m \u001b[0mrecords\u001b[0m\u001b[0;34m)\u001b[0m\u001b[0;34m:\u001b[0m\u001b[0;34m\u001b[0m\u001b[0;34m\u001b[0m\u001b[0m\n\u001b[0;32m--> 451\u001b[0;31m         \u001b[0;32mreturn\u001b[0m \u001b[0mlen\u001b[0m\u001b[0;34m(\u001b[0m\u001b[0mrecords\u001b[0m\u001b[0;34m)\u001b[0m\u001b[0;34m,\u001b[0m \u001b[0;36m0\u001b[0m\u001b[0;34m\u001b[0m\u001b[0;34m\u001b[0m\u001b[0m\n\u001b[0m\u001b[1;32m    452\u001b[0m \u001b[0;34m\u001b[0m\u001b[0m\n\u001b[1;32m    453\u001b[0m     \u001b[0;31m# Select filename, lineno, func_name to track frames with\u001b[0m\u001b[0;34m\u001b[0m\u001b[0;34m\u001b[0m\u001b[0;34m\u001b[0m\u001b[0m\n",
      "\u001b[0;31mTypeError\u001b[0m: object of type 'NoneType' has no len()"
     ]
    }
   ],
   "source": [
    "model = SVC(probability=False, tol=1e-3, max_iter=-1, cache_size=100000, random_state=np.random.RandomState(seed), verbose=False)\n",
    "\n",
    "# Perform a grid search with k-fold cross validation\n",
    "param_grid = [#{'scaler': [MinMaxScaler((-1, 1)), StandardScaler(), RobustScaler(quantile_range=(25., 75.))],\n",
    "              #  'model__estimator__kernel': ['linear'],\n",
    "              #  'model__estimator__C':      np.logspace(2, -2, 5)},\n",
    "              {'scaler': [MinMaxScaler((-1, 1)), StandardScaler(), RobustScaler(quantile_range=(25., 75.))],\n",
    "               'model__estimator__kernel': ['rbf'],\n",
    "               'model__estimator__C':      np.logspace(2, -2, 5),\n",
    "               'model__estimator__gamma':  ['scale', 'auto']},\n",
    "              {'scaler': [MinMaxScaler((-1, 1)), StandardScaler(), RobustScaler(quantile_range=(25., 75.))],\n",
    "               'model__estimator__kernel': ['poly'],\n",
    "               'model__estimator__C':      np.logspace(2, -2, 5),\n",
    "               'model__estimator__gamma':  ['scale', 'auto'],\n",
    "               'model__estimator__degree': [3, 4],\n",
    "               'model__estimator__coef0':  [-1, 0, 1]},\n",
    "              # {'scaler': [MinMaxScaler((-1, 1)), StandardScaler(), RobustScaler(quantile_range=(25., 75.))],\n",
    "              #  'model__estimator__kernel': ['sigmoid'],\n",
    "              #  'model__estimator__C':      np.logspace(2, -2, 5),\n",
    "              #  'model__estimator__gamma':  ['scale', 'auto'],\n",
    "              #  'model__estimator__coef0':  [-1, 0, 1]}\n",
    "             ]\n",
    "pipe = Grid_Search(model, param_grid, X_train, y_train, multi_target=True) # GridSearchCV, HalvingGridSearchCV"
   ]
  },
  {
   "cell_type": "code",
   "execution_count": null,
   "id": "5c7e5783",
   "metadata": {
    "ExecuteTime": {
     "end_time": "2022-05-20T22:20:53.988851Z",
     "start_time": "2022-05-20T21:14:17.533Z"
    },
    "code_folding": []
   },
   "outputs": [],
   "source": [
    "# Train with full training set\n",
    "with joblib.parallel_backend('multiprocessing', n_jobs=-1): # faster backend\n",
    "    pipe.fit(X_train, y_train)\n",
    "\n",
    "# Save model\n",
    "model_name = 'SVM'\n",
    "# joblib.dump(pipe, f'Results/Models/pipe_{model_name}_{nb_name}_{n}x{m}_noise_std={noise_std}_sampling={sampling_interval}.joblib');"
   ]
  },
  {
   "cell_type": "code",
   "execution_count": null,
   "id": "54219d6f",
   "metadata": {
    "ExecuteTime": {
     "end_time": "2022-05-20T22:20:53.990800Z",
     "start_time": "2022-05-20T21:14:18.854Z"
    }
   },
   "outputs": [],
   "source": [
    "# Get prediction statistics\n",
    "with joblib.parallel_backend('multiprocessing', n_jobs=-1): # faster backend\n",
    "    get_statistics(pipe, X_test, y_test, model_name)"
   ]
  },
  {
   "cell_type": "code",
   "execution_count": null,
   "id": "ceab4238",
   "metadata": {
    "ExecuteTime": {
     "start_time": "2022-05-20T21:14:06.460Z"
    },
    "collapsed": true
   },
   "outputs": [
    {
     "name": "stdout",
     "output_type": "stream",
     "text": [
      "n_iterations: 4\n",
      "n_required_iterations: 4\n",
      "n_possible_iterations: 4\n",
      "min_resources_: 296\n",
      "max_resources_: 8001\n",
      "aggressive_elimination: False\n",
      "factor: 2.99999999\n",
      "----------\n",
      "iter: 0\n",
      "n_candidates: 30\n",
      "n_resources: 296\n",
      "Fitting 3 folds for each of 30 candidates, totalling 90 fits\n",
      "----------\n",
      "iter: 1\n",
      "n_candidates: 11\n",
      "n_resources: 887\n",
      "Fitting 3 folds for each of 11 candidates, totalling 33 fits\n",
      "----------\n",
      "iter: 2\n",
      "n_candidates: 4\n",
      "n_resources: 2663\n",
      "Fitting 3 folds for each of 4 candidates, totalling 12 fits\n"
     ]
    }
   ],
   "source": [
    "model = LinearSVC(tol=1e-3, max_iter=1e4, random_state=np.random.RandomState(seed), verbose=0)\n",
    "\n",
    "# Perform a grid search with k-fold cross validation\n",
    "param_grid = [{'scaler': [MinMaxScaler((0, 1)), StandardScaler(), RobustScaler(quantile_range=(25., 75.))],\n",
    "               'model__estimator__penalty': ['l2'],\n",
    "               'model__estimator__loss':    ['hinge', 'squared_hinge'],\n",
    "               'model__estimator__dual':    [True],\n",
    "               'model__estimator__C':       np.logspace(2, -2, 5)},\n",
    "              {'scaler': [MinMaxScaler((0, 1)), StandardScaler(), RobustScaler(quantile_range=(25., 75.))],\n",
    "               'model__estimator__penalty': ['l1', 'l2'],\n",
    "               'model__estimator__loss':    ['squared_hinge'],\n",
    "               'model__estimator__dual':    [False],\n",
    "               'model__estimator__C':       np.logspace(2, -2, 5)}]\n",
    "pipe = Grid_Search(model, param_grid, X_train, y_train, multi_target=True) # GridSearchCV, HalvingGridSearchCV"
   ]
  },
  {
   "cell_type": "code",
   "execution_count": null,
   "id": "091ef91c",
   "metadata": {
    "ExecuteTime": {
     "start_time": "2022-05-20T21:14:06.868Z"
    },
    "code_folding": [],
    "scrolled": true
   },
   "outputs": [],
   "source": [
    "# Train with full training set\n",
    "with joblib.parallel_backend('multiprocessing', n_jobs=-1): # faster backend\n",
    "    pipe.fit(X_train, y_train)\n",
    "\n",
    "# Save model\n",
    "model_name = 'SVM_linear1'\n",
    "# joblib.dump(pipe, f'Results/Models/pipe_{model_name}_{nb_name}_{n}x{m}_noise_std={noise_std}_sampling={sampling_interval}.joblib');"
   ]
  },
  {
   "cell_type": "code",
   "execution_count": null,
   "id": "a1af29cc",
   "metadata": {
    "ExecuteTime": {
     "start_time": "2022-05-20T21:14:07.315Z"
    }
   },
   "outputs": [],
   "source": [
    "# Get prediction statistics\n",
    "with joblib.parallel_backend('multiprocessing', n_jobs=-1): # faster backend\n",
    "    get_statistics(pipe, X_test, y_test, model_name)"
   ]
  },
  {
   "cell_type": "code",
   "execution_count": 39,
   "id": "2f451769",
   "metadata": {
    "ExecuteTime": {
     "end_time": "2022-04-18T09:31:54.165553Z",
     "start_time": "2022-04-18T09:29:44.120796Z"
    },
    "collapsed": true
   },
   "outputs": [
    {
     "name": "stdout",
     "output_type": "stream",
     "text": [
      "n_iterations: 5\n",
      "n_required_iterations: 6\n",
      "n_possible_iterations: 5\n",
      "min_resources_: 98\n",
      "max_resources_: 8001\n",
      "aggressive_elimination: False\n",
      "factor: 3\n",
      "----------\n",
      "iter: 0\n",
      "n_candidates: 448\n",
      "n_resources: 98\n",
      "Fitting 5 folds for each of 448 candidates, totalling 2240 fits\n"
     ]
    },
    {
     "name": "stderr",
     "output_type": "stream",
     "text": [
      "/home/v082327/.local/lib/python3.6/site-packages/sklearn/linear_model/_stochastic_gradient.py:577: ConvergenceWarning: Maximum number of iteration reached before convergence. Consider increasing max_iter to improve the fit.\n",
      "  ConvergenceWarning)\n",
      "/home/v082327/.local/lib/python3.6/site-packages/sklearn/linear_model/_stochastic_gradient.py:577: ConvergenceWarning: Maximum number of iteration reached before convergence. Consider increasing max_iter to improve the fit.\n",
      "  ConvergenceWarning)\n",
      "/home/v082327/.local/lib/python3.6/site-packages/sklearn/linear_model/_stochastic_gradient.py:577: ConvergenceWarning: Maximum number of iteration reached before convergence. Consider increasing max_iter to improve the fit.\n",
      "  ConvergenceWarning)\n",
      "/home/v082327/.local/lib/python3.6/site-packages/sklearn/linear_model/_stochastic_gradient.py:577: ConvergenceWarning: Maximum number of iteration reached before convergence. Consider increasing max_iter to improve the fit.\n",
      "  ConvergenceWarning)\n",
      "/home/v082327/.local/lib/python3.6/site-packages/sklearn/linear_model/_stochastic_gradient.py:577: ConvergenceWarning: Maximum number of iteration reached before convergence. Consider increasing max_iter to improve the fit.\n",
      "  ConvergenceWarning)\n",
      "/home/v082327/.local/lib/python3.6/site-packages/sklearn/linear_model/_stochastic_gradient.py:577: ConvergenceWarning: Maximum number of iteration reached before convergence. Consider increasing max_iter to improve the fit.\n",
      "  ConvergenceWarning)\n",
      "/home/v082327/.local/lib/python3.6/site-packages/sklearn/linear_model/_stochastic_gradient.py:577: ConvergenceWarning: Maximum number of iteration reached before convergence. Consider increasing max_iter to improve the fit.\n",
      "  ConvergenceWarning)\n",
      "/home/v082327/.local/lib/python3.6/site-packages/sklearn/linear_model/_stochastic_gradient.py:577: ConvergenceWarning: Maximum number of iteration reached before convergence. Consider increasing max_iter to improve the fit.\n",
      "  ConvergenceWarning)\n",
      "/home/v082327/.local/lib/python3.6/site-packages/sklearn/linear_model/_stochastic_gradient.py:577: ConvergenceWarning: Maximum number of iteration reached before convergence. Consider increasing max_iter to improve the fit.\n",
      "  ConvergenceWarning)\n",
      "/home/v082327/.local/lib/python3.6/site-packages/sklearn/linear_model/_stochastic_gradient.py:577: ConvergenceWarning: Maximum number of iteration reached before convergence. Consider increasing max_iter to improve the fit.\n",
      "  ConvergenceWarning)\n",
      "/home/v082327/.local/lib/python3.6/site-packages/sklearn/linear_model/_stochastic_gradient.py:577: ConvergenceWarning: Maximum number of iteration reached before convergence. Consider increasing max_iter to improve the fit.\n",
      "  ConvergenceWarning)\n",
      "/home/v082327/.local/lib/python3.6/site-packages/sklearn/linear_model/_stochastic_gradient.py:577: ConvergenceWarning: Maximum number of iteration reached before convergence. Consider increasing max_iter to improve the fit.\n",
      "  ConvergenceWarning)\n",
      "/home/v082327/.local/lib/python3.6/site-packages/sklearn/linear_model/_stochastic_gradient.py:577: ConvergenceWarning: Maximum number of iteration reached before convergence. Consider increasing max_iter to improve the fit.\n",
      "  ConvergenceWarning)\n",
      "/home/v082327/.local/lib/python3.6/site-packages/sklearn/linear_model/_stochastic_gradient.py:577: ConvergenceWarning: Maximum number of iteration reached before convergence. Consider increasing max_iter to improve the fit.\n",
      "  ConvergenceWarning)\n",
      "/home/v082327/.local/lib/python3.6/site-packages/sklearn/linear_model/_stochastic_gradient.py:577: ConvergenceWarning: Maximum number of iteration reached before convergence. Consider increasing max_iter to improve the fit.\n",
      "  ConvergenceWarning)\n",
      "/home/v082327/.local/lib/python3.6/site-packages/sklearn/linear_model/_stochastic_gradient.py:577: ConvergenceWarning: Maximum number of iteration reached before convergence. Consider increasing max_iter to improve the fit.\n",
      "  ConvergenceWarning)\n",
      "/home/v082327/.local/lib/python3.6/site-packages/sklearn/linear_model/_stochastic_gradient.py:577: ConvergenceWarning: Maximum number of iteration reached before convergence. Consider increasing max_iter to improve the fit.\n",
      "  ConvergenceWarning)\n",
      "/home/v082327/.local/lib/python3.6/site-packages/sklearn/linear_model/_stochastic_gradient.py:577: ConvergenceWarning: Maximum number of iteration reached before convergence. Consider increasing max_iter to improve the fit.\n",
      "  ConvergenceWarning)\n"
     ]
    },
    {
     "name": "stdout",
     "output_type": "stream",
     "text": [
      "----------\n",
      "iter: 1\n",
      "n_candidates: 150\n",
      "n_resources: 294\n",
      "Fitting 5 folds for each of 150 candidates, totalling 750 fits\n",
      "----------\n",
      "iter: 2\n",
      "n_candidates: 50\n",
      "n_resources: 882\n",
      "Fitting 5 folds for each of 50 candidates, totalling 250 fits\n",
      "----------\n",
      "iter: 3\n",
      "n_candidates: 17\n",
      "n_resources: 2646\n",
      "Fitting 5 folds for each of 17 candidates, totalling 85 fits\n",
      "----------\n",
      "iter: 4\n",
      "n_candidates: 6\n",
      "n_resources: 7938\n",
      "Fitting 5 folds for each of 6 candidates, totalling 30 fits\n",
      "\n",
      "Best pars: {'model__estimator__alpha': 0.01, 'model__estimator__eta0': 0.001, 'model__estimator__penalty': 'l1', 'scaler': MinMaxScaler()}\n",
      "Fewest incorrectly-predicted bits: 45.48% +- 0.624%\n",
      "Executed in:                      0:02:10\n"
     ]
    }
   ],
   "source": [
    "model = SGDClassifier(loss='hinge', learning_rate='adaptive', eta0=1., tol=1e-3, max_iter=1e4, n_jobs=-1,\n",
    "                      random_state=np.random.RandomState(seed), verbose=0)\n",
    "\n",
    "# Perform a grid search with k-fold cross validation\n",
    "param_grid = [{'scaler': [MinMaxScaler((0, 1)), StandardScaler(), RobustScaler(quantile_range=(25., 75.))],\n",
    "               'model__estimator__penalty': ['l1', 'l2'],\n",
    "               'model__estimator__alpha':   [0, *np.logspace(-5, 1, 7)],\n",
    "               'model__estimator__eta0':    np.logspace(3, -3, 7)}]\n",
    "pipe = Grid_Search(model, param_grid, X_train, y_train, multi_target=True) # GridSearchCV, HalvingGridSearchCV"
   ]
  },
  {
   "cell_type": "code",
   "execution_count": 40,
   "id": "955923cb",
   "metadata": {
    "ExecuteTime": {
     "end_time": "2022-04-18T09:31:56.333704Z",
     "start_time": "2022-04-18T09:31:55.319727Z"
    },
    "code_folding": []
   },
   "outputs": [],
   "source": [
    "# Train with full training set\n",
    "with joblib.parallel_backend('multiprocessing', n_jobs=-1): # faster backend\n",
    "    pipe.fit(X_train, y_train)\n",
    "\n",
    "# Save model\n",
    "model_name = 'SVM_linear2'\n",
    "# joblib.dump(pipe, f'Results/Models/pipe_{model_name}_{nb_name}_{n}x{m}_noise_std={noise_std}_sampling={sampling_interval}.joblib');"
   ]
  },
  {
   "cell_type": "code",
   "execution_count": 41,
   "id": "6bb5207c",
   "metadata": {
    "ExecuteTime": {
     "end_time": "2022-04-18T09:32:00.839845Z",
     "start_time": "2022-04-18T09:31:57.456574Z"
    },
    "collapsed": true
   },
   "outputs": [
    {
     "name": "stdout",
     "output_type": "stream",
     "text": [
      "Incorrectly-predicted bits:  45.26%\n",
      "Incorrectly-predicted keys:  100.00%\n",
      "Subset accuracy on test set:  0.00%\n",
      "\n",
      "Report:\n",
      "               precision    recall  f1-score   support\n",
      "\n",
      "           0      0.000     0.000     0.000       962\n",
      "           1      0.509     1.000     0.675      1019\n",
      "           2      0.000     0.000     0.000       965\n",
      "           3      1.000     1.000     1.000      1012\n",
      "           4      0.000     0.000     0.000      1006\n",
      "           5      0.484     1.000     0.652       968\n",
      "           6      0.476     1.000     0.645       952\n",
      "           7      0.000     0.000     0.000      1010\n",
      "           8      1.000     0.516     0.681      1011\n",
      "           9      0.489     1.000     0.657       979\n",
      "          10      0.470     0.249     0.326       959\n",
      "          11      0.494     0.607     0.544      1004\n",
      "          12      0.000     0.000     0.000       990\n",
      "          13      0.507     1.000     0.673      1015\n",
      "          14      0.515     1.000     0.680      1030\n",
      "          15      0.000     0.000     0.000      1013\n",
      "\n",
      "   micro avg      0.546     0.525     0.535     15895\n",
      "   macro avg      0.372     0.523     0.408     15895\n",
      "weighted avg      0.373     0.525     0.410     15895\n",
      " samples avg      0.544     0.526     0.525     15895\n",
      "\n",
      "Confusion matrices:\n"
     ]
    },
    {
     "name": "stderr",
     "output_type": "stream",
     "text": [
      "/home/v082327/.local/lib/python3.6/site-packages/sklearn/metrics/_classification.py:1248: UndefinedMetricWarning: Precision and F-score are ill-defined and being set to 0.0 in labels with no predicted samples. Use `zero_division` parameter to control this behavior.\n",
      "  _warn_prf(average, modifier, msg_start, len(result))\n"
     ]
    },
    {
     "data": {
      "image/png": "[encoded data removed]",
      "text/plain": [
       "<Figure size 900x576 with 16 Axes>"
      ]
     },
     "metadata": {},
     "output_type": "display_data"
    }
   ],
   "source": [
    "# Get prediction statistics\n",
    "with joblib.parallel_backend('multiprocessing', n_jobs=-1): # faster backend\n",
    "    get_statistics(pipe, X_test, y_test, model_name)"
   ]
  },
  {
   "cell_type": "markdown",
   "id": "7b6127a5",
   "metadata": {},
   "source": [
    "### KNN"
   ]
  },
  {
   "cell_type": "code",
   "execution_count": 100,
   "id": "de33a7b6",
   "metadata": {
    "ExecuteTime": {
     "end_time": "2022-05-15T01:49:15.077422Z",
     "start_time": "2022-05-15T01:45:02.541101Z"
    },
    "scrolled": true
   },
   "outputs": [
    {
     "name": "stdout",
     "output_type": "stream",
     "text": [
      "n_iterations: 5\n",
      "n_required_iterations: 6\n",
      "n_possible_iterations: 5\n",
      "min_resources_: 98\n",
      "max_resources_: 8001\n",
      "aggressive_elimination: False\n",
      "factor: 2.99999999\n",
      "----------\n",
      "iter: 0\n",
      "n_candidates: 264\n",
      "n_resources: 98\n",
      "Fitting 3 folds for each of 264 candidates, totalling 792 fits\n",
      "----------\n",
      "iter: 1\n",
      "n_candidates: 89\n",
      "n_resources: 293\n",
      "Fitting 3 folds for each of 89 candidates, totalling 267 fits\n",
      "----------\n",
      "iter: 2\n",
      "n_candidates: 30\n",
      "n_resources: 881\n",
      "Fitting 3 folds for each of 30 candidates, totalling 90 fits\n",
      "----------\n",
      "iter: 3\n",
      "n_candidates: 11\n",
      "n_resources: 2645\n",
      "Fitting 3 folds for each of 11 candidates, totalling 33 fits\n",
      "----------\n",
      "iter: 4\n",
      "n_candidates: 4\n",
      "n_resources: 7937\n",
      "Fitting 3 folds for each of 4 candidates, totalling 12 fits\n",
      "\n",
      "Best pars: {'model__metric': 'euclidean', 'model__n_neighbors': 21, 'model__weights': 'distance', 'scaler': None}\n",
      "Fewest incorrectly-predicted bits: 44.43% +- 0.098%\n",
      "Executed in:                      0:04:13\n"
     ]
    }
   ],
   "source": [
    "# KNeighborsClassifier supports multilabel classification\n",
    "model = KNeighborsClassifier(n_jobs=-1)\n",
    "\n",
    "# Perform a grid search with k-fold cross validation\n",
    "param_grid = [{'scaler':             [None, MinMaxScaler((0, 1)), StandardScaler(), RobustScaler(quantile_range=(25., 75.))],\n",
    "               'model__n_neighbors': np.arange(1, 22, 2), # odd nº\n",
    "               'model__weights':     ['uniform', 'distance'],\n",
    "               'model__metric':      ['manhattan', 'euclidean', 'chebyshev']}]\n",
    "pipe = Grid_Search(model, param_grid, X_train, y_train) # TuneGridSearchCV, GridSearchCV, HalvingGridSearchCV"
   ]
  },
  {
   "cell_type": "code",
   "execution_count": 101,
   "id": "bc92e057",
   "metadata": {
    "ExecuteTime": {
     "end_time": "2022-05-15T01:49:15.364450Z",
     "start_time": "2022-05-15T01:49:15.104560Z"
    }
   },
   "outputs": [],
   "source": [
    "# Train with full training set\n",
    "pipe.fit(X_train, y_train)\n",
    "\n",
    "# Save model\n",
    "model_name = 'KNN'\n",
    "# joblib.dump(pipe, f'Results/Models/pipe_{model_name}_{nb_name}_{n}x{m}_noise_std={noise_std}_sampling={sampling_interval}.joblib');"
   ]
  },
  {
   "cell_type": "code",
   "execution_count": 102,
   "id": "45c17f89",
   "metadata": {
    "ExecuteTime": {
     "end_time": "2022-05-15T01:49:20.413152Z",
     "start_time": "2022-05-15T01:49:15.390524Z"
    },
    "scrolled": true
   },
   "outputs": [
    {
     "name": "stdout",
     "output_type": "stream",
     "text": [
      "Incorrectly-predicted bits:  44.18%\n",
      "Incorrectly-predicted keys:  100.00%\n"
     ]
    }
   ],
   "source": [
    "# Get prediction statistics\n",
    "get_statistics(pipe, X_test, y_test, model_name, prob=True)"
   ]
  },
  {
   "cell_type": "markdown",
   "id": "1f4231d0",
   "metadata": {},
   "source": [
    "### Naïve Bayes"
   ]
  },
  {
   "cell_type": "markdown",
   "id": "350bca37",
   "metadata": {},
   "source": [
    "#### Gaussian NB"
   ]
  },
  {
   "cell_type": "code",
   "execution_count": 19,
   "id": "48e357b4",
   "metadata": {
    "ExecuteTime": {
     "end_time": "2022-05-15T13:00:12.380654Z",
     "start_time": "2022-05-15T12:51:34.224395Z"
    },
    "scrolled": true
   },
   "outputs": [
    {
     "name": "stdout",
     "output_type": "stream",
     "text": [
      "n_iterations: 4\n",
      "n_required_iterations: 4\n",
      "n_possible_iterations: 4\n",
      "min_resources_: 296\n",
      "max_resources_: 8001\n",
      "aggressive_elimination: False\n",
      "factor: 2.99999999\n",
      "----------\n",
      "iter: 0\n",
      "n_candidates: 68\n",
      "n_resources: 296\n",
      "Fitting 3 folds for each of 68 candidates, totalling 204 fits\n",
      "----------\n",
      "iter: 1\n",
      "n_candidates: 23\n",
      "n_resources: 887\n",
      "Fitting 3 folds for each of 23 candidates, totalling 69 fits\n",
      "----------\n",
      "iter: 2\n",
      "n_candidates: 8\n",
      "n_resources: 2663\n",
      "Fitting 3 folds for each of 8 candidates, totalling 24 fits\n",
      "----------\n",
      "iter: 3\n",
      "n_candidates: 3\n",
      "n_resources: 7991\n",
      "Fitting 3 folds for each of 3 candidates, totalling 9 fits\n",
      "\n",
      "Best pars: {'model__estimator__var_smoothing': 1e-08, 'scaler': None}\n",
      "Fewest incorrectly-predicted bits: 13.15% +- 0.142%\n",
      "Executed in:                      0:08:38\n"
     ]
    }
   ],
   "source": [
    "model = GaussianNB()\n",
    "\n",
    "# Perform a grid search with k-fold cross validation\n",
    "param_grid = [{'scaler': [None, MinMaxScaler((0, 1)), StandardScaler(), RobustScaler(quantile_range=(25., 75.))],\n",
    "               'model__estimator__var_smoothing': [0, *np.logspace(-10, 5, 16)]}]\n",
    "pipe = Grid_Search(model, param_grid, X_train, y_train, multi_target=True) # GridSearchCV, HalvingGridSearchCV"
   ]
  },
  {
   "cell_type": "code",
   "execution_count": 20,
   "id": "681397d8",
   "metadata": {
    "ExecuteTime": {
     "end_time": "2022-05-15T13:00:32.208030Z",
     "start_time": "2022-05-15T13:00:12.433560Z"
    },
    "code_folding": []
   },
   "outputs": [],
   "source": [
    "# Train with full training set\n",
    "with joblib.parallel_backend('multiprocessing', n_jobs=-1): # faster backend\n",
    "    pipe.fit(X_train, y_train)\n",
    "\n",
    "# Save model\n",
    "model_name = 'NB_gaussian'\n",
    "# joblib.dump(pipe, f'Results/Models/pipe_{model_name}_{nb_name}_{n}x{m}_noise_std={noise_std}_sampling={sampling_interval}.joblib');"
   ]
  },
  {
   "cell_type": "code",
   "execution_count": 21,
   "id": "e8492d43",
   "metadata": {
    "ExecuteTime": {
     "end_time": "2022-05-15T13:00:37.031366Z",
     "start_time": "2022-05-15T13:00:32.253473Z"
    },
    "scrolled": true
   },
   "outputs": [
    {
     "name": "stdout",
     "output_type": "stream",
     "text": [
      "Incorrectly-predicted bits:  11.92%\n",
      "Incorrectly-predicted keys:  98.10%\n"
     ]
    }
   ],
   "source": [
    "# Get prediction statistics\n",
    "with joblib.parallel_backend('multiprocessing', n_jobs=-1): # faster backend\n",
    "    get_statistics(pipe, X_test, y_test, model_name, prob=True)"
   ]
  },
  {
   "cell_type": "markdown",
   "id": "687d07fb",
   "metadata": {},
   "source": [
    "#### Multinomial NB"
   ]
  },
  {
   "cell_type": "code",
   "execution_count": 22,
   "id": "ba4cbff5",
   "metadata": {
    "ExecuteTime": {
     "end_time": "2022-05-15T13:02:52.212058Z",
     "start_time": "2022-05-15T13:00:37.075889Z"
    },
    "scrolled": true
   },
   "outputs": [
    {
     "name": "stdout",
     "output_type": "stream",
     "text": [
      "n_iterations: 4\n",
      "n_required_iterations: 4\n",
      "n_possible_iterations: 4\n",
      "min_resources_: 296\n",
      "max_resources_: 8001\n",
      "aggressive_elimination: False\n",
      "factor: 2.99999999\n",
      "----------\n",
      "iter: 0\n",
      "n_candidates: 64\n",
      "n_resources: 296\n",
      "Fitting 3 folds for each of 64 candidates, totalling 192 fits\n",
      "----------\n",
      "iter: 1\n",
      "n_candidates: 22\n",
      "n_resources: 887\n",
      "Fitting 3 folds for each of 22 candidates, totalling 66 fits\n",
      "----------\n",
      "iter: 2\n",
      "n_candidates: 8\n",
      "n_resources: 2663\n",
      "Fitting 3 folds for each of 8 candidates, totalling 24 fits\n",
      "----------\n",
      "iter: 3\n",
      "n_candidates: 3\n",
      "n_resources: 7991\n",
      "Fitting 3 folds for each of 3 candidates, totalling 9 fits\n",
      "\n",
      "Best pars: {'model__estimator__alpha': 0.1, 'model__estimator__fit_prior': True, 'scaler': None}\n",
      "Fewest incorrectly-predicted bits: 30.73% +- 0.184%\n",
      "Executed in:                      0:02:15\n"
     ]
    }
   ],
   "source": [
    "model = MultinomialNB() # does not work with negative values\n",
    "\n",
    "# Perform a grid search with k-fold cross validation\n",
    "param_grid = [{'scaler':                      [None, MinMaxScaler((0, 1))],\n",
    "               'model__estimator__alpha':     np.logspace(-10, 5, 16),\n",
    "               'model__estimator__fit_prior': [False, True]}]\n",
    "pipe = Grid_Search(model, param_grid, X_train, y_train, multi_target=True) # GridSearchCV, HalvingGridSearchCV"
   ]
  },
  {
   "cell_type": "code",
   "execution_count": 23,
   "id": "89dfa242",
   "metadata": {
    "ExecuteTime": {
     "end_time": "2022-05-15T13:03:02.283446Z",
     "start_time": "2022-05-15T13:02:52.257371Z"
    },
    "code_folding": [],
    "scrolled": true
   },
   "outputs": [
    {
     "data": {
      "text/plain": [
       "18432"
      ]
     },
     "execution_count": 23,
     "metadata": {},
     "output_type": "execute_result"
    }
   ],
   "source": [
    "# Train with full training set\n",
    "with joblib.parallel_backend('multiprocessing', n_jobs=-1): # faster backend\n",
    "    pipe.fit(X_train, y_train)\n",
    "\n",
    "# Save model\n",
    "model_name = 'NB_multi'\n",
    "# joblib.dump(pipe, f'Results/Models/pipe_{model_name}_{nb_name}_{n}x{m}_noise_std={noise_std}_sampling={sampling_interval}.joblib');\n",
    "\n",
    "model = pipe[1].estimators_[0]\n",
    "model.n_features_in_#, model.feature_count_"
   ]
  },
  {
   "cell_type": "code",
   "execution_count": 24,
   "id": "029aa784",
   "metadata": {
    "ExecuteTime": {
     "end_time": "2022-05-15T13:03:04.987756Z",
     "start_time": "2022-05-15T13:03:02.329587Z"
    },
    "scrolled": true
   },
   "outputs": [
    {
     "name": "stdout",
     "output_type": "stream",
     "text": [
      "Incorrectly-predicted bits:  28.39%\n",
      "Incorrectly-predicted keys:  100.00%\n"
     ]
    }
   ],
   "source": [
    "# Get prediction statistics\n",
    "with joblib.parallel_backend('multiprocessing', n_jobs=-1): # faster backend\n",
    "    get_statistics(pipe, X_test, y_test, model_name, prob=True)"
   ]
  },
  {
   "cell_type": "markdown",
   "id": "ec4488ca",
   "metadata": {},
   "source": [
    "#### Categorical NB"
   ]
  },
  {
   "cell_type": "code",
   "execution_count": null,
   "id": "04954219",
   "metadata": {
    "ExecuteTime": {
     "end_time": "2022-05-14T18:30:05.230633Z",
     "start_time": "2022-05-14T18:14:02.850Z"
    }
   },
   "outputs": [],
   "source": [
    "model = CategoricalNB() # does not work with negative values\n",
    "\n",
    "# Perform a grid search with k-fold cross validation\n",
    "param_grid = [{'scaler':                           [None], #MinMaxScaler((0, 1))],\n",
    "               'model__estimator__alpha':          np.logspace(-5, 3, 9),\n",
    "               'model__estimator__fit_prior':      [True, False],\n",
    "               # 'model__estimator__min_categories': [*np.arange(int(0.1*N_vec), 19, -20), None]}]\n",
    "               'model__estimator__min_categories': [*np.arange(int(0.1*N_vec), 99, -100), 20]}]\n",
    "pipe = Grid_Search(model, param_grid, X_train, y_train, multi_target=True) # GridSearchCV, HalvingGridSearchCV"
   ]
  },
  {
   "cell_type": "code",
   "execution_count": null,
   "id": "badd0a6e",
   "metadata": {
    "ExecuteTime": {
     "end_time": "2022-05-14T18:30:05.236174Z",
     "start_time": "2022-05-14T18:14:03.527Z"
    },
    "scrolled": true
   },
   "outputs": [],
   "source": [
    "# Train with full training set\n",
    "with joblib.parallel_backend('multiprocessing', n_jobs=-1): # faster backend\n",
    "    pipe.fit(X_train, y_train)\n",
    "\n",
    "# Save model\n",
    "model_name = 'NB_cat'\n",
    "# joblib.dump(pipe, f'Results/Models/pipe_{model_name}_{nb_name}_{n}x{m}_noise_std={noise_std}_sampling={sampling_interval}.joblib');\n",
    "\n",
    "model = pipe[1].estimators_[0]\n",
    "model.n_features_in_, model.n_categories_"
   ]
  },
  {
   "cell_type": "code",
   "execution_count": null,
   "id": "087d839c",
   "metadata": {
    "ExecuteTime": {
     "end_time": "2022-05-14T18:30:05.241718Z",
     "start_time": "2022-05-14T18:14:04.517Z"
    },
    "scrolled": true
   },
   "outputs": [],
   "source": [
    "# Get prediction statistics\n",
    "with joblib.parallel_backend('multiprocessing', n_jobs=-1): # faster backend\n",
    "    get_statistics(pipe, X_test, y_test, model_name, prob=True)"
   ]
  },
  {
   "cell_type": "markdown",
   "id": "3bafde67",
   "metadata": {},
   "source": [
    "### Decision tree"
   ]
  },
  {
   "cell_type": "code",
   "execution_count": 18,
   "id": "1dd0bd55",
   "metadata": {
    "ExecuteTime": {
     "end_time": "2022-05-25T21:22:06.019252Z",
     "start_time": "2022-05-25T21:21:59.452849Z"
    },
    "code_folding": [],
    "collapsed": true
   },
   "outputs": [
    {
     "name": "stdout",
     "output_type": "stream",
     "text": [
      "\n",
      "---------- 0 ----------\n",
      "n_iterations: 5\n",
      "n_required_iterations: 7\n",
      "n_possible_iterations: 5\n",
      "min_resources_: 98\n",
      "max_resources_: 8001\n",
      "aggressive_elimination: False\n",
      "factor: 2.99999999\n",
      "----------\n",
      "iter: 0\n",
      "n_candidates: 768\n",
      "n_resources: 98\n",
      "Fitting 3 folds for each of 768 candidates, totalling 2304 fits\n"
     ]
    },
    {
     "ename": "KeyboardInterrupt",
     "evalue": "",
     "output_type": "error",
     "traceback": [
      "\u001b[0;31m---------------------------------------------------------------------------\u001b[0m",
      "\u001b[0;31mKeyboardInterrupt\u001b[0m                         Traceback (most recent call last)",
      "\u001b[0;32m<ipython-input-18-2f7220952846>\u001b[0m in \u001b[0;36m<module>\u001b[0;34m\u001b[0m\n\u001b[1;32m     11\u001b[0m                    \u001b[0;31m# 'model__max_leaf_nodes':      range(2, 21),\u001b[0m\u001b[0;34m\u001b[0m\u001b[0;34m\u001b[0m\u001b[0;34m\u001b[0m\u001b[0m\n\u001b[1;32m     12\u001b[0m                    'model__min_impurity_decrease': [*np.logspace(-2, -6, 5), 0]}]\n\u001b[0;32m---> 13\u001b[0;31m     \u001b[0mpipe\u001b[0m \u001b[0;34m=\u001b[0m \u001b[0mGrid_Search\u001b[0m\u001b[0;34m(\u001b[0m\u001b[0mmodel\u001b[0m\u001b[0;34m,\u001b[0m \u001b[0mparam_grid\u001b[0m\u001b[0;34m,\u001b[0m \u001b[0mX_train\u001b[0m\u001b[0;34m,\u001b[0m \u001b[0my_train\u001b[0m\u001b[0;34m)\u001b[0m \u001b[0;31m# TuneGridSearchCV, GridSearchCV, HalvingGridSearchCV\u001b[0m\u001b[0;34m\u001b[0m\u001b[0;34m\u001b[0m\u001b[0m\n\u001b[0m\u001b[1;32m     14\u001b[0m     \u001b[0mpipe\u001b[0m\u001b[0;34m.\u001b[0m\u001b[0mfit\u001b[0m\u001b[0;34m(\u001b[0m\u001b[0mX_train\u001b[0m\u001b[0;34m,\u001b[0m \u001b[0my_train\u001b[0m\u001b[0;34m)\u001b[0m\u001b[0;34m\u001b[0m\u001b[0;34m\u001b[0m\u001b[0m\n\u001b[1;32m     15\u001b[0m \u001b[0;34m\u001b[0m\u001b[0m\n",
      "\u001b[0;32m<ipython-input-5-026b658d82a4>\u001b[0m in \u001b[0;36mGrid_Search\u001b[0;34m(model, param_grid, X_train, y_train, resource, multi_target)\u001b[0m\n\u001b[1;32m     29\u001b[0m     \u001b[0mstart_time\u001b[0m \u001b[0;34m=\u001b[0m \u001b[0mtimeit\u001b[0m\u001b[0;34m.\u001b[0m\u001b[0mdefault_timer\u001b[0m\u001b[0;34m(\u001b[0m\u001b[0;34m)\u001b[0m\u001b[0;34m\u001b[0m\u001b[0;34m\u001b[0m\u001b[0m\n\u001b[1;32m     30\u001b[0m     \u001b[0;32mwith\u001b[0m \u001b[0mjoblib\u001b[0m\u001b[0;34m.\u001b[0m\u001b[0mparallel_backend\u001b[0m\u001b[0;34m(\u001b[0m\u001b[0;34m'multiprocessing'\u001b[0m\u001b[0;34m,\u001b[0m \u001b[0mn_jobs\u001b[0m\u001b[0;34m=\u001b[0m\u001b[0;34m-\u001b[0m\u001b[0;36m1\u001b[0m\u001b[0;34m)\u001b[0m\u001b[0;34m:\u001b[0m \u001b[0;31m# faster backend\u001b[0m\u001b[0;34m\u001b[0m\u001b[0;34m\u001b[0m\u001b[0m\n\u001b[0;32m---> 31\u001b[0;31m         \u001b[0mgrid_search\u001b[0m\u001b[0;34m.\u001b[0m\u001b[0mfit\u001b[0m\u001b[0;34m(\u001b[0m\u001b[0mX_train\u001b[0m\u001b[0;34m,\u001b[0m \u001b[0my_train\u001b[0m\u001b[0;34m)\u001b[0m\u001b[0;34m\u001b[0m\u001b[0;34m\u001b[0m\u001b[0m\n\u001b[0m\u001b[1;32m     32\u001b[0m     \u001b[0mdelta_time\u001b[0m \u001b[0;34m=\u001b[0m \u001b[0mtimedelta\u001b[0m\u001b[0;34m(\u001b[0m\u001b[0mseconds\u001b[0m\u001b[0;34m=\u001b[0m\u001b[0mround\u001b[0m\u001b[0;34m(\u001b[0m\u001b[0mtimeit\u001b[0m\u001b[0;34m.\u001b[0m\u001b[0mdefault_timer\u001b[0m\u001b[0;34m(\u001b[0m\u001b[0;34m)\u001b[0m\u001b[0;34m-\u001b[0m\u001b[0mstart_time\u001b[0m\u001b[0;34m)\u001b[0m\u001b[0;34m)\u001b[0m\u001b[0;34m\u001b[0m\u001b[0;34m\u001b[0m\u001b[0m\n\u001b[1;32m     33\u001b[0m \u001b[0;34m\u001b[0m\u001b[0m\n",
      "\u001b[0;32m~/.local/lib/python3.6/site-packages/sklearn/model_selection/_search_successive_halving.py\u001b[0m in \u001b[0;36mfit\u001b[0;34m(self, X, y, groups, **fit_params)\u001b[0m\n\u001b[1;32m    211\u001b[0m         \u001b[0mself\u001b[0m\u001b[0;34m.\u001b[0m\u001b[0m_n_samples_orig\u001b[0m \u001b[0;34m=\u001b[0m \u001b[0m_num_samples\u001b[0m\u001b[0;34m(\u001b[0m\u001b[0mX\u001b[0m\u001b[0;34m)\u001b[0m\u001b[0;34m\u001b[0m\u001b[0;34m\u001b[0m\u001b[0m\n\u001b[1;32m    212\u001b[0m \u001b[0;34m\u001b[0m\u001b[0m\n\u001b[0;32m--> 213\u001b[0;31m         \u001b[0msuper\u001b[0m\u001b[0;34m(\u001b[0m\u001b[0;34m)\u001b[0m\u001b[0;34m.\u001b[0m\u001b[0mfit\u001b[0m\u001b[0;34m(\u001b[0m\u001b[0mX\u001b[0m\u001b[0;34m,\u001b[0m \u001b[0my\u001b[0m\u001b[0;34m=\u001b[0m\u001b[0my\u001b[0m\u001b[0;34m,\u001b[0m \u001b[0mgroups\u001b[0m\u001b[0;34m=\u001b[0m\u001b[0mgroups\u001b[0m\u001b[0;34m,\u001b[0m \u001b[0;34m**\u001b[0m\u001b[0mfit_params\u001b[0m\u001b[0;34m)\u001b[0m\u001b[0;34m\u001b[0m\u001b[0;34m\u001b[0m\u001b[0m\n\u001b[0m\u001b[1;32m    214\u001b[0m \u001b[0;34m\u001b[0m\u001b[0m\n\u001b[1;32m    215\u001b[0m         \u001b[0;31m# Set best_score_: BaseSearchCV does not set it, as refit is a callable\u001b[0m\u001b[0;34m\u001b[0m\u001b[0;34m\u001b[0m\u001b[0;34m\u001b[0m\u001b[0m\n",
      "\u001b[0;32m~/.local/lib/python3.6/site-packages/sklearn/utils/validation.py\u001b[0m in \u001b[0;36minner_f\u001b[0;34m(*args, **kwargs)\u001b[0m\n\u001b[1;32m     61\u001b[0m             \u001b[0mextra_args\u001b[0m \u001b[0;34m=\u001b[0m \u001b[0mlen\u001b[0m\u001b[0;34m(\u001b[0m\u001b[0margs\u001b[0m\u001b[0;34m)\u001b[0m \u001b[0;34m-\u001b[0m \u001b[0mlen\u001b[0m\u001b[0;34m(\u001b[0m\u001b[0mall_args\u001b[0m\u001b[0;34m)\u001b[0m\u001b[0;34m\u001b[0m\u001b[0;34m\u001b[0m\u001b[0m\n\u001b[1;32m     62\u001b[0m             \u001b[0;32mif\u001b[0m \u001b[0mextra_args\u001b[0m \u001b[0;34m<=\u001b[0m \u001b[0;36m0\u001b[0m\u001b[0;34m:\u001b[0m\u001b[0;34m\u001b[0m\u001b[0;34m\u001b[0m\u001b[0m\n\u001b[0;32m---> 63\u001b[0;31m                 \u001b[0;32mreturn\u001b[0m \u001b[0mf\u001b[0m\u001b[0;34m(\u001b[0m\u001b[0;34m*\u001b[0m\u001b[0margs\u001b[0m\u001b[0;34m,\u001b[0m \u001b[0;34m**\u001b[0m\u001b[0mkwargs\u001b[0m\u001b[0;34m)\u001b[0m\u001b[0;34m\u001b[0m\u001b[0;34m\u001b[0m\u001b[0m\n\u001b[0m\u001b[1;32m     64\u001b[0m \u001b[0;34m\u001b[0m\u001b[0m\n\u001b[1;32m     65\u001b[0m             \u001b[0;31m# extra_args > 0\u001b[0m\u001b[0;34m\u001b[0m\u001b[0;34m\u001b[0m\u001b[0;34m\u001b[0m\u001b[0m\n",
      "\u001b[0;32m~/.local/lib/python3.6/site-packages/sklearn/model_selection/_search.py\u001b[0m in \u001b[0;36mfit\u001b[0;34m(self, X, y, groups, **fit_params)\u001b[0m\n\u001b[1;32m    839\u001b[0m                 \u001b[0;32mreturn\u001b[0m \u001b[0mresults\u001b[0m\u001b[0;34m\u001b[0m\u001b[0;34m\u001b[0m\u001b[0m\n\u001b[1;32m    840\u001b[0m \u001b[0;34m\u001b[0m\u001b[0m\n\u001b[0;32m--> 841\u001b[0;31m             \u001b[0mself\u001b[0m\u001b[0;34m.\u001b[0m\u001b[0m_run_search\u001b[0m\u001b[0;34m(\u001b[0m\u001b[0mevaluate_candidates\u001b[0m\u001b[0;34m)\u001b[0m\u001b[0;34m\u001b[0m\u001b[0;34m\u001b[0m\u001b[0m\n\u001b[0m\u001b[1;32m    842\u001b[0m \u001b[0;34m\u001b[0m\u001b[0m\n\u001b[1;32m    843\u001b[0m             \u001b[0;31m# multimetric is determined here because in the case of a callable\u001b[0m\u001b[0;34m\u001b[0m\u001b[0;34m\u001b[0m\u001b[0;34m\u001b[0m\u001b[0m\n",
      "\u001b[0;32m~/.local/lib/python3.6/site-packages/sklearn/model_selection/_search_successive_halving.py\u001b[0m in \u001b[0;36m_run_search\u001b[0;34m(self, evaluate_candidates)\u001b[0m\n\u001b[1;32m    318\u001b[0m \u001b[0;34m\u001b[0m\u001b[0m\n\u001b[1;32m    319\u001b[0m             results = evaluate_candidates(candidate_params, cv,\n\u001b[0;32m--> 320\u001b[0;31m                                           more_results=more_results)\n\u001b[0m\u001b[1;32m    321\u001b[0m \u001b[0;34m\u001b[0m\u001b[0m\n\u001b[1;32m    322\u001b[0m             \u001b[0mn_candidates_to_keep\u001b[0m \u001b[0;34m=\u001b[0m \u001b[0mceil\u001b[0m\u001b[0;34m(\u001b[0m\u001b[0mn_candidates\u001b[0m \u001b[0;34m/\u001b[0m \u001b[0mself\u001b[0m\u001b[0;34m.\u001b[0m\u001b[0mfactor\u001b[0m\u001b[0;34m)\u001b[0m\u001b[0;34m\u001b[0m\u001b[0;34m\u001b[0m\u001b[0m\n",
      "\u001b[0;32m~/.local/lib/python3.6/site-packages/sklearn/model_selection/_search.py\u001b[0m in \u001b[0;36mevaluate_candidates\u001b[0;34m(candidate_params, cv, more_results)\u001b[0m\n\u001b[1;32m    807\u001b[0m                                    (split_idx, (train, test)) in product(\n\u001b[1;32m    808\u001b[0m                                    \u001b[0menumerate\u001b[0m\u001b[0;34m(\u001b[0m\u001b[0mcandidate_params\u001b[0m\u001b[0;34m)\u001b[0m\u001b[0;34m,\u001b[0m\u001b[0;34m\u001b[0m\u001b[0;34m\u001b[0m\u001b[0m\n\u001b[0;32m--> 809\u001b[0;31m                                    enumerate(cv.split(X, y, groups))))\n\u001b[0m\u001b[1;32m    810\u001b[0m \u001b[0;34m\u001b[0m\u001b[0m\n\u001b[1;32m    811\u001b[0m                 \u001b[0;32mif\u001b[0m \u001b[0mlen\u001b[0m\u001b[0;34m(\u001b[0m\u001b[0mout\u001b[0m\u001b[0;34m)\u001b[0m \u001b[0;34m<\u001b[0m \u001b[0;36m1\u001b[0m\u001b[0;34m:\u001b[0m\u001b[0;34m\u001b[0m\u001b[0;34m\u001b[0m\u001b[0m\n",
      "\u001b[0;32m~/.local/lib/python3.6/site-packages/joblib/parallel.py\u001b[0m in \u001b[0;36m__call__\u001b[0;34m(self, iterable)\u001b[0m\n\u001b[1;32m   1054\u001b[0m \u001b[0;34m\u001b[0m\u001b[0m\n\u001b[1;32m   1055\u001b[0m             \u001b[0;32mwith\u001b[0m \u001b[0mself\u001b[0m\u001b[0;34m.\u001b[0m\u001b[0m_backend\u001b[0m\u001b[0;34m.\u001b[0m\u001b[0mretrieval_context\u001b[0m\u001b[0;34m(\u001b[0m\u001b[0;34m)\u001b[0m\u001b[0;34m:\u001b[0m\u001b[0;34m\u001b[0m\u001b[0;34m\u001b[0m\u001b[0m\n\u001b[0;32m-> 1056\u001b[0;31m                 \u001b[0mself\u001b[0m\u001b[0;34m.\u001b[0m\u001b[0mretrieve\u001b[0m\u001b[0;34m(\u001b[0m\u001b[0;34m)\u001b[0m\u001b[0;34m\u001b[0m\u001b[0;34m\u001b[0m\u001b[0m\n\u001b[0m\u001b[1;32m   1057\u001b[0m             \u001b[0;31m# Make sure that we get a last message telling us we are done\u001b[0m\u001b[0;34m\u001b[0m\u001b[0;34m\u001b[0m\u001b[0;34m\u001b[0m\u001b[0m\n\u001b[1;32m   1058\u001b[0m             \u001b[0melapsed_time\u001b[0m \u001b[0;34m=\u001b[0m \u001b[0mtime\u001b[0m\u001b[0;34m.\u001b[0m\u001b[0mtime\u001b[0m\u001b[0;34m(\u001b[0m\u001b[0;34m)\u001b[0m \u001b[0;34m-\u001b[0m \u001b[0mself\u001b[0m\u001b[0;34m.\u001b[0m\u001b[0m_start_time\u001b[0m\u001b[0;34m\u001b[0m\u001b[0;34m\u001b[0m\u001b[0m\n",
      "\u001b[0;32m~/.local/lib/python3.6/site-packages/joblib/parallel.py\u001b[0m in \u001b[0;36mretrieve\u001b[0;34m(self)\u001b[0m\n\u001b[1;32m    933\u001b[0m             \u001b[0;32mtry\u001b[0m\u001b[0;34m:\u001b[0m\u001b[0;34m\u001b[0m\u001b[0;34m\u001b[0m\u001b[0m\n\u001b[1;32m    934\u001b[0m                 \u001b[0;32mif\u001b[0m \u001b[0mgetattr\u001b[0m\u001b[0;34m(\u001b[0m\u001b[0mself\u001b[0m\u001b[0;34m.\u001b[0m\u001b[0m_backend\u001b[0m\u001b[0;34m,\u001b[0m \u001b[0;34m'supports_timeout'\u001b[0m\u001b[0;34m,\u001b[0m \u001b[0;32mFalse\u001b[0m\u001b[0;34m)\u001b[0m\u001b[0;34m:\u001b[0m\u001b[0;34m\u001b[0m\u001b[0;34m\u001b[0m\u001b[0m\n\u001b[0;32m--> 935\u001b[0;31m                     \u001b[0mself\u001b[0m\u001b[0;34m.\u001b[0m\u001b[0m_output\u001b[0m\u001b[0;34m.\u001b[0m\u001b[0mextend\u001b[0m\u001b[0;34m(\u001b[0m\u001b[0mjob\u001b[0m\u001b[0;34m.\u001b[0m\u001b[0mget\u001b[0m\u001b[0;34m(\u001b[0m\u001b[0mtimeout\u001b[0m\u001b[0;34m=\u001b[0m\u001b[0mself\u001b[0m\u001b[0;34m.\u001b[0m\u001b[0mtimeout\u001b[0m\u001b[0;34m)\u001b[0m\u001b[0;34m)\u001b[0m\u001b[0;34m\u001b[0m\u001b[0;34m\u001b[0m\u001b[0m\n\u001b[0m\u001b[1;32m    936\u001b[0m                 \u001b[0;32melse\u001b[0m\u001b[0;34m:\u001b[0m\u001b[0;34m\u001b[0m\u001b[0;34m\u001b[0m\u001b[0m\n\u001b[1;32m    937\u001b[0m                     \u001b[0mself\u001b[0m\u001b[0;34m.\u001b[0m\u001b[0m_output\u001b[0m\u001b[0;34m.\u001b[0m\u001b[0mextend\u001b[0m\u001b[0;34m(\u001b[0m\u001b[0mjob\u001b[0m\u001b[0;34m.\u001b[0m\u001b[0mget\u001b[0m\u001b[0;34m(\u001b[0m\u001b[0;34m)\u001b[0m\u001b[0;34m)\u001b[0m\u001b[0;34m\u001b[0m\u001b[0;34m\u001b[0m\u001b[0m\n",
      "\u001b[0;32m/usr/lib/python3.6/multiprocessing/pool.py\u001b[0m in \u001b[0;36mget\u001b[0;34m(self, timeout)\u001b[0m\n\u001b[1;32m    636\u001b[0m \u001b[0;34m\u001b[0m\u001b[0m\n\u001b[1;32m    637\u001b[0m     \u001b[0;32mdef\u001b[0m \u001b[0mget\u001b[0m\u001b[0;34m(\u001b[0m\u001b[0mself\u001b[0m\u001b[0;34m,\u001b[0m \u001b[0mtimeout\u001b[0m\u001b[0;34m=\u001b[0m\u001b[0;32mNone\u001b[0m\u001b[0;34m)\u001b[0m\u001b[0;34m:\u001b[0m\u001b[0;34m\u001b[0m\u001b[0;34m\u001b[0m\u001b[0m\n\u001b[0;32m--> 638\u001b[0;31m         \u001b[0mself\u001b[0m\u001b[0;34m.\u001b[0m\u001b[0mwait\u001b[0m\u001b[0;34m(\u001b[0m\u001b[0mtimeout\u001b[0m\u001b[0;34m)\u001b[0m\u001b[0;34m\u001b[0m\u001b[0;34m\u001b[0m\u001b[0m\n\u001b[0m\u001b[1;32m    639\u001b[0m         \u001b[0;32mif\u001b[0m \u001b[0;32mnot\u001b[0m \u001b[0mself\u001b[0m\u001b[0;34m.\u001b[0m\u001b[0mready\u001b[0m\u001b[0;34m(\u001b[0m\u001b[0;34m)\u001b[0m\u001b[0;34m:\u001b[0m\u001b[0;34m\u001b[0m\u001b[0;34m\u001b[0m\u001b[0m\n\u001b[1;32m    640\u001b[0m             \u001b[0;32mraise\u001b[0m \u001b[0mTimeoutError\u001b[0m\u001b[0;34m\u001b[0m\u001b[0;34m\u001b[0m\u001b[0m\n",
      "\u001b[0;32m/usr/lib/python3.6/multiprocessing/pool.py\u001b[0m in \u001b[0;36mwait\u001b[0;34m(self, timeout)\u001b[0m\n\u001b[1;32m    633\u001b[0m \u001b[0;34m\u001b[0m\u001b[0m\n\u001b[1;32m    634\u001b[0m     \u001b[0;32mdef\u001b[0m \u001b[0mwait\u001b[0m\u001b[0;34m(\u001b[0m\u001b[0mself\u001b[0m\u001b[0;34m,\u001b[0m \u001b[0mtimeout\u001b[0m\u001b[0;34m=\u001b[0m\u001b[0;32mNone\u001b[0m\u001b[0;34m)\u001b[0m\u001b[0;34m:\u001b[0m\u001b[0;34m\u001b[0m\u001b[0;34m\u001b[0m\u001b[0m\n\u001b[0;32m--> 635\u001b[0;31m         \u001b[0mself\u001b[0m\u001b[0;34m.\u001b[0m\u001b[0m_event\u001b[0m\u001b[0;34m.\u001b[0m\u001b[0mwait\u001b[0m\u001b[0;34m(\u001b[0m\u001b[0mtimeout\u001b[0m\u001b[0;34m)\u001b[0m\u001b[0;34m\u001b[0m\u001b[0;34m\u001b[0m\u001b[0m\n\u001b[0m\u001b[1;32m    636\u001b[0m \u001b[0;34m\u001b[0m\u001b[0m\n\u001b[1;32m    637\u001b[0m     \u001b[0;32mdef\u001b[0m \u001b[0mget\u001b[0m\u001b[0;34m(\u001b[0m\u001b[0mself\u001b[0m\u001b[0;34m,\u001b[0m \u001b[0mtimeout\u001b[0m\u001b[0;34m=\u001b[0m\u001b[0;32mNone\u001b[0m\u001b[0;34m)\u001b[0m\u001b[0;34m:\u001b[0m\u001b[0;34m\u001b[0m\u001b[0;34m\u001b[0m\u001b[0m\n",
      "\u001b[0;32m/usr/lib/python3.6/threading.py\u001b[0m in \u001b[0;36mwait\u001b[0;34m(self, timeout)\u001b[0m\n\u001b[1;32m    549\u001b[0m             \u001b[0msignaled\u001b[0m \u001b[0;34m=\u001b[0m \u001b[0mself\u001b[0m\u001b[0;34m.\u001b[0m\u001b[0m_flag\u001b[0m\u001b[0;34m\u001b[0m\u001b[0;34m\u001b[0m\u001b[0m\n\u001b[1;32m    550\u001b[0m             \u001b[0;32mif\u001b[0m \u001b[0;32mnot\u001b[0m \u001b[0msignaled\u001b[0m\u001b[0;34m:\u001b[0m\u001b[0;34m\u001b[0m\u001b[0;34m\u001b[0m\u001b[0m\n\u001b[0;32m--> 551\u001b[0;31m                 \u001b[0msignaled\u001b[0m \u001b[0;34m=\u001b[0m \u001b[0mself\u001b[0m\u001b[0;34m.\u001b[0m\u001b[0m_cond\u001b[0m\u001b[0;34m.\u001b[0m\u001b[0mwait\u001b[0m\u001b[0;34m(\u001b[0m\u001b[0mtimeout\u001b[0m\u001b[0;34m)\u001b[0m\u001b[0;34m\u001b[0m\u001b[0;34m\u001b[0m\u001b[0m\n\u001b[0m\u001b[1;32m    552\u001b[0m             \u001b[0;32mreturn\u001b[0m \u001b[0msignaled\u001b[0m\u001b[0;34m\u001b[0m\u001b[0;34m\u001b[0m\u001b[0m\n\u001b[1;32m    553\u001b[0m \u001b[0;34m\u001b[0m\u001b[0m\n",
      "\u001b[0;32m/usr/lib/python3.6/threading.py\u001b[0m in \u001b[0;36mwait\u001b[0;34m(self, timeout)\u001b[0m\n\u001b[1;32m    293\u001b[0m         \u001b[0;32mtry\u001b[0m\u001b[0;34m:\u001b[0m    \u001b[0;31m# restore state no matter what (e.g., KeyboardInterrupt)\u001b[0m\u001b[0;34m\u001b[0m\u001b[0;34m\u001b[0m\u001b[0m\n\u001b[1;32m    294\u001b[0m             \u001b[0;32mif\u001b[0m \u001b[0mtimeout\u001b[0m \u001b[0;32mis\u001b[0m \u001b[0;32mNone\u001b[0m\u001b[0;34m:\u001b[0m\u001b[0;34m\u001b[0m\u001b[0;34m\u001b[0m\u001b[0m\n\u001b[0;32m--> 295\u001b[0;31m                 \u001b[0mwaiter\u001b[0m\u001b[0;34m.\u001b[0m\u001b[0macquire\u001b[0m\u001b[0;34m(\u001b[0m\u001b[0;34m)\u001b[0m\u001b[0;34m\u001b[0m\u001b[0;34m\u001b[0m\u001b[0m\n\u001b[0m\u001b[1;32m    296\u001b[0m                 \u001b[0mgotit\u001b[0m \u001b[0;34m=\u001b[0m \u001b[0;32mTrue\u001b[0m\u001b[0;34m\u001b[0m\u001b[0;34m\u001b[0m\u001b[0m\n\u001b[1;32m    297\u001b[0m             \u001b[0;32melse\u001b[0m\u001b[0;34m:\u001b[0m\u001b[0;34m\u001b[0m\u001b[0;34m\u001b[0m\u001b[0m\n",
      "\u001b[0;31mKeyboardInterrupt\u001b[0m: "
     ]
    }
   ],
   "source": [
    "best = None, 100, 100\n",
    "for i in range(10):\n",
    "    print('\\n----------', i, '----------')\n",
    "    model = DecisionTreeClassifier(random_state=np.random.RandomState(seed+i))\n",
    "\n",
    "    # Perform a grid search with k-fold cross validation\n",
    "    param_grid = [{'scaler': [None, MinMaxScaler((0, 1)), StandardScaler(), RobustScaler(quantile_range=(25., 75.))],\n",
    "                   'model__criterion':             ['gini', 'entropy'],\n",
    "                   'model__max_depth':             [5, 10, 20, None],\n",
    "                   'model__max_features':          [0.1, 0.3, 0.5, None],\n",
    "                   # 'model__max_leaf_nodes':      range(2, 21),\n",
    "                   'model__min_impurity_decrease': [*np.logspace(-2, -6, 5), 0]}]\n",
    "    pipe = Grid_Search(model, param_grid, X_train, y_train) # TuneGridSearchCV, GridSearchCV, HalvingGridSearchCV\n",
    "    pipe.fit(X_train, y_train)\n",
    "    \n",
    "    y_pred   = pipe.predict(X_test)\n",
    "    hamming  = hamming_loss(y_test, y_pred)\n",
    "    zero_one = zero_one_loss(y_test, y_pred)\n",
    "    if hamming < best[1]: best = i, hamming, zero_one\n",
    "    del pipe, model, param_grid\n",
    "\n",
    "print(f'\\nSeed: {seed+best[0]}\\n'\n",
    "      f'Incorrectly-predicted bits: {best[1]:6.2%}\\n'\n",
    "      f'Incorrectly-predicted keys: {best[2]:6.2%}')"
   ]
  },
  {
   "cell_type": "code",
   "execution_count": 56,
   "id": "8e510c46",
   "metadata": {
    "ExecuteTime": {
     "end_time": "2022-03-31T18:41:44.358569Z",
     "start_time": "2022-03-31T18:40:10.684263Z"
    },
    "code_folding": [],
    "collapsed": true
   },
   "outputs": [
    {
     "name": "stdout",
     "output_type": "stream",
     "text": [
      "n_iterations: 5\n",
      "n_required_iterations: 7\n",
      "n_possible_iterations: 5\n",
      "min_resources_: 98\n",
      "max_resources_: 8001\n",
      "aggressive_elimination: False\n",
      "factor: 3\n",
      "----------\n",
      "iter: 0\n",
      "n_candidates: 768\n",
      "n_resources: 98\n",
      "Fitting 5 folds for each of 768 candidates, totalling 3840 fits\n",
      "----------\n",
      "iter: 1\n",
      "n_candidates: 256\n",
      "n_resources: 294\n",
      "Fitting 5 folds for each of 256 candidates, totalling 1280 fits\n",
      "----------\n",
      "iter: 2\n",
      "n_candidates: 86\n",
      "n_resources: 882\n",
      "Fitting 5 folds for each of 86 candidates, totalling 430 fits\n",
      "----------\n",
      "iter: 3\n",
      "n_candidates: 29\n",
      "n_resources: 2646\n",
      "Fitting 5 folds for each of 29 candidates, totalling 145 fits\n",
      "----------\n",
      "iter: 4\n",
      "n_candidates: 10\n",
      "n_resources: 7938\n",
      "Fitting 5 folds for each of 10 candidates, totalling 50 fits\n",
      "\n",
      "Best pars: {'model__criterion': 'gini', 'model__max_depth': 20, 'model__max_features': 0.5, 'model__min_impurity_decrease': 1e-06, 'scaler': StandardScaler()}\n",
      "Fewest incorrectly-predicted bits: 23.88% +- 0.328%\n",
      "Executed in:                      0:01:34\n"
     ]
    }
   ],
   "source": [
    "# DecisionTreeClassifier supports multilabel classification\n",
    "model = DecisionTreeClassifier(random_state=np.random.RandomState(seed))\n",
    "\n",
    "# Perform a grid search with k-fold cross validation\n",
    "param_grid = [{'scaler': [None, MinMaxScaler((0, 1)), StandardScaler(), RobustScaler(quantile_range=(25., 75.))],\n",
    "               'model__criterion':             ['gini', 'entropy'],\n",
    "               'model__max_depth':             [5, 10, 20, None],\n",
    "               'model__max_features':          [0.1, 0.3, 0.5, None],\n",
    "               # 'model__max_leaf_nodes':      range(2, 21),\n",
    "               'model__min_impurity_decrease': [*np.logspace(-2, -6, 5), 0]}]\n",
    "pipe = Grid_Search(model, param_grid, X_train, y_train) # TuneGridSearchCV, GridSearchCV, HalvingGridSearchCV"
   ]
  },
  {
   "cell_type": "code",
   "execution_count": 44,
   "id": "30bfaccd",
   "metadata": {
    "ExecuteTime": {
     "end_time": "2022-03-29T23:47:10.102443Z",
     "start_time": "2022-03-29T23:47:10.099230Z"
    },
    "code_folding": [
     0
    ]
   },
   "outputs": [],
   "source": [
    "# # Fine-tune min_impurity_decrease hyperparameter\n",
    "# if pipe[1].min_impurity_decrease != 0.:\n",
    "#     # Perform a grid search with k-fold cross validation\n",
    "#     param_grid = [{'scaler':                       [pipe[0]],\n",
    "#                    'model__min_impurity_decrease': pipe[1].min_impurity_decrease*np.asarray([0.2, 0.4, 0.6, 0.8, 1, 2, 4, 6, 8])}]\n",
    "#     pipe = Grid_Search(pipe[1], param_grid, X_train, y_train) # TuneGridSearchCV, GridSearchCV, HalvingGridSearchCV"
   ]
  },
  {
   "cell_type": "code",
   "execution_count": 277,
   "id": "db8aa10a",
   "metadata": {
    "ExecuteTime": {
     "end_time": "2022-03-29T15:34:14.082082Z",
     "start_time": "2022-03-29T15:34:14.079783Z"
    },
    "code_folding": [
     0
    ]
   },
   "outputs": [],
   "source": [
    "# # Fine-tune max_depth hyperparameter\n",
    "# if pipe[1].max_depth != None:\n",
    "#     # Perform a grid search with k-fold cross validation\n",
    "#     param_grid = [{'scaler':           [pipe[0]],\n",
    "#                    'model__max_depth': pipe[1].max_depth+np.arange(-4, 5)}]\n",
    "#     pipe = Grid_Search(pipe[1], param_grid, X_train, y_train) # TuneGridSearchCV, GridSearchCV, HalvingGridSearchCV"
   ]
  },
  {
   "cell_type": "code",
   "execution_count": 57,
   "id": "5287e887",
   "metadata": {
    "ExecuteTime": {
     "end_time": "2022-03-31T18:41:49.014307Z",
     "start_time": "2022-03-31T18:41:46.062067Z"
    },
    "collapsed": true
   },
   "outputs": [
    {
     "data": {
      "text/plain": [
       "(19, 7704)"
      ]
     },
     "execution_count": 57,
     "metadata": {},
     "output_type": "execute_result"
    }
   ],
   "source": [
    "# Train with full training set\n",
    "pipe.fit(X_train, y_train)\n",
    "\n",
    "# Save model\n",
    "model_name = 'DT'\n",
    "# joblib.dump(pipe, f'Results/Models/pipe_{model_name}_{nb_name}_{n}x{m}_noise_std={noise_std}_sampling={sampling_interval}.joblib');\n",
    "\n",
    "pipe[1].get_depth(), pipe[1].get_n_leaves()"
   ]
  },
  {
   "cell_type": "code",
   "execution_count": 58,
   "id": "86b351ff",
   "metadata": {
    "ExecuteTime": {
     "end_time": "2022-03-31T18:41:54.301227Z",
     "start_time": "2022-03-31T18:41:50.684870Z"
    },
    "collapsed": true
   },
   "outputs": [
    {
     "name": "stdout",
     "output_type": "stream",
     "text": [
      "Incorrectly-predicted bits:  22.38%\n",
      "Incorrectly-predicted keys:  99.05%\n",
      "Subset accuracy on test set:  0.95%\n",
      "Mean probability:            100.00%\n",
      "\n",
      "Report:\n",
      "               precision    recall  f1-score   support\n",
      "\n",
      "           0      0.547     0.604     0.574       962\n",
      "           1      0.959     0.965     0.962      1019\n",
      "           2      0.582     0.582     0.582       965\n",
      "           3      1.000     1.000     1.000      1012\n",
      "           4      0.604     0.596     0.600      1006\n",
      "           5      0.541     0.538     0.540       968\n",
      "           6      0.997     0.995     0.996       952\n",
      "           7      0.580     0.559     0.570      1010\n",
      "           8      0.957     0.961     0.959      1011\n",
      "           9      0.598     0.621     0.609       979\n",
      "          10      0.997     0.992     0.994       959\n",
      "          11      0.977     0.968     0.972      1004\n",
      "          12      0.931     0.928     0.930       990\n",
      "          13      0.559     0.551     0.555      1015\n",
      "          14      0.993     0.990     0.992      1030\n",
      "          15      0.565     0.556     0.560      1013\n",
      "\n",
      "   micro avg      0.774     0.776     0.775     15895\n",
      "   macro avg      0.774     0.775     0.775     15895\n",
      "weighted avg      0.775     0.776     0.775     15895\n",
      " samples avg      0.774     0.778     0.763     15895\n",
      "\n",
      "Confusion matrices:\n"
     ]
    },
    {
     "data": {
      "image/png": "[encoded data removed]",
      "text/plain": [
       "<Figure size 900x576 with 16 Axes>"
      ]
     },
     "metadata": {},
     "output_type": "display_data"
    }
   ],
   "source": [
    "# Get prediction statistics\n",
    "get_statistics(pipe, X_test, y_test, model_name, prob=True)"
   ]
  },
  {
   "cell_type": "code",
   "execution_count": 155,
   "id": "34826045",
   "metadata": {
    "ExecuteTime": {
     "end_time": "2022-03-28T17:44:24.176132Z",
     "start_time": "2022-03-28T17:44:24.159456Z"
    },
    "code_folding": [
     0
    ]
   },
   "outputs": [],
   "source": [
    "# # Draw tree\n",
    "# from sklearn.tree import export_graphviz\n",
    "# import graphviz\n",
    "\n",
    "# dot_data = export_graphviz(pipe[1], filled=True, rounded=True, special_characters=True)\n",
    "#                            # feature_names=df.columns[:-n], class_names=['0','1']\n",
    "# graph = graphviz.Source(dot_data)\n",
    "# graph.render(f'Results/Other/DT_{nb_name}_low_sampling={sampling_interval}_noisy_power_per_gate_noisestd={noise_std}', cleanup=True)\n",
    "# graph"
   ]
  },
  {
   "cell_type": "markdown",
   "id": "14599650",
   "metadata": {},
   "source": [
    "### Random forest"
   ]
  },
  {
   "cell_type": "code",
   "execution_count": 35,
   "id": "75e45778",
   "metadata": {
    "ExecuteTime": {
     "end_time": "2022-05-29T19:10:09.524713Z",
     "start_time": "2022-05-29T01:12:46.531686Z"
    },
    "collapsed": true
   },
   "outputs": [
    {
     "name": "stdout",
     "output_type": "stream",
     "text": [
      "n_iterations: 3\n",
      "n_required_iterations: 3\n",
      "n_possible_iterations: 3\n",
      "min_resources_: 11.0\n",
      "max_resources_: 101\n",
      "aggressive_elimination: False\n",
      "factor: 2.99999999\n",
      "----------\n",
      "iter: 0\n",
      "n_candidates: 24\n",
      "n_resources: 11\n",
      "Fitting 3 folds for each of 24 candidates, totalling 72 fits\n",
      "----------\n",
      "iter: 1\n",
      "n_candidates: 9\n",
      "n_resources: 32\n",
      "Fitting 3 folds for each of 9 candidates, totalling 27 fits\n",
      "----------\n",
      "iter: 2\n",
      "n_candidates: 4\n",
      "n_resources: 98\n",
      "Fitting 3 folds for each of 4 candidates, totalling 12 fits\n",
      "\n",
      "Best pars: {'model__criterion': 'entropy', 'model__max_depth': None, 'model__max_features': 0.5, 'model__min_impurity_decrease': 0.001, 'scaler': MinMaxScaler(), 'model__n_estimators': 98}\n",
      "Fewest incorrectly-predicted bits: 28.09% +- 0.066%\n",
      "Executed in:                      17:57:23\n"
     ]
    }
   ],
   "source": [
    "# RandomForestClassifier supports multilabel classification\n",
    "model = RandomForestClassifier(n_estimators=243, n_jobs=-1, random_state=np.random.RandomState(seed), verbose=0)\n",
    "\n",
    "# Perform a grid search with k-fold cross validation\n",
    "param_grid = [{'scaler': [MinMaxScaler((0, 1))], #[None, StandardScaler(), RobustScaler(quantile_range=(25., 75.))],\n",
    "               'model__criterion':             ['gini', 'entropy'],\n",
    "               'model__max_depth':             [5, None],\n",
    "               'model__max_features':          [0.1, 0.5, None],\n",
    "               # 'model__max_leaf_nodes':      range(2, 21),\n",
    "               'model__min_impurity_decrease': np.logspace(-3, -5, 2)}]\n",
    "# pipe = Grid_Search(model, param_grid, X_train, y_train, early_stopping=True) # TuneGridSearchCV\n",
    "# pipe = Grid_Search(model, param_grid, X_train, y_train) # GridSearchCV\n",
    "pipe = Grid_Search(model, param_grid, X_train, y_train, resource='n_estimators') # HalvingGridSearchCV"
   ]
  },
  {
   "cell_type": "code",
   "execution_count": 36,
   "id": "34c427c8",
   "metadata": {
    "ExecuteTime": {
     "end_time": "2022-05-29T20:26:26.282664Z",
     "start_time": "2022-05-29T19:10:10.442709Z"
    }
   },
   "outputs": [],
   "source": [
    "# Train with full training set\n",
    "pipe.fit(X_train, y_train)\n",
    "\n",
    "# Save model\n",
    "model_name = 'RF'\n",
    "# joblib.dump(pipe, f'Results/Models/pipe_{model_name}_{nb_name}_{n}x{m}_noise_std={noise_std}_sampling={sampling_interval}.joblib');"
   ]
  },
  {
   "cell_type": "code",
   "execution_count": 37,
   "id": "32fb8e90",
   "metadata": {
    "ExecuteTime": {
     "end_time": "2022-05-29T20:26:28.226377Z",
     "start_time": "2022-05-29T20:26:26.955120Z"
    },
    "collapsed": true
   },
   "outputs": [
    {
     "name": "stdout",
     "output_type": "stream",
     "text": [
      "Incorrectly-predicted bits:  28.23%\n",
      "Incorrectly-predicted keys:  100.00%\n",
      "Subset accuracy on test set:  0.00%\n"
     ]
    }
   ],
   "source": [
    "# Get prediction statistics\n",
    "get_statistics(pipe, X_test, y_test, model_name, prob=True)"
   ]
  },
  {
   "cell_type": "markdown",
   "id": "8b2bbd09",
   "metadata": {},
   "source": [
    "### Gradient-boosting"
   ]
  },
  {
   "cell_type": "code",
   "execution_count": 72,
   "id": "0639fee2",
   "metadata": {
    "ExecuteTime": {
     "end_time": "2022-04-26T08:45:04.761810Z",
     "start_time": "2022-04-26T03:31:30.218665Z"
    },
    "collapsed": true
   },
   "outputs": [
    {
     "name": "stdout",
     "output_type": "stream",
     "text": [
      "n_iterations: 6\n",
      "n_required_iterations: 6\n",
      "n_possible_iterations: 6\n",
      "min_resources_: 1\n",
      "max_resources_: 244\n",
      "aggressive_elimination: False\n",
      "factor: 3\n",
      "----------\n",
      "iter: 0\n",
      "n_candidates: 576\n",
      "n_resources: 1\n",
      "Fitting 5 folds for each of 576 candidates, totalling 2880 fits\n",
      "----------\n",
      "iter: 1\n",
      "n_candidates: 192\n",
      "n_resources: 3\n",
      "Fitting 5 folds for each of 192 candidates, totalling 960 fits\n"
     ]
    },
    {
     "name": "stderr",
     "output_type": "stream",
     "text": [
      "Process ForkPoolWorker-1033:\n",
      "Process ForkPoolWorker-1027:\n",
      "Process ForkPoolWorker-1028:\n",
      "Process ForkPoolWorker-1025:\n",
      "Process ForkPoolWorker-1026:\n",
      "Traceback (most recent call last):\n",
      "Traceback (most recent call last):\n",
      "Traceback (most recent call last):\n",
      "Traceback (most recent call last):\n",
      "Traceback (most recent call last):\n",
      "  File \"/usr/lib/python3.6/multiprocessing/process.py\", line 258, in _bootstrap\n",
      "    self.run()\n",
      "  File \"/usr/lib/python3.6/multiprocessing/process.py\", line 258, in _bootstrap\n",
      "    self.run()\n",
      "  File \"/usr/lib/python3.6/multiprocessing/process.py\", line 258, in _bootstrap\n",
      "    self.run()\n",
      "  File \"/usr/lib/python3.6/multiprocessing/process.py\", line 258, in _bootstrap\n",
      "    self.run()\n",
      "  File \"/usr/lib/python3.6/multiprocessing/process.py\", line 93, in run\n",
      "    self._target(*self._args, **self._kwargs)\n",
      "  File \"/usr/lib/python3.6/multiprocessing/process.py\", line 93, in run\n",
      "    self._target(*self._args, **self._kwargs)\n",
      "  File \"/usr/lib/python3.6/multiprocessing/process.py\", line 258, in _bootstrap\n",
      "    self.run()\n",
      "  File \"/usr/lib/python3.6/multiprocessing/process.py\", line 93, in run\n",
      "    self._target(*self._args, **self._kwargs)\n",
      "  File \"/usr/lib/python3.6/multiprocessing/process.py\", line 93, in run\n",
      "    self._target(*self._args, **self._kwargs)\n",
      "  File \"/usr/lib/python3.6/multiprocessing/process.py\", line 93, in run\n",
      "    self._target(*self._args, **self._kwargs)\n",
      "  File \"/usr/lib/python3.6/multiprocessing/pool.py\", line 108, in worker\n",
      "    task = get()\n",
      "  File \"/usr/lib/python3.6/multiprocessing/pool.py\", line 108, in worker\n",
      "    task = get()\n",
      "  File \"/usr/lib/python3.6/multiprocessing/pool.py\", line 108, in worker\n",
      "    task = get()\n",
      "  File \"/usr/lib/python3.6/multiprocessing/pool.py\", line 108, in worker\n",
      "    task = get()\n",
      "  File \"/usr/lib/python3.6/multiprocessing/pool.py\", line 133, in worker\n",
      "    completed += 1\n",
      "  File \"/home/v082327/.local/lib/python3.6/site-packages/joblib/pool.py\", line 145, in get\n",
      "    racquire()\n",
      "  File \"/home/v082327/.local/lib/python3.6/site-packages/joblib/pool.py\", line 145, in get\n",
      "    racquire()\n",
      "  File \"/home/v082327/.local/lib/python3.6/site-packages/joblib/pool.py\", line 145, in get\n",
      "    racquire()\n",
      "  File \"/home/v082327/.local/lib/python3.6/site-packages/joblib/pool.py\", line 145, in get\n",
      "    racquire()\n",
      "KeyboardInterrupt\n",
      "KeyboardInterrupt\n",
      "KeyboardInterrupt\n",
      "KeyboardInterrupt\n"
     ]
    },
    {
     "ename": "KeyboardInterrupt",
     "evalue": "",
     "output_type": "error",
     "traceback": [
      "\u001b[0;31m---------------------------------------------------------------------------\u001b[0m",
      "\u001b[0;31mKeyboardInterrupt\u001b[0m                         Traceback (most recent call last)",
      "\u001b[0;32m~/.local/lib/python3.6/site-packages/joblib/parallel.py\u001b[0m in \u001b[0;36mretrieve\u001b[0;34m(self)\u001b[0m\n\u001b[1;32m    934\u001b[0m                 \u001b[0;32mif\u001b[0m \u001b[0mgetattr\u001b[0m\u001b[0;34m(\u001b[0m\u001b[0mself\u001b[0m\u001b[0;34m.\u001b[0m\u001b[0m_backend\u001b[0m\u001b[0;34m,\u001b[0m \u001b[0;34m'supports_timeout'\u001b[0m\u001b[0;34m,\u001b[0m \u001b[0;32mFalse\u001b[0m\u001b[0;34m)\u001b[0m\u001b[0;34m:\u001b[0m\u001b[0;34m\u001b[0m\u001b[0;34m\u001b[0m\u001b[0m\n\u001b[0;32m--> 935\u001b[0;31m                     \u001b[0mself\u001b[0m\u001b[0;34m.\u001b[0m\u001b[0m_output\u001b[0m\u001b[0;34m.\u001b[0m\u001b[0mextend\u001b[0m\u001b[0;34m(\u001b[0m\u001b[0mjob\u001b[0m\u001b[0;34m.\u001b[0m\u001b[0mget\u001b[0m\u001b[0;34m(\u001b[0m\u001b[0mtimeout\u001b[0m\u001b[0;34m=\u001b[0m\u001b[0mself\u001b[0m\u001b[0;34m.\u001b[0m\u001b[0mtimeout\u001b[0m\u001b[0;34m)\u001b[0m\u001b[0;34m)\u001b[0m\u001b[0;34m\u001b[0m\u001b[0;34m\u001b[0m\u001b[0m\n\u001b[0m\u001b[1;32m    936\u001b[0m                 \u001b[0;32melse\u001b[0m\u001b[0;34m:\u001b[0m\u001b[0;34m\u001b[0m\u001b[0;34m\u001b[0m\u001b[0m\n",
      "\u001b[0;32m/usr/lib/python3.6/multiprocessing/pool.py\u001b[0m in \u001b[0;36mget\u001b[0;34m(self, timeout)\u001b[0m\n\u001b[1;32m    637\u001b[0m     \u001b[0;32mdef\u001b[0m \u001b[0mget\u001b[0m\u001b[0;34m(\u001b[0m\u001b[0mself\u001b[0m\u001b[0;34m,\u001b[0m \u001b[0mtimeout\u001b[0m\u001b[0;34m=\u001b[0m\u001b[0;32mNone\u001b[0m\u001b[0;34m)\u001b[0m\u001b[0;34m:\u001b[0m\u001b[0;34m\u001b[0m\u001b[0;34m\u001b[0m\u001b[0m\n\u001b[0;32m--> 638\u001b[0;31m         \u001b[0mself\u001b[0m\u001b[0;34m.\u001b[0m\u001b[0mwait\u001b[0m\u001b[0;34m(\u001b[0m\u001b[0mtimeout\u001b[0m\u001b[0;34m)\u001b[0m\u001b[0;34m\u001b[0m\u001b[0;34m\u001b[0m\u001b[0m\n\u001b[0m\u001b[1;32m    639\u001b[0m         \u001b[0;32mif\u001b[0m \u001b[0;32mnot\u001b[0m \u001b[0mself\u001b[0m\u001b[0;34m.\u001b[0m\u001b[0mready\u001b[0m\u001b[0;34m(\u001b[0m\u001b[0;34m)\u001b[0m\u001b[0;34m:\u001b[0m\u001b[0;34m\u001b[0m\u001b[0;34m\u001b[0m\u001b[0m\n",
      "\u001b[0;32m/usr/lib/python3.6/multiprocessing/pool.py\u001b[0m in \u001b[0;36mwait\u001b[0;34m(self, timeout)\u001b[0m\n\u001b[1;32m    634\u001b[0m     \u001b[0;32mdef\u001b[0m \u001b[0mwait\u001b[0m\u001b[0;34m(\u001b[0m\u001b[0mself\u001b[0m\u001b[0;34m,\u001b[0m \u001b[0mtimeout\u001b[0m\u001b[0;34m=\u001b[0m\u001b[0;32mNone\u001b[0m\u001b[0;34m)\u001b[0m\u001b[0;34m:\u001b[0m\u001b[0;34m\u001b[0m\u001b[0;34m\u001b[0m\u001b[0m\n\u001b[0;32m--> 635\u001b[0;31m         \u001b[0mself\u001b[0m\u001b[0;34m.\u001b[0m\u001b[0m_event\u001b[0m\u001b[0;34m.\u001b[0m\u001b[0mwait\u001b[0m\u001b[0;34m(\u001b[0m\u001b[0mtimeout\u001b[0m\u001b[0;34m)\u001b[0m\u001b[0;34m\u001b[0m\u001b[0;34m\u001b[0m\u001b[0m\n\u001b[0m\u001b[1;32m    636\u001b[0m \u001b[0;34m\u001b[0m\u001b[0m\n",
      "\u001b[0;32m/usr/lib/python3.6/threading.py\u001b[0m in \u001b[0;36mwait\u001b[0;34m(self, timeout)\u001b[0m\n\u001b[1;32m    550\u001b[0m             \u001b[0;32mif\u001b[0m \u001b[0;32mnot\u001b[0m \u001b[0msignaled\u001b[0m\u001b[0;34m:\u001b[0m\u001b[0;34m\u001b[0m\u001b[0;34m\u001b[0m\u001b[0m\n\u001b[0;32m--> 551\u001b[0;31m                 \u001b[0msignaled\u001b[0m \u001b[0;34m=\u001b[0m \u001b[0mself\u001b[0m\u001b[0;34m.\u001b[0m\u001b[0m_cond\u001b[0m\u001b[0;34m.\u001b[0m\u001b[0mwait\u001b[0m\u001b[0;34m(\u001b[0m\u001b[0mtimeout\u001b[0m\u001b[0;34m)\u001b[0m\u001b[0;34m\u001b[0m\u001b[0;34m\u001b[0m\u001b[0m\n\u001b[0m\u001b[1;32m    552\u001b[0m             \u001b[0;32mreturn\u001b[0m \u001b[0msignaled\u001b[0m\u001b[0;34m\u001b[0m\u001b[0;34m\u001b[0m\u001b[0m\n",
      "\u001b[0;32m/usr/lib/python3.6/threading.py\u001b[0m in \u001b[0;36mwait\u001b[0;34m(self, timeout)\u001b[0m\n\u001b[1;32m    294\u001b[0m             \u001b[0;32mif\u001b[0m \u001b[0mtimeout\u001b[0m \u001b[0;32mis\u001b[0m \u001b[0;32mNone\u001b[0m\u001b[0;34m:\u001b[0m\u001b[0;34m\u001b[0m\u001b[0;34m\u001b[0m\u001b[0m\n\u001b[0;32m--> 295\u001b[0;31m                 \u001b[0mwaiter\u001b[0m\u001b[0;34m.\u001b[0m\u001b[0macquire\u001b[0m\u001b[0;34m(\u001b[0m\u001b[0;34m)\u001b[0m\u001b[0;34m\u001b[0m\u001b[0;34m\u001b[0m\u001b[0m\n\u001b[0m\u001b[1;32m    296\u001b[0m                 \u001b[0mgotit\u001b[0m \u001b[0;34m=\u001b[0m \u001b[0;32mTrue\u001b[0m\u001b[0;34m\u001b[0m\u001b[0;34m\u001b[0m\u001b[0m\n",
      "\u001b[0;31mKeyboardInterrupt\u001b[0m: ",
      "\nDuring handling of the above exception, another exception occurred:\n",
      "\u001b[0;31mKeyboardInterrupt\u001b[0m                         Traceback (most recent call last)",
      "\u001b[0;32m<ipython-input-72-bb3a3f729e4f>\u001b[0m in \u001b[0;36m<module>\u001b[0;34m\u001b[0m\n\u001b[1;32m     12\u001b[0m                'model__estimator__min_impurity_decrease': np.logspace(-3, -5, 2)}]\n\u001b[1;32m     13\u001b[0m \u001b[0;31m# pipe = Grid_Search(model, param_grid, X_train, y_train, multi_target=True) # GridSearchCV\u001b[0m\u001b[0;34m\u001b[0m\u001b[0;34m\u001b[0m\u001b[0;34m\u001b[0m\u001b[0m\n\u001b[0;32m---> 14\u001b[0;31m \u001b[0mpipe\u001b[0m \u001b[0;34m=\u001b[0m \u001b[0mGrid_Search\u001b[0m\u001b[0;34m(\u001b[0m\u001b[0mmodel\u001b[0m\u001b[0;34m,\u001b[0m \u001b[0mparam_grid\u001b[0m\u001b[0;34m,\u001b[0m \u001b[0mX_train\u001b[0m\u001b[0;34m,\u001b[0m \u001b[0my_train\u001b[0m\u001b[0;34m,\u001b[0m \u001b[0mresource\u001b[0m\u001b[0;34m=\u001b[0m\u001b[0;34m'n_estimators'\u001b[0m\u001b[0;34m,\u001b[0m \u001b[0mmulti_target\u001b[0m\u001b[0;34m=\u001b[0m\u001b[0;32mTrue\u001b[0m\u001b[0;34m)\u001b[0m \u001b[0;31m# HalvingGridSearchCV\u001b[0m\u001b[0;34m\u001b[0m\u001b[0;34m\u001b[0m\u001b[0m\n\u001b[0m",
      "\u001b[0;32m<ipython-input-17-7f1bb00a23ed>\u001b[0m in \u001b[0;36mGrid_Search\u001b[0;34m(model, param_grid, X_train, y_train, resource, multi_target)\u001b[0m\n\u001b[1;32m     29\u001b[0m     \u001b[0mstart_time\u001b[0m \u001b[0;34m=\u001b[0m \u001b[0mtimeit\u001b[0m\u001b[0;34m.\u001b[0m\u001b[0mdefault_timer\u001b[0m\u001b[0;34m(\u001b[0m\u001b[0;34m)\u001b[0m\u001b[0;34m\u001b[0m\u001b[0;34m\u001b[0m\u001b[0m\n\u001b[1;32m     30\u001b[0m     \u001b[0;32mwith\u001b[0m \u001b[0mjoblib\u001b[0m\u001b[0;34m.\u001b[0m\u001b[0mparallel_backend\u001b[0m\u001b[0;34m(\u001b[0m\u001b[0;34m'multiprocessing'\u001b[0m\u001b[0;34m,\u001b[0m \u001b[0mn_jobs\u001b[0m\u001b[0;34m=\u001b[0m\u001b[0;34m-\u001b[0m\u001b[0;36m1\u001b[0m\u001b[0;34m)\u001b[0m\u001b[0;34m:\u001b[0m \u001b[0;31m# faster backend\u001b[0m\u001b[0;34m\u001b[0m\u001b[0;34m\u001b[0m\u001b[0m\n\u001b[0;32m---> 31\u001b[0;31m         \u001b[0mgrid_search\u001b[0m\u001b[0;34m.\u001b[0m\u001b[0mfit\u001b[0m\u001b[0;34m(\u001b[0m\u001b[0mX_train\u001b[0m\u001b[0;34m,\u001b[0m \u001b[0my_train\u001b[0m\u001b[0;34m)\u001b[0m\u001b[0;34m\u001b[0m\u001b[0;34m\u001b[0m\u001b[0m\n\u001b[0m\u001b[1;32m     32\u001b[0m     \u001b[0mdelta_time\u001b[0m \u001b[0;34m=\u001b[0m \u001b[0mtimedelta\u001b[0m\u001b[0;34m(\u001b[0m\u001b[0mseconds\u001b[0m\u001b[0;34m=\u001b[0m\u001b[0mround\u001b[0m\u001b[0;34m(\u001b[0m\u001b[0mtimeit\u001b[0m\u001b[0;34m.\u001b[0m\u001b[0mdefault_timer\u001b[0m\u001b[0;34m(\u001b[0m\u001b[0;34m)\u001b[0m\u001b[0;34m-\u001b[0m\u001b[0mstart_time\u001b[0m\u001b[0;34m)\u001b[0m\u001b[0;34m)\u001b[0m\u001b[0;34m\u001b[0m\u001b[0;34m\u001b[0m\u001b[0m\n\u001b[1;32m     33\u001b[0m \u001b[0;34m\u001b[0m\u001b[0m\n",
      "\u001b[0;32m~/.local/lib/python3.6/site-packages/sklearn/model_selection/_search_successive_halving.py\u001b[0m in \u001b[0;36mfit\u001b[0;34m(self, X, y, groups, **fit_params)\u001b[0m\n\u001b[1;32m    211\u001b[0m         \u001b[0mself\u001b[0m\u001b[0;34m.\u001b[0m\u001b[0m_n_samples_orig\u001b[0m \u001b[0;34m=\u001b[0m \u001b[0m_num_samples\u001b[0m\u001b[0;34m(\u001b[0m\u001b[0mX\u001b[0m\u001b[0;34m)\u001b[0m\u001b[0;34m\u001b[0m\u001b[0;34m\u001b[0m\u001b[0m\n\u001b[1;32m    212\u001b[0m \u001b[0;34m\u001b[0m\u001b[0m\n\u001b[0;32m--> 213\u001b[0;31m         \u001b[0msuper\u001b[0m\u001b[0;34m(\u001b[0m\u001b[0;34m)\u001b[0m\u001b[0;34m.\u001b[0m\u001b[0mfit\u001b[0m\u001b[0;34m(\u001b[0m\u001b[0mX\u001b[0m\u001b[0;34m,\u001b[0m \u001b[0my\u001b[0m\u001b[0;34m=\u001b[0m\u001b[0my\u001b[0m\u001b[0;34m,\u001b[0m \u001b[0mgroups\u001b[0m\u001b[0;34m=\u001b[0m\u001b[0mgroups\u001b[0m\u001b[0;34m,\u001b[0m \u001b[0;34m**\u001b[0m\u001b[0mfit_params\u001b[0m\u001b[0;34m)\u001b[0m\u001b[0;34m\u001b[0m\u001b[0;34m\u001b[0m\u001b[0m\n\u001b[0m\u001b[1;32m    214\u001b[0m \u001b[0;34m\u001b[0m\u001b[0m\n\u001b[1;32m    215\u001b[0m         \u001b[0;31m# Set best_score_: BaseSearchCV does not set it, as refit is a callable\u001b[0m\u001b[0;34m\u001b[0m\u001b[0;34m\u001b[0m\u001b[0;34m\u001b[0m\u001b[0m\n",
      "\u001b[0;32m~/.local/lib/python3.6/site-packages/sklearn/utils/validation.py\u001b[0m in \u001b[0;36minner_f\u001b[0;34m(*args, **kwargs)\u001b[0m\n\u001b[1;32m     61\u001b[0m             \u001b[0mextra_args\u001b[0m \u001b[0;34m=\u001b[0m \u001b[0mlen\u001b[0m\u001b[0;34m(\u001b[0m\u001b[0margs\u001b[0m\u001b[0;34m)\u001b[0m \u001b[0;34m-\u001b[0m \u001b[0mlen\u001b[0m\u001b[0;34m(\u001b[0m\u001b[0mall_args\u001b[0m\u001b[0;34m)\u001b[0m\u001b[0;34m\u001b[0m\u001b[0;34m\u001b[0m\u001b[0m\n\u001b[1;32m     62\u001b[0m             \u001b[0;32mif\u001b[0m \u001b[0mextra_args\u001b[0m \u001b[0;34m<=\u001b[0m \u001b[0;36m0\u001b[0m\u001b[0;34m:\u001b[0m\u001b[0;34m\u001b[0m\u001b[0;34m\u001b[0m\u001b[0m\n\u001b[0;32m---> 63\u001b[0;31m                 \u001b[0;32mreturn\u001b[0m \u001b[0mf\u001b[0m\u001b[0;34m(\u001b[0m\u001b[0;34m*\u001b[0m\u001b[0margs\u001b[0m\u001b[0;34m,\u001b[0m \u001b[0;34m**\u001b[0m\u001b[0mkwargs\u001b[0m\u001b[0;34m)\u001b[0m\u001b[0;34m\u001b[0m\u001b[0;34m\u001b[0m\u001b[0m\n\u001b[0m\u001b[1;32m     64\u001b[0m \u001b[0;34m\u001b[0m\u001b[0m\n\u001b[1;32m     65\u001b[0m             \u001b[0;31m# extra_args > 0\u001b[0m\u001b[0;34m\u001b[0m\u001b[0;34m\u001b[0m\u001b[0;34m\u001b[0m\u001b[0m\n",
      "\u001b[0;32m~/.local/lib/python3.6/site-packages/sklearn/model_selection/_search.py\u001b[0m in \u001b[0;36mfit\u001b[0;34m(self, X, y, groups, **fit_params)\u001b[0m\n\u001b[1;32m    839\u001b[0m                 \u001b[0;32mreturn\u001b[0m \u001b[0mresults\u001b[0m\u001b[0;34m\u001b[0m\u001b[0;34m\u001b[0m\u001b[0m\n\u001b[1;32m    840\u001b[0m \u001b[0;34m\u001b[0m\u001b[0m\n\u001b[0;32m--> 841\u001b[0;31m             \u001b[0mself\u001b[0m\u001b[0;34m.\u001b[0m\u001b[0m_run_search\u001b[0m\u001b[0;34m(\u001b[0m\u001b[0mevaluate_candidates\u001b[0m\u001b[0;34m)\u001b[0m\u001b[0;34m\u001b[0m\u001b[0;34m\u001b[0m\u001b[0m\n\u001b[0m\u001b[1;32m    842\u001b[0m \u001b[0;34m\u001b[0m\u001b[0m\n\u001b[1;32m    843\u001b[0m             \u001b[0;31m# multimetric is determined here because in the case of a callable\u001b[0m\u001b[0;34m\u001b[0m\u001b[0;34m\u001b[0m\u001b[0;34m\u001b[0m\u001b[0m\n",
      "\u001b[0;32m~/.local/lib/python3.6/site-packages/sklearn/model_selection/_search_successive_halving.py\u001b[0m in \u001b[0;36m_run_search\u001b[0;34m(self, evaluate_candidates)\u001b[0m\n\u001b[1;32m    318\u001b[0m \u001b[0;34m\u001b[0m\u001b[0m\n\u001b[1;32m    319\u001b[0m             results = evaluate_candidates(candidate_params, cv,\n\u001b[0;32m--> 320\u001b[0;31m                                           more_results=more_results)\n\u001b[0m\u001b[1;32m    321\u001b[0m \u001b[0;34m\u001b[0m\u001b[0m\n\u001b[1;32m    322\u001b[0m             \u001b[0mn_candidates_to_keep\u001b[0m \u001b[0;34m=\u001b[0m \u001b[0mceil\u001b[0m\u001b[0;34m(\u001b[0m\u001b[0mn_candidates\u001b[0m \u001b[0;34m/\u001b[0m \u001b[0mself\u001b[0m\u001b[0;34m.\u001b[0m\u001b[0mfactor\u001b[0m\u001b[0;34m)\u001b[0m\u001b[0;34m\u001b[0m\u001b[0;34m\u001b[0m\u001b[0m\n",
      "\u001b[0;32m~/.local/lib/python3.6/site-packages/sklearn/model_selection/_search.py\u001b[0m in \u001b[0;36mevaluate_candidates\u001b[0;34m(candidate_params, cv, more_results)\u001b[0m\n\u001b[1;32m    807\u001b[0m                                    (split_idx, (train, test)) in product(\n\u001b[1;32m    808\u001b[0m                                    \u001b[0menumerate\u001b[0m\u001b[0;34m(\u001b[0m\u001b[0mcandidate_params\u001b[0m\u001b[0;34m)\u001b[0m\u001b[0;34m,\u001b[0m\u001b[0;34m\u001b[0m\u001b[0;34m\u001b[0m\u001b[0m\n\u001b[0;32m--> 809\u001b[0;31m                                    enumerate(cv.split(X, y, groups))))\n\u001b[0m\u001b[1;32m    810\u001b[0m \u001b[0;34m\u001b[0m\u001b[0m\n\u001b[1;32m    811\u001b[0m                 \u001b[0;32mif\u001b[0m \u001b[0mlen\u001b[0m\u001b[0;34m(\u001b[0m\u001b[0mout\u001b[0m\u001b[0;34m)\u001b[0m \u001b[0;34m<\u001b[0m \u001b[0;36m1\u001b[0m\u001b[0;34m:\u001b[0m\u001b[0;34m\u001b[0m\u001b[0;34m\u001b[0m\u001b[0m\n",
      "\u001b[0;32m~/.local/lib/python3.6/site-packages/joblib/parallel.py\u001b[0m in \u001b[0;36m__call__\u001b[0;34m(self, iterable)\u001b[0m\n\u001b[1;32m   1054\u001b[0m \u001b[0;34m\u001b[0m\u001b[0m\n\u001b[1;32m   1055\u001b[0m             \u001b[0;32mwith\u001b[0m \u001b[0mself\u001b[0m\u001b[0;34m.\u001b[0m\u001b[0m_backend\u001b[0m\u001b[0;34m.\u001b[0m\u001b[0mretrieval_context\u001b[0m\u001b[0;34m(\u001b[0m\u001b[0;34m)\u001b[0m\u001b[0;34m:\u001b[0m\u001b[0;34m\u001b[0m\u001b[0;34m\u001b[0m\u001b[0m\n\u001b[0;32m-> 1056\u001b[0;31m                 \u001b[0mself\u001b[0m\u001b[0;34m.\u001b[0m\u001b[0mretrieve\u001b[0m\u001b[0;34m(\u001b[0m\u001b[0;34m)\u001b[0m\u001b[0;34m\u001b[0m\u001b[0;34m\u001b[0m\u001b[0m\n\u001b[0m\u001b[1;32m   1057\u001b[0m             \u001b[0;31m# Make sure that we get a last message telling us we are done\u001b[0m\u001b[0;34m\u001b[0m\u001b[0;34m\u001b[0m\u001b[0;34m\u001b[0m\u001b[0m\n\u001b[1;32m   1058\u001b[0m             \u001b[0melapsed_time\u001b[0m \u001b[0;34m=\u001b[0m \u001b[0mtime\u001b[0m\u001b[0;34m.\u001b[0m\u001b[0mtime\u001b[0m\u001b[0;34m(\u001b[0m\u001b[0;34m)\u001b[0m \u001b[0;34m-\u001b[0m \u001b[0mself\u001b[0m\u001b[0;34m.\u001b[0m\u001b[0m_start_time\u001b[0m\u001b[0;34m\u001b[0m\u001b[0;34m\u001b[0m\u001b[0m\n",
      "\u001b[0;32m~/.local/lib/python3.6/site-packages/joblib/parallel.py\u001b[0m in \u001b[0;36mretrieve\u001b[0;34m(self)\u001b[0m\n\u001b[1;32m    955\u001b[0m                     \u001b[0;31m# scheduling.\u001b[0m\u001b[0;34m\u001b[0m\u001b[0;34m\u001b[0m\u001b[0;34m\u001b[0m\u001b[0m\n\u001b[1;32m    956\u001b[0m                     \u001b[0mensure_ready\u001b[0m \u001b[0;34m=\u001b[0m \u001b[0mself\u001b[0m\u001b[0;34m.\u001b[0m\u001b[0m_managed_backend\u001b[0m\u001b[0;34m\u001b[0m\u001b[0;34m\u001b[0m\u001b[0m\n\u001b[0;32m--> 957\u001b[0;31m                     \u001b[0mbackend\u001b[0m\u001b[0;34m.\u001b[0m\u001b[0mabort_everything\u001b[0m\u001b[0;34m(\u001b[0m\u001b[0mensure_ready\u001b[0m\u001b[0;34m=\u001b[0m\u001b[0mensure_ready\u001b[0m\u001b[0;34m)\u001b[0m\u001b[0;34m\u001b[0m\u001b[0;34m\u001b[0m\u001b[0m\n\u001b[0m\u001b[1;32m    958\u001b[0m                 \u001b[0;32mraise\u001b[0m\u001b[0;34m\u001b[0m\u001b[0;34m\u001b[0m\u001b[0m\n\u001b[1;32m    959\u001b[0m \u001b[0;34m\u001b[0m\u001b[0m\n",
      "\u001b[0;32m~/.local/lib/python3.6/site-packages/joblib/_parallel_backends.py\u001b[0m in \u001b[0;36mabort_everything\u001b[0;34m(self, ensure_ready)\u001b[0m\n\u001b[1;32m    255\u001b[0m     \u001b[0;32mdef\u001b[0m \u001b[0mabort_everything\u001b[0m\u001b[0;34m(\u001b[0m\u001b[0mself\u001b[0m\u001b[0;34m,\u001b[0m \u001b[0mensure_ready\u001b[0m\u001b[0;34m=\u001b[0m\u001b[0;32mTrue\u001b[0m\u001b[0;34m)\u001b[0m\u001b[0;34m:\u001b[0m\u001b[0;34m\u001b[0m\u001b[0;34m\u001b[0m\u001b[0m\n\u001b[1;32m    256\u001b[0m         \u001b[0;34m\"\"\"Shutdown the pool and restart a new one with the same parameters\"\"\"\u001b[0m\u001b[0;34m\u001b[0m\u001b[0;34m\u001b[0m\u001b[0m\n\u001b[0;32m--> 257\u001b[0;31m         \u001b[0mself\u001b[0m\u001b[0;34m.\u001b[0m\u001b[0mterminate\u001b[0m\u001b[0;34m(\u001b[0m\u001b[0;34m)\u001b[0m\u001b[0;34m\u001b[0m\u001b[0;34m\u001b[0m\u001b[0m\n\u001b[0m\u001b[1;32m    258\u001b[0m         \u001b[0;32mif\u001b[0m \u001b[0mensure_ready\u001b[0m\u001b[0;34m:\u001b[0m\u001b[0;34m\u001b[0m\u001b[0;34m\u001b[0m\u001b[0m\n\u001b[1;32m    259\u001b[0m             self.configure(n_jobs=self.parallel.n_jobs, parallel=self.parallel,\n",
      "\u001b[0;32m~/.local/lib/python3.6/site-packages/joblib/_parallel_backends.py\u001b[0m in \u001b[0;36mterminate\u001b[0;34m(self)\u001b[0m\n\u001b[1;32m    474\u001b[0m     \u001b[0;32mdef\u001b[0m \u001b[0mterminate\u001b[0m\u001b[0;34m(\u001b[0m\u001b[0mself\u001b[0m\u001b[0;34m)\u001b[0m\u001b[0;34m:\u001b[0m\u001b[0;34m\u001b[0m\u001b[0;34m\u001b[0m\u001b[0m\n\u001b[1;32m    475\u001b[0m         \u001b[0;34m\"\"\"Shutdown the process or thread pool\"\"\"\u001b[0m\u001b[0;34m\u001b[0m\u001b[0;34m\u001b[0m\u001b[0m\n\u001b[0;32m--> 476\u001b[0;31m         \u001b[0msuper\u001b[0m\u001b[0;34m(\u001b[0m\u001b[0mMultiprocessingBackend\u001b[0m\u001b[0;34m,\u001b[0m \u001b[0mself\u001b[0m\u001b[0;34m)\u001b[0m\u001b[0;34m.\u001b[0m\u001b[0mterminate\u001b[0m\u001b[0;34m(\u001b[0m\u001b[0;34m)\u001b[0m\u001b[0;34m\u001b[0m\u001b[0;34m\u001b[0m\u001b[0m\n\u001b[0m\u001b[1;32m    477\u001b[0m         \u001b[0mself\u001b[0m\u001b[0;34m.\u001b[0m\u001b[0mreset_batch_stats\u001b[0m\u001b[0;34m(\u001b[0m\u001b[0;34m)\u001b[0m\u001b[0;34m\u001b[0m\u001b[0;34m\u001b[0m\u001b[0m\n\u001b[1;32m    478\u001b[0m \u001b[0;34m\u001b[0m\u001b[0m\n",
      "\u001b[0;32m~/.local/lib/python3.6/site-packages/joblib/_parallel_backends.py\u001b[0m in \u001b[0;36mterminate\u001b[0;34m(self)\u001b[0m\n\u001b[1;32m    241\u001b[0m         \u001b[0;32mif\u001b[0m \u001b[0mself\u001b[0m\u001b[0;34m.\u001b[0m\u001b[0m_pool\u001b[0m \u001b[0;32mis\u001b[0m \u001b[0;32mnot\u001b[0m \u001b[0;32mNone\u001b[0m\u001b[0;34m:\u001b[0m\u001b[0;34m\u001b[0m\u001b[0;34m\u001b[0m\u001b[0m\n\u001b[1;32m    242\u001b[0m             \u001b[0mself\u001b[0m\u001b[0;34m.\u001b[0m\u001b[0m_pool\u001b[0m\u001b[0;34m.\u001b[0m\u001b[0mclose\u001b[0m\u001b[0;34m(\u001b[0m\u001b[0;34m)\u001b[0m\u001b[0;34m\u001b[0m\u001b[0;34m\u001b[0m\u001b[0m\n\u001b[0;32m--> 243\u001b[0;31m             \u001b[0mself\u001b[0m\u001b[0;34m.\u001b[0m\u001b[0m_pool\u001b[0m\u001b[0;34m.\u001b[0m\u001b[0mterminate\u001b[0m\u001b[0;34m(\u001b[0m\u001b[0;34m)\u001b[0m  \u001b[0;31m# terminate does a join()\u001b[0m\u001b[0;34m\u001b[0m\u001b[0;34m\u001b[0m\u001b[0m\n\u001b[0m\u001b[1;32m    244\u001b[0m             \u001b[0mself\u001b[0m\u001b[0;34m.\u001b[0m\u001b[0m_pool\u001b[0m \u001b[0;34m=\u001b[0m \u001b[0;32mNone\u001b[0m\u001b[0;34m\u001b[0m\u001b[0;34m\u001b[0m\u001b[0m\n\u001b[1;32m    245\u001b[0m \u001b[0;34m\u001b[0m\u001b[0m\n",
      "\u001b[0;32m~/.local/lib/python3.6/site-packages/joblib/pool.py\u001b[0m in \u001b[0;36mterminate\u001b[0;34m(self)\u001b[0m\n\u001b[1;32m    327\u001b[0m         \u001b[0;32mfor\u001b[0m \u001b[0mi\u001b[0m \u001b[0;32min\u001b[0m \u001b[0mrange\u001b[0m\u001b[0;34m(\u001b[0m\u001b[0mn_retries\u001b[0m\u001b[0;34m)\u001b[0m\u001b[0;34m:\u001b[0m\u001b[0;34m\u001b[0m\u001b[0;34m\u001b[0m\u001b[0m\n\u001b[1;32m    328\u001b[0m             \u001b[0;32mtry\u001b[0m\u001b[0;34m:\u001b[0m\u001b[0;34m\u001b[0m\u001b[0;34m\u001b[0m\u001b[0m\n\u001b[0;32m--> 329\u001b[0;31m                 \u001b[0msuper\u001b[0m\u001b[0;34m(\u001b[0m\u001b[0mMemmappingPool\u001b[0m\u001b[0;34m,\u001b[0m \u001b[0mself\u001b[0m\u001b[0;34m)\u001b[0m\u001b[0;34m.\u001b[0m\u001b[0mterminate\u001b[0m\u001b[0;34m(\u001b[0m\u001b[0;34m)\u001b[0m\u001b[0;34m\u001b[0m\u001b[0;34m\u001b[0m\u001b[0m\n\u001b[0m\u001b[1;32m    330\u001b[0m                 \u001b[0;32mbreak\u001b[0m\u001b[0;34m\u001b[0m\u001b[0;34m\u001b[0m\u001b[0m\n\u001b[1;32m    331\u001b[0m             \u001b[0;32mexcept\u001b[0m \u001b[0mOSError\u001b[0m \u001b[0;32mas\u001b[0m \u001b[0me\u001b[0m\u001b[0;34m:\u001b[0m\u001b[0;34m\u001b[0m\u001b[0;34m\u001b[0m\u001b[0m\n",
      "\u001b[0;32m/usr/lib/python3.6/multiprocessing/pool.py\u001b[0m in \u001b[0;36mterminate\u001b[0;34m(self)\u001b[0m\n\u001b[1;32m    539\u001b[0m         \u001b[0mself\u001b[0m\u001b[0;34m.\u001b[0m\u001b[0m_state\u001b[0m \u001b[0;34m=\u001b[0m \u001b[0mTERMINATE\u001b[0m\u001b[0;34m\u001b[0m\u001b[0;34m\u001b[0m\u001b[0m\n\u001b[1;32m    540\u001b[0m         \u001b[0mself\u001b[0m\u001b[0;34m.\u001b[0m\u001b[0m_worker_handler\u001b[0m\u001b[0;34m.\u001b[0m\u001b[0m_state\u001b[0m \u001b[0;34m=\u001b[0m \u001b[0mTERMINATE\u001b[0m\u001b[0;34m\u001b[0m\u001b[0;34m\u001b[0m\u001b[0m\n\u001b[0;32m--> 541\u001b[0;31m         \u001b[0mself\u001b[0m\u001b[0;34m.\u001b[0m\u001b[0m_terminate\u001b[0m\u001b[0;34m(\u001b[0m\u001b[0;34m)\u001b[0m\u001b[0;34m\u001b[0m\u001b[0;34m\u001b[0m\u001b[0m\n\u001b[0m\u001b[1;32m    542\u001b[0m \u001b[0;34m\u001b[0m\u001b[0m\n\u001b[1;32m    543\u001b[0m     \u001b[0;32mdef\u001b[0m \u001b[0mjoin\u001b[0m\u001b[0;34m(\u001b[0m\u001b[0mself\u001b[0m\u001b[0;34m)\u001b[0m\u001b[0;34m:\u001b[0m\u001b[0;34m\u001b[0m\u001b[0;34m\u001b[0m\u001b[0m\n",
      "\u001b[0;32m/usr/lib/python3.6/multiprocessing/util.py\u001b[0m in \u001b[0;36m__call__\u001b[0;34m(self, wr, _finalizer_registry, sub_debug, getpid)\u001b[0m\n\u001b[1;32m    184\u001b[0m                 sub_debug('finalizer calling %s with args %s and kwargs %s',\n\u001b[1;32m    185\u001b[0m                           self._callback, self._args, self._kwargs)\n\u001b[0;32m--> 186\u001b[0;31m                 \u001b[0mres\u001b[0m \u001b[0;34m=\u001b[0m \u001b[0mself\u001b[0m\u001b[0;34m.\u001b[0m\u001b[0m_callback\u001b[0m\u001b[0;34m(\u001b[0m\u001b[0;34m*\u001b[0m\u001b[0mself\u001b[0m\u001b[0;34m.\u001b[0m\u001b[0m_args\u001b[0m\u001b[0;34m,\u001b[0m \u001b[0;34m**\u001b[0m\u001b[0mself\u001b[0m\u001b[0;34m.\u001b[0m\u001b[0m_kwargs\u001b[0m\u001b[0;34m)\u001b[0m\u001b[0;34m\u001b[0m\u001b[0;34m\u001b[0m\u001b[0m\n\u001b[0m\u001b[1;32m    187\u001b[0m             \u001b[0mself\u001b[0m\u001b[0;34m.\u001b[0m\u001b[0m_weakref\u001b[0m \u001b[0;34m=\u001b[0m \u001b[0mself\u001b[0m\u001b[0;34m.\u001b[0m\u001b[0m_callback\u001b[0m \u001b[0;34m=\u001b[0m \u001b[0mself\u001b[0m\u001b[0;34m.\u001b[0m\u001b[0m_args\u001b[0m \u001b[0;34m=\u001b[0m\u001b[0;31m \u001b[0m\u001b[0;31m\\\u001b[0m\u001b[0;34m\u001b[0m\u001b[0;34m\u001b[0m\u001b[0m\n\u001b[1;32m    188\u001b[0m                             \u001b[0mself\u001b[0m\u001b[0;34m.\u001b[0m\u001b[0m_kwargs\u001b[0m \u001b[0;34m=\u001b[0m \u001b[0mself\u001b[0m\u001b[0;34m.\u001b[0m\u001b[0m_key\u001b[0m \u001b[0;34m=\u001b[0m \u001b[0;32mNone\u001b[0m\u001b[0;34m\u001b[0m\u001b[0;34m\u001b[0m\u001b[0m\n",
      "\u001b[0;32m/usr/lib/python3.6/multiprocessing/pool.py\u001b[0m in \u001b[0;36m_terminate_pool\u001b[0;34m(cls, taskqueue, inqueue, outqueue, pool, worker_handler, task_handler, result_handler, cache)\u001b[0m\n\u001b[1;32m    580\u001b[0m         \u001b[0mutil\u001b[0m\u001b[0;34m.\u001b[0m\u001b[0mdebug\u001b[0m\u001b[0;34m(\u001b[0m\u001b[0;34m'joining worker handler'\u001b[0m\u001b[0;34m)\u001b[0m\u001b[0;34m\u001b[0m\u001b[0;34m\u001b[0m\u001b[0m\n\u001b[1;32m    581\u001b[0m         \u001b[0;32mif\u001b[0m \u001b[0mthreading\u001b[0m\u001b[0;34m.\u001b[0m\u001b[0mcurrent_thread\u001b[0m\u001b[0;34m(\u001b[0m\u001b[0;34m)\u001b[0m \u001b[0;32mis\u001b[0m \u001b[0;32mnot\u001b[0m \u001b[0mworker_handler\u001b[0m\u001b[0;34m:\u001b[0m\u001b[0;34m\u001b[0m\u001b[0;34m\u001b[0m\u001b[0m\n\u001b[0;32m--> 582\u001b[0;31m             \u001b[0mworker_handler\u001b[0m\u001b[0;34m.\u001b[0m\u001b[0mjoin\u001b[0m\u001b[0;34m(\u001b[0m\u001b[0;34m)\u001b[0m\u001b[0;34m\u001b[0m\u001b[0;34m\u001b[0m\u001b[0m\n\u001b[0m\u001b[1;32m    583\u001b[0m \u001b[0;34m\u001b[0m\u001b[0m\n\u001b[1;32m    584\u001b[0m         \u001b[0;31m# Terminate workers which haven't already finished.\u001b[0m\u001b[0;34m\u001b[0m\u001b[0;34m\u001b[0m\u001b[0;34m\u001b[0m\u001b[0m\n",
      "\u001b[0;32m/usr/lib/python3.6/threading.py\u001b[0m in \u001b[0;36mjoin\u001b[0;34m(self, timeout)\u001b[0m\n\u001b[1;32m   1054\u001b[0m \u001b[0;34m\u001b[0m\u001b[0m\n\u001b[1;32m   1055\u001b[0m         \u001b[0;32mif\u001b[0m \u001b[0mtimeout\u001b[0m \u001b[0;32mis\u001b[0m \u001b[0;32mNone\u001b[0m\u001b[0;34m:\u001b[0m\u001b[0;34m\u001b[0m\u001b[0;34m\u001b[0m\u001b[0m\n\u001b[0;32m-> 1056\u001b[0;31m             \u001b[0mself\u001b[0m\u001b[0;34m.\u001b[0m\u001b[0m_wait_for_tstate_lock\u001b[0m\u001b[0;34m(\u001b[0m\u001b[0;34m)\u001b[0m\u001b[0;34m\u001b[0m\u001b[0;34m\u001b[0m\u001b[0m\n\u001b[0m\u001b[1;32m   1057\u001b[0m         \u001b[0;32melse\u001b[0m\u001b[0;34m:\u001b[0m\u001b[0;34m\u001b[0m\u001b[0;34m\u001b[0m\u001b[0m\n\u001b[1;32m   1058\u001b[0m             \u001b[0;31m# the behavior of a negative timeout isn't documented, but\u001b[0m\u001b[0;34m\u001b[0m\u001b[0;34m\u001b[0m\u001b[0;34m\u001b[0m\u001b[0m\n",
      "\u001b[0;32m/usr/lib/python3.6/threading.py\u001b[0m in \u001b[0;36m_wait_for_tstate_lock\u001b[0;34m(self, block, timeout)\u001b[0m\n\u001b[1;32m   1070\u001b[0m         \u001b[0;32mif\u001b[0m \u001b[0mlock\u001b[0m \u001b[0;32mis\u001b[0m \u001b[0;32mNone\u001b[0m\u001b[0;34m:\u001b[0m  \u001b[0;31m# already determined that the C code is done\u001b[0m\u001b[0;34m\u001b[0m\u001b[0;34m\u001b[0m\u001b[0m\n\u001b[1;32m   1071\u001b[0m             \u001b[0;32massert\u001b[0m \u001b[0mself\u001b[0m\u001b[0;34m.\u001b[0m\u001b[0m_is_stopped\u001b[0m\u001b[0;34m\u001b[0m\u001b[0;34m\u001b[0m\u001b[0m\n\u001b[0;32m-> 1072\u001b[0;31m         \u001b[0;32melif\u001b[0m \u001b[0mlock\u001b[0m\u001b[0;34m.\u001b[0m\u001b[0macquire\u001b[0m\u001b[0;34m(\u001b[0m\u001b[0mblock\u001b[0m\u001b[0;34m,\u001b[0m \u001b[0mtimeout\u001b[0m\u001b[0;34m)\u001b[0m\u001b[0;34m:\u001b[0m\u001b[0;34m\u001b[0m\u001b[0;34m\u001b[0m\u001b[0m\n\u001b[0m\u001b[1;32m   1073\u001b[0m             \u001b[0mlock\u001b[0m\u001b[0;34m.\u001b[0m\u001b[0mrelease\u001b[0m\u001b[0;34m(\u001b[0m\u001b[0;34m)\u001b[0m\u001b[0;34m\u001b[0m\u001b[0;34m\u001b[0m\u001b[0m\n\u001b[1;32m   1074\u001b[0m             \u001b[0mself\u001b[0m\u001b[0;34m.\u001b[0m\u001b[0m_stop\u001b[0m\u001b[0;34m(\u001b[0m\u001b[0;34m)\u001b[0m\u001b[0;34m\u001b[0m\u001b[0;34m\u001b[0m\u001b[0m\n",
      "\u001b[0;31mKeyboardInterrupt\u001b[0m: "
     ]
    },
    {
     "name": "stderr",
     "output_type": "stream",
     "text": [
      "KeyboardInterrupt\n"
     ]
    }
   ],
   "source": [
    "model = GradientBoostingClassifier(n_estimators=243, random_state=np.random.RandomState(seed), verbose=0)\n",
    "\n",
    "# Perform a grid search with k-fold cross validation\n",
    "param_grid = [{'scaler': [MinMaxScaler((0, 1))], #[None, StandardScaler(), RobustScaler(quantile_range=(25., 75.))],\n",
    "               'model__estimator__loss':                  ['deviance', 'exponential'],\n",
    "               'model__estimator__learning_rate':         [*np.logspace(-2, -1, 2), 0.9],\n",
    "               'model__estimator__subsample':             [0.5, 1],\n",
    "               'model__estimator__criterion':             ['friedman_mse'], #'mse'],\n",
    "               'model__estimator__max_depth':             [5, None],\n",
    "               'model__estimator__max_features':          [0.1, 0.5, None],\n",
    "               # 'model__estimator__max_leaf_nodes':      range(2, 21),\n",
    "               'model__estimator__min_impurity_decrease': np.logspace(-3, -5, 2)}]\n",
    "# pipe = Grid_Search(model, param_grid, X_train, y_train, multi_target=True) # GridSearchCV\n",
    "pipe = Grid_Search(model, param_grid, X_train, y_train, resource='n_estimators', multi_target=True) # HalvingGridSearchCV"
   ]
  },
  {
   "cell_type": "code",
   "execution_count": null,
   "id": "42f7e5ca",
   "metadata": {
    "ExecuteTime": {
     "end_time": "2022-04-26T08:45:04.793649Z",
     "start_time": "2022-04-23T17:39:22.190Z"
    }
   },
   "outputs": [],
   "source": [
    "# Train with full training set\n",
    "with joblib.parallel_backend('multiprocessing', n_jobs=-1): # faster backend\n",
    "    pipe.fit(X_train, y_train)\n",
    "\n",
    "# Save model\n",
    "model_name = 'GB'\n",
    "# joblib.dump(pipe, f'Results/Models/pipe_{model_name}_{nb_name}_{n}x{m}_noise_std={noise_std}_sampling={sampling_interval}.joblib');"
   ]
  },
  {
   "cell_type": "code",
   "execution_count": null,
   "id": "ee5cd5cc",
   "metadata": {
    "ExecuteTime": {
     "end_time": "2022-04-26T08:45:04.822150Z",
     "start_time": "2022-04-23T17:39:22.570Z"
    },
    "scrolled": true
   },
   "outputs": [],
   "source": [
    "# Get prediction statistics\n",
    "with joblib.parallel_backend('multiprocessing', n_jobs=-1): # faster backend\n",
    "    get_statistics(pipe, X_test, y_test, model_name, prob=True)"
   ]
  }
 ],
 "metadata": {
  "kernelspec": {
   "display_name": "Python [conda env:thesis]",
   "language": "python",
   "name": "conda-env-thesis-py"
  },
  "language_info": {
   "codemirror_mode": {
    "name": "ipython",
    "version": 3
   },
   "file_extension": ".py",
   "mimetype": "text/x-python",
   "name": "python",
   "nbconvert_exporter": "python",
   "pygments_lexer": "ipython3",
   "version": "3.8.12"
  },
  "toc": {
   "base_numbering": 1,
   "nav_menu": {},
   "number_sections": true,
   "sideBar": true,
   "skip_h1_title": false,
   "title_cell": "Contents",
   "title_sidebar": "Contents",
   "toc_cell": false,
   "toc_position": {
    "height": "606.6px",
    "left": "189px",
    "top": "74.6px",
    "width": "232.188px"
   },
   "toc_section_display": true,
   "toc_window_display": true
  },
  "varInspector": {
   "cols": {
    "lenName": 16,
    "lenType": 16,
    "lenVar": 40
   },
   "kernels_config": {
    "python": {
     "delete_cmd_postfix": "",
     "delete_cmd_prefix": "del ",
     "library": "var_list.py",
     "varRefreshCmd": "print(var_dic_list())"
    },
    "r": {
     "delete_cmd_postfix": ") ",
     "delete_cmd_prefix": "rm(",
     "library": "var_list.r",
     "varRefreshCmd": "cat(var_dic_list()) "
    }
   },
   "oldHeight": 299.4,
   "position": {
    "height": "278.4px",
    "left": "865px",
    "right": "20px",
    "top": "88px",
    "width": "662px"
   },
   "types_to_exclude": [
    "module",
    "function",
    "builtin_function_or_method",
    "instance",
    "_Feature"
   ],
   "varInspector_section_display": "block",
   "window_display": false
  }
 },
 "nbformat": 4,
 "nbformat_minor": 5
}
