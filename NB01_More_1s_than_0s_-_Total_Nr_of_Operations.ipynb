{
 "cells": [
  {
   "cell_type": "code",
   "execution_count": 1,
   "id": "e139db1e",
   "metadata": {
    "ExecuteTime": {
     "end_time": "2021-11-20T02:05:50.868485Z",
     "start_time": "2021-11-20T02:05:15.730327Z"
    }
   },
   "outputs": [
    {
     "name": "stderr",
     "output_type": "stream",
     "text": [
      "Intel(R) Extension for Scikit-learn* enabled (https://github.com/intel/scikit-learn-intelex)\n"
     ]
    }
   ],
   "source": [
    "import numpy as np\n",
    "import pandas as pd\n",
    "from pandas_profiling import ProfileReport\n",
    "import lux\n",
    "import matplotlib.pyplot as plt\n",
    "%matplotlib inline\n",
    "\n",
    "from sklearnex import patch_sklearn\n",
    "patch_sklearn()\n",
    "\n",
    "from sklearn.model_selection import train_test_split, StratifiedKFold\n",
    "from sklearn.linear_model import SGDClassifier\n",
    "from sklearn.svm import SVC, LinearSVC\n",
    "from sklearn.naive_bayes import GaussianNB, MultinomialNB, CategoricalNB\n",
    "from sklearn.metrics import accuracy_score, confusion_matrix, classification_report\n",
    "\n",
    "np.set_printoptions(suppress=True) # do not print scientific notation\n",
    "\n",
    "# Set some matplotlib style parameters\n",
    "plt.style.use('seaborn')\n",
    "plt.rcParams.update({'figure.facecolor': 'white',\n",
    "                     'figure.edgecolor': 'white',\n",
    "                     'axes.grid': True,\n",
    "                     'figure.autolayout': True # tight_layout\n",
    "                    })\n",
    "\n",
    "# Set some pandas options\n",
    "pd.set_option('display.max_columns', None, # show x columns (None shows all)\n",
    "              # 'display.max_rows', None,  # show x rows (None shows all)\n",
    "              'compute.use_numba', True)   # turn off for Lux"
   ]
  },
  {
   "cell_type": "code",
   "execution_count": 2,
   "id": "10eaff45",
   "metadata": {
    "ExecuteTime": {
     "end_time": "2021-11-20T02:05:50.899536Z",
     "start_time": "2021-11-20T02:05:50.884723Z"
    }
   },
   "outputs": [],
   "source": [
    "seed = 42\n",
    "rng = np.random.default_rng(seed)\n",
    "\n",
    "secure_bits = 25        # rows\n",
    "corrected_key_bits = 50 # columns\n",
    "N_vec = 10000           # nº of corrected key vectors"
   ]
  },
  {
   "cell_type": "markdown",
   "id": "333ab43c",
   "metadata": {
    "ExecuteTime": {
     "end_time": "2021-08-05T19:00:12.884341Z",
     "start_time": "2021-08-05T19:00:12.870374Z"
    }
   },
   "source": [
    "## Functions"
   ]
  },
  {
   "cell_type": "markdown",
   "id": "f6c9c258",
   "metadata": {},
   "source": [
    "### Detect operations"
   ]
  },
  {
   "cell_type": "code",
   "execution_count": 3,
   "id": "7da03865",
   "metadata": {
    "ExecuteTime": {
     "end_time": "2021-11-20T02:05:56.497477Z",
     "start_time": "2021-11-20T02:05:56.492444Z"
    },
    "code_folding": []
   },
   "outputs": [],
   "source": [
    "def Count_1times1(mat, vec):\n",
    "    count = 0\n",
    "    for i in range(secure_bits):\n",
    "        for j in range(corrected_key_bits):\n",
    "            if mat[i, j] and vec[j]:\n",
    "                count += 1\n",
    "    return count"
   ]
  },
  {
   "cell_type": "code",
   "execution_count": 4,
   "id": "f7111765",
   "metadata": {
    "ExecuteTime": {
     "end_time": "2021-11-20T02:05:56.840354Z",
     "start_time": "2021-11-20T02:05:56.820359Z"
    },
    "code_folding": []
   },
   "outputs": [],
   "source": [
    "def Count_0times1(mat, vec):\n",
    "    count = 0\n",
    "    for i in range(secure_bits):\n",
    "        for j in range(corrected_key_bits):\n",
    "            if (not mat[i, j] and vec[j]) or \\\n",
    "               (mat[i, j] and not vec[j]):\n",
    "                count += 1\n",
    "    return count"
   ]
  },
  {
   "cell_type": "code",
   "execution_count": 5,
   "id": "6408d3d1",
   "metadata": {
    "ExecuteTime": {
     "end_time": "2021-11-20T02:05:57.075419Z",
     "start_time": "2021-11-20T02:05:57.068447Z"
    },
    "code_folding": []
   },
   "outputs": [],
   "source": [
    "def Count_0times0(mat, vec):\n",
    "    count = 0\n",
    "    for i in range(secure_bits):\n",
    "        for j in range(corrected_key_bits):\n",
    "            if not mat[i, j] and not vec[j]:\n",
    "                count += 1\n",
    "    return count"
   ]
  },
  {
   "cell_type": "code",
   "execution_count": 6,
   "id": "9a46243d",
   "metadata": {
    "ExecuteTime": {
     "end_time": "2021-11-20T02:05:57.343253Z",
     "start_time": "2021-11-20T02:05:57.337246Z"
    },
    "code_folding": []
   },
   "outputs": [],
   "source": [
    "# Some experiments...\n",
    "\n",
    "# # Count all +1 (same as Count_1times1...)\n",
    "# def Count_plus1(mat, vec):\n",
    "#     count = 0\n",
    "#     for i in range(secure_bits):\n",
    "#         for j in range(corrected_key_bits):\n",
    "#             if mat[i, j] * vec[j]:\n",
    "#                 count += 1\n",
    "#     return count\n",
    "\n",
    "# Only count additions to initial 1 in each row (as if the first 1 was already in the memory address of the result)\n",
    "def Count_plus1(mat, vec):\n",
    "    count = 0\n",
    "    for i in range(secure_bits):\n",
    "        count_1s = 0\n",
    "        for j in range(corrected_key_bits):\n",
    "            if mat[i, j] * vec[j]:\n",
    "                count_1s += 1 # count 1s in each row\n",
    "        if count_1s != 0:\n",
    "            count += count_1s - 1 # sum 1+1 additions per row if there are any 1s\n",
    "    return count\n",
    "\n",
    "# Count 1+1 sequentially in each row (works even if operations are not sequential)\n",
    "    # (counting 1+0 or 0+0 gives different results if operations are not sequential,\n",
    "    # but counting (1+0)+(0+0) still gives consistent results)\n",
    "def Count_1plus1(mat, vec):\n",
    "    count = 0\n",
    "    for i in range(secure_bits):\n",
    "        result = mat[i, 0] * vec[0]\n",
    "        for j in range(1, corrected_key_bits):\n",
    "            next_element = mat[i, j] * vec[j]\n",
    "            if result and next_element:\n",
    "                count += 1\n",
    "            result = (result + next_element) % 2\n",
    "    return count"
   ]
  },
  {
   "cell_type": "markdown",
   "id": "32abfb3a",
   "metadata": {},
   "source": [
    "### Class"
   ]
  },
  {
   "cell_type": "code",
   "execution_count": 7,
   "id": "ae72549a",
   "metadata": {
    "ExecuteTime": {
     "end_time": "2021-11-20T02:05:58.047965Z",
     "start_time": "2021-11-20T02:05:58.032012Z"
    },
    "code_folding": []
   },
   "outputs": [],
   "source": [
    "# Detect if there are more 1s than 0s\n",
    "def More_1_than_0(mat, vec):\n",
    "    return np.sum(mat @ vec % 2) > secure_bits / 2"
   ]
  },
  {
   "cell_type": "markdown",
   "id": "75cb42c2",
   "metadata": {},
   "source": [
    "### Other"
   ]
  },
  {
   "cell_type": "code",
   "execution_count": 8,
   "id": "93f0b421",
   "metadata": {
    "ExecuteTime": {
     "end_time": "2021-11-20T02:05:58.687337Z",
     "start_time": "2021-11-20T02:05:58.677812Z"
    }
   },
   "outputs": [],
   "source": [
    "# Check if output vectors from sample are unique\n",
    "def Check_uniqueness(mat, vec):\n",
    "    res = []\n",
    "    for i in range(len(vec)):\n",
    "        res.append(mat @ vec[i] % 2)\n",
    "    unique = np.unique(res, axis=0, return_counts=True)\n",
    "    return unique[1].shape[0] == np.shape(vec)[0], unique[1].shape[0]"
   ]
  },
  {
   "cell_type": "markdown",
   "id": "8ae9b25b",
   "metadata": {},
   "source": [
    "## Generate data"
   ]
  },
  {
   "cell_type": "code",
   "execution_count": 9,
   "id": "64ae1572",
   "metadata": {
    "ExecuteTime": {
     "end_time": "2021-11-20T02:05:59.606860Z",
     "start_time": "2021-11-20T02:05:59.589221Z"
    }
   },
   "outputs": [
    {
     "data": {
      "text/plain": [
       "((25, 50),\n",
       " array([[1, 0, 1, ..., 1, 0, 0],\n",
       "        [0, 1, 0, ..., 1, 0, 1],\n",
       "        [0, 0, 1, ..., 1, 1, 1],\n",
       "        ...,\n",
       "        [1, 0, 0, ..., 0, 0, 1],\n",
       "        [0, 1, 1, ..., 0, 1, 0],\n",
       "        [1, 0, 0, ..., 1, 0, 1]], dtype=int8))"
      ]
     },
     "execution_count": 9,
     "metadata": {},
     "output_type": "execute_result"
    }
   ],
   "source": [
    "mat = rng.integers(2, size=(secure_bits,corrected_key_bits), dtype=np.int8)\n",
    "\n",
    "mat.shape, mat"
   ]
  },
  {
   "cell_type": "code",
   "execution_count": 10,
   "id": "d3a84273",
   "metadata": {
    "ExecuteTime": {
     "end_time": "2021-11-20T02:06:00.514126Z",
     "start_time": "2021-11-20T02:06:00.349753Z"
    }
   },
   "outputs": [
    {
     "data": {
      "text/plain": [
       "((10000, 50),\n",
       " array([1, 1, 1, 0, 0, 0, 0, 0, 1, 1, 1, 1, 1, 1, 1, 1, 1, 0, 0, 1, 0, 1,\n",
       "        0, 1, 1, 0, 1, 1, 0, 0, 0, 0, 0, 1, 1, 0, 0, 0, 0, 1, 1, 1, 0, 1,\n",
       "        0, 1, 1, 1, 1, 0], dtype=int8))"
      ]
     },
     "execution_count": 10,
     "metadata": {},
     "output_type": "execute_result"
    }
   ],
   "source": [
    "vec = [rng.integers(2, size=corrected_key_bits, dtype=np.int8) for _ in range(N_vec)]\n",
    "\n",
    "np.shape(vec), vec[0]"
   ]
  },
  {
   "cell_type": "code",
   "execution_count": 11,
   "id": "01ed0428",
   "metadata": {
    "ExecuteTime": {
     "end_time": "2021-11-20T02:06:02.148465Z",
     "start_time": "2021-11-20T02:06:02.059013Z"
    }
   },
   "outputs": [
    {
     "name": "stdout",
     "output_type": "stream",
     "text": [
      "Are solutions from this sample unique? False ---> 9999 unique sols out of 10000\n"
     ]
    }
   ],
   "source": [
    "print('Are solutions from this sample unique? %s ---> %i unique sols out of %i' % (*Check_uniqueness(mat, vec), N_vec))"
   ]
  },
  {
   "cell_type": "code",
   "execution_count": 12,
   "id": "bba088ab",
   "metadata": {
    "ExecuteTime": {
     "end_time": "2021-11-20T02:06:03.624209Z",
     "start_time": "2021-11-20T02:06:03.579934Z"
    },
    "scrolled": false
   },
   "outputs": [
    {
     "name": "stdout",
     "output_type": "stream",
     "text": [
      "1*1 \t 0*1 \t 0*0 \t +1 \t 1+1\n",
      "------------------------------------\n",
      "337 \t 639 \t 274 \t 312 \t 163\n",
      "342 \t 654 \t 254 \t 317 \t 163\n",
      "320 \t 623 \t 307 \t 295 \t 154\n",
      "274 \t 590 \t 386 \t 249 \t 134\n",
      "350 \t 613 \t 287 \t 325 \t 170\n",
      "266 \t 606 \t 378 \t 241 \t 126\n",
      "254 \t 630 \t 366 \t 229 \t 120\n",
      "299 \t 615 \t 336 \t 274 \t 143\n",
      "309 \t 645 \t 296 \t 284 \t 148\n",
      "228 \t 607 \t 415 \t 203 \t 108\n"
     ]
    }
   ],
   "source": [
    "print(\"1*1 \\t 0*1 \\t 0*0 \\t +1 \\t 1+1\")\n",
    "print(\"------------------------------------\")\n",
    "for i in range(10):\n",
    "    print(Count_1times1(mat, vec[i]), '\\t', Count_0times1(mat, vec[i]), '\\t', Count_0times0(mat, vec[i]), '\\t',\n",
    "          Count_plus1(mat, vec[i]), '\\t', Count_1plus1(mat, vec[i]))"
   ]
  },
  {
   "cell_type": "code",
   "execution_count": 13,
   "id": "007e2611",
   "metadata": {
    "ExecuteTime": {
     "end_time": "2021-11-20T02:06:05.047104Z",
     "start_time": "2021-11-20T02:06:05.034208Z"
    },
    "scrolled": true
   },
   "outputs": [
    {
     "name": "stdout",
     "output_type": "stream",
     "text": [
      "#1 > #0?\n",
      "--------\n",
      "False \t [0 1 0 0 1 0 1 0 1 0 0 1 1 1 1 0 1 0 0 0 1 1 0 0 0]\n",
      "True \t [1 1 0 0 1 1 0 0 1 0 1 1 1 1 1 0 1 1 1 1 0 1 0 1 0]\n",
      "False \t [1 1 1 1 0 0 0 0 1 0 1 1 0 0 0 1 1 1 0 0 1 0 1 0 0]\n",
      "False \t [0 1 0 0 1 0 0 0 0 0 0 1 0 0 1 1 0 0 0 0 0 0 1 0 0]\n",
      "False \t [1 1 0 1 1 1 0 0 0 0 0 1 0 0 1 1 0 0 0 0 1 0 1 0 0]\n",
      "True \t [1 0 0 1 1 0 1 0 0 1 0 1 1 1 1 0 0 0 0 1 1 1 0 1 1]\n",
      "True \t [0 1 1 0 0 1 0 1 0 1 1 1 1 1 1 1 0 0 0 0 1 1 0 0 1]\n",
      "True \t [1 1 0 1 0 1 0 1 1 0 1 1 0 0 1 1 0 0 1 1 0 1 0 0 0]\n",
      "True \t [0 1 1 0 1 1 1 0 0 0 1 0 0 0 1 1 0 1 1 1 0 0 0 1 1]\n",
      "False \t [1 1 0 0 0 0 1 1 0 0 0 0 1 1 0 1 1 1 0 0 1 1 0 1 0]\n"
     ]
    }
   ],
   "source": [
    "print(\"#1 > #0?\")\n",
    "print(\"--------\")\n",
    "for i in range(10):\n",
    "    print(More_1_than_0(mat, vec[i]), '\\t', mat @ vec[i] % 2)"
   ]
  },
  {
   "cell_type": "code",
   "execution_count": 14,
   "id": "033ba8ff",
   "metadata": {
    "ExecuteTime": {
     "end_time": "2021-11-20T02:06:27.392672Z",
     "start_time": "2021-11-20T02:06:06.556242Z"
    }
   },
   "outputs": [
    {
     "data": {
      "text/plain": [
       "(10000, 5)"
      ]
     },
     "execution_count": 14,
     "metadata": {},
     "output_type": "execute_result"
    }
   ],
   "source": [
    "data = [[Count_1times1(mat, vec[i]),\n",
    "         Count_0times1(mat, vec[i]),\n",
    "         Count_0times0(mat, vec[i]),\n",
    "         # Count_plus1(mat, vec[i]),\n",
    "         Count_1plus1(mat, vec[i]),\n",
    "         More_1_than_0(mat, vec[i])] for i in range(N_vec)]\n",
    "np.shape(data)"
   ]
  },
  {
   "cell_type": "code",
   "execution_count": 15,
   "id": "1113da2c",
   "metadata": {
    "ExecuteTime": {
     "end_time": "2021-11-20T02:06:39.219306Z",
     "start_time": "2021-11-20T02:06:29.503988Z"
    },
    "scrolled": true
   },
   "outputs": [
    {
     "data": {
      "application/vnd.jupyter.widget-view+json": {
       "model_id": "48f408d16b8d4a07bd5db144dddfa9c9",
       "version_major": 2,
       "version_minor": 0
      },
      "text/plain": [
       "Button(description='Toggle Pandas/Lux', layout=Layout(top='5px', width='140px'), style=ButtonStyle())"
      ]
     },
     "metadata": {},
     "output_type": "display_data"
    },
    {
     "data": {
      "application/vnd.jupyter.widget-view+json": {
       "model_id": "b759cf43dd2c4d67b3b6263ed917b472",
       "version_major": 2,
       "version_minor": 0
      },
      "text/plain": [
       "Output()"
      ]
     },
     "metadata": {},
     "output_type": "display_data"
    }
   ],
   "source": [
    "# Create dataframe\n",
    "df = pd.DataFrame(data, columns=['1*1', '0*1', '0*0', '1+1', 'More_1_than_0'])\n",
    "\n",
    "# Generate parities\n",
    "    # with the new Count_1plus1, the models do not need any parities to predict 100% correctly\n",
    "# df['1_parity'] = np.where(df['1*1'] % 2 == 0, 0, 1)\n",
    "# df['0*1_parity'] = np.where(df['0*1'] % 2 == 0, 0, 1)\n",
    "# df['0*0_parity'] = np.where(df['0*0'] % 2 == 0, 0, 1)\n",
    "# df['+1_parity'] = np.where(df['+1'] % 2 == 0, 0, 1)\n",
    "# df['1+1_parity'] = np.where(df['1+1'] % 2 == 0, 0, 1)\n",
    "df"
   ]
  },
  {
   "cell_type": "code",
   "execution_count": 18,
   "id": "c8227458",
   "metadata": {
    "ExecuteTime": {
     "end_time": "2021-08-31T11:30:45.232834Z",
     "start_time": "2021-08-31T11:30:44.356371Z"
    },
    "collapsed": true
   },
   "outputs": [
    {
     "data": {
      "application/vnd.jupyter.widget-view+json": {
       "model_id": "48a7d8b84ad5420fac5a44da1b8a213d",
       "version_major": 2,
       "version_minor": 0
      },
      "text/plain": [
       "Button(description='Toggle Pandas/Lux', layout=Layout(top='5px', width='140px'), style=ButtonStyle())"
      ]
     },
     "metadata": {},
     "output_type": "display_data"
    },
    {
     "data": {
      "application/vnd.jupyter.widget-view+json": {
       "model_id": "43a2a57c26e24339a3161bc4eaf28e69",
       "version_major": 2,
       "version_minor": 0
      },
      "text/plain": [
       "Output()"
      ]
     },
     "metadata": {},
     "output_type": "display_data"
    }
   ],
   "source": [
    "# Check some trends in data (turn off numba engine first)\n",
    "pd.set_option('compute.use_numba', False)\n",
    "df2 = df.copy()\n",
    "df2.intent = [\"More_1_than_0\", \"1*1\"]\n",
    "display(df2)\n",
    "pd.set_option('compute.use_numba', True)"
   ]
  },
  {
   "cell_type": "code",
   "execution_count": 19,
   "id": "e2079e6b",
   "metadata": {
    "ExecuteTime": {
     "end_time": "2021-08-31T00:15:24.003022Z",
     "start_time": "2021-08-31T00:14:59.106102Z"
    },
    "collapsed": true
   },
   "outputs": [
    {
     "data": {
      "application/vnd.jupyter.widget-view+json": {
       "model_id": "eb12862e52b74b12a3b45a55fe14c0b3",
       "version_major": 2,
       "version_minor": 0
      },
      "text/plain": [
       "Summarize dataset:   0%|          | 0/18 [00:00<?, ?it/s]"
      ]
     },
     "metadata": {},
     "output_type": "display_data"
    },
    {
     "data": {
      "application/vnd.jupyter.widget-view+json": {
       "model_id": "7ae1625978c545589bf496a4c02485d1",
       "version_major": 2,
       "version_minor": 0
      },
      "text/plain": [
       "Generate report structure:   0%|          | 0/1 [00:00<?, ?it/s]"
      ]
     },
     "metadata": {},
     "output_type": "display_data"
    },
    {
     "data": {
      "application/vnd.jupyter.widget-view+json": {
       "model_id": "16d272888d56407f8daf2ad89b12521f",
       "version_major": 2,
       "version_minor": 0
      },
      "text/plain": [
       "Render HTML:   0%|          | 0/1 [00:00<?, ?it/s]"
      ]
     },
     "metadata": {},
     "output_type": "display_data"
    },
    {
     "data": {
      "application/vnd.jupyter.widget-view+json": {
       "model_id": "ac7ba1d3691942d88b6f0fc45d0808e4",
       "version_major": 2,
       "version_minor": 0
      },
      "text/plain": [
       "Export report to file:   0%|          | 0/1 [00:00<?, ?it/s]"
      ]
     },
     "metadata": {},
     "output_type": "display_data"
    }
   ],
   "source": [
    "# Generate pandas profiling report\n",
    "profile = ProfileReport(df, title=\"More_1s_or_0s N_Total_Ops Dataset Report\", explorative=True)\n",
    "# profile.to_widgets()\n",
    "profile.to_file(\"Docs/More_1s_or_0s_-_N_Total_Ops_report.html\")"
   ]
  },
  {
   "cell_type": "markdown",
   "id": "6ecac767",
   "metadata": {},
   "source": [
    "### Split data"
   ]
  },
  {
   "cell_type": "code",
   "execution_count": 16,
   "id": "0d8996cb",
   "metadata": {
    "ExecuteTime": {
     "end_time": "2021-11-20T02:06:41.936887Z",
     "start_time": "2021-11-20T02:06:41.128074Z"
    }
   },
   "outputs": [],
   "source": [
    "# Split data into training & test set\n",
    "X = np.asarray(df.drop('More_1_than_0', axis=1))\n",
    "y = np.asarray(df['More_1_than_0'])\n",
    "\n",
    "X_train, X_test, y_train, y_test = train_test_split(X, y, test_size=0.2, random_state=seed) # used before cross-val"
   ]
  },
  {
   "cell_type": "markdown",
   "id": "6e0648c2",
   "metadata": {},
   "source": [
    "## Classifiers"
   ]
  },
  {
   "cell_type": "markdown",
   "id": "00a31be3",
   "metadata": {},
   "source": [
    "Models able to to predict with ~100% accuracy:\n",
    "- Logistic regression\n",
    "- Linear SVM (and polynomial-kernel SVM by extension)\n",
    "\n",
    "Models which comparatively suck:\n",
    "- RBF-kernel SVM\n",
    "- Sigmoid-kernel SVM\n",
    "- All Naïve Bayes"
   ]
  },
  {
   "cell_type": "code",
   "execution_count": 17,
   "id": "a692c4af",
   "metadata": {
    "ExecuteTime": {
     "end_time": "2021-11-20T02:06:43.952998Z",
     "start_time": "2021-11-20T02:06:43.939580Z"
    },
    "code_folding": []
   },
   "outputs": [],
   "source": [
    "# Train model with stratified k-fold cross-validation & get statistics\n",
    "def Train_stratCV(model, X, y, n_splits=5, seed=seed):\n",
    "    skf = StratifiedKFold(n_splits, shuffle=True, random_state=seed)\n",
    "    lst_acc    = []\n",
    "    lst_y_pred = [] # not used yet\n",
    "\n",
    "    # Train & test each fold\n",
    "    for train_idx, test_idx in skf.split(X, y):\n",
    "        x_train_fold, x_test_fold = X[train_idx], X[test_idx]\n",
    "        y_train_fold, y_test_fold = y[train_idx], y[test_idx]\n",
    "        model.fit(x_train_fold, y_train_fold)\n",
    "        lst_acc.append(model.score(x_test_fold, y_test_fold))\n",
    "        lst_y_pred.append(model.predict(x_test_fold))\n",
    "\n",
    "    print(f'\\nList of accuracies: {lst_acc}')\n",
    "    print(f'Min/max accuracy:   {min(lst_acc):.2%} <---> {max(lst_acc):.2%}')\n",
    "    print(f'Mean accuracy:      {np.mean(lst_acc):.2%} +- {np.std(lst_acc):.3%}%')\n",
    "    \n",
    "    # add more stats\n",
    "    \n",
    "    return lst_acc, lst_y_pred\n",
    "\n",
    "# accuracy_score(y_test, y_pred) # how often is the classifier correct?\n",
    "# confusion_matrix(y_test, y_pred, normalize='pred') # precision\n",
    "# confusion_matrix(y_test, y_pred, normalize='true') # recall\n",
    "# classification_report(y_test, y_pred, output_dict=True)"
   ]
  },
  {
   "cell_type": "markdown",
   "id": "4fd5d621",
   "metadata": {},
   "source": [
    "### Logistic regression"
   ]
  },
  {
   "cell_type": "code",
   "execution_count": 18,
   "id": "96f8d738",
   "metadata": {
    "ExecuteTime": {
     "end_time": "2021-11-20T02:06:46.750128Z",
     "start_time": "2021-11-20T02:06:45.908606Z"
    }
   },
   "outputs": [
    {
     "name": "stdout",
     "output_type": "stream",
     "text": [
      "Convergence after 126 epochs took 0.12 seconds\n",
      "Convergence after 135 epochs took 0.13 seconds\n",
      "Convergence after 141 epochs took 0.13 seconds\n",
      "Convergence after 123 epochs took 0.12 seconds\n",
      "Convergence after 131 epochs took 0.14 seconds\n",
      "\n",
      "List of accuracies: [1.0, 1.0, 1.0, 1.0, 1.0]\n",
      "Min/max accuracy:   100.00% <---> 100.00%\n",
      "Mean accuracy:      100.00% +- 0.000%%\n"
     ]
    }
   ],
   "source": [
    "model = SGDClassifier(loss='log', learning_rate='adaptive', eta0=1e5, tol=1e-9, n_jobs=-1, random_state=seed, verbose=-1)\n",
    "# model.fit(X_train, y_train) # used before cross-val\n",
    "acc_strat, y_pred = Train_stratCV(model, X, y, 5, seed)"
   ]
  },
  {
   "cell_type": "code",
   "execution_count": 182,
   "id": "5e9a7fa7",
   "metadata": {
    "ExecuteTime": {
     "end_time": "2021-08-30T01:47:50.288857Z",
     "start_time": "2021-08-30T01:47:50.248930Z"
    },
    "code_folding": [
     0
    ],
    "scrolled": true
   },
   "outputs": [
    {
     "name": "stdout",
     "output_type": "stream",
     "text": [
      "Confusion matrix: \n",
      " [[ 997    0]\n",
      " [   0 1003]]\n",
      "\n",
      "Report: \n",
      "               precision    recall  f1-score   support\n",
      "\n",
      "       False      1.000     1.000     1.000       997\n",
      "        True      1.000     1.000     1.000      1003\n",
      "\n",
      "    accuracy                          1.000      2000\n",
      "   macro avg      1.000     1.000     1.000      2000\n",
      "weighted avg      1.000     1.000     1.000      2000\n",
      "\n",
      "Mean accuracy on test set: 100.00%\n",
      "Mean certainty (even if wrong): 100.00%\n"
     ]
    }
   ],
   "source": [
    "# # Get prediction statistics (used before cross-val)\n",
    "# y_pred = model.predict(X_test)\n",
    "# print('Confusion matrix: \\n', confusion_matrix(y_test, y_pred))\n",
    "# print('\\nReport: \\n', classification_report(y_test, y_pred, digits=3))\n",
    "\n",
    "# print(f'Mean accuracy on test set: {model.score(X_test, y_test):.2%}')\n",
    "\n",
    "# y_prob = model.predict_proba(X_test)\n",
    "# print(f'Mean certainty (even if wrong): {np.mean(np.max(y_prob, axis=1)):.2%}')"
   ]
  },
  {
   "cell_type": "markdown",
   "id": "ffb1c7b7",
   "metadata": {},
   "source": [
    "### SVM"
   ]
  },
  {
   "cell_type": "markdown",
   "id": "095d5cfa",
   "metadata": {},
   "source": [
    "#### Linear kernel"
   ]
  },
  {
   "cell_type": "code",
   "execution_count": 195,
   "id": "ebf3d46d",
   "metadata": {
    "ExecuteTime": {
     "end_time": "2021-08-30T02:08:44.683634Z",
     "start_time": "2021-08-30T02:08:34.355401Z"
    }
   },
   "outputs": [
    {
     "name": "stdout",
     "output_type": "stream",
     "text": [
      "[LibSVM][LibSVM][LibSVM][LibSVM][LibSVM]\n",
      "List of accuracies: [1.0, 1.0, 1.0, 1.0, 1.0]\n",
      "Min/max accuracy:   100.00% <---> 100.00%\n",
      "Mean accuracy:      100.00% +- 0.000%\n"
     ]
    }
   ],
   "source": [
    "model = SVC(kernel='linear', probability=True, random_state=seed, verbose=True)\n",
    "# model.fit(X_train, y_train) # used before cross-val\n",
    "acc_strat, y_pred = Train_stratCV(model, X, y, 5, seed)"
   ]
  },
  {
   "cell_type": "code",
   "execution_count": 646,
   "id": "90217a7e",
   "metadata": {
    "ExecuteTime": {
     "end_time": "2021-08-25T05:27:13.743032Z",
     "start_time": "2021-08-25T05:27:13.725081Z"
    },
    "code_folding": [
     0
    ],
    "scrolled": true
   },
   "outputs": [],
   "source": [
    "# # Get prediction statistics (used before cross-val)\n",
    "# y_pred = model.predict(X_test)\n",
    "# print('Confusion matrix: \\n', confusion_matrix(y_test, y_pred))\n",
    "# print('\\nReport: \\n', classification_report(y_test, y_pred, digits=3))\n",
    "\n",
    "# print(f'Mean accuracy on test set: {model.score(X_test, y_test):.2%}')\n",
    "\n",
    "# y_prob = model.predict_proba(X_test)\n",
    "# print(f'Mean certainty (even if wrong): {np.mean(np.max(y_prob, axis=1)):.2%}')"
   ]
  },
  {
   "cell_type": "code",
   "execution_count": 185,
   "id": "705c8b43",
   "metadata": {
    "ExecuteTime": {
     "end_time": "2021-08-30T01:50:20.027043Z",
     "start_time": "2021-08-30T01:50:19.627696Z"
    },
    "scrolled": false
   },
   "outputs": [
    {
     "name": "stdout",
     "output_type": "stream",
     "text": [
      "Convergence after 98 epochs took 0.04 seconds\n",
      "Convergence after 113 epochs took 0.04 seconds\n",
      "Convergence after 128 epochs took 0.10 seconds\n",
      "Convergence after 103 epochs took 0.08 seconds\n",
      "Convergence after 103 epochs took 0.09 seconds\n",
      "\n",
      "List of accuracies: [1.0, 1.0, 1.0, 1.0, 1.0]\n",
      "Min/max accuracy:   100.00% <---> 100.00%\n",
      "Mean accuracy:      100.00% +- 0.000%\n"
     ]
    }
   ],
   "source": [
    "model = SGDClassifier(loss='hinge', learning_rate='adaptive', eta0=1e3, tol=1e-9, n_jobs=-1, random_state=seed, verbose=-1)\n",
    "# model.fit(X_train, y_train) # used before cross-val\n",
    "acc_strat, y_pred = Train_stratCV(model, X, y, 5, seed)"
   ]
  },
  {
   "cell_type": "code",
   "execution_count": 186,
   "id": "e157670e",
   "metadata": {
    "ExecuteTime": {
     "end_time": "2021-08-30T01:50:25.511257Z",
     "start_time": "2021-08-30T01:50:25.499509Z"
    },
    "code_folding": [
     0
    ]
   },
   "outputs": [],
   "source": [
    "# # Get prediction statistics (used before cross-val)\n",
    "# y_pred = model.predict(X_test)\n",
    "# print('Confusion matrix: \\n', confusion_matrix(y_test, y_pred))\n",
    "# print('\\nReport: \\n', classification_report(y_test, y_pred, digits=3))\n",
    "\n",
    "# print(f'Mean accuracy on test set: {model.score(X_test, y_test):.2%}')\n",
    "\n",
    "# y_prob = model.predict_proba(X_test)\n",
    "# print(f'Mean certainty (even if wrong): {np.mean(np.max(y_prob, axis=1)):.2%}')"
   ]
  },
  {
   "cell_type": "code",
   "execution_count": 187,
   "id": "b7cc0383",
   "metadata": {
    "ExecuteTime": {
     "end_time": "2021-08-30T01:50:31.085688Z",
     "start_time": "2021-08-30T01:50:30.995426Z"
    }
   },
   "outputs": [
    {
     "name": "stdout",
     "output_type": "stream",
     "text": [
      "[LibLinear][LibLinear][LibLinear][LibLinear][LibLinear]\n",
      "List of accuracies: [1.0, 1.0, 1.0, 1.0, 1.0]\n",
      "Min/max accuracy:   100.00% <---> 100.00%\n",
      "Mean accuracy:      100.00% +- 0.000%\n"
     ]
    }
   ],
   "source": [
    "model = LinearSVC(loss='squared_hinge', dual=False, tol=1e-9, random_state=seed, verbose=1)\n",
    "# model.fit(X_train, y_train) # used before cross-val\n",
    "acc_strat, y_pred = Train_stratCV(model, X, y, 5, seed)"
   ]
  },
  {
   "cell_type": "code",
   "execution_count": 188,
   "id": "cdb5be7e",
   "metadata": {
    "ExecuteTime": {
     "end_time": "2021-08-30T01:50:36.832150Z",
     "start_time": "2021-08-30T01:50:36.819840Z"
    },
    "code_folding": [
     0
    ],
    "scrolled": false
   },
   "outputs": [],
   "source": [
    "# # Get prediction statistics (used before cross-val)\n",
    "# y_pred = model.predict(X_test)\n",
    "# print('Confusion matrix: \\n', confusion_matrix(y_test, y_pred))\n",
    "# print('\\nReport: \\n', classification_report(y_test, y_pred, digits=3))\n",
    "\n",
    "# print(f'Mean accuracy on test set: {model.score(X_test, y_test):.2%}')\n",
    "\n",
    "# y_prob = model.predict_proba(X_test)\n",
    "# print(f'Mean certainty (even if wrong): {np.mean(np.max(y_prob, axis=1)):.2%}')"
   ]
  },
  {
   "cell_type": "markdown",
   "id": "d8aa52a1",
   "metadata": {},
   "source": [
    "#### Gaussian kernel"
   ]
  },
  {
   "cell_type": "code",
   "execution_count": 194,
   "id": "9b85a04e",
   "metadata": {
    "ExecuteTime": {
     "end_time": "2021-08-30T02:08:28.498879Z",
     "start_time": "2021-08-30T02:04:58.292370Z"
    }
   },
   "outputs": [
    {
     "name": "stdout",
     "output_type": "stream",
     "text": [
      "[LibSVM][LibSVM][LibSVM][LibSVM][LibSVM]\n",
      "List of accuracies: [0.5885, 0.5955, 0.61, 0.6235, 0.5655]\n",
      "Min/max accuracy:   56.55% <---> 62.35%\n",
      "Mean accuracy:      59.66% +- 1.968%\n"
     ]
    }
   ],
   "source": [
    "model = SVC(kernel='rbf', tol=1e-9, probability=True, random_state=seed, verbose=True)\n",
    "# model.fit(X_train, y_train) # used before cross-val\n",
    "acc_strat, y_pred = Train_stratCV(model, X, y, 5, seed)"
   ]
  },
  {
   "cell_type": "code",
   "execution_count": 189,
   "id": "185eccdf",
   "metadata": {
    "ExecuteTime": {
     "end_time": "2021-08-30T01:50:54.686859Z",
     "start_time": "2021-08-30T01:50:54.673360Z"
    },
    "code_folding": [
     0
    ]
   },
   "outputs": [],
   "source": [
    "# # Get prediction statistics (used before cross-val)\n",
    "# y_pred = model.predict(X_test)\n",
    "# print('Confusion matrix: \\n', confusion_matrix(y_test, y_pred))\n",
    "# print('\\nReport: \\n', classification_report(y_test, y_pred, digits=3))\n",
    "\n",
    "# print(f'Mean accuracy on test set: {model.score(X_test, y_test):.2%}')\n",
    "\n",
    "# y_prob = model.predict_proba(X_test)\n",
    "# print(f'Mean certainty (even if wrong): {np.mean(np.max(y_prob, axis=1)):.2%}')"
   ]
  },
  {
   "cell_type": "markdown",
   "id": "3d130321",
   "metadata": {},
   "source": [
    "#### Polynomial kernel"
   ]
  },
  {
   "cell_type": "code",
   "execution_count": 193,
   "id": "b94b08c3",
   "metadata": {
    "ExecuteTime": {
     "end_time": "2021-08-30T02:04:52.406771Z",
     "start_time": "2021-08-30T01:55:33.036649Z"
    }
   },
   "outputs": [
    {
     "name": "stdout",
     "output_type": "stream",
     "text": [
      "[LibSVM][LibSVM][LibSVM][LibSVM][LibSVM]\n",
      "List of accuracies: [1.0, 1.0, 1.0, 1.0, 1.0]\n",
      "Min/max accuracy:   100.00% <---> 100.00%\n",
      "Mean accuracy:      100.00% +- 0.000%\n"
     ]
    }
   ],
   "source": [
    "model = SVC(kernel='poly', degree=6, tol=1e-9, probability=True, random_state=seed, verbose=True)\n",
    "# model.fit(X_train, y_train) # used before cross-val\n",
    "acc_strat, y_pred = Train_stratCV(model, X, y, 5, seed)"
   ]
  },
  {
   "cell_type": "code",
   "execution_count": 657,
   "id": "e7651bd2",
   "metadata": {
    "ExecuteTime": {
     "end_time": "2021-08-25T05:34:53.238485Z",
     "start_time": "2021-08-25T05:34:53.226514Z"
    },
    "code_folding": [
     0
    ]
   },
   "outputs": [],
   "source": [
    "# # Get prediction statistics (used before cross-val)\n",
    "# y_pred = model.predict(X_test)\n",
    "# print('Confusion matrix: \\n', confusion_matrix(y_test, y_pred))\n",
    "# print('\\nReport: \\n', classification_report(y_test, y_pred, digits=3))\n",
    "\n",
    "# print(f'Mean accuracy on test set: {model.score(X_test, y_test):.2%}')\n",
    "\n",
    "# y_prob = model.predict_proba(X_test)\n",
    "# print(f'Mean certainty (even if wrong): {np.mean(np.max(y_prob, axis=1)):.2%}')"
   ]
  },
  {
   "cell_type": "markdown",
   "id": "4e1ccbda",
   "metadata": {},
   "source": [
    "#### Sigmoid kernel"
   ]
  },
  {
   "cell_type": "code",
   "execution_count": 192,
   "id": "35eea68c",
   "metadata": {
    "ExecuteTime": {
     "end_time": "2021-08-30T01:55:26.411670Z",
     "start_time": "2021-08-30T01:52:04.531019Z"
    }
   },
   "outputs": [
    {
     "name": "stdout",
     "output_type": "stream",
     "text": [
      "[LibSVM][LibSVM][LibSVM][LibSVM][LibSVM]\n",
      "List of accuracies: [0.5015, 0.5015, 0.5015, 0.5015, 0.502]\n",
      "Min/max accuracy:   50.15% <---> 50.20%\n",
      "Mean accuracy:      50.16% +- 0.020%\n"
     ]
    }
   ],
   "source": [
    "model = SVC(kernel='sigmoid', tol=1e-9, probability=True, random_state=seed, verbose=True)\n",
    "# model.fit(X_train, y_train) # used before cross-val\n",
    "acc_strat, y_pred = Train_stratCV(model, X, y, 5, seed)"
   ]
  },
  {
   "cell_type": "code",
   "execution_count": 658,
   "id": "0f0a2222",
   "metadata": {
    "ExecuteTime": {
     "end_time": "2021-08-25T05:35:03.651342Z",
     "start_time": "2021-08-25T05:35:03.638378Z"
    },
    "code_folding": [
     0
    ],
    "scrolled": false
   },
   "outputs": [],
   "source": [
    "# # Get prediction statistics (used before cross-val)\n",
    "# y_pred = model.predict(X_test)\n",
    "# print('Confusion matrix: \\n', confusion_matrix(y_test, y_pred))\n",
    "# print('\\nReport: \\n', classification_report(y_test, y_pred, digits=3))\n",
    "\n",
    "# print(f'Mean accuracy on test set: {model.score(X_test, y_test):.2%}')\n",
    "\n",
    "# y_prob = model.predict_proba(X_test)\n",
    "# print(f'Mean certainty (even if wrong): {np.mean(np.max(y_prob, axis=1)):.2%}')"
   ]
  },
  {
   "cell_type": "markdown",
   "id": "1f4231d0",
   "metadata": {},
   "source": [
    "### Naïve Bayes"
   ]
  },
  {
   "cell_type": "markdown",
   "id": "350bca37",
   "metadata": {},
   "source": [
    "#### Gaussian NB"
   ]
  },
  {
   "cell_type": "code",
   "execution_count": 190,
   "id": "48e357b4",
   "metadata": {
    "ExecuteTime": {
     "end_time": "2021-08-30T01:51:19.303504Z",
     "start_time": "2021-08-30T01:51:19.251321Z"
    }
   },
   "outputs": [
    {
     "name": "stdout",
     "output_type": "stream",
     "text": [
      "\n",
      "List of accuracies: [0.514, 0.518, 0.504, 0.5285, 0.497]\n",
      "Min/max accuracy:   49.70% <---> 52.85%\n",
      "Mean accuracy:      51.23% +- 1.096%\n"
     ]
    }
   ],
   "source": [
    "model = GaussianNB()\n",
    "# model.fit(X_train, y_train) # used before cross-val\n",
    "acc_strat, y_pred = Train_stratCV(model, X, y, 5, seed)"
   ]
  },
  {
   "cell_type": "code",
   "execution_count": 72,
   "id": "250ce4c8",
   "metadata": {
    "ExecuteTime": {
     "end_time": "2021-08-25T06:44:50.199565Z",
     "start_time": "2021-08-25T06:44:50.183608Z"
    },
    "code_folding": [
     0
    ]
   },
   "outputs": [],
   "source": [
    "# # Get prediction statistics (used before cross-val)\n",
    "# y_pred = model.predict(X_test)\n",
    "# print('Confusion matrix: \\n', confusion_matrix(y_test, y_pred))\n",
    "# print('\\nReport: \\n', classification_report(y_test, y_pred, digits=3))\n",
    "\n",
    "# print(f'Mean accuracy on test set: {model.score(X_test, y_test):.2%}')\n",
    "\n",
    "# y_prob = model.predict_proba(X_test)\n",
    "# print(f'Mean certainty (even if wrong): {np.mean(np.max(y_prob, axis=1)):.2%}')"
   ]
  },
  {
   "cell_type": "markdown",
   "id": "687d07fb",
   "metadata": {},
   "source": [
    "#### Multinomial NB"
   ]
  },
  {
   "cell_type": "code",
   "execution_count": 191,
   "id": "89dfa242",
   "metadata": {
    "ExecuteTime": {
     "end_time": "2021-08-30T01:51:28.674118Z",
     "start_time": "2021-08-30T01:51:28.643898Z"
    }
   },
   "outputs": [
    {
     "name": "stdout",
     "output_type": "stream",
     "text": [
      "\n",
      "List of accuracies: [0.509, 0.521, 0.528, 0.5345, 0.51]\n",
      "Min/max accuracy:   50.90% <---> 53.45%\n",
      "Mean accuracy:      52.05% +- 0.995%\n"
     ]
    }
   ],
   "source": [
    "model = MultinomialNB()\n",
    "# model.fit(X_train, y_train) # used before cross-val\n",
    "acc_strat, y_pred = Train_stratCV(model, X, y, 5, seed)"
   ]
  },
  {
   "cell_type": "code",
   "execution_count": 43,
   "id": "dae42455",
   "metadata": {
    "ExecuteTime": {
     "end_time": "2021-08-25T05:53:35.319986Z",
     "start_time": "2021-08-25T05:53:35.307021Z"
    },
    "code_folding": [
     0
    ]
   },
   "outputs": [],
   "source": [
    "# # Get prediction statistics (used before cross-val)\n",
    "# y_pred = model.predict(X_test)\n",
    "# print('Confusion matrix: \\n', confusion_matrix(y_test, y_pred))\n",
    "# print('\\nReport: \\n', classification_report(y_test, y_pred, digits=3))\n",
    "\n",
    "# print(f'Mean accuracy on test set: {model.score(X_test, y_test):.2%}')\n",
    "\n",
    "# y_prob = model.predict_proba(X_test)\n",
    "# print(f'Mean certainty (even if wrong): {np.mean(np.max(y_prob, axis=1)):.2%}')"
   ]
  },
  {
   "cell_type": "markdown",
   "id": "ec4488ca",
   "metadata": {},
   "source": [
    "#### Categorical NB"
   ]
  },
  {
   "cell_type": "code",
   "execution_count": 183,
   "id": "4cc285c6",
   "metadata": {
    "ExecuteTime": {
     "end_time": "2021-08-30T01:49:41.465472Z",
     "start_time": "2021-08-30T01:49:41.435427Z"
    }
   },
   "outputs": [
    {
     "data": {
      "text/plain": [
       "CategoricalNB()"
      ]
     },
     "execution_count": 183,
     "metadata": {},
     "output_type": "execute_result"
    }
   ],
   "source": [
    "model = CategoricalNB()\n",
    "model.fit(X_train, y_train) # used before cross-val\n",
    "# acc_strat, y_pred = Train_stratCV(model, X, y, 5, seed) # not working"
   ]
  },
  {
   "cell_type": "code",
   "execution_count": 184,
   "id": "903986a5",
   "metadata": {
    "ExecuteTime": {
     "end_time": "2021-08-30T01:49:50.329076Z",
     "start_time": "2021-08-30T01:49:50.286093Z"
    },
    "scrolled": false
   },
   "outputs": [
    {
     "name": "stdout",
     "output_type": "stream",
     "text": [
      "Confusion matrix: \n",
      " [[495 502]\n",
      " [431 572]]\n",
      "\n",
      "Report: \n",
      "               precision    recall  f1-score   support\n",
      "\n",
      "       False      0.535     0.496     0.515       997\n",
      "        True      0.533     0.570     0.551      1003\n",
      "\n",
      "    accuracy                          0.533      2000\n",
      "   macro avg      0.534     0.533     0.533      2000\n",
      "weighted avg      0.534     0.533     0.533      2000\n",
      "\n",
      "Mean accuracy on test set: 53.35%\n",
      "Mean certainty (even if wrong): 64.17%\n"
     ]
    }
   ],
   "source": [
    "# Get prediction statistics (used before cross-val)\n",
    "y_pred = model.predict(X_test)\n",
    "print('Confusion matrix: \\n', confusion_matrix(y_test, y_pred))\n",
    "print('\\nReport: \\n', classification_report(y_test, y_pred, digits=3))\n",
    "\n",
    "print(f'Mean accuracy on test set: {model.score(X_test, y_test):.2%}')\n",
    "\n",
    "y_prob = model.predict_proba(X_test)\n",
    "print(f'Mean certainty (even if wrong): {np.mean(np.max(y_prob, axis=1)):.2%}')"
   ]
  }
 ],
 "metadata": {
  "kernelspec": {
   "display_name": "Python [conda env:thesis]",
   "language": "python",
   "name": "conda-env-thesis-py"
  },
  "language_info": {
   "codemirror_mode": {
    "name": "ipython",
    "version": 3
   },
   "file_extension": ".py",
   "mimetype": "text/x-python",
   "name": "python",
   "nbconvert_exporter": "python",
   "pygments_lexer": "ipython3",
   "version": "3.8.12"
  },
  "toc": {
   "base_numbering": 1,
   "nav_menu": {},
   "number_sections": true,
   "sideBar": true,
   "skip_h1_title": false,
   "title_cell": "Contents",
   "title_sidebar": "Contents",
   "toc_cell": false,
   "toc_position": {
    "height": "541.6px",
    "left": "37px",
    "top": "218.2px",
    "width": "216.2px"
   },
   "toc_section_display": true,
   "toc_window_display": true
  },
  "varInspector": {
   "cols": {
    "lenName": 16,
    "lenType": 16,
    "lenVar": 40
   },
   "kernels_config": {
    "python": {
     "delete_cmd_postfix": "",
     "delete_cmd_prefix": "del ",
     "library": "var_list.py",
     "varRefreshCmd": "print(var_dic_list())"
    },
    "r": {
     "delete_cmd_postfix": ") ",
     "delete_cmd_prefix": "rm(",
     "library": "var_list.r",
     "varRefreshCmd": "cat(var_dic_list()) "
    }
   },
   "oldHeight": 188.4,
   "position": {
    "height": "210.4px",
    "left": "1008px",
    "right": "20px",
    "top": "88px",
    "width": "516px"
   },
   "types_to_exclude": [
    "module",
    "function",
    "builtin_function_or_method",
    "instance",
    "_Feature"
   ],
   "varInspector_section_display": "block",
   "window_display": false
  }
 },
 "nbformat": 4,
 "nbformat_minor": 5
}
