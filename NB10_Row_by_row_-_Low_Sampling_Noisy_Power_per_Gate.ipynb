{
 "cells": [
  {
   "cell_type": "code",
   "execution_count": 2,
   "id": "3c56d89b",
   "metadata": {
    "ExecuteTime": {
     "end_time": "2022-03-17T16:02:09.202147Z",
     "start_time": "2022-03-17T16:02:09.175685Z"
    },
    "scrolled": true
   },
   "outputs": [
    {
     "name": "stderr",
     "output_type": "stream",
     "text": [
      "Intel(R) Extension for Scikit-learn* enabled (https://github.com/intel/scikit-learn-intelex)\n"
     ]
    }
   ],
   "source": [
    "import timeit\n",
    "from datetime import timedelta\n",
    "import numpy as np\n",
    "import pandas as pd\n",
    "# from pandas_profiling import ProfileReport\n",
    "# import lux # slows down dataframe processing\n",
    "import matplotlib.pyplot as plt\n",
    "%matplotlib inline\n",
    "import joblib\n",
    "\n",
    "from sklearnex import patch_sklearn\n",
    "patch_sklearn()\n",
    "\n",
    "from sklearn.model_selection import train_test_split, StratifiedKFold, cross_val_score\n",
    "from sklearn.linear_model import LogisticRegression, SGDClassifier\n",
    "from sklearn.svm import SVC, LinearSVC\n",
    "from sklearn.naive_bayes import GaussianNB, MultinomialNB, CategoricalNB\n",
    "from sklearn.tree import DecisionTreeClassifier\n",
    "from sklearn.metrics import accuracy_score, zero_one_loss, hamming_loss, classification_report, confusion_matrix, \\\n",
    "                            ConfusionMatrixDisplay\n",
    "\n",
    "np.set_printoptions(suppress=True) # do not print scientific notation\n",
    "\n",
    "# Set some matplotlib style parameters\n",
    "plt.style.use('seaborn')\n",
    "plt.rcParams.update({'figure.facecolor' : 'white',\n",
    "                     'figure.edgecolor' : 'white',\n",
    "                     'axes.grid'        : True,\n",
    "                     # 'axes.axisbelow'   : True,\n",
    "                     'figure.autolayout': True # tight_layout\n",
    "                    })\n",
    "\n",
    "# Set some pandas options\n",
    "pd.set_option('display.max_columns', None, # show x columns (None shows all)\n",
    "              # 'display.max_rows', None,  # show x rows    (None shows all)\n",
    "              'compute.use_numba', True)   # turn off for Lux"
   ]
  },
  {
   "cell_type": "code",
   "execution_count": 2,
   "id": "10eaff45",
   "metadata": {
    "ExecuteTime": {
     "end_time": "2022-03-11T03:24:39.893496Z",
     "start_time": "2022-03-11T03:24:39.890075Z"
    }
   },
   "outputs": [],
   "source": [
    "nb_name = 'row_by_row' # for saving objects with joblib\n",
    "seed = 42\n",
    "rng = np.random.default_rng(seed)\n",
    "\n",
    "n = secure_bits = 5         # rows\n",
    "m = corrected_key_bits = 10 # columns\n",
    "N_vec = 1000                # nº of corrected key vectors"
   ]
  },
  {
   "cell_type": "markdown",
   "id": "333ab43c",
   "metadata": {
    "ExecuteTime": {
     "end_time": "2021-08-05T19:00:12.884341Z",
     "start_time": "2021-08-05T19:00:12.870374Z"
    }
   },
   "source": [
    "## Functions"
   ]
  },
  {
   "cell_type": "markdown",
   "id": "f6c9c258",
   "metadata": {},
   "source": [
    "### Detect power consumption of basic gates"
   ]
  },
  {
   "cell_type": "code",
   "execution_count": 3,
   "id": "4461dfc5",
   "metadata": {
    "ExecuteTime": {
     "end_time": "2022-03-11T03:24:41.167564Z",
     "start_time": "2022-03-11T03:24:41.162764Z"
    },
    "code_folding": []
   },
   "outputs": [],
   "source": [
    "def get_product_power(mat, vec, gate_powers, noise_std=0.):\n",
    "    '''Returns: array with the power consumed by the gates of each product.\n",
    "    Set noise_std = 0 to eliminate noise.'''\n",
    "    n, m = mat.shape\n",
    "    count = [[] for _ in range(n)]\n",
    "    for i in range(n):\n",
    "        for j in range(m):\n",
    "            idx = 2 * mat[i, j] + vec[j]\n",
    "            count[i].extend(gate_powers[idx] + rng.normal(scale=noise_std, size=gate_powers[idx].size))\n",
    "    return count # size = n * m * gate_powers[idx].size"
   ]
  },
  {
   "cell_type": "code",
   "execution_count": 4,
   "id": "9a46243d",
   "metadata": {
    "ExecuteTime": {
     "end_time": "2022-03-11T03:24:41.477854Z",
     "start_time": "2022-03-11T03:24:41.473377Z"
    },
    "code_folding": []
   },
   "outputs": [],
   "source": [
    "def get_sum_power(mat, vec, gate_powers, noise_std=0.):\n",
    "    '''Returns: array with the power consumed by the gates of each sum.\n",
    "    Set noise_std = 0 to eliminate noise.'''\n",
    "    n, m = mat.shape\n",
    "    count = [[] for _ in range(n)]\n",
    "    for i in range(n):\n",
    "        result = 0\n",
    "        for j in range(m):\n",
    "            next_element = mat[i, j] * vec[j]\n",
    "            idx = 2 * result + next_element\n",
    "            count[i].extend(gate_powers[idx] + rng.normal(scale=noise_std, size=gate_powers[idx].size))\n",
    "            result = (result + next_element) % 2\n",
    "    return count # size = n * m * gate_powers[idx].size"
   ]
  },
  {
   "cell_type": "code",
   "execution_count": 5,
   "id": "475c9df9",
   "metadata": {
    "ExecuteTime": {
     "end_time": "2022-03-11T03:24:41.702042Z",
     "start_time": "2022-03-11T03:24:41.699682Z"
    },
    "code_folding": [
     0
    ]
   },
   "outputs": [],
   "source": [
    "# # TEST\n",
    "# mat = np.asarray([[0, 1, 1, 0, 1],\n",
    "#                   [1, 0, 1, 1, 1],\n",
    "#                   [1, 1, 1, 1, 1],\n",
    "#                   [0, 0, 0, 0, 0]])\n",
    "# # vec = np.asarray([0, 0, 0, 0, 0])\n",
    "# # vec = np.asarray([1, 1, 1, 1, 1])\n",
    "# vec = np.asarray([1, 1, 1, 0, 0])\n",
    "# power_products = np.asarray([[.1, 1.1], [.2, 1.2], [.3, 1.3], [.4, 1.4]])\n",
    "# power_sums = np.asarray([[1.1, 2.1], [1.2, 2.2], [1.3, 2.3], [1.4, 2.4]])\n",
    "\n",
    "# print(mat @ vec % 2, '\\n')\n",
    "# count = get_product_power(mat, vec, power_products, 0.01)\n",
    "# print(np.around(count, 3), '\\n')\n",
    "# count = get_sum_power(mat, vec, power_sums, 0.01)\n",
    "# print(np.around(count, 3))"
   ]
  },
  {
   "cell_type": "markdown",
   "id": "32abfb3a",
   "metadata": {},
   "source": [
    "### Class"
   ]
  },
  {
   "cell_type": "code",
   "execution_count": 6,
   "id": "ae72549a",
   "metadata": {
    "ExecuteTime": {
     "end_time": "2022-03-11T03:24:42.082860Z",
     "start_time": "2022-03-11T03:24:42.080086Z"
    },
    "code_folding": []
   },
   "outputs": [],
   "source": [
    "# Detect if there are more 1s than 0s\n",
    "# def More_1_than_0(mat, vec):\n",
    "#     return np.sum(mat @ vec % 2) > secure_bits / 2\n",
    "\n",
    "# Detect full solution\n",
    "def Full_solution(mat, vec):\n",
    "    return mat @ vec % 2"
   ]
  },
  {
   "cell_type": "markdown",
   "id": "bfd3583e",
   "metadata": {},
   "source": [
    "### Other"
   ]
  },
  {
   "cell_type": "code",
   "execution_count": 7,
   "id": "e78f260d",
   "metadata": {
    "ExecuteTime": {
     "end_time": "2022-03-11T03:24:42.725517Z",
     "start_time": "2022-03-11T03:24:42.721087Z"
    }
   },
   "outputs": [],
   "source": [
    "# Check if input & output vectors from sample are unique\n",
    "def Check_uniqueness(mat, vec):\n",
    "    res = []\n",
    "    for i in range(len(vec)):\n",
    "        res.append(mat @ vec[i] % 2)\n",
    "    unique_in  = np.unique(vec, axis=0)\n",
    "    unique_out = np.unique(res, axis=0)\n",
    "    return unique_in.shape[0], unique_out.shape[0]"
   ]
  },
  {
   "cell_type": "markdown",
   "id": "8ae9b25b",
   "metadata": {},
   "source": [
    "## Generate data"
   ]
  },
  {
   "cell_type": "code",
   "execution_count": 8,
   "id": "64ae1572",
   "metadata": {
    "ExecuteTime": {
     "end_time": "2022-03-11T03:24:43.329440Z",
     "start_time": "2022-03-11T03:24:43.323467Z"
    }
   },
   "outputs": [
    {
     "data": {
      "text/plain": [
       "((5, 10),\n",
       " array([[1, 0, 1, 0, 1, 1, 0, 1, 1, 1],\n",
       "        [1, 1, 0, 0, 0, 0, 0, 0, 1, 0],\n",
       "        [1, 0, 1, 1, 1, 1, 0, 0, 0, 1],\n",
       "        [1, 1, 1, 1, 1, 0, 1, 0, 0, 0],\n",
       "        [1, 0, 1, 1, 1, 0, 1, 1, 0, 0]], dtype=int8))"
      ]
     },
     "execution_count": 8,
     "metadata": {},
     "output_type": "execute_result"
    }
   ],
   "source": [
    "mat = rng.integers(2, size=(secure_bits,corrected_key_bits), dtype=np.int8)\n",
    "\n",
    "mat.shape, mat"
   ]
  },
  {
   "cell_type": "code",
   "execution_count": 9,
   "id": "d3a84273",
   "metadata": {
    "ExecuteTime": {
     "end_time": "2022-03-11T03:24:43.600175Z",
     "start_time": "2022-03-11T03:24:43.576903Z"
    }
   },
   "outputs": [
    {
     "data": {
      "text/plain": [
       "((1000, 10), array([0, 0, 1, 1, 0, 1, 1, 1, 1, 1], dtype=int8))"
      ]
     },
     "execution_count": 9,
     "metadata": {},
     "output_type": "execute_result"
    }
   ],
   "source": [
    "vec = [rng.integers(2, size=corrected_key_bits, dtype=np.int8) for _ in range(N_vec)]\n",
    "\n",
    "np.shape(vec), vec[0]"
   ]
  },
  {
   "cell_type": "code",
   "execution_count": 10,
   "id": "01ed0428",
   "metadata": {
    "ExecuteTime": {
     "end_time": "2022-03-11T03:24:44.053094Z",
     "start_time": "2022-03-11T03:24:44.044158Z"
    }
   },
   "outputs": [
    {
     "name": "stdout",
     "output_type": "stream",
     "text": [
      "1000 inputs: 632 unique inputs, 32 unique solutions\n"
     ]
    }
   ],
   "source": [
    "unique_in, unique_out = Check_uniqueness(mat, vec)\n",
    "print(f'{N_vec} inputs: {unique_in} unique inputs, {unique_out} unique solutions')"
   ]
  },
  {
   "cell_type": "markdown",
   "id": "200caaf9",
   "metadata": {},
   "source": [
    "Assumptions on power consumption (based on https://ieeexplore.ieee.org/document/6644863):\n",
    "- NOT:\n",
    "    - 0 - 6.73 pA\n",
    "    - 1 - 7.45 pA\n",
    "- 2-input NOR:\n",
    "    - 00 - 13.50 pA\n",
    "    - 01 - 12.80 pA\n",
    "    - 10 - &nbsp; 7.93 pA\n",
    "    - 11 - &nbsp; 5.93 pA\n",
    "- 2-input NAND:\n",
    "    - 00 - &nbsp; 5.79 pA\n",
    "    - 01 - &nbsp; 7.00 pA\n",
    "    - 10 - 11.77 pA\n",
    "    - 11 - 14.91 pA\n",
    "\n",
    "Writing our operations in the gates above:\n",
    "- A\\*B &nbsp;= AND(A, B)\n",
    "= NOT(NAND(A, B))\n",
    "\n",
    "- A+B = XOR(A, B)\n",
    "= NOT(A<=>B)\n",
    "= NOT(AND(A->B, B->A))\n",
    "= NAND(A->B, B->A)\n",
    "= NAND(OR(NOT(A), B), OR(NOT(B), A)) =  \n",
    "&nbsp; &nbsp; &nbsp; &nbsp; = NAND(NOT(NOR(NOT(A), B)), NOT(NOR(NOT(B), A)))\n",
    "\n",
    "Thus:\n",
    "- 0\\*0: &nbsp; &nbsp; 5.79 + 7.45 = 13.24 pA\n",
    "- 0\\*1: &nbsp; &nbsp; 7.00 + 7.45 = 14.45 pA\n",
    "- 1\\*0: &nbsp; 11.77 + 7.45 = 19.22 pA\n",
    "- 1\\*1: &nbsp; 14.91 + 6.73 = 21.64 pA\n",
    "\n",
    "\n",
    "- 0+0: &nbsp; 6.73 + 6.73 + &nbsp; 7.93 + &nbsp; 7.93 + 6.73 + 6.73 + 14.91 = 57.69 pA\n",
    "- 0+1: &nbsp; 6.73 + 7.45 + &nbsp; 5.93 + 13.50 + 6.73 + 7.45 + 11.77 = 59.56 pA\n",
    "- 1+0: &nbsp; 7.45 + 6.73 + 13.50 + &nbsp; 5.93 + 7.45 + 6.73 + &nbsp; 7.00 = 54.79 pA\n",
    "- 1+1: &nbsp; 7.45 + 7.45 + 12.80 + 12.80 + 6.73 + 6.73 + 14.91 = 68.87 pA"
   ]
  },
  {
   "cell_type": "code",
   "execution_count": 11,
   "id": "5b228cb7",
   "metadata": {
    "ExecuteTime": {
     "end_time": "2022-03-11T03:24:44.548363Z",
     "start_time": "2022-03-11T03:24:44.457202Z"
    }
   },
   "outputs": [],
   "source": [
    "# Define power consumption for each gate & noise level\n",
    "power_product_gates = np.asarray([[5.79, 7.45], [7., 7.45], [11.77, 7.45], [14.91, 6.73]]) # 0*0, 0*1, 1*0, 1*1\n",
    "power_sum_gates = np.asarray([[6.73, 6.73, 7.93, 7.93, 6.73, 6.73, 14.91],  # '0+0' gates\n",
    "                              [6.73, 7.45, 5.93, 13.5, 6.73, 7.45, 11.77],  # '0+1' gates\n",
    "                              [7.45, 6.73, 13.5, 5.93, 7.45, 6.73, 7.],     # '1+0' gates\n",
    "                              [7.45, 7.45, 12.8, 12.8, 6.73, 6.73, 14.91]]) # '1+1' gates\n",
    "noise_std = 0.05 + 0.0 # article measurement precision + hacker device noise"
   ]
  },
  {
   "cell_type": "code",
   "execution_count": 12,
   "id": "6e42c81d",
   "metadata": {
    "ExecuteTime": {
     "end_time": "2022-03-11T03:24:44.955017Z",
     "start_time": "2022-03-11T03:24:44.952797Z"
    }
   },
   "outputs": [],
   "source": [
    "# i = 0\n",
    "# print('Products:\\n', np.around(get_product_power(mat, vec[i], power_product_gates, noise_std), 3))\n",
    "# print('Sums:\\n', np.around(get_sum_power(mat, vec[i], power_sum_gates, noise_std), 3))"
   ]
  },
  {
   "cell_type": "code",
   "execution_count": 13,
   "id": "007e2611",
   "metadata": {
    "ExecuteTime": {
     "end_time": "2022-03-11T03:24:45.364988Z",
     "start_time": "2022-03-11T03:24:45.363008Z"
    }
   },
   "outputs": [],
   "source": [
    "# print(\"Full solution\")\n",
    "# print(\"-------------\")\n",
    "# for i in range(10):\n",
    "#     print(Full_solution(mat, vec[i]))"
   ]
  },
  {
   "cell_type": "code",
   "execution_count": 14,
   "id": "743bec2b",
   "metadata": {
    "ExecuteTime": {
     "end_time": "2022-03-11T03:24:46.906567Z",
     "start_time": "2022-03-11T03:24:45.767912Z"
    }
   },
   "outputs": [
    {
     "data": {
      "text/plain": [
       "(1000, 455)"
      ]
     },
     "execution_count": 14,
     "metadata": {},
     "output_type": "execute_result"
    }
   ],
   "source": [
    "# Order data by time (row by row)\n",
    "data = [[] for _ in range(N_vec)]\n",
    "for i in range(N_vec):\n",
    "    product_power = get_product_power(mat, vec[i], power_product_gates, noise_std)\n",
    "    sum_power     = get_sum_power(mat, vec[i], power_sum_gates, noise_std)\n",
    "    for j in range(n):\n",
    "        data[i].extend(product_power[j])\n",
    "        data[i].extend(sum_power[j])\n",
    "    data[i].extend(Full_solution(mat, vec[i]))\n",
    "\n",
    "data = np.asarray(data)\n",
    "data.shape"
   ]
  },
  {
   "cell_type": "code",
   "execution_count": 15,
   "id": "3e32f852",
   "metadata": {
    "ExecuteTime": {
     "end_time": "2022-03-11T03:24:47.293931Z",
     "start_time": "2022-03-11T03:24:47.289529Z"
    },
    "scrolled": false
   },
   "outputs": [
    {
     "data": {
      "text/plain": [
       "(1000, 155)"
      ]
     },
     "execution_count": 15,
     "metadata": {},
     "output_type": "execute_result"
    }
   ],
   "source": [
    "# Lower data sampling\n",
    "sampling_interval = 3 # in gates\n",
    "data_low_sampling = data[:, 0:-n:sampling_interval]\n",
    "data_low_sampling = np.append(data_low_sampling, data[:, -n:], axis=1)\n",
    "\n",
    "data_low_sampling.shape"
   ]
  },
  {
   "cell_type": "code",
   "execution_count": 16,
   "id": "515ff3da",
   "metadata": {
    "ExecuteTime": {
     "end_time": "2022-03-11T03:24:47.736301Z",
     "start_time": "2022-03-11T03:24:47.687665Z"
    }
   },
   "outputs": [],
   "source": [
    "# Create dataframe with raw data\n",
    "df = pd.DataFrame(data_low_sampling)\n",
    "df.drop_duplicates(inplace=True, ignore_index=True)\n",
    "# np.around(df, 3)"
   ]
  },
  {
   "cell_type": "code",
   "execution_count": null,
   "id": "875ed900",
   "metadata": {
    "code_folding": []
   },
   "outputs": [],
   "source": [
    "# Plot full power consumption through time\n",
    "y = df.iloc[0][:-n]\n",
    "X = np.arange(len(y))\n",
    "\n",
    "# Plot line\n",
    "plt.figure(figsize=(16, 4))\n",
    "plt.plot(X, y, '-', label='Record 0') # colors: b,g,r,c,m,y,k,w\n",
    "plt.xlim(X.min(), X.max()*1.01)\n",
    "plt.ylim(y.min()*0.925, y.max()*1.075)\n",
    "# plt.xticks(np.arange(0, len(y)+1, 250))\n",
    "# plt.yticks(np.arange(6, 16.1, 2))\n",
    "\n",
    "# Set labels\n",
    "plt.legend() # loc='best', 'upper right', 'lower left', ...\n",
    "plt.xlabel('Data point')\n",
    "plt.ylabel('Power consumption ($pA$)')\n",
    "plt.title('Total Power consumption', fontsize=14)\n",
    "\n",
    "# plt.savefig(f'Results/Other/power_consumption_total_{n}x{m}_noise_std={noise_std}_sampling={sampling_interval}.png', dpi=200)\n",
    "plt.show()\n",
    "\n",
    "# Plot power consumption of one row through time\n",
    "line_length = int(np.ceil(m * (power_product_gates.shape[1] + power_sum_gates.shape[1]) / sampling_interval))\n",
    "X = np.arange(line_length)\n",
    "y = df.iloc[0][:line_length]\n",
    "\n",
    "# Plot line\n",
    "plt.figure(figsize=(16, 4))\n",
    "plt.plot(X, y, '-', label='Record 0') # colors: b,g,r,c,m,y,k,w\n",
    "plt.xlim(X.min(), X.max()*1.01)\n",
    "# plt.ylim(y.min()*0.925, y.max()*1.075)\n",
    "# plt.xticks(np.arange(0, line_length+1, 10))\n",
    "# plt.yticks(np.arange(6, 16.1, 2))\n",
    "\n",
    "# Set labels\n",
    "plt.legend() # loc='best', 'upper right', 'lower left', ...\n",
    "plt.xlabel('Data point')\n",
    "plt.ylabel('Power consumption ($pA$)')\n",
    "plt.title('Power consumption of one row', fontsize=14)\n",
    "\n",
    "# plt.savefig(f'Results/Other/power_consumption_one_row_{n}x{m}_noise_std={noise_std}_sampling={sampling_interval}.png', dpi=200)\n",
    "plt.show()"
   ]
  },
  {
   "cell_type": "code",
   "execution_count": null,
   "id": "f184d0a5",
   "metadata": {
    "code_folding": [
     0
    ]
   },
   "outputs": [],
   "source": [
    "# FULL RESOLUTION (1 gate) ----- # Plot full power consumption through time\n",
    "y = df.iloc[0][:-n]\n",
    "X = np.arange(len(y))\n",
    "\n",
    "# Plot line\n",
    "plt.figure(figsize=(16, 4))\n",
    "plt.plot(X, y, '-', label='Record 0') # colors: b,g,r,c,m,y,k,w\n",
    "plt.xlim(X.min(), X.max()*1.01)\n",
    "plt.ylim(y.min()*0.925, y.max()*1.075)\n",
    "# plt.xticks(np.arange(0, len(y)+1, 1000))\n",
    "# plt.yticks(np.arange(6, 16.1, 2))\n",
    "\n",
    "# Set labels\n",
    "plt.legend() # loc='best', 'upper right', 'lower left', ...\n",
    "plt.xlabel('Data point')\n",
    "plt.ylabel('Power consumption ($pA$)')\n",
    "plt.title('Total Power consumption', fontsize=14)\n",
    "\n",
    "# plt.savefig(f'Results/Other/power_consumption_total_{n}x{m}_noise_std={noise_std}_sampling={sampling_interval}.png', dpi=200)\n",
    "plt.show()\n",
    "\n",
    "# Plot power consumption of one row through time\n",
    "line_length = m * (power_product_gates.shape[1] + power_sum_gates.shape[1])\n",
    "X = np.arange(line_length)\n",
    "y = df.iloc[0][:line_length]\n",
    "\n",
    "# Plot line\n",
    "plt.figure(figsize=(16, 4))\n",
    "plt.plot(X, y, '-', label='Record 0') # colors: b,g,r,c,m,y,k,w\n",
    "plt.xlim(X.min(), X.max()*1.01)\n",
    "# plt.ylim(y.min()*0.925, y.max()*1.075)\n",
    "# plt.xticks(np.arange(0, line_length+1, 25))\n",
    "# plt.yticks(np.arange(6, 16.1, 2))\n",
    "\n",
    "# Set labels\n",
    "plt.legend() # loc='best', 'upper right', 'lower left', ...\n",
    "plt.xlabel('Data point')\n",
    "plt.ylabel('Power consumption ($pA$)')\n",
    "plt.title('Power consumption of one row', fontsize=14)\n",
    "\n",
    "# plt.savefig(f'Results/Other/power_consumption_one_row_{n}x{m}_noise_std={noise_std}_sampling={sampling_interval}.png', dpi=200)\n",
    "plt.show()"
   ]
  },
  {
   "cell_type": "code",
   "execution_count": null,
   "id": "fa7067fe",
   "metadata": {
    "code_folding": [
     0
    ],
    "scrolled": true
   },
   "outputs": [],
   "source": [
    "# # Drop columns with equal values (worthless with noise)\n",
    "# def duplicate_columns(df):\n",
    "#     groups = df.columns.to_series().groupby(df.dtypes).groups\n",
    "#     dups = []\n",
    "#     for t, v in groups.items():\n",
    "#         dcols = df[v].to_dict(orient='list')\n",
    "#         vs = list(dcols.values())\n",
    "#         ks = list(dcols.keys())\n",
    "#         for i in range(len(vs)):\n",
    "#             for j in range(i+1, len(vs)):\n",
    "#                 if vs[i] == vs[j]: \n",
    "#                     dups.append(ks[i])\n",
    "#                     break\n",
    "#     if dups: print('Duplicate columns:', *dups)\n",
    "#     return dups\n",
    "\n",
    "# df.drop(duplicate_columns(df), axis=1, inplace=True)\n",
    "# np.around(df, 3)"
   ]
  },
  {
   "cell_type": "code",
   "execution_count": null,
   "id": "2e9b72f0",
   "metadata": {
    "code_folding": [
     0
    ]
   },
   "outputs": [],
   "source": [
    "# # Check some trends in data (turn off numba engine first)\n",
    "# pd.set_option('compute.use_numba', False)\n",
    "# df2 = df.copy()\n",
    "# df2.intent = [90] # More_1_than_0\n",
    "# display(df2)\n",
    "# pd.set_option('compute.use_numba', True)"
   ]
  },
  {
   "cell_type": "code",
   "execution_count": null,
   "id": "e2079e6b",
   "metadata": {
    "code_folding": [
     0
    ]
   },
   "outputs": [],
   "source": [
    "# # Generate pandas profiling report\n",
    "# profile = ProfileReport(\n",
    "#     df, title=f'Row_by_row Low_Sampling={sampling_interval}_Noisy_Power_per_Gate noise_std={noise_std} Dataset Report',\n",
    "#     explorative=True)\n",
    "# # profile.to_widgets()\n",
    "# profile.to_file(f'Docs/Row_by_row_-_Low_Sampling={sampling_interval}_Noisy_Power_per_Gate_noisestd={noise_std}_report.html')"
   ]
  },
  {
   "cell_type": "markdown",
   "id": "d8493810",
   "metadata": {},
   "source": [
    "### Split data"
   ]
  },
  {
   "cell_type": "code",
   "execution_count": 17,
   "id": "35615a5d",
   "metadata": {
    "ExecuteTime": {
     "end_time": "2022-03-11T03:25:10.121987Z",
     "start_time": "2022-03-11T03:25:10.114014Z"
    }
   },
   "outputs": [],
   "source": [
    "# Split data into training & test set\n",
    "X = np.asarray(df.iloc[:, :-n], order='C')\n",
    "y = np.asarray(df.iloc[:, -n:], order='C')\n",
    "assert X.flags['C_CONTIGUOUS']\n",
    "assert y.flags['C_CONTIGUOUS']\n",
    "\n",
    "X_train_raw, X_test_raw, y_train_raw, y_test_raw = train_test_split(X, y, test_size=0.2, random_state=seed)"
   ]
  },
  {
   "cell_type": "markdown",
   "id": "99a3f9c4",
   "metadata": {},
   "source": [
    "nao sei se divido rows com diferente nº de gates em dois dataframes ou se adiciono uma coluna neutra no inicio/fim às rows com menos gates."
   ]
  },
  {
   "cell_type": "code",
   "execution_count": 18,
   "id": "6d730aa5",
   "metadata": {
    "ExecuteTime": {
     "end_time": "2022-03-11T03:25:11.841510Z",
     "start_time": "2022-03-11T03:25:11.823704Z"
    },
    "scrolled": false
   },
   "outputs": [
    {
     "name": "stdout",
     "output_type": "stream",
     "text": [
      "Row limits: [0, 30, 60, 90, 120, 150]\n",
      "Max gates per row: 30\n"
     ]
    },
    {
     "data": {
      "text/plain": [
       "((4000, 30), (1000, 30))"
      ]
     },
     "execution_count": 18,
     "metadata": {},
     "output_type": "execute_result"
    }
   ],
   "source": [
    "# Separate X data by matrix rows\n",
    "row_limits = [int(np.ceil(m * (power_product_gates.shape[1] + power_sum_gates.shape[1]) * row / sampling_interval))\n",
    "              for row in range(n+1)]\n",
    "n_gates_per_row = max([row_limits[i+1] - row_limits[i] for i in range(n)])\n",
    "print(f'Row limits: {row_limits}\\n'\n",
    "      f'Max gates per row: {n_gates_per_row}')\n",
    "\n",
    "Xs = []\n",
    "for X in [X_train_raw, X_test_raw]:\n",
    "    k = len(X)\n",
    "    Xs.append(np.empty((n * k, n_gates_per_row))) # does not initialize entries!\n",
    "\n",
    "    for i in range(k):\n",
    "        for j in range(n):\n",
    "            # Get jth-row data\n",
    "            data_row_i = X[i, row_limits[j]:row_limits[j+1]]\n",
    "\n",
    "            # Augment rows with less data points\n",
    "            if data_row_i.shape[0] != n_gates_per_row:\n",
    "                data_row_i = np.insert(data_row_i, -1, 0.) # insert 0 at the beginning\n",
    "                # data_row_i = np.append(data_row_i, 0.)   # insert 0 at the end\n",
    "\n",
    "            Xs[-1][i * n + j] = data_row_i.copy()\n",
    "\n",
    "X_train, X_test = Xs\n",
    "np.shape(X_train), np.shape(X_test)"
   ]
  },
  {
   "cell_type": "code",
   "execution_count": 19,
   "id": "8c314425",
   "metadata": {
    "ExecuteTime": {
     "end_time": "2022-03-11T03:25:13.456176Z",
     "start_time": "2022-03-11T03:25:13.452555Z"
    }
   },
   "outputs": [
    {
     "name": "stdout",
     "output_type": "stream",
     "text": [
      "1s in train set: 50.95%\n",
      "1s in test set:  51.50%\n"
     ]
    }
   ],
   "source": [
    "# Separate y data by target bit\n",
    "y_train = y_train_raw.ravel('C')\n",
    "y_test  = y_test_raw.ravel('C')\n",
    "print(f'1s in train set: {y_train.mean():.2%}\\n'\n",
    "      f'1s in test set:  {y_test.mean():.2%}')"
   ]
  },
  {
   "cell_type": "code",
   "execution_count": 20,
   "id": "51faf5ac",
   "metadata": {
    "ExecuteTime": {
     "end_time": "2022-02-23T15:39:08.827831Z",
     "start_time": "2022-02-23T15:39:08.018268Z"
    }
   },
   "outputs": [
    {
     "data": {
      "text/plain": [
       "['Data/test_sets_row_by_row_32x64_noise_std=0.05_sampling=30.joblib']"
      ]
     },
     "execution_count": 20,
     "metadata": {},
     "output_type": "execute_result"
    }
   ],
   "source": [
    "# Save test set\n",
    "test_set = {'X_test': X_test,\n",
    "            'y_test': y_test}\n",
    "joblib.dump(test_set, f'Data/test_set_{nb_name}_{n}x{m}_noise_std={noise_std}_sampling={sampling_interval}.joblib', compress=3)"
   ]
  },
  {
   "cell_type": "code",
   "execution_count": null,
   "id": "bac12282",
   "metadata": {},
   "outputs": [],
   "source": [
    "# Delete unused variables to free some memory\n",
    "del df, data_low_sampling, X, y, X_train_raw, X_test_raw, y_train_raw, y_test_raw"
   ]
  },
  {
   "cell_type": "markdown",
   "id": "6e0648c2",
   "metadata": {},
   "source": [
    "## Classifiers"
   ]
  },
  {
   "cell_type": "markdown",
   "id": "41f4f223",
   "metadata": {},
   "source": [
    "### Functions to train & test models"
   ]
  },
  {
   "cell_type": "code",
   "execution_count": 20,
   "id": "a692c4af",
   "metadata": {
    "ExecuteTime": {
     "end_time": "2022-03-11T03:25:17.301561Z",
     "start_time": "2022-03-11T03:25:17.295089Z"
    },
    "code_folding": []
   },
   "outputs": [],
   "source": [
    "# Train model with stratified k-fold cross-validation & get statistics\n",
    "def Train_stratCV(model, X, y, n_splits=5, seed=seed):\n",
    "    start_time = timeit.default_timer()\n",
    "    lst_acc, lst_wrong_keys = [], []\n",
    "    skf = StratifiedKFold(n_splits, shuffle=True, random_state=seed)\n",
    "\n",
    "    # Train & test each fold\n",
    "    for train_idx, test_idx in skf.split(X, y):\n",
    "        x_train_fold, x_test_fold = X[train_idx], X[test_idx]\n",
    "        y_train_fold, y_test_fold = y[train_idx], y[test_idx]\n",
    "        model.fit(x_train_fold, y_train_fold)\n",
    "\n",
    "        lst_acc.append(model.score(x_test_fold, y_test_fold))\n",
    "        y_pred_fold = model.predict(x_test_fold)\n",
    "\n",
    "        # Group y data by key\n",
    "        y_test_grouped = y_test_fold.reshape((-1, n))\n",
    "        y_pred_grouped = y_pred_fold.reshape((-1, n))\n",
    "        lst_wrong_keys.append(zero_one_loss(y_test_grouped, y_pred_grouped))\n",
    "\n",
    "    delta_time = timedelta(seconds=round(timeit.default_timer()-start_time))\n",
    "    print(f'\\nList of accuracies:         {np.around(lst_acc, 4) * 100}\\n'\n",
    "          # f'Min/max accuracy:           {min(lst_acc):.2%} <---> {max(lst_acc):.2%}\\n'\n",
    "          f'Mean accuracy:              {np.mean(lst_acc):6.2%} +- {np.std(lst_acc):6.3%}\\n'\n",
    "          f'Incorrectly-predicted keys: {np.mean(lst_wrong_keys):6.2%} +- {np.std(lst_wrong_keys):6.3%}\\n'\n",
    "          f'Executed in:                {delta_time}')\n",
    "\n",
    "    return lst_acc, lst_wrong_keys"
   ]
  },
  {
   "cell_type": "code",
   "execution_count": 21,
   "id": "fd3c045d",
   "metadata": {
    "ExecuteTime": {
     "end_time": "2022-03-11T03:25:18.115123Z",
     "start_time": "2022-03-11T03:25:18.103156Z"
    }
   },
   "outputs": [],
   "source": [
    "# Test different parameters\n",
    "    # ***** use grid search\n",
    "def test_eta0(model, low, up, X, y, seed):\n",
    "    best_eta0, best_acc, best_wrong_keys = 0., 0., 1.\n",
    "\n",
    "    for i in np.arange(up-1, low-1, -1):\n",
    "        model.eta0 = 10.**i\n",
    "        lst_acc, lst_wrong_keys = Train_stratCV(model, X, y, 5, seed)\n",
    "        print(f'eta0 = {model.eta0:.0e}')\n",
    "\n",
    "        current_acc        = np.mean(lst_acc)\n",
    "        current_wrong_keys = np.mean(lst_wrong_keys)\n",
    "        if current_acc > best_acc or (current_acc == best_acc and current_wrong_keys < best_wrong_keys):\n",
    "            best_acc        = current_acc\n",
    "            best_wrong_keys = current_wrong_keys\n",
    "            best_eta0       = model.eta0\n",
    "\n",
    "    print(f'\\nBest accuracy:              {best_acc:.2%} ---> eta0 = {best_eta0:.0e}\\n'\n",
    "          f'Incorrectly-predicted keys: {best_wrong_keys:.2%}')\n",
    "    return best_eta0\n",
    "\n",
    "def test_coef0(model, low, up, X, y, seed):\n",
    "    best_coef0, best_acc, best_wrong_keys = 0., 0., 1.\n",
    "\n",
    "    for i in np.arange(low, up, 1):\n",
    "        model.coef0 = i\n",
    "        lst_acc, lst_wrong_keys = Train_stratCV(model, X, y, 5, seed)\n",
    "        print(f'coef0 = {model.coef0}')\n",
    "\n",
    "        current_acc        = np.mean(lst_acc)\n",
    "        current_wrong_keys = np.mean(lst_wrong_keys)\n",
    "        if current_acc > best_acc or (current_acc == best_acc and current_wrong_keys < best_wrong_keys):\n",
    "            best_acc        = current_acc\n",
    "            best_wrong_keys = current_wrong_keys\n",
    "            best_coef0      = model.coef0\n",
    "\n",
    "    print(f'\\nBest accuracy:              {best_acc:.2%} ---> coef0 = {best_coef0}\\n'\n",
    "          f'Incorrectly-predicted keys: {best_wrong_keys:.2%}')\n",
    "    return best_coef0\n",
    "\n",
    "def test_trees(model, X, y, seed, criterion=['gini'], max_depth=[None], max_features=[None], max_leaf_nodes=[None],\n",
    "               min_impurity_decrease=[0.]):\n",
    "    best_par = []\n",
    "    best_acc, best_wrong_keys = 0., 1.\n",
    "    for crit in criterion:\n",
    "        model.criterion = crit\n",
    "        for md in max_depth:\n",
    "            model.max_depth = md\n",
    "            for mf in max_features:\n",
    "                model.max_features = mf\n",
    "                for mln in max_leaf_nodes:\n",
    "                    model.max_leaf_nodes = mln\n",
    "                    for mid in min_impurity_decrease:\n",
    "                        model.min_impurity_decrease = mid\n",
    "                        lst_acc, lst_wrong_keys = Train_stratCV(model, X, y, 5, seed)\n",
    "                        print(f'{crit}, {md}, {mf}, {mln}, {mid:.0e}')\n",
    "\n",
    "                        current_acc        = np.mean(lst_acc)\n",
    "                        current_wrong_keys = np.mean(lst_wrong_keys)\n",
    "                        if current_acc > best_acc or (current_acc == best_acc and current_wrong_keys < best_wrong_keys):\n",
    "                            best_acc        = current_acc\n",
    "                            best_wrong_keys = current_wrong_keys\n",
    "                            best_par        = crit, md, mf, mln, mid\n",
    "\n",
    "    print(f'\\nBest accuracy:              {best_acc:.2%}\\n'\n",
    "          f'Incorrectly-predicted keys: {best_wrong_keys:.2%}\\n'\n",
    "          f'criterion                 = {best_par[0]}\\n'\n",
    "          f'max_depth                 = {best_par[1]}\\n'\n",
    "          f'max_features              = {best_par[2]}\\n'\n",
    "          f'max_leaf_nodes            = {best_par[3]}\\n'\n",
    "          f'min_impurity_decrease     = {best_par[4]:.0e}')\n",
    "    return best_par"
   ]
  },
  {
   "cell_type": "code",
   "execution_count": 22,
   "id": "8670ecf1",
   "metadata": {
    "ExecuteTime": {
     "end_time": "2022-03-11T03:25:18.792263Z",
     "start_time": "2022-03-11T03:25:18.786103Z"
    },
    "code_folding": []
   },
   "outputs": [],
   "source": [
    "# Get prediction statistics\n",
    "def get_statistics(model, X_test, y_test, model_name, prob=False):\n",
    "    print(f'Mean accuracy on test set:      {model.score(X_test, y_test):.2%}')\n",
    "    if prob:\n",
    "        y_prob = model.predict_proba(X_test)\n",
    "        print(f'Mean certainty (even if wrong): {np.mean(np.max(y_prob, axis=1)):.2%}\\n')\n",
    "\n",
    "    y_pred = model.predict(X_test)\n",
    "\n",
    "    # Group y data by key\n",
    "    y_test_grouped = y_test.reshape((-1, n))\n",
    "    y_pred_grouped = y_pred.reshape((-1, n))\n",
    "    print(f'Incorrectly-predicted keys:     {zero_one_loss(y_test_grouped, y_pred_grouped):.2%}')  # (see description)\n",
    "    print(f'Incorrectly-predicted bits:     {hamming_loss(y_test_grouped, y_pred_grouped):.2%}\\n') # (see description)\n",
    "\n",
    "    cm = confusion_matrix(y_test, y_pred)\n",
    "    # print('Confusion matrix: \\n', cm, '\\n')\n",
    "    print('Report: \\n', classification_report(y_test, y_pred, digits=3))\n",
    "\n",
    "    # Plot confusion matrix\n",
    "    print('Confusion matrix:')\n",
    "    fig, ax = plt.subplots(figsize=(3, 2))\n",
    "    ConfusionMatrixDisplay(cm).plot(values_format='d', cmap='Blues', colorbar=False, ax=ax)\n",
    "    ax.set(xlabel='Predicted bit', ylabel='True bit')\n",
    "    ax.grid(False)\n",
    "    plt.savefig(f'Results/Other/confusion_matrix_{model_name}_{nb_name}_{n}x{m}_noise_std={noise_std}_sampling={sampling_interval}.png', dpi=200)\n",
    "    plt.show()"
   ]
  },
  {
   "cell_type": "markdown",
   "id": "4fd5d621",
   "metadata": {},
   "source": [
    "### Logistic regression"
   ]
  },
  {
   "cell_type": "code",
   "execution_count": 23,
   "id": "1443cade",
   "metadata": {
    "ExecuteTime": {
     "end_time": "2022-03-11T03:25:24.228511Z",
     "start_time": "2022-03-11T03:25:24.225431Z"
    }
   },
   "outputs": [],
   "source": [
    "model = LogisticRegression(solver='lbfgs', penalty='l2', C=1., tol=1e-3, max_iter=1e4, n_jobs=-1, random_state=seed, verbose=0)\n",
    "# model = LogisticRegression(solver='saga', penalty='l2', C=1., tol=1e-3, max_iter=1e4, n_jobs=-1, random_state=seed, verbose=-1)\n",
    "# Select hyperparameters\n",
    "# ***** test solver & C"
   ]
  },
  {
   "cell_type": "code",
   "execution_count": 24,
   "id": "417eb708",
   "metadata": {
    "ExecuteTime": {
     "end_time": "2022-03-11T03:25:25.349110Z",
     "start_time": "2022-03-11T03:25:24.979701Z"
    },
    "code_folding": []
   },
   "outputs": [],
   "source": [
    "# Train with full training set\n",
    "model.fit(X_train, y_train)\n",
    "# lst_acc, lst_wrong_keys = Train_stratCV(model, X_train, y_train, 5, seed)\n",
    "\n",
    "# Save model\n",
    "model_name = 'LR1'\n",
    "joblib.dump(model, f'Results/Models/model_{model_name}_{nb_name}_{n}x{m}_noise_std={noise_std}_sampling={sampling_interval}.joblib');"
   ]
  },
  {
   "cell_type": "code",
   "execution_count": 25,
   "id": "28b510ff",
   "metadata": {
    "ExecuteTime": {
     "end_time": "2022-03-11T03:25:26.277017Z",
     "start_time": "2022-03-11T03:25:26.097074Z"
    },
    "collapsed": true
   },
   "outputs": [
    {
     "name": "stdout",
     "output_type": "stream",
     "text": [
      "Mean accuracy on test set:      97.30%\n",
      "Mean certainty (even if wrong): 93.93%\n",
      "\n",
      "Incorrectly-predicted keys:     13.00%\n",
      "Incorrectly-predicted bits:     2.70%\n",
      "\n",
      "Report: \n",
      "               precision    recall  f1-score   support\n",
      "\n",
      "         0.0      0.969     0.975     0.972       485\n",
      "         1.0      0.977     0.971     0.974       515\n",
      "\n",
      "    accuracy                          0.973      1000\n",
      "   macro avg      0.973     0.973     0.973      1000\n",
      "weighted avg      0.973     0.973     0.973      1000\n",
      "\n",
      "Confusion matrix:\n"
     ]
    },
    {
     "data": {
      "image/png": "[encoded data removed]",
      "text/plain": [
       "<Figure size 216x144 with 1 Axes>"
      ]
     },
     "metadata": {},
     "output_type": "display_data"
    }
   ],
   "source": [
    "# Get prediction statistics\n",
    "get_statistics(model, X_test, y_test, model_name, prob=True)"
   ]
  },
  {
   "cell_type": "code",
   "execution_count": 26,
   "id": "03518f05",
   "metadata": {
    "ExecuteTime": {
     "end_time": "2022-03-11T03:25:34.289272Z",
     "start_time": "2022-03-11T03:25:29.795862Z"
    },
    "collapsed": true
   },
   "outputs": [
    {
     "name": "stdout",
     "output_type": "stream",
     "text": [
      "\n",
      "List of accuracies:         [94.12 91.88 91.5  93.25 93.62]\n",
      "Mean accuracy:              92.88% +- 1.016%\n",
      "Incorrectly-predicted keys: 31.25% +- 4.146%\n",
      "Executed in:                0:00:01\n",
      "eta0 = 1e+05\n",
      "\n",
      "List of accuracies:         [94.62 92.38 93.75 93.88 94.  ]\n",
      "Mean accuracy:              93.72% +- 0.739%\n",
      "Incorrectly-predicted keys: 27.12% +- 2.867%\n",
      "Executed in:                0:00:00\n",
      "eta0 = 1e+04\n",
      "\n",
      "List of accuracies:         [93.12 93.12 95.38 93.88 93.75]\n",
      "Mean accuracy:              93.85% +- 0.823%\n",
      "Incorrectly-predicted keys: 27.00% +- 4.039%\n",
      "Executed in:                0:00:00\n",
      "eta0 = 1e+03\n",
      "\n",
      "List of accuracies:         [92.12 92.88 94.88 93.62 93.88]\n",
      "Mean accuracy:              93.47% +- 0.930%\n",
      "Incorrectly-predicted keys: 28.75% +- 4.276%\n",
      "Executed in:                0:00:00\n",
      "eta0 = 1e+02\n",
      "\n",
      "List of accuracies:         [93.   93.75 94.   93.88 94.  ]\n",
      "Mean accuracy:              93.72% +- 0.374%\n",
      "Incorrectly-predicted keys: 27.25% +- 2.000%\n",
      "Executed in:                0:00:00\n",
      "eta0 = 1e+01\n",
      "\n",
      "List of accuracies:         [92.12 92.12 94.5  94.62 93.88]\n",
      "Mean accuracy:              93.45% +- 1.111%\n",
      "Incorrectly-predicted keys: 28.37% +- 4.465%\n",
      "Executed in:                0:00:00\n",
      "eta0 = 1e+00\n",
      "\n",
      "List of accuracies:         [93.   92.38 94.   93.75 94.  ]\n",
      "Mean accuracy:              93.43% +- 0.640%\n",
      "Incorrectly-predicted keys: 28.38% +- 2.867%\n",
      "Executed in:                0:00:00\n",
      "eta0 = 1e-01\n",
      "\n",
      "List of accuracies:         [93.5  92.88 95.12 94.88 95.25]\n",
      "Mean accuracy:              94.32% +- 0.957%\n",
      "Incorrectly-predicted keys: 25.13% +- 4.134%\n",
      "Executed in:                0:00:00\n",
      "eta0 = 1e-02\n",
      "\n",
      "List of accuracies:         [93.75 91.75 93.5  94.88 92.5 ]\n",
      "Mean accuracy:              93.28% +- 1.074%\n",
      "Incorrectly-predicted keys: 29.25% +- 4.864%\n",
      "Executed in:                0:00:00\n",
      "eta0 = 1e-03\n",
      "\n",
      "List of accuracies:         [85.62 83.25 86.62 83.38 86.5 ]\n",
      "Mean accuracy:              85.08% +- 1.480%\n",
      "Incorrectly-predicted keys: 55.00% +- 4.776%\n",
      "Executed in:                0:00:01\n",
      "eta0 = 1e-04\n",
      "\n",
      "List of accuracies:         [71.25 68.62 71.13 68.5  69.12]\n",
      "Mean accuracy:              69.73% +- 1.213%\n",
      "Incorrectly-predicted keys: 85.87% +- 1.159%\n",
      "Executed in:                0:00:00\n",
      "eta0 = 1e-05\n",
      "\n",
      "Best accuracy:              94.32% ---> eta0 = 1e-02\n",
      "Incorrectly-predicted keys: 25.13%\n"
     ]
    }
   ],
   "source": [
    "model = SGDClassifier(loss='log', learning_rate='adaptive', eta0=1., tol=1e-3, max_iter=1e4, n_jobs=-1, random_state=seed,\n",
    "                      verbose=0)\n",
    "# Select hyperparameters\n",
    "# ***** test alpha\n",
    "model.eta0 = test_eta0(model, -5, 6, X_train, y_train, seed)"
   ]
  },
  {
   "cell_type": "code",
   "execution_count": 27,
   "id": "4a7805ce",
   "metadata": {
    "ExecuteTime": {
     "end_time": "2022-03-11T03:25:43.057258Z",
     "start_time": "2022-03-11T03:25:42.967268Z"
    },
    "code_folding": [
     0
    ]
   },
   "outputs": [],
   "source": [
    "# Train with full training set\n",
    "model.fit(X_train, y_train)\n",
    "# lst_acc, lst_wrong_keys = Train_stratCV(model, X_train, y_train, 5, seed)\n",
    "\n",
    "# Save model\n",
    "model_name = 'LR2'\n",
    "joblib.dump(model, f'Results/Models/model_{model_name}_{nb_name}_{n}x{m}_noise_std={noise_std}_sampling={sampling_interval}.joblib');"
   ]
  },
  {
   "cell_type": "code",
   "execution_count": 28,
   "id": "2873ee29",
   "metadata": {
    "ExecuteTime": {
     "end_time": "2022-03-11T03:25:43.917235Z",
     "start_time": "2022-03-11T03:25:43.741657Z"
    },
    "collapsed": true
   },
   "outputs": [
    {
     "name": "stdout",
     "output_type": "stream",
     "text": [
      "Mean accuracy on test set:      95.20%\n",
      "Mean certainty (even if wrong): 97.36%\n",
      "\n",
      "Incorrectly-predicted keys:     24.00%\n",
      "Incorrectly-predicted bits:     4.80%\n",
      "\n",
      "Report: \n",
      "               precision    recall  f1-score   support\n",
      "\n",
      "         0.0      0.954     0.946     0.950       485\n",
      "         1.0      0.950     0.957     0.954       515\n",
      "\n",
      "    accuracy                          0.952      1000\n",
      "   macro avg      0.952     0.952     0.952      1000\n",
      "weighted avg      0.952     0.952     0.952      1000\n",
      "\n",
      "Confusion matrix:\n"
     ]
    },
    {
     "data": {
      "image/png": "[encoded data removed]",
      "text/plain": [
       "<Figure size 216x144 with 1 Axes>"
      ]
     },
     "metadata": {},
     "output_type": "display_data"
    }
   ],
   "source": [
    "# Get prediction statistics\n",
    "get_statistics(model, X_test, y_test, model_name, prob=True)"
   ]
  },
  {
   "cell_type": "markdown",
   "id": "ffb1c7b7",
   "metadata": {},
   "source": [
    "### SVM"
   ]
  },
  {
   "cell_type": "markdown",
   "id": "095d5cfa",
   "metadata": {},
   "source": [
    "#### Linear kernel"
   ]
  },
  {
   "cell_type": "code",
   "execution_count": 29,
   "id": "d3247f98",
   "metadata": {
    "ExecuteTime": {
     "end_time": "2022-03-11T03:25:48.223325Z",
     "start_time": "2022-03-11T03:25:48.220293Z"
    }
   },
   "outputs": [],
   "source": [
    "model = SVC(kernel='linear', probability=False, tol=1e-3, max_iter=-1, cache_size=1000, random_state=seed, verbose=True)\n",
    "# Select hyperparameters\n",
    "# ***** test C"
   ]
  },
  {
   "cell_type": "code",
   "execution_count": 30,
   "id": "fec39e74",
   "metadata": {
    "ExecuteTime": {
     "end_time": "2022-03-11T03:25:49.697109Z",
     "start_time": "2022-03-11T03:25:49.040987Z"
    },
    "code_folding": [
     0
    ]
   },
   "outputs": [],
   "source": [
    "# Train with full training set\n",
    "model.fit(X_train, y_train)\n",
    "# lst_acc, lst_wrong_keys = Train_stratCV(model, X_train, y_train, 5, seed)\n",
    "\n",
    "# Save model\n",
    "model_name = 'SVM_linear1'\n",
    "joblib.dump(model, f'Results/Models/model_{model_name}_{nb_name}_{n}x{m}_noise_std={noise_std}_sampling={sampling_interval}.joblib');"
   ]
  },
  {
   "cell_type": "code",
   "execution_count": 31,
   "id": "3012093b",
   "metadata": {
    "ExecuteTime": {
     "end_time": "2022-03-11T03:25:50.844436Z",
     "start_time": "2022-03-11T03:25:50.664140Z"
    },
    "collapsed": true
   },
   "outputs": [
    {
     "name": "stdout",
     "output_type": "stream",
     "text": [
      "Mean accuracy on test set:      97.70%\n",
      "Incorrectly-predicted keys:     11.50%\n",
      "Incorrectly-predicted bits:     2.30%\n",
      "\n",
      "Report: \n",
      "               precision    recall  f1-score   support\n",
      "\n",
      "         0.0      0.966     0.988     0.977       485\n",
      "         1.0      0.988     0.967     0.977       515\n",
      "\n",
      "    accuracy                          0.977      1000\n",
      "   macro avg      0.977     0.977     0.977      1000\n",
      "weighted avg      0.977     0.977     0.977      1000\n",
      "\n",
      "Confusion matrix:\n"
     ]
    },
    {
     "data": {
      "image/png": "[encoded data removed]",
      "text/plain": [
       "<Figure size 216x144 with 1 Axes>"
      ]
     },
     "metadata": {},
     "output_type": "display_data"
    }
   ],
   "source": [
    "# Get prediction statistics\n",
    "get_statistics(model, X_test, y_test, model_name)"
   ]
  },
  {
   "cell_type": "code",
   "execution_count": 35,
   "id": "2f451769",
   "metadata": {
    "ExecuteTime": {
     "end_time": "2022-03-11T03:26:01.710935Z",
     "start_time": "2022-03-11T03:26:01.708027Z"
    }
   },
   "outputs": [],
   "source": [
    "model = LinearSVC(loss='squared_hinge', dual=False, tol=1e-3, max_iter=1e4, random_state=seed, verbose=1)\n",
    "# Select hyperparameters\n",
    "# ***** test C"
   ]
  },
  {
   "cell_type": "code",
   "execution_count": 36,
   "id": "955923cb",
   "metadata": {
    "ExecuteTime": {
     "end_time": "2022-03-11T03:26:02.593035Z",
     "start_time": "2022-03-11T03:26:02.560436Z"
    },
    "code_folding": [
     0
    ]
   },
   "outputs": [
    {
     "name": "stdout",
     "output_type": "stream",
     "text": [
      "[LibLinear]"
     ]
    }
   ],
   "source": [
    "# Train with full training set\n",
    "model.fit(X_train, y_train)\n",
    "# lst_acc, lst_wrong_keys = Train_stratCV(model, X_train, y_train, 5, seed)\n",
    "\n",
    "# Save model\n",
    "model_name = 'SVM_linear2'\n",
    "joblib.dump(model, f'Results/Models/model_{model_name}_{nb_name}_{n}x{m}_noise_std={noise_std}_sampling={sampling_interval}.joblib');"
   ]
  },
  {
   "cell_type": "code",
   "execution_count": 37,
   "id": "29cb60b4",
   "metadata": {
    "ExecuteTime": {
     "end_time": "2022-03-11T03:26:08.108857Z",
     "start_time": "2022-03-11T03:26:07.934270Z"
    },
    "collapsed": true
   },
   "outputs": [
    {
     "name": "stdout",
     "output_type": "stream",
     "text": [
      "Mean accuracy on test set:      97.80%\n",
      "Incorrectly-predicted keys:     11.00%\n",
      "Incorrectly-predicted bits:     2.20%\n",
      "\n",
      "Report: \n",
      "               precision    recall  f1-score   support\n",
      "\n",
      "         0.0      0.977     0.977     0.977       485\n",
      "         1.0      0.979     0.979     0.979       515\n",
      "\n",
      "    accuracy                          0.978      1000\n",
      "   macro avg      0.978     0.978     0.978      1000\n",
      "weighted avg      0.978     0.978     0.978      1000\n",
      "\n",
      "Confusion matrix:\n"
     ]
    },
    {
     "data": {
      "image/png": "[encoded data removed]",
      "text/plain": [
       "<Figure size 216x144 with 1 Axes>"
      ]
     },
     "metadata": {},
     "output_type": "display_data"
    }
   ],
   "source": [
    "# Get prediction statistics\n",
    "get_statistics(model, X_test, y_test, model_name)"
   ]
  },
  {
   "cell_type": "code",
   "execution_count": 38,
   "id": "ff327732",
   "metadata": {
    "ExecuteTime": {
     "end_time": "2022-03-11T03:26:10.676155Z",
     "start_time": "2022-03-11T03:26:10.673219Z"
    },
    "scrolled": true
   },
   "outputs": [],
   "source": [
    "model = LinearSVC(loss='squared_hinge', dual=True, tol=1e-3, max_iter=1e4, random_state=seed, verbose=1)\n",
    "# Select hyperparameters\n",
    "# ***** test C"
   ]
  },
  {
   "cell_type": "code",
   "execution_count": 39,
   "id": "820e972e",
   "metadata": {
    "ExecuteTime": {
     "end_time": "2022-03-11T03:26:12.759579Z",
     "start_time": "2022-03-11T03:26:11.489732Z"
    },
    "code_folding": [
     0
    ],
    "collapsed": true
   },
   "outputs": [
    {
     "name": "stdout",
     "output_type": "stream",
     "text": [
      "[LibLinear]"
     ]
    },
    {
     "name": "stderr",
     "output_type": "stream",
     "text": [
      "/home/v082327/.local/lib/python3.6/site-packages/sklearn/svm/_base.py:986: ConvergenceWarning: Liblinear failed to converge, increase the number of iterations.\n",
      "  \"the number of iterations.\", ConvergenceWarning)\n"
     ]
    }
   ],
   "source": [
    "# Train with full training set\n",
    "model.fit(X_train, y_train)\n",
    "# lst_acc, lst_wrong_keys = Train_stratCV(model, X_train, y_train, 5, seed)\n",
    "\n",
    "# Save model\n",
    "model_name = 'SVM_linear3'\n",
    "joblib.dump(model, f'Results/Models/model_{model_name}_{nb_name}_{n}x{m}_noise_std={noise_std}_sampling={sampling_interval}.joblib');"
   ]
  },
  {
   "cell_type": "code",
   "execution_count": 40,
   "id": "f969fc2d",
   "metadata": {
    "ExecuteTime": {
     "end_time": "2022-03-11T03:26:13.607449Z",
     "start_time": "2022-03-11T03:26:13.437358Z"
    },
    "collapsed": true
   },
   "outputs": [
    {
     "name": "stdout",
     "output_type": "stream",
     "text": [
      "Mean accuracy on test set:      97.80%\n",
      "Incorrectly-predicted keys:     11.00%\n",
      "Incorrectly-predicted bits:     2.20%\n",
      "\n",
      "Report: \n",
      "               precision    recall  f1-score   support\n",
      "\n",
      "         0.0      0.981     0.973     0.977       485\n",
      "         1.0      0.975     0.983     0.979       515\n",
      "\n",
      "    accuracy                          0.978      1000\n",
      "   macro avg      0.978     0.978     0.978      1000\n",
      "weighted avg      0.978     0.978     0.978      1000\n",
      "\n",
      "Confusion matrix:\n"
     ]
    },
    {
     "data": {
      "image/png": "[encoded data removed]",
      "text/plain": [
       "<Figure size 216x144 with 1 Axes>"
      ]
     },
     "metadata": {},
     "output_type": "display_data"
    }
   ],
   "source": [
    "# Get prediction statistics\n",
    "get_statistics(model, X_test, y_test, model_name)"
   ]
  },
  {
   "cell_type": "code",
   "execution_count": 32,
   "id": "ced46e52",
   "metadata": {
    "ExecuteTime": {
     "end_time": "2022-03-11T03:25:56.420938Z",
     "start_time": "2022-03-11T03:25:54.164319Z"
    },
    "collapsed": true
   },
   "outputs": [
    {
     "name": "stdout",
     "output_type": "stream",
     "text": [
      "\n",
      "List of accuracies:         [93.88 89.   93.88 94.25 94.5 ]\n",
      "Mean accuracy:              93.10% +- 2.064%\n",
      "Incorrectly-predicted keys: 30.00% +- 8.506%\n",
      "Executed in:                0:00:00\n",
      "eta0 = 1e+05\n",
      "\n",
      "List of accuracies:         [92.5  92.12 94.5  93.   93.12]\n",
      "Mean accuracy:              93.05% +- 0.809%\n",
      "Incorrectly-predicted keys: 30.75% +- 3.881%\n",
      "Executed in:                0:00:00\n",
      "eta0 = 1e+04\n",
      "\n",
      "List of accuracies:         [93.25 92.88 94.25 94.12 93.75]\n",
      "Mean accuracy:              93.65% +- 0.521%\n",
      "Incorrectly-predicted keys: 27.75% +- 2.669%\n",
      "Executed in:                0:00:00\n",
      "eta0 = 1e+03\n",
      "\n",
      "List of accuracies:         [93.62 94.   93.62 94.38 94.  ]\n",
      "Mean accuracy:              93.92% +- 0.281%\n",
      "Incorrectly-predicted keys: 26.88% +- 0.884%\n",
      "Executed in:                0:00:00\n",
      "eta0 = 1e+02\n",
      "\n",
      "List of accuracies:         [94.25 94.5  94.   93.62 93.88]\n",
      "Mean accuracy:              94.05% +- 0.302%\n",
      "Incorrectly-predicted keys: 26.12% +- 1.447%\n",
      "Executed in:                0:00:00\n",
      "eta0 = 1e+01\n",
      "\n",
      "List of accuracies:         [92.5  93.   94.62 93.75 94.  ]\n",
      "Mean accuracy:              93.58% +- 0.748%\n",
      "Incorrectly-predicted keys: 28.12% +- 3.771%\n",
      "Executed in:                0:00:00\n",
      "eta0 = 1e+00\n",
      "\n",
      "List of accuracies:         [93.62 92.88 94.75 94.5  93.75]\n",
      "Mean accuracy:              93.90% +- 0.668%\n",
      "Incorrectly-predicted keys: 27.12% +- 2.812%\n",
      "Executed in:                0:00:00\n",
      "eta0 = 1e-01\n",
      "\n",
      "List of accuracies:         [94.75 93.75 94.62 94.38 94.12]\n",
      "Mean accuracy:              94.32% +- 0.359%\n",
      "Incorrectly-predicted keys: 25.00% +- 2.404%\n",
      "Executed in:                0:00:00\n",
      "eta0 = 1e-02\n",
      "\n",
      "List of accuracies:         [94.12 94.12 94.75 94.75 94.88]\n",
      "Mean accuracy:              94.53% +- 0.330%\n",
      "Incorrectly-predicted keys: 24.75% +- 1.561%\n",
      "Executed in:                0:00:00\n",
      "eta0 = 1e-03\n",
      "\n",
      "List of accuracies:         [89.12 88.62 89.38 89.12 90.75]\n",
      "Mean accuracy:              89.40% +- 0.718%\n",
      "Incorrectly-predicted keys: 43.75% +- 2.984%\n",
      "Executed in:                0:00:00\n",
      "eta0 = 1e-04\n",
      "\n",
      "List of accuracies:         [71.25 68.62 71.   68.5  69.12]\n",
      "Mean accuracy:              69.70% +- 1.185%\n",
      "Incorrectly-predicted keys: 85.87% +- 1.159%\n",
      "Executed in:                0:00:00\n",
      "eta0 = 1e-05\n",
      "\n",
      "Best accuracy:              94.53% ---> eta0 = 1e-03\n",
      "Incorrectly-predicted keys: 24.75%\n"
     ]
    }
   ],
   "source": [
    "model = SGDClassifier(loss='hinge', learning_rate='adaptive', eta0=1., tol=1e-3, max_iter=1e4, n_jobs=-1, random_state=seed,\n",
    "                      verbose=0)\n",
    "# Select hyperparameters\n",
    "# ***** test alpha\n",
    "model.eta0 = test_eta0(model, -5, 6, X_train, y_train, seed)"
   ]
  },
  {
   "cell_type": "code",
   "execution_count": 33,
   "id": "41702da2",
   "metadata": {
    "ExecuteTime": {
     "end_time": "2022-03-11T03:25:58.859225Z",
     "start_time": "2022-03-11T03:25:58.821805Z"
    },
    "code_folding": [
     0
    ]
   },
   "outputs": [],
   "source": [
    "# Train with full training set\n",
    "model.fit(X_train, y_train)\n",
    "# lst_acc, lst_wrong_keys = Train_stratCV(model, X_train, y_train, 5, seed)\n",
    "\n",
    "# Save model\n",
    "model_name = 'SVM_linear4'\n",
    "joblib.dump(model, f'Results/Models/model_{model_name}_{nb_name}_{n}x{m}_noise_std={noise_std}_sampling={sampling_interval}.joblib');"
   ]
  },
  {
   "cell_type": "code",
   "execution_count": 34,
   "id": "018bd2f8",
   "metadata": {
    "ExecuteTime": {
     "end_time": "2022-03-11T03:25:59.759775Z",
     "start_time": "2022-03-11T03:25:59.584002Z"
    },
    "collapsed": true
   },
   "outputs": [
    {
     "name": "stdout",
     "output_type": "stream",
     "text": [
      "Mean accuracy on test set:      94.80%\n",
      "Incorrectly-predicted keys:     25.00%\n",
      "Incorrectly-predicted bits:     5.20%\n",
      "\n",
      "Report: \n",
      "               precision    recall  f1-score   support\n",
      "\n",
      "         0.0      0.941     0.953     0.947       485\n",
      "         1.0      0.955     0.944     0.949       515\n",
      "\n",
      "    accuracy                          0.948      1000\n",
      "   macro avg      0.948     0.948     0.948      1000\n",
      "weighted avg      0.948     0.948     0.948      1000\n",
      "\n",
      "Confusion matrix:\n"
     ]
    },
    {
     "data": {
      "image/png": "[encoded data removed]",
      "text/plain": [
       "<Figure size 216x144 with 1 Axes>"
      ]
     },
     "metadata": {},
     "output_type": "display_data"
    }
   ],
   "source": [
    "# Get prediction statistics\n",
    "get_statistics(model, X_test, y_test, model_name)"
   ]
  },
  {
   "cell_type": "markdown",
   "id": "d8aa52a1",
   "metadata": {},
   "source": [
    "#### Gaussian kernel"
   ]
  },
  {
   "cell_type": "code",
   "execution_count": 41,
   "id": "f35c1ed5",
   "metadata": {
    "ExecuteTime": {
     "end_time": "2022-03-11T03:26:32.902753Z",
     "start_time": "2022-03-11T03:26:32.899649Z"
    }
   },
   "outputs": [],
   "source": [
    "model = SVC(kernel='rbf', gamma='scale', probability=False, tol=1e-3, max_iter=-1, cache_size=1000, random_state=seed,\n",
    "            verbose=True)\n",
    "# Select hyperparameters\n",
    "# ***** test C"
   ]
  },
  {
   "cell_type": "code",
   "execution_count": 42,
   "id": "ad3f77d1",
   "metadata": {
    "ExecuteTime": {
     "end_time": "2022-03-11T03:26:33.774564Z",
     "start_time": "2022-03-11T03:26:33.682399Z"
    },
    "code_folding": [
     0
    ]
   },
   "outputs": [],
   "source": [
    "# Train with full training set\n",
    "model.fit(X_train, y_train)\n",
    "# lst_acc, lst_wrong_keys = Train_stratCV(model, X_train, y_train, 5, seed)\n",
    "\n",
    "# Save model\n",
    "model_name = 'SVM_gaussian1'\n",
    "joblib.dump(model, f'Results/Models/model_{model_name}_{nb_name}_{n}x{m}_noise_std={noise_std}_sampling={sampling_interval}.joblib');"
   ]
  },
  {
   "cell_type": "code",
   "execution_count": 43,
   "id": "584d11c3",
   "metadata": {
    "ExecuteTime": {
     "end_time": "2022-03-11T03:26:35.453338Z",
     "start_time": "2022-03-11T03:26:35.287491Z"
    },
    "collapsed": true
   },
   "outputs": [
    {
     "name": "stdout",
     "output_type": "stream",
     "text": [
      "Mean accuracy on test set:      94.20%\n",
      "Incorrectly-predicted keys:     29.00%\n",
      "Incorrectly-predicted bits:     5.80%\n",
      "\n",
      "Report: \n",
      "               precision    recall  f1-score   support\n",
      "\n",
      "         0.0      0.953     0.926     0.939       485\n",
      "         1.0      0.932     0.957     0.944       515\n",
      "\n",
      "    accuracy                          0.942      1000\n",
      "   macro avg      0.943     0.942     0.942      1000\n",
      "weighted avg      0.942     0.942     0.942      1000\n",
      "\n",
      "Confusion matrix:\n"
     ]
    },
    {
     "data": {
      "image/png": "[encoded data removed]",
      "text/plain": [
       "<Figure size 216x144 with 1 Axes>"
      ]
     },
     "metadata": {},
     "output_type": "display_data"
    }
   ],
   "source": [
    "# Get prediction statistics\n",
    "get_statistics(model, X_test, y_test, model_name)"
   ]
  },
  {
   "cell_type": "code",
   "execution_count": 44,
   "id": "152037e2",
   "metadata": {
    "ExecuteTime": {
     "end_time": "2022-03-11T03:26:37.036203Z",
     "start_time": "2022-03-11T03:26:37.032886Z"
    }
   },
   "outputs": [],
   "source": [
    "model = SVC(kernel='rbf', gamma='auto', probability=False, tol=1e-3, max_iter=-1, cache_size=1000, random_state=seed,\n",
    "            verbose=True)\n",
    "# Select hyperparameters\n",
    "# ***** test C"
   ]
  },
  {
   "cell_type": "code",
   "execution_count": 45,
   "id": "3fbeac3a",
   "metadata": {
    "ExecuteTime": {
     "end_time": "2022-03-11T03:26:37.874034Z",
     "start_time": "2022-03-11T03:26:37.773751Z"
    },
    "code_folding": [
     0
    ]
   },
   "outputs": [],
   "source": [
    "# Train with full training set\n",
    "model.fit(X_train, y_train)\n",
    "# lst_acc, lst_wrong_keys = Train_stratCV(model, X_train, y_train, 5, seed)\n",
    "\n",
    "# Save model\n",
    "model_name = 'SVM_gaussian2'\n",
    "joblib.dump(model, f'Results/Models/model_{model_name}_{nb_name}_{n}x{m}_noise_std={noise_std}_sampling={sampling_interval}.joblib');"
   ]
  },
  {
   "cell_type": "code",
   "execution_count": 46,
   "id": "a4180443",
   "metadata": {
    "ExecuteTime": {
     "end_time": "2022-03-11T03:26:38.776627Z",
     "start_time": "2022-03-11T03:26:38.607009Z"
    },
    "collapsed": true
   },
   "outputs": [
    {
     "name": "stdout",
     "output_type": "stream",
     "text": [
      "Mean accuracy on test set:      92.50%\n",
      "Incorrectly-predicted keys:     37.50%\n",
      "Incorrectly-predicted bits:     7.50%\n",
      "\n",
      "Report: \n",
      "               precision    recall  f1-score   support\n",
      "\n",
      "         0.0      0.929     0.915     0.922       485\n",
      "         1.0      0.921     0.934     0.928       515\n",
      "\n",
      "    accuracy                          0.925      1000\n",
      "   macro avg      0.925     0.925     0.925      1000\n",
      "weighted avg      0.925     0.925     0.925      1000\n",
      "\n",
      "Confusion matrix:\n"
     ]
    },
    {
     "data": {
      "image/png": "[encoded data removed]",
      "text/plain": [
       "<Figure size 216x144 with 1 Axes>"
      ]
     },
     "metadata": {},
     "output_type": "display_data"
    }
   ],
   "source": [
    "# Get prediction statistics\n",
    "get_statistics(model, X_test, y_test, model_name)"
   ]
  },
  {
   "cell_type": "markdown",
   "id": "3d130321",
   "metadata": {},
   "source": [
    "#### Polynomial kernel"
   ]
  },
  {
   "cell_type": "code",
   "execution_count": 47,
   "id": "6bc1973f",
   "metadata": {
    "ExecuteTime": {
     "end_time": "2022-03-11T03:26:46.239346Z",
     "start_time": "2022-03-11T03:26:41.136147Z"
    },
    "collapsed": true
   },
   "outputs": [
    {
     "name": "stdout",
     "output_type": "stream",
     "text": [
      "\n",
      "List of accuracies:         [99.5  99.5  99.75 99.75 99.75]\n",
      "Mean accuracy:              99.65% +- 0.122%\n",
      "Incorrectly-predicted keys:  1.75% +- 0.612%\n",
      "Executed in:                0:00:01\n",
      "coef0 = -1\n",
      "\n",
      "List of accuracies:         [99.62 99.5  99.75 99.75 99.75]\n",
      "Mean accuracy:              99.68% +- 0.100%\n",
      "Incorrectly-predicted keys:  1.62% +- 0.500%\n",
      "Executed in:                0:00:02\n",
      "coef0 = 0\n",
      "\n",
      "List of accuracies:         [99.5  99.5  99.75 99.75 99.75]\n",
      "Mean accuracy:              99.65% +- 0.122%\n",
      "Incorrectly-predicted keys:  1.75% +- 0.612%\n",
      "Executed in:                0:00:02\n",
      "coef0 = 1\n",
      "\n",
      "Best accuracy:              99.68% ---> coef0 = 0\n",
      "Incorrectly-predicted keys: 1.62%\n"
     ]
    }
   ],
   "source": [
    "model = SVC(kernel='poly', degree=3, coef0=0., probability=False, tol=1e-3, max_iter=-1, cache_size=1000, random_state=seed,\n",
    "            verbose=True)\n",
    "# Select hyperparameters\n",
    "# ***** test C\n",
    "model.coef0 = test_coef0(model, -1, 2, X_train, y_train, seed)"
   ]
  },
  {
   "cell_type": "code",
   "execution_count": 48,
   "id": "678b640f",
   "metadata": {
    "ExecuteTime": {
     "end_time": "2022-03-11T03:27:07.916992Z",
     "start_time": "2022-03-11T03:27:07.535782Z"
    },
    "code_folding": [
     0
    ]
   },
   "outputs": [],
   "source": [
    "# Train with full training set\n",
    "model.fit(X_train, y_train)\n",
    "# lst_acc, lst_wrong_keys = Train_stratCV(model, X_train, y_train, 5, seed)\n",
    "\n",
    "# Save model\n",
    "model_name = 'SVM_poly1'\n",
    "joblib.dump(model, f'Results/Models/model_{model_name}_{nb_name}_{n}x{m}_noise_std={noise_std}_sampling={sampling_interval}.joblib');"
   ]
  },
  {
   "cell_type": "code",
   "execution_count": 51,
   "id": "d6d1517b",
   "metadata": {
    "ExecuteTime": {
     "end_time": "2022-03-11T03:27:23.872343Z",
     "start_time": "2022-03-11T03:27:23.708144Z"
    },
    "collapsed": true
   },
   "outputs": [
    {
     "name": "stdout",
     "output_type": "stream",
     "text": [
      "Mean accuracy on test set:      99.50%\n",
      "Incorrectly-predicted keys:     2.50%\n",
      "Incorrectly-predicted bits:     0.50%\n",
      "\n",
      "Report: \n",
      "               precision    recall  f1-score   support\n",
      "\n",
      "         0.0      0.994     0.996     0.995       485\n",
      "         1.0      0.996     0.994     0.995       515\n",
      "\n",
      "    accuracy                          0.995      1000\n",
      "   macro avg      0.995     0.995     0.995      1000\n",
      "weighted avg      0.995     0.995     0.995      1000\n",
      "\n",
      "Confusion matrix:\n"
     ]
    },
    {
     "data": {
      "image/png": "[encoded data removed]",
      "text/plain": [
       "<Figure size 216x144 with 1 Axes>"
      ]
     },
     "metadata": {},
     "output_type": "display_data"
    }
   ],
   "source": [
    "# Get prediction statistics\n",
    "get_statistics(model, X_test, y_test, model_name)"
   ]
  },
  {
   "cell_type": "code",
   "execution_count": 52,
   "id": "b611bb34",
   "metadata": {
    "ExecuteTime": {
     "end_time": "2022-03-11T03:27:34.030316Z",
     "start_time": "2022-03-11T03:27:25.350830Z"
    },
    "collapsed": true
   },
   "outputs": [
    {
     "name": "stdout",
     "output_type": "stream",
     "text": [
      "\n",
      "List of accuracies:         [100.   100.   100.    99.88  99.75]\n",
      "Mean accuracy:              99.92% +- 0.100%\n",
      "Incorrectly-predicted keys:  0.37% +- 0.500%\n",
      "Executed in:                0:00:03\n",
      "coef0 = -1\n",
      "\n",
      "List of accuracies:         [ 99.88 100.   100.    99.88  99.75]\n",
      "Mean accuracy:              99.90% +- 0.094%\n",
      "Incorrectly-predicted keys:  0.50% +- 0.468%\n",
      "Executed in:                0:00:03\n",
      "coef0 = 0\n",
      "\n",
      "List of accuracies:         [ 99.75 100.   100.    99.88  99.75]\n",
      "Mean accuracy:              99.88% +- 0.112%\n",
      "Incorrectly-predicted keys:  0.62% +- 0.559%\n",
      "Executed in:                0:00:03\n",
      "coef0 = 1\n",
      "\n",
      "Best accuracy:              99.92% ---> coef0 = -1\n",
      "Incorrectly-predicted keys: 0.37%\n"
     ]
    }
   ],
   "source": [
    "model = SVC(kernel='poly', degree=4, coef0=0., probability=False, tol=1e-3, max_iter=-1, cache_size=1000, random_state=seed,\n",
    "            verbose=True)\n",
    "# Select hyperparameters\n",
    "# ***** test C\n",
    "model.coef0 = test_coef0(model, -1, 2, X_train, y_train, seed)"
   ]
  },
  {
   "cell_type": "code",
   "execution_count": 53,
   "id": "06d8d18f",
   "metadata": {
    "ExecuteTime": {
     "end_time": "2022-03-11T03:27:35.220681Z",
     "start_time": "2022-03-11T03:27:34.728952Z"
    },
    "code_folding": [
     0
    ]
   },
   "outputs": [],
   "source": [
    "# Train with full training set\n",
    "model.fit(X_train, y_train)\n",
    "# lst_acc, lst_wrong_keys = Train_stratCV(model, X_train, y_train, 5, seed)\n",
    "\n",
    "# Save model\n",
    "model_name = 'SVM_poly2'\n",
    "joblib.dump(model, f'Results/Models/model_{model_name}_{nb_name}_{n}x{m}_noise_std={noise_std}_sampling={sampling_interval}.joblib');"
   ]
  },
  {
   "cell_type": "code",
   "execution_count": 54,
   "id": "5efd2ffb",
   "metadata": {
    "ExecuteTime": {
     "end_time": "2022-03-11T03:27:36.083131Z",
     "start_time": "2022-03-11T03:27:35.919920Z"
    },
    "collapsed": true
   },
   "outputs": [
    {
     "name": "stdout",
     "output_type": "stream",
     "text": [
      "Mean accuracy on test set:      99.80%\n",
      "Incorrectly-predicted keys:     1.00%\n",
      "Incorrectly-predicted bits:     0.20%\n",
      "\n",
      "Report: \n",
      "               precision    recall  f1-score   support\n",
      "\n",
      "         0.0      1.000     0.996     0.998       485\n",
      "         1.0      0.996     1.000     0.998       515\n",
      "\n",
      "    accuracy                          0.998      1000\n",
      "   macro avg      0.998     0.998     0.998      1000\n",
      "weighted avg      0.998     0.998     0.998      1000\n",
      "\n",
      "Confusion matrix:\n"
     ]
    },
    {
     "data": {
      "image/png": "[encoded data removed]",
      "text/plain": [
       "<Figure size 216x144 with 1 Axes>"
      ]
     },
     "metadata": {},
     "output_type": "display_data"
    }
   ],
   "source": [
    "# Get prediction statistics\n",
    "get_statistics(model, X_test, y_test, model_name)"
   ]
  },
  {
   "cell_type": "markdown",
   "id": "4e1ccbda",
   "metadata": {},
   "source": [
    "#### Sigmoid kernel"
   ]
  },
  {
   "cell_type": "code",
   "execution_count": 56,
   "id": "15b20280",
   "metadata": {
    "ExecuteTime": {
     "end_time": "2022-03-11T03:29:04.748727Z",
     "start_time": "2022-03-11T03:28:42.305199Z"
    },
    "collapsed": true
   },
   "outputs": [
    {
     "name": "stdout",
     "output_type": "stream",
     "text": [
      "\n",
      "List of accuracies:         [51.   51.   51.   50.88 50.88]\n",
      "Mean accuracy:              50.95% +- 0.061%\n",
      "Incorrectly-predicted keys: 96.12% +- 1.500%\n",
      "Executed in:                0:00:08\n",
      "coef0 = -1\n",
      "\n",
      "List of accuracies:         [51.   51.   51.   50.88 50.88]\n",
      "Mean accuracy:              50.95% +- 0.061%\n",
      "Incorrectly-predicted keys: 96.12% +- 1.500%\n",
      "Executed in:                0:00:08\n",
      "coef0 = 0\n",
      "\n",
      "List of accuracies:         [51.   51.   51.   50.88 50.88]\n",
      "Mean accuracy:              50.95% +- 0.061%\n",
      "Incorrectly-predicted keys: 96.12% +- 1.500%\n",
      "Executed in:                0:00:07\n",
      "coef0 = 1\n",
      "\n",
      "Best accuracy:              50.95% ---> coef0 = -1\n",
      "Incorrectly-predicted keys: 96.12%\n"
     ]
    }
   ],
   "source": [
    "model = SVC(kernel='sigmoid', gamma='scale', coef0=0., probability=False, tol=1e-3, max_iter=-1, cache_size=1000,\n",
    "            random_state=seed, verbose=False)\n",
    "# Select hyperparameters\n",
    "# ***** test C\n",
    "model.coef0 = test_coef0(model, -1, 2, X_train, y_train, seed)"
   ]
  },
  {
   "cell_type": "code",
   "execution_count": 57,
   "id": "f2826606",
   "metadata": {
    "ExecuteTime": {
     "end_time": "2022-03-11T03:29:07.106671Z",
     "start_time": "2022-03-11T03:29:05.422555Z"
    },
    "code_folding": [
     0
    ]
   },
   "outputs": [],
   "source": [
    "# Train with full training set\n",
    "model.fit(X_train, y_train)\n",
    "# lst_acc, lst_wrong_keys = Train_stratCV(model, X_train, y_train, 5, seed)\n",
    "\n",
    "# Save model\n",
    "model_name = 'SVM_sigmoid1'\n",
    "joblib.dump(model, f'Results/Models/model_{model_name}_{nb_name}_{n}x{m}_noise_std={noise_std}_sampling={sampling_interval}.joblib');"
   ]
  },
  {
   "cell_type": "code",
   "execution_count": 58,
   "id": "3f426328",
   "metadata": {
    "ExecuteTime": {
     "end_time": "2022-03-11T03:29:08.641301Z",
     "start_time": "2022-03-11T03:29:07.791180Z"
    },
    "collapsed": true
   },
   "outputs": [
    {
     "name": "stdout",
     "output_type": "stream",
     "text": [
      "Mean accuracy on test set:      51.50%\n",
      "Incorrectly-predicted keys:     96.50%\n",
      "Incorrectly-predicted bits:     48.50%\n",
      "\n",
      "Report: \n",
      "               precision    recall  f1-score   support\n",
      "\n",
      "         0.0      0.000     0.000     0.000       485\n",
      "         1.0      0.515     1.000     0.680       515\n",
      "\n",
      "    accuracy                          0.515      1000\n",
      "   macro avg      0.258     0.500     0.340      1000\n",
      "weighted avg      0.265     0.515     0.350      1000\n",
      "\n",
      "Confusion matrix:\n"
     ]
    },
    {
     "name": "stderr",
     "output_type": "stream",
     "text": [
      "/home/v082327/.local/lib/python3.6/site-packages/sklearn/metrics/_classification.py:1248: UndefinedMetricWarning: Precision and F-score are ill-defined and being set to 0.0 in labels with no predicted samples. Use `zero_division` parameter to control this behavior.\n",
      "  _warn_prf(average, modifier, msg_start, len(result))\n",
      "/home/v082327/.local/lib/python3.6/site-packages/sklearn/metrics/_classification.py:1248: UndefinedMetricWarning: Precision and F-score are ill-defined and being set to 0.0 in labels with no predicted samples. Use `zero_division` parameter to control this behavior.\n",
      "  _warn_prf(average, modifier, msg_start, len(result))\n",
      "/home/v082327/.local/lib/python3.6/site-packages/sklearn/metrics/_classification.py:1248: UndefinedMetricWarning: Precision and F-score are ill-defined and being set to 0.0 in labels with no predicted samples. Use `zero_division` parameter to control this behavior.\n",
      "  _warn_prf(average, modifier, msg_start, len(result))\n"
     ]
    },
    {
     "data": {
      "image/png": "[encoded data removed]",
      "text/plain": [
       "<Figure size 216x144 with 1 Axes>"
      ]
     },
     "metadata": {},
     "output_type": "display_data"
    }
   ],
   "source": [
    "# Get prediction statistics\n",
    "get_statistics(model, X_test, y_test, model_name)"
   ]
  },
  {
   "cell_type": "code",
   "execution_count": 59,
   "id": "7cc84cf5",
   "metadata": {
    "ExecuteTime": {
     "end_time": "2022-03-11T03:29:19.088000Z",
     "start_time": "2022-03-11T03:29:09.330503Z"
    },
    "collapsed": true
   },
   "outputs": [
    {
     "name": "stdout",
     "output_type": "stream",
     "text": [
      "\n",
      "List of accuracies:         [51.   51.   51.   50.88 50.88]\n",
      "Mean accuracy:              50.95% +- 0.061%\n",
      "Incorrectly-predicted keys: 96.12% +- 1.500%\n",
      "Executed in:                0:00:03\n",
      "coef0 = -1\n",
      "\n",
      "List of accuracies:         [51.   51.   51.   50.88 50.88]\n",
      "Mean accuracy:              50.95% +- 0.061%\n",
      "Incorrectly-predicted keys: 96.12% +- 1.500%\n",
      "Executed in:                0:00:03\n",
      "coef0 = 0\n",
      "\n",
      "List of accuracies:         [51.   51.   51.   50.88 50.88]\n",
      "Mean accuracy:              50.95% +- 0.061%\n",
      "Incorrectly-predicted keys: 96.12% +- 1.500%\n",
      "Executed in:                0:00:03\n",
      "coef0 = 1\n",
      "\n",
      "Best accuracy:              50.95% ---> coef0 = -1\n",
      "Incorrectly-predicted keys: 96.12%\n"
     ]
    }
   ],
   "source": [
    "model = SVC(kernel='sigmoid', gamma='auto', coef0=0., probability=False, tol=1e-3, max_iter=-1, cache_size=1000,\n",
    "            random_state=seed, verbose=False)\n",
    "# Select hyperparameters\n",
    "# ***** test C\n",
    "model.coef0 = test_coef0(model, -1, 2, X_train, y_train, seed)"
   ]
  },
  {
   "cell_type": "code",
   "execution_count": 60,
   "id": "a749596c",
   "metadata": {
    "ExecuteTime": {
     "end_time": "2022-03-11T03:29:20.498193Z",
     "start_time": "2022-03-11T03:29:19.778865Z"
    },
    "code_folding": [
     0
    ]
   },
   "outputs": [],
   "source": [
    "# Train with full training set\n",
    "model.fit(X_train, y_train)\n",
    "# lst_acc, lst_wrong_keys = Train_stratCV(model, X_train, y_train, 5, seed)\n",
    "\n",
    "# Save model\n",
    "model_name = 'SVM_sigmoid2'\n",
    "joblib.dump(model, f'Results/Models/model_{model_name}_{nb_name}_{n}x{m}_noise_std={noise_std}_sampling={sampling_interval}.joblib');"
   ]
  },
  {
   "cell_type": "code",
   "execution_count": 61,
   "id": "8dd28f1d",
   "metadata": {
    "ExecuteTime": {
     "end_time": "2022-03-11T03:29:21.667785Z",
     "start_time": "2022-03-11T03:29:21.201414Z"
    },
    "collapsed": true
   },
   "outputs": [
    {
     "name": "stdout",
     "output_type": "stream",
     "text": [
      "Mean accuracy on test set:      51.50%\n",
      "Incorrectly-predicted keys:     96.50%\n",
      "Incorrectly-predicted bits:     48.50%\n",
      "\n",
      "Report: \n",
      "               precision    recall  f1-score   support\n",
      "\n",
      "         0.0      0.000     0.000     0.000       485\n",
      "         1.0      0.515     1.000     0.680       515\n",
      "\n",
      "    accuracy                          0.515      1000\n",
      "   macro avg      0.258     0.500     0.340      1000\n",
      "weighted avg      0.265     0.515     0.350      1000\n",
      "\n",
      "Confusion matrix:\n"
     ]
    },
    {
     "name": "stderr",
     "output_type": "stream",
     "text": [
      "/home/v082327/.local/lib/python3.6/site-packages/sklearn/metrics/_classification.py:1248: UndefinedMetricWarning: Precision and F-score are ill-defined and being set to 0.0 in labels with no predicted samples. Use `zero_division` parameter to control this behavior.\n",
      "  _warn_prf(average, modifier, msg_start, len(result))\n",
      "/home/v082327/.local/lib/python3.6/site-packages/sklearn/metrics/_classification.py:1248: UndefinedMetricWarning: Precision and F-score are ill-defined and being set to 0.0 in labels with no predicted samples. Use `zero_division` parameter to control this behavior.\n",
      "  _warn_prf(average, modifier, msg_start, len(result))\n",
      "/home/v082327/.local/lib/python3.6/site-packages/sklearn/metrics/_classification.py:1248: UndefinedMetricWarning: Precision and F-score are ill-defined and being set to 0.0 in labels with no predicted samples. Use `zero_division` parameter to control this behavior.\n",
      "  _warn_prf(average, modifier, msg_start, len(result))\n"
     ]
    },
    {
     "data": {
      "image/png": "[encoded data removed]",
      "text/plain": [
       "<Figure size 216x144 with 1 Axes>"
      ]
     },
     "metadata": {},
     "output_type": "display_data"
    }
   ],
   "source": [
    "# Get prediction statistics\n",
    "get_statistics(model, X_test, y_test, model_name)"
   ]
  },
  {
   "cell_type": "markdown",
   "id": "1f4231d0",
   "metadata": {},
   "source": [
    "### Naïve Bayes"
   ]
  },
  {
   "cell_type": "markdown",
   "id": "350bca37",
   "metadata": {},
   "source": [
    "#### Gaussian NB"
   ]
  },
  {
   "cell_type": "code",
   "execution_count": 62,
   "id": "48e357b4",
   "metadata": {
    "ExecuteTime": {
     "end_time": "2022-03-11T03:29:23.962696Z",
     "start_time": "2022-03-11T03:29:23.959966Z"
    }
   },
   "outputs": [],
   "source": [
    "model = GaussianNB(var_smoothing=1e-9)\n",
    "# Select hyperparameters\n",
    "# ***** test var_smoothing"
   ]
  },
  {
   "cell_type": "code",
   "execution_count": 63,
   "id": "681397d8",
   "metadata": {
    "ExecuteTime": {
     "end_time": "2022-03-11T03:29:25.755448Z",
     "start_time": "2022-03-11T03:29:25.748018Z"
    },
    "code_folding": [
     0
    ]
   },
   "outputs": [],
   "source": [
    "# Train with full training set\n",
    "model.fit(X_train, y_train)\n",
    "# lst_acc, lst_wrong_keys = Train_stratCV(model, X_train, y_train, 5, seed)\n",
    "\n",
    "# Save model\n",
    "model_name = 'NB_gaussian'\n",
    "joblib.dump(model, f'Results/Models/model_{model_name}_{nb_name}_{n}x{m}_noise_std={noise_std}_sampling={sampling_interval}.joblib');"
   ]
  },
  {
   "cell_type": "code",
   "execution_count": 64,
   "id": "310ae1bd",
   "metadata": {
    "ExecuteTime": {
     "end_time": "2022-03-11T03:29:27.383180Z",
     "start_time": "2022-03-11T03:29:27.216358Z"
    },
    "collapsed": true
   },
   "outputs": [
    {
     "name": "stdout",
     "output_type": "stream",
     "text": [
      "Mean accuracy on test set:      89.10%\n",
      "Mean certainty (even if wrong): 94.99%\n",
      "\n",
      "Incorrectly-predicted keys:     40.00%\n",
      "Incorrectly-predicted bits:     10.90%\n",
      "\n",
      "Report: \n",
      "               precision    recall  f1-score   support\n",
      "\n",
      "         0.0      0.852     0.938     0.893       485\n",
      "         1.0      0.936     0.847     0.889       515\n",
      "\n",
      "    accuracy                          0.891      1000\n",
      "   macro avg      0.894     0.892     0.891      1000\n",
      "weighted avg      0.895     0.891     0.891      1000\n",
      "\n",
      "Confusion matrix:\n"
     ]
    },
    {
     "data": {
      "image/png": "[encoded data removed]",
      "text/plain": [
       "<Figure size 216x144 with 1 Axes>"
      ]
     },
     "metadata": {},
     "output_type": "display_data"
    }
   ],
   "source": [
    "# Get prediction statistics\n",
    "get_statistics(model, X_test, y_test, model_name, prob=True)"
   ]
  },
  {
   "cell_type": "markdown",
   "id": "687d07fb",
   "metadata": {},
   "source": [
    "#### Multinomial NB"
   ]
  },
  {
   "cell_type": "code",
   "execution_count": 65,
   "id": "ba4cbff5",
   "metadata": {
    "ExecuteTime": {
     "end_time": "2022-03-11T03:29:31.487272Z",
     "start_time": "2022-03-11T03:29:31.484608Z"
    }
   },
   "outputs": [],
   "source": [
    "model = MultinomialNB(alpha=1.) # does not work with negative values\n",
    "# Select hyperparameters\n",
    "# ***** test alpha"
   ]
  },
  {
   "cell_type": "code",
   "execution_count": 66,
   "id": "89dfa242",
   "metadata": {
    "ExecuteTime": {
     "end_time": "2022-03-11T03:29:32.210438Z",
     "start_time": "2022-03-11T03:29:32.202970Z"
    }
   },
   "outputs": [
    {
     "data": {
      "text/plain": [
       "30"
      ]
     },
     "execution_count": 66,
     "metadata": {},
     "output_type": "execute_result"
    }
   ],
   "source": [
    "# Train with full training set\n",
    "model.fit(X_train, y_train)\n",
    "# lst_acc, lst_wrong_keys = Train_stratCV(model, X_train, y_train, 5, seed)\n",
    "\n",
    "# Save model\n",
    "model_name = 'NB_multi'\n",
    "joblib.dump(model, f'Results/Models/model_{model_name}_{nb_name}_{n}x{m}_noise_std={noise_std}_sampling={sampling_interval}.joblib');\n",
    "\n",
    "model.n_features_in_#, model.feature_count_"
   ]
  },
  {
   "cell_type": "code",
   "execution_count": 67,
   "id": "ff0c80fb",
   "metadata": {
    "ExecuteTime": {
     "end_time": "2022-03-11T03:29:33.795984Z",
     "start_time": "2022-03-11T03:29:33.631057Z"
    },
    "collapsed": true
   },
   "outputs": [
    {
     "name": "stdout",
     "output_type": "stream",
     "text": [
      "Mean accuracy on test set:      71.30%\n",
      "Mean certainty (even if wrong): 80.42%\n",
      "\n",
      "Incorrectly-predicted keys:     74.50%\n",
      "Incorrectly-predicted bits:     28.70%\n",
      "\n",
      "Report: \n",
      "               precision    recall  f1-score   support\n",
      "\n",
      "         0.0      0.702     0.709     0.706       485\n",
      "         1.0      0.724     0.717     0.720       515\n",
      "\n",
      "    accuracy                          0.713      1000\n",
      "   macro avg      0.713     0.713     0.713      1000\n",
      "weighted avg      0.713     0.713     0.713      1000\n",
      "\n",
      "Confusion matrix:\n"
     ]
    },
    {
     "data": {
      "image/png": "[encoded data removed]",
      "text/plain": [
       "<Figure size 216x144 with 1 Axes>"
      ]
     },
     "metadata": {},
     "output_type": "display_data"
    }
   ],
   "source": [
    "# Get prediction statistics\n",
    "get_statistics(model, X_test, y_test, model_name, prob=True)"
   ]
  },
  {
   "cell_type": "markdown",
   "id": "ec4488ca",
   "metadata": {},
   "source": [
    "#### Categorical NB"
   ]
  },
  {
   "cell_type": "code",
   "execution_count": 68,
   "id": "08215277",
   "metadata": {
    "ExecuteTime": {
     "end_time": "2022-03-11T03:29:36.500350Z",
     "start_time": "2022-03-11T03:29:36.497707Z"
    },
    "scrolled": true
   },
   "outputs": [],
   "source": [
    "model = CategoricalNB(alpha=0.001, min_categories=1) # does not work with negative values\n",
    "# Select hyperparameters\n",
    "# ***** test alpha & min_categories"
   ]
  },
  {
   "cell_type": "code",
   "execution_count": 69,
   "id": "946789bb",
   "metadata": {
    "ExecuteTime": {
     "end_time": "2022-03-11T03:29:37.999205Z",
     "start_time": "2022-03-11T03:29:37.981582Z"
    }
   },
   "outputs": [
    {
     "data": {
      "text/plain": [
       "(30,\n",
       " array([16,  8, 16,  8, 16,  8, 16,  8,  7,  8, 14, 16, 14,  8,  8,  8,  8,\n",
       "        14, 16, 14,  8,  8,  8,  8, 14, 16, 14,  8,  8,  8]))"
      ]
     },
     "execution_count": 69,
     "metadata": {},
     "output_type": "execute_result"
    }
   ],
   "source": [
    "# Train with full training set\n",
    "model.fit(X_train, y_train)\n",
    "# lst_acc, lst_wrong_keys = Train_stratCV(model, X_train, y_train, 5, seed)\n",
    "\n",
    "# Save model\n",
    "model_name = 'NB_cat'\n",
    "joblib.dump(model, f'Results/Models/model_{model_name}_{nb_name}_{n}x{m}_noise_std={noise_std}_sampling={sampling_interval}.joblib');\n",
    "\n",
    "model.n_features_in_, model.n_categories_"
   ]
  },
  {
   "cell_type": "code",
   "execution_count": 70,
   "id": "b99c1e5f",
   "metadata": {
    "ExecuteTime": {
     "end_time": "2022-03-11T03:29:39.678163Z",
     "start_time": "2022-03-11T03:29:39.511953Z"
    },
    "collapsed": true
   },
   "outputs": [
    {
     "name": "stdout",
     "output_type": "stream",
     "text": [
      "Mean accuracy on test set:      83.10%\n",
      "Mean certainty (even if wrong): 94.17%\n",
      "\n",
      "Incorrectly-predicted keys:     48.50%\n",
      "Incorrectly-predicted bits:     16.90%\n",
      "\n",
      "Report: \n",
      "               precision    recall  f1-score   support\n",
      "\n",
      "         0.0      0.832     0.816     0.824       485\n",
      "         1.0      0.830     0.845     0.837       515\n",
      "\n",
      "    accuracy                          0.831      1000\n",
      "   macro avg      0.831     0.831     0.831      1000\n",
      "weighted avg      0.831     0.831     0.831      1000\n",
      "\n",
      "Confusion matrix:\n"
     ]
    },
    {
     "data": {
      "image/png": "[encoded data removed]",
      "text/plain": [
       "<Figure size 216x144 with 1 Axes>"
      ]
     },
     "metadata": {},
     "output_type": "display_data"
    }
   ],
   "source": [
    "# Get prediction statistics\n",
    "get_statistics(model, X_test, y_test, model_name, prob=True)"
   ]
  },
  {
   "cell_type": "markdown",
   "id": "3bafde67",
   "metadata": {},
   "source": [
    "### Decision tree"
   ]
  },
  {
   "cell_type": "code",
   "execution_count": 83,
   "id": "8e510c46",
   "metadata": {
    "ExecuteTime": {
     "end_time": "2022-03-11T03:32:57.394804Z",
     "start_time": "2022-03-11T03:32:43.972173Z"
    },
    "code_folding": [],
    "collapsed": true
   },
   "outputs": [
    {
     "name": "stdout",
     "output_type": "stream",
     "text": [
      "\n",
      "List of accuracies:         [89.25 88.62 89.38 89.38 90.75]\n",
      "Mean accuracy:              89.47% +- 0.696%\n",
      "Incorrectly-predicted keys: 43.50% +- 2.812%\n",
      "Executed in:                0:00:00\n",
      "gini, 5, None, None, 1e-01\n",
      "\n",
      "List of accuracies:         [ 99.88 100.    99.88 100.   100.  ]\n",
      "Mean accuracy:              99.95% +- 0.061%\n",
      "Incorrectly-predicted keys:  0.25% +- 0.306%\n",
      "Executed in:                0:00:00\n",
      "gini, 5, None, None, 1e-02\n",
      "\n",
      "List of accuracies:         [ 99.88 100.    99.88 100.   100.  ]\n",
      "Mean accuracy:              99.95% +- 0.061%\n",
      "Incorrectly-predicted keys:  0.25% +- 0.306%\n",
      "Executed in:                0:00:00\n",
      "gini, 5, None, None, 1e-03\n",
      "\n",
      "List of accuracies:         [ 99.88 100.    99.88 100.   100.  ]\n",
      "Mean accuracy:              99.95% +- 0.061%\n",
      "Incorrectly-predicted keys:  0.25% +- 0.306%\n",
      "Executed in:                0:00:00\n",
      "gini, 5, None, None, 1e-04\n",
      "\n",
      "List of accuracies:         [ 99.88 100.    99.88 100.   100.  ]\n",
      "Mean accuracy:              99.95% +- 0.061%\n",
      "Incorrectly-predicted keys:  0.25% +- 0.306%\n",
      "Executed in:                0:00:00\n",
      "gini, 5, None, None, 1e-05\n",
      "\n",
      "List of accuracies:         [ 99.88 100.    99.88 100.   100.  ]\n",
      "Mean accuracy:              99.95% +- 0.061%\n",
      "Incorrectly-predicted keys:  0.25% +- 0.306%\n",
      "Executed in:                0:00:00\n",
      "gini, 5, None, None, 1e-06\n",
      "\n",
      "List of accuracies:         [ 99.88 100.    99.88 100.   100.  ]\n",
      "Mean accuracy:              99.95% +- 0.061%\n",
      "Incorrectly-predicted keys:  0.25% +- 0.306%\n",
      "Executed in:                0:00:00\n",
      "gini, 5, None, None, 1e-07\n",
      "\n",
      "List of accuracies:         [ 99.88 100.    99.88 100.   100.  ]\n",
      "Mean accuracy:              99.95% +- 0.061%\n",
      "Incorrectly-predicted keys:  0.25% +- 0.306%\n",
      "Executed in:                0:00:00\n",
      "gini, 5, None, None, 0e+00\n",
      "\n",
      "List of accuracies:         [89.25 88.62 89.38 89.38 90.75]\n",
      "Mean accuracy:              89.47% +- 0.696%\n",
      "Incorrectly-predicted keys: 43.50% +- 2.812%\n",
      "Executed in:                0:00:00\n",
      "gini, 10, None, None, 1e-01\n",
      "\n",
      "List of accuracies:         [ 99.88 100.    99.88 100.   100.  ]\n",
      "Mean accuracy:              99.95% +- 0.061%\n",
      "Incorrectly-predicted keys:  0.25% +- 0.306%\n",
      "Executed in:                0:00:00\n",
      "gini, 10, None, None, 1e-02\n",
      "\n",
      "List of accuracies:         [ 99.88 100.    99.88 100.   100.  ]\n",
      "Mean accuracy:              99.95% +- 0.061%\n",
      "Incorrectly-predicted keys:  0.25% +- 0.306%\n",
      "Executed in:                0:00:00\n",
      "gini, 10, None, None, 1e-03\n",
      "\n",
      "List of accuracies:         [ 99.88 100.    99.88 100.   100.  ]\n",
      "Mean accuracy:              99.95% +- 0.061%\n",
      "Incorrectly-predicted keys:  0.25% +- 0.306%\n",
      "Executed in:                0:00:00\n",
      "gini, 10, None, None, 1e-04\n",
      "\n",
      "List of accuracies:         [ 99.88 100.    99.88 100.   100.  ]\n",
      "Mean accuracy:              99.95% +- 0.061%\n",
      "Incorrectly-predicted keys:  0.25% +- 0.306%\n",
      "Executed in:                0:00:00\n",
      "gini, 10, None, None, 1e-05\n",
      "\n",
      "List of accuracies:         [ 99.88 100.    99.88 100.   100.  ]\n",
      "Mean accuracy:              99.95% +- 0.061%\n",
      "Incorrectly-predicted keys:  0.25% +- 0.306%\n",
      "Executed in:                0:00:00\n",
      "gini, 10, None, None, 1e-06\n",
      "\n",
      "List of accuracies:         [ 99.88 100.    99.88 100.   100.  ]\n",
      "Mean accuracy:              99.95% +- 0.061%\n",
      "Incorrectly-predicted keys:  0.25% +- 0.306%\n",
      "Executed in:                0:00:00\n",
      "gini, 10, None, None, 1e-07\n",
      "\n",
      "List of accuracies:         [ 99.88 100.    99.88 100.   100.  ]\n",
      "Mean accuracy:              99.95% +- 0.061%\n",
      "Incorrectly-predicted keys:  0.25% +- 0.306%\n",
      "Executed in:                0:00:00\n",
      "gini, 10, None, None, 0e+00\n",
      "\n",
      "List of accuracies:         [89.25 88.62 89.38 89.38 90.75]\n",
      "Mean accuracy:              89.47% +- 0.696%\n",
      "Incorrectly-predicted keys: 43.50% +- 2.812%\n",
      "Executed in:                0:00:00\n",
      "gini, 20, None, None, 1e-01\n",
      "\n",
      "List of accuracies:         [ 99.88 100.    99.88 100.   100.  ]\n",
      "Mean accuracy:              99.95% +- 0.061%\n",
      "Incorrectly-predicted keys:  0.25% +- 0.306%\n",
      "Executed in:                0:00:00\n",
      "gini, 20, None, None, 1e-02\n",
      "\n",
      "List of accuracies:         [ 99.88 100.    99.88 100.   100.  ]\n",
      "Mean accuracy:              99.95% +- 0.061%\n",
      "Incorrectly-predicted keys:  0.25% +- 0.306%\n",
      "Executed in:                0:00:00\n",
      "gini, 20, None, None, 1e-03\n",
      "\n",
      "List of accuracies:         [ 99.88 100.    99.88 100.   100.  ]\n",
      "Mean accuracy:              99.95% +- 0.061%\n",
      "Incorrectly-predicted keys:  0.25% +- 0.306%\n",
      "Executed in:                0:00:00\n",
      "gini, 20, None, None, 1e-04\n",
      "\n",
      "List of accuracies:         [ 99.88 100.    99.88 100.   100.  ]\n",
      "Mean accuracy:              99.95% +- 0.061%\n",
      "Incorrectly-predicted keys:  0.25% +- 0.306%\n",
      "Executed in:                0:00:00\n",
      "gini, 20, None, None, 1e-05\n",
      "\n",
      "List of accuracies:         [ 99.88 100.    99.88 100.   100.  ]\n",
      "Mean accuracy:              99.95% +- 0.061%\n",
      "Incorrectly-predicted keys:  0.25% +- 0.306%\n",
      "Executed in:                0:00:00\n",
      "gini, 20, None, None, 1e-06\n",
      "\n",
      "List of accuracies:         [ 99.88 100.    99.88 100.   100.  ]\n",
      "Mean accuracy:              99.95% +- 0.061%\n",
      "Incorrectly-predicted keys:  0.25% +- 0.306%\n",
      "Executed in:                0:00:00\n",
      "gini, 20, None, None, 1e-07\n",
      "\n",
      "List of accuracies:         [ 99.88 100.    99.88 100.   100.  ]\n",
      "Mean accuracy:              99.95% +- 0.061%\n",
      "Incorrectly-predicted keys:  0.25% +- 0.306%\n",
      "Executed in:                0:00:00\n",
      "gini, 20, None, None, 0e+00\n",
      "\n",
      "List of accuracies:         [89.25 88.62 89.38 89.38 90.75]\n",
      "Mean accuracy:              89.47% +- 0.696%\n",
      "Incorrectly-predicted keys: 43.50% +- 2.812%\n",
      "Executed in:                0:00:00\n",
      "gini, 30, None, None, 1e-01\n",
      "\n",
      "List of accuracies:         [ 99.88 100.    99.88 100.   100.  ]\n",
      "Mean accuracy:              99.95% +- 0.061%\n",
      "Incorrectly-predicted keys:  0.25% +- 0.306%\n",
      "Executed in:                0:00:00\n",
      "gini, 30, None, None, 1e-02\n",
      "\n",
      "List of accuracies:         [ 99.88 100.    99.88 100.   100.  ]\n",
      "Mean accuracy:              99.95% +- 0.061%\n",
      "Incorrectly-predicted keys:  0.25% +- 0.306%\n",
      "Executed in:                0:00:00\n",
      "gini, 30, None, None, 1e-03\n",
      "\n",
      "List of accuracies:         [ 99.88 100.    99.88 100.   100.  ]\n",
      "Mean accuracy:              99.95% +- 0.061%\n",
      "Incorrectly-predicted keys:  0.25% +- 0.306%\n",
      "Executed in:                0:00:00\n",
      "gini, 30, None, None, 1e-04\n",
      "\n",
      "List of accuracies:         [ 99.88 100.    99.88 100.   100.  ]\n",
      "Mean accuracy:              99.95% +- 0.061%\n",
      "Incorrectly-predicted keys:  0.25% +- 0.306%\n",
      "Executed in:                0:00:00\n",
      "gini, 30, None, None, 1e-05\n",
      "\n",
      "List of accuracies:         [ 99.88 100.    99.88 100.   100.  ]\n",
      "Mean accuracy:              99.95% +- 0.061%\n",
      "Incorrectly-predicted keys:  0.25% +- 0.306%\n",
      "Executed in:                0:00:00\n",
      "gini, 30, None, None, 1e-06\n",
      "\n",
      "List of accuracies:         [ 99.88 100.    99.88 100.   100.  ]\n",
      "Mean accuracy:              99.95% +- 0.061%\n",
      "Incorrectly-predicted keys:  0.25% +- 0.306%\n",
      "Executed in:                0:00:00\n",
      "gini, 30, None, None, 1e-07\n",
      "\n",
      "List of accuracies:         [ 99.88 100.    99.88 100.   100.  ]\n",
      "Mean accuracy:              99.95% +- 0.061%\n",
      "Incorrectly-predicted keys:  0.25% +- 0.306%\n",
      "Executed in:                0:00:00\n",
      "gini, 30, None, None, 0e+00\n",
      "\n",
      "List of accuracies:         [89.25 88.62 89.38 89.38 90.75]\n",
      "Mean accuracy:              89.47% +- 0.696%\n",
      "Incorrectly-predicted keys: 43.50% +- 2.812%\n",
      "Executed in:                0:00:00\n",
      "gini, None, None, None, 1e-01\n",
      "\n",
      "List of accuracies:         [ 99.88 100.    99.88 100.   100.  ]\n",
      "Mean accuracy:              99.95% +- 0.061%\n",
      "Incorrectly-predicted keys:  0.25% +- 0.306%\n",
      "Executed in:                0:00:00\n",
      "gini, None, None, None, 1e-02\n",
      "\n",
      "List of accuracies:         [ 99.88 100.    99.88 100.   100.  ]\n",
      "Mean accuracy:              99.95% +- 0.061%\n",
      "Incorrectly-predicted keys:  0.25% +- 0.306%\n",
      "Executed in:                0:00:00\n",
      "gini, None, None, None, 1e-03\n",
      "\n",
      "List of accuracies:         [ 99.88 100.    99.88 100.   100.  ]\n",
      "Mean accuracy:              99.95% +- 0.061%\n",
      "Incorrectly-predicted keys:  0.25% +- 0.306%\n",
      "Executed in:                0:00:00\n",
      "gini, None, None, None, 1e-04\n",
      "\n",
      "List of accuracies:         [ 99.88 100.    99.88 100.   100.  ]\n",
      "Mean accuracy:              99.95% +- 0.061%\n",
      "Incorrectly-predicted keys:  0.25% +- 0.306%\n",
      "Executed in:                0:00:00\n",
      "gini, None, None, None, 1e-05\n",
      "\n",
      "List of accuracies:         [ 99.88 100.    99.88 100.   100.  ]\n",
      "Mean accuracy:              99.95% +- 0.061%\n",
      "Incorrectly-predicted keys:  0.25% +- 0.306%\n",
      "Executed in:                0:00:00\n",
      "gini, None, None, None, 1e-06\n"
     ]
    },
    {
     "name": "stdout",
     "output_type": "stream",
     "text": [
      "\n",
      "List of accuracies:         [ 99.88 100.    99.88 100.   100.  ]\n",
      "Mean accuracy:              99.95% +- 0.061%\n",
      "Incorrectly-predicted keys:  0.25% +- 0.306%\n",
      "Executed in:                0:00:00\n",
      "gini, None, None, None, 1e-07\n",
      "\n",
      "List of accuracies:         [ 99.88 100.    99.88 100.   100.  ]\n",
      "Mean accuracy:              99.95% +- 0.061%\n",
      "Incorrectly-predicted keys:  0.25% +- 0.306%\n",
      "Executed in:                0:00:00\n",
      "gini, None, None, None, 0e+00\n",
      "\n",
      "List of accuracies:         [96.88 98.12 97.75 97.75 97.75]\n",
      "Mean accuracy:              97.65% +- 0.414%\n",
      "Incorrectly-predicted keys: 11.00% +- 1.225%\n",
      "Executed in:                0:00:00\n",
      "entropy, 5, None, None, 1e-01\n",
      "\n",
      "List of accuracies:         [ 99.88 100.    99.88 100.   100.  ]\n",
      "Mean accuracy:              99.95% +- 0.061%\n",
      "Incorrectly-predicted keys:  0.25% +- 0.306%\n",
      "Executed in:                0:00:00\n",
      "entropy, 5, None, None, 1e-02\n",
      "\n",
      "List of accuracies:         [ 99.88 100.    99.88 100.   100.  ]\n",
      "Mean accuracy:              99.95% +- 0.061%\n",
      "Incorrectly-predicted keys:  0.25% +- 0.306%\n",
      "Executed in:                0:00:00\n",
      "entropy, 5, None, None, 1e-03\n",
      "\n",
      "List of accuracies:         [ 99.88 100.    99.88 100.   100.  ]\n",
      "Mean accuracy:              99.95% +- 0.061%\n",
      "Incorrectly-predicted keys:  0.25% +- 0.306%\n",
      "Executed in:                0:00:00\n",
      "entropy, 5, None, None, 1e-04\n",
      "\n",
      "List of accuracies:         [ 99.88 100.    99.88 100.   100.  ]\n",
      "Mean accuracy:              99.95% +- 0.061%\n",
      "Incorrectly-predicted keys:  0.25% +- 0.306%\n",
      "Executed in:                0:00:00\n",
      "entropy, 5, None, None, 1e-05\n",
      "\n",
      "List of accuracies:         [ 99.88 100.    99.88 100.   100.  ]\n",
      "Mean accuracy:              99.95% +- 0.061%\n",
      "Incorrectly-predicted keys:  0.25% +- 0.306%\n",
      "Executed in:                0:00:00\n",
      "entropy, 5, None, None, 1e-06\n",
      "\n",
      "List of accuracies:         [ 99.88 100.    99.88 100.   100.  ]\n",
      "Mean accuracy:              99.95% +- 0.061%\n",
      "Incorrectly-predicted keys:  0.25% +- 0.306%\n",
      "Executed in:                0:00:00\n",
      "entropy, 5, None, None, 1e-07\n",
      "\n",
      "List of accuracies:         [ 99.88 100.    99.88 100.   100.  ]\n",
      "Mean accuracy:              99.95% +- 0.061%\n",
      "Incorrectly-predicted keys:  0.25% +- 0.306%\n",
      "Executed in:                0:00:00\n",
      "entropy, 5, None, None, 0e+00\n",
      "\n",
      "List of accuracies:         [96.88 98.12 97.75 97.75 97.75]\n",
      "Mean accuracy:              97.65% +- 0.414%\n",
      "Incorrectly-predicted keys: 11.00% +- 1.225%\n",
      "Executed in:                0:00:00\n",
      "entropy, 10, None, None, 1e-01\n",
      "\n",
      "List of accuracies:         [ 99.88 100.    99.88 100.   100.  ]\n",
      "Mean accuracy:              99.95% +- 0.061%\n",
      "Incorrectly-predicted keys:  0.25% +- 0.306%\n",
      "Executed in:                0:00:00\n",
      "entropy, 10, None, None, 1e-02\n",
      "\n",
      "List of accuracies:         [ 99.88 100.    99.88 100.   100.  ]\n",
      "Mean accuracy:              99.95% +- 0.061%\n",
      "Incorrectly-predicted keys:  0.25% +- 0.306%\n",
      "Executed in:                0:00:00\n",
      "entropy, 10, None, None, 1e-03\n",
      "\n",
      "List of accuracies:         [ 99.88 100.    99.88 100.   100.  ]\n",
      "Mean accuracy:              99.95% +- 0.061%\n",
      "Incorrectly-predicted keys:  0.25% +- 0.306%\n",
      "Executed in:                0:00:00\n",
      "entropy, 10, None, None, 1e-04\n",
      "\n",
      "List of accuracies:         [ 99.88 100.    99.88 100.   100.  ]\n",
      "Mean accuracy:              99.95% +- 0.061%\n",
      "Incorrectly-predicted keys:  0.25% +- 0.306%\n",
      "Executed in:                0:00:00\n",
      "entropy, 10, None, None, 1e-05\n",
      "\n",
      "List of accuracies:         [ 99.88 100.    99.88 100.   100.  ]\n",
      "Mean accuracy:              99.95% +- 0.061%\n",
      "Incorrectly-predicted keys:  0.25% +- 0.306%\n",
      "Executed in:                0:00:00\n",
      "entropy, 10, None, None, 1e-06\n",
      "\n",
      "List of accuracies:         [ 99.88 100.    99.88 100.   100.  ]\n",
      "Mean accuracy:              99.95% +- 0.061%\n",
      "Incorrectly-predicted keys:  0.25% +- 0.306%\n",
      "Executed in:                0:00:00\n",
      "entropy, 10, None, None, 1e-07\n",
      "\n",
      "List of accuracies:         [ 99.88 100.    99.88 100.   100.  ]\n",
      "Mean accuracy:              99.95% +- 0.061%\n",
      "Incorrectly-predicted keys:  0.25% +- 0.306%\n",
      "Executed in:                0:00:00\n",
      "entropy, 10, None, None, 0e+00\n",
      "\n",
      "List of accuracies:         [96.88 98.12 97.75 97.75 97.75]\n",
      "Mean accuracy:              97.65% +- 0.414%\n",
      "Incorrectly-predicted keys: 11.00% +- 1.225%\n",
      "Executed in:                0:00:00\n",
      "entropy, 20, None, None, 1e-01\n",
      "\n",
      "List of accuracies:         [ 99.88 100.    99.88 100.   100.  ]\n",
      "Mean accuracy:              99.95% +- 0.061%\n",
      "Incorrectly-predicted keys:  0.25% +- 0.306%\n",
      "Executed in:                0:00:00\n",
      "entropy, 20, None, None, 1e-02\n",
      "\n",
      "List of accuracies:         [ 99.88 100.    99.88 100.   100.  ]\n",
      "Mean accuracy:              99.95% +- 0.061%\n",
      "Incorrectly-predicted keys:  0.25% +- 0.306%\n",
      "Executed in:                0:00:00\n",
      "entropy, 20, None, None, 1e-03\n",
      "\n",
      "List of accuracies:         [ 99.88 100.    99.88 100.   100.  ]\n",
      "Mean accuracy:              99.95% +- 0.061%\n",
      "Incorrectly-predicted keys:  0.25% +- 0.306%\n",
      "Executed in:                0:00:00\n",
      "entropy, 20, None, None, 1e-04\n",
      "\n",
      "List of accuracies:         [ 99.88 100.    99.88 100.   100.  ]\n",
      "Mean accuracy:              99.95% +- 0.061%\n",
      "Incorrectly-predicted keys:  0.25% +- 0.306%\n",
      "Executed in:                0:00:00\n",
      "entropy, 20, None, None, 1e-05\n",
      "\n",
      "List of accuracies:         [ 99.88 100.    99.88 100.   100.  ]\n",
      "Mean accuracy:              99.95% +- 0.061%\n",
      "Incorrectly-predicted keys:  0.25% +- 0.306%\n",
      "Executed in:                0:00:00\n",
      "entropy, 20, None, None, 1e-06\n",
      "\n",
      "List of accuracies:         [ 99.88 100.    99.88 100.   100.  ]\n",
      "Mean accuracy:              99.95% +- 0.061%\n",
      "Incorrectly-predicted keys:  0.25% +- 0.306%\n",
      "Executed in:                0:00:00\n",
      "entropy, 20, None, None, 1e-07\n",
      "\n",
      "List of accuracies:         [ 99.88 100.    99.88 100.   100.  ]\n",
      "Mean accuracy:              99.95% +- 0.061%\n",
      "Incorrectly-predicted keys:  0.25% +- 0.306%\n",
      "Executed in:                0:00:00\n",
      "entropy, 20, None, None, 0e+00\n",
      "\n",
      "List of accuracies:         [96.88 98.12 97.75 97.75 97.75]\n",
      "Mean accuracy:              97.65% +- 0.414%\n",
      "Incorrectly-predicted keys: 11.00% +- 1.225%\n",
      "Executed in:                0:00:00\n",
      "entropy, 30, None, None, 1e-01\n",
      "\n",
      "List of accuracies:         [ 99.88 100.    99.88 100.   100.  ]\n",
      "Mean accuracy:              99.95% +- 0.061%\n",
      "Incorrectly-predicted keys:  0.25% +- 0.306%\n",
      "Executed in:                0:00:00\n",
      "entropy, 30, None, None, 1e-02\n",
      "\n",
      "List of accuracies:         [ 99.88 100.    99.88 100.   100.  ]\n",
      "Mean accuracy:              99.95% +- 0.061%\n",
      "Incorrectly-predicted keys:  0.25% +- 0.306%\n",
      "Executed in:                0:00:00\n",
      "entropy, 30, None, None, 1e-03\n",
      "\n",
      "List of accuracies:         [ 99.88 100.    99.88 100.   100.  ]\n",
      "Mean accuracy:              99.95% +- 0.061%\n",
      "Incorrectly-predicted keys:  0.25% +- 0.306%\n",
      "Executed in:                0:00:00\n",
      "entropy, 30, None, None, 1e-04\n",
      "\n",
      "List of accuracies:         [ 99.88 100.    99.88 100.   100.  ]\n",
      "Mean accuracy:              99.95% +- 0.061%\n",
      "Incorrectly-predicted keys:  0.25% +- 0.306%\n",
      "Executed in:                0:00:00\n",
      "entropy, 30, None, None, 1e-05\n",
      "\n",
      "List of accuracies:         [ 99.88 100.    99.88 100.   100.  ]\n",
      "Mean accuracy:              99.95% +- 0.061%\n",
      "Incorrectly-predicted keys:  0.25% +- 0.306%\n",
      "Executed in:                0:00:00\n",
      "entropy, 30, None, None, 1e-06\n",
      "\n",
      "List of accuracies:         [ 99.88 100.    99.88 100.   100.  ]\n",
      "Mean accuracy:              99.95% +- 0.061%\n",
      "Incorrectly-predicted keys:  0.25% +- 0.306%\n",
      "Executed in:                0:00:00\n",
      "entropy, 30, None, None, 1e-07\n",
      "\n",
      "List of accuracies:         [ 99.88 100.    99.88 100.   100.  ]\n",
      "Mean accuracy:              99.95% +- 0.061%\n",
      "Incorrectly-predicted keys:  0.25% +- 0.306%\n",
      "Executed in:                0:00:00\n",
      "entropy, 30, None, None, 0e+00\n",
      "\n",
      "List of accuracies:         [96.88 98.12 97.75 97.75 97.75]\n",
      "Mean accuracy:              97.65% +- 0.414%\n",
      "Incorrectly-predicted keys: 11.00% +- 1.225%\n",
      "Executed in:                0:00:00\n",
      "entropy, None, None, None, 1e-01\n",
      "\n",
      "List of accuracies:         [ 99.88 100.    99.88 100.   100.  ]\n",
      "Mean accuracy:              99.95% +- 0.061%\n",
      "Incorrectly-predicted keys:  0.25% +- 0.306%\n",
      "Executed in:                0:00:00\n",
      "entropy, None, None, None, 1e-02\n",
      "\n",
      "List of accuracies:         [ 99.88 100.    99.88 100.   100.  ]\n",
      "Mean accuracy:              99.95% +- 0.061%\n",
      "Incorrectly-predicted keys:  0.25% +- 0.306%\n",
      "Executed in:                0:00:00\n",
      "entropy, None, None, None, 1e-03\n"
     ]
    },
    {
     "name": "stdout",
     "output_type": "stream",
     "text": [
      "\n",
      "List of accuracies:         [ 99.88 100.    99.88 100.   100.  ]\n",
      "Mean accuracy:              99.95% +- 0.061%\n",
      "Incorrectly-predicted keys:  0.25% +- 0.306%\n",
      "Executed in:                0:00:00\n",
      "entropy, None, None, None, 1e-04\n",
      "\n",
      "List of accuracies:         [ 99.88 100.    99.88 100.   100.  ]\n",
      "Mean accuracy:              99.95% +- 0.061%\n",
      "Incorrectly-predicted keys:  0.25% +- 0.306%\n",
      "Executed in:                0:00:00\n",
      "entropy, None, None, None, 1e-05\n",
      "\n",
      "List of accuracies:         [ 99.88 100.    99.88 100.   100.  ]\n",
      "Mean accuracy:              99.95% +- 0.061%\n",
      "Incorrectly-predicted keys:  0.25% +- 0.306%\n",
      "Executed in:                0:00:00\n",
      "entropy, None, None, None, 1e-06\n",
      "\n",
      "List of accuracies:         [ 99.88 100.    99.88 100.   100.  ]\n",
      "Mean accuracy:              99.95% +- 0.061%\n",
      "Incorrectly-predicted keys:  0.25% +- 0.306%\n",
      "Executed in:                0:00:00\n",
      "entropy, None, None, None, 1e-07\n",
      "\n",
      "List of accuracies:         [ 99.88 100.    99.88 100.   100.  ]\n",
      "Mean accuracy:              99.95% +- 0.061%\n",
      "Incorrectly-predicted keys:  0.25% +- 0.306%\n",
      "Executed in:                0:00:00\n",
      "entropy, None, None, None, 0e+00\n",
      "\n",
      "Best accuracy:              99.95%\n",
      "Incorrectly-predicted keys: 0.25%\n",
      "criterion                 = gini\n",
      "max_depth                 = 5\n",
      "max_features              = None\n",
      "max_leaf_nodes            = None\n",
      "min_impurity_decrease     = 1e-02\n"
     ]
    }
   ],
   "source": [
    "model = DecisionTreeClassifier(criterion=None, max_depth=None, max_features=None, max_leaf_nodes=None, min_impurity_decrease=None,\n",
    "                               random_state=seed)\n",
    "# Select hyperparameters\n",
    "best_par = test_trees(model, X_train, y_train, seed,\n",
    "                      criterion=['gini', 'entropy'],\n",
    "                      max_depth=[5, 10, 20, 30, None],\n",
    "                      # max_features=[0.25, 0.5, 0.75, None],\n",
    "                      # max_leaf_nodes=range(2, 21),\n",
    "                      min_impurity_decrease=[*(10.**-np.arange(1, 8))]+[0.]\n",
    "                     )\n",
    "model.criterion             = best_par[0]\n",
    "model.max_depth             = best_par[1]\n",
    "model.max_features          = best_par[2]\n",
    "model.max_leaf_nodes        = best_par[3]\n",
    "model.min_impurity_decrease = best_par[4]"
   ]
  },
  {
   "cell_type": "code",
   "execution_count": 85,
   "id": "e9ef8b29",
   "metadata": {
    "ExecuteTime": {
     "end_time": "2022-03-11T03:33:09.742199Z",
     "start_time": "2022-03-11T03:33:08.666905Z"
    },
    "collapsed": true
   },
   "outputs": [
    {
     "name": "stdout",
     "output_type": "stream",
     "text": [
      "\n",
      "List of accuracies:         [ 99.88 100.    99.88 100.   100.  ]\n",
      "Mean accuracy:              99.95% +- 0.061%\n",
      "Incorrectly-predicted keys:  0.25% +- 0.306%\n",
      "Executed in:                0:00:00\n",
      "gini, 5, None, None, 2e-03\n",
      "\n",
      "List of accuracies:         [ 99.88 100.    99.88 100.   100.  ]\n",
      "Mean accuracy:              99.95% +- 0.061%\n",
      "Incorrectly-predicted keys:  0.25% +- 0.306%\n",
      "Executed in:                0:00:00\n",
      "gini, 5, None, None, 4e-03\n",
      "\n",
      "List of accuracies:         [ 99.88 100.    99.88 100.   100.  ]\n",
      "Mean accuracy:              99.95% +- 0.061%\n",
      "Incorrectly-predicted keys:  0.25% +- 0.306%\n",
      "Executed in:                0:00:00\n",
      "gini, 5, None, None, 6e-03\n",
      "\n",
      "List of accuracies:         [ 99.88 100.    99.88 100.   100.  ]\n",
      "Mean accuracy:              99.95% +- 0.061%\n",
      "Incorrectly-predicted keys:  0.25% +- 0.306%\n",
      "Executed in:                0:00:00\n",
      "gini, 5, None, None, 8e-03\n",
      "\n",
      "List of accuracies:         [ 99.88 100.    99.88 100.   100.  ]\n",
      "Mean accuracy:              99.95% +- 0.061%\n",
      "Incorrectly-predicted keys:  0.25% +- 0.306%\n",
      "Executed in:                0:00:00\n",
      "gini, 5, None, None, 1e-02\n",
      "\n",
      "List of accuracies:         [ 99.88 100.    99.88 100.   100.  ]\n",
      "Mean accuracy:              99.95% +- 0.061%\n",
      "Incorrectly-predicted keys:  0.25% +- 0.306%\n",
      "Executed in:                0:00:00\n",
      "gini, 5, None, None, 2e-02\n",
      "\n",
      "List of accuracies:         [96.88 98.12 97.75 97.75 97.75]\n",
      "Mean accuracy:              97.65% +- 0.414%\n",
      "Incorrectly-predicted keys: 11.00% +- 1.225%\n",
      "Executed in:                0:00:00\n",
      "gini, 5, None, None, 4e-02\n",
      "\n",
      "List of accuracies:         [96.88 98.12 97.75 97.75 97.75]\n",
      "Mean accuracy:              97.65% +- 0.414%\n",
      "Incorrectly-predicted keys: 11.00% +- 1.225%\n",
      "Executed in:                0:00:00\n",
      "gini, 5, None, None, 6e-02\n",
      "\n",
      "List of accuracies:         [89.25 88.62 89.38 89.38 90.75]\n",
      "Mean accuracy:              89.47% +- 0.696%\n",
      "Incorrectly-predicted keys: 43.50% +- 2.812%\n",
      "Executed in:                0:00:00\n",
      "gini, 5, None, None, 8e-02\n",
      "\n",
      "Best accuracy:              99.95%\n",
      "Incorrectly-predicted keys: 0.25%\n",
      "criterion                 = gini\n",
      "max_depth                 = 5\n",
      "max_features              = None\n",
      "max_leaf_nodes            = None\n",
      "min_impurity_decrease     = 2e-03\n"
     ]
    }
   ],
   "source": [
    "# Select hyperparameters again - min_impurity_decrease\n",
    "if model.min_impurity_decrease != 0.:\n",
    "    best_par = test_trees(model, X_train, y_train, seed,\n",
    "                          criterion=[model.criterion],\n",
    "                          max_depth=[model.max_depth],\n",
    "                          # max_features=[0.25, 0.5, 0.75, None],\n",
    "                          # max_leaf_nodes=range(2, 21),\n",
    "                          min_impurity_decrease=model.min_impurity_decrease*np.asarray([0.2, 0.4, 0.6, 0.8, 1, 2, 4, 6, 8])\n",
    "                         )\n",
    "    model.criterion             = best_par[0]\n",
    "    model.max_depth             = best_par[1]\n",
    "    model.max_features          = best_par[2]\n",
    "    model.max_leaf_nodes        = best_par[3]\n",
    "    model.min_impurity_decrease = best_par[4]"
   ]
  },
  {
   "cell_type": "code",
   "execution_count": 87,
   "id": "e307b7d0",
   "metadata": {
    "ExecuteTime": {
     "end_time": "2022-03-11T03:33:22.346030Z",
     "start_time": "2022-03-11T03:33:21.332813Z"
    },
    "collapsed": true
   },
   "outputs": [
    {
     "name": "stdout",
     "output_type": "stream",
     "text": [
      "\n",
      "List of accuracies:         [89.25 88.62 89.38 89.38 90.75]\n",
      "Mean accuracy:              89.47% +- 0.696%\n",
      "Incorrectly-predicted keys: 43.50% +- 2.812%\n",
      "Executed in:                0:00:00\n",
      "gini, 1, None, None, 2e-03\n",
      "\n",
      "List of accuracies:         [90.   89.38 90.75 88.88 89.88]\n",
      "Mean accuracy:              89.77% +- 0.629%\n",
      "Incorrectly-predicted keys: 39.38% +- 3.162%\n",
      "Executed in:                0:00:00\n",
      "gini, 2, None, None, 2e-03\n",
      "\n",
      "List of accuracies:         [96.88 98.12 97.75 97.75 97.75]\n",
      "Mean accuracy:              97.65% +- 0.414%\n",
      "Incorrectly-predicted keys: 11.00% +- 1.225%\n",
      "Executed in:                0:00:00\n",
      "gini, 3, None, None, 2e-03\n",
      "\n",
      "List of accuracies:         [ 99.88 100.    99.88 100.   100.  ]\n",
      "Mean accuracy:              99.95% +- 0.061%\n",
      "Incorrectly-predicted keys:  0.25% +- 0.306%\n",
      "Executed in:                0:00:00\n",
      "gini, 4, None, None, 2e-03\n",
      "\n",
      "List of accuracies:         [ 99.88 100.    99.88 100.   100.  ]\n",
      "Mean accuracy:              99.95% +- 0.061%\n",
      "Incorrectly-predicted keys:  0.25% +- 0.306%\n",
      "Executed in:                0:00:00\n",
      "gini, 5, None, None, 2e-03\n",
      "\n",
      "List of accuracies:         [ 99.88 100.    99.88 100.   100.  ]\n",
      "Mean accuracy:              99.95% +- 0.061%\n",
      "Incorrectly-predicted keys:  0.25% +- 0.306%\n",
      "Executed in:                0:00:00\n",
      "gini, 6, None, None, 2e-03\n",
      "\n",
      "List of accuracies:         [ 99.88 100.    99.88 100.   100.  ]\n",
      "Mean accuracy:              99.95% +- 0.061%\n",
      "Incorrectly-predicted keys:  0.25% +- 0.306%\n",
      "Executed in:                0:00:00\n",
      "gini, 7, None, None, 2e-03\n",
      "\n",
      "List of accuracies:         [ 99.88 100.    99.88 100.   100.  ]\n",
      "Mean accuracy:              99.95% +- 0.061%\n",
      "Incorrectly-predicted keys:  0.25% +- 0.306%\n",
      "Executed in:                0:00:00\n",
      "gini, 8, None, None, 2e-03\n",
      "\n",
      "List of accuracies:         [ 99.88 100.    99.88 100.   100.  ]\n",
      "Mean accuracy:              99.95% +- 0.061%\n",
      "Incorrectly-predicted keys:  0.25% +- 0.306%\n",
      "Executed in:                0:00:00\n",
      "gini, 9, None, None, 2e-03\n",
      "\n",
      "Best accuracy:              99.95%\n",
      "Incorrectly-predicted keys: 0.25%\n",
      "criterion                 = gini\n",
      "max_depth                 = 4\n",
      "max_features              = None\n",
      "max_leaf_nodes            = None\n",
      "min_impurity_decrease     = 2e-03\n"
     ]
    }
   ],
   "source": [
    "# Select hyperparameters again - max_depth\n",
    "if model.max_depth != None:\n",
    "    best_par = test_trees(model, X_train, y_train, seed,\n",
    "                          criterion=[model.criterion],\n",
    "                          max_depth=model.max_depth+np.arange(-4, 5),\n",
    "                          # max_features=[0.25, 0.5, 0.75, None],\n",
    "                          # max_leaf_nodes=range(2, 21),\n",
    "                          min_impurity_decrease=[model.min_impurity_decrease]\n",
    "                         )\n",
    "    model.criterion             = best_par[0]\n",
    "    model.max_depth             = best_par[1]\n",
    "    model.max_features          = best_par[2]\n",
    "    model.max_leaf_nodes        = best_par[3]\n",
    "    model.min_impurity_decrease = best_par[4]"
   ]
  },
  {
   "cell_type": "code",
   "execution_count": 88,
   "id": "5287e887",
   "metadata": {
    "ExecuteTime": {
     "end_time": "2022-03-11T03:33:37.292581Z",
     "start_time": "2022-03-11T03:33:37.259316Z"
    }
   },
   "outputs": [
    {
     "data": {
      "text/plain": [
       "(4, 5)"
      ]
     },
     "execution_count": 88,
     "metadata": {},
     "output_type": "execute_result"
    }
   ],
   "source": [
    "# Train with full training set\n",
    "model.fit(X_train, y_train)\n",
    "# lst_acc, lst_wrong_keys = Train_stratCV(model, X_train, y_train, 5, seed)\n",
    "# cross_val_score(model, X_train, y_train, cv=5, n_jobs=-1, verbose=1)\n",
    "\n",
    "# Save model\n",
    "model_name = 'DT'\n",
    "joblib.dump(model, f'Results/Models/model_{model_name}_{nb_name}_{n}x{m}_noise_std={noise_std}_sampling={sampling_interval}.joblib');\n",
    "\n",
    "model.get_depth(), model.get_n_leaves()"
   ]
  },
  {
   "cell_type": "code",
   "execution_count": 89,
   "id": "21ffe10d",
   "metadata": {
    "ExecuteTime": {
     "end_time": "2022-03-11T03:33:38.944408Z",
     "start_time": "2022-03-11T03:33:38.780437Z"
    },
    "collapsed": true
   },
   "outputs": [
    {
     "name": "stdout",
     "output_type": "stream",
     "text": [
      "Mean accuracy on test set:      100.00%\n",
      "Mean certainty (even if wrong): 100.00%\n",
      "\n",
      "Incorrectly-predicted keys:     0.00%\n",
      "Incorrectly-predicted bits:     0.00%\n",
      "\n",
      "Report: \n",
      "               precision    recall  f1-score   support\n",
      "\n",
      "         0.0      1.000     1.000     1.000       485\n",
      "         1.0      1.000     1.000     1.000       515\n",
      "\n",
      "    accuracy                          1.000      1000\n",
      "   macro avg      1.000     1.000     1.000      1000\n",
      "weighted avg      1.000     1.000     1.000      1000\n",
      "\n",
      "Confusion matrix:\n"
     ]
    },
    {
     "data": {
      "image/png": "[encoded data removed]",
      "text/plain": [
       "<Figure size 216x144 with 1 Axes>"
      ]
     },
     "metadata": {},
     "output_type": "display_data"
    }
   ],
   "source": [
    "# Get prediction statistics\n",
    "get_statistics(model, X_test, y_test, model_name, prob=True)"
   ]
  },
  {
   "cell_type": "code",
   "execution_count": null,
   "id": "34826045",
   "metadata": {},
   "outputs": [],
   "source": [
    "from sklearn.tree import export_graphviz\n",
    "import graphviz\n",
    "\n",
    "dot_data = export_graphviz(model, filled=True, rounded=True, special_characters=True)\n",
    "                           # feature_names=df.columns[:-n], class_names=['0','1']\n",
    "\n",
    "# Draw tree\n",
    "graph = graphviz.Source(dot_data)\n",
    "graph.render(f'Results/Other/DT_{nb_name}_low_sampling={sampling_interval}_noisy_power_per_gate_noisestd={noise_std}', cleanup=True)\n",
    "graph"
   ]
  },
  {
   "cell_type": "markdown",
   "id": "7f3c321b",
   "metadata": {},
   "source": [
    "## To-do?"
   ]
  },
  {
   "cell_type": "markdown",
   "id": "14599650",
   "metadata": {},
   "source": [
    "### Random forest"
   ]
  },
  {
   "cell_type": "markdown",
   "id": "8b2bbd09",
   "metadata": {},
   "source": [
    "### Gradient-boosting"
   ]
  },
  {
   "cell_type": "markdown",
   "id": "f1f05103",
   "metadata": {},
   "source": [
    "### KNN"
   ]
  },
  {
   "cell_type": "markdown",
   "id": "698a495c",
   "metadata": {},
   "source": [
    "### Neural network"
   ]
  }
 ],
 "metadata": {
  "kernelspec": {
   "display_name": "Python [conda env:thesis]",
   "language": "python",
   "name": "conda-env-thesis-py"
  },
  "language_info": {
   "codemirror_mode": {
    "name": "ipython",
    "version": 3
   },
   "file_extension": ".py",
   "mimetype": "text/x-python",
   "name": "python",
   "nbconvert_exporter": "python",
   "pygments_lexer": "ipython3",
   "version": "3.8.12"
  },
  "toc": {
   "base_numbering": 1,
   "nav_menu": {},
   "number_sections": true,
   "sideBar": true,
   "skip_h1_title": false,
   "title_cell": "Contents",
   "title_sidebar": "Contents",
   "toc_cell": false,
   "toc_position": {
    "height": "606.6px",
    "left": "223px",
    "top": "87.6px",
    "width": "232.2px"
   },
   "toc_section_display": true,
   "toc_window_display": true
  },
  "varInspector": {
   "cols": {
    "lenName": 16,
    "lenType": 16,
    "lenVar": 40
   },
   "kernels_config": {
    "python": {
     "delete_cmd_postfix": "",
     "delete_cmd_prefix": "del ",
     "library": "var_list.py",
     "varRefreshCmd": "print(var_dic_list())"
    },
    "r": {
     "delete_cmd_postfix": ") ",
     "delete_cmd_prefix": "rm(",
     "library": "var_list.r",
     "varRefreshCmd": "cat(var_dic_list()) "
    }
   },
   "oldHeight": 299.4,
   "position": {
    "height": "321.4px",
    "left": "864px",
    "right": "20px",
    "top": "87px",
    "width": "656px"
   },
   "types_to_exclude": [
    "module",
    "function",
    "builtin_function_or_method",
    "instance",
    "_Feature"
   ],
   "varInspector_section_display": "block",
   "window_display": false
  }
 },
 "nbformat": 4,
 "nbformat_minor": 5
}
