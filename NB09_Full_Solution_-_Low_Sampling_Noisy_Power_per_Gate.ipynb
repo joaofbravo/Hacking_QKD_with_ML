{
 "cells": [
  {
   "cell_type": "code",
   "execution_count": 2,
   "id": "3c56d89b",
   "metadata": {
    "ExecuteTime": {
     "end_time": "2022-03-17T16:02:12.043133Z",
     "start_time": "2022-03-17T16:02:12.001132Z"
    },
    "scrolled": true
   },
   "outputs": [
    {
     "name": "stderr",
     "output_type": "stream",
     "text": [
      "Intel(R) Extension for Scikit-learn* enabled (https://github.com/intel/scikit-learn-intelex)\n"
     ]
    }
   ],
   "source": [
    "import timeit\n",
    "from datetime import timedelta\n",
    "import numpy as np\n",
    "import pandas as pd\n",
    "# from pandas_profiling import ProfileReport\n",
    "# import lux # slows down dataframe processing\n",
    "import matplotlib.pyplot as plt\n",
    "%matplotlib inline\n",
    "import joblib\n",
    "\n",
    "from sklearnex import patch_sklearn\n",
    "patch_sklearn()\n",
    "\n",
    "from sklearn.model_selection import train_test_split, KFold, cross_val_score\n",
    "from sklearn.multioutput import MultiOutputClassifier\n",
    "from sklearn.linear_model import LogisticRegression, SGDClassifier\n",
    "from sklearn.svm import SVC, LinearSVC\n",
    "from sklearn.naive_bayes import GaussianNB, MultinomialNB, CategoricalNB\n",
    "from sklearn.tree import DecisionTreeClassifier\n",
    "from sklearn.metrics import accuracy_score, zero_one_loss, hamming_loss, classification_report, multilabel_confusion_matrix, \\\n",
    "                            ConfusionMatrixDisplay\n",
    "\n",
    "np.set_printoptions(suppress=True) # do not print scientific notation\n",
    "\n",
    "# Set some matplotlib style parameters\n",
    "plt.style.use('seaborn')\n",
    "plt.rcParams.update({'figure.facecolor' : 'white',\n",
    "                     'figure.edgecolor' : 'white',\n",
    "                     'axes.grid'        : True,\n",
    "                     # 'axes.axisbelow'   : True,\n",
    "                     'figure.autolayout': True # tight_layout\n",
    "                    })\n",
    "\n",
    "# Set some pandas options\n",
    "pd.set_option('display.max_columns', None, # show x columns (None shows all)\n",
    "              # 'display.max_rows', None,  # show x rows    (None shows all)\n",
    "              'compute.use_numba', True)   # turn off for Lux"
   ]
  },
  {
   "cell_type": "code",
   "execution_count": 2,
   "id": "10eaff45",
   "metadata": {
    "ExecuteTime": {
     "end_time": "2022-03-11T17:42:04.831190Z",
     "start_time": "2022-03-11T17:42:04.827771Z"
    }
   },
   "outputs": [],
   "source": [
    "nb_name = 'full_solution' # for saving objects with joblib\n",
    "seed = 42\n",
    "rng = np.random.default_rng(seed)\n",
    "\n",
    "n = secure_bits = 5        # rows\n",
    "m = corrected_key_bits = 10 # columns\n",
    "N_vec = 1000               # nº of corrected key vectors"
   ]
  },
  {
   "cell_type": "markdown",
   "id": "333ab43c",
   "metadata": {
    "ExecuteTime": {
     "end_time": "2021-08-05T19:00:12.884341Z",
     "start_time": "2021-08-05T19:00:12.870374Z"
    }
   },
   "source": [
    "## Functions"
   ]
  },
  {
   "cell_type": "markdown",
   "id": "f6c9c258",
   "metadata": {},
   "source": [
    "### Detect power consumption of basic gates"
   ]
  },
  {
   "cell_type": "code",
   "execution_count": 3,
   "id": "4461dfc5",
   "metadata": {
    "ExecuteTime": {
     "end_time": "2022-03-11T17:42:06.985084Z",
     "start_time": "2022-03-11T17:42:06.980189Z"
    },
    "code_folding": []
   },
   "outputs": [],
   "source": [
    "def get_product_power(mat, vec, gate_powers, noise_std=0.):\n",
    "    '''Returns: array with the power consumed by the gates of each product.\n",
    "    Set noise_std = 0 to eliminate noise.'''\n",
    "    n, m = mat.shape\n",
    "    count = [[] for _ in range(n)]\n",
    "    for i in range(n):\n",
    "        for j in range(m):\n",
    "            idx = 2 * mat[i, j] + vec[j]\n",
    "            count[i].extend(gate_powers[idx] + rng.normal(scale=noise_std, size=gate_powers[idx].size))\n",
    "    return count # size = n * m * gate_powers[idx].size"
   ]
  },
  {
   "cell_type": "code",
   "execution_count": 4,
   "id": "9a46243d",
   "metadata": {
    "ExecuteTime": {
     "end_time": "2022-03-11T17:42:07.378078Z",
     "start_time": "2022-03-11T17:42:07.373118Z"
    },
    "code_folding": []
   },
   "outputs": [],
   "source": [
    "def get_sum_power(mat, vec, gate_powers, noise_std=0.):\n",
    "    '''Returns: array with the power consumed by the gates of each sum.\n",
    "    Set noise_std = 0 to eliminate noise.'''\n",
    "    n, m = mat.shape\n",
    "    count = [[] for _ in range(n)]\n",
    "    for i in range(n):\n",
    "        result = 0\n",
    "        for j in range(m):\n",
    "            next_element = mat[i, j] * vec[j]\n",
    "            idx = 2 * result + next_element\n",
    "            count[i].extend(gate_powers[idx] + rng.normal(scale=noise_std, size=gate_powers[idx].size))\n",
    "            result = (result + next_element) % 2\n",
    "    return count # size = n * m * gate_powers[idx].size"
   ]
  },
  {
   "cell_type": "code",
   "execution_count": 5,
   "id": "475c9df9",
   "metadata": {
    "ExecuteTime": {
     "end_time": "2022-03-11T17:42:07.868502Z",
     "start_time": "2022-03-11T17:42:07.865844Z"
    },
    "code_folding": [
     0
    ]
   },
   "outputs": [],
   "source": [
    "# # TEST\n",
    "# mat = np.asarray([[0, 1, 1, 0, 1],\n",
    "#                   [1, 0, 1, 1, 1],\n",
    "#                   [1, 1, 1, 1, 1],\n",
    "#                   [0, 0, 0, 0, 0]])\n",
    "# # vec = np.asarray([0, 0, 0, 0, 0])\n",
    "# # vec = np.asarray([1, 1, 1, 1, 1])\n",
    "# vec = np.asarray([1, 1, 1, 0, 0])\n",
    "# power_products = np.asarray([[.1, 1.1], [.2, 1.2], [.3, 1.3], [.4, 1.4]])\n",
    "# power_sums = np.asarray([[1.1, 2.1], [1.2, 2.2], [1.3, 2.3], [1.4, 2.4]])\n",
    "\n",
    "# print(mat @ vec % 2, '\\n')\n",
    "# count = get_product_power(mat, vec, power_products, 0.01)\n",
    "# print(np.around(count, 3), '\\n')\n",
    "# count = get_sum_power(mat, vec, power_sums, 0.01)\n",
    "# print(np.around(count, 3))"
   ]
  },
  {
   "cell_type": "markdown",
   "id": "32abfb3a",
   "metadata": {},
   "source": [
    "### Class"
   ]
  },
  {
   "cell_type": "code",
   "execution_count": 6,
   "id": "ae72549a",
   "metadata": {
    "ExecuteTime": {
     "end_time": "2022-03-11T17:42:08.641135Z",
     "start_time": "2022-03-11T17:42:08.638393Z"
    },
    "code_folding": []
   },
   "outputs": [],
   "source": [
    "# Detect if there are more 1s than 0s\n",
    "# def More_1_than_0(mat, vec):\n",
    "#     return np.sum(mat @ vec % 2) > secure_bits / 2\n",
    "\n",
    "# Detect full solution\n",
    "def Full_solution(mat, vec):\n",
    "    return mat @ vec % 2"
   ]
  },
  {
   "cell_type": "markdown",
   "id": "bfd3583e",
   "metadata": {},
   "source": [
    "### Other"
   ]
  },
  {
   "cell_type": "code",
   "execution_count": 7,
   "id": "e78f260d",
   "metadata": {
    "ExecuteTime": {
     "end_time": "2022-03-11T17:42:09.547834Z",
     "start_time": "2022-03-11T17:42:09.543977Z"
    }
   },
   "outputs": [],
   "source": [
    "# Check if input & output vectors from sample are unique\n",
    "def Check_uniqueness(mat, vec):\n",
    "    res = []\n",
    "    for i in range(len(vec)):\n",
    "        res.append(mat @ vec[i] % 2)\n",
    "    unique_in  = np.unique(vec, axis=0)\n",
    "    unique_out = np.unique(res, axis=0)\n",
    "    return unique_in.shape[0], unique_out.shape[0]"
   ]
  },
  {
   "cell_type": "markdown",
   "id": "8ae9b25b",
   "metadata": {},
   "source": [
    "## Generate data"
   ]
  },
  {
   "cell_type": "code",
   "execution_count": 8,
   "id": "64ae1572",
   "metadata": {
    "ExecuteTime": {
     "end_time": "2022-03-11T17:42:10.315109Z",
     "start_time": "2022-03-11T17:42:10.309493Z"
    }
   },
   "outputs": [
    {
     "data": {
      "text/plain": [
       "((5, 10),\n",
       " array([[1, 0, 1, 0, 1, 1, 0, 1, 1, 1],\n",
       "        [1, 1, 0, 0, 0, 0, 0, 0, 1, 0],\n",
       "        [1, 0, 1, 1, 1, 1, 0, 0, 0, 1],\n",
       "        [1, 1, 1, 1, 1, 0, 1, 0, 0, 0],\n",
       "        [1, 0, 1, 1, 1, 0, 1, 1, 0, 0]], dtype=int8))"
      ]
     },
     "execution_count": 8,
     "metadata": {},
     "output_type": "execute_result"
    }
   ],
   "source": [
    "mat = rng.integers(2, size=(secure_bits,corrected_key_bits), dtype=np.int8)\n",
    "\n",
    "mat.shape, mat"
   ]
  },
  {
   "cell_type": "code",
   "execution_count": 9,
   "id": "d3a84273",
   "metadata": {
    "ExecuteTime": {
     "end_time": "2022-03-11T17:42:10.836943Z",
     "start_time": "2022-03-11T17:42:10.809946Z"
    }
   },
   "outputs": [
    {
     "data": {
      "text/plain": [
       "((1000, 10), array([0, 0, 1, 1, 0, 1, 1, 1, 1, 1], dtype=int8))"
      ]
     },
     "execution_count": 9,
     "metadata": {},
     "output_type": "execute_result"
    }
   ],
   "source": [
    "vec = [rng.integers(2, size=corrected_key_bits, dtype=np.int8) for _ in range(N_vec)]\n",
    "\n",
    "np.shape(vec), vec[0]"
   ]
  },
  {
   "cell_type": "code",
   "execution_count": 10,
   "id": "01ed0428",
   "metadata": {
    "ExecuteTime": {
     "end_time": "2022-03-11T17:42:11.273070Z",
     "start_time": "2022-03-11T17:42:11.263666Z"
    }
   },
   "outputs": [
    {
     "name": "stdout",
     "output_type": "stream",
     "text": [
      "1000 inputs: 632 unique inputs, 32 unique solutions\n"
     ]
    }
   ],
   "source": [
    "unique_in, unique_out = Check_uniqueness(mat, vec)\n",
    "print(f'{N_vec} inputs: {unique_in} unique inputs, {unique_out} unique solutions')"
   ]
  },
  {
   "cell_type": "markdown",
   "id": "b278722b",
   "metadata": {},
   "source": [
    "Assumptions on power consumption (based on https://ieeexplore.ieee.org/document/6644863):\n",
    "- NOT:\n",
    "    - 0 - 6.73 pA\n",
    "    - 1 - 7.45 pA\n",
    "- 2-input NOR:\n",
    "    - 00 - 13.50 pA\n",
    "    - 01 - 12.80 pA\n",
    "    - 10 - &nbsp; 7.93 pA\n",
    "    - 11 - &nbsp; 5.93 pA\n",
    "- 2-input NAND:\n",
    "    - 00 - &nbsp; 5.79 pA\n",
    "    - 01 - &nbsp; 7.00 pA\n",
    "    - 10 - 11.77 pA\n",
    "    - 11 - 14.91 pA\n",
    "\n",
    "Writing our operations in the gates above:\n",
    "- A\\*B &nbsp;= AND(A, B)\n",
    "= NOT(NAND(A, B))\n",
    "\n",
    "- A+B = XOR(A, B)\n",
    "= NOT(A<=>B)\n",
    "= NOT(AND(A->B, B->A))\n",
    "= NAND(A->B, B->A)\n",
    "= NAND(OR(NOT(A), B), OR(NOT(B), A)) =  \n",
    "&nbsp; &nbsp; &nbsp; &nbsp; = NAND(NOT(NOR(NOT(A), B)), NOT(NOR(NOT(B), A)))\n",
    "\n",
    "Thus:\n",
    "- 0\\*0: &nbsp; &nbsp; 5.79 + 7.45 = 13.24 pA\n",
    "- 0\\*1: &nbsp; &nbsp; 7.00 + 7.45 = 14.45 pA\n",
    "- 1\\*0: &nbsp; 11.77 + 7.45 = 19.22 pA\n",
    "- 1\\*1: &nbsp; 14.91 + 6.73 = 21.64 pA\n",
    "\n",
    "\n",
    "- 0+0: &nbsp; 6.73 + 6.73 + &nbsp; 7.93 + &nbsp; 7.93 + 6.73 + 6.73 + 14.91 = 57.69 pA\n",
    "- 0+1: &nbsp; 6.73 + 7.45 + &nbsp; 5.93 + 13.50 + 6.73 + 7.45 + 11.77 = 59.56 pA\n",
    "- 1+0: &nbsp; 7.45 + 6.73 + 13.50 + &nbsp; 5.93 + 7.45 + 6.73 + &nbsp; 7.00 = 54.79 pA\n",
    "- 1+1: &nbsp; 7.45 + 7.45 + 12.80 + 12.80 + 6.73 + 6.73 + 14.91 = 68.87 pA"
   ]
  },
  {
   "cell_type": "code",
   "execution_count": 11,
   "id": "5b228cb7",
   "metadata": {
    "ExecuteTime": {
     "end_time": "2022-03-11T17:42:11.690555Z",
     "start_time": "2022-03-11T17:42:11.686571Z"
    }
   },
   "outputs": [],
   "source": [
    "# Define power consumption for each gate & noise level\n",
    "power_product_gates = np.asarray([[5.79, 7.45], [7., 7.45], [11.77, 7.45], [14.91, 6.73]]) # 0*0, 0*1, 1*0, 1*1\n",
    "power_sum_gates = np.asarray([[6.73, 6.73, 7.93, 7.93, 6.73, 6.73, 14.91],  # '0+0' gates\n",
    "                              [6.73, 7.45, 5.93, 13.5, 6.73, 7.45, 11.77],  # '0+1' gates\n",
    "                              [7.45, 6.73, 13.5, 5.93, 7.45, 6.73, 7.],     # '1+0' gates\n",
    "                              [7.45, 7.45, 12.8, 12.8, 6.73, 6.73, 14.91]]) # '1+1' gates\n",
    "noise_std = 0.05 + 0.0 # article measurement precision + hacker device noise"
   ]
  },
  {
   "cell_type": "code",
   "execution_count": 12,
   "id": "6e42c81d",
   "metadata": {
    "ExecuteTime": {
     "end_time": "2022-03-11T17:42:12.159938Z",
     "start_time": "2022-03-11T17:42:12.157762Z"
    }
   },
   "outputs": [],
   "source": [
    "# i = 0\n",
    "# print('Products:\\n', np.around(get_product_power(mat, vec[i], power_product_gates, noise_std), 3))\n",
    "# print('Sums:\\n', np.around(get_sum_power(mat, vec[i], power_sum_gates, noise_std), 3))"
   ]
  },
  {
   "cell_type": "code",
   "execution_count": 13,
   "id": "007e2611",
   "metadata": {
    "ExecuteTime": {
     "end_time": "2022-03-11T17:42:12.657153Z",
     "start_time": "2022-03-11T17:42:12.655092Z"
    }
   },
   "outputs": [],
   "source": [
    "# print(\"Full solution\")\n",
    "# print(\"-------------\")\n",
    "# for i in range(10):\n",
    "#     print(Full_solution(mat, vec[i]))"
   ]
  },
  {
   "cell_type": "code",
   "execution_count": 14,
   "id": "743bec2b",
   "metadata": {
    "ExecuteTime": {
     "end_time": "2022-03-11T17:42:14.807994Z",
     "start_time": "2022-03-11T17:42:13.637906Z"
    }
   },
   "outputs": [
    {
     "data": {
      "text/plain": [
       "(1000, 455)"
      ]
     },
     "execution_count": 14,
     "metadata": {},
     "output_type": "execute_result"
    }
   ],
   "source": [
    "# Order data by time (row by row)\n",
    "data = [[] for _ in range(N_vec)]\n",
    "for i in range(N_vec):\n",
    "    product_power = get_product_power(mat, vec[i], power_product_gates, noise_std)\n",
    "    sum_power     = get_sum_power(mat, vec[i], power_sum_gates, noise_std)\n",
    "    for j in range(n):\n",
    "        data[i].extend(product_power[j])\n",
    "        data[i].extend(sum_power[j])\n",
    "    data[i].extend(Full_solution(mat, vec[i]))\n",
    "\n",
    "data = np.asarray(data)\n",
    "data.shape"
   ]
  },
  {
   "cell_type": "code",
   "execution_count": 15,
   "id": "3e32f852",
   "metadata": {
    "ExecuteTime": {
     "end_time": "2022-03-11T17:42:16.188986Z",
     "start_time": "2022-03-11T17:42:16.184331Z"
    },
    "scrolled": false
   },
   "outputs": [
    {
     "data": {
      "text/plain": [
       "(1000, 155)"
      ]
     },
     "execution_count": 15,
     "metadata": {},
     "output_type": "execute_result"
    }
   ],
   "source": [
    "# Lower data sampling\n",
    "sampling_interval = 3 # in gates\n",
    "data_low_sampling = data[:, 0:-n:sampling_interval]\n",
    "data_low_sampling = np.append(data_low_sampling, data[:, -n:], axis=1)\n",
    "\n",
    "data_low_sampling.shape"
   ]
  },
  {
   "cell_type": "code",
   "execution_count": 16,
   "id": "515ff3da",
   "metadata": {
    "ExecuteTime": {
     "end_time": "2022-03-11T17:42:22.615510Z",
     "start_time": "2022-03-11T17:42:22.564896Z"
    }
   },
   "outputs": [],
   "source": [
    "# Create dataframe for plotting raw data\n",
    "df = pd.DataFrame(data_low_sampling)\n",
    "df.drop_duplicates(inplace=True, ignore_index=True)\n",
    "# np.around(df, 3)"
   ]
  },
  {
   "cell_type": "code",
   "execution_count": null,
   "id": "875ed900",
   "metadata": {
    "code_folding": []
   },
   "outputs": [],
   "source": [
    "# Plot full power consumption through time\n",
    "y = df.iloc[0][:-n]\n",
    "X = np.arange(len(y))\n",
    "\n",
    "# Plot line\n",
    "plt.figure(figsize=(16, 4))\n",
    "plt.plot(X, y, '-', label='Record 0') # colors: b,g,r,c,m,y,k,w\n",
    "plt.xlim(X.min(), X.max()*1.01)\n",
    "plt.ylim(y.min()*0.925, y.max()*1.075)\n",
    "# plt.xticks(np.arange(0, len(y)+1, 250))\n",
    "# plt.yticks(np.arange(6, 16.1, 2))\n",
    "\n",
    "# Set labels\n",
    "plt.legend() # loc='best', 'upper right', 'lower left', ...\n",
    "plt.xlabel('Data point')\n",
    "plt.ylabel('Power consumption ($pA$)')\n",
    "plt.title('Total Power consumption', fontsize=14)\n",
    "\n",
    "# plt.savefig(f'Results/Other/power_consumption_total_{n}x{m}_noise_std={noise_std}_sampling={sampling_interval}.png', dpi=200)\n",
    "plt.show()\n",
    "\n",
    "# Plot power consumption of one row through time\n",
    "line_length = int(np.ceil(m * (power_product_gates.shape[1] + power_sum_gates.shape[1]) / sampling_interval))\n",
    "X = np.arange(line_length)\n",
    "y = df.iloc[0][:line_length]\n",
    "\n",
    "# Plot line\n",
    "plt.figure(figsize=(16, 4))\n",
    "plt.plot(X, y, '-', label='Record 0') # colors: b,g,r,c,m,y,k,w\n",
    "plt.xlim(X.min(), X.max()*1.01)\n",
    "# plt.ylim(y.min()*0.925, y.max()*1.075)\n",
    "# plt.xticks(np.arange(0, line_length+1, 10))\n",
    "# plt.yticks(np.arange(6, 16.1, 2))\n",
    "\n",
    "# Set labels\n",
    "plt.legend() # loc='best', 'upper right', 'lower left', ...\n",
    "plt.xlabel('Data point')\n",
    "plt.ylabel('Power consumption ($pA$)')\n",
    "plt.title('Power consumption of one row', fontsize=14)\n",
    "\n",
    "# plt.savefig(f'Results/Other/power_consumption_one_row_{n}x{m}_noise_std={noise_std}_sampling={sampling_interval}.png', dpi=200)\n",
    "plt.show()"
   ]
  },
  {
   "cell_type": "code",
   "execution_count": null,
   "id": "f184d0a5",
   "metadata": {
    "code_folding": [
     0
    ]
   },
   "outputs": [],
   "source": [
    "# FULL RESOLUTION (1 gate) ----- # Plot full power consumption through time\n",
    "y = df.iloc[0][:-n]\n",
    "X = np.arange(len(y))\n",
    "\n",
    "# Plot line\n",
    "plt.figure(figsize=(16, 4))\n",
    "plt.plot(X, y, '-', label='Record 0') # colors: b,g,r,c,m,y,k,w\n",
    "plt.xlim(X.min(), X.max()*1.01)\n",
    "plt.ylim(y.min()*0.925, y.max()*1.075)\n",
    "# plt.xticks(np.arange(0, len(y)+1, 1000))\n",
    "# plt.yticks(np.arange(6, 16.1, 2))\n",
    "\n",
    "# Set labels\n",
    "plt.legend() # loc='best', 'upper right', 'lower left', ...\n",
    "plt.xlabel('Data point')\n",
    "plt.ylabel('Power consumption ($pA$)')\n",
    "plt.title('Total Power consumption', fontsize=14)\n",
    "\n",
    "# plt.savefig(f'Results/Other/power_consumption_total_{n}x{m}_noise_std={noise_std}_sampling={sampling_interval}.png', dpi=200)\n",
    "plt.show()\n",
    "\n",
    "# Plot power consumption of one row through time\n",
    "line_length = m * (power_product_gates.shape[1] + power_sum_gates.shape[1])\n",
    "X = np.arange(line_length)\n",
    "y = df.iloc[0][:line_length]\n",
    "\n",
    "# Plot line\n",
    "plt.figure(figsize=(16, 4))\n",
    "plt.plot(X, y, '-', label='Record 0') # colors: b,g,r,c,m,y,k,w\n",
    "plt.xlim(X.min(), X.max()*1.01)\n",
    "# plt.ylim(y.min()*0.925, y.max()*1.075)\n",
    "# plt.xticks(np.arange(0, line_length+1, 25))\n",
    "# plt.yticks(np.arange(6, 16.1, 2))\n",
    "\n",
    "# Set labels\n",
    "plt.legend() # loc='best', 'upper right', 'lower left', ...\n",
    "plt.xlabel('Data point')\n",
    "plt.ylabel('Power consumption ($pA$)')\n",
    "plt.title('Power consumption of one row', fontsize=14)\n",
    "\n",
    "# plt.savefig(f'Results/Other/power_consumption_one_row_{n}x{m}_noise_std={noise_std}_sampling={sampling_interval}.png', dpi=200)\n",
    "plt.show()"
   ]
  },
  {
   "cell_type": "code",
   "execution_count": 18,
   "id": "fa7067fe",
   "metadata": {
    "ExecuteTime": {
     "end_time": "2021-09-22T15:15:35.646938Z",
     "start_time": "2021-09-22T15:15:35.627976Z"
    },
    "code_folding": [
     0
    ],
    "scrolled": true
   },
   "outputs": [],
   "source": [
    "# # Drop columns with equal values (worthless with noise)\n",
    "# def duplicate_columns(df):\n",
    "#     groups = df.columns.to_series().groupby(df.dtypes).groups\n",
    "#     dups = []\n",
    "#     for t, v in groups.items():\n",
    "#         dcols = df[v].to_dict(orient='list')\n",
    "#         vs = list(dcols.values())\n",
    "#         ks = list(dcols.keys())\n",
    "#         for i in range(len(vs)):\n",
    "#             for j in range(i+1, len(vs)):\n",
    "#                 if vs[i] == vs[j]: \n",
    "#                     dups.append(ks[i])\n",
    "#                     break\n",
    "#     if dups: print('Duplicate columns:', *dups)\n",
    "#     return dups\n",
    "\n",
    "# df.drop(duplicate_columns(df), axis=1, inplace=True)\n",
    "# np.around(df, 3)"
   ]
  },
  {
   "cell_type": "code",
   "execution_count": 19,
   "id": "2e9b72f0",
   "metadata": {
    "ExecuteTime": {
     "end_time": "2021-09-22T15:15:39.766377Z",
     "start_time": "2021-09-22T15:15:39.747396Z"
    },
    "code_folding": [
     0
    ]
   },
   "outputs": [],
   "source": [
    "# # Check some trends in data (turn off numba engine first)\n",
    "# pd.set_option('compute.use_numba', False)\n",
    "# df2 = df.copy()\n",
    "# df2.intent = [90] # More_1_than_0\n",
    "# display(df2)\n",
    "# pd.set_option('compute.use_numba', True)"
   ]
  },
  {
   "cell_type": "code",
   "execution_count": 26,
   "id": "e2079e6b",
   "metadata": {
    "ExecuteTime": {
     "end_time": "2022-02-17T14:43:41.108577Z",
     "start_time": "2022-02-17T14:43:41.096576Z"
    },
    "code_folding": [
     0
    ]
   },
   "outputs": [],
   "source": [
    "# # Generate pandas profiling report\n",
    "# profile = ProfileReport(\n",
    "#     df, title=f'Full_Solution Low_Sampling={sampling_interval}_Noisy_Power_per_Gate noise_std={noise_std} Dataset Report',\n",
    "#     explorative=True)\n",
    "# # profile.to_widgets()\n",
    "# profile.to_file(f'Docs/Full_Solution_-_Low_Sampling={sampling_interval}_Noisy_Power_per_Gate_noisestd={noise_std}_report.html')"
   ]
  },
  {
   "cell_type": "markdown",
   "id": "d8493810",
   "metadata": {},
   "source": [
    "### Split data"
   ]
  },
  {
   "cell_type": "code",
   "execution_count": 18,
   "id": "0d8996cb",
   "metadata": {
    "ExecuteTime": {
     "end_time": "2022-03-11T17:43:42.572855Z",
     "start_time": "2022-03-11T17:43:42.562002Z"
    },
    "scrolled": true
   },
   "outputs": [
    {
     "name": "stdout",
     "output_type": "stream",
     "text": [
      "1s in train set: 50.38 50.0 51.88 52.38 50.12 \n",
      "1s in test set:  48.0 52.0 51.0 55.0 51.5\n"
     ]
    }
   ],
   "source": [
    "# Split data into training & test set\n",
    "X = np.asarray(df.iloc[:, :-n], order='C')\n",
    "y = np.asarray(df.iloc[:, -n:], order='C')\n",
    "assert X.flags['C_CONTIGUOUS']\n",
    "assert y.flags['C_CONTIGUOUS']\n",
    "\n",
    "X_train, X_test, y_train, y_test = train_test_split(X, y, test_size=0.2, random_state=seed)\n",
    "\n",
    "print('1s in train set:', *np.around(y_train.mean(axis=0) * 100, 2),\n",
    "      '\\n1s in test set: ', *np.around(y_test.mean(axis=0) * 100, 2))"
   ]
  },
  {
   "cell_type": "code",
   "execution_count": 19,
   "id": "104e4814",
   "metadata": {
    "ExecuteTime": {
     "end_time": "2022-03-11T17:43:48.508613Z",
     "start_time": "2022-03-11T17:43:48.493083Z"
    }
   },
   "outputs": [
    {
     "data": {
      "text/plain": [
       "['Data/test_sets_full_solution_5x10_noise_std=0.05_sampling=3.joblib']"
      ]
     },
     "execution_count": 19,
     "metadata": {},
     "output_type": "execute_result"
    }
   ],
   "source": [
    "# Save test set\n",
    "test_set = {'X_test': X_test,\n",
    "            'y_test': y_test}\n",
    "joblib.dump(test_set, f'Data/test_set_{nb_name}_{n}x{m}_noise_std={noise_std}_sampling={sampling_interval}.joblib', compress=3)"
   ]
  },
  {
   "cell_type": "code",
   "execution_count": null,
   "id": "bac12282",
   "metadata": {
    "ExecuteTime": {
     "end_time": "2021-10-19T21:56:33.566993Z",
     "start_time": "2021-10-19T21:56:20.360Z"
    }
   },
   "outputs": [],
   "source": [
    "# Delete unused variables to free some memory\n",
    "del df, data_low_sampling, X, y"
   ]
  },
  {
   "cell_type": "markdown",
   "id": "6e0648c2",
   "metadata": {},
   "source": [
    "## Classifiers"
   ]
  },
  {
   "cell_type": "markdown",
   "id": "41f4f223",
   "metadata": {},
   "source": [
    "### Functions to train & test models"
   ]
  },
  {
   "cell_type": "markdown",
   "id": "ede2697e",
   "metadata": {},
   "source": [
    "`.score()`: It is the subset accuracy, which is a harsh metric since one requires for each sample that all labels be correctly predicted."
   ]
  },
  {
   "cell_type": "code",
   "execution_count": 21,
   "id": "a692c4af",
   "metadata": {
    "ExecuteTime": {
     "end_time": "2022-03-11T17:46:14.009767Z",
     "start_time": "2022-03-11T17:46:14.003708Z"
    },
    "code_folding": []
   },
   "outputs": [],
   "source": [
    "# Train model with k-fold cross-validation & get statistics\n",
    "def Train_CV(model, X, y, n_splits=5, seed=seed):\n",
    "    start_time = timeit.default_timer()\n",
    "    lst_acc, lst_wrong_bits = [], []\n",
    "    skf = KFold(n_splits, shuffle=True, random_state=seed)\n",
    "\n",
    "    # Train & test each fold\n",
    "    for train_idx, test_idx in skf.split(X, y):\n",
    "        x_train_fold, x_test_fold = X[train_idx], X[test_idx]\n",
    "        y_train_fold, y_test_fold = y[train_idx], y[test_idx]\n",
    "        model.fit(x_train_fold, y_train_fold)\n",
    "\n",
    "        lst_acc.append(model.score(x_test_fold, y_test_fold))\n",
    "        y_pred_fold = model.predict(x_test_fold)\n",
    "        lst_wrong_bits.append(hamming_loss(y_test_fold, y_pred_fold))\n",
    "\n",
    "    delta_time = timedelta(seconds=round(timeit.default_timer()-start_time))\n",
    "    print(f'\\nList of accuracies:         {np.around(lst_acc, 4) * 100}\\n'\n",
    "          # f'Min/max accuracy:           {min(lst_acc):.2%} <---> {max(lst_acc):.2%}\\n'\n",
    "          f'Mean accuracy:              {np.mean(lst_acc):6.2%} +- {np.std(lst_acc):6.3%}\\n'\n",
    "          f'Incorrectly-predicted bits: {np.mean(lst_wrong_bits):6.2%} +- {np.std(lst_wrong_bits):6.3%}\\n'\n",
    "          f'Executed in:                {delta_time}')\n",
    "\n",
    "    return lst_acc, lst_wrong_bits"
   ]
  },
  {
   "cell_type": "code",
   "execution_count": 22,
   "id": "fd3c045d",
   "metadata": {
    "ExecuteTime": {
     "end_time": "2022-03-11T17:46:14.781525Z",
     "start_time": "2022-03-11T17:46:14.768842Z"
    }
   },
   "outputs": [],
   "source": [
    "# Test different parameters\n",
    "    # ***** use grid search\n",
    "def test_eta0(model, low, up, X, y, seed):\n",
    "    best_eta0, best_acc, best_wrong_bits = 0., 0., 1.\n",
    "\n",
    "    for i in np.arange(up-1, low-1, -1):\n",
    "        model.eta0 = 10.**i\n",
    "        multi_target_model      = MultiOutputClassifier(model, n_jobs=-1)\n",
    "        lst_acc, lst_wrong_bits = Train_CV(multi_target_model, X, y, 5, seed)\n",
    "        print(f'eta0 = {model.eta0:.0e}')\n",
    "\n",
    "        current_acc        = np.mean(lst_acc)\n",
    "        current_wrong_bits = np.mean(lst_wrong_bits)\n",
    "        if current_acc > best_acc or (current_acc == best_acc and current_wrong_bits < best_wrong_bits):\n",
    "            best_acc        = current_acc\n",
    "            best_wrong_bits = current_wrong_bits\n",
    "            best_eta0       = model.eta0\n",
    "\n",
    "    print(f'\\nBest accuracy:              {best_acc:.2%} ---> eta0 = {best_eta0:.0e}\\n'\n",
    "          f'Incorrectly-predicted bits: {best_wrong_bits:.2%}')\n",
    "    return best_eta0\n",
    "\n",
    "def test_coef0(model, low, up, X, y, seed):\n",
    "    best_coef0, best_acc, best_wrong_bits = 0., 0., 1.\n",
    "\n",
    "    for i in np.arange(low, up, 1):\n",
    "        model.coef0 = i\n",
    "        multi_target_model      = MultiOutputClassifier(model, n_jobs=-1)\n",
    "        lst_acc, lst_wrong_bits = Train_CV(multi_target_model, X, y, 5, seed)\n",
    "        print(f'coef0 = {model.coef0}')\n",
    "\n",
    "        current_acc        = np.mean(lst_acc)\n",
    "        current_wrong_bits = np.mean(lst_wrong_bits)\n",
    "        if current_acc > best_acc or (current_acc == best_acc and current_wrong_bits < best_wrong_bits):\n",
    "            best_acc        = current_acc\n",
    "            best_wrong_bits = current_wrong_bits\n",
    "            best_coef0      = model.coef0\n",
    "\n",
    "    print(f'\\nBest accuracy:              {best_acc:.2%} ---> coef0 = {best_coef0}\\n'\n",
    "          f'Incorrectly-predicted bits: {best_wrong_bits:.2%}')\n",
    "    return best_coef0\n",
    "\n",
    "def test_trees(model, X, y, seed, criterion=['gini'], max_depth=[None], max_features=[None], max_leaf_nodes=[None],\n",
    "               min_impurity_decrease=[0.]):\n",
    "    best_par = []\n",
    "    best_acc, best_wrong_bits = 0., 1.\n",
    "    for crit in criterion:\n",
    "        model.criterion = crit\n",
    "        for md in max_depth:\n",
    "            model.max_depth = md\n",
    "            for mf in max_features:\n",
    "                model.max_features = mf\n",
    "                for mln in max_leaf_nodes:\n",
    "                    model.max_leaf_nodes = mln\n",
    "                    for mid in min_impurity_decrease:\n",
    "                        model.min_impurity_decrease = mid\n",
    "                        # --> DecisionTreeClassifier supports multilabel classification\n",
    "                        # multi_target_model  = MultiOutputClassifier(model, n_jobs=-1)\n",
    "                        # lst_acc, lst_wrong_bits = Train_CV(multi_target_model, X, y, 5, seed)\n",
    "                        lst_acc, lst_wrong_bits = Train_CV(model, X, y, 5, seed)\n",
    "                        print(f'{crit}, {md}, {mf}, {mln}, {mid:.0e}')\n",
    "\n",
    "                        current_acc        = np.mean(lst_acc)\n",
    "                        current_wrong_bits = np.mean(lst_wrong_bits)\n",
    "                        if current_acc > best_acc or (current_acc == best_acc and current_wrong_bits < best_wrong_bits):\n",
    "                            best_acc        = current_acc\n",
    "                            best_wrong_bits = current_wrong_bits\n",
    "                            best_par        = crit, md, mf, mln, mid\n",
    "\n",
    "    print(f'\\nBest accuracy:              {best_acc:.2%}\\n'\n",
    "          f'Incorrectly-predicted bits: {best_wrong_bits:.2%}\\n'\n",
    "          f'criterion                 = {best_par[0]}\\n'\n",
    "          f'max_depth                 = {best_par[1]}\\n'\n",
    "          f'max_features              = {best_par[2]}\\n'\n",
    "          f'max_leaf_nodes            = {best_par[3]}\\n'\n",
    "          f'min_impurity_decrease     = {best_par[4]:.0e}')\n",
    "    return best_par"
   ]
  },
  {
   "cell_type": "code",
   "execution_count": 23,
   "id": "841b26fd",
   "metadata": {
    "ExecuteTime": {
     "end_time": "2022-03-11T17:46:32.263231Z",
     "start_time": "2022-03-11T17:46:32.255984Z"
    },
    "code_folding": []
   },
   "outputs": [],
   "source": [
    "# Get prediction statistics\n",
    "def get_statistics(model, X_test, y_test, model_name, prob=False):\n",
    "    print(f'Mean accuracy on test set:      {model.score(X_test, y_test):.2%}')\n",
    "    if prob:\n",
    "        y_prob = model.predict_proba(X_test)\n",
    "        print(f'Mean certainty (even if wrong): {np.mean(np.max(y_prob, axis=1)):.2%}\\n')\n",
    "\n",
    "    y_pred = model.predict(X_test)\n",
    "    print(f'Incorrectly-predicted keys:     {zero_one_loss(y_test, y_pred):.2%}')  # (see description)\n",
    "    print(f'Incorrectly-predicted bits:     {hamming_loss(y_test, y_pred):.2%}\\n') # (see description)\n",
    "\n",
    "    confusion_matrices = multilabel_confusion_matrix(y_test, y_pred)\n",
    "    # print('Confusion matrices: \\n', confusion_matrices, '\\n')\n",
    "    print('Report: \\n', classification_report(y_test, y_pred, digits=3))\n",
    "\n",
    "    # Plot confusion matrices\n",
    "    print('Confusion matrices:')\n",
    "    n_rows, n_cols = 1 + (n - 1) // 5, 5\n",
    "    plt.figure(figsize=(2.5 * n_cols, 2 * n_rows))\n",
    "    for i in range(n_rows):\n",
    "        for j in range(n_cols):\n",
    "            idx = n_cols * i + j\n",
    "            if idx == n: break\n",
    "\n",
    "            ax = plt.subplot(n_rows, n_cols, idx+1)\n",
    "            ConfusionMatrixDisplay(confusion_matrices[idx]).plot(values_format='d', cmap='Blues', colorbar=False, ax=ax)\n",
    "            ax.set(xlabel='Predicted bit', ylabel='True bit')\n",
    "            ax.grid(False)\n",
    "\n",
    "    plt.savefig(f'Results/Other/confusion_matrices_{model_name}_{nb_name}_{n}x{m}_noise_std={noise_std}_sampling={sampling_interval}.png', dpi=200)\n",
    "    plt.show()"
   ]
  },
  {
   "cell_type": "markdown",
   "id": "4fd5d621",
   "metadata": {},
   "source": [
    "### Logistic regression"
   ]
  },
  {
   "cell_type": "code",
   "execution_count": 25,
   "id": "76c3e121",
   "metadata": {
    "ExecuteTime": {
     "end_time": "2022-03-11T17:51:35.222507Z",
     "start_time": "2022-03-11T17:51:35.218881Z"
    }
   },
   "outputs": [],
   "source": [
    "model = LogisticRegression(solver='lbfgs', penalty='l2', C=1., tol=1e-3, max_iter=1e4, n_jobs=-1, random_state=seed, verbose=0)\n",
    "# model = LogisticRegression(solver='saga', penalty='l2', C=1., tol=1e-3, max_iter=1e4, n_jobs=-1, random_state=seed, verbose=-1)\n",
    "# Select hyperparameters\n",
    "# ***** test solver & C"
   ]
  },
  {
   "cell_type": "code",
   "execution_count": 27,
   "id": "9e19a437",
   "metadata": {
    "ExecuteTime": {
     "end_time": "2022-03-11T17:51:41.202952Z",
     "start_time": "2022-03-11T17:51:39.500104Z"
    }
   },
   "outputs": [],
   "source": [
    "# Train with full training set\n",
    "multi_target_model = MultiOutputClassifier(model, n_jobs=-1)\n",
    "multi_target_model.fit(X_train, y_train)\n",
    "# lst_acc, lst_wrong_bits = Train_CV(multi_target_model, X_train, y_train, 5, seed)\n",
    "\n",
    "# Save model\n",
    "model_name = 'LR1'\n",
    "joblib.dump(multi_target_model, f'Results/Models/model_{model_name}_{nb_name}_{n}x{m}_noise_std={noise_std}_sampling={sampling_interval}.joblib');"
   ]
  },
  {
   "cell_type": "code",
   "execution_count": 28,
   "id": "f3ba25dc",
   "metadata": {
    "ExecuteTime": {
     "end_time": "2022-03-11T17:51:46.611631Z",
     "start_time": "2022-03-11T17:51:44.140818Z"
    },
    "collapsed": true
   },
   "outputs": [
    {
     "name": "stdout",
     "output_type": "stream",
     "text": [
      "Mean accuracy on test set:      96.50%\n",
      "Mean certainty (even if wrong): 99.02%\n",
      "\n",
      "Incorrectly-predicted keys:     3.50%\n",
      "Incorrectly-predicted bits:     0.70%\n",
      "\n",
      "Report: \n",
      "               precision    recall  f1-score   support\n",
      "\n",
      "           0      0.959     0.969     0.964        96\n",
      "           1      1.000     1.000     1.000       104\n",
      "           2      1.000     1.000     1.000       102\n",
      "           3      1.000     1.000     1.000       110\n",
      "           4      1.000     1.000     1.000       103\n",
      "\n",
      "   micro avg      0.992     0.994     0.993       515\n",
      "   macro avg      0.992     0.994     0.993       515\n",
      "weighted avg      0.992     0.994     0.993       515\n",
      " samples avg      0.968     0.971     0.968       515\n",
      "\n",
      "Confusion matrices:\n"
     ]
    },
    {
     "name": "stderr",
     "output_type": "stream",
     "text": [
      "/home/v082327/.local/lib/python3.6/site-packages/sklearn/metrics/_classification.py:1248: UndefinedMetricWarning: Precision and F-score are ill-defined and being set to 0.0 in samples with no predicted labels. Use `zero_division` parameter to control this behavior.\n",
      "  _warn_prf(average, modifier, msg_start, len(result))\n",
      "/home/v082327/.local/lib/python3.6/site-packages/sklearn/metrics/_classification.py:1248: UndefinedMetricWarning: Recall and F-score are ill-defined and being set to 0.0 in samples with no true labels. Use `zero_division` parameter to control this behavior.\n",
      "  _warn_prf(average, modifier, msg_start, len(result))\n"
     ]
    },
    {
     "data": {
      "image/png": "[encoded data removed]",
      "text/plain": [
       "<Figure size 900x144 with 5 Axes>"
      ]
     },
     "metadata": {},
     "output_type": "display_data"
    }
   ],
   "source": [
    "# Get prediction statistics\n",
    "get_statistics(multi_target_model, X_test, y_test, model_name, prob=True)"
   ]
  },
  {
   "cell_type": "code",
   "execution_count": 29,
   "id": "03518f05",
   "metadata": {
    "ExecuteTime": {
     "end_time": "2022-03-11T17:51:55.791597Z",
     "start_time": "2022-03-11T17:51:51.302734Z"
    },
    "collapsed": true
   },
   "outputs": [
    {
     "name": "stdout",
     "output_type": "stream",
     "text": [
      "\n",
      "List of accuracies:         [68.75 68.75 72.5  73.75 59.38]\n",
      "Mean accuracy:              68.62% +- 5.037%\n",
      "Incorrectly-predicted bits:  7.18% +- 1.402%\n",
      "Executed in:                0:00:00\n",
      "eta0 = 1e+05\n",
      "\n",
      "List of accuracies:         [61.25 65.62 70.   63.12 70.62]\n",
      "Mean accuracy:              66.13% +- 3.695%\n",
      "Incorrectly-predicted bits:  7.62% +- 1.304%\n",
      "Executed in:                0:00:00\n",
      "eta0 = 1e+04\n",
      "\n",
      "List of accuracies:         [60.62 63.12 62.5  65.62 70.  ]\n",
      "Mean accuracy:              64.38% +- 3.236%\n",
      "Incorrectly-predicted bits:  8.03% +- 1.074%\n",
      "Executed in:                0:00:00\n",
      "eta0 = 1e+03\n",
      "\n",
      "List of accuracies:         [68.12 71.25 68.12 58.75 65.62]\n",
      "Mean accuracy:              66.38% +- 4.209%\n",
      "Incorrectly-predicted bits:  7.58% +- 1.305%\n",
      "Executed in:                0:00:00\n",
      "eta0 = 1e+02\n",
      "\n",
      "List of accuracies:         [58.75 73.12 75.62 65.62 61.88]\n",
      "Mean accuracy:              67.00% +- 6.452%\n",
      "Incorrectly-predicted bits:  7.33% +- 1.793%\n",
      "Executed in:                0:00:00\n",
      "eta0 = 1e+01\n",
      "\n",
      "List of accuracies:         [66.25 70.62 65.   68.75 62.5 ]\n",
      "Mean accuracy:              66.62% +- 2.839%\n",
      "Incorrectly-predicted bits:  7.42% +- 0.692%\n",
      "Executed in:                0:00:00\n",
      "eta0 = 1e+00\n",
      "\n",
      "List of accuracies:         [63.75 80.   67.5  65.62 70.62]\n",
      "Mean accuracy:              69.50% +- 5.720%\n",
      "Incorrectly-predicted bits:  6.83% +- 1.584%\n",
      "Executed in:                0:00:00\n",
      "eta0 = 1e-01\n",
      "\n",
      "List of accuracies:         [62.5  70.   68.75 60.62 69.38]\n",
      "Mean accuracy:              66.25% +- 3.893%\n",
      "Incorrectly-predicted bits:  7.42% +- 1.241%\n",
      "Executed in:                0:00:00\n",
      "eta0 = 1e-02\n",
      "\n",
      "List of accuracies:         [31.25 26.88 29.38 32.5  38.75]\n",
      "Mean accuracy:              31.75% +- 3.980%\n",
      "Incorrectly-predicted bits: 17.27% +- 0.764%\n",
      "Executed in:                0:00:00\n",
      "eta0 = 1e-03\n",
      "\n",
      "List of accuracies:         [18.12 16.25 13.75 18.75 18.12]\n",
      "Mean accuracy:              17.00% +- 1.829%\n",
      "Incorrectly-predicted bits: 24.65% +- 1.333%\n",
      "Executed in:                0:00:00\n",
      "eta0 = 1e-04\n",
      "\n",
      "List of accuracies:         [10.   10.   11.25 11.88  9.38]\n",
      "Mean accuracy:              10.50% +- 0.919%\n",
      "Incorrectly-predicted bits: 30.23% +- 0.764%\n",
      "Executed in:                0:00:00\n",
      "eta0 = 1e-05\n",
      "\n",
      "Best accuracy:              69.50% ---> eta0 = 1e-01\n",
      "Incorrectly-predicted bits: 6.83%\n"
     ]
    }
   ],
   "source": [
    "model = SGDClassifier(loss='log', learning_rate='adaptive', eta0=1., tol=1e-3, max_iter=1e4, n_jobs=-1, random_state=seed,\n",
    "                      verbose=0)\n",
    "# Select hyperparameters\n",
    "# ***** test alpha\n",
    "model.eta0 = test_eta0(model, -5, 6, X_train, y_train, seed)"
   ]
  },
  {
   "cell_type": "code",
   "execution_count": 30,
   "id": "4a7805ce",
   "metadata": {
    "ExecuteTime": {
     "end_time": "2022-03-11T17:51:56.548593Z",
     "start_time": "2022-03-11T17:51:56.473022Z"
    },
    "code_folding": [
     0
    ]
   },
   "outputs": [],
   "source": [
    "# Train with full training set\n",
    "multi_target_model = MultiOutputClassifier(model, n_jobs=-1)\n",
    "multi_target_model.fit(X_train, y_train)\n",
    "# lst_acc, lst_wrong_bits = Train_CV(multi_target_model, X_train, y_train, 5, seed)\n",
    "\n",
    "# Save model\n",
    "model_name = 'LR2'\n",
    "joblib.dump(multi_target_model, f'Results/Models/model_{model_name}_{nb_name}_{n}x{m}_noise_std={noise_std}_sampling={sampling_interval}.joblib');"
   ]
  },
  {
   "cell_type": "code",
   "execution_count": 31,
   "id": "9f15b579",
   "metadata": {
    "ExecuteTime": {
     "end_time": "2022-03-11T17:51:58.007911Z",
     "start_time": "2022-03-11T17:51:57.237241Z"
    },
    "collapsed": true
   },
   "outputs": [
    {
     "name": "stdout",
     "output_type": "stream",
     "text": [
      "Mean accuracy on test set:      72.00%\n",
      "Mean certainty (even if wrong): 100.00%\n",
      "\n",
      "Incorrectly-predicted keys:     28.00%\n",
      "Incorrectly-predicted bits:     6.10%\n",
      "\n",
      "Report: \n",
      "               precision    recall  f1-score   support\n",
      "\n",
      "           0      0.766     0.854     0.808        96\n",
      "           1      0.981     0.981     0.981       104\n",
      "           2      0.912     0.912     0.912       102\n",
      "           3      1.000     1.000     1.000       110\n",
      "           4      1.000     1.000     1.000       103\n",
      "\n",
      "   micro avg      0.932     0.951     0.941       515\n",
      "   macro avg      0.932     0.949     0.940       515\n",
      "weighted avg      0.935     0.951     0.943       515\n",
      " samples avg      0.918     0.935     0.916       515\n",
      "\n",
      "Confusion matrices:\n"
     ]
    },
    {
     "name": "stderr",
     "output_type": "stream",
     "text": [
      "/home/v082327/.local/lib/python3.6/site-packages/sklearn/metrics/_classification.py:1248: UndefinedMetricWarning: Precision and F-score are ill-defined and being set to 0.0 in samples with no predicted labels. Use `zero_division` parameter to control this behavior.\n",
      "  _warn_prf(average, modifier, msg_start, len(result))\n",
      "/home/v082327/.local/lib/python3.6/site-packages/sklearn/metrics/_classification.py:1248: UndefinedMetricWarning: Recall and F-score are ill-defined and being set to 0.0 in samples with no true labels. Use `zero_division` parameter to control this behavior.\n",
      "  _warn_prf(average, modifier, msg_start, len(result))\n"
     ]
    },
    {
     "data": {
      "image/png": "[encoded data removed]",
      "text/plain": [
       "<Figure size 900x144 with 5 Axes>"
      ]
     },
     "metadata": {},
     "output_type": "display_data"
    }
   ],
   "source": [
    "# Get prediction statistics\n",
    "get_statistics(multi_target_model, X_test, y_test, model_name, prob=True)"
   ]
  },
  {
   "cell_type": "markdown",
   "id": "ffb1c7b7",
   "metadata": {},
   "source": [
    "### SVM"
   ]
  },
  {
   "cell_type": "markdown",
   "id": "095d5cfa",
   "metadata": {},
   "source": [
    "#### Linear kernel"
   ]
  },
  {
   "cell_type": "code",
   "execution_count": 32,
   "id": "0af8cabc",
   "metadata": {
    "ExecuteTime": {
     "end_time": "2022-03-11T17:52:31.136442Z",
     "start_time": "2022-03-11T17:52:31.133418Z"
    }
   },
   "outputs": [],
   "source": [
    "model = SVC(kernel='linear', probability=False, tol=1e-3, max_iter=-1, cache_size=1000, random_state=seed, verbose=True)\n",
    "# Select hyperparameters\n",
    "# ***** test C"
   ]
  },
  {
   "cell_type": "code",
   "execution_count": 33,
   "id": "fec39e74",
   "metadata": {
    "ExecuteTime": {
     "end_time": "2022-03-11T17:52:37.980525Z",
     "start_time": "2022-03-11T17:52:37.425919Z"
    },
    "code_folding": [
     0
    ]
   },
   "outputs": [],
   "source": [
    "# Train with full training set\n",
    "multi_target_model = MultiOutputClassifier(model, n_jobs=-1)\n",
    "multi_target_model.fit(X_train, y_train)\n",
    "# lst_acc, lst_wrong_bits = Train_CV(multi_target_model, X_train, y_train, 5, seed)\n",
    "\n",
    "# Save model\n",
    "model_name = 'SVM_linear1'\n",
    "joblib.dump(multi_target_model, f'Results/Models/model_{model_name}_{nb_name}_{n}x{m}_noise_std={noise_std}_sampling={sampling_interval}.joblib');"
   ]
  },
  {
   "cell_type": "code",
   "execution_count": 34,
   "id": "16198cb4",
   "metadata": {
    "ExecuteTime": {
     "end_time": "2022-03-11T17:52:40.255485Z",
     "start_time": "2022-03-11T17:52:39.530884Z"
    },
    "collapsed": true
   },
   "outputs": [
    {
     "name": "stdout",
     "output_type": "stream",
     "text": [
      "Mean accuracy on test set:      98.00%\n",
      "Incorrectly-predicted keys:     2.00%\n",
      "Incorrectly-predicted bits:     0.40%\n",
      "\n",
      "Report: \n",
      "               precision    recall  f1-score   support\n",
      "\n",
      "           0      0.979     0.979     0.979        96\n",
      "           1      1.000     1.000     1.000       104\n",
      "           2      1.000     1.000     1.000       102\n",
      "           3      1.000     1.000     1.000       110\n",
      "           4      1.000     1.000     1.000       103\n",
      "\n",
      "   micro avg      0.996     0.996     0.996       515\n",
      "   macro avg      0.996     0.996     0.996       515\n",
      "weighted avg      0.996     0.996     0.996       515\n",
      " samples avg      0.971     0.973     0.971       515\n",
      "\n",
      "Confusion matrices:\n"
     ]
    },
    {
     "name": "stderr",
     "output_type": "stream",
     "text": [
      "/home/v082327/.local/lib/python3.6/site-packages/sklearn/metrics/_classification.py:1248: UndefinedMetricWarning: Precision and F-score are ill-defined and being set to 0.0 in samples with no predicted labels. Use `zero_division` parameter to control this behavior.\n",
      "  _warn_prf(average, modifier, msg_start, len(result))\n",
      "/home/v082327/.local/lib/python3.6/site-packages/sklearn/metrics/_classification.py:1248: UndefinedMetricWarning: Recall and F-score are ill-defined and being set to 0.0 in samples with no true labels. Use `zero_division` parameter to control this behavior.\n",
      "  _warn_prf(average, modifier, msg_start, len(result))\n"
     ]
    },
    {
     "data": {
      "image/png": "[encoded data removed]",
      "text/plain": [
       "<Figure size 900x144 with 5 Axes>"
      ]
     },
     "metadata": {},
     "output_type": "display_data"
    }
   ],
   "source": [
    "# Get prediction statistics\n",
    "get_statistics(multi_target_model, X_test, y_test, model_name)"
   ]
  },
  {
   "cell_type": "code",
   "execution_count": 38,
   "id": "2f451769",
   "metadata": {
    "ExecuteTime": {
     "end_time": "2022-03-11T17:53:40.331013Z",
     "start_time": "2022-03-11T17:53:40.327982Z"
    }
   },
   "outputs": [],
   "source": [
    "model = LinearSVC(loss='squared_hinge', dual=False, tol=1e-3, max_iter=1e4, random_state=seed, verbose=1)\n",
    "# Select hyperparameters\n",
    "# ***** test C"
   ]
  },
  {
   "cell_type": "code",
   "execution_count": 39,
   "id": "955923cb",
   "metadata": {
    "ExecuteTime": {
     "end_time": "2022-03-11T17:53:41.676720Z",
     "start_time": "2022-03-11T17:53:41.599155Z"
    },
    "code_folding": [
     0
    ]
   },
   "outputs": [],
   "source": [
    "# Train with full training set\n",
    "multi_target_model = MultiOutputClassifier(model, n_jobs=-1)\n",
    "multi_target_model.fit(X_train, y_train)\n",
    "# lst_acc, lst_wrong_bits = Train_CV(multi_target_model, X_train, y_train, 5, seed)\n",
    "\n",
    "# Save model\n",
    "model_name = 'SVM_linear2'\n",
    "joblib.dump(multi_target_model, f'Results/Models/model_{model_name}_{nb_name}_{n}x{m}_noise_std={noise_std}_sampling={sampling_interval}.joblib');"
   ]
  },
  {
   "cell_type": "code",
   "execution_count": 40,
   "id": "6bb5207c",
   "metadata": {
    "ExecuteTime": {
     "end_time": "2022-03-11T17:53:44.009980Z",
     "start_time": "2022-03-11T17:53:43.315215Z"
    },
    "collapsed": true
   },
   "outputs": [
    {
     "name": "stdout",
     "output_type": "stream",
     "text": [
      "Mean accuracy on test set:      98.00%\n",
      "Incorrectly-predicted keys:     2.00%\n",
      "Incorrectly-predicted bits:     0.40%\n",
      "\n",
      "Report: \n",
      "               precision    recall  f1-score   support\n",
      "\n",
      "           0      0.979     0.979     0.979        96\n",
      "           1      1.000     1.000     1.000       104\n",
      "           2      1.000     1.000     1.000       102\n",
      "           3      1.000     1.000     1.000       110\n",
      "           4      1.000     1.000     1.000       103\n",
      "\n",
      "   micro avg      0.996     0.996     0.996       515\n",
      "   macro avg      0.996     0.996     0.996       515\n",
      "weighted avg      0.996     0.996     0.996       515\n",
      " samples avg      0.971     0.973     0.971       515\n",
      "\n",
      "Confusion matrices:\n"
     ]
    },
    {
     "name": "stderr",
     "output_type": "stream",
     "text": [
      "/home/v082327/.local/lib/python3.6/site-packages/sklearn/metrics/_classification.py:1248: UndefinedMetricWarning: Precision and F-score are ill-defined and being set to 0.0 in samples with no predicted labels. Use `zero_division` parameter to control this behavior.\n",
      "  _warn_prf(average, modifier, msg_start, len(result))\n",
      "/home/v082327/.local/lib/python3.6/site-packages/sklearn/metrics/_classification.py:1248: UndefinedMetricWarning: Recall and F-score are ill-defined and being set to 0.0 in samples with no true labels. Use `zero_division` parameter to control this behavior.\n",
      "  _warn_prf(average, modifier, msg_start, len(result))\n"
     ]
    },
    {
     "data": {
      "image/png": "[encoded data removed]",
      "text/plain": [
       "<Figure size 900x144 with 5 Axes>"
      ]
     },
     "metadata": {},
     "output_type": "display_data"
    }
   ],
   "source": [
    "# Get prediction statistics\n",
    "get_statistics(multi_target_model, X_test, y_test, model_name)"
   ]
  },
  {
   "cell_type": "code",
   "execution_count": 41,
   "id": "ff327732",
   "metadata": {
    "ExecuteTime": {
     "end_time": "2022-03-11T17:53:54.793008Z",
     "start_time": "2022-03-11T17:53:54.790073Z"
    }
   },
   "outputs": [],
   "source": [
    "model = LinearSVC(loss='squared_hinge', dual=True, tol=1e-3, max_iter=1e4, random_state=seed, verbose=1)\n",
    "# Select hyperparameters\n",
    "# ***** test C"
   ]
  },
  {
   "cell_type": "code",
   "execution_count": 42,
   "id": "820e972e",
   "metadata": {
    "ExecuteTime": {
     "end_time": "2022-03-11T17:53:58.335344Z",
     "start_time": "2022-03-11T17:53:56.039086Z"
    },
    "code_folding": [
     0
    ]
   },
   "outputs": [],
   "source": [
    "# Train with full training set\n",
    "multi_target_model = MultiOutputClassifier(model, n_jobs=-1)\n",
    "multi_target_model.fit(X_train, y_train)\n",
    "# lst_acc, lst_wrong_bits = Train_CV(multi_target_model, X_train, y_train, 5, seed)\n",
    "\n",
    "# Save model\n",
    "model_name = 'SVM_linear3'\n",
    "joblib.dump(multi_target_model, f'Results/Models/model_{model_name}_{nb_name}_{n}x{m}_noise_std={noise_std}_sampling={sampling_interval}.joblib');"
   ]
  },
  {
   "cell_type": "code",
   "execution_count": 43,
   "id": "cf204fc8",
   "metadata": {
    "ExecuteTime": {
     "end_time": "2022-03-11T17:53:59.725198Z",
     "start_time": "2022-03-11T17:53:59.006598Z"
    },
    "collapsed": true
   },
   "outputs": [
    {
     "name": "stdout",
     "output_type": "stream",
     "text": [
      "Mean accuracy on test set:      98.00%\n",
      "Incorrectly-predicted keys:     2.00%\n",
      "Incorrectly-predicted bits:     0.40%\n",
      "\n",
      "Report: \n",
      "               precision    recall  f1-score   support\n",
      "\n",
      "           0      0.979     0.979     0.979        96\n",
      "           1      1.000     1.000     1.000       104\n",
      "           2      1.000     1.000     1.000       102\n",
      "           3      1.000     1.000     1.000       110\n",
      "           4      1.000     1.000     1.000       103\n",
      "\n",
      "   micro avg      0.996     0.996     0.996       515\n",
      "   macro avg      0.996     0.996     0.996       515\n",
      "weighted avg      0.996     0.996     0.996       515\n",
      " samples avg      0.971     0.973     0.971       515\n",
      "\n",
      "Confusion matrices:\n"
     ]
    },
    {
     "name": "stderr",
     "output_type": "stream",
     "text": [
      "/home/v082327/.local/lib/python3.6/site-packages/sklearn/metrics/_classification.py:1248: UndefinedMetricWarning: Precision and F-score are ill-defined and being set to 0.0 in samples with no predicted labels. Use `zero_division` parameter to control this behavior.\n",
      "  _warn_prf(average, modifier, msg_start, len(result))\n",
      "/home/v082327/.local/lib/python3.6/site-packages/sklearn/metrics/_classification.py:1248: UndefinedMetricWarning: Recall and F-score are ill-defined and being set to 0.0 in samples with no true labels. Use `zero_division` parameter to control this behavior.\n",
      "  _warn_prf(average, modifier, msg_start, len(result))\n"
     ]
    },
    {
     "data": {
      "image/png": "[encoded data removed]",
      "text/plain": [
       "<Figure size 900x144 with 5 Axes>"
      ]
     },
     "metadata": {},
     "output_type": "display_data"
    }
   ],
   "source": [
    "# Get prediction statistics\n",
    "get_statistics(multi_target_model, X_test, y_test, model_name)"
   ]
  },
  {
   "cell_type": "code",
   "execution_count": 35,
   "id": "3b6ce16d",
   "metadata": {
    "ExecuteTime": {
     "end_time": "2022-03-11T17:52:52.793367Z",
     "start_time": "2022-03-11T17:52:49.459301Z"
    },
    "collapsed": true
   },
   "outputs": [
    {
     "name": "stdout",
     "output_type": "stream",
     "text": [
      "\n",
      "List of accuracies:         [58.75 62.5  73.75 63.75 64.38]\n",
      "Mean accuracy:              64.62% +- 4.962%\n",
      "Incorrectly-predicted bits:  7.62% +- 1.242%\n",
      "Executed in:                0:00:00\n",
      "eta0 = 1e+05\n",
      "\n",
      "List of accuracies:         [59.38 71.25 70.   63.12 62.5 ]\n",
      "Mean accuracy:              65.25% +- 4.586%\n",
      "Incorrectly-predicted bits:  7.78% +- 1.499%\n",
      "Executed in:                0:00:00\n",
      "eta0 = 1e+04\n",
      "\n",
      "List of accuracies:         [65.   62.5  60.   61.88 71.25]\n",
      "Mean accuracy:              64.12% +- 3.905%\n",
      "Incorrectly-predicted bits:  8.10% +- 1.171%\n",
      "Executed in:                0:00:00\n",
      "eta0 = 1e+03\n",
      "\n",
      "List of accuracies:         [58.12 64.38 71.25 58.75 65.62]\n",
      "Mean accuracy:              63.62% +- 4.832%\n",
      "Incorrectly-predicted bits:  8.25% +- 1.460%\n",
      "Executed in:                0:00:00\n",
      "eta0 = 1e+02\n",
      "\n",
      "List of accuracies:         [68.75 61.88 71.25 58.12 62.5 ]\n",
      "Mean accuracy:              64.50% +- 4.799%\n",
      "Incorrectly-predicted bits:  8.03% +- 1.338%\n",
      "Executed in:                0:00:00\n",
      "eta0 = 1e+01\n",
      "\n",
      "List of accuracies:         [64.38 66.25 75.62 67.5  59.38]\n",
      "Mean accuracy:              66.62% +- 5.283%\n",
      "Incorrectly-predicted bits:  7.40% +- 1.469%\n",
      "Executed in:                0:00:00\n",
      "eta0 = 1e+00\n",
      "\n",
      "List of accuracies:         [60.   66.88 74.38 63.75 67.5 ]\n",
      "Mean accuracy:              66.50% +- 4.753%\n",
      "Incorrectly-predicted bits:  7.33% +- 1.327%\n",
      "Executed in:                0:00:00\n",
      "eta0 = 1e-01\n",
      "\n",
      "List of accuracies:         [62.5  65.   75.   48.75 56.25]\n",
      "Mean accuracy:              61.50% +- 8.782%\n",
      "Incorrectly-predicted bits:  9.03% +- 2.621%\n",
      "Executed in:                0:00:00\n",
      "eta0 = 1e-02\n",
      "\n",
      "List of accuracies:         [36.25 30.62 24.38 33.12 35.62]\n",
      "Mean accuracy:              32.00% +- 4.301%\n",
      "Incorrectly-predicted bits: 17.60% +- 0.950%\n",
      "Executed in:                0:00:00\n",
      "eta0 = 1e-03\n",
      "\n",
      "List of accuracies:         [19.38 11.88 11.88 20.62 16.88]\n",
      "Mean accuracy:              16.12% +- 3.674%\n",
      "Incorrectly-predicted bits: 25.85% +- 1.942%\n",
      "Executed in:                0:00:00\n",
      "eta0 = 1e-04\n",
      "\n",
      "List of accuracies:         [12.5  11.25 10.62 11.88  9.38]\n",
      "Mean accuracy:              11.12% +- 1.075%\n",
      "Incorrectly-predicted bits: 29.50% +- 0.880%\n",
      "Executed in:                0:00:00\n",
      "eta0 = 1e-05\n",
      "\n",
      "Best accuracy:              66.62% ---> eta0 = 1e+00\n",
      "Incorrectly-predicted bits: 7.40%\n"
     ]
    }
   ],
   "source": [
    "model = SGDClassifier(loss='hinge', learning_rate='adaptive', eta0=1., tol=1e-3, max_iter=1e4, n_jobs=-1, random_state=seed,\n",
    "                      verbose=0)\n",
    "# Select hyperparameters\n",
    "# ***** test alpha\n",
    "model.eta0 = test_eta0(model, -5, 6, X_train, y_train, seed)"
   ]
  },
  {
   "cell_type": "code",
   "execution_count": 36,
   "id": "43ea2446",
   "metadata": {
    "ExecuteTime": {
     "end_time": "2022-03-11T17:52:55.349060Z",
     "start_time": "2022-03-11T17:52:55.295439Z"
    },
    "code_folding": [
     0
    ]
   },
   "outputs": [],
   "source": [
    "# Train with full training set\n",
    "multi_target_model = MultiOutputClassifier(model, n_jobs=-1)\n",
    "multi_target_model.fit(X_train, y_train)\n",
    "# lst_acc, lst_wrong_bits = Train_CV(multi_target_model, X_train, y_train, 5, seed)\n",
    "\n",
    "# Save model\n",
    "model_name = 'SVM_linear4'\n",
    "joblib.dump(multi_target_model, f'Results/Models/model_{model_name}_{nb_name}_{n}x{m}_noise_std={noise_std}_sampling={sampling_interval}.joblib');"
   ]
  },
  {
   "cell_type": "code",
   "execution_count": 37,
   "id": "0d71cf16",
   "metadata": {
    "ExecuteTime": {
     "end_time": "2022-03-11T17:52:56.769172Z",
     "start_time": "2022-03-11T17:52:56.060938Z"
    },
    "collapsed": true
   },
   "outputs": [
    {
     "name": "stdout",
     "output_type": "stream",
     "text": [
      "Mean accuracy on test set:      71.00%\n",
      "Incorrectly-predicted keys:     29.00%\n",
      "Incorrectly-predicted bits:     6.20%\n",
      "\n",
      "Report: \n",
      "               precision    recall  f1-score   support\n",
      "\n",
      "           0      0.771     0.844     0.806        96\n",
      "           1      1.000     0.990     0.995       104\n",
      "           2      0.908     0.873     0.890       102\n",
      "           3      1.000     1.000     1.000       110\n",
      "           4      1.000     1.000     1.000       103\n",
      "\n",
      "   micro avg      0.936     0.944     0.940       515\n",
      "   macro avg      0.936     0.941     0.938       515\n",
      "weighted avg      0.939     0.944     0.941       515\n",
      " samples avg      0.920     0.930     0.913       515\n",
      "\n",
      "Confusion matrices:\n"
     ]
    },
    {
     "name": "stderr",
     "output_type": "stream",
     "text": [
      "/home/v082327/.local/lib/python3.6/site-packages/sklearn/metrics/_classification.py:1248: UndefinedMetricWarning: Precision and F-score are ill-defined and being set to 0.0 in samples with no predicted labels. Use `zero_division` parameter to control this behavior.\n",
      "  _warn_prf(average, modifier, msg_start, len(result))\n",
      "/home/v082327/.local/lib/python3.6/site-packages/sklearn/metrics/_classification.py:1248: UndefinedMetricWarning: Recall and F-score are ill-defined and being set to 0.0 in samples with no true labels. Use `zero_division` parameter to control this behavior.\n",
      "  _warn_prf(average, modifier, msg_start, len(result))\n"
     ]
    },
    {
     "data": {
      "image/png": "[encoded data removed]",
      "text/plain": [
       "<Figure size 900x144 with 5 Axes>"
      ]
     },
     "metadata": {},
     "output_type": "display_data"
    }
   ],
   "source": [
    "# Get prediction statistics\n",
    "get_statistics(multi_target_model, X_test, y_test, model_name)"
   ]
  },
  {
   "cell_type": "markdown",
   "id": "d8aa52a1",
   "metadata": {},
   "source": [
    "#### Gaussian kernel"
   ]
  },
  {
   "cell_type": "code",
   "execution_count": 45,
   "id": "f35c1ed5",
   "metadata": {
    "ExecuteTime": {
     "end_time": "2022-03-11T17:54:23.811095Z",
     "start_time": "2022-03-11T17:54:23.808026Z"
    }
   },
   "outputs": [],
   "source": [
    "model = SVC(kernel='rbf', gamma='scale', probability=False, tol=1e-3, max_iter=-1, cache_size=1000, random_state=seed,\n",
    "            verbose=True)\n",
    "# Select hyperparameters\n",
    "# ***** test C"
   ]
  },
  {
   "cell_type": "code",
   "execution_count": 46,
   "id": "ad3f77d1",
   "metadata": {
    "ExecuteTime": {
     "end_time": "2022-03-11T17:54:25.814648Z",
     "start_time": "2022-03-11T17:54:24.553789Z"
    },
    "code_folding": [
     0
    ]
   },
   "outputs": [],
   "source": [
    "# Train with full training set\n",
    "multi_target_model = MultiOutputClassifier(model, n_jobs=-1)\n",
    "multi_target_model.fit(X_train, y_train)\n",
    "# lst_acc, lst_wrong_bits = Train_CV(multi_target_model, X_train, y_train, 5, seed)\n",
    "\n",
    "# Save model\n",
    "model_name = 'SVM_gaussian1'\n",
    "joblib.dump(multi_target_model, f'Results/Models/model_{model_name}_{nb_name}_{n}x{m}_noise_std={noise_std}_sampling={sampling_interval}.joblib');"
   ]
  },
  {
   "cell_type": "code",
   "execution_count": 47,
   "id": "74bfe21b",
   "metadata": {
    "ExecuteTime": {
     "end_time": "2022-03-11T17:54:28.985343Z",
     "start_time": "2022-03-11T17:54:26.514225Z"
    },
    "collapsed": true
   },
   "outputs": [
    {
     "name": "stdout",
     "output_type": "stream",
     "text": [
      "Mean accuracy on test set:      17.00%\n",
      "Incorrectly-predicted keys:     83.00%\n",
      "Incorrectly-predicted bits:     25.30%\n",
      "\n",
      "Report: \n",
      "               precision    recall  f1-score   support\n",
      "\n",
      "           0      0.465     0.552     0.505        96\n",
      "           1      0.621     0.692     0.655       104\n",
      "           2      0.603     0.833     0.700       102\n",
      "           3      1.000     1.000     1.000       110\n",
      "           4      1.000     1.000     1.000       103\n",
      "\n",
      "   micro avg      0.724     0.821     0.770       515\n",
      "   macro avg      0.738     0.816     0.772       515\n",
      "weighted avg      0.745     0.821     0.778       515\n",
      " samples avg      0.714     0.807     0.730       515\n",
      "\n",
      "Confusion matrices:\n"
     ]
    },
    {
     "name": "stderr",
     "output_type": "stream",
     "text": [
      "/home/v082327/.local/lib/python3.6/site-packages/sklearn/metrics/_classification.py:1248: UndefinedMetricWarning: Recall and F-score are ill-defined and being set to 0.0 in samples with no true labels. Use `zero_division` parameter to control this behavior.\n",
      "  _warn_prf(average, modifier, msg_start, len(result))\n"
     ]
    },
    {
     "data": {
      "image/png": "[encoded data removed]",
      "text/plain": [
       "<Figure size 900x144 with 5 Axes>"
      ]
     },
     "metadata": {},
     "output_type": "display_data"
    }
   ],
   "source": [
    "# Get prediction statistics\n",
    "get_statistics(multi_target_model, X_test, y_test, model_name)"
   ]
  },
  {
   "cell_type": "code",
   "execution_count": 48,
   "id": "152037e2",
   "metadata": {
    "ExecuteTime": {
     "end_time": "2022-03-11T17:54:29.677322Z",
     "start_time": "2022-03-11T17:54:29.674382Z"
    }
   },
   "outputs": [],
   "source": [
    "model = SVC(kernel='rbf', gamma='auto', probability=False, tol=1e-3, max_iter=-1, cache_size=1000, random_state=seed,\n",
    "            verbose=True)\n",
    "# Select hyperparameters\n",
    "# ***** test C"
   ]
  },
  {
   "cell_type": "code",
   "execution_count": 49,
   "id": "3fbeac3a",
   "metadata": {
    "ExecuteTime": {
     "end_time": "2022-03-11T17:54:30.494351Z",
     "start_time": "2022-03-11T17:54:30.380472Z"
    },
    "code_folding": [
     0
    ]
   },
   "outputs": [],
   "source": [
    "# Train with full training set\n",
    "multi_target_model = MultiOutputClassifier(model, n_jobs=-1)\n",
    "multi_target_model.fit(X_train, y_train)\n",
    "# lst_acc, lst_wrong_bits = Train_CV(multi_target_model, X_train, y_train, 5, seed)\n",
    "\n",
    "# Save model\n",
    "model_name = 'SVM_gaussian2'\n",
    "joblib.dump(multi_target_model, f'Results/Models/model_{model_name}_{nb_name}_{n}x{m}_noise_std={noise_std}_sampling={sampling_interval}.joblib');"
   ]
  },
  {
   "cell_type": "code",
   "execution_count": 50,
   "id": "00155600",
   "metadata": {
    "ExecuteTime": {
     "end_time": "2022-03-11T17:54:31.973574Z",
     "start_time": "2022-03-11T17:54:31.183232Z"
    },
    "collapsed": true
   },
   "outputs": [
    {
     "name": "stdout",
     "output_type": "stream",
     "text": [
      "Mean accuracy on test set:      23.50%\n",
      "Incorrectly-predicted keys:     76.50%\n",
      "Incorrectly-predicted bits:     26.20%\n",
      "\n",
      "Report: \n",
      "               precision    recall  f1-score   support\n",
      "\n",
      "           0      0.440     0.458     0.449        96\n",
      "           1      0.542     0.558     0.550       104\n",
      "           2      0.717     0.696     0.706       102\n",
      "           3      1.000     1.000     1.000       110\n",
      "           4      1.000     1.000     1.000       103\n",
      "\n",
      "   micro avg      0.744     0.750     0.747       515\n",
      "   macro avg      0.740     0.742     0.741       515\n",
      "weighted avg      0.747     0.750     0.748       515\n",
      " samples avg      0.738     0.738     0.702       515\n",
      "\n",
      "Confusion matrices:\n"
     ]
    },
    {
     "name": "stderr",
     "output_type": "stream",
     "text": [
      "/home/v082327/.local/lib/python3.6/site-packages/sklearn/metrics/_classification.py:1248: UndefinedMetricWarning: Precision and F-score are ill-defined and being set to 0.0 in samples with no predicted labels. Use `zero_division` parameter to control this behavior.\n",
      "  _warn_prf(average, modifier, msg_start, len(result))\n",
      "/home/v082327/.local/lib/python3.6/site-packages/sklearn/metrics/_classification.py:1248: UndefinedMetricWarning: Recall and F-score are ill-defined and being set to 0.0 in samples with no true labels. Use `zero_division` parameter to control this behavior.\n",
      "  _warn_prf(average, modifier, msg_start, len(result))\n"
     ]
    },
    {
     "data": {
      "image/png": "[encoded data removed]",
      "text/plain": [
       "<Figure size 900x144 with 5 Axes>"
      ]
     },
     "metadata": {},
     "output_type": "display_data"
    }
   ],
   "source": [
    "# Get prediction statistics\n",
    "get_statistics(multi_target_model, X_test, y_test, model_name)"
   ]
  },
  {
   "cell_type": "markdown",
   "id": "3d130321",
   "metadata": {},
   "source": [
    "#### Polynomial kernel"
   ]
  },
  {
   "cell_type": "code",
   "execution_count": 51,
   "id": "6bc1973f",
   "metadata": {
    "ExecuteTime": {
     "end_time": "2022-03-11T17:54:50.621972Z",
     "start_time": "2022-03-11T17:54:47.305566Z"
    },
    "collapsed": true
   },
   "outputs": [
    {
     "name": "stdout",
     "output_type": "stream",
     "text": [
      "\n",
      "List of accuracies:         [97.5  98.75 99.38 96.25 96.25]\n",
      "Mean accuracy:              97.62% +- 1.275%\n",
      "Incorrectly-predicted bits:  0.47% +- 0.255%\n",
      "Executed in:                0:00:01\n",
      "coef0 = -1\n",
      "\n",
      "List of accuracies:         [98.12 98.12 99.38 97.5  98.12]\n",
      "Mean accuracy:              98.25% +- 0.612%\n",
      "Incorrectly-predicted bits:  0.35% +- 0.122%\n",
      "Executed in:                0:00:01\n",
      "coef0 = 0\n",
      "\n",
      "List of accuracies:         [98.12 98.75 99.38 98.12 98.12]\n",
      "Mean accuracy:              98.50% +- 0.500%\n",
      "Incorrectly-predicted bits:  0.30% +- 0.100%\n",
      "Executed in:                0:00:01\n",
      "coef0 = 1\n",
      "\n",
      "Best accuracy:              98.50% ---> coef0 = 1\n",
      "Incorrectly-predicted bits: 0.30%\n"
     ]
    }
   ],
   "source": [
    "model = SVC(kernel='poly', degree=3, coef0=0., probability=False, tol=1e-3, max_iter=-1, cache_size=1000, random_state=seed,\n",
    "            verbose=True)\n",
    "# Select hyperparameters\n",
    "# ***** test C\n",
    "model.coef0 = test_coef0(model, -1, 2, X_train, y_train, seed)"
   ]
  },
  {
   "cell_type": "code",
   "execution_count": 52,
   "id": "6b9df078",
   "metadata": {
    "ExecuteTime": {
     "end_time": "2022-03-11T17:54:51.539664Z",
     "start_time": "2022-03-11T17:54:51.316867Z"
    },
    "code_folding": [
     0
    ]
   },
   "outputs": [],
   "source": [
    "# Train with full training set\n",
    "multi_target_model = MultiOutputClassifier(model, n_jobs=-1)\n",
    "multi_target_model.fit(X_train, y_train)\n",
    "# lst_acc, lst_wrong_bits = Train_CV(multi_target_model, X_train, y_train, 5, seed)\n",
    "\n",
    "# Save model\n",
    "model_name = 'SVM_poly1'\n",
    "joblib.dump(multi_target_model, f'Results/Models/model_{model_name}_{nb_name}_{n}x{m}_noise_std={noise_std}_sampling={sampling_interval}.joblib');"
   ]
  },
  {
   "cell_type": "code",
   "execution_count": 53,
   "id": "2c07b73c",
   "metadata": {
    "ExecuteTime": {
     "end_time": "2022-03-11T17:54:52.943815Z",
     "start_time": "2022-03-11T17:54:52.222973Z"
    },
    "collapsed": true
   },
   "outputs": [
    {
     "name": "stdout",
     "output_type": "stream",
     "text": [
      "Mean accuracy on test set:      98.00%\n",
      "Incorrectly-predicted keys:     2.00%\n",
      "Incorrectly-predicted bits:     0.40%\n",
      "\n",
      "Report: \n",
      "               precision    recall  f1-score   support\n",
      "\n",
      "           0      0.989     0.969     0.979        96\n",
      "           1      1.000     1.000     1.000       104\n",
      "           2      1.000     1.000     1.000       102\n",
      "           3      1.000     1.000     1.000       110\n",
      "           4      1.000     1.000     1.000       103\n",
      "\n",
      "   micro avg      0.998     0.994     0.996       515\n",
      "   macro avg      0.998     0.994     0.996       515\n",
      "weighted avg      0.998     0.994     0.996       515\n",
      " samples avg      0.973     0.971     0.971       515\n",
      "\n",
      "Confusion matrices:\n"
     ]
    },
    {
     "name": "stderr",
     "output_type": "stream",
     "text": [
      "/home/v082327/.local/lib/python3.6/site-packages/sklearn/metrics/_classification.py:1248: UndefinedMetricWarning: Precision and F-score are ill-defined and being set to 0.0 in samples with no predicted labels. Use `zero_division` parameter to control this behavior.\n",
      "  _warn_prf(average, modifier, msg_start, len(result))\n",
      "/home/v082327/.local/lib/python3.6/site-packages/sklearn/metrics/_classification.py:1248: UndefinedMetricWarning: Recall and F-score are ill-defined and being set to 0.0 in samples with no true labels. Use `zero_division` parameter to control this behavior.\n",
      "  _warn_prf(average, modifier, msg_start, len(result))\n"
     ]
    },
    {
     "data": {
      "image/png": "[encoded data removed]",
      "text/plain": [
       "<Figure size 900x144 with 5 Axes>"
      ]
     },
     "metadata": {},
     "output_type": "display_data"
    }
   ],
   "source": [
    "# Get prediction statistics\n",
    "get_statistics(multi_target_model, X_test, y_test, model_name)"
   ]
  },
  {
   "cell_type": "code",
   "execution_count": 54,
   "id": "b611bb34",
   "metadata": {
    "ExecuteTime": {
     "end_time": "2022-03-11T17:54:57.583711Z",
     "start_time": "2022-03-11T17:54:53.623454Z"
    },
    "collapsed": true
   },
   "outputs": [
    {
     "name": "stdout",
     "output_type": "stream",
     "text": [
      "\n",
      "List of accuracies:         [97.5  99.38 98.12 97.5  97.5 ]\n",
      "Mean accuracy:              98.00% +- 0.729%\n",
      "Incorrectly-predicted bits:  0.40% +- 0.146%\n",
      "Executed in:                0:00:01\n",
      "coef0 = -1\n",
      "\n",
      "List of accuracies:         [98.12 99.38 98.12 97.5  97.5 ]\n",
      "Mean accuracy:              98.12% +- 0.685%\n",
      "Incorrectly-predicted bits:  0.38% +- 0.137%\n",
      "Executed in:                0:00:01\n",
      "coef0 = 0\n",
      "\n",
      "List of accuracies:         [98.12 99.38 98.12 96.88 97.5 ]\n",
      "Mean accuracy:              98.00% +- 0.829%\n",
      "Incorrectly-predicted bits:  0.40% +- 0.166%\n",
      "Executed in:                0:00:01\n",
      "coef0 = 1\n",
      "\n",
      "Best accuracy:              98.12% ---> coef0 = 0\n",
      "Incorrectly-predicted bits: 0.38%\n"
     ]
    }
   ],
   "source": [
    "model = SVC(kernel='poly', degree=4, coef0=0., probability=False, tol=1e-3, max_iter=-1, cache_size=1000, random_state=seed,\n",
    "            verbose=True)\n",
    "# Select hyperparameters\n",
    "# ***** test C\n",
    "model.coef0 = test_coef0(model, -1, 2, X_train, y_train, seed)"
   ]
  },
  {
   "cell_type": "code",
   "execution_count": 55,
   "id": "06d8d18f",
   "metadata": {
    "ExecuteTime": {
     "end_time": "2022-03-11T17:54:58.486866Z",
     "start_time": "2022-03-11T17:54:58.250158Z"
    },
    "code_folding": [
     0
    ]
   },
   "outputs": [],
   "source": [
    "# Train with full training set\n",
    "multi_target_model = MultiOutputClassifier(model, n_jobs=-1)\n",
    "multi_target_model.fit(X_train, y_train)\n",
    "# lst_acc, lst_wrong_bits = Train_CV(multi_target_model, X_train, y_train, 5, seed)\n",
    "\n",
    "# Save model\n",
    "model_name = 'SVM_poly2'\n",
    "joblib.dump(multi_target_model, f'Results/Models/model_{model_name}_{nb_name}_{n}x{m}_noise_std={noise_std}_sampling={sampling_interval}.joblib');"
   ]
  },
  {
   "cell_type": "code",
   "execution_count": 56,
   "id": "705bb875",
   "metadata": {
    "ExecuteTime": {
     "end_time": "2022-03-11T17:54:59.903882Z",
     "start_time": "2022-03-11T17:54:59.174861Z"
    },
    "collapsed": true
   },
   "outputs": [
    {
     "name": "stdout",
     "output_type": "stream",
     "text": [
      "Mean accuracy on test set:      97.00%\n",
      "Incorrectly-predicted keys:     3.00%\n",
      "Incorrectly-predicted bits:     0.60%\n",
      "\n",
      "Report: \n",
      "               precision    recall  f1-score   support\n",
      "\n",
      "           0      0.959     0.979     0.969        96\n",
      "           1      1.000     1.000     1.000       104\n",
      "           2      1.000     1.000     1.000       102\n",
      "           3      1.000     1.000     1.000       110\n",
      "           4      1.000     1.000     1.000       103\n",
      "\n",
      "   micro avg      0.992     0.996     0.994       515\n",
      "   macro avg      0.992     0.996     0.994       515\n",
      "weighted avg      0.992     0.996     0.994       515\n",
      " samples avg      0.972     0.976     0.972       515\n",
      "\n",
      "Confusion matrices:\n"
     ]
    },
    {
     "name": "stderr",
     "output_type": "stream",
     "text": [
      "/home/v082327/.local/lib/python3.6/site-packages/sklearn/metrics/_classification.py:1248: UndefinedMetricWarning: Precision and F-score are ill-defined and being set to 0.0 in samples with no predicted labels. Use `zero_division` parameter to control this behavior.\n",
      "  _warn_prf(average, modifier, msg_start, len(result))\n",
      "/home/v082327/.local/lib/python3.6/site-packages/sklearn/metrics/_classification.py:1248: UndefinedMetricWarning: Recall and F-score are ill-defined and being set to 0.0 in samples with no true labels. Use `zero_division` parameter to control this behavior.\n",
      "  _warn_prf(average, modifier, msg_start, len(result))\n"
     ]
    },
    {
     "data": {
      "image/png": "[encoded data removed]",
      "text/plain": [
       "<Figure size 900x144 with 5 Axes>"
      ]
     },
     "metadata": {},
     "output_type": "display_data"
    }
   ],
   "source": [
    "# Get prediction statistics\n",
    "get_statistics(multi_target_model, X_test, y_test, model_name)"
   ]
  },
  {
   "cell_type": "markdown",
   "id": "4e1ccbda",
   "metadata": {},
   "source": [
    "#### Sigmoid kernel"
   ]
  },
  {
   "cell_type": "code",
   "execution_count": 57,
   "id": "15b20280",
   "metadata": {
    "ExecuteTime": {
     "end_time": "2022-03-11T17:55:22.871148Z",
     "start_time": "2022-03-11T17:55:20.878391Z"
    },
    "collapsed": true
   },
   "outputs": [
    {
     "name": "stdout",
     "output_type": "stream",
     "text": [
      "\n",
      "List of accuracies:         [3.75 2.5  3.12 1.88 1.25]\n",
      "Mean accuracy:               2.50% +- 0.884%\n",
      "Incorrectly-predicted bits: 51.35% +- 0.639%\n",
      "Executed in:                0:00:01\n",
      "coef0 = -1\n",
      "\n",
      "List of accuracies:         [3.75 2.5  3.12 1.88 1.25]\n",
      "Mean accuracy:               2.50% +- 0.884%\n",
      "Incorrectly-predicted bits: 51.35% +- 0.639%\n",
      "Executed in:                0:00:01\n",
      "coef0 = 0\n",
      "\n",
      "List of accuracies:         [3.75 2.5  3.12 1.88 1.25]\n",
      "Mean accuracy:               2.50% +- 0.884%\n",
      "Incorrectly-predicted bits: 51.35% +- 0.639%\n",
      "Executed in:                0:00:01\n",
      "coef0 = 1\n",
      "\n",
      "Best accuracy:              2.50% ---> coef0 = -1\n",
      "Incorrectly-predicted bits: 51.35%\n"
     ]
    }
   ],
   "source": [
    "model = SVC(kernel='sigmoid', gamma='scale', coef0=0., probability=False, tol=1e-3, max_iter=-1, cache_size=1000,\n",
    "            random_state=seed, verbose=False)\n",
    "# Select hyperparameters\n",
    "# ***** test C\n",
    "model.coef0 = test_coef0(model, -1, 2, X_train, y_train, seed)"
   ]
  },
  {
   "cell_type": "code",
   "execution_count": 58,
   "id": "f2826606",
   "metadata": {
    "ExecuteTime": {
     "end_time": "2022-03-11T17:55:23.675534Z",
     "start_time": "2022-03-11T17:55:23.558166Z"
    },
    "code_folding": [
     0
    ]
   },
   "outputs": [],
   "source": [
    "# Train with full training set\n",
    "multi_target_model = MultiOutputClassifier(model, n_jobs=-1)\n",
    "multi_target_model.fit(X_train, y_train)\n",
    "# lst_acc, lst_wrong_bits = Train_CV(multi_target_model, X_train, y_train, 5, seed)\n",
    "\n",
    "# Save model\n",
    "model_name = 'SVM_sigmoid1'\n",
    "joblib.dump(multi_target_model, f'Results/Models/model_{model_name}_{nb_name}_{n}x{m}_noise_std={noise_std}_sampling={sampling_interval}.joblib');"
   ]
  },
  {
   "cell_type": "code",
   "execution_count": 59,
   "id": "0a80e4b5",
   "metadata": {
    "ExecuteTime": {
     "end_time": "2022-03-11T17:55:25.128782Z",
     "start_time": "2022-03-11T17:55:24.369998Z"
    },
    "collapsed": true
   },
   "outputs": [
    {
     "name": "stdout",
     "output_type": "stream",
     "text": [
      "Mean accuracy on test set:      2.50%\n",
      "Incorrectly-predicted keys:     97.50%\n",
      "Incorrectly-predicted bits:     48.80%\n",
      "\n",
      "Report: \n",
      "               precision    recall  f1-score   support\n",
      "\n",
      "           0      0.480     1.000     0.649        96\n",
      "           1      0.778     0.067     0.124       104\n",
      "           2      0.510     1.000     0.675       102\n",
      "           3      0.550     1.000     0.710       110\n",
      "           4      0.515     1.000     0.680       103\n",
      "\n",
      "   micro avg      0.517     0.812     0.631       515\n",
      "   macro avg      0.567     0.813     0.568       515\n",
      "weighted avg      0.568     0.812     0.567       515\n",
      " samples avg      0.516     0.804     0.606       515\n",
      "\n",
      "Confusion matrices:\n"
     ]
    },
    {
     "name": "stderr",
     "output_type": "stream",
     "text": [
      "/home/v082327/.local/lib/python3.6/site-packages/sklearn/metrics/_classification.py:1248: UndefinedMetricWarning: Recall and F-score are ill-defined and being set to 0.0 in samples with no true labels. Use `zero_division` parameter to control this behavior.\n",
      "  _warn_prf(average, modifier, msg_start, len(result))\n"
     ]
    },
    {
     "data": {
      "image/png": "[encoded data removed]",
      "text/plain": [
       "<Figure size 900x144 with 5 Axes>"
      ]
     },
     "metadata": {},
     "output_type": "display_data"
    }
   ],
   "source": [
    "# Get prediction statistics\n",
    "get_statistics(multi_target_model, X_test, y_test, model_name)"
   ]
  },
  {
   "cell_type": "code",
   "execution_count": 60,
   "id": "7cc84cf5",
   "metadata": {
    "ExecuteTime": {
     "end_time": "2022-03-11T17:55:27.357785Z",
     "start_time": "2022-03-11T17:55:25.814314Z"
    },
    "collapsed": true
   },
   "outputs": [
    {
     "name": "stdout",
     "output_type": "stream",
     "text": [
      "\n",
      "List of accuracies:         [3.75 2.5  3.12 1.88 1.25]\n",
      "Mean accuracy:               2.50% +- 0.884%\n",
      "Incorrectly-predicted bits: 51.35% +- 0.639%\n",
      "Executed in:                0:00:01\n",
      "coef0 = -1\n",
      "\n",
      "List of accuracies:         [3.75 2.5  3.12 1.88 1.25]\n",
      "Mean accuracy:               2.50% +- 0.884%\n",
      "Incorrectly-predicted bits: 51.35% +- 0.639%\n",
      "Executed in:                0:00:01\n",
      "coef0 = 0\n",
      "\n",
      "List of accuracies:         [3.75 2.5  3.12 1.88 1.25]\n",
      "Mean accuracy:               2.50% +- 0.884%\n",
      "Incorrectly-predicted bits: 51.35% +- 0.639%\n",
      "Executed in:                0:00:00\n",
      "coef0 = 1\n",
      "\n",
      "Best accuracy:              2.50% ---> coef0 = -1\n",
      "Incorrectly-predicted bits: 51.35%\n"
     ]
    }
   ],
   "source": [
    "model = SVC(kernel='sigmoid', gamma='auto', coef0=0., probability=False, tol=1e-3, max_iter=-1, cache_size=1000,\n",
    "            random_state=seed, verbose=False)\n",
    "# Select hyperparameters\n",
    "# ***** test C\n",
    "model.coef0 = test_coef0(model, -1, 2, X_train, y_train, seed)"
   ]
  },
  {
   "cell_type": "code",
   "execution_count": 61,
   "id": "a749596c",
   "metadata": {
    "ExecuteTime": {
     "end_time": "2022-03-11T17:55:28.129043Z",
     "start_time": "2022-03-11T17:55:28.044059Z"
    },
    "code_folding": [
     0
    ]
   },
   "outputs": [],
   "source": [
    "# Train with full training set\n",
    "multi_target_model = MultiOutputClassifier(model, n_jobs=-1)\n",
    "multi_target_model.fit(X_train, y_train)\n",
    "# lst_acc, lst_wrong_bits = Train_CV(multi_target_model, X_train, y_train, 5, seed)\n",
    "\n",
    "# Save model\n",
    "model_name = 'SVM_sigmoid2'\n",
    "joblib.dump(multi_target_model, f'Results/Models/model_{model_name}_{nb_name}_{n}x{m}_noise_std={noise_std}_sampling={sampling_interval}.joblib');"
   ]
  },
  {
   "cell_type": "code",
   "execution_count": 62,
   "id": "3e0d7d5b",
   "metadata": {
    "ExecuteTime": {
     "end_time": "2022-03-11T17:55:29.664506Z",
     "start_time": "2022-03-11T17:55:28.923785Z"
    },
    "collapsed": true
   },
   "outputs": [
    {
     "name": "stdout",
     "output_type": "stream",
     "text": [
      "Mean accuracy on test set:      3.50%\n",
      "Incorrectly-predicted keys:     96.50%\n",
      "Incorrectly-predicted bits:     48.50%\n",
      "\n",
      "Report: \n",
      "               precision    recall  f1-score   support\n",
      "\n",
      "           0      0.480     1.000     0.649        96\n",
      "           1      0.520     1.000     0.684       104\n",
      "           2      0.510     1.000     0.675       102\n",
      "           3      0.550     1.000     0.710       110\n",
      "           4      0.515     1.000     0.680       103\n",
      "\n",
      "   micro avg      0.515     1.000     0.680       515\n",
      "   macro avg      0.515     1.000     0.680       515\n",
      "weighted avg      0.516     1.000     0.680       515\n",
      " samples avg      0.515     0.980     0.653       515\n",
      "\n",
      "Confusion matrices:\n"
     ]
    },
    {
     "name": "stderr",
     "output_type": "stream",
     "text": [
      "/home/v082327/.local/lib/python3.6/site-packages/sklearn/metrics/_classification.py:1248: UndefinedMetricWarning: Recall and F-score are ill-defined and being set to 0.0 in samples with no true labels. Use `zero_division` parameter to control this behavior.\n",
      "  _warn_prf(average, modifier, msg_start, len(result))\n"
     ]
    },
    {
     "data": {
      "image/png": "[encoded data removed]",
      "text/plain": [
       "<Figure size 900x144 with 5 Axes>"
      ]
     },
     "metadata": {},
     "output_type": "display_data"
    }
   ],
   "source": [
    "# Get prediction statistics\n",
    "get_statistics(multi_target_model, X_test, y_test, model_name)"
   ]
  },
  {
   "cell_type": "markdown",
   "id": "1f4231d0",
   "metadata": {},
   "source": [
    "### Naïve Bayes"
   ]
  },
  {
   "cell_type": "markdown",
   "id": "350bca37",
   "metadata": {},
   "source": [
    "#### Gaussian NB"
   ]
  },
  {
   "cell_type": "code",
   "execution_count": 63,
   "id": "48e357b4",
   "metadata": {
    "ExecuteTime": {
     "end_time": "2022-03-11T17:55:49.432258Z",
     "start_time": "2022-03-11T17:55:49.429605Z"
    }
   },
   "outputs": [],
   "source": [
    "model = GaussianNB(var_smoothing=1e-9)\n",
    "# Select hyperparameters\n",
    "# ***** test var_smoothing"
   ]
  },
  {
   "cell_type": "code",
   "execution_count": 64,
   "id": "681397d8",
   "metadata": {
    "ExecuteTime": {
     "end_time": "2022-03-11T17:55:50.449909Z",
     "start_time": "2022-03-11T17:55:50.422566Z"
    },
    "code_folding": [
     0
    ]
   },
   "outputs": [],
   "source": [
    "# Train with full training set\n",
    "multi_target_model = MultiOutputClassifier(model, n_jobs=-1)\n",
    "multi_target_model.fit(X_train, y_train)\n",
    "# lst_acc, lst_wrong_bits = Train_CV(multi_target_model, X_train, y_train, 5, seed)\n",
    "\n",
    "# Save model\n",
    "model_name = 'NB_gaussian'\n",
    "joblib.dump(multi_target_model, f'Results/Models/model_{model_name}_{nb_name}_{n}x{m}_noise_std={noise_std}_sampling={sampling_interval}.joblib');"
   ]
  },
  {
   "cell_type": "code",
   "execution_count": 65,
   "id": "e8492d43",
   "metadata": {
    "ExecuteTime": {
     "end_time": "2022-03-11T17:55:53.866860Z",
     "start_time": "2022-03-11T17:55:53.150641Z"
    },
    "collapsed": true
   },
   "outputs": [
    {
     "name": "stdout",
     "output_type": "stream",
     "text": [
      "Mean accuracy on test set:      52.50%\n",
      "Mean certainty (even if wrong): 99.97%\n",
      "\n",
      "Incorrectly-predicted keys:     47.50%\n",
      "Incorrectly-predicted bits:     11.90%\n",
      "\n",
      "Report: \n",
      "               precision    recall  f1-score   support\n",
      "\n",
      "           0      0.710     0.688     0.698        96\n",
      "           1      1.000     1.000     1.000       104\n",
      "           2      0.682     0.735     0.708       102\n",
      "           3      1.000     1.000     1.000       110\n",
      "           4      1.000     1.000     1.000       103\n",
      "\n",
      "   micro avg      0.881     0.889     0.885       515\n",
      "   macro avg      0.878     0.885     0.881       515\n",
      "weighted avg      0.883     0.889     0.886       515\n",
      " samples avg      0.852     0.866     0.839       515\n",
      "\n",
      "Confusion matrices:\n"
     ]
    },
    {
     "name": "stderr",
     "output_type": "stream",
     "text": [
      "/home/v082327/.local/lib/python3.6/site-packages/sklearn/metrics/_classification.py:1248: UndefinedMetricWarning: Precision and F-score are ill-defined and being set to 0.0 in samples with no predicted labels. Use `zero_division` parameter to control this behavior.\n",
      "  _warn_prf(average, modifier, msg_start, len(result))\n",
      "/home/v082327/.local/lib/python3.6/site-packages/sklearn/metrics/_classification.py:1248: UndefinedMetricWarning: Recall and F-score are ill-defined and being set to 0.0 in samples with no true labels. Use `zero_division` parameter to control this behavior.\n",
      "  _warn_prf(average, modifier, msg_start, len(result))\n"
     ]
    },
    {
     "data": {
      "image/png": "[encoded data removed]",
      "text/plain": [
       "<Figure size 900x144 with 5 Axes>"
      ]
     },
     "metadata": {},
     "output_type": "display_data"
    }
   ],
   "source": [
    "# Get prediction statistics\n",
    "get_statistics(multi_target_model, X_test, y_test, model_name, prob=True)"
   ]
  },
  {
   "cell_type": "markdown",
   "id": "687d07fb",
   "metadata": {},
   "source": [
    "#### Multinomial NB"
   ]
  },
  {
   "cell_type": "code",
   "execution_count": 66,
   "id": "ba4cbff5",
   "metadata": {
    "ExecuteTime": {
     "end_time": "2022-03-11T17:56:14.848315Z",
     "start_time": "2022-03-11T17:56:14.844836Z"
    }
   },
   "outputs": [],
   "source": [
    "model = MultinomialNB(alpha=1.) # does not work with negative values\n",
    "# Select hyperparameters\n",
    "# ***** test alpha"
   ]
  },
  {
   "cell_type": "code",
   "execution_count": 67,
   "id": "89dfa242",
   "metadata": {
    "ExecuteTime": {
     "end_time": "2022-03-11T17:56:16.425787Z",
     "start_time": "2022-03-11T17:56:15.618629Z"
    },
    "code_folding": [],
    "scrolled": true
   },
   "outputs": [
    {
     "data": {
      "text/plain": [
       "150"
      ]
     },
     "execution_count": 67,
     "metadata": {},
     "output_type": "execute_result"
    }
   ],
   "source": [
    "# Train with full training set\n",
    "multi_target_model = MultiOutputClassifier(model, n_jobs=-1)\n",
    "multi_target_model.fit(X_train, y_train)\n",
    "# lst_acc, lst_wrong_bits = Train_CV(multi_target_model, X_train, y_train, 5, seed)\n",
    "\n",
    "# Save model\n",
    "model_name = 'NB_multi'\n",
    "joblib.dump(multi_target_model, f'Results/Models/model_{model_name}_{nb_name}_{n}x{m}_noise_std={noise_std}_sampling={sampling_interval}.joblib');\n",
    "\n",
    "model = multi_target_model.estimators_[0]\n",
    "model.n_features_in_#, model.feature_count_"
   ]
  },
  {
   "cell_type": "code",
   "execution_count": 104,
   "id": "029aa784",
   "metadata": {
    "ExecuteTime": {
     "end_time": "2022-02-24T20:08:29.313609Z",
     "start_time": "2022-02-24T20:07:51.278503Z"
    },
    "collapsed": true
   },
   "outputs": [
    {
     "name": "stdout",
     "output_type": "stream",
     "text": [
      "Mean accuracy on test set:      0.00%\n",
      "Mean certainty (even if wrong): 79.77%\n",
      "\n",
      "Incorrectly-predicted keys:     100.00%\n",
      "Incorrectly-predicted bits:     46.88%\n",
      "\n",
      "Report: \n",
      "               precision    recall  f1-score   support\n",
      "\n",
      "           0      0.496     0.509     0.503       970\n",
      "           1      1.000     1.000     1.000       980\n",
      "           2      0.522     0.504     0.513      1018\n",
      "           3      0.476     0.465     0.471       980\n",
      "           4      0.499     0.501     0.500       980\n",
      "           5      0.491     0.465     0.478      1014\n",
      "           6      0.524     0.509     0.516       983\n",
      "           7      0.509     0.489     0.499      1006\n",
      "           8      0.501     0.497     0.499       991\n",
      "           9      0.471     0.517     0.493       977\n",
      "          10      0.506     0.523     0.514       996\n",
      "          11      0.504     0.500     0.502       998\n",
      "          12      0.507     0.482     0.494      1014\n",
      "          13      0.507     0.478     0.492      1006\n",
      "          14      0.508     0.511     0.509      1031\n",
      "          15      0.496     0.466     0.480       986\n",
      "          16      0.496     0.514     0.504       985\n",
      "          17      0.496     0.471     0.483      1009\n",
      "          18      0.480     0.466     0.473       990\n",
      "          19      0.477     0.466     0.471       984\n",
      "          20      0.507     0.451     0.478      1015\n",
      "          21      0.999     1.000     0.999       993\n",
      "          22      0.495     0.487     0.491      1011\n",
      "          23      0.523     0.515     0.519      1031\n",
      "          24      0.481     0.497     0.489       981\n",
      "          25      0.500     0.479     0.489      1001\n",
      "          26      0.478     0.465     0.471       974\n",
      "          27      0.524     0.520     0.522      1024\n",
      "          28      0.530     0.583     0.556      1003\n",
      "          29      0.484     0.516     0.500       982\n",
      "          30      0.486     0.501     0.493       988\n",
      "          31      0.486     0.518     0.501       996\n",
      "\n",
      "   micro avg      0.530     0.527     0.528     31897\n",
      "   macro avg      0.530     0.527     0.528     31897\n",
      "weighted avg      0.530     0.527     0.528     31897\n",
      " samples avg      0.531     0.527     0.520     31897\n",
      "\n",
      "Confusion matrices:\n"
     ]
    },
    {
     "data": {
      "image/png": "[encoded data removed]",
      "text/plain": [
       "<Figure size 900x1008 with 32 Axes>"
      ]
     },
     "metadata": {},
     "output_type": "display_data"
    }
   ],
   "source": [
    "# Get prediction statistics\n",
    "get_statistics(multi_target_model, X_test, y_test, model_name, prob=True)"
   ]
  },
  {
   "cell_type": "markdown",
   "id": "ec4488ca",
   "metadata": {},
   "source": [
    "#### Categorical NB"
   ]
  },
  {
   "cell_type": "code",
   "execution_count": 68,
   "id": "08215277",
   "metadata": {
    "ExecuteTime": {
     "end_time": "2022-03-11T17:56:17.802924Z",
     "start_time": "2022-03-11T17:56:17.800049Z"
    },
    "scrolled": true
   },
   "outputs": [],
   "source": [
    "model = CategoricalNB(alpha=0.001, min_categories=1) # does not work with negative values\n",
    "# Select hyperparameters\n",
    "# ***** test alpha & min_categories"
   ]
  },
  {
   "cell_type": "code",
   "execution_count": 69,
   "id": "946789bb",
   "metadata": {
    "ExecuteTime": {
     "end_time": "2022-03-11T17:56:19.218748Z",
     "start_time": "2022-03-11T17:56:18.571537Z"
    },
    "collapsed": true
   },
   "outputs": [
    {
     "data": {
      "text/plain": [
       "(150,\n",
       " array([16,  8,  8,  8,  8,  8, 16,  8,  7,  8,  9, 16, 14,  8,  7,  8,  8,\n",
       "        14, 16, 14,  8,  7,  8,  8, 14, 16, 14,  8,  8,  8, 16,  8,  8,  8,\n",
       "         8,  8,  8,  8,  7,  8, 14, 16, 14,  7,  7,  8,  8,  9, 16, 14,  7,\n",
       "         7,  8,  8,  9, 16, 14,  8,  7,  8, 16,  8, 16,  8,  8,  8, 16,  8,\n",
       "         7,  8,  9, 16, 14,  8,  8,  8,  8, 14, 16, 14,  8,  7,  8,  8,  9,\n",
       "        16, 14,  7,  8,  8, 16,  8, 16,  8, 16,  8,  8,  8,  7,  8, 14, 16,\n",
       "        14,  8,  8,  8,  8, 14, 16, 14,  7,  8,  8,  8,  9, 16, 14,  7,  7,\n",
       "         8, 16,  8, 16,  8, 16,  8,  8,  8,  7,  8,  9, 16, 14,  8,  8,  8,\n",
       "         8, 14, 16, 14,  7,  8,  8,  8, 14, 16, 14,  7,  7,  8]))"
      ]
     },
     "execution_count": 69,
     "metadata": {},
     "output_type": "execute_result"
    }
   ],
   "source": [
    "# Train with full training set\n",
    "multi_target_model = MultiOutputClassifier(model, n_jobs=-1)\n",
    "multi_target_model.fit(X_train, y_train)\n",
    "# lst_acc, lst_wrong_bits = Train_CV(multi_target_model, X_train, y_train, 5, seed)\n",
    "\n",
    "# Save model\n",
    "model_name = 'NB_cat'\n",
    "joblib.dump(multi_target_model, f'Results/Models/model_{model_name}_{nb_name}_{n}x{m}_noise_std={noise_std}_sampling={sampling_interval}.joblib');\n",
    "\n",
    "model = multi_target_model.estimators_[0]\n",
    "model.n_features_in_, model.n_categories_"
   ]
  },
  {
   "cell_type": "code",
   "execution_count": 107,
   "id": "e61e6398",
   "metadata": {
    "ExecuteTime": {
     "end_time": "2022-02-24T20:08:29.313609Z",
     "start_time": "2022-02-24T20:07:51.278503Z"
    },
    "collapsed": true
   },
   "outputs": [
    {
     "name": "stdout",
     "output_type": "stream",
     "text": [
      "Mean accuracy on test set:      0.00%\n",
      "Mean certainty (even if wrong): 98.48%\n",
      "\n",
      "Incorrectly-predicted keys:     100.00%\n",
      "Incorrectly-predicted bits:     43.86%\n",
      "\n",
      "Report: \n",
      "               precision    recall  f1-score   support\n",
      "\n",
      "           0      0.512     0.533     0.522       970\n",
      "           1      1.000     1.000     1.000       980\n",
      "           2      0.493     0.480     0.487      1018\n",
      "           3      0.477     0.482     0.479       980\n",
      "           4      0.487     0.482     0.484       980\n",
      "           5      0.486     0.481     0.484      1014\n",
      "           6      0.507     0.507     0.507       983\n",
      "           7      0.523     0.501     0.512      1006\n",
      "           8      0.502     0.518     0.510       991\n",
      "           9      0.495     0.520     0.507       977\n",
      "          10      0.497     0.529     0.513       996\n",
      "          11      0.485     0.497     0.491       998\n",
      "          12      0.519     0.532     0.525      1014\n",
      "          13      0.499     0.477     0.488      1006\n",
      "          14      0.512     0.498     0.505      1031\n",
      "          15      0.492     0.496     0.494       986\n",
      "          16      1.000     1.000     1.000       985\n",
      "          17      0.490     0.488     0.489      1009\n",
      "          18      0.479     0.487     0.483       990\n",
      "          19      0.480     0.496     0.488       984\n",
      "          20      0.505     0.488     0.496      1015\n",
      "          21      1.000     1.000     1.000       993\n",
      "          22      0.505     0.490     0.497      1011\n",
      "          23      0.526     0.502     0.514      1031\n",
      "          24      0.492     0.499     0.496       981\n",
      "          25      0.505     0.500     0.502      1001\n",
      "          26      0.494     0.496     0.495       974\n",
      "          27      0.511     0.501     0.506      1024\n",
      "          28      1.000     1.000     1.000      1003\n",
      "          29      0.480     0.477     0.478       982\n",
      "          30      0.485     0.497     0.491       988\n",
      "          31      0.496     0.500     0.498       996\n",
      "\n",
      "   micro avg      0.560     0.561     0.560     31897\n",
      "   macro avg      0.560     0.561     0.561     31897\n",
      "weighted avg      0.560     0.561     0.560     31897\n",
      " samples avg      0.561     0.561     0.552     31897\n",
      "\n",
      "Confusion matrices:\n"
     ]
    },
    {
     "data": {
      "image/png": "[encoded data removed]",
      "text/plain": [
       "<Figure size 900x1008 with 32 Axes>"
      ]
     },
     "metadata": {},
     "output_type": "display_data"
    }
   ],
   "source": [
    "# Get prediction statistics\n",
    "get_statistics(multi_target_model, X_test, y_test, model_name, prob=True)"
   ]
  },
  {
   "cell_type": "markdown",
   "id": "3bafde67",
   "metadata": {},
   "source": [
    "### Decision tree"
   ]
  },
  {
   "cell_type": "code",
   "execution_count": 70,
   "id": "8e510c46",
   "metadata": {
    "ExecuteTime": {
     "end_time": "2022-03-11T17:58:17.093664Z",
     "start_time": "2022-03-11T17:57:11.286304Z"
    },
    "code_folding": [],
    "collapsed": true
   },
   "outputs": [
    {
     "name": "stdout",
     "output_type": "stream",
     "text": [
      "\n",
      "List of accuracies:         [8.75 4.38 7.5  3.12 5.  ]\n",
      "Mean accuracy:               5.75% +- 2.069%\n",
      "Incorrectly-predicted bits: 41.75% +- 1.186%\n",
      "Executed in:                0:00:00\n",
      "gini, 5, None, None, 1e-01\n",
      "\n",
      "List of accuracies:         [23.12 21.88 27.5  25.   26.25]\n",
      "Mean accuracy:              24.75% +- 2.039%\n",
      "Incorrectly-predicted bits: 20.30% +- 0.683%\n",
      "Executed in:                0:00:00\n",
      "gini, 5, None, None, 1e-02\n",
      "\n",
      "List of accuracies:         [48.12 60.   47.5  52.5  48.12]\n",
      "Mean accuracy:              51.25% +- 4.727%\n",
      "Incorrectly-predicted bits: 12.17% +- 1.300%\n",
      "Executed in:                0:00:00\n",
      "gini, 5, None, None, 1e-03\n",
      "\n",
      "List of accuracies:         [48.12 60.   47.5  52.5  48.12]\n",
      "Mean accuracy:              51.25% +- 4.727%\n",
      "Incorrectly-predicted bits: 12.17% +- 1.300%\n",
      "Executed in:                0:00:00\n",
      "gini, 5, None, None, 1e-04\n",
      "\n",
      "List of accuracies:         [48.12 60.   47.5  52.5  48.12]\n",
      "Mean accuracy:              51.25% +- 4.727%\n",
      "Incorrectly-predicted bits: 12.17% +- 1.300%\n",
      "Executed in:                0:00:00\n",
      "gini, 5, None, None, 1e-05\n",
      "\n",
      "List of accuracies:         [48.12 60.   47.5  52.5  48.12]\n",
      "Mean accuracy:              51.25% +- 4.727%\n",
      "Incorrectly-predicted bits: 12.17% +- 1.300%\n",
      "Executed in:                0:00:00\n",
      "gini, 5, None, None, 1e-06\n",
      "\n",
      "List of accuracies:         [48.12 60.   47.5  52.5  48.12]\n",
      "Mean accuracy:              51.25% +- 4.727%\n",
      "Incorrectly-predicted bits: 12.17% +- 1.300%\n",
      "Executed in:                0:00:00\n",
      "gini, 5, None, None, 1e-07\n",
      "\n",
      "List of accuracies:         [48.12 60.   47.5  52.5  48.12]\n",
      "Mean accuracy:              51.25% +- 4.727%\n",
      "Incorrectly-predicted bits: 12.17% +- 1.300%\n",
      "Executed in:                0:00:00\n",
      "gini, 5, None, None, 0e+00\n",
      "\n",
      "List of accuracies:         [8.75 4.38 7.5  3.12 5.  ]\n",
      "Mean accuracy:               5.75% +- 2.069%\n",
      "Incorrectly-predicted bits: 41.75% +- 1.186%\n",
      "Executed in:                0:00:00\n",
      "gini, 10, None, None, 1e-01\n",
      "\n",
      "List of accuracies:         [23.12 21.88 27.5  25.   26.25]\n",
      "Mean accuracy:              24.75% +- 2.039%\n",
      "Incorrectly-predicted bits: 20.30% +- 0.683%\n",
      "Executed in:                0:00:00\n",
      "gini, 10, None, None, 1e-02\n",
      "\n",
      "List of accuracies:         [73.12 75.62 62.5  74.38 64.38]\n",
      "Mean accuracy:              70.00% +- 5.449%\n",
      "Incorrectly-predicted bits:  6.97% +- 1.588%\n",
      "Executed in:                0:00:00\n",
      "gini, 10, None, None, 1e-03\n",
      "\n",
      "List of accuracies:         [76.25 80.62 63.12 70.62 61.25]\n",
      "Mean accuracy:              70.38% +- 7.423%\n",
      "Incorrectly-predicted bits:  7.00% +- 1.925%\n",
      "Executed in:                0:00:00\n",
      "gini, 10, None, None, 1e-04\n",
      "\n",
      "List of accuracies:         [76.25 80.62 63.12 70.62 61.25]\n",
      "Mean accuracy:              70.38% +- 7.423%\n",
      "Incorrectly-predicted bits:  7.00% +- 1.925%\n",
      "Executed in:                0:00:00\n",
      "gini, 10, None, None, 1e-05\n",
      "\n",
      "List of accuracies:         [76.25 80.62 63.12 70.62 61.25]\n",
      "Mean accuracy:              70.38% +- 7.423%\n",
      "Incorrectly-predicted bits:  7.00% +- 1.925%\n",
      "Executed in:                0:00:00\n",
      "gini, 10, None, None, 1e-06\n",
      "\n",
      "List of accuracies:         [76.25 80.62 63.12 70.62 61.25]\n",
      "Mean accuracy:              70.38% +- 7.423%\n",
      "Incorrectly-predicted bits:  7.00% +- 1.925%\n",
      "Executed in:                0:00:00\n",
      "gini, 10, None, None, 1e-07\n",
      "\n",
      "List of accuracies:         [76.25 80.62 63.12 70.62 61.25]\n",
      "Mean accuracy:              70.38% +- 7.423%\n",
      "Incorrectly-predicted bits:  7.00% +- 1.925%\n",
      "Executed in:                0:00:00\n",
      "gini, 10, None, None, 0e+00\n",
      "\n",
      "List of accuracies:         [8.75 4.38 7.5  3.12 5.  ]\n",
      "Mean accuracy:               5.75% +- 2.069%\n",
      "Incorrectly-predicted bits: 41.75% +- 1.186%\n",
      "Executed in:                0:00:00\n",
      "gini, 20, None, None, 1e-01\n",
      "\n",
      "List of accuracies:         [23.12 21.88 27.5  25.   26.25]\n",
      "Mean accuracy:              24.75% +- 2.039%\n",
      "Incorrectly-predicted bits: 20.30% +- 0.683%\n",
      "Executed in:                0:00:00\n",
      "gini, 20, None, None, 1e-02\n",
      "\n",
      "List of accuracies:         [73.12 75.62 62.5  74.38 64.38]\n",
      "Mean accuracy:              70.00% +- 5.449%\n",
      "Incorrectly-predicted bits:  6.97% +- 1.588%\n",
      "Executed in:                0:00:00\n",
      "gini, 20, None, None, 1e-03\n",
      "\n",
      "List of accuracies:         [76.25 80.62 65.62 70.62 61.25]\n",
      "Mean accuracy:              70.88% +- 6.989%\n",
      "Incorrectly-predicted bits:  7.00% +- 1.925%\n",
      "Executed in:                0:00:00\n",
      "gini, 20, None, None, 1e-04\n",
      "\n",
      "List of accuracies:         [76.25 80.62 65.62 70.62 61.25]\n",
      "Mean accuracy:              70.88% +- 6.989%\n",
      "Incorrectly-predicted bits:  7.00% +- 1.925%\n",
      "Executed in:                0:00:00\n",
      "gini, 20, None, None, 1e-05\n",
      "\n",
      "List of accuracies:         [76.25 80.62 65.62 70.62 61.25]\n",
      "Mean accuracy:              70.88% +- 6.989%\n",
      "Incorrectly-predicted bits:  7.00% +- 1.925%\n",
      "Executed in:                0:00:00\n",
      "gini, 20, None, None, 1e-06\n",
      "\n",
      "List of accuracies:         [76.25 80.62 65.62 70.62 61.25]\n",
      "Mean accuracy:              70.88% +- 6.989%\n",
      "Incorrectly-predicted bits:  7.00% +- 1.925%\n",
      "Executed in:                0:00:00\n",
      "gini, 20, None, None, 1e-07\n",
      "\n",
      "List of accuracies:         [76.25 80.62 65.62 70.62 61.25]\n",
      "Mean accuracy:              70.88% +- 6.989%\n",
      "Incorrectly-predicted bits:  7.00% +- 1.925%\n",
      "Executed in:                0:00:00\n",
      "gini, 20, None, None, 0e+00\n",
      "\n",
      "List of accuracies:         [8.75 4.38 7.5  3.12 5.  ]\n",
      "Mean accuracy:               5.75% +- 2.069%\n",
      "Incorrectly-predicted bits: 41.75% +- 1.186%\n",
      "Executed in:                0:00:00\n",
      "gini, 30, None, None, 1e-01\n",
      "\n",
      "List of accuracies:         [23.12 21.88 27.5  25.   26.25]\n",
      "Mean accuracy:              24.75% +- 2.039%\n",
      "Incorrectly-predicted bits: 20.30% +- 0.683%\n",
      "Executed in:                0:00:00\n",
      "gini, 30, None, None, 1e-02\n",
      "\n",
      "List of accuracies:         [73.12 75.62 62.5  74.38 64.38]\n",
      "Mean accuracy:              70.00% +- 5.449%\n",
      "Incorrectly-predicted bits:  6.97% +- 1.588%\n",
      "Executed in:                0:00:00\n",
      "gini, 30, None, None, 1e-03\n",
      "\n",
      "List of accuracies:         [76.25 80.62 65.62 70.62 61.25]\n",
      "Mean accuracy:              70.88% +- 6.989%\n",
      "Incorrectly-predicted bits:  7.00% +- 1.925%\n",
      "Executed in:                0:00:00\n",
      "gini, 30, None, None, 1e-04\n",
      "\n",
      "List of accuracies:         [76.25 80.62 65.62 70.62 61.25]\n",
      "Mean accuracy:              70.88% +- 6.989%\n",
      "Incorrectly-predicted bits:  7.00% +- 1.925%\n",
      "Executed in:                0:00:00\n",
      "gini, 30, None, None, 1e-05\n",
      "\n",
      "List of accuracies:         [76.25 80.62 65.62 70.62 61.25]\n",
      "Mean accuracy:              70.88% +- 6.989%\n",
      "Incorrectly-predicted bits:  7.00% +- 1.925%\n",
      "Executed in:                0:00:00\n",
      "gini, 30, None, None, 1e-06\n",
      "\n",
      "List of accuracies:         [76.25 80.62 65.62 70.62 61.25]\n",
      "Mean accuracy:              70.88% +- 6.989%\n",
      "Incorrectly-predicted bits:  7.00% +- 1.925%\n",
      "Executed in:                0:00:00\n",
      "gini, 30, None, None, 1e-07\n",
      "\n",
      "List of accuracies:         [76.25 80.62 65.62 70.62 61.25]\n",
      "Mean accuracy:              70.88% +- 6.989%\n",
      "Incorrectly-predicted bits:  7.00% +- 1.925%\n",
      "Executed in:                0:00:00\n",
      "gini, 30, None, None, 0e+00\n",
      "\n",
      "List of accuracies:         [8.75 4.38 7.5  3.12 5.  ]\n",
      "Mean accuracy:               5.75% +- 2.069%\n",
      "Incorrectly-predicted bits: 41.75% +- 1.186%\n",
      "Executed in:                0:00:00\n",
      "gini, None, None, None, 1e-01\n",
      "\n",
      "List of accuracies:         [23.12 21.88 27.5  25.   26.25]\n",
      "Mean accuracy:              24.75% +- 2.039%\n",
      "Incorrectly-predicted bits: 20.30% +- 0.683%\n",
      "Executed in:                0:00:00\n",
      "gini, None, None, None, 1e-02\n",
      "\n",
      "List of accuracies:         [73.12 75.62 62.5  74.38 64.38]\n",
      "Mean accuracy:              70.00% +- 5.449%\n",
      "Incorrectly-predicted bits:  6.97% +- 1.588%\n",
      "Executed in:                0:00:00\n",
      "gini, None, None, None, 1e-03\n",
      "\n",
      "List of accuracies:         [76.25 80.62 65.62 70.62 61.25]\n",
      "Mean accuracy:              70.88% +- 6.989%\n",
      "Incorrectly-predicted bits:  7.00% +- 1.925%\n",
      "Executed in:                0:00:00\n",
      "gini, None, None, None, 1e-04\n",
      "\n",
      "List of accuracies:         [76.25 80.62 65.62 70.62 61.25]\n",
      "Mean accuracy:              70.88% +- 6.989%\n",
      "Incorrectly-predicted bits:  7.00% +- 1.925%\n",
      "Executed in:                0:00:00\n",
      "gini, None, None, None, 1e-05\n",
      "\n",
      "List of accuracies:         [76.25 80.62 65.62 70.62 61.25]\n",
      "Mean accuracy:              70.88% +- 6.989%\n",
      "Incorrectly-predicted bits:  7.00% +- 1.925%\n",
      "Executed in:                0:00:00\n",
      "gini, None, None, None, 1e-06\n",
      "\n",
      "List of accuracies:         [76.25 80.62 65.62 70.62 61.25]\n",
      "Mean accuracy:              70.88% +- 6.989%\n",
      "Incorrectly-predicted bits:  7.00% +- 1.925%\n",
      "Executed in:                0:00:00\n",
      "gini, None, None, None, 1e-07\n"
     ]
    },
    {
     "name": "stdout",
     "output_type": "stream",
     "text": [
      "\n",
      "List of accuracies:         [76.25 80.62 65.62 70.62 61.25]\n",
      "Mean accuracy:              70.88% +- 6.989%\n",
      "Incorrectly-predicted bits:  7.00% +- 1.925%\n",
      "Executed in:                0:00:00\n",
      "gini, None, None, None, 0e+00\n",
      "\n",
      "List of accuracies:         [10.62 11.25  8.75  8.75  5.62]\n",
      "Mean accuracy:               9.00% +- 1.961%\n",
      "Incorrectly-predicted bits: 36.02% +- 0.878%\n",
      "Executed in:                0:00:01\n",
      "entropy, 5, None, None, 1e-01\n",
      "\n",
      "List of accuracies:         [29.38 29.38 35.   28.75 30.62]\n",
      "Mean accuracy:              30.63% +- 2.271%\n",
      "Incorrectly-predicted bits: 18.20% +- 0.281%\n",
      "Executed in:                0:00:01\n",
      "entropy, 5, None, None, 1e-02\n",
      "\n",
      "List of accuracies:         [51.25 53.75 55.62 51.88 51.88]\n",
      "Mean accuracy:              52.87% +- 1.611%\n",
      "Incorrectly-predicted bits: 11.78% +- 0.457%\n",
      "Executed in:                0:00:01\n",
      "entropy, 5, None, None, 1e-03\n",
      "\n",
      "List of accuracies:         [51.25 53.75 55.62 51.88 51.88]\n",
      "Mean accuracy:              52.87% +- 1.611%\n",
      "Incorrectly-predicted bits: 11.78% +- 0.457%\n",
      "Executed in:                0:00:01\n",
      "entropy, 5, None, None, 1e-04\n",
      "\n",
      "List of accuracies:         [51.25 53.75 55.62 51.88 51.88]\n",
      "Mean accuracy:              52.87% +- 1.611%\n",
      "Incorrectly-predicted bits: 11.78% +- 0.457%\n",
      "Executed in:                0:00:01\n",
      "entropy, 5, None, None, 1e-05\n",
      "\n",
      "List of accuracies:         [51.25 53.75 55.62 51.88 51.88]\n",
      "Mean accuracy:              52.87% +- 1.611%\n",
      "Incorrectly-predicted bits: 11.78% +- 0.457%\n",
      "Executed in:                0:00:01\n",
      "entropy, 5, None, None, 1e-06\n",
      "\n",
      "List of accuracies:         [51.25 53.75 55.62 51.88 51.88]\n",
      "Mean accuracy:              52.87% +- 1.611%\n",
      "Incorrectly-predicted bits: 11.78% +- 0.457%\n",
      "Executed in:                0:00:01\n",
      "entropy, 5, None, None, 1e-07\n",
      "\n",
      "List of accuracies:         [51.25 53.75 55.62 51.88 51.88]\n",
      "Mean accuracy:              52.87% +- 1.611%\n",
      "Incorrectly-predicted bits: 11.78% +- 0.457%\n",
      "Executed in:                0:00:01\n",
      "entropy, 5, None, None, 0e+00\n",
      "\n",
      "List of accuracies:         [10.62 11.25  8.75  8.75  5.62]\n",
      "Mean accuracy:               9.00% +- 1.961%\n",
      "Incorrectly-predicted bits: 36.02% +- 0.878%\n",
      "Executed in:                0:00:01\n",
      "entropy, 10, None, None, 1e-01\n",
      "\n",
      "List of accuracies:         [29.38 29.38 35.   28.75 30.62]\n",
      "Mean accuracy:              30.63% +- 2.271%\n",
      "Incorrectly-predicted bits: 18.20% +- 0.281%\n",
      "Executed in:                0:00:01\n",
      "entropy, 10, None, None, 1e-02\n",
      "\n",
      "List of accuracies:         [75.62 78.75 78.75 77.5  73.12]\n",
      "Mean accuracy:              76.75% +- 2.143%\n",
      "Incorrectly-predicted bits:  4.90% +- 0.406%\n",
      "Executed in:                0:00:01\n",
      "entropy, 10, None, None, 1e-03\n",
      "\n",
      "List of accuracies:         [75.62 78.75 78.75 77.5  74.38]\n",
      "Mean accuracy:              77.00% +- 1.741%\n",
      "Incorrectly-predicted bits:  4.85% +- 0.339%\n",
      "Executed in:                0:00:01\n",
      "entropy, 10, None, None, 1e-04\n",
      "\n",
      "List of accuracies:         [75.62 78.75 78.75 77.5  74.38]\n",
      "Mean accuracy:              77.00% +- 1.741%\n",
      "Incorrectly-predicted bits:  4.85% +- 0.339%\n",
      "Executed in:                0:00:01\n",
      "entropy, 10, None, None, 1e-05\n",
      "\n",
      "List of accuracies:         [75.62 78.75 78.75 77.5  74.38]\n",
      "Mean accuracy:              77.00% +- 1.741%\n",
      "Incorrectly-predicted bits:  4.85% +- 0.339%\n",
      "Executed in:                0:00:01\n",
      "entropy, 10, None, None, 1e-06\n",
      "\n",
      "List of accuracies:         [75.62 78.75 78.75 77.5  74.38]\n",
      "Mean accuracy:              77.00% +- 1.741%\n",
      "Incorrectly-predicted bits:  4.85% +- 0.339%\n",
      "Executed in:                0:00:01\n",
      "entropy, 10, None, None, 1e-07\n",
      "\n",
      "List of accuracies:         [75.62 78.75 78.75 77.5  74.38]\n",
      "Mean accuracy:              77.00% +- 1.741%\n",
      "Incorrectly-predicted bits:  4.85% +- 0.339%\n",
      "Executed in:                0:00:01\n",
      "entropy, 10, None, None, 0e+00\n",
      "\n",
      "List of accuracies:         [10.62 11.25  8.75  8.75  5.62]\n",
      "Mean accuracy:               9.00% +- 1.961%\n",
      "Incorrectly-predicted bits: 36.02% +- 0.878%\n",
      "Executed in:                0:00:01\n",
      "entropy, 20, None, None, 1e-01\n",
      "\n",
      "List of accuracies:         [29.38 29.38 35.   28.75 30.62]\n",
      "Mean accuracy:              30.63% +- 2.271%\n",
      "Incorrectly-predicted bits: 18.20% +- 0.281%\n",
      "Executed in:                0:00:01\n",
      "entropy, 20, None, None, 1e-02\n",
      "\n",
      "List of accuracies:         [75.62 78.75 78.75 77.5  73.12]\n",
      "Mean accuracy:              76.75% +- 2.143%\n",
      "Incorrectly-predicted bits:  4.90% +- 0.406%\n",
      "Executed in:                0:00:01\n",
      "entropy, 20, None, None, 1e-03\n",
      "\n",
      "List of accuracies:         [75.62 78.75 78.75 77.5  74.38]\n",
      "Mean accuracy:              77.00% +- 1.741%\n",
      "Incorrectly-predicted bits:  4.85% +- 0.339%\n",
      "Executed in:                0:00:01\n",
      "entropy, 20, None, None, 1e-04\n",
      "\n",
      "List of accuracies:         [75.62 78.75 78.75 77.5  74.38]\n",
      "Mean accuracy:              77.00% +- 1.741%\n",
      "Incorrectly-predicted bits:  4.85% +- 0.339%\n",
      "Executed in:                0:00:01\n",
      "entropy, 20, None, None, 1e-05\n",
      "\n",
      "List of accuracies:         [75.62 78.75 78.75 77.5  74.38]\n",
      "Mean accuracy:              77.00% +- 1.741%\n",
      "Incorrectly-predicted bits:  4.85% +- 0.339%\n",
      "Executed in:                0:00:01\n",
      "entropy, 20, None, None, 1e-06\n",
      "\n",
      "List of accuracies:         [75.62 78.75 78.75 77.5  74.38]\n",
      "Mean accuracy:              77.00% +- 1.741%\n",
      "Incorrectly-predicted bits:  4.85% +- 0.339%\n",
      "Executed in:                0:00:01\n",
      "entropy, 20, None, None, 1e-07\n",
      "\n",
      "List of accuracies:         [75.62 78.75 78.75 77.5  74.38]\n",
      "Mean accuracy:              77.00% +- 1.741%\n",
      "Incorrectly-predicted bits:  4.85% +- 0.339%\n",
      "Executed in:                0:00:01\n",
      "entropy, 20, None, None, 0e+00\n",
      "\n",
      "List of accuracies:         [10.62 11.25  8.75  8.75  5.62]\n",
      "Mean accuracy:               9.00% +- 1.961%\n",
      "Incorrectly-predicted bits: 36.02% +- 0.878%\n",
      "Executed in:                0:00:01\n",
      "entropy, 30, None, None, 1e-01\n",
      "\n",
      "List of accuracies:         [29.38 29.38 35.   28.75 30.62]\n",
      "Mean accuracy:              30.63% +- 2.271%\n",
      "Incorrectly-predicted bits: 18.20% +- 0.281%\n",
      "Executed in:                0:00:01\n",
      "entropy, 30, None, None, 1e-02\n",
      "\n",
      "List of accuracies:         [75.62 78.75 78.75 77.5  73.12]\n",
      "Mean accuracy:              76.75% +- 2.143%\n",
      "Incorrectly-predicted bits:  4.90% +- 0.406%\n",
      "Executed in:                0:00:01\n",
      "entropy, 30, None, None, 1e-03\n",
      "\n",
      "List of accuracies:         [75.62 78.75 78.75 77.5  74.38]\n",
      "Mean accuracy:              77.00% +- 1.741%\n",
      "Incorrectly-predicted bits:  4.85% +- 0.339%\n",
      "Executed in:                0:00:01\n",
      "entropy, 30, None, None, 1e-04\n",
      "\n",
      "List of accuracies:         [75.62 78.75 78.75 77.5  74.38]\n",
      "Mean accuracy:              77.00% +- 1.741%\n",
      "Incorrectly-predicted bits:  4.85% +- 0.339%\n",
      "Executed in:                0:00:01\n",
      "entropy, 30, None, None, 1e-05\n",
      "\n",
      "List of accuracies:         [75.62 78.75 78.75 77.5  74.38]\n",
      "Mean accuracy:              77.00% +- 1.741%\n",
      "Incorrectly-predicted bits:  4.85% +- 0.339%\n",
      "Executed in:                0:00:01\n",
      "entropy, 30, None, None, 1e-06\n",
      "\n",
      "List of accuracies:         [75.62 78.75 78.75 77.5  74.38]\n",
      "Mean accuracy:              77.00% +- 1.741%\n",
      "Incorrectly-predicted bits:  4.85% +- 0.339%\n",
      "Executed in:                0:00:01\n",
      "entropy, 30, None, None, 1e-07\n",
      "\n",
      "List of accuracies:         [75.62 78.75 78.75 77.5  74.38]\n",
      "Mean accuracy:              77.00% +- 1.741%\n",
      "Incorrectly-predicted bits:  4.85% +- 0.339%\n",
      "Executed in:                0:00:01\n",
      "entropy, 30, None, None, 0e+00\n",
      "\n",
      "List of accuracies:         [10.62 11.25  8.75  8.75  5.62]\n",
      "Mean accuracy:               9.00% +- 1.961%\n",
      "Incorrectly-predicted bits: 36.02% +- 0.878%\n",
      "Executed in:                0:00:01\n",
      "entropy, None, None, None, 1e-01\n",
      "\n",
      "List of accuracies:         [29.38 29.38 35.   28.75 30.62]\n",
      "Mean accuracy:              30.63% +- 2.271%\n",
      "Incorrectly-predicted bits: 18.20% +- 0.281%\n",
      "Executed in:                0:00:01\n",
      "entropy, None, None, None, 1e-02\n",
      "\n",
      "List of accuracies:         [75.62 78.75 78.75 77.5  73.12]\n",
      "Mean accuracy:              76.75% +- 2.143%\n",
      "Incorrectly-predicted bits:  4.90% +- 0.406%\n",
      "Executed in:                0:00:01\n",
      "entropy, None, None, None, 1e-03\n",
      "\n",
      "List of accuracies:         [75.62 78.75 78.75 77.5  74.38]\n",
      "Mean accuracy:              77.00% +- 1.741%\n",
      "Incorrectly-predicted bits:  4.85% +- 0.339%\n",
      "Executed in:                0:00:01\n",
      "entropy, None, None, None, 1e-04\n",
      "\n",
      "List of accuracies:         [75.62 78.75 78.75 77.5  74.38]\n",
      "Mean accuracy:              77.00% +- 1.741%\n",
      "Incorrectly-predicted bits:  4.85% +- 0.339%\n",
      "Executed in:                0:00:01\n",
      "entropy, None, None, None, 1e-05\n"
     ]
    },
    {
     "name": "stdout",
     "output_type": "stream",
     "text": [
      "\n",
      "List of accuracies:         [75.62 78.75 78.75 77.5  74.38]\n",
      "Mean accuracy:              77.00% +- 1.741%\n",
      "Incorrectly-predicted bits:  4.85% +- 0.339%\n",
      "Executed in:                0:00:01\n",
      "entropy, None, None, None, 1e-06\n",
      "\n",
      "List of accuracies:         [75.62 78.75 78.75 77.5  74.38]\n",
      "Mean accuracy:              77.00% +- 1.741%\n",
      "Incorrectly-predicted bits:  4.85% +- 0.339%\n",
      "Executed in:                0:00:01\n",
      "entropy, None, None, None, 1e-07\n",
      "\n",
      "List of accuracies:         [75.62 78.75 78.75 77.5  74.38]\n",
      "Mean accuracy:              77.00% +- 1.741%\n",
      "Incorrectly-predicted bits:  4.85% +- 0.339%\n",
      "Executed in:                0:00:01\n",
      "entropy, None, None, None, 0e+00\n",
      "\n",
      "Best accuracy:              77.00%\n",
      "Incorrectly-predicted bits: 4.85%\n",
      "criterion                 = entropy\n",
      "max_depth                 = 10\n",
      "max_features              = None\n",
      "max_leaf_nodes            = None\n",
      "min_impurity_decrease     = 1e-04\n"
     ]
    }
   ],
   "source": [
    "model = DecisionTreeClassifier(criterion=None, max_depth=None, max_features=None, max_leaf_nodes=None, min_impurity_decrease=None,\n",
    "                               random_state=seed)\n",
    "# Select hyperparameters\n",
    "best_par = test_trees(model, X_train, y_train, seed,\n",
    "                      criterion=['gini', 'entropy'],\n",
    "                      max_depth=[5, 10, 20, 30, None],\n",
    "                      # max_features=[0.25, 0.5, 0.75, None],\n",
    "                      # max_leaf_nodes=range(2, 21),\n",
    "                      min_impurity_decrease=[*(10.**-np.arange(1, 8))]+[0.]\n",
    "                     )\n",
    "model.criterion             = best_par[0]\n",
    "model.max_depth             = best_par[1]\n",
    "model.max_features          = best_par[2]\n",
    "model.max_leaf_nodes        = best_par[3]\n",
    "model.min_impurity_decrease = best_par[4]"
   ]
  },
  {
   "cell_type": "code",
   "execution_count": 71,
   "id": "30bfaccd",
   "metadata": {
    "ExecuteTime": {
     "end_time": "2022-03-11T17:58:30.683112Z",
     "start_time": "2022-03-11T17:58:17.771980Z"
    },
    "collapsed": true
   },
   "outputs": [
    {
     "name": "stdout",
     "output_type": "stream",
     "text": [
      "\n",
      "List of accuracies:         [75.62 78.75 78.75 77.5  74.38]\n",
      "Mean accuracy:              77.00% +- 1.741%\n",
      "Incorrectly-predicted bits:  4.85% +- 0.339%\n",
      "Executed in:                0:00:01\n",
      "entropy, 10, None, None, 2e-05\n",
      "\n",
      "List of accuracies:         [75.62 78.75 78.75 77.5  74.38]\n",
      "Mean accuracy:              77.00% +- 1.741%\n",
      "Incorrectly-predicted bits:  4.85% +- 0.339%\n",
      "Executed in:                0:00:01\n",
      "entropy, 10, None, None, 4e-05\n",
      "\n",
      "List of accuracies:         [75.62 78.75 78.75 77.5  74.38]\n",
      "Mean accuracy:              77.00% +- 1.741%\n",
      "Incorrectly-predicted bits:  4.85% +- 0.339%\n",
      "Executed in:                0:00:01\n",
      "entropy, 10, None, None, 6e-05\n",
      "\n",
      "List of accuracies:         [75.62 78.75 78.75 77.5  74.38]\n",
      "Mean accuracy:              77.00% +- 1.741%\n",
      "Incorrectly-predicted bits:  4.85% +- 0.339%\n",
      "Executed in:                0:00:01\n",
      "entropy, 10, None, None, 8e-05\n",
      "\n",
      "List of accuracies:         [75.62 78.75 78.75 77.5  74.38]\n",
      "Mean accuracy:              77.00% +- 1.741%\n",
      "Incorrectly-predicted bits:  4.85% +- 0.339%\n",
      "Executed in:                0:00:01\n",
      "entropy, 10, None, None, 1e-04\n",
      "\n",
      "List of accuracies:         [75.62 78.75 78.75 77.5  74.38]\n",
      "Mean accuracy:              77.00% +- 1.741%\n",
      "Incorrectly-predicted bits:  4.85% +- 0.339%\n",
      "Executed in:                0:00:01\n",
      "entropy, 10, None, None, 2e-04\n",
      "\n",
      "List of accuracies:         [75.62 78.75 78.75 77.5  74.38]\n",
      "Mean accuracy:              77.00% +- 1.741%\n",
      "Incorrectly-predicted bits:  4.85% +- 0.339%\n",
      "Executed in:                0:00:01\n",
      "entropy, 10, None, None, 4e-04\n",
      "\n",
      "List of accuracies:         [75.62 78.75 78.75 77.5  74.38]\n",
      "Mean accuracy:              77.00% +- 1.741%\n",
      "Incorrectly-predicted bits:  4.85% +- 0.339%\n",
      "Executed in:                0:00:01\n",
      "entropy, 10, None, None, 6e-04\n",
      "\n",
      "List of accuracies:         [75.62 78.75 78.75 77.5  74.38]\n",
      "Mean accuracy:              77.00% +- 1.741%\n",
      "Incorrectly-predicted bits:  4.85% +- 0.339%\n",
      "Executed in:                0:00:01\n",
      "entropy, 10, None, None, 8e-04\n",
      "\n",
      "Best accuracy:              77.00%\n",
      "Incorrectly-predicted bits: 4.85%\n",
      "criterion                 = entropy\n",
      "max_depth                 = 10\n",
      "max_features              = None\n",
      "max_leaf_nodes            = None\n",
      "min_impurity_decrease     = 2e-05\n"
     ]
    }
   ],
   "source": [
    "# Select hyperparameters again - min_impurity_decrease\n",
    "if model.min_impurity_decrease != 0.:\n",
    "    best_par = test_trees(model, X_train, y_train, seed,\n",
    "                          criterion=[model.criterion],\n",
    "                          max_depth=[model.max_depth],\n",
    "                          # max_features=[0.25, 0.5, 0.75, None],\n",
    "                          # max_leaf_nodes=range(2, 21),\n",
    "                          min_impurity_decrease=model.min_impurity_decrease*np.asarray([0.2, 0.4, 0.6, 0.8, 1, 2, 4, 6, 8])\n",
    "                         )\n",
    "    model.criterion             = best_par[0]\n",
    "    model.max_depth             = best_par[1]\n",
    "    model.max_features          = best_par[2]\n",
    "    model.max_leaf_nodes        = best_par[3]\n",
    "    model.min_impurity_decrease = best_par[4]"
   ]
  },
  {
   "cell_type": "code",
   "execution_count": 72,
   "id": "db8aa10a",
   "metadata": {
    "ExecuteTime": {
     "end_time": "2022-03-11T17:58:44.074093Z",
     "start_time": "2022-03-11T17:58:31.368666Z"
    },
    "collapsed": true
   },
   "outputs": [
    {
     "name": "stdout",
     "output_type": "stream",
     "text": [
      "\n",
      "List of accuracies:         [60.62 70.   62.5  62.5  59.38]\n",
      "Mean accuracy:              63.00% +- 3.695%\n",
      "Incorrectly-predicted bits:  7.85% +- 0.882%\n",
      "Executed in:                0:00:01\n",
      "entropy, 6, None, None, 2e-05\n",
      "\n",
      "List of accuracies:         [71.88 79.38 76.88 77.5  70.62]\n",
      "Mean accuracy:              75.25% +- 3.391%\n",
      "Incorrectly-predicted bits:  5.28% +- 0.659%\n",
      "Executed in:                0:00:01\n",
      "entropy, 7, None, None, 2e-05\n",
      "\n",
      "List of accuracies:         [75.   78.12 76.88 77.5  70.62]\n",
      "Mean accuracy:              75.62% +- 2.710%\n",
      "Incorrectly-predicted bits:  5.12% +- 0.474%\n",
      "Executed in:                0:00:01\n",
      "entropy, 8, None, None, 2e-05\n",
      "\n",
      "List of accuracies:         [75.62 78.75 78.75 77.5  73.12]\n",
      "Mean accuracy:              76.75% +- 2.143%\n",
      "Incorrectly-predicted bits:  4.90% +- 0.406%\n",
      "Executed in:                0:00:01\n",
      "entropy, 9, None, None, 2e-05\n",
      "\n",
      "List of accuracies:         [75.62 78.75 78.75 77.5  74.38]\n",
      "Mean accuracy:              77.00% +- 1.741%\n",
      "Incorrectly-predicted bits:  4.85% +- 0.339%\n",
      "Executed in:                0:00:01\n",
      "entropy, 10, None, None, 2e-05\n",
      "\n",
      "List of accuracies:         [75.62 78.75 78.75 77.5  74.38]\n",
      "Mean accuracy:              77.00% +- 1.741%\n",
      "Incorrectly-predicted bits:  4.85% +- 0.339%\n",
      "Executed in:                0:00:01\n",
      "entropy, 11, None, None, 2e-05\n",
      "\n",
      "List of accuracies:         [75.62 78.75 78.75 77.5  74.38]\n",
      "Mean accuracy:              77.00% +- 1.741%\n",
      "Incorrectly-predicted bits:  4.85% +- 0.339%\n",
      "Executed in:                0:00:01\n",
      "entropy, 12, None, None, 2e-05\n",
      "\n",
      "List of accuracies:         [75.62 78.75 78.75 77.5  74.38]\n",
      "Mean accuracy:              77.00% +- 1.741%\n",
      "Incorrectly-predicted bits:  4.85% +- 0.339%\n",
      "Executed in:                0:00:01\n",
      "entropy, 13, None, None, 2e-05\n",
      "\n",
      "List of accuracies:         [75.62 78.75 78.75 77.5  74.38]\n",
      "Mean accuracy:              77.00% +- 1.741%\n",
      "Incorrectly-predicted bits:  4.85% +- 0.339%\n",
      "Executed in:                0:00:01\n",
      "entropy, 14, None, None, 2e-05\n",
      "\n",
      "Best accuracy:              77.00%\n",
      "Incorrectly-predicted bits: 4.85%\n",
      "criterion                 = entropy\n",
      "max_depth                 = 10\n",
      "max_features              = None\n",
      "max_leaf_nodes            = None\n",
      "min_impurity_decrease     = 2e-05\n"
     ]
    }
   ],
   "source": [
    "# Select hyperparameters again - max_depth\n",
    "if model.max_depth != None:\n",
    "    best_par = test_trees(model, X_train, y_train, seed,\n",
    "                          criterion=[model.criterion],\n",
    "                          max_depth=model.max_depth+np.arange(-4, 5),\n",
    "                          # max_features=[0.25, 0.5, 0.75, None],\n",
    "                          # max_leaf_nodes=range(2, 21),\n",
    "                          min_impurity_decrease=[model.min_impurity_decrease]\n",
    "                         )\n",
    "    model.criterion             = best_par[0]\n",
    "    model.max_depth             = best_par[1]\n",
    "    model.max_features          = best_par[2]\n",
    "    model.max_leaf_nodes        = best_par[3]\n",
    "    model.min_impurity_decrease = best_par[4]"
   ]
  },
  {
   "cell_type": "code",
   "execution_count": 73,
   "id": "5287e887",
   "metadata": {
    "ExecuteTime": {
     "end_time": "2022-03-11T17:58:45.131587Z",
     "start_time": "2022-03-11T17:58:44.761463Z"
    }
   },
   "outputs": [
    {
     "data": {
      "text/plain": [
       "(10, 94)"
      ]
     },
     "execution_count": 73,
     "metadata": {},
     "output_type": "execute_result"
    }
   ],
   "source": [
    "# Train with full training set\n",
    "model.fit(X_train, y_train)\n",
    "# lst_acc, lst_wrong_bits = Train_CV(model, X_train, y_train, 5, seed)\n",
    "# cross_val_score(model, X_train, y_train, cv=5, n_jobs=-1, verbose=1)\n",
    "\n",
    "# Save model\n",
    "model_name = 'DT'\n",
    "joblib.dump(model, f'Results/Models/model_{model_name}_{nb_name}_{n}x{m}_noise_std={noise_std}_sampling={sampling_interval}.joblib');\n",
    "\n",
    "model.get_depth(), model.get_n_leaves()"
   ]
  },
  {
   "cell_type": "code",
   "execution_count": 74,
   "id": "86b351ff",
   "metadata": {
    "ExecuteTime": {
     "end_time": "2022-03-11T17:58:46.494063Z",
     "start_time": "2022-03-11T17:58:45.806900Z"
    },
    "collapsed": true
   },
   "outputs": [
    {
     "name": "stdout",
     "output_type": "stream",
     "text": [
      "Mean accuracy on test set:      89.50%\n",
      "Mean certainty (even if wrong): 100.00%\n",
      "\n",
      "Incorrectly-predicted keys:     10.50%\n",
      "Incorrectly-predicted bits:     2.10%\n",
      "\n",
      "Report: \n",
      "               precision    recall  f1-score   support\n",
      "\n",
      "           0      0.900     0.938     0.918        96\n",
      "           1      1.000     1.000     1.000       104\n",
      "           2      0.980     0.971     0.975       102\n",
      "           3      1.000     1.000     1.000       110\n",
      "           4      1.000     1.000     1.000       103\n",
      "\n",
      "   micro avg      0.977     0.983     0.980       515\n",
      "   macro avg      0.976     0.982     0.979       515\n",
      "weighted avg      0.977     0.983     0.980       515\n",
      " samples avg      0.961     0.965     0.959       515\n",
      "\n",
      "Confusion matrices:\n"
     ]
    },
    {
     "name": "stderr",
     "output_type": "stream",
     "text": [
      "/home/v082327/.local/lib/python3.6/site-packages/sklearn/metrics/_classification.py:1248: UndefinedMetricWarning: Precision and F-score are ill-defined and being set to 0.0 in samples with no predicted labels. Use `zero_division` parameter to control this behavior.\n",
      "  _warn_prf(average, modifier, msg_start, len(result))\n",
      "/home/v082327/.local/lib/python3.6/site-packages/sklearn/metrics/_classification.py:1248: UndefinedMetricWarning: Recall and F-score are ill-defined and being set to 0.0 in samples with no true labels. Use `zero_division` parameter to control this behavior.\n",
      "  _warn_prf(average, modifier, msg_start, len(result))\n"
     ]
    },
    {
     "data": {
      "image/png": "[encoded data removed]",
      "text/plain": [
       "<Figure size 900x144 with 5 Axes>"
      ]
     },
     "metadata": {},
     "output_type": "display_data"
    }
   ],
   "source": [
    "# Get prediction statistics\n",
    "get_statistics(model, X_test, y_test, model_name, prob=True)"
   ]
  },
  {
   "cell_type": "code",
   "execution_count": null,
   "id": "34826045",
   "metadata": {},
   "outputs": [],
   "source": [
    "from sklearn.tree import export_graphviz\n",
    "import graphviz\n",
    "\n",
    "dot_data = export_graphviz(model, filled=True, rounded=True, special_characters=True)\n",
    "                           # feature_names=df.columns[:-n], class_names=['0','1']\n",
    "\n",
    "# Draw tree\n",
    "graph = graphviz.Source(dot_data)\n",
    "graph.render(f'Results/Other/DT_{nb_name}_low_sampling={sampling_interval}_noisy_power_per_gate_noisestd={noise_std}', cleanup=True)\n",
    "graph"
   ]
  },
  {
   "cell_type": "markdown",
   "id": "7f3c321b",
   "metadata": {},
   "source": [
    "## To-do?"
   ]
  },
  {
   "cell_type": "markdown",
   "id": "14599650",
   "metadata": {},
   "source": [
    "### Random forest"
   ]
  },
  {
   "cell_type": "markdown",
   "id": "8b2bbd09",
   "metadata": {},
   "source": [
    "### Gradient-boosting"
   ]
  },
  {
   "cell_type": "markdown",
   "id": "f1f05103",
   "metadata": {},
   "source": [
    "### KNN"
   ]
  },
  {
   "cell_type": "markdown",
   "id": "698a495c",
   "metadata": {},
   "source": [
    "### Neural network"
   ]
  }
 ],
 "metadata": {
  "kernelspec": {
   "display_name": "Python [conda env:thesis]",
   "language": "python",
   "name": "conda-env-thesis-py"
  },
  "language_info": {
   "codemirror_mode": {
    "name": "ipython",
    "version": 3
   },
   "file_extension": ".py",
   "mimetype": "text/x-python",
   "name": "python",
   "nbconvert_exporter": "python",
   "pygments_lexer": "ipython3",
   "version": "3.8.12"
  },
  "toc": {
   "base_numbering": 1,
   "nav_menu": {},
   "number_sections": true,
   "sideBar": true,
   "skip_h1_title": false,
   "title_cell": "Contents",
   "title_sidebar": "Contents",
   "toc_cell": false,
   "toc_position": {
    "height": "606.6px",
    "left": "223px",
    "top": "87.6px",
    "width": "232.2px"
   },
   "toc_section_display": true,
   "toc_window_display": true
  },
  "varInspector": {
   "cols": {
    "lenName": 16,
    "lenType": 16,
    "lenVar": 40
   },
   "kernels_config": {
    "python": {
     "delete_cmd_postfix": "",
     "delete_cmd_prefix": "del ",
     "library": "var_list.py",
     "varRefreshCmd": "print(var_dic_list())"
    },
    "r": {
     "delete_cmd_postfix": ") ",
     "delete_cmd_prefix": "rm(",
     "library": "var_list.r",
     "varRefreshCmd": "cat(var_dic_list()) "
    }
   },
   "oldHeight": 299.4,
   "position": {
    "height": "321.4px",
    "left": "864px",
    "right": "20px",
    "top": "87px",
    "width": "656px"
   },
   "types_to_exclude": [
    "module",
    "function",
    "builtin_function_or_method",
    "instance",
    "_Feature"
   ],
   "varInspector_section_display": "block",
   "window_display": false
  }
 },
 "nbformat": 4,
 "nbformat_minor": 5
}
