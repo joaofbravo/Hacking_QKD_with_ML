{
 "cells": [
  {
   "cell_type": "code",
   "execution_count": 1,
   "id": "3c56d89b",
   "metadata": {
    "ExecuteTime": {
     "end_time": "2021-11-20T03:55:19.373272Z",
     "start_time": "2021-11-20T03:55:15.355952Z"
    }
   },
   "outputs": [
    {
     "name": "stderr",
     "output_type": "stream",
     "text": [
      "Intel(R) Extension for Scikit-learn* enabled (https://github.com/intel/scikit-learn-intelex)\n"
     ]
    }
   ],
   "source": [
    "import numpy as np\n",
    "import pandas as pd\n",
    "from pandas_profiling import ProfileReport\n",
    "import lux\n",
    "import matplotlib.pyplot as plt\n",
    "%matplotlib inline\n",
    "\n",
    "from sklearnex import patch_sklearn\n",
    "patch_sklearn()\n",
    "\n",
    "from sklearn.model_selection import train_test_split, StratifiedKFold, cross_val_score\n",
    "from sklearn.linear_model import SGDClassifier\n",
    "from sklearn.svm import SVC, LinearSVC\n",
    "from sklearn.naive_bayes import GaussianNB, MultinomialNB, CategoricalNB\n",
    "from sklearn.tree import DecisionTreeClassifier\n",
    "from sklearn.metrics import accuracy_score, confusion_matrix, classification_report\n",
    "\n",
    "np.set_printoptions(suppress=True) # do not print scientific notation\n",
    "\n",
    "# Set some matplotlib style parameters\n",
    "plt.style.use('seaborn')\n",
    "plt.rcParams.update({'figure.facecolor': 'white',\n",
    "                     'figure.edgecolor': 'white',\n",
    "                     'axes.grid': True,\n",
    "                     'figure.autolayout': True # tight_layout\n",
    "                    })\n",
    "\n",
    "# Set some pandas options\n",
    "pd.set_option('display.max_columns', None, # show x columns (None shows all)\n",
    "              # 'display.max_rows', None,  # show x rows (None shows all)\n",
    "              'compute.use_numba', True)   # turn off for Lux"
   ]
  },
  {
   "cell_type": "code",
   "execution_count": 2,
   "id": "10eaff45",
   "metadata": {
    "ExecuteTime": {
     "end_time": "2021-11-20T03:55:21.282056Z",
     "start_time": "2021-11-20T03:55:21.275833Z"
    }
   },
   "outputs": [],
   "source": [
    "seed = 42\n",
    "rng = np.random.default_rng(seed)\n",
    "\n",
    "secure_bits = 25        # rows\n",
    "corrected_key_bits = 50 # columns\n",
    "N_vec = 10000           # nº of corrected key vectors"
   ]
  },
  {
   "cell_type": "markdown",
   "id": "333ab43c",
   "metadata": {
    "ExecuteTime": {
     "end_time": "2021-08-05T19:00:12.884341Z",
     "start_time": "2021-08-05T19:00:12.870374Z"
    }
   },
   "source": [
    "## Functions"
   ]
  },
  {
   "cell_type": "markdown",
   "id": "f6c9c258",
   "metadata": {},
   "source": [
    "### Detect operations"
   ]
  },
  {
   "cell_type": "code",
   "execution_count": 5,
   "id": "7da03865",
   "metadata": {
    "ExecuteTime": {
     "end_time": "2021-11-20T03:57:23.391023Z",
     "start_time": "2021-11-20T03:57:23.376330Z"
    },
    "code_folding": []
   },
   "outputs": [],
   "source": [
    "def Count_1times1(mat, vec):\n",
    "    row_count = [0] * secure_bits\n",
    "    for i in range(secure_bits):\n",
    "        for j in range(corrected_key_bits):\n",
    "            if mat[i, j] and vec[j]:\n",
    "                row_count[i] += 1\n",
    "    return row_count"
   ]
  },
  {
   "cell_type": "code",
   "execution_count": 6,
   "id": "f7111765",
   "metadata": {
    "ExecuteTime": {
     "end_time": "2021-11-20T03:57:23.625347Z",
     "start_time": "2021-11-20T03:57:23.606297Z"
    },
    "code_folding": []
   },
   "outputs": [],
   "source": [
    "def Count_0times1(mat, vec):\n",
    "    row_count = [0] * secure_bits\n",
    "    for i in range(secure_bits):\n",
    "        for j in range(corrected_key_bits):\n",
    "            if (not mat[i, j] and vec[j]) or \\\n",
    "               (mat[i, j] and not vec[j]):\n",
    "                row_count[i] += 1\n",
    "    return row_count"
   ]
  },
  {
   "cell_type": "code",
   "execution_count": 7,
   "id": "6408d3d1",
   "metadata": {
    "ExecuteTime": {
     "end_time": "2021-11-20T03:57:23.966273Z",
     "start_time": "2021-11-20T03:57:23.951924Z"
    },
    "code_folding": []
   },
   "outputs": [],
   "source": [
    "def Count_0times0(mat, vec):\n",
    "    row_count = [0] * secure_bits\n",
    "    for i in range(secure_bits):\n",
    "        for j in range(corrected_key_bits):\n",
    "            if not mat[i, j] and not vec[j]:\n",
    "                row_count[i] += 1\n",
    "    return row_count"
   ]
  },
  {
   "cell_type": "code",
   "execution_count": 8,
   "id": "9a46243d",
   "metadata": {
    "ExecuteTime": {
     "end_time": "2021-11-20T03:57:24.354322Z",
     "start_time": "2021-11-20T03:57:24.341835Z"
    },
    "code_folding": []
   },
   "outputs": [],
   "source": [
    "# Some experiments...\n",
    "\n",
    "# # Count all +1 (same as Count_1times1...)\n",
    "# def Count_plus1(mat, vec):\n",
    "#     row_count = [0] * secure_bits\n",
    "#     for i in range(secure_bits):\n",
    "#         for j in range(corrected_key_bits):\n",
    "#             if mat[i, j] * vec[j]:\n",
    "#                 row_count[i] += 1\n",
    "#     return row_count\n",
    "\n",
    "# Only count additions to initial 1 in each row (as if the first 1 was already in the memory address of the result)\n",
    "def Count_plus1(mat, vec):\n",
    "    row_count = [0] * secure_bits\n",
    "    for i in range(secure_bits):\n",
    "        count_1s = 0\n",
    "        for j in range(corrected_key_bits):\n",
    "            if mat[i, j] * vec[j]:\n",
    "                count_1s += 1 # count 1s in each row\n",
    "        if count_1s != 0:\n",
    "            row_count[i] += count_1s - 1 # sum 1+1 additions per row if there are any 1s\n",
    "    return row_count\n",
    "\n",
    "# Count 1+1 sequentially in each row (works even if operations are not sequential)\n",
    "    # (counting 1+0 or 0+0 gives different results if operations are not sequential,\n",
    "    # but counting (1+0)+(0+0) still gives consistent results)\n",
    "def Count_1plus1(mat, vec):\n",
    "    row_count = [0] * secure_bits\n",
    "    for i in range(secure_bits):\n",
    "        result = mat[i, 0] * vec[0]\n",
    "        for j in range(1, corrected_key_bits):\n",
    "            next_element = mat[i, j] * vec[j]\n",
    "            if result and next_element:\n",
    "                row_count[i] += 1\n",
    "            result = (result + next_element) % 2\n",
    "    return row_count"
   ]
  },
  {
   "cell_type": "markdown",
   "id": "32abfb3a",
   "metadata": {},
   "source": [
    "### Class"
   ]
  },
  {
   "cell_type": "code",
   "execution_count": 9,
   "id": "ae72549a",
   "metadata": {
    "ExecuteTime": {
     "end_time": "2021-11-20T03:57:25.187790Z",
     "start_time": "2021-11-20T03:57:25.173254Z"
    },
    "code_folding": []
   },
   "outputs": [],
   "source": [
    "# Detect if there are more 1s than 0s\n",
    "def More_1_than_0(mat, vec):\n",
    "    return np.sum(mat @ vec % 2) > secure_bits / 2"
   ]
  },
  {
   "cell_type": "markdown",
   "id": "84830997",
   "metadata": {},
   "source": [
    "### Other"
   ]
  },
  {
   "cell_type": "code",
   "execution_count": 10,
   "id": "93f0b421",
   "metadata": {
    "ExecuteTime": {
     "end_time": "2021-11-20T03:57:25.763517Z",
     "start_time": "2021-11-20T03:57:25.753337Z"
    }
   },
   "outputs": [],
   "source": [
    "# Check if output vectors from sample are unique\n",
    "def Check_uniqueness(mat, vec):\n",
    "    res = []\n",
    "    for i in range(len(vec)):\n",
    "        res.append(mat @ vec[i] % 2)\n",
    "    unique = np.unique(res, axis=0, return_counts=True)\n",
    "    return unique[1].shape[0] == np.shape(vec)[0], unique[1].shape[0]"
   ]
  },
  {
   "cell_type": "markdown",
   "id": "8ae9b25b",
   "metadata": {},
   "source": [
    "## Generate data"
   ]
  },
  {
   "cell_type": "code",
   "execution_count": 11,
   "id": "64ae1572",
   "metadata": {
    "ExecuteTime": {
     "end_time": "2021-11-20T03:57:26.575553Z",
     "start_time": "2021-11-20T03:57:26.562233Z"
    }
   },
   "outputs": [
    {
     "data": {
      "text/plain": [
       "((25, 50),\n",
       " array([[1, 0, 1, ..., 1, 0, 0],\n",
       "        [0, 1, 0, ..., 1, 0, 1],\n",
       "        [0, 0, 1, ..., 1, 1, 1],\n",
       "        ...,\n",
       "        [1, 0, 0, ..., 0, 0, 1],\n",
       "        [0, 1, 1, ..., 0, 1, 0],\n",
       "        [1, 0, 0, ..., 1, 0, 1]], dtype=int8))"
      ]
     },
     "execution_count": 11,
     "metadata": {},
     "output_type": "execute_result"
    }
   ],
   "source": [
    "mat = rng.integers(2, size=(secure_bits,corrected_key_bits), dtype=np.int8)\n",
    "\n",
    "mat.shape, mat"
   ]
  },
  {
   "cell_type": "code",
   "execution_count": 12,
   "id": "d3a84273",
   "metadata": {
    "ExecuteTime": {
     "end_time": "2021-11-20T03:57:28.121468Z",
     "start_time": "2021-11-20T03:57:27.972752Z"
    }
   },
   "outputs": [
    {
     "data": {
      "text/plain": [
       "((10000, 50),\n",
       " array([1, 1, 1, 0, 0, 0, 0, 0, 1, 1, 1, 1, 1, 1, 1, 1, 1, 0, 0, 1, 0, 1,\n",
       "        0, 1, 1, 0, 1, 1, 0, 0, 0, 0, 0, 1, 1, 0, 0, 0, 0, 1, 1, 1, 0, 1,\n",
       "        0, 1, 1, 1, 1, 0], dtype=int8))"
      ]
     },
     "execution_count": 12,
     "metadata": {},
     "output_type": "execute_result"
    }
   ],
   "source": [
    "vec = [rng.integers(2, size=corrected_key_bits, dtype=np.int8) for _ in range(N_vec)]\n",
    "\n",
    "np.shape(vec), vec[0]"
   ]
  },
  {
   "cell_type": "code",
   "execution_count": 11,
   "id": "01ed0428",
   "metadata": {
    "ExecuteTime": {
     "end_time": "2021-11-20T02:07:20.290910Z",
     "start_time": "2021-11-20T02:07:20.170282Z"
    }
   },
   "outputs": [
    {
     "name": "stdout",
     "output_type": "stream",
     "text": [
      "Are solutions from this sample unique? False ---> 9999 unique sols out of 10000\n"
     ]
    }
   ],
   "source": [
    "print('Are solutions from this sample unique? %s ---> %i unique sols out of %i' % (*Check_uniqueness(mat, vec), N_vec))"
   ]
  },
  {
   "cell_type": "code",
   "execution_count": 12,
   "id": "ceb2aafd",
   "metadata": {
    "ExecuteTime": {
     "end_time": "2021-11-20T02:07:24.237677Z",
     "start_time": "2021-11-20T02:07:24.223962Z"
    }
   },
   "outputs": [
    {
     "name": "stdout",
     "output_type": "stream",
     "text": [
      "1*1: [14, 15, 14, 14, 15, 10, 17, 12, 15, 20, 14, 15, 13, 13, 7, 10, 13, 12, 12, 12, 19, 11, 12, 16, 12]\n",
      "0*1: [28, 23, 25, 25, 23, 30, 19, 27, 26, 18, 22, 24, 27, 24, 30, 29, 26, 29, 26, 29, 18, 29, 28, 24, 30]\n",
      "0*0: [8, 12, 11, 11, 12, 10, 14, 11, 9, 12, 14, 11, 10, 13, 13, 11, 11, 9, 12, 9, 13, 10, 10, 10, 8]\n",
      " +1: [13, 14, 13, 13, 14, 9, 16, 11, 14, 19, 13, 14, 12, 12, 6, 9, 12, 11, 11, 11, 18, 10, 11, 15, 11]\n",
      "1+1: [7, 7, 7, 7, 7, 5, 8, 6, 7, 10, 7, 7, 6, 6, 3, 5, 6, 6, 6, 6, 9, 5, 6, 8, 6]\n"
     ]
    }
   ],
   "source": [
    "i = 0\n",
    "print('1*1:', Count_1times1(mat, vec[i]))\n",
    "print('0*1:', Count_0times1(mat, vec[i]))\n",
    "print('0*0:', Count_0times0(mat, vec[i]))\n",
    "print(' +1:', Count_plus1(mat, vec[i]))\n",
    "print('1+1:', Count_1plus1(mat, vec[i]))"
   ]
  },
  {
   "cell_type": "code",
   "execution_count": 13,
   "id": "007e2611",
   "metadata": {
    "ExecuteTime": {
     "end_time": "2021-11-20T02:07:27.710839Z",
     "start_time": "2021-11-20T02:07:27.697059Z"
    },
    "scrolled": false
   },
   "outputs": [
    {
     "name": "stdout",
     "output_type": "stream",
     "text": [
      "#1 > #0?\n",
      "--------\n",
      "False \t [0 1 0 0 1 0 1 0 1 0 0 1 1 1 1 0 1 0 0 0 1 1 0 0 0]\n",
      "True \t [1 1 0 0 1 1 0 0 1 0 1 1 1 1 1 0 1 1 1 1 0 1 0 1 0]\n",
      "False \t [1 1 1 1 0 0 0 0 1 0 1 1 0 0 0 1 1 1 0 0 1 0 1 0 0]\n",
      "False \t [0 1 0 0 1 0 0 0 0 0 0 1 0 0 1 1 0 0 0 0 0 0 1 0 0]\n",
      "False \t [1 1 0 1 1 1 0 0 0 0 0 1 0 0 1 1 0 0 0 0 1 0 1 0 0]\n",
      "True \t [1 0 0 1 1 0 1 0 0 1 0 1 1 1 1 0 0 0 0 1 1 1 0 1 1]\n",
      "True \t [0 1 1 0 0 1 0 1 0 1 1 1 1 1 1 1 0 0 0 0 1 1 0 0 1]\n",
      "True \t [1 1 0 1 0 1 0 1 1 0 1 1 0 0 1 1 0 0 1 1 0 1 0 0 0]\n",
      "True \t [0 1 1 0 1 1 1 0 0 0 1 0 0 0 1 1 0 1 1 1 0 0 0 1 1]\n",
      "False \t [1 1 0 0 0 0 1 1 0 0 0 0 1 1 0 1 1 1 0 0 1 1 0 1 0]\n"
     ]
    }
   ],
   "source": [
    "print(\"#1 > #0?\")\n",
    "print(\"--------\")\n",
    "for i in range(10):\n",
    "    print(More_1_than_0(mat, vec[i]), '\\t', mat @ vec[i] % 2)"
   ]
  },
  {
   "cell_type": "code",
   "execution_count": 13,
   "id": "033ba8ff",
   "metadata": {
    "ExecuteTime": {
     "end_time": "2021-11-20T03:57:55.856938Z",
     "start_time": "2021-11-20T03:57:31.595742Z"
    }
   },
   "outputs": [
    {
     "data": {
      "text/plain": [
       "(10000, 101)"
      ]
     },
     "execution_count": 13,
     "metadata": {},
     "output_type": "execute_result"
    }
   ],
   "source": [
    "# Warning: data is not time-ordered, i.e. row-by-row counts\n",
    "data = [[*Count_1times1(mat, vec[i]),\n",
    "         *Count_0times1(mat, vec[i]),\n",
    "         *Count_0times0(mat, vec[i]),\n",
    "         # *Count_plus1(mat, vec[i]),\n",
    "         *Count_1plus1(mat, vec[i]),\n",
    "         More_1_than_0(mat, vec[i])] for i in range(N_vec)]\n",
    "np.shape(data)"
   ]
  },
  {
   "cell_type": "code",
   "execution_count": 14,
   "id": "3cea7e0e",
   "metadata": {
    "ExecuteTime": {
     "end_time": "2021-11-20T04:02:50.220388Z",
     "start_time": "2021-11-20T03:57:59.468996Z"
    },
    "scrolled": true
   },
   "outputs": [
    {
     "data": {
      "application/vnd.jupyter.widget-view+json": {
       "model_id": "d2bb9c1eeb1244c282fd7a5f314b7747",
       "version_major": 2,
       "version_minor": 0
      },
      "text/plain": [
       "Button(description='Toggle Pandas/Lux', layout=Layout(top='5px', width='140px'), style=ButtonStyle())"
      ]
     },
     "metadata": {},
     "output_type": "display_data"
    },
    {
     "data": {
      "application/vnd.jupyter.widget-view+json": {
       "model_id": "2786dd04f28b452299a9dc60a44bd0ad",
       "version_major": 2,
       "version_minor": 0
      },
      "text/plain": [
       "Output()"
      ]
     },
     "metadata": {},
     "output_type": "display_data"
    }
   ],
   "source": [
    "# Create column labels\n",
    "columns = []\n",
    "for op in ['1*1', '0*1', '0*0', '1+1']:\n",
    "    columns += [op + '_' + str(i) for i in range(secure_bits)]\n",
    "columns += ['More_1_than_0']\n",
    "\n",
    "# Create dataframe\n",
    "df = pd.DataFrame(data, columns=columns)\n",
    "df"
   ]
  },
  {
   "cell_type": "code",
   "execution_count": 16,
   "id": "c8227458",
   "metadata": {
    "ExecuteTime": {
     "end_time": "2021-11-20T02:13:12.388800Z",
     "start_time": "2021-11-20T02:11:05.389789Z"
    },
    "collapsed": true
   },
   "outputs": [
    {
     "data": {
      "application/vnd.jupyter.widget-view+json": {
       "model_id": "8493ec24d8944445977d73692949b3f7",
       "version_major": 2,
       "version_minor": 0
      },
      "text/plain": [
       "Button(description='Toggle Pandas/Lux', layout=Layout(top='5px', width='140px'), style=ButtonStyle())"
      ]
     },
     "metadata": {},
     "output_type": "display_data"
    },
    {
     "data": {
      "application/vnd.jupyter.widget-view+json": {
       "model_id": "f6add6ebc2dd4fd199bf357e27054928",
       "version_major": 2,
       "version_minor": 0
      },
      "text/plain": [
       "Output()"
      ]
     },
     "metadata": {},
     "output_type": "display_data"
    }
   ],
   "source": [
    "# Check some trends in data (turn off numba engine first)\n",
    "pd.set_option('compute.use_numba', False)\n",
    "df2 = df.copy()\n",
    "df2.intent = ['More_1_than_0']\n",
    "display(df2)\n",
    "pd.set_option('compute.use_numba', True)"
   ]
  },
  {
   "cell_type": "code",
   "execution_count": 189,
   "id": "e2079e6b",
   "metadata": {
    "ExecuteTime": {
     "end_time": "2021-08-31T05:20:32.262357Z",
     "start_time": "2021-08-31T04:18:49.051258Z"
    },
    "collapsed": true
   },
   "outputs": [
    {
     "data": {
      "application/vnd.jupyter.widget-view+json": {
       "model_id": "75b53cbfe49441ab99d7f34d8a549ea7",
       "version_major": 2,
       "version_minor": 0
      },
      "text/plain": [
       "Summarize dataset:   0%|          | 0/114 [00:00<?, ?it/s]"
      ]
     },
     "metadata": {},
     "output_type": "display_data"
    },
    {
     "name": "stderr",
     "output_type": "stream",
     "text": [
      "C:\\Users\\V082335\\Anaconda3\\lib\\site-packages\\pandas\\core\\series.py:1441: PerformanceWarning:DataFrame is highly fragmented.  This is usually the result of calling `frame.insert` many times, which has poor performance.  Consider using pd.concat instead.  To get a de-fragmented frame, use `newframe = frame.copy()`\n"
     ]
    },
    {
     "data": {
      "application/vnd.jupyter.widget-view+json": {
       "model_id": "fa3674e47a844faabc7715d37ac80a25",
       "version_major": 2,
       "version_minor": 0
      },
      "text/plain": [
       "Generate report structure:   0%|          | 0/1 [00:00<?, ?it/s]"
      ]
     },
     "metadata": {},
     "output_type": "display_data"
    },
    {
     "data": {
      "application/vnd.jupyter.widget-view+json": {
       "model_id": "bd20deaf4b714bf18faa8c7d88c942ed",
       "version_major": 2,
       "version_minor": 0
      },
      "text/plain": [
       "Render HTML:   0%|          | 0/1 [00:00<?, ?it/s]"
      ]
     },
     "metadata": {},
     "output_type": "display_data"
    },
    {
     "data": {
      "application/vnd.jupyter.widget-view+json": {
       "model_id": "066002358c6142e2bde1d0f942b941da",
       "version_major": 2,
       "version_minor": 0
      },
      "text/plain": [
       "Export report to file:   0%|          | 0/1 [00:00<?, ?it/s]"
      ]
     },
     "metadata": {},
     "output_type": "display_data"
    }
   ],
   "source": [
    "# Generate pandas profiling report\n",
    "profile = ProfileReport(df, title=\"More_1s_or_0s N_Ops_per_Row Dataset Report\", explorative=True)\n",
    "# profile.to_widgets()\n",
    "profile.to_file(\"Docs/More_1s_or_0s_-_N_Ops_per_Row_report.html\")"
   ]
  },
  {
   "cell_type": "markdown",
   "id": "0b206318",
   "metadata": {},
   "source": [
    "### Split data"
   ]
  },
  {
   "cell_type": "code",
   "execution_count": 15,
   "id": "0d8996cb",
   "metadata": {
    "ExecuteTime": {
     "end_time": "2021-11-20T04:03:02.581867Z",
     "start_time": "2021-11-20T04:03:01.638492Z"
    }
   },
   "outputs": [],
   "source": [
    "# Split data into training & test set\n",
    "X = np.asarray(df.drop('More_1_than_0', axis=1))\n",
    "y = np.asarray(df['More_1_than_0'])\n",
    "\n",
    "X_train, X_test, y_train, y_test = train_test_split(X, y, test_size=0.2, random_state=seed) # used before cross-val"
   ]
  },
  {
   "cell_type": "markdown",
   "id": "6e0648c2",
   "metadata": {},
   "source": [
    "## Classifiers"
   ]
  },
  {
   "cell_type": "markdown",
   "id": "00a31be3",
   "metadata": {},
   "source": [
    "Models able to to predict with ~100% accuracy:\n",
    "- Logistic regression\n",
    "- Linear SVM (and polynomial-kernel SVM by extension)\n",
    "\n",
    "Models which comparatively suck:\n",
    "- RBF-kernel SVM\n",
    "- Sigmoid-kernel SVM\n",
    "- All Naïve Bayes\n",
    "- Decision tree"
   ]
  },
  {
   "cell_type": "code",
   "execution_count": 17,
   "id": "a692c4af",
   "metadata": {
    "ExecuteTime": {
     "end_time": "2021-11-20T04:04:31.091203Z",
     "start_time": "2021-11-20T04:04:31.068353Z"
    },
    "code_folding": []
   },
   "outputs": [],
   "source": [
    "# Train model with stratified k-fold cross-validation & get statistics\n",
    "def Train_stratCV(model, X, y, n_splits=5, seed=seed):\n",
    "    skf = StratifiedKFold(n_splits, shuffle=True, random_state=seed)\n",
    "    lst_acc = []\n",
    "    lst_y_pred = [] # not used yet\n",
    "\n",
    "    # Train & test each fold\n",
    "    for train_idx, test_idx in skf.split(X, y):\n",
    "        x_train_fold, x_test_fold = X[train_idx], X[test_idx]\n",
    "        y_train_fold, y_test_fold = y[train_idx], y[test_idx]\n",
    "        model.fit(x_train_fold, y_train_fold)\n",
    "        lst_acc.append(model.score(x_test_fold, y_test_fold))\n",
    "        lst_y_pred.append(model.predict(x_test_fold))\n",
    "\n",
    "    print(f'\\nList of accuracies: {lst_acc}')\n",
    "    print(f'Min/max accuracy:   {min(lst_acc):.2%} <---> {max(lst_acc):.2%}')\n",
    "    print(f'Mean accuracy:      {np.mean(lst_acc):.2%} +- {np.std(lst_acc):.3%}')\n",
    "    \n",
    "    # add more stats\n",
    "    \n",
    "    return lst_acc, lst_y_pred\n",
    "\n",
    "# accuracy_score(y_test, y_pred) # how often is the classifier correct?\n",
    "# confusion_matrix(y_test, y_pred, normalize='pred') # precision\n",
    "# confusion_matrix(y_test, y_pred, normalize='true') # recall\n",
    "# classification_report(y_test, y_pred, output_dict=True)"
   ]
  },
  {
   "cell_type": "markdown",
   "id": "4fd5d621",
   "metadata": {},
   "source": [
    "### Logistic regression"
   ]
  },
  {
   "cell_type": "code",
   "execution_count": 19,
   "id": "96f8d738",
   "metadata": {
    "ExecuteTime": {
     "end_time": "2021-11-20T02:14:07.056903Z",
     "start_time": "2021-11-20T02:14:03.922216Z"
    }
   },
   "outputs": [
    {
     "name": "stdout",
     "output_type": "stream",
     "text": [
      "Convergence after 162 epochs took 0.64 seconds\n",
      "Convergence after 173 epochs took 0.64 seconds\n",
      "Convergence after 153 epochs took 0.54 seconds\n",
      "Convergence after 177 epochs took 0.62 seconds\n",
      "Convergence after 167 epochs took 0.60 seconds\n",
      "\n",
      "List of accuracies: [1.0, 1.0, 0.999, 1.0, 0.9995]\n",
      "Min/max accuracy:   99.90% <---> 100.00%\n",
      "Mean accuracy:      99.97% +- 0.040%\n"
     ]
    }
   ],
   "source": [
    "model = SGDClassifier(loss='log', learning_rate='adaptive', eta0=1e-3, max_iter=1e5, tol=1e-5, n_jobs=-1, random_state=seed,\n",
    "                      verbose=-1)\n",
    "# model.fit(X_train, y_train) # used before cross-val\n",
    "acc_strat, y_pred = Train_stratCV(model, X, y, 5, seed)"
   ]
  },
  {
   "cell_type": "code",
   "execution_count": 44,
   "id": "5e9a7fa7",
   "metadata": {
    "ExecuteTime": {
     "end_time": "2021-09-16T15:49:13.505376Z",
     "start_time": "2021-09-16T15:49:13.477927Z"
    },
    "code_folding": [
     0
    ],
    "scrolled": true
   },
   "outputs": [
    {
     "name": "stdout",
     "output_type": "stream",
     "text": [
      "Confusion matrix: \n",
      " [[ 996    1]\n",
      " [   0 1003]]\n",
      "\n",
      "Report: \n",
      "               precision    recall  f1-score   support\n",
      "\n",
      "       False      1.000     0.999     0.999       997\n",
      "        True      0.999     1.000     1.000      1003\n",
      "\n",
      "    accuracy                          1.000      2000\n",
      "   macro avg      1.000     0.999     0.999      2000\n",
      "weighted avg      1.000     1.000     0.999      2000\n",
      "\n",
      "Mean accuracy on test set: 99.95%\n",
      "Mean certainty (even if wrong): 95.92%\n"
     ]
    }
   ],
   "source": [
    "# # Get prediction statistics (used before cross-val)\n",
    "# y_pred = model.predict(X_test)\n",
    "# print('Confusion matrix: \\n', confusion_matrix(y_test, y_pred))\n",
    "# print('\\nReport: \\n', classification_report(y_test, y_pred, digits=3))\n",
    "\n",
    "# print(f'Mean accuracy on test set: {model.score(X_test, y_test):.2%}')\n",
    "\n",
    "# y_prob = model.predict_proba(X_test)\n",
    "# print(f'Mean certainty (even if wrong): {np.mean(np.max(y_prob, axis=1)):.2%}')"
   ]
  },
  {
   "cell_type": "markdown",
   "id": "ffb1c7b7",
   "metadata": {},
   "source": [
    "### SVM"
   ]
  },
  {
   "cell_type": "markdown",
   "id": "095d5cfa",
   "metadata": {},
   "source": [
    "#### Linear kernel"
   ]
  },
  {
   "cell_type": "code",
   "execution_count": 23,
   "id": "ebf3d46d",
   "metadata": {
    "ExecuteTime": {
     "end_time": "2021-09-16T15:34:29.535085Z",
     "start_time": "2021-09-16T15:32:58.024054Z"
    }
   },
   "outputs": [
    {
     "name": "stdout",
     "output_type": "stream",
     "text": [
      "[LibSVM][LibSVM][LibSVM][LibSVM][LibSVM]\n",
      "List of accuracies: [1.0, 1.0, 1.0, 1.0, 1.0]\n",
      "Min/max accuracy:   100.00% <---> 100.00%\n",
      "Mean accuracy:      100.00% +- 0.000%\n"
     ]
    }
   ],
   "source": [
    "model = SVC(kernel='linear', probability=False, random_state=seed, verbose=True)\n",
    "# model.fit(X_train, y_train) # used before cross-val\n",
    "acc_strat, y_pred = Train_stratCV(model, X, y, 5, seed)"
   ]
  },
  {
   "cell_type": "code",
   "execution_count": 646,
   "id": "90217a7e",
   "metadata": {
    "ExecuteTime": {
     "end_time": "2021-08-25T05:27:13.743032Z",
     "start_time": "2021-08-25T05:27:13.725081Z"
    },
    "code_folding": [
     0
    ],
    "scrolled": true
   },
   "outputs": [],
   "source": [
    "# # Get prediction statistics (used before cross-val)\n",
    "# y_pred = model.predict(X_test)\n",
    "# print('Confusion matrix: \\n', confusion_matrix(y_test, y_pred))\n",
    "# print('\\nReport: \\n', classification_report(y_test, y_pred, digits=3))\n",
    "\n",
    "# print(f'Mean accuracy on test set: {model.score(X_test, y_test):.2%}')\n",
    "\n",
    "# y_prob = model.predict_proba(X_test)\n",
    "# print(f'Mean certainty (even if wrong): {np.mean(np.max(y_prob, axis=1)):.2%}')"
   ]
  },
  {
   "cell_type": "code",
   "execution_count": 94,
   "id": "705c8b43",
   "metadata": {
    "ExecuteTime": {
     "end_time": "2021-08-31T00:25:07.070817Z",
     "start_time": "2021-08-31T00:25:04.091255Z"
    }
   },
   "outputs": [
    {
     "name": "stdout",
     "output_type": "stream",
     "text": [
      "Convergence after 289 epochs took 0.65 seconds\n",
      "Convergence after 161 epochs took 0.54 seconds\n",
      "Convergence after 214 epochs took 0.58 seconds\n",
      "Convergence after 191 epochs took 0.50 seconds\n",
      "Convergence after 202 epochs took 0.57 seconds\n",
      "\n",
      "List of accuracies: [1.0, 0.996, 0.998, 0.9955, 0.9925]\n",
      "Min/max accuracy:   99.25% <---> 100.00%\n",
      "Mean accuracy:      99.64% +- 0.252%\n"
     ]
    }
   ],
   "source": [
    "model = SGDClassifier(loss='hinge', learning_rate='adaptive', eta0=1e5, tol=1e-9, n_jobs=-1, random_state=seed, verbose=-1)\n",
    "# model.fit(X_train, y_train) # used before cross-val\n",
    "acc_strat, y_pred = Train_stratCV(model, X, y, 5, seed)"
   ]
  },
  {
   "cell_type": "code",
   "execution_count": 186,
   "id": "e157670e",
   "metadata": {
    "ExecuteTime": {
     "end_time": "2021-08-30T01:50:25.511257Z",
     "start_time": "2021-08-30T01:50:25.499509Z"
    },
    "code_folding": [
     0
    ]
   },
   "outputs": [],
   "source": [
    "# # Get prediction statistics (used before cross-val)\n",
    "# y_pred = model.predict(X_test)\n",
    "# print('Confusion matrix: \\n', confusion_matrix(y_test, y_pred))\n",
    "# print('\\nReport: \\n', classification_report(y_test, y_pred, digits=3))\n",
    "\n",
    "# print(f'Mean accuracy on test set: {model.score(X_test, y_test):.2%}')\n",
    "\n",
    "# y_prob = model.predict_proba(X_test)\n",
    "# print(f'Mean certainty (even if wrong): {np.mean(np.max(y_prob, axis=1)):.2%}')"
   ]
  },
  {
   "cell_type": "code",
   "execution_count": 96,
   "id": "b7cc0383",
   "metadata": {
    "ExecuteTime": {
     "end_time": "2021-08-31T00:30:44.497847Z",
     "start_time": "2021-08-31T00:30:40.226271Z"
    }
   },
   "outputs": [
    {
     "name": "stdout",
     "output_type": "stream",
     "text": [
      "[LibLinear][LibLinear][LibLinear][LibLinear][LibLinear]\n",
      "List of accuracies: [1.0, 1.0, 1.0, 1.0, 1.0]\n",
      "Min/max accuracy:   100.00% <---> 100.00%\n",
      "Mean accuracy:      100.00% +- 0.000%\n"
     ]
    }
   ],
   "source": [
    "model = LinearSVC(loss='squared_hinge', dual=False, tol=1e-9, random_state=seed, verbose=1)\n",
    "# model.fit(X_train, y_train) # used before cross-val\n",
    "acc_strat, y_pred = Train_stratCV(model, X, y, 5, seed)"
   ]
  },
  {
   "cell_type": "code",
   "execution_count": 188,
   "id": "cdb5be7e",
   "metadata": {
    "ExecuteTime": {
     "end_time": "2021-08-30T01:50:36.832150Z",
     "start_time": "2021-08-30T01:50:36.819840Z"
    },
    "code_folding": [
     0
    ],
    "scrolled": false
   },
   "outputs": [],
   "source": [
    "# # Get prediction statistics (used before cross-val)\n",
    "# y_pred = model.predict(X_test)\n",
    "# print('Confusion matrix: \\n', confusion_matrix(y_test, y_pred))\n",
    "# print('\\nReport: \\n', classification_report(y_test, y_pred, digits=3))\n",
    "\n",
    "# print(f'Mean accuracy on test set: {model.score(X_test, y_test):.2%}')\n",
    "\n",
    "# y_prob = model.predict_proba(X_test)\n",
    "# print(f'Mean certainty (even if wrong): {np.mean(np.max(y_prob, axis=1)):.2%}')"
   ]
  },
  {
   "cell_type": "markdown",
   "id": "d8aa52a1",
   "metadata": {},
   "source": [
    "#### Gaussian kernel"
   ]
  },
  {
   "cell_type": "code",
   "execution_count": 48,
   "id": "6680b24d",
   "metadata": {
    "ExecuteTime": {
     "end_time": "2021-09-16T15:55:36.456723Z",
     "start_time": "2021-09-16T15:53:39.446320Z"
    }
   },
   "outputs": [
    {
     "name": "stdout",
     "output_type": "stream",
     "text": [
      "[LibSVM][LibSVM][LibSVM][LibSVM][LibSVM]\n",
      "List of accuracies: [0.5575, 0.5625, 0.565, 0.5675, 0.5775]\n",
      "Min/max accuracy:   55.75% <---> 57.75%\n",
      "Mean accuracy:      56.60% +- 0.663%\n"
     ]
    }
   ],
   "source": [
    "model = SVC(kernel='rbf', gamma='scale', tol=1e-5, probability=False, random_state=seed, verbose=True)\n",
    "# model.fit(X_train, y_train) # used before cross-val\n",
    "acc_strat, y_pred = Train_stratCV(model, X, y, 5, seed)"
   ]
  },
  {
   "cell_type": "code",
   "execution_count": 49,
   "id": "7f2038a9",
   "metadata": {
    "ExecuteTime": {
     "end_time": "2021-09-16T16:00:33.116298Z",
     "start_time": "2021-09-16T15:58:03.424646Z"
    }
   },
   "outputs": [
    {
     "name": "stdout",
     "output_type": "stream",
     "text": [
      "[LibSVM][LibSVM][LibSVM][LibSVM][LibSVM]\n",
      "List of accuracies: [0.511, 0.514, 0.5205, 0.5185, 0.4975]\n",
      "Min/max accuracy:   49.75% <---> 52.05%\n",
      "Mean accuracy:      51.23% +- 0.812%\n"
     ]
    }
   ],
   "source": [
    "model = SVC(kernel='rbf', gamma='auto', tol=1e-5, probability=False, random_state=seed, verbose=True)\n",
    "# model.fit(X_train, y_train) # used before cross-val\n",
    "acc_strat, y_pred = Train_stratCV(model, X, y, 5, seed)"
   ]
  },
  {
   "cell_type": "code",
   "execution_count": 189,
   "id": "185eccdf",
   "metadata": {
    "ExecuteTime": {
     "end_time": "2021-08-30T01:50:54.686859Z",
     "start_time": "2021-08-30T01:50:54.673360Z"
    },
    "code_folding": [
     0
    ]
   },
   "outputs": [],
   "source": [
    "# # Get prediction statistics (used before cross-val)\n",
    "# y_pred = model.predict(X_test)\n",
    "# print('Confusion matrix: \\n', confusion_matrix(y_test, y_pred))\n",
    "# print('\\nReport: \\n', classification_report(y_test, y_pred, digits=3))\n",
    "\n",
    "# print(f'Mean accuracy on test set: {model.score(X_test, y_test):.2%}')\n",
    "\n",
    "# y_prob = model.predict_proba(X_test)\n",
    "# print(f'Mean certainty (even if wrong): {np.mean(np.max(y_prob, axis=1)):.2%}')"
   ]
  },
  {
   "cell_type": "markdown",
   "id": "3d130321",
   "metadata": {},
   "source": [
    "#### Polynomial kernel"
   ]
  },
  {
   "cell_type": "code",
   "execution_count": 50,
   "id": "ba0dc478",
   "metadata": {
    "ExecuteTime": {
     "end_time": "2021-09-16T16:03:48.147693Z",
     "start_time": "2021-09-16T16:01:52.638626Z"
    }
   },
   "outputs": [
    {
     "name": "stdout",
     "output_type": "stream",
     "text": [
      "[LibSVM][LibSVM][LibSVM][LibSVM][LibSVM]\n",
      "List of accuracies: [0.972, 0.96, 0.9755, 0.977, 0.966]\n",
      "Min/max accuracy:   96.00% <---> 97.70%\n",
      "Mean accuracy:      97.01% +- 0.631%\n"
     ]
    }
   ],
   "source": [
    "model = SVC(kernel='poly', degree=3, coef0=1., tol=1e-5, probability=False, random_state=seed, verbose=True)\n",
    "# model.fit(X_train, y_train) # used before cross-val\n",
    "acc_strat, y_pred = Train_stratCV(model, X, y, 5, seed)"
   ]
  },
  {
   "cell_type": "code",
   "execution_count": 51,
   "id": "58ec2a3b",
   "metadata": {
    "ExecuteTime": {
     "end_time": "2021-09-16T16:03:48.147693Z",
     "start_time": "2021-09-16T16:01:52.638626Z"
    }
   },
   "outputs": [
    {
     "name": "stdout",
     "output_type": "stream",
     "text": [
      "[LibSVM][LibSVM][LibSVM][LibSVM][LibSVM]\n",
      "List of accuracies: [0.985, 0.979, 0.9835, 0.983, 0.9775]\n",
      "Min/max accuracy:   97.75% <---> 98.50%\n",
      "Mean accuracy:      98.16% +- 0.285%\n"
     ]
    }
   ],
   "source": [
    "model = SVC(kernel='poly', degree=4, coef0=1., tol=1e-5, probability=False, random_state=seed, verbose=True)\n",
    "# model.fit(X_train, y_train) # used before cross-val\n",
    "acc_strat, y_pred = Train_stratCV(model, X, y, 5, seed)"
   ]
  },
  {
   "cell_type": "code",
   "execution_count": 657,
   "id": "e7651bd2",
   "metadata": {
    "ExecuteTime": {
     "end_time": "2021-08-25T05:34:53.238485Z",
     "start_time": "2021-08-25T05:34:53.226514Z"
    },
    "code_folding": [
     0
    ]
   },
   "outputs": [],
   "source": [
    "# # Get prediction statistics (used before cross-val)\n",
    "# y_pred = model.predict(X_test)\n",
    "# print('Confusion matrix: \\n', confusion_matrix(y_test, y_pred))\n",
    "# print('\\nReport: \\n', classification_report(y_test, y_pred, digits=3))\n",
    "\n",
    "# print(f'Mean accuracy on test set: {model.score(X_test, y_test):.2%}')\n",
    "\n",
    "# y_prob = model.predict_proba(X_test)\n",
    "# print(f'Mean certainty (even if wrong): {np.mean(np.max(y_prob, axis=1)):.2%}')"
   ]
  },
  {
   "cell_type": "markdown",
   "id": "4e1ccbda",
   "metadata": {},
   "source": [
    "#### Sigmoid kernel"
   ]
  },
  {
   "cell_type": "code",
   "execution_count": 58,
   "id": "af5cbf1c",
   "metadata": {
    "ExecuteTime": {
     "end_time": "2021-09-16T16:15:06.131526Z",
     "start_time": "2021-09-16T16:13:46.424000Z"
    }
   },
   "outputs": [
    {
     "name": "stdout",
     "output_type": "stream",
     "text": [
      "[LibSVM][LibSVM][LibSVM][LibSVM][LibSVM]\n",
      "List of accuracies: [0.5015, 0.5015, 0.5015, 0.5015, 0.502]\n",
      "Min/max accuracy:   50.15% <---> 50.20%\n",
      "Mean accuracy:      50.16% +- 0.020%\n"
     ]
    }
   ],
   "source": [
    "model = SVC(kernel='sigmoid', gamma='scale', coef0=0., tol=1e-5, probability=False, random_state=seed, verbose=True)\n",
    "# model.fit(X_train, y_train) # used before cross-val\n",
    "acc_strat, y_pred = Train_stratCV(model, X, y, 5, seed)"
   ]
  },
  {
   "cell_type": "code",
   "execution_count": 59,
   "id": "65150af0",
   "metadata": {
    "ExecuteTime": {
     "end_time": "2021-09-16T16:16:14.201948Z",
     "start_time": "2021-09-16T16:15:07.958286Z"
    }
   },
   "outputs": [
    {
     "name": "stdout",
     "output_type": "stream",
     "text": [
      "[LibSVM][LibSVM][LibSVM][LibSVM][LibSVM]\n",
      "List of accuracies: [0.5015, 0.5015, 0.5015, 0.5015, 0.502]\n",
      "Min/max accuracy:   50.15% <---> 50.20%\n",
      "Mean accuracy:      50.16% +- 0.020%\n"
     ]
    }
   ],
   "source": [
    "model = SVC(kernel='sigmoid', gamma='auto', coef0=0., tol=1e-5, probability=False, random_state=seed, verbose=True)\n",
    "# model.fit(X_train, y_train) # used before cross-val\n",
    "acc_strat, y_pred = Train_stratCV(model, X, y, 5, seed)"
   ]
  },
  {
   "cell_type": "code",
   "execution_count": 658,
   "id": "0f0a2222",
   "metadata": {
    "ExecuteTime": {
     "end_time": "2021-08-25T05:35:03.651342Z",
     "start_time": "2021-08-25T05:35:03.638378Z"
    },
    "code_folding": [
     0
    ],
    "scrolled": false
   },
   "outputs": [],
   "source": [
    "# # Get prediction statistics (used before cross-val)\n",
    "# y_pred = model.predict(X_test)\n",
    "# print('Confusion matrix: \\n', confusion_matrix(y_test, y_pred))\n",
    "# print('\\nReport: \\n', classification_report(y_test, y_pred, digits=3))\n",
    "\n",
    "# print(f'Mean accuracy on test set: {model.score(X_test, y_test):.2%}')\n",
    "\n",
    "# y_prob = model.predict_proba(X_test)\n",
    "# print(f'Mean certainty (even if wrong): {np.mean(np.max(y_prob, axis=1)):.2%}')"
   ]
  },
  {
   "cell_type": "markdown",
   "id": "1f4231d0",
   "metadata": {},
   "source": [
    "### Naïve Bayes"
   ]
  },
  {
   "cell_type": "markdown",
   "id": "350bca37",
   "metadata": {},
   "source": [
    "#### Gaussian NB"
   ]
  },
  {
   "cell_type": "code",
   "execution_count": 97,
   "id": "48e357b4",
   "metadata": {
    "ExecuteTime": {
     "end_time": "2021-08-31T00:31:23.727555Z",
     "start_time": "2021-08-31T00:31:23.478188Z"
    }
   },
   "outputs": [
    {
     "name": "stdout",
     "output_type": "stream",
     "text": [
      "\n",
      "List of accuracies: [0.5175, 0.531, 0.517, 0.523, 0.5115]\n",
      "Min/max accuracy:   51.15% <---> 53.10%\n",
      "Mean accuracy:      52.00% +- 0.660%\n"
     ]
    }
   ],
   "source": [
    "model = GaussianNB()\n",
    "# model.fit(X_train, y_train) # used before cross-val\n",
    "acc_strat, y_pred = Train_stratCV(model, X, y, 5, seed)"
   ]
  },
  {
   "cell_type": "code",
   "execution_count": 72,
   "id": "250ce4c8",
   "metadata": {
    "ExecuteTime": {
     "end_time": "2021-08-25T06:44:50.199565Z",
     "start_time": "2021-08-25T06:44:50.183608Z"
    },
    "code_folding": [
     0
    ]
   },
   "outputs": [],
   "source": [
    "# # Get prediction statistics (used before cross-val)\n",
    "# y_pred = model.predict(X_test)\n",
    "# print('Confusion matrix: \\n', confusion_matrix(y_test, y_pred))\n",
    "# print('\\nReport: \\n', classification_report(y_test, y_pred, digits=3))\n",
    "\n",
    "# print(f'Mean accuracy on test set: {model.score(X_test, y_test):.2%}')\n",
    "\n",
    "# y_prob = model.predict_proba(X_test)\n",
    "# print(f'Mean certainty (even if wrong): {np.mean(np.max(y_prob, axis=1)):.2%}')"
   ]
  },
  {
   "cell_type": "markdown",
   "id": "687d07fb",
   "metadata": {},
   "source": [
    "#### Multinomial NB"
   ]
  },
  {
   "cell_type": "code",
   "execution_count": 98,
   "id": "89dfa242",
   "metadata": {
    "ExecuteTime": {
     "end_time": "2021-08-31T00:31:28.976616Z",
     "start_time": "2021-08-31T00:31:28.845966Z"
    }
   },
   "outputs": [
    {
     "name": "stdout",
     "output_type": "stream",
     "text": [
      "\n",
      "List of accuracies: [0.513, 0.5325, 0.5215, 0.533, 0.513]\n",
      "Min/max accuracy:   51.30% <---> 53.30%\n",
      "Mean accuracy:      52.26% +- 0.885%\n"
     ]
    }
   ],
   "source": [
    "model = MultinomialNB()\n",
    "# model.fit(X_train, y_train) # used before cross-val\n",
    "acc_strat, y_pred = Train_stratCV(model, X, y, 5, seed)"
   ]
  },
  {
   "cell_type": "code",
   "execution_count": 43,
   "id": "dae42455",
   "metadata": {
    "ExecuteTime": {
     "end_time": "2021-08-25T05:53:35.319986Z",
     "start_time": "2021-08-25T05:53:35.307021Z"
    },
    "code_folding": [
     0
    ]
   },
   "outputs": [],
   "source": [
    "# # Get prediction statistics (used before cross-val)\n",
    "# y_pred = model.predict(X_test)\n",
    "# print('Confusion matrix: \\n', confusion_matrix(y_test, y_pred))\n",
    "# print('\\nReport: \\n', classification_report(y_test, y_pred, digits=3))\n",
    "\n",
    "# print(f'Mean accuracy on test set: {model.score(X_test, y_test):.2%}')\n",
    "\n",
    "# y_prob = model.predict_proba(X_test)\n",
    "# print(f'Mean certainty (even if wrong): {np.mean(np.max(y_prob, axis=1)):.2%}')"
   ]
  },
  {
   "cell_type": "markdown",
   "id": "ec4488ca",
   "metadata": {
    "heading_collapsed": true
   },
   "source": [
    "#### Categorical NB"
   ]
  },
  {
   "cell_type": "code",
   "execution_count": 55,
   "id": "4cc285c6",
   "metadata": {
    "ExecuteTime": {
     "end_time": "2021-09-16T16:08:00.861717Z",
     "start_time": "2021-09-16T16:08:00.848702Z"
    },
    "hidden": true
   },
   "outputs": [],
   "source": [
    "model = CategoricalNB() # does not work\n",
    "# model.fit(X_train, y_train) # used before cross-val\n",
    "# acc_strat, y_pred = Train_stratCV(model, X, y, 5, seed) # not working"
   ]
  },
  {
   "cell_type": "code",
   "execution_count": 1,
   "id": "903986a5",
   "metadata": {
    "ExecuteTime": {
     "end_time": "2022-02-13T19:21:11.005752Z",
     "start_time": "2022-02-13T19:21:10.987750Z"
    },
    "code_folding": [
     0
    ],
    "hidden": true
   },
   "outputs": [],
   "source": [
    "# # Get prediction statistics (used before cross-val)\n",
    "# y_pred = model.predict(X_test)\n",
    "# print('Confusion matrix: \\n', confusion_matrix(y_test, y_pred))\n",
    "# print('\\nReport: \\n', classification_report(y_test, y_pred, digits=3))\n",
    "\n",
    "# print(f'Mean accuracy on test set: {model.score(X_test, y_test):.2%}')\n",
    "\n",
    "# y_prob = model.predict_proba(X_test)\n",
    "# print(f'Mean certainty (even if wrong): {np.mean(np.max(y_prob, axis=1)):.2%}')"
   ]
  },
  {
   "cell_type": "markdown",
   "id": "3bafde67",
   "metadata": {},
   "source": [
    "### Decision tree"
   ]
  },
  {
   "cell_type": "code",
   "execution_count": 18,
   "id": "2b662887",
   "metadata": {
    "ExecuteTime": {
     "end_time": "2021-11-20T04:04:40.866272Z",
     "start_time": "2021-11-20T04:04:39.913160Z"
    }
   },
   "outputs": [
    {
     "name": "stdout",
     "output_type": "stream",
     "text": [
      "\n",
      "List of accuracies: [0.581, 0.579, 0.587, 0.5865, 0.5565]\n",
      "Min/max accuracy:   55.65% <---> 58.70%\n",
      "Mean accuracy:      57.80% +- 1.118%\n"
     ]
    },
    {
     "data": {
      "text/plain": [
       "(5, 9)"
      ]
     },
     "execution_count": 18,
     "metadata": {},
     "output_type": "execute_result"
    }
   ],
   "source": [
    "model = DecisionTreeClassifier(max_depth=None,\n",
    "                               max_features=89,\n",
    "                               max_leaf_nodes=9,\n",
    "                               min_impurity_decrease=0.,\n",
    "                               random_state=seed)\n",
    "\n",
    "acc_strat, y_pred = Train_stratCV(model, X, y, 5, seed)\n",
    "# cross_val_score(model, X, y, cv=5, n_jobs=-1, verbose=1)\n",
    "\n",
    "model.get_depth(), model.get_n_leaves()"
   ]
  },
  {
   "cell_type": "code",
   "execution_count": 77,
   "id": "8e8bd65c",
   "metadata": {
    "ExecuteTime": {
     "end_time": "2021-11-20T04:38:26.693811Z",
     "start_time": "2021-11-20T04:38:26.169398Z"
    },
    "scrolled": true
   },
   "outputs": [
    {
     "data": {
      "image/svg+xml": [
       "<?xml version=\"1.0\" encoding=\"UTF-8\" standalone=\"no\"?>\n",
       "<!DOCTYPE svg PUBLIC \"-//W3C//DTD SVG 1.1//EN\"\n",
       " \"http://www.w3.org/Graphics/SVG/1.1/DTD/svg11.dtd\">\n",
       "<!-- Generated by graphviz version 2.49.3 (0)\n",
       " -->\n",
       "<!-- Title: Tree Pages: 1 -->\n",
       "<svg width=\"967pt\" height=\"671pt\"\n",
       " viewBox=\"0.00 0.00 967.00 671.00\" xmlns=\"http://www.w3.org/2000/svg\" xmlns:xlink=\"http://www.w3.org/1999/xlink\">\n",
       "<g id=\"graph0\" class=\"graph\" transform=\"scale(1 1) rotate(0) translate(4 667)\">\n",
       "<title>Tree</title>\n",
       "<polygon fill=\"white\" stroke=\"transparent\" points=\"-4,4 -4,-667 963,-667 963,4 -4,4\"/>\n",
       "<!-- 0 -->\n",
       "<g id=\"node1\" class=\"node\">\n",
       "<title>0</title>\n",
       "<path fill=\"#fefeff\" stroke=\"black\" d=\"M578,-663C578,-663 458,-663 458,-663 452,-663 446,-657 446,-651 446,-651 446,-592 446,-592 446,-586 452,-580 458,-580 458,-580 578,-580 578,-580 584,-580 590,-586 590,-592 590,-592 590,-651 590,-651 590,-657 584,-663 578,-663\"/>\n",
       "<text text-anchor=\"start\" x=\"476.5\" y=\"-647.8\" font-family=\"Helvetica,sans-Serif\" font-size=\"14.00\">1+1_24 ≤ 6.5</text>\n",
       "<text text-anchor=\"start\" x=\"489\" y=\"-632.8\" font-family=\"Helvetica,sans-Serif\" font-size=\"14.00\">gini = 0.5</text>\n",
       "<text text-anchor=\"start\" x=\"468\" y=\"-617.8\" font-family=\"Helvetica,sans-Serif\" font-size=\"14.00\">samples = 8000</text>\n",
       "<text text-anchor=\"start\" x=\"454\" y=\"-602.8\" font-family=\"Helvetica,sans-Serif\" font-size=\"14.00\">value = [3988, 4012]</text>\n",
       "<text text-anchor=\"start\" x=\"490\" y=\"-587.8\" font-family=\"Helvetica,sans-Serif\" font-size=\"14.00\">class = 1</text>\n",
       "</g>\n",
       "<!-- 1 -->\n",
       "<g id=\"node2\" class=\"node\">\n",
       "<title>1</title>\n",
       "<path fill=\"#ecf6fc\" stroke=\"black\" d=\"M497,-544C497,-544 377,-544 377,-544 371,-544 365,-538 365,-532 365,-532 365,-473 365,-473 365,-467 371,-461 377,-461 377,-461 497,-461 497,-461 503,-461 509,-467 509,-473 509,-473 509,-532 509,-532 509,-538 503,-544 497,-544\"/>\n",
       "<text text-anchor=\"start\" x=\"393\" y=\"-528.8\" font-family=\"Helvetica,sans-Serif\" font-size=\"14.00\">1*1_24 ≤ 12.5</text>\n",
       "<text text-anchor=\"start\" x=\"400.5\" y=\"-513.8\" font-family=\"Helvetica,sans-Serif\" font-size=\"14.00\">gini = 0.499</text>\n",
       "<text text-anchor=\"start\" x=\"387\" y=\"-498.8\" font-family=\"Helvetica,sans-Serif\" font-size=\"14.00\">samples = 4609</text>\n",
       "<text text-anchor=\"start\" x=\"373\" y=\"-483.8\" font-family=\"Helvetica,sans-Serif\" font-size=\"14.00\">value = [2188, 2421]</text>\n",
       "<text text-anchor=\"start\" x=\"409\" y=\"-468.8\" font-family=\"Helvetica,sans-Serif\" font-size=\"14.00\">class = 1</text>\n",
       "</g>\n",
       "<!-- 0&#45;&gt;1 -->\n",
       "<g id=\"edge1\" class=\"edge\">\n",
       "<title>0&#45;&gt;1</title>\n",
       "<path fill=\"none\" stroke=\"black\" d=\"M489.9,-579.91C483.74,-571.01 477.16,-561.51 470.81,-552.33\"/>\n",
       "<polygon fill=\"black\" stroke=\"black\" points=\"473.62,-550.25 465.05,-544.02 467.87,-554.24 473.62,-550.25\"/>\n",
       "<text text-anchor=\"middle\" x=\"460.58\" y=\"-564.92\" font-family=\"Helvetica,sans-Serif\" font-size=\"14.00\">True</text>\n",
       "</g>\n",
       "<!-- 2 -->\n",
       "<g id=\"node11\" class=\"node\">\n",
       "<title>2</title>\n",
       "<path fill=\"#fcf0e8\" stroke=\"black\" d=\"M659,-544C659,-544 539,-544 539,-544 533,-544 527,-538 527,-532 527,-532 527,-473 527,-473 527,-467 533,-461 539,-461 539,-461 659,-461 659,-461 665,-461 671,-467 671,-473 671,-473 671,-532 671,-532 671,-538 665,-544 659,-544\"/>\n",
       "<text text-anchor=\"start\" x=\"555\" y=\"-528.8\" font-family=\"Helvetica,sans-Serif\" font-size=\"14.00\">1*1_24 ≤ 14.5</text>\n",
       "<text text-anchor=\"start\" x=\"562.5\" y=\"-513.8\" font-family=\"Helvetica,sans-Serif\" font-size=\"14.00\">gini = 0.498</text>\n",
       "<text text-anchor=\"start\" x=\"549\" y=\"-498.8\" font-family=\"Helvetica,sans-Serif\" font-size=\"14.00\">samples = 3391</text>\n",
       "<text text-anchor=\"start\" x=\"535\" y=\"-483.8\" font-family=\"Helvetica,sans-Serif\" font-size=\"14.00\">value = [1800, 1591]</text>\n",
       "<text text-anchor=\"start\" x=\"571\" y=\"-468.8\" font-family=\"Helvetica,sans-Serif\" font-size=\"14.00\">class = 0</text>\n",
       "</g>\n",
       "<!-- 0&#45;&gt;2 -->\n",
       "<g id=\"edge10\" class=\"edge\">\n",
       "<title>0&#45;&gt;2</title>\n",
       "<path fill=\"none\" stroke=\"black\" d=\"M546.1,-579.91C552.26,-571.01 558.84,-561.51 565.19,-552.33\"/>\n",
       "<polygon fill=\"black\" stroke=\"black\" points=\"568.13,-554.24 570.95,-544.02 562.38,-550.25 568.13,-554.24\"/>\n",
       "<text text-anchor=\"middle\" x=\"575.42\" y=\"-564.92\" font-family=\"Helvetica,sans-Serif\" font-size=\"14.00\">False</text>\n",
       "</g>\n",
       "<!-- 3 -->\n",
       "<g id=\"node3\" class=\"node\">\n",
       "<title>3</title>\n",
       "<path fill=\"#fffdfb\" stroke=\"black\" d=\"M347,-425C347,-425 227,-425 227,-425 221,-425 215,-419 215,-413 215,-413 215,-354 215,-354 215,-348 221,-342 227,-342 227,-342 347,-342 347,-342 353,-342 359,-348 359,-354 359,-354 359,-413 359,-413 359,-419 353,-425 347,-425\"/>\n",
       "<text text-anchor=\"start\" x=\"245.5\" y=\"-409.8\" font-family=\"Helvetica,sans-Serif\" font-size=\"14.00\">1+1_24 ≤ 5.5</text>\n",
       "<text text-anchor=\"start\" x=\"258\" y=\"-394.8\" font-family=\"Helvetica,sans-Serif\" font-size=\"14.00\">gini = 0.5</text>\n",
       "<text text-anchor=\"start\" x=\"237\" y=\"-379.8\" font-family=\"Helvetica,sans-Serif\" font-size=\"14.00\">samples = 3332</text>\n",
       "<text text-anchor=\"start\" x=\"223\" y=\"-364.8\" font-family=\"Helvetica,sans-Serif\" font-size=\"14.00\">value = [1682, 1650]</text>\n",
       "<text text-anchor=\"start\" x=\"259\" y=\"-349.8\" font-family=\"Helvetica,sans-Serif\" font-size=\"14.00\">class = 0</text>\n",
       "</g>\n",
       "<!-- 1&#45;&gt;3 -->\n",
       "<g id=\"edge2\" class=\"edge\">\n",
       "<title>1&#45;&gt;3</title>\n",
       "<path fill=\"none\" stroke=\"black\" d=\"M384.96,-460.91C372.74,-451.38 359.63,-441.15 347.09,-431.37\"/>\n",
       "<polygon fill=\"black\" stroke=\"black\" points=\"348.99,-428.41 338.95,-425.02 344.68,-433.93 348.99,-428.41\"/>\n",
       "</g>\n",
       "<!-- 4 -->\n",
       "<g id=\"node10\" class=\"node\">\n",
       "<title>4</title>\n",
       "<path fill=\"#bbddf6\" stroke=\"black\" d=\"M493,-417.5C493,-417.5 389,-417.5 389,-417.5 383,-417.5 377,-411.5 377,-405.5 377,-405.5 377,-361.5 377,-361.5 377,-355.5 383,-349.5 389,-349.5 389,-349.5 493,-349.5 493,-349.5 499,-349.5 505,-355.5 505,-361.5 505,-361.5 505,-405.5 505,-405.5 505,-411.5 499,-417.5 493,-417.5\"/>\n",
       "<text text-anchor=\"start\" x=\"404.5\" y=\"-402.3\" font-family=\"Helvetica,sans-Serif\" font-size=\"14.00\">gini = 0.478</text>\n",
       "<text text-anchor=\"start\" x=\"391\" y=\"-387.3\" font-family=\"Helvetica,sans-Serif\" font-size=\"14.00\">samples = 1277</text>\n",
       "<text text-anchor=\"start\" x=\"385\" y=\"-372.3\" font-family=\"Helvetica,sans-Serif\" font-size=\"14.00\">value = [506, 771]</text>\n",
       "<text text-anchor=\"start\" x=\"413\" y=\"-357.3\" font-family=\"Helvetica,sans-Serif\" font-size=\"14.00\">class = 1</text>\n",
       "</g>\n",
       "<!-- 1&#45;&gt;4 -->\n",
       "<g id=\"edge9\" class=\"edge\">\n",
       "<title>1&#45;&gt;4</title>\n",
       "<path fill=\"none\" stroke=\"black\" d=\"M438.39,-460.91C438.75,-450.2 439.15,-438.62 439.52,-427.78\"/>\n",
       "<polygon fill=\"black\" stroke=\"black\" points=\"443.02,-427.78 439.87,-417.67 436.03,-427.54 443.02,-427.78\"/>\n",
       "</g>\n",
       "<!-- 7 -->\n",
       "<g id=\"node4\" class=\"node\">\n",
       "<title>7</title>\n",
       "<path fill=\"#eaf5fc\" stroke=\"black\" d=\"M269.5,-306C269.5,-306 150.5,-306 150.5,-306 144.5,-306 138.5,-300 138.5,-294 138.5,-294 138.5,-235 138.5,-235 138.5,-229 144.5,-223 150.5,-223 150.5,-223 269.5,-223 269.5,-223 275.5,-223 281.5,-229 281.5,-235 281.5,-235 281.5,-294 281.5,-294 281.5,-300 275.5,-306 269.5,-306\"/>\n",
       "<text text-anchor=\"start\" x=\"166\" y=\"-290.8\" font-family=\"Helvetica,sans-Serif\" font-size=\"14.00\">1*1_24 ≤ 10.5</text>\n",
       "<text text-anchor=\"start\" x=\"173.5\" y=\"-275.8\" font-family=\"Helvetica,sans-Serif\" font-size=\"14.00\">gini = 0.498</text>\n",
       "<text text-anchor=\"start\" x=\"160\" y=\"-260.8\" font-family=\"Helvetica,sans-Serif\" font-size=\"14.00\">samples = 2237</text>\n",
       "<text text-anchor=\"start\" x=\"146.5\" y=\"-245.8\" font-family=\"Helvetica,sans-Serif\" font-size=\"14.00\">value = [1057, 1180]</text>\n",
       "<text text-anchor=\"start\" x=\"182\" y=\"-230.8\" font-family=\"Helvetica,sans-Serif\" font-size=\"14.00\">class = 1</text>\n",
       "</g>\n",
       "<!-- 3&#45;&gt;7 -->\n",
       "<g id=\"edge3\" class=\"edge\">\n",
       "<title>3&#45;&gt;7</title>\n",
       "<path fill=\"none\" stroke=\"black\" d=\"M260.29,-341.91C254.49,-333.1 248.3,-323.7 242.32,-314.61\"/>\n",
       "<polygon fill=\"black\" stroke=\"black\" points=\"245.09,-312.45 236.67,-306.02 239.24,-316.3 245.09,-312.45\"/>\n",
       "</g>\n",
       "<!-- 8 -->\n",
       "<g id=\"node9\" class=\"node\">\n",
       "<title>8</title>\n",
       "<path fill=\"#f9e0ce\" stroke=\"black\" d=\"M416,-298.5C416,-298.5 312,-298.5 312,-298.5 306,-298.5 300,-292.5 300,-286.5 300,-286.5 300,-242.5 300,-242.5 300,-236.5 306,-230.5 312,-230.5 312,-230.5 416,-230.5 416,-230.5 422,-230.5 428,-236.5 428,-242.5 428,-242.5 428,-286.5 428,-286.5 428,-292.5 422,-298.5 416,-298.5\"/>\n",
       "<text text-anchor=\"start\" x=\"331.5\" y=\"-283.3\" font-family=\"Helvetica,sans-Serif\" font-size=\"14.00\">gini = 0.49</text>\n",
       "<text text-anchor=\"start\" x=\"314\" y=\"-268.3\" font-family=\"Helvetica,sans-Serif\" font-size=\"14.00\">samples = 1095</text>\n",
       "<text text-anchor=\"start\" x=\"308\" y=\"-253.3\" font-family=\"Helvetica,sans-Serif\" font-size=\"14.00\">value = [625, 470]</text>\n",
       "<text text-anchor=\"start\" x=\"336\" y=\"-238.3\" font-family=\"Helvetica,sans-Serif\" font-size=\"14.00\">class = 0</text>\n",
       "</g>\n",
       "<!-- 3&#45;&gt;8 -->\n",
       "<g id=\"edge8\" class=\"edge\">\n",
       "<title>3&#45;&gt;8</title>\n",
       "<path fill=\"none\" stroke=\"black\" d=\"M313.71,-341.91C321.12,-330.65 329.17,-318.42 336.62,-307.11\"/>\n",
       "<polygon fill=\"black\" stroke=\"black\" points=\"339.6,-308.94 342.17,-298.67 333.75,-305.1 339.6,-308.94\"/>\n",
       "</g>\n",
       "<!-- 9 -->\n",
       "<g id=\"node5\" class=\"node\">\n",
       "<title>9</title>\n",
       "<path fill=\"#fceee5\" stroke=\"black\" d=\"M189,-187C189,-187 85,-187 85,-187 79,-187 73,-181 73,-175 73,-175 73,-116 73,-116 73,-110 79,-104 85,-104 85,-104 189,-104 189,-104 195,-104 201,-110 201,-116 201,-116 201,-175 201,-175 201,-181 195,-187 189,-187\"/>\n",
       "<text text-anchor=\"start\" x=\"97\" y=\"-171.8\" font-family=\"Helvetica,sans-Serif\" font-size=\"14.00\">1*1_24 ≤ 9.5</text>\n",
       "<text text-anchor=\"start\" x=\"100.5\" y=\"-156.8\" font-family=\"Helvetica,sans-Serif\" font-size=\"14.00\">gini = 0.497</text>\n",
       "<text text-anchor=\"start\" x=\"87\" y=\"-141.8\" font-family=\"Helvetica,sans-Serif\" font-size=\"14.00\">samples = 1342</text>\n",
       "<text text-anchor=\"start\" x=\"81\" y=\"-126.8\" font-family=\"Helvetica,sans-Serif\" font-size=\"14.00\">value = [719, 623]</text>\n",
       "<text text-anchor=\"start\" x=\"109\" y=\"-111.8\" font-family=\"Helvetica,sans-Serif\" font-size=\"14.00\">class = 0</text>\n",
       "</g>\n",
       "<!-- 7&#45;&gt;9 -->\n",
       "<g id=\"edge4\" class=\"edge\">\n",
       "<title>7&#45;&gt;9</title>\n",
       "<path fill=\"none\" stroke=\"black\" d=\"M184.67,-222.91C179.18,-214.1 173.31,-204.7 167.64,-195.61\"/>\n",
       "<polygon fill=\"black\" stroke=\"black\" points=\"170.55,-193.65 162.28,-187.02 164.61,-197.36 170.55,-193.65\"/>\n",
       "</g>\n",
       "<!-- 10 -->\n",
       "<g id=\"node8\" class=\"node\">\n",
       "<title>10</title>\n",
       "<path fill=\"#b1d8f5\" stroke=\"black\" d=\"M335,-179.5C335,-179.5 231,-179.5 231,-179.5 225,-179.5 219,-173.5 219,-167.5 219,-167.5 219,-123.5 219,-123.5 219,-117.5 225,-111.5 231,-111.5 231,-111.5 335,-111.5 335,-111.5 341,-111.5 347,-117.5 347,-123.5 347,-123.5 347,-167.5 347,-167.5 347,-173.5 341,-179.5 335,-179.5\"/>\n",
       "<text text-anchor=\"start\" x=\"250.5\" y=\"-164.3\" font-family=\"Helvetica,sans-Serif\" font-size=\"14.00\">gini = 0.47</text>\n",
       "<text text-anchor=\"start\" x=\"237\" y=\"-149.3\" font-family=\"Helvetica,sans-Serif\" font-size=\"14.00\">samples = 895</text>\n",
       "<text text-anchor=\"start\" x=\"227\" y=\"-134.3\" font-family=\"Helvetica,sans-Serif\" font-size=\"14.00\">value = [338, 557]</text>\n",
       "<text text-anchor=\"start\" x=\"255\" y=\"-119.3\" font-family=\"Helvetica,sans-Serif\" font-size=\"14.00\">class = 1</text>\n",
       "</g>\n",
       "<!-- 7&#45;&gt;10 -->\n",
       "<g id=\"edge7\" class=\"edge\">\n",
       "<title>7&#45;&gt;10</title>\n",
       "<path fill=\"none\" stroke=\"black\" d=\"M235.33,-222.91C242.28,-211.76 249.83,-199.66 256.83,-188.44\"/>\n",
       "<polygon fill=\"black\" stroke=\"black\" points=\"259.98,-190 262.31,-179.67 254.04,-186.3 259.98,-190\"/>\n",
       "</g>\n",
       "<!-- 15 -->\n",
       "<g id=\"node6\" class=\"node\">\n",
       "<title>15</title>\n",
       "<path fill=\"#eff7fd\" stroke=\"black\" d=\"M116,-68C116,-68 12,-68 12,-68 6,-68 0,-62 0,-56 0,-56 0,-12 0,-12 0,-6 6,0 12,0 12,0 116,0 116,0 122,0 128,-6 128,-12 128,-12 128,-56 128,-56 128,-62 122,-68 116,-68\"/>\n",
       "<text text-anchor=\"start\" x=\"27.5\" y=\"-52.8\" font-family=\"Helvetica,sans-Serif\" font-size=\"14.00\">gini = 0.499</text>\n",
       "<text text-anchor=\"start\" x=\"18\" y=\"-37.8\" font-family=\"Helvetica,sans-Serif\" font-size=\"14.00\">samples = 673</text>\n",
       "<text text-anchor=\"start\" x=\"8\" y=\"-22.8\" font-family=\"Helvetica,sans-Serif\" font-size=\"14.00\">value = [322, 351]</text>\n",
       "<text text-anchor=\"start\" x=\"36\" y=\"-7.8\" font-family=\"Helvetica,sans-Serif\" font-size=\"14.00\">class = 1</text>\n",
       "</g>\n",
       "<!-- 9&#45;&gt;15 -->\n",
       "<g id=\"edge5\" class=\"edge\">\n",
       "<title>9&#45;&gt;15</title>\n",
       "<path fill=\"none\" stroke=\"black\" d=\"M109.82,-103.73C103.92,-94.88 97.67,-85.51 91.75,-76.63\"/>\n",
       "<polygon fill=\"black\" stroke=\"black\" points=\"94.66,-74.68 86.2,-68.3 88.83,-78.56 94.66,-74.68\"/>\n",
       "</g>\n",
       "<!-- 16 -->\n",
       "<g id=\"node7\" class=\"node\">\n",
       "<title>16</title>\n",
       "<path fill=\"#f7d7c1\" stroke=\"black\" d=\"M262,-68C262,-68 158,-68 158,-68 152,-68 146,-62 146,-56 146,-56 146,-12 146,-12 146,-6 152,0 158,0 158,0 262,0 262,0 268,0 274,-6 274,-12 274,-12 274,-56 274,-56 274,-62 268,-68 262,-68\"/>\n",
       "<text text-anchor=\"start\" x=\"173.5\" y=\"-52.8\" font-family=\"Helvetica,sans-Serif\" font-size=\"14.00\">gini = 0.483</text>\n",
       "<text text-anchor=\"start\" x=\"164\" y=\"-37.8\" font-family=\"Helvetica,sans-Serif\" font-size=\"14.00\">samples = 669</text>\n",
       "<text text-anchor=\"start\" x=\"154\" y=\"-22.8\" font-family=\"Helvetica,sans-Serif\" font-size=\"14.00\">value = [397, 272]</text>\n",
       "<text text-anchor=\"start\" x=\"182\" y=\"-7.8\" font-family=\"Helvetica,sans-Serif\" font-size=\"14.00\">class = 0</text>\n",
       "</g>\n",
       "<!-- 9&#45;&gt;16 -->\n",
       "<g id=\"edge6\" class=\"edge\">\n",
       "<title>9&#45;&gt;16</title>\n",
       "<path fill=\"none\" stroke=\"black\" d=\"M164.18,-103.73C170.08,-94.88 176.33,-85.51 182.25,-76.63\"/>\n",
       "<polygon fill=\"black\" stroke=\"black\" points=\"185.17,-78.56 187.8,-68.3 179.34,-74.68 185.17,-78.56\"/>\n",
       "</g>\n",
       "<!-- 5 -->\n",
       "<g id=\"node12\" class=\"node\">\n",
       "<title>5</title>\n",
       "<path fill=\"#f7d7bf\" stroke=\"black\" d=\"M647,-417.5C647,-417.5 543,-417.5 543,-417.5 537,-417.5 531,-411.5 531,-405.5 531,-405.5 531,-361.5 531,-361.5 531,-355.5 537,-349.5 543,-349.5 543,-349.5 647,-349.5 647,-349.5 653,-349.5 659,-355.5 659,-361.5 659,-361.5 659,-405.5 659,-405.5 659,-411.5 653,-417.5 647,-417.5\"/>\n",
       "<text text-anchor=\"start\" x=\"558.5\" y=\"-402.3\" font-family=\"Helvetica,sans-Serif\" font-size=\"14.00\">gini = 0.482</text>\n",
       "<text text-anchor=\"start\" x=\"545\" y=\"-387.3\" font-family=\"Helvetica,sans-Serif\" font-size=\"14.00\">samples = 1212</text>\n",
       "<text text-anchor=\"start\" x=\"539\" y=\"-372.3\" font-family=\"Helvetica,sans-Serif\" font-size=\"14.00\">value = [722, 490]</text>\n",
       "<text text-anchor=\"start\" x=\"567\" y=\"-357.3\" font-family=\"Helvetica,sans-Serif\" font-size=\"14.00\">class = 0</text>\n",
       "</g>\n",
       "<!-- 2&#45;&gt;5 -->\n",
       "<g id=\"edge11\" class=\"edge\">\n",
       "<title>2&#45;&gt;5</title>\n",
       "<path fill=\"none\" stroke=\"black\" d=\"M597.61,-460.91C597.25,-450.2 596.85,-438.62 596.48,-427.78\"/>\n",
       "<polygon fill=\"black\" stroke=\"black\" points=\"599.97,-427.54 596.13,-417.67 592.98,-427.78 599.97,-427.54\"/>\n",
       "</g>\n",
       "<!-- 6 -->\n",
       "<g id=\"node13\" class=\"node\">\n",
       "<title>6</title>\n",
       "<path fill=\"#fbfdfe\" stroke=\"black\" d=\"M808.5,-425C808.5,-425 689.5,-425 689.5,-425 683.5,-425 677.5,-419 677.5,-413 677.5,-413 677.5,-354 677.5,-354 677.5,-348 683.5,-342 689.5,-342 689.5,-342 808.5,-342 808.5,-342 814.5,-342 820.5,-348 820.5,-354 820.5,-354 820.5,-413 820.5,-413 820.5,-419 814.5,-425 808.5,-425\"/>\n",
       "<text text-anchor=\"start\" x=\"707.5\" y=\"-409.8\" font-family=\"Helvetica,sans-Serif\" font-size=\"14.00\">1+1_24 ≤ 7.5</text>\n",
       "<text text-anchor=\"start\" x=\"720\" y=\"-394.8\" font-family=\"Helvetica,sans-Serif\" font-size=\"14.00\">gini = 0.5</text>\n",
       "<text text-anchor=\"start\" x=\"699\" y=\"-379.8\" font-family=\"Helvetica,sans-Serif\" font-size=\"14.00\">samples = 2179</text>\n",
       "<text text-anchor=\"start\" x=\"685.5\" y=\"-364.8\" font-family=\"Helvetica,sans-Serif\" font-size=\"14.00\">value = [1078, 1101]</text>\n",
       "<text text-anchor=\"start\" x=\"721\" y=\"-349.8\" font-family=\"Helvetica,sans-Serif\" font-size=\"14.00\">class = 1</text>\n",
       "</g>\n",
       "<!-- 2&#45;&gt;6 -->\n",
       "<g id=\"edge12\" class=\"edge\">\n",
       "<title>2&#45;&gt;6</title>\n",
       "<path fill=\"none\" stroke=\"black\" d=\"M651.04,-460.91C663.26,-451.38 676.37,-441.15 688.91,-431.37\"/>\n",
       "<polygon fill=\"black\" stroke=\"black\" points=\"691.32,-433.93 697.05,-425.02 687.01,-428.41 691.32,-433.93\"/>\n",
       "</g>\n",
       "<!-- 11 -->\n",
       "<g id=\"node14\" class=\"node\">\n",
       "<title>11</title>\n",
       "<path fill=\"#cde6f8\" stroke=\"black\" d=\"M728,-298.5C728,-298.5 624,-298.5 624,-298.5 618,-298.5 612,-292.5 612,-286.5 612,-286.5 612,-242.5 612,-242.5 612,-236.5 618,-230.5 624,-230.5 624,-230.5 728,-230.5 728,-230.5 734,-230.5 740,-236.5 740,-242.5 740,-242.5 740,-286.5 740,-286.5 740,-292.5 734,-298.5 728,-298.5\"/>\n",
       "<text text-anchor=\"start\" x=\"643.5\" y=\"-283.3\" font-family=\"Helvetica,sans-Serif\" font-size=\"14.00\">gini = 0.49</text>\n",
       "<text text-anchor=\"start\" x=\"630\" y=\"-268.3\" font-family=\"Helvetica,sans-Serif\" font-size=\"14.00\">samples = 909</text>\n",
       "<text text-anchor=\"start\" x=\"620\" y=\"-253.3\" font-family=\"Helvetica,sans-Serif\" font-size=\"14.00\">value = [389, 520]</text>\n",
       "<text text-anchor=\"start\" x=\"648\" y=\"-238.3\" font-family=\"Helvetica,sans-Serif\" font-size=\"14.00\">class = 1</text>\n",
       "</g>\n",
       "<!-- 6&#45;&gt;11 -->\n",
       "<g id=\"edge13\" class=\"edge\">\n",
       "<title>6&#45;&gt;11</title>\n",
       "<path fill=\"none\" stroke=\"black\" d=\"M723.67,-341.91C716.72,-330.76 709.17,-318.66 702.17,-307.44\"/>\n",
       "<polygon fill=\"black\" stroke=\"black\" points=\"704.96,-305.3 696.69,-298.67 699.02,-309 704.96,-305.3\"/>\n",
       "</g>\n",
       "<!-- 12 -->\n",
       "<g id=\"node15\" class=\"node\">\n",
       "<title>12</title>\n",
       "<path fill=\"#fbebe0\" stroke=\"black\" d=\"M874,-306C874,-306 770,-306 770,-306 764,-306 758,-300 758,-294 758,-294 758,-235 758,-235 758,-229 764,-223 770,-223 770,-223 874,-223 874,-223 880,-223 886,-229 886,-235 886,-235 886,-294 886,-294 886,-300 880,-306 874,-306\"/>\n",
       "<text text-anchor=\"start\" x=\"778\" y=\"-290.8\" font-family=\"Helvetica,sans-Serif\" font-size=\"14.00\">1*1_23 ≤ 14.5</text>\n",
       "<text text-anchor=\"start\" x=\"785.5\" y=\"-275.8\" font-family=\"Helvetica,sans-Serif\" font-size=\"14.00\">gini = 0.496</text>\n",
       "<text text-anchor=\"start\" x=\"772\" y=\"-260.8\" font-family=\"Helvetica,sans-Serif\" font-size=\"14.00\">samples = 1270</text>\n",
       "<text text-anchor=\"start\" x=\"766\" y=\"-245.8\" font-family=\"Helvetica,sans-Serif\" font-size=\"14.00\">value = [689, 581]</text>\n",
       "<text text-anchor=\"start\" x=\"794\" y=\"-230.8\" font-family=\"Helvetica,sans-Serif\" font-size=\"14.00\">class = 0</text>\n",
       "</g>\n",
       "<!-- 6&#45;&gt;12 -->\n",
       "<g id=\"edge14\" class=\"edge\">\n",
       "<title>6&#45;&gt;12</title>\n",
       "<path fill=\"none\" stroke=\"black\" d=\"M774.33,-341.91C779.82,-333.1 785.69,-323.7 791.36,-314.61\"/>\n",
       "<polygon fill=\"black\" stroke=\"black\" points=\"794.39,-316.36 796.72,-306.02 788.45,-312.65 794.39,-316.36\"/>\n",
       "</g>\n",
       "<!-- 13 -->\n",
       "<g id=\"node16\" class=\"node\">\n",
       "<title>13</title>\n",
       "<path fill=\"#f4c8a9\" stroke=\"black\" d=\"M801,-179.5C801,-179.5 697,-179.5 697,-179.5 691,-179.5 685,-173.5 685,-167.5 685,-167.5 685,-123.5 685,-123.5 685,-117.5 691,-111.5 697,-111.5 697,-111.5 801,-111.5 801,-111.5 807,-111.5 813,-117.5 813,-123.5 813,-123.5 813,-167.5 813,-167.5 813,-173.5 807,-179.5 801,-179.5\"/>\n",
       "<text text-anchor=\"start\" x=\"712.5\" y=\"-164.3\" font-family=\"Helvetica,sans-Serif\" font-size=\"14.00\">gini = 0.461</text>\n",
       "<text text-anchor=\"start\" x=\"703\" y=\"-149.3\" font-family=\"Helvetica,sans-Serif\" font-size=\"14.00\">samples = 363</text>\n",
       "<text text-anchor=\"start\" x=\"693\" y=\"-134.3\" font-family=\"Helvetica,sans-Serif\" font-size=\"14.00\">value = [232, 131]</text>\n",
       "<text text-anchor=\"start\" x=\"721\" y=\"-119.3\" font-family=\"Helvetica,sans-Serif\" font-size=\"14.00\">class = 0</text>\n",
       "</g>\n",
       "<!-- 12&#45;&gt;13 -->\n",
       "<g id=\"edge15\" class=\"edge\">\n",
       "<title>12&#45;&gt;13</title>\n",
       "<path fill=\"none\" stroke=\"black\" d=\"M796.67,-222.91C789.72,-211.76 782.17,-199.66 775.17,-188.44\"/>\n",
       "<polygon fill=\"black\" stroke=\"black\" points=\"777.96,-186.3 769.69,-179.67 772.02,-190 777.96,-186.3\"/>\n",
       "</g>\n",
       "<!-- 14 -->\n",
       "<g id=\"node17\" class=\"node\">\n",
       "<title>14</title>\n",
       "<path fill=\"#fffdfc\" stroke=\"black\" d=\"M947,-179.5C947,-179.5 843,-179.5 843,-179.5 837,-179.5 831,-173.5 831,-167.5 831,-167.5 831,-123.5 831,-123.5 831,-117.5 837,-111.5 843,-111.5 843,-111.5 947,-111.5 947,-111.5 953,-111.5 959,-117.5 959,-123.5 959,-123.5 959,-167.5 959,-167.5 959,-173.5 953,-179.5 947,-179.5\"/>\n",
       "<text text-anchor=\"start\" x=\"866\" y=\"-164.3\" font-family=\"Helvetica,sans-Serif\" font-size=\"14.00\">gini = 0.5</text>\n",
       "<text text-anchor=\"start\" x=\"849\" y=\"-149.3\" font-family=\"Helvetica,sans-Serif\" font-size=\"14.00\">samples = 907</text>\n",
       "<text text-anchor=\"start\" x=\"839\" y=\"-134.3\" font-family=\"Helvetica,sans-Serif\" font-size=\"14.00\">value = [457, 450]</text>\n",
       "<text text-anchor=\"start\" x=\"867\" y=\"-119.3\" font-family=\"Helvetica,sans-Serif\" font-size=\"14.00\">class = 0</text>\n",
       "</g>\n",
       "<!-- 12&#45;&gt;14 -->\n",
       "<g id=\"edge16\" class=\"edge\">\n",
       "<title>12&#45;&gt;14</title>\n",
       "<path fill=\"none\" stroke=\"black\" d=\"M847.33,-222.91C854.28,-211.76 861.83,-199.66 868.83,-188.44\"/>\n",
       "<polygon fill=\"black\" stroke=\"black\" points=\"871.98,-190 874.31,-179.67 866.04,-186.3 871.98,-190\"/>\n",
       "</g>\n",
       "</g>\n",
       "</svg>\n"
      ],
      "text/plain": [
       "<graphviz.sources.Source at 0x240052a16a0>"
      ]
     },
     "execution_count": 77,
     "metadata": {},
     "output_type": "execute_result"
    }
   ],
   "source": [
    "from sklearn.tree import export_graphviz\n",
    "import graphviz\n",
    "\n",
    "dot_data = export_graphviz(model, feature_names=df.columns[:-1], class_names=['0','1'],\n",
    "                           filled=True, rounded=True, special_characters=True)\n",
    "# Draw tree\n",
    "graph = graphviz.Source(dot_data)\n",
    "graph.render('Docs/DTree_N_ops_per_row', format='png', cleanup=True)\n",
    "graph"
   ]
  }
 ],
 "metadata": {
  "kernelspec": {
   "display_name": "Python [conda env:thesis]",
   "language": "python",
   "name": "conda-env-thesis-py"
  },
  "language_info": {
   "codemirror_mode": {
    "name": "ipython",
    "version": 3
   },
   "file_extension": ".py",
   "mimetype": "text/x-python",
   "name": "python",
   "nbconvert_exporter": "python",
   "pygments_lexer": "ipython3",
   "version": "3.8.12"
  },
  "toc": {
   "base_numbering": 1,
   "nav_menu": {},
   "number_sections": true,
   "sideBar": true,
   "skip_h1_title": false,
   "title_cell": "Contents",
   "title_sidebar": "Contents",
   "toc_cell": false,
   "toc_position": {
    "height": "541.6px",
    "left": "37px",
    "top": "218.2px",
    "width": "216.2px"
   },
   "toc_section_display": true,
   "toc_window_display": true
  },
  "varInspector": {
   "cols": {
    "lenName": 16,
    "lenType": 16,
    "lenVar": 40
   },
   "kernels_config": {
    "python": {
     "delete_cmd_postfix": "",
     "delete_cmd_prefix": "del ",
     "library": "var_list.py",
     "varRefreshCmd": "print(var_dic_list())"
    },
    "r": {
     "delete_cmd_postfix": ") ",
     "delete_cmd_prefix": "rm(",
     "library": "var_list.r",
     "varRefreshCmd": "cat(var_dic_list()) "
    }
   },
   "oldHeight": 188.4,
   "position": {
    "height": "210.4px",
    "left": "1008px",
    "right": "20px",
    "top": "88px",
    "width": "516px"
   },
   "types_to_exclude": [
    "module",
    "function",
    "builtin_function_or_method",
    "instance",
    "_Feature"
   ],
   "varInspector_section_display": "block",
   "window_display": false
  }
 },
 "nbformat": 4,
 "nbformat_minor": 5
}
