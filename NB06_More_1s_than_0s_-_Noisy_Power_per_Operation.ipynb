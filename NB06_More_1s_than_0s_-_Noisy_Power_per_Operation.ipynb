{
 "cells": [
  {
   "cell_type": "code",
   "execution_count": 1,
   "id": "3c56d89b",
   "metadata": {
    "ExecuteTime": {
     "end_time": "2021-11-20T04:00:07.934237Z",
     "start_time": "2021-11-20T03:59:59.177153Z"
    }
   },
   "outputs": [
    {
     "name": "stderr",
     "output_type": "stream",
     "text": [
      "Intel(R) Extension for Scikit-learn* enabled (https://github.com/intel/scikit-learn-intelex)\n"
     ]
    }
   ],
   "source": [
    "import numpy as np\n",
    "import pandas as pd\n",
    "from pandas_profiling import ProfileReport\n",
    "import lux\n",
    "import matplotlib.pyplot as plt\n",
    "%matplotlib inline\n",
    "\n",
    "from sklearnex import patch_sklearn\n",
    "patch_sklearn()\n",
    "\n",
    "from sklearn.model_selection import train_test_split, StratifiedKFold, cross_val_score\n",
    "from sklearn.linear_model import SGDClassifier\n",
    "from sklearn.svm import SVC, LinearSVC\n",
    "from sklearn.naive_bayes import GaussianNB, MultinomialNB, CategoricalNB\n",
    "from sklearn.tree import DecisionTreeClassifier\n",
    "from sklearn.metrics import accuracy_score, confusion_matrix, classification_report\n",
    "\n",
    "np.set_printoptions(suppress=True) # do not print scientific notation\n",
    "\n",
    "# Set some matplotlib style parameters\n",
    "plt.style.use('seaborn')\n",
    "plt.rcParams.update({'figure.facecolor': 'white',\n",
    "                     'figure.edgecolor': 'white',\n",
    "                     'axes.grid': True,\n",
    "                     'figure.autolayout': True # tight_layout\n",
    "                    })\n",
    "\n",
    "# Set some pandas options\n",
    "pd.set_option('display.max_columns', None, # show x columns (None shows all)\n",
    "              # 'display.max_rows', None,  # show x rows (None shows all)\n",
    "              'compute.use_numba', True)   # turn off for Lux"
   ]
  },
  {
   "cell_type": "code",
   "execution_count": 2,
   "id": "10eaff45",
   "metadata": {
    "ExecuteTime": {
     "end_time": "2021-11-20T04:00:10.797315Z",
     "start_time": "2021-11-20T04:00:10.783843Z"
    }
   },
   "outputs": [],
   "source": [
    "seed = 42\n",
    "rng = np.random.default_rng(seed)\n",
    "\n",
    "n = secure_bits = 1         # rows\n",
    "m = corrected_key_bits = 10 # columns\n",
    "N_vec = 10000               # nº of corrected key vectors"
   ]
  },
  {
   "cell_type": "markdown",
   "id": "333ab43c",
   "metadata": {
    "ExecuteTime": {
     "end_time": "2021-08-05T19:00:12.884341Z",
     "start_time": "2021-08-05T19:00:12.870374Z"
    }
   },
   "source": [
    "## Functions"
   ]
  },
  {
   "cell_type": "markdown",
   "id": "f6c9c258",
   "metadata": {},
   "source": [
    "### Detect power consumption of basic operations"
   ]
  },
  {
   "cell_type": "code",
   "execution_count": 3,
   "id": "4461dfc5",
   "metadata": {
    "ExecuteTime": {
     "end_time": "2021-11-20T04:00:11.944741Z",
     "start_time": "2021-11-20T04:00:11.933782Z"
    },
    "code_folding": []
   },
   "outputs": [],
   "source": [
    "# def get_product_power(mat, vec, op_powers):\n",
    "#     '''\n",
    "#     Returns: count[0] -> 0*0 power\n",
    "#              count[1] -> 0*1 power\n",
    "#              count[2] -> 1*0 power\n",
    "#              count[3] -> 1*1 power\n",
    "#     '''\n",
    "#     n, m = mat.shape\n",
    "#     count = np.zeros((4, n, m))\n",
    "#     for i in range(n):\n",
    "#         for j in range(m):\n",
    "#             if not mat[i, j] and not vec[j]:\n",
    "#                 count[0, i, j] = 1\n",
    "#             if not mat[i, j] and vec[j]:\n",
    "#                 count[1, i, j] = 1\n",
    "#             if mat[i, j] and not vec[j]:\n",
    "#                 count[2, i, j] = 1\n",
    "#             if mat[i, j] and vec[j]:\n",
    "#                 count[3, i, j] = 1\n",
    "#     return np.asarray([(count[i] * power).ravel() for i, power in enumerate(op_powers)])\n",
    "\n",
    "# Cooler version :)\n",
    "def get_product_power(mat, vec, op_powers, noise_std=0.):\n",
    "    '''Returns: array with the power of each product.\n",
    "    Set noise_std = 0 to eliminate noise.'''\n",
    "    n, m = mat.shape\n",
    "    count = np.zeros((n, m))\n",
    "    for i in range(n):\n",
    "        for j in range(m):\n",
    "            count[i, j] = op_powers[2 * mat[i, j] + vec[j]] + rng.normal(scale=noise_std)\n",
    "    return count.ravel()"
   ]
  },
  {
   "cell_type": "code",
   "execution_count": 4,
   "id": "9a46243d",
   "metadata": {
    "ExecuteTime": {
     "end_time": "2021-11-20T04:00:12.430025Z",
     "start_time": "2021-11-20T04:00:12.408268Z"
    },
    "code_folding": []
   },
   "outputs": [],
   "source": [
    "# def get_sum_power(mat, vec, op_powers):\n",
    "#     '''\n",
    "#     Returns: count[0] -> 0+0 power\n",
    "#              count[1] -> 0+1 power\n",
    "#              count[2] -> 1+0 power\n",
    "#              count[3] -> 1+1 power\n",
    "#     '''\n",
    "#     n, m = mat.shape\n",
    "#     count = np.zeros((4, n, m))\n",
    "#     for i in range(n):\n",
    "#         result = 0\n",
    "#         for j in range(m):\n",
    "#             next_element = mat[i, j] * vec[j]\n",
    "#             if not result and not next_element:\n",
    "#                 count[0, i, j] = 1\n",
    "#             if not result and next_element:\n",
    "#                 count[1, i, j] = 1\n",
    "#             if result and not next_element:\n",
    "#                 count[2, i, j] = 1\n",
    "#             if result and next_element:\n",
    "#                 count[3, i, j] = 1\n",
    "#             result = (result + next_element) % 2\n",
    "#     return np.asarray([(count[i] * power).ravel() for i, power in enumerate(op_powers)])\n",
    "\n",
    "# Cooler version :)\n",
    "def get_sum_power(mat, vec, op_powers, noise_std=0.):\n",
    "    '''Returns: array with the power of each sum.\n",
    "    Set noise_std = 0 to eliminate noise.'''\n",
    "    n, m = mat.shape\n",
    "    count = np.zeros((n, m))\n",
    "    for i in range(n):\n",
    "        result = 0\n",
    "        for j in range(m):\n",
    "            next_element = mat[i, j] * vec[j]\n",
    "            count[i, j] = op_powers[2 * result + next_element] + rng.normal(scale=noise_std)\n",
    "            result = (result + next_element) % 2\n",
    "    return count.ravel()"
   ]
  },
  {
   "cell_type": "code",
   "execution_count": 5,
   "id": "e4ca7651",
   "metadata": {
    "ExecuteTime": {
     "end_time": "2021-11-20T04:00:12.838291Z",
     "start_time": "2021-11-20T04:00:12.833726Z"
    },
    "code_folding": [
     0
    ]
   },
   "outputs": [],
   "source": [
    "# # TEST\n",
    "# mat = np.asarray([[0, 1, 1, 0, 1],\n",
    "#                   [1, 0, 1, 1, 1],\n",
    "#                   [1, 1, 1, 1, 1],\n",
    "#                   [0, 0, 0, 0, 0]])\n",
    "# # vec = np.asarray([0, 0, 0, 0, 0])\n",
    "# # vec = np.asarray([1, 1, 1, 1, 1])\n",
    "# vec = np.asarray([1, 1, 1, 0, 0])\n",
    "# n, m = mat.shape\n",
    "\n",
    "# print(mat @ vec % 2, '\\n')\n",
    "# count = get_product_power(mat, vec, [.1, .2, .3, .4], 0.01)\n",
    "# for i in range(n): print(np.around(count[i*m:(i+1)*m], 3))\n",
    "# print()\n",
    "# count = get_sum_power(mat, vec, [1.1, 1.2, 1.3, 1.4], 0.01)\n",
    "# for i in range(n): print(np.around(count[i*m:(i+1)*m], 3))"
   ]
  },
  {
   "cell_type": "markdown",
   "id": "32abfb3a",
   "metadata": {},
   "source": [
    "### Class"
   ]
  },
  {
   "cell_type": "code",
   "execution_count": 6,
   "id": "ae72549a",
   "metadata": {
    "ExecuteTime": {
     "end_time": "2021-11-20T04:00:13.338322Z",
     "start_time": "2021-11-20T04:00:13.329023Z"
    },
    "code_folding": []
   },
   "outputs": [],
   "source": [
    "# Detect if there are more 1s than 0s\n",
    "def More_1_than_0(mat, vec):\n",
    "    return np.sum(mat @ vec % 2) > secure_bits / 2"
   ]
  },
  {
   "cell_type": "markdown",
   "id": "bfd3583e",
   "metadata": {},
   "source": [
    "### Other"
   ]
  },
  {
   "cell_type": "code",
   "execution_count": 7,
   "id": "93f0b421",
   "metadata": {
    "ExecuteTime": {
     "end_time": "2021-11-20T04:00:14.009540Z",
     "start_time": "2021-11-20T04:00:13.996467Z"
    }
   },
   "outputs": [],
   "source": [
    "# Check if output vectors from sample are unique\n",
    "def Check_uniqueness(mat, vec):\n",
    "    res = []\n",
    "    for i in range(len(vec)):\n",
    "        res.append(mat @ vec[i] % 2)\n",
    "    unique = np.unique(res, axis=0, return_counts=True)\n",
    "    return unique[1].shape[0] == np.shape(vec)[0], unique[1].shape[0]"
   ]
  },
  {
   "cell_type": "markdown",
   "id": "8ae9b25b",
   "metadata": {},
   "source": [
    "## Generate data"
   ]
  },
  {
   "cell_type": "code",
   "execution_count": 8,
   "id": "64ae1572",
   "metadata": {
    "ExecuteTime": {
     "end_time": "2021-11-20T04:00:14.956151Z",
     "start_time": "2021-11-20T04:00:14.936151Z"
    }
   },
   "outputs": [
    {
     "data": {
      "text/plain": [
       "((1, 10), array([[1, 0, 1, 0, 1, 1, 0, 1, 1, 1]], dtype=int8))"
      ]
     },
     "execution_count": 8,
     "metadata": {},
     "output_type": "execute_result"
    }
   ],
   "source": [
    "mat = rng.integers(2, size=(secure_bits,corrected_key_bits), dtype=np.int8)\n",
    "\n",
    "mat.shape, mat"
   ]
  },
  {
   "cell_type": "code",
   "execution_count": 9,
   "id": "d3a84273",
   "metadata": {
    "ExecuteTime": {
     "end_time": "2021-11-20T04:00:15.992706Z",
     "start_time": "2021-11-20T04:00:15.685096Z"
    }
   },
   "outputs": [
    {
     "data": {
      "text/plain": [
       "((10000, 10), array([0, 0, 0, 0, 0, 0, 1, 0, 1, 0], dtype=int8))"
      ]
     },
     "execution_count": 9,
     "metadata": {},
     "output_type": "execute_result"
    }
   ],
   "source": [
    "vec = [rng.integers(2, size=corrected_key_bits, dtype=np.int8) for _ in range(N_vec)]\n",
    "\n",
    "np.shape(vec), vec[0]"
   ]
  },
  {
   "cell_type": "code",
   "execution_count": 10,
   "id": "01ed0428",
   "metadata": {
    "ExecuteTime": {
     "end_time": "2021-11-20T02:21:37.471948Z",
     "start_time": "2021-11-20T02:21:37.396127Z"
    }
   },
   "outputs": [
    {
     "name": "stdout",
     "output_type": "stream",
     "text": [
      "Are solutions from this sample unique? False ---> 2 unique sols out of 10000\n"
     ]
    }
   ],
   "source": [
    "print('Are solutions from this sample unique? %s ---> %i unique sols out of %i' % (*Check_uniqueness(mat, vec), N_vec))"
   ]
  },
  {
   "cell_type": "markdown",
   "id": "309187e2",
   "metadata": {},
   "source": [
    "Assumptions on power consumption (based on https://ieeexplore.ieee.org/document/6644863):\n",
    "- NOT:\n",
    "    - 0 - 6.73 pA ~ 7 pA\n",
    "    - 1 - 7.45 pA ~ 7 pA\n",
    "- 2-input NOR:\n",
    "    - 00 - 13.50 pA\n",
    "    - 01 - 12.80 pA\n",
    "    - 10 - &nbsp; 7.93 pA\n",
    "    - 11 - &nbsp; 5.93 pA\n",
    "- 2-input NAND:\n",
    "    - 00 - &nbsp; 5.79 pA\n",
    "    - 01 - &nbsp; 7.00 pA\n",
    "    - 10 - 11.77 pA\n",
    "    - 11 - 14.91 pA\n",
    "\n",
    "Writing our operations in the gates above:\n",
    "- A\\*B &nbsp;= AND(A, B)\n",
    "= NOT(NAND(A, B))\n",
    "\n",
    "- A+B = XOR(A, B)\n",
    "= NOT(A<=>B)\n",
    "= NOT(AND(A->B, B->A))\n",
    "= NAND(A->B, B->A)\n",
    "= NAND(OR(NOT(A), B), OR(NOT(B), A)) =  \n",
    "&nbsp; &nbsp; &nbsp; &nbsp; = NAND(NOT(NOR(NOT(A), B)), NOT(NOR(NOT(B), A)))\n",
    "\n",
    "Thus:\n",
    "- 0\\*0: &nbsp; &nbsp; 5.79 + 7 = 12.79 pA\n",
    "- 0\\*1: &nbsp; &nbsp; 7.00 + 7 = 14.00 pA\n",
    "- 1\\*0: &nbsp; 11.77 + 7 = 18.77 pA\n",
    "- 1\\*1: &nbsp; 14.91 + 7 = 21.91 pA\n",
    "\n",
    "\n",
    "- 0+0: &nbsp; (7 + 7.93 + 7) + (7 + 7.93 + 7) + 14.91 = 58.77 pA\n",
    "- 0+1: &nbsp; (7 + 5.93 + 7) + (7 + 13.5 + 7) + 11.77 = 59.20 pA\n",
    "- 1+0: &nbsp; (7 + 13.5 + 7) + (7 + 5.93 + 7) + 7 &nbsp; &nbsp; &nbsp; &nbsp;= 54.43 pA\n",
    "- 1+1: &nbsp; (7 + 12.8 + 7) + (7 + 12.8 + 7) + 14.91 = 68.51 pA"
   ]
  },
  {
   "cell_type": "code",
   "execution_count": 10,
   "id": "5b228cb7",
   "metadata": {
    "ExecuteTime": {
     "end_time": "2021-11-20T04:00:19.110149Z",
     "start_time": "2021-11-20T04:00:19.099849Z"
    }
   },
   "outputs": [],
   "source": [
    "# Define power consumption for each operation & noise level\n",
    "power_products = np.asarray([12.79,  14., 18.77, 21.91]) # 0*0, 0*1, 1*0, 1*1\n",
    "power_sums     = np.asarray([58.77, 59.2, 54.43, 68.51]) # 0+0, 0+1, 1+0, 1+1\n",
    "noise_std = 0.05 + 0.5 # article measurement precision + hacker device noise"
   ]
  },
  {
   "cell_type": "code",
   "execution_count": 12,
   "id": "6e42c81d",
   "metadata": {
    "ExecuteTime": {
     "end_time": "2021-11-20T02:21:41.699859Z",
     "start_time": "2021-11-20T02:21:41.688581Z"
    },
    "scrolled": true
   },
   "outputs": [
    {
     "name": "stdout",
     "output_type": "stream",
     "text": [
      "Products: [18.9518 12.1148 19.7449 12.23   18.9559 18.6288 13.7632 19.1904 22.0445\n",
      " 19.0523]\n",
      "Sums:     [58.3214 58.6743 58.3468 58.6605 58.7047 59.7844 58.6273 57.6009 59.9673\n",
      " 54.6771]\n"
     ]
    }
   ],
   "source": [
    "i = 0\n",
    "print('Products:', np.around(get_product_power(mat, vec[i], power_products, noise_std), 4))\n",
    "print('Sums:    ', np.around(get_sum_power(mat, vec[i], power_sums, noise_std), 4))"
   ]
  },
  {
   "cell_type": "code",
   "execution_count": 13,
   "id": "007e2611",
   "metadata": {
    "ExecuteTime": {
     "end_time": "2021-11-20T02:21:44.129598Z",
     "start_time": "2021-11-20T02:21:44.116236Z"
    },
    "scrolled": true
   },
   "outputs": [
    {
     "name": "stdout",
     "output_type": "stream",
     "text": [
      "#1 > #0?\n",
      "--------\n",
      "True \t [1]\n",
      "True \t [1]\n",
      "False \t [0]\n",
      "False \t [0]\n",
      "True \t [1]\n",
      "True \t [1]\n",
      "False \t [0]\n",
      "True \t [1]\n",
      "False \t [0]\n",
      "False \t [0]\n"
     ]
    }
   ],
   "source": [
    "print(\"#1 > #0?\")\n",
    "print(\"--------\")\n",
    "for i in range(10):\n",
    "    print(More_1_than_0(mat, vec[i]), '\\t', mat @ vec[i] % 2)"
   ]
  },
  {
   "cell_type": "code",
   "execution_count": 11,
   "id": "8a79fed2",
   "metadata": {
    "ExecuteTime": {
     "end_time": "2021-11-20T04:00:25.441593Z",
     "start_time": "2021-11-20T04:00:22.446684Z"
    }
   },
   "outputs": [
    {
     "data": {
      "text/plain": [
       "(10000, 21)"
      ]
     },
     "execution_count": 11,
     "metadata": {},
     "output_type": "execute_result"
    }
   ],
   "source": [
    "# Warning: data is not time-ordered, i.e. row-by-row power\n",
    "data = np.asarray([[*get_product_power(mat, vec[i], power_products, noise_std),\n",
    "                    *get_sum_power(mat, vec[i], power_sums, noise_std),\n",
    "                    More_1_than_0(mat, vec[i])] for i in range(N_vec)])\n",
    "data.shape"
   ]
  },
  {
   "cell_type": "code",
   "execution_count": 12,
   "id": "c1a1cd57",
   "metadata": {
    "ExecuteTime": {
     "end_time": "2021-11-20T04:01:55.695188Z",
     "start_time": "2021-11-20T04:00:27.972239Z"
    },
    "scrolled": true
   },
   "outputs": [
    {
     "data": {
      "application/vnd.jupyter.widget-view+json": {
       "model_id": "ab9765f36a8a42ff8b86d32aaa8d52ef",
       "version_major": 2,
       "version_minor": 0
      },
      "text/plain": [
       "Button(description='Toggle Pandas/Lux', layout=Layout(top='5px', width='140px'), style=ButtonStyle())"
      ]
     },
     "metadata": {},
     "output_type": "display_data"
    },
    {
     "data": {
      "application/vnd.jupyter.widget-view+json": {
       "model_id": "3993dfe25dc1446ebf142adb2dbc2e73",
       "version_major": 2,
       "version_minor": 0
      },
      "text/plain": [
       "Output()"
      ]
     },
     "metadata": {},
     "output_type": "display_data"
    }
   ],
   "source": [
    "# Create column labels\n",
    "row_bits = [str(i // m)+','+str(i % m) for i in range(n * m)]\n",
    "columns = row_bits + ['+'+row_bits[i] for i in range(n * m)] + ['More_1_than_0']\n",
    "\n",
    "# Create dataframe for plotting raw data\n",
    "df_raw = pd.DataFrame(data, columns=columns).astype({'More_1_than_0': bool})\n",
    "df_raw.drop_duplicates(inplace=True, ignore_index=True)\n",
    "np.around(df_raw, 3)"
   ]
  },
  {
   "cell_type": "code",
   "execution_count": 13,
   "id": "af3814bd",
   "metadata": {
    "ExecuteTime": {
     "end_time": "2021-11-20T04:02:01.348809Z",
     "start_time": "2021-11-20T04:01:59.939914Z"
    },
    "scrolled": false
   },
   "outputs": [
    {
     "data": {
      "image/png": "[encoded data removed]",
      "text/plain": [
       "<Figure size 1152x288 with 1 Axes>"
      ]
     },
     "metadata": {},
     "output_type": "display_data"
    }
   ],
   "source": [
    "# Plot power consumption through time\n",
    "    # (need to separate operations into gates to be more realistic)\n",
    "y = df_raw.iloc[0][:-1]\n",
    "X = np.arange(len(y))\n",
    "\n",
    "# Plot line\n",
    "plt.figure(figsize=(16, 4))\n",
    "plt.plot(X, y, '-', label='Record 0') # colors: b,g,r,c,m,y,k,w\n",
    "plt.xlim(X.min(), X.max()*1.01)\n",
    "# plt.ylim(y.min()*0.95, y.max()*1.05)\n",
    "plt.xticks(np.linspace(0, len(y), len(df_raw.columns[::2])), df_raw.columns[::2])\n",
    "# plt.yticks(np.arange(10, 61, 10))\n",
    "\n",
    "# Set labels\n",
    "plt.legend(loc='lower right') # loc='best', 'upper right', 'lower left', ...\n",
    "plt.xlabel('Data point')\n",
    "plt.ylabel('Power consumption ($pA$)')\n",
    "# plt.title('Power consumption', fontsize=14)\n",
    "\n",
    "# plt.savefig('Results/plot_y.png', dpi=200)\n",
    "plt.show()"
   ]
  },
  {
   "cell_type": "code",
   "execution_count": 14,
   "id": "9d1ecbe7",
   "metadata": {
    "ExecuteTime": {
     "end_time": "2021-11-20T04:03:54.700161Z",
     "start_time": "2021-11-20T04:02:06.288479Z"
    },
    "scrolled": true
   },
   "outputs": [
    {
     "data": {
      "application/vnd.jupyter.widget-view+json": {
       "model_id": "50a66752a98448d093847bd49b3a4799",
       "version_major": 2,
       "version_minor": 0
      },
      "text/plain": [
       "Button(description='Toggle Pandas/Lux', layout=Layout(top='5px', width='140px'), style=ButtonStyle())"
      ]
     },
     "metadata": {},
     "output_type": "display_data"
    },
    {
     "data": {
      "application/vnd.jupyter.widget-view+json": {
       "model_id": "5ee074842e5142b29869a7c00a34872e",
       "version_major": 2,
       "version_minor": 0
      },
      "text/plain": [
       "Output()"
      ]
     },
     "metadata": {},
     "output_type": "display_data"
    }
   ],
   "source": [
    "# Create centered dataframe (for each operation)\n",
    "data[:, :n*m]      -= data[:, :n*m].mean(axis=1, keepdims=True)      # products\n",
    "data[:, n*m:2*n*m] -= data[:, n*m:2*n*m].mean(axis=1, keepdims=True) # sums\n",
    "\n",
    "df = pd.DataFrame(data, columns=columns).astype({'More_1_than_0': bool})\n",
    "df.drop_duplicates(inplace=True, ignore_index=True)\n",
    "np.around(df, 3)"
   ]
  },
  {
   "cell_type": "code",
   "execution_count": 15,
   "id": "1946b670",
   "metadata": {
    "ExecuteTime": {
     "end_time": "2021-11-20T04:03:58.748271Z",
     "start_time": "2021-11-20T04:03:58.349993Z"
    },
    "code_folding": [
     0
    ]
   },
   "outputs": [
    {
     "data": {
      "image/png": "[encoded data removed]",
      "text/plain": [
       "<Figure size 1152x288 with 1 Axes>"
      ]
     },
     "metadata": {},
     "output_type": "display_data"
    }
   ],
   "source": [
    "# Plot centered data: power consumption through time\n",
    "    # (need to separate operations into gates to be more realistic)\n",
    "y = df.iloc[0][:-1]\n",
    "X = np.arange(len(y))\n",
    "\n",
    "# Plot line\n",
    "plt.figure(figsize=(16, 4))\n",
    "plt.plot(X, y, '-', label='Record 0') # colors: b,g,r,c,m,y,k,w\n",
    "plt.xlim(X.min(), X.max()*1.01)\n",
    "# plt.ylim(y.min()*0.95, y.max()*1.05)\n",
    "plt.xticks(np.linspace(0, len(y), len(df.columns[::2])), df.columns[::2])\n",
    "# plt.yticks(np.arange(-4, 4, 2))\n",
    "\n",
    "# Set labels\n",
    "plt.legend(loc='lower right') # loc='best', 'upper right', 'lower left', ...\n",
    "plt.xlabel('Data point')\n",
    "plt.ylabel('Power consumption ($pA$)')\n",
    "# plt.title('Power consumption', fontsize=14)\n",
    "\n",
    "# plt.savefig('Results/plot_y.png', dpi=200)\n",
    "plt.show()"
   ]
  },
  {
   "cell_type": "code",
   "execution_count": 16,
   "id": "fa7067fe",
   "metadata": {
    "ExecuteTime": {
     "end_time": "2021-11-20T04:04:01.815202Z",
     "start_time": "2021-11-20T04:04:01.802513Z"
    },
    "code_folding": [
     0
    ],
    "scrolled": true
   },
   "outputs": [],
   "source": [
    "# # Drop columns with equal values (worthless with noise)\n",
    "# def duplicate_columns(df):\n",
    "#     groups = df.columns.to_series().groupby(df.dtypes).groups\n",
    "#     dups = []\n",
    "#     for t, v in groups.items():\n",
    "#         dcols = df[v].to_dict(orient='list')\n",
    "#         vs = list(dcols.values())\n",
    "#         ks = list(dcols.keys())\n",
    "#         for i in range(len(vs)):\n",
    "#             for j in range(i+1, len(vs)):\n",
    "#                 if vs[i] == vs[j]: \n",
    "#                     dups.append(ks[i])\n",
    "#                     break\n",
    "#     if dups: print('Duplicate columns:', *dups)\n",
    "#     return dups\n",
    "\n",
    "# df.drop(duplicate_columns(df), axis=1, inplace=True)\n",
    "# np.around(df, 3)"
   ]
  },
  {
   "cell_type": "code",
   "execution_count": 17,
   "id": "2e9b72f0",
   "metadata": {
    "ExecuteTime": {
     "end_time": "2021-11-20T04:04:26.171734Z",
     "start_time": "2021-11-20T04:04:04.827397Z"
    }
   },
   "outputs": [
    {
     "data": {
      "application/vnd.jupyter.widget-view+json": {
       "model_id": "de93500f3d9d42ac95a5541a2fc78d0f",
       "version_major": 2,
       "version_minor": 0
      },
      "text/plain": [
       "Button(description='Toggle Pandas/Lux', layout=Layout(top='5px', width='140px'), style=ButtonStyle())"
      ]
     },
     "metadata": {},
     "output_type": "display_data"
    },
    {
     "data": {
      "application/vnd.jupyter.widget-view+json": {
       "model_id": "f07dcdf343bf45c8be918cf48750d171",
       "version_major": 2,
       "version_minor": 0
      },
      "text/plain": [
       "Output()"
      ]
     },
     "metadata": {},
     "output_type": "display_data"
    }
   ],
   "source": [
    "# Check some trends in data (turn off numba engine first)\n",
    "pd.set_option('compute.use_numba', False)\n",
    "df2 = df.copy()\n",
    "df2.intent = ['More_1_than_0']\n",
    "display(df2)\n",
    "pd.set_option('compute.use_numba', True)"
   ]
  },
  {
   "cell_type": "code",
   "execution_count": 486,
   "id": "e2079e6b",
   "metadata": {
    "ExecuteTime": {
     "end_time": "2021-09-06T01:31:17.694856Z",
     "start_time": "2021-09-06T00:46:39.752756Z"
    },
    "collapsed": true
   },
   "outputs": [
    {
     "data": {
      "application/vnd.jupyter.widget-view+json": {
       "model_id": "958894d2c1c143c9bf0973aadeaac3bc",
       "version_major": 2,
       "version_minor": 0
      },
      "text/plain": [
       "Summarize dataset:   0%|          | 0/161 [00:00<?, ?it/s]"
      ]
     },
     "metadata": {},
     "output_type": "display_data"
    },
    {
     "name": "stderr",
     "output_type": "stream",
     "text": [
      "C:\\Users\\V082335\\Anaconda3\\lib\\site-packages\\pandas\\core\\series.py:1441: PerformanceWarning:DataFrame is highly fragmented.  This is usually the result of calling `frame.insert` many times, which has poor performance.  Consider using pd.concat instead.  To get a de-fragmented frame, use `newframe = frame.copy()`\n"
     ]
    },
    {
     "data": {
      "application/vnd.jupyter.widget-view+json": {
       "model_id": "e895d74947df4dd0b25737f37ccef8a6",
       "version_major": 2,
       "version_minor": 0
      },
      "text/plain": [
       "Generate report structure:   0%|          | 0/1 [00:00<?, ?it/s]"
      ]
     },
     "metadata": {},
     "output_type": "display_data"
    },
    {
     "data": {
      "application/vnd.jupyter.widget-view+json": {
       "model_id": "05ae27b53a03480f967565f18ec8c7bc",
       "version_major": 2,
       "version_minor": 0
      },
      "text/plain": [
       "Render HTML:   0%|          | 0/1 [00:00<?, ?it/s]"
      ]
     },
     "metadata": {},
     "output_type": "display_data"
    },
    {
     "data": {
      "application/vnd.jupyter.widget-view+json": {
       "model_id": "b37b6435ae9840428b47c55a0cbabba9",
       "version_major": 2,
       "version_minor": 0
      },
      "text/plain": [
       "Export report to file:   0%|          | 0/1 [00:00<?, ?it/s]"
      ]
     },
     "metadata": {},
     "output_type": "display_data"
    }
   ],
   "source": [
    "# Generate pandas profiling report\n",
    "profile = ProfileReport(df, title=f'More_1s_or_0s Noisy_Power_per_Op noise_std={noise_std} Dataset Report', explorative=True)\n",
    "# profile.to_widgets()\n",
    "profile.to_file(f'Docs/More_1s_or_0s_-_Noisy_Power_per_Op_noisestd={noise_std}_report.html')"
   ]
  },
  {
   "cell_type": "markdown",
   "id": "54d8e1a4",
   "metadata": {},
   "source": [
    "### Split data"
   ]
  },
  {
   "cell_type": "code",
   "execution_count": 18,
   "id": "0d8996cb",
   "metadata": {
    "ExecuteTime": {
     "end_time": "2021-11-20T04:04:29.389987Z",
     "start_time": "2021-11-20T04:04:29.378687Z"
    }
   },
   "outputs": [],
   "source": [
    "# Split data into training & test set\n",
    "X = np.asarray(df.drop('More_1_than_0', axis=1))\n",
    "y = np.asarray(df['More_1_than_0'])\n",
    "\n",
    "# X_train, X_test, y_train, y_test = train_test_split(X, y, test_size=0.2, random_state=seed) # used before cross-val"
   ]
  },
  {
   "cell_type": "markdown",
   "id": "6e0648c2",
   "metadata": {},
   "source": [
    "## Classifiers"
   ]
  },
  {
   "cell_type": "markdown",
   "id": "f7f088ea",
   "metadata": {},
   "source": [
    "### Logs"
   ]
  },
  {
   "cell_type": "markdown",
   "id": "00a31be3",
   "metadata": {},
   "source": [
    "###### Noise std. dev. <= 0.1\n",
    "Models able to to predict with ~100% accuracy:\n",
    "- Logistic regression\n",
    "- All SVM\n",
    "- Decision tree\n",
    "\n",
    "Models which comparatively suck:\n",
    "- Gaussian Naïve Bayes\n",
    "\n",
    "###### Noise std. dev. = 1\n",
    "Models able to to predict with 92% < accuracy < 97%:\n",
    "- Logistic regression\n",
    "- All SVM\n",
    "- Decision tree\n",
    "\n",
    "Models which comparatively suck:\n",
    "- Gaussian Naïve Bayes\n",
    "\n",
    "###### Noise std. dev. = 2\n",
    "Models able to to predict with 79% < accuracy < 86%:\n",
    "- Logistic regression\n",
    "- All SVM\n",
    "- Decision tree\n",
    "\n",
    "Models which comparatively suck:\n",
    "- Gaussian Naïve Bayes\n",
    "\n",
    "###### Noise std. dev. = 10\n",
    "Best accuracy: ~62%"
   ]
  },
  {
   "cell_type": "markdown",
   "id": "8cef0cab",
   "metadata": {},
   "source": [
    "### Functions to train & test models"
   ]
  },
  {
   "cell_type": "code",
   "execution_count": 20,
   "id": "a692c4af",
   "metadata": {
    "ExecuteTime": {
     "end_time": "2021-11-20T04:04:50.631039Z",
     "start_time": "2021-11-20T04:04:50.614427Z"
    },
    "code_folding": []
   },
   "outputs": [],
   "source": [
    "# Train model with stratified k-fold cross-validation & get statistics\n",
    "def Train_stratCV(model, X, y, n_splits=5, seed=seed):\n",
    "    skf = StratifiedKFold(n_splits, shuffle=True, random_state=seed)\n",
    "    lst_acc = []\n",
    "    lst_y_pred = [] # not used yet\n",
    "\n",
    "    # Train & test each fold\n",
    "    for train_idx, test_idx in skf.split(X, y):\n",
    "        x_train_fold, x_test_fold = X[train_idx], X[test_idx]\n",
    "        y_train_fold, y_test_fold = y[train_idx], y[test_idx]\n",
    "        model.fit(x_train_fold, y_train_fold)\n",
    "        lst_acc.append(model.score(x_test_fold, y_test_fold))\n",
    "        lst_y_pred.append(model.predict(x_test_fold))\n",
    "\n",
    "    print(f'\\nList of accuracies: {lst_acc}')\n",
    "    print(f'Min/max accuracy:   {min(lst_acc):.2%} <---> {max(lst_acc):.2%}')\n",
    "    print(f'Mean accuracy:      {np.mean(lst_acc):.2%} +- {np.std(lst_acc):.3%}')\n",
    "    \n",
    "    # add more stats\n",
    "    \n",
    "    return lst_acc, lst_y_pred\n",
    "\n",
    "# accuracy_score(y_test, y_pred) # how often is the classifier correct?\n",
    "# confusion_matrix(y_test, y_pred, normalize='pred') # precision\n",
    "# confusion_matrix(y_test, y_pred, normalize='true') # recall\n",
    "# classification_report(y_test, y_pred, output_dict=True)"
   ]
  },
  {
   "cell_type": "code",
   "execution_count": 21,
   "id": "fd3c045d",
   "metadata": {
    "ExecuteTime": {
     "end_time": "2021-11-20T04:04:53.575502Z",
     "start_time": "2021-11-20T04:04:53.547468Z"
    }
   },
   "outputs": [],
   "source": [
    "# Test different parameters\n",
    "def test_eta0(model, low, up, Xs, ys, seed):\n",
    "    for j, (X, y) in enumerate(zip(Xs, ys)):\n",
    "        print(f'\\n---> X{j}, y{j}')\n",
    "        for i in range(low, up):\n",
    "            model.eta0 = 10.**i\n",
    "            model.verbose = 0\n",
    "            acc_strat, y_pred = Train_stratCV(model, X, y, 5, seed)\n",
    "            print(f'eta0 = {model.eta0:.0e}')\n",
    "\n",
    "def test_coef0(model, low, up, Xs, ys, seed):\n",
    "    for j, (X, y) in enumerate(zip(Xs, ys)):\n",
    "        print(f'\\n---> X{j}, y{j}')\n",
    "        for i in np.arange(low, up, 1):\n",
    "            model.coef0 = i\n",
    "            model.verbose = 0\n",
    "            acc_strat, y_pred = Train_stratCV(model, X, y, 5, seed)\n",
    "            print(f'coef0 = {model.coef0}')\n",
    "\n",
    "def test_trees(model, Xs, ys, seed, max_depth=[None], max_features=[None], max_leaf_nodes=[None], min_impurity_decrease=[0.]):\n",
    "    for j, (X, y) in enumerate(zip(Xs, ys)):\n",
    "        print(f'\\n---> X{j}, y{j}')\n",
    "        for md in max_depth:\n",
    "            model.max_depth = md\n",
    "            for mf in max_features:\n",
    "                model.max_features = mf\n",
    "                for mln in max_leaf_nodes:\n",
    "                    model.max_leaf_nodes = mln\n",
    "                    for mid in min_impurity_decrease:\n",
    "                        model.min_impurity_decrease = mid\n",
    "                        acc_strat, y_pred = Train_stratCV(model, X, y, 5, seed)\n",
    "                        print(f'{md}, {mf}, {mln}, {mid:.0e}')"
   ]
  },
  {
   "cell_type": "markdown",
   "id": "4fd5d621",
   "metadata": {},
   "source": [
    "### Logistic regression"
   ]
  },
  {
   "cell_type": "code",
   "execution_count": 23,
   "id": "c061d4bd",
   "metadata": {
    "ExecuteTime": {
     "end_time": "2021-11-20T02:25:33.077089Z",
     "start_time": "2021-11-20T02:25:31.686649Z"
    },
    "scrolled": true
   },
   "outputs": [
    {
     "name": "stdout",
     "output_type": "stream",
     "text": [
      "Convergence after 98 epochs took 0.16 seconds\n",
      "Convergence after 91 epochs took 0.17 seconds\n",
      "Convergence after 85 epochs took 0.19 seconds\n",
      "Convergence after 89 epochs took 0.18 seconds\n",
      "Convergence after 107 epochs took 0.25 seconds\n",
      "\n",
      "List of accuracies: [0.972, 0.9725, 0.9775, 0.9665, 0.9665]\n",
      "Min/max accuracy:   96.65% <---> 97.75%\n",
      "Mean accuracy:      97.10% +- 0.415%\n"
     ]
    }
   ],
   "source": [
    "model = SGDClassifier(loss='log', learning_rate='adaptive', eta0=1e-3, max_iter=1e5, tol=1e-5, n_jobs=-1, random_state=seed,\n",
    "                      verbose=-1)\n",
    "# test_eta0(model, -7, 8)\n",
    "# model.fit(X_train, y_train) # used before cross-val\n",
    "acc_strat, y_pred = Train_stratCV(model, X, y, 5, seed)"
   ]
  },
  {
   "cell_type": "code",
   "execution_count": 164,
   "id": "5e9a7fa7",
   "metadata": {
    "ExecuteTime": {
     "end_time": "2021-08-31T01:57:11.200422Z",
     "start_time": "2021-08-31T01:57:11.188455Z"
    },
    "code_folding": [
     0
    ],
    "scrolled": true
   },
   "outputs": [],
   "source": [
    "# # Get prediction statistics (used before cross-val)\n",
    "# y_pred = model.predict(X_test)\n",
    "# print('Confusion matrix: \\n', confusion_matrix(y_test, y_pred))\n",
    "# print('\\nReport: \\n', classification_report(y_test, y_pred, digits=3))\n",
    "\n",
    "# print(f'Mean accuracy on test set: {model.score(X_test, y_test):.2%}')\n",
    "\n",
    "# y_prob = model.predict_proba(X_test)\n",
    "# print(f'Mean certainty (even if wrong): {np.mean(np.max(y_prob, axis=1)):.2%}')"
   ]
  },
  {
   "cell_type": "markdown",
   "id": "ffb1c7b7",
   "metadata": {},
   "source": [
    "### SVM"
   ]
  },
  {
   "cell_type": "markdown",
   "id": "095d5cfa",
   "metadata": {},
   "source": [
    "#### Linear kernel"
   ]
  },
  {
   "cell_type": "code",
   "execution_count": 32,
   "id": "ebf3d46d",
   "metadata": {
    "ExecuteTime": {
     "end_time": "2021-09-16T05:39:24.379539Z",
     "start_time": "2021-09-16T05:38:15.406634Z"
    }
   },
   "outputs": [
    {
     "name": "stdout",
     "output_type": "stream",
     "text": [
      "[LibSVM][LibSVM][LibSVM][LibSVM][LibSVM]\n",
      "List of accuracies: [0.782, 0.798, 0.806, 0.7905, 0.79]\n",
      "Min/max accuracy:   78.20% <---> 80.60%\n",
      "Mean accuracy:      79.33% +- 0.812%\n"
     ]
    }
   ],
   "source": [
    "model = SVC(kernel='linear', probability=False, random_state=seed, verbose=True)\n",
    "# model.fit(X_train, y_train) # used before cross-val\n",
    "acc_strat, y_pred = Train_stratCV(model, X, y, 5, seed)"
   ]
  },
  {
   "cell_type": "code",
   "execution_count": 646,
   "id": "90217a7e",
   "metadata": {
    "ExecuteTime": {
     "end_time": "2021-08-25T05:27:13.743032Z",
     "start_time": "2021-08-25T05:27:13.725081Z"
    },
    "code_folding": [
     0
    ],
    "scrolled": true
   },
   "outputs": [],
   "source": [
    "# # Get prediction statistics (used before cross-val)\n",
    "# y_pred = model.predict(X_test)\n",
    "# print('Confusion matrix: \\n', confusion_matrix(y_test, y_pred))\n",
    "# print('\\nReport: \\n', classification_report(y_test, y_pred, digits=3))\n",
    "\n",
    "# print(f'Mean accuracy on test set: {model.score(X_test, y_test):.2%}')\n",
    "\n",
    "# y_prob = model.predict_proba(X_test)\n",
    "# print(f'Mean certainty (even if wrong): {np.mean(np.max(y_prob, axis=1)):.2%}')"
   ]
  },
  {
   "cell_type": "code",
   "execution_count": 30,
   "id": "026a605f",
   "metadata": {
    "ExecuteTime": {
     "end_time": "2021-09-16T05:38:02.407400Z",
     "start_time": "2021-09-16T05:38:02.200769Z"
    }
   },
   "outputs": [
    {
     "name": "stdout",
     "output_type": "stream",
     "text": [
      "Convergence after 59 epochs took 0.03 seconds\n",
      "Convergence after 55 epochs took 0.04 seconds\n",
      "Convergence after 49 epochs took 0.03 seconds\n",
      "Convergence after 66 epochs took 0.04 seconds\n",
      "Convergence after 60 epochs took 0.03 seconds\n",
      "\n",
      "List of accuracies: [0.7845, 0.8005, 0.806, 0.7915, 0.79]\n",
      "Min/max accuracy:   78.45% <---> 80.60%\n",
      "Mean accuracy:      79.45% +- 0.771%\n"
     ]
    }
   ],
   "source": [
    "model = SGDClassifier(loss='hinge', learning_rate='adaptive', eta0=1e-5, tol=1e-5, n_jobs=-1, random_state=seed, verbose=-1)\n",
    "# test_eta0(model, -7, 8)\n",
    "# model.fit(X_train, y_train) # used before cross-val\n",
    "acc_strat, y_pred = Train_stratCV(model, X, y, 5, seed)"
   ]
  },
  {
   "cell_type": "code",
   "execution_count": 186,
   "id": "e157670e",
   "metadata": {
    "ExecuteTime": {
     "end_time": "2021-08-30T01:50:25.511257Z",
     "start_time": "2021-08-30T01:50:25.499509Z"
    },
    "code_folding": [
     0
    ]
   },
   "outputs": [],
   "source": [
    "# # Get prediction statistics (used before cross-val)\n",
    "# y_pred = model.predict(X_test)\n",
    "# print('Confusion matrix: \\n', confusion_matrix(y_test, y_pred))\n",
    "# print('\\nReport: \\n', classification_report(y_test, y_pred, digits=3))\n",
    "\n",
    "# print(f'Mean accuracy on test set: {model.score(X_test, y_test):.2%}')\n",
    "\n",
    "# y_prob = model.predict_proba(X_test)\n",
    "# print(f'Mean certainty (even if wrong): {np.mean(np.max(y_prob, axis=1)):.2%}')"
   ]
  },
  {
   "cell_type": "code",
   "execution_count": 31,
   "id": "2f451769",
   "metadata": {
    "ExecuteTime": {
     "end_time": "2021-09-16T05:38:07.793363Z",
     "start_time": "2021-09-16T05:38:07.615652Z"
    }
   },
   "outputs": [
    {
     "name": "stdout",
     "output_type": "stream",
     "text": [
      "[LibLinear][LibLinear][LibLinear][LibLinear][LibLinear]\n",
      "List of accuracies: [0.78, 0.8, 0.8095, 0.79, 0.7855]\n",
      "Min/max accuracy:   78.00% <---> 80.95%\n",
      "Mean accuracy:      79.30% +- 1.054%\n"
     ]
    }
   ],
   "source": [
    "model = LinearSVC(loss='squared_hinge', dual=False, tol=1e-5, random_state=seed, verbose=1)\n",
    "# model.fit(X_train, y_train) # used before cross-val\n",
    "acc_strat, y_pred = Train_stratCV(model, X, y, 5, seed)"
   ]
  },
  {
   "cell_type": "code",
   "execution_count": 188,
   "id": "cdb5be7e",
   "metadata": {
    "ExecuteTime": {
     "end_time": "2021-08-30T01:50:36.832150Z",
     "start_time": "2021-08-30T01:50:36.819840Z"
    },
    "code_folding": [
     0
    ],
    "scrolled": false
   },
   "outputs": [],
   "source": [
    "# # Get prediction statistics (used before cross-val)\n",
    "# y_pred = model.predict(X_test)\n",
    "# print('Confusion matrix: \\n', confusion_matrix(y_test, y_pred))\n",
    "# print('\\nReport: \\n', classification_report(y_test, y_pred, digits=3))\n",
    "\n",
    "# print(f'Mean accuracy on test set: {model.score(X_test, y_test):.2%}')\n",
    "\n",
    "# y_prob = model.predict_proba(X_test)\n",
    "# print(f'Mean certainty (even if wrong): {np.mean(np.max(y_prob, axis=1)):.2%}')"
   ]
  },
  {
   "cell_type": "markdown",
   "id": "d8aa52a1",
   "metadata": {},
   "source": [
    "#### Gaussian kernel"
   ]
  },
  {
   "cell_type": "code",
   "execution_count": 34,
   "id": "9b85a04e",
   "metadata": {
    "ExecuteTime": {
     "end_time": "2021-09-16T05:40:38.777265Z",
     "start_time": "2021-09-16T05:40:20.126353Z"
    }
   },
   "outputs": [
    {
     "name": "stdout",
     "output_type": "stream",
     "text": [
      "[LibSVM][LibSVM][LibSVM][LibSVM][LibSVM]\n",
      "List of accuracies: [0.835, 0.837, 0.829, 0.827, 0.842]\n",
      "Min/max accuracy:   82.70% <---> 84.20%\n",
      "Mean accuracy:      83.40% +- 0.544%\n"
     ]
    }
   ],
   "source": [
    "model = SVC(kernel='rbf', gamma='scale', tol=1e-5, probability=False, random_state=seed, verbose=True)\n",
    "# model.fit(X_train, y_train) # used before cross-val\n",
    "acc_strat, y_pred = Train_stratCV(model, X, y, 5, seed)"
   ]
  },
  {
   "cell_type": "code",
   "execution_count": 33,
   "id": "ae6cc033",
   "metadata": {
    "ExecuteTime": {
     "end_time": "2021-09-16T05:40:16.722827Z",
     "start_time": "2021-09-16T05:39:27.665388Z"
    }
   },
   "outputs": [
    {
     "name": "stdout",
     "output_type": "stream",
     "text": [
      "[LibSVM][LibSVM][LibSVM][LibSVM][LibSVM]\n",
      "List of accuracies: [0.7985, 0.8115, 0.828, 0.8, 0.8075]\n",
      "Min/max accuracy:   79.85% <---> 82.80%\n",
      "Mean accuracy:      80.91% +- 1.059%\n"
     ]
    }
   ],
   "source": [
    "model = SVC(kernel='rbf', gamma='auto', tol=1e-5, probability=False, random_state=seed, verbose=True)\n",
    "# model.fit(X_train, y_train) # used before cross-val\n",
    "acc_strat, y_pred = Train_stratCV(model, X, y, 5, seed)"
   ]
  },
  {
   "cell_type": "code",
   "execution_count": 189,
   "id": "185eccdf",
   "metadata": {
    "ExecuteTime": {
     "end_time": "2021-08-30T01:50:54.686859Z",
     "start_time": "2021-08-30T01:50:54.673360Z"
    },
    "code_folding": [
     0
    ]
   },
   "outputs": [],
   "source": [
    "# # Get prediction statistics (used before cross-val)\n",
    "# y_pred = model.predict(X_test)\n",
    "# print('Confusion matrix: \\n', confusion_matrix(y_test, y_pred))\n",
    "# print('\\nReport: \\n', classification_report(y_test, y_pred, digits=3))\n",
    "\n",
    "# print(f'Mean accuracy on test set: {model.score(X_test, y_test):.2%}')\n",
    "\n",
    "# y_prob = model.predict_proba(X_test)\n",
    "# print(f'Mean certainty (even if wrong): {np.mean(np.max(y_prob, axis=1)):.2%}')"
   ]
  },
  {
   "cell_type": "markdown",
   "id": "3d130321",
   "metadata": {},
   "source": [
    "#### Polynomial kernel"
   ]
  },
  {
   "cell_type": "code",
   "execution_count": 41,
   "id": "ffd73fd5",
   "metadata": {
    "ExecuteTime": {
     "end_time": "2021-09-16T05:45:54.818759Z",
     "start_time": "2021-09-16T05:45:44.374977Z"
    }
   },
   "outputs": [
    {
     "name": "stdout",
     "output_type": "stream",
     "text": [
      "[LibSVM][LibSVM][LibSVM][LibSVM][LibSVM]\n",
      "List of accuracies: [0.8315, 0.844, 0.8335, 0.824, 0.8395]\n",
      "Min/max accuracy:   82.40% <---> 84.40%\n",
      "Mean accuracy:      83.45% +- 0.686%\n"
     ]
    }
   ],
   "source": [
    "model = SVC(kernel='poly', degree=3, coef0=1., tol=1e-5, probability=False, random_state=seed, verbose=True)\n",
    "# test_coef0(model, -1, 2)\n",
    "# model.fit(X_train, y_train) # used before cross-val\n",
    "acc_strat, y_pred = Train_stratCV(model, X, y, 5, seed)"
   ]
  },
  {
   "cell_type": "code",
   "execution_count": 43,
   "id": "2fd94ffb",
   "metadata": {
    "ExecuteTime": {
     "end_time": "2021-09-16T05:46:57.034709Z",
     "start_time": "2021-09-16T05:46:42.910870Z"
    }
   },
   "outputs": [
    {
     "name": "stdout",
     "output_type": "stream",
     "text": [
      "[LibSVM][LibSVM][LibSVM][LibSVM][LibSVM]\n",
      "List of accuracies: [0.8315, 0.845, 0.8335, 0.824, 0.834]\n",
      "Min/max accuracy:   82.40% <---> 84.50%\n",
      "Mean accuracy:      83.36% +- 0.673%\n"
     ]
    }
   ],
   "source": [
    "model = SVC(kernel='poly', degree=4, coef0=1., tol=1e-5, probability=False, random_state=seed, verbose=True)\n",
    "# test_coef0(model, -1, 2)\n",
    "# model.fit(X_train, y_train) # used before cross-val\n",
    "acc_strat, y_pred = Train_stratCV(model, X, y, 5, seed)"
   ]
  },
  {
   "cell_type": "code",
   "execution_count": 657,
   "id": "e7651bd2",
   "metadata": {
    "ExecuteTime": {
     "end_time": "2021-08-25T05:34:53.238485Z",
     "start_time": "2021-08-25T05:34:53.226514Z"
    },
    "code_folding": [
     0
    ]
   },
   "outputs": [],
   "source": [
    "# # Get prediction statistics (used before cross-val)\n",
    "# y_pred = model.predict(X_test)\n",
    "# print('Confusion matrix: \\n', confusion_matrix(y_test, y_pred))\n",
    "# print('\\nReport: \\n', classification_report(y_test, y_pred, digits=3))\n",
    "\n",
    "# print(f'Mean accuracy on test set: {model.score(X_test, y_test):.2%}')\n",
    "\n",
    "# y_prob = model.predict_proba(X_test)\n",
    "# print(f'Mean certainty (even if wrong): {np.mean(np.max(y_prob, axis=1)):.2%}')"
   ]
  },
  {
   "cell_type": "markdown",
   "id": "4e1ccbda",
   "metadata": {},
   "source": [
    "#### Sigmoid kernel"
   ]
  },
  {
   "cell_type": "code",
   "execution_count": 106,
   "id": "26886020",
   "metadata": {
    "ExecuteTime": {
     "end_time": "2021-09-16T06:08:40.025083Z",
     "start_time": "2021-09-16T06:08:30.285752Z"
    },
    "scrolled": true
   },
   "outputs": [
    {
     "name": "stdout",
     "output_type": "stream",
     "text": [
      "[LibSVM][LibSVM][LibSVM][LibSVM][LibSVM]\n",
      "List of accuracies: [0.802, 0.8135, 0.8125, 0.806, 0.8075]\n",
      "Min/max accuracy:   80.20% <---> 81.35%\n",
      "Mean accuracy:      80.83% +- 0.425%\n"
     ]
    }
   ],
   "source": [
    "model = SVC(kernel='sigmoid', gamma='scale', coef0=-1., tol=1e-5, probability=False, random_state=seed, verbose=True)\n",
    "# test_coef0(model, -1, 2)\n",
    "# model.fit(X_train, y_train) # used before cross-val\n",
    "acc_strat, y_pred = Train_stratCV(model, X, y, 5, seed)"
   ]
  },
  {
   "cell_type": "code",
   "execution_count": 107,
   "id": "7cc84cf5",
   "metadata": {
    "ExecuteTime": {
     "end_time": "2021-09-16T06:09:11.483466Z",
     "start_time": "2021-09-16T06:08:54.733610Z"
    },
    "scrolled": true
   },
   "outputs": [
    {
     "name": "stdout",
     "output_type": "stream",
     "text": [
      "[LibSVM][LibSVM][LibSVM][LibSVM][LibSVM]\n",
      "List of accuracies: [0.532, 0.545, 0.5385, 0.528, 0.539]\n",
      "Min/max accuracy:   52.80% <---> 54.50%\n",
      "Mean accuracy:      53.65% +- 0.592%\n"
     ]
    }
   ],
   "source": [
    "model = SVC(kernel='sigmoid', gamma='auto', coef0=-1., tol=1e-5, probability=False, random_state=seed, verbose=True)\n",
    "# test_coef0(model, -1, 2)\n",
    "# model.fit(X_train, y_train) # used before cross-val\n",
    "acc_strat, y_pred = Train_stratCV(model, X, y, 5, seed)"
   ]
  },
  {
   "cell_type": "code",
   "execution_count": 658,
   "id": "0f0a2222",
   "metadata": {
    "ExecuteTime": {
     "end_time": "2021-08-25T05:35:03.651342Z",
     "start_time": "2021-08-25T05:35:03.638378Z"
    },
    "code_folding": [
     0
    ],
    "scrolled": false
   },
   "outputs": [],
   "source": [
    "# # Get prediction statistics (used before cross-val)\n",
    "# y_pred = model.predict(X_test)\n",
    "# print('Confusion matrix: \\n', confusion_matrix(y_test, y_pred))\n",
    "# print('\\nReport: \\n', classification_report(y_test, y_pred, digits=3))\n",
    "\n",
    "# print(f'Mean accuracy on test set: {model.score(X_test, y_test):.2%}')\n",
    "\n",
    "# y_prob = model.predict_proba(X_test)\n",
    "# print(f'Mean certainty (even if wrong): {np.mean(np.max(y_prob, axis=1)):.2%}')"
   ]
  },
  {
   "cell_type": "markdown",
   "id": "1f4231d0",
   "metadata": {},
   "source": [
    "### Naïve Bayes"
   ]
  },
  {
   "cell_type": "markdown",
   "id": "350bca37",
   "metadata": {},
   "source": [
    "#### Gaussian NB"
   ]
  },
  {
   "cell_type": "code",
   "execution_count": 108,
   "id": "48e357b4",
   "metadata": {
    "ExecuteTime": {
     "end_time": "2021-09-16T06:09:14.294180Z",
     "start_time": "2021-09-16T06:09:14.248302Z"
    },
    "scrolled": true
   },
   "outputs": [
    {
     "name": "stdout",
     "output_type": "stream",
     "text": [
      "\n",
      "List of accuracies: [0.7115, 0.738, 0.7535, 0.72, 0.733]\n",
      "Min/max accuracy:   71.15% <---> 75.35%\n",
      "Mean accuracy:      73.12% +- 1.456%\n"
     ]
    }
   ],
   "source": [
    "model = GaussianNB()\n",
    "# model.fit(X_train, y_train) # used before cross-val\n",
    "acc_strat, y_pred = Train_stratCV(model, X, y, 5, seed)"
   ]
  },
  {
   "cell_type": "code",
   "execution_count": 136,
   "id": "250ce4c8",
   "metadata": {
    "ExecuteTime": {
     "end_time": "2021-09-16T03:08:04.401844Z",
     "start_time": "2021-09-16T03:08:04.397854Z"
    },
    "code_folding": [
     0
    ]
   },
   "outputs": [],
   "source": [
    "# # Get prediction statistics (used before cross-val)\n",
    "# y_pred = model.predict(X_test)\n",
    "# print('Confusion matrix: \\n', confusion_matrix(y_test, y_pred))\n",
    "# print('\\nReport: \\n', classification_report(y_test, y_pred, digits=3))\n",
    "\n",
    "# print(f'Mean accuracy on test set: {model.score(X_test, y_test):.2%}')\n",
    "\n",
    "# y_prob = model.predict_proba(X_test)\n",
    "# print(f'Mean certainty (even if wrong): {np.mean(np.max(y_prob, axis=1)):.2%}')"
   ]
  },
  {
   "cell_type": "markdown",
   "id": "687d07fb",
   "metadata": {
    "heading_collapsed": true
   },
   "source": [
    "#### Multinomial NB"
   ]
  },
  {
   "cell_type": "code",
   "execution_count": 135,
   "id": "89dfa242",
   "metadata": {
    "ExecuteTime": {
     "end_time": "2021-09-16T03:08:00.719619Z",
     "start_time": "2021-09-16T03:08:00.705634Z"
    },
    "hidden": true
   },
   "outputs": [],
   "source": [
    "model = MultinomialNB() # does not work with negative values\n",
    "# model.fit(X_train, y_train) # used before cross-val\n",
    "# acc_strat, y_pred = Train_stratCV(model, X, y, 5, seed)"
   ]
  },
  {
   "cell_type": "code",
   "execution_count": 43,
   "id": "dae42455",
   "metadata": {
    "ExecuteTime": {
     "end_time": "2021-08-25T05:53:35.319986Z",
     "start_time": "2021-08-25T05:53:35.307021Z"
    },
    "code_folding": [
     0
    ],
    "hidden": true
   },
   "outputs": [],
   "source": [
    "# # Get prediction statistics (used before cross-val)\n",
    "# y_pred = model.predict(X_test)\n",
    "# print('Confusion matrix: \\n', confusion_matrix(y_test, y_pred))\n",
    "# print('\\nReport: \\n', classification_report(y_test, y_pred, digits=3))\n",
    "\n",
    "# print(f'Mean accuracy on test set: {model.score(X_test, y_test):.2%}')\n",
    "\n",
    "# y_prob = model.predict_proba(X_test)\n",
    "# print(f'Mean certainty (even if wrong): {np.mean(np.max(y_prob, axis=1)):.2%}')"
   ]
  },
  {
   "cell_type": "markdown",
   "id": "ec4488ca",
   "metadata": {
    "heading_collapsed": true
   },
   "source": [
    "#### Categorical NB"
   ]
  },
  {
   "cell_type": "code",
   "execution_count": 253,
   "id": "4cc285c6",
   "metadata": {
    "ExecuteTime": {
     "end_time": "2021-09-16T02:14:32.114624Z",
     "start_time": "2021-09-16T02:14:32.100572Z"
    },
    "hidden": true
   },
   "outputs": [],
   "source": [
    "model = CategoricalNB() # does not work with negative values\n",
    "# model.fit(X_train, y_train) # used before cross-val\n",
    "# acc_strat, y_pred = Train_stratCV(model, X, y, 5, seed)"
   ]
  },
  {
   "cell_type": "code",
   "execution_count": 2,
   "id": "903986a5",
   "metadata": {
    "ExecuteTime": {
     "end_time": "2021-09-22T11:25:52.857164Z",
     "start_time": "2021-09-22T11:25:52.841147Z"
    },
    "code_folding": [
     0
    ],
    "hidden": true
   },
   "outputs": [],
   "source": [
    "# # Get prediction statistics (used before cross-val)\n",
    "# y_pred = model.predict(X_test)\n",
    "# print('Confusion matrix: \\n', confusion_matrix(y_test, y_pred))\n",
    "# print('\\nReport: \\n', classification_report(y_test, y_pred, digits=3))\n",
    "\n",
    "# print(f'Mean accuracy on test set: {model.score(X_test, y_test):.2%}')\n",
    "\n",
    "# y_prob = model.predict_proba(X_test)\n",
    "# print(f'Mean certainty (even if wrong): {np.mean(np.max(y_prob, axis=1)):.2%}')"
   ]
  },
  {
   "cell_type": "markdown",
   "id": "3bafde67",
   "metadata": {},
   "source": [
    "### Decision tree"
   ]
  },
  {
   "cell_type": "code",
   "execution_count": 22,
   "id": "8e510c46",
   "metadata": {
    "ExecuteTime": {
     "end_time": "2021-11-20T04:04:57.027795Z",
     "start_time": "2021-11-20T04:04:56.143999Z"
    },
    "code_folding": []
   },
   "outputs": [
    {
     "name": "stdout",
     "output_type": "stream",
     "text": [
      "\n",
      "List of accuracies: [0.9835, 0.985, 0.9865, 0.993, 0.988]\n",
      "Min/max accuracy:   98.35% <---> 99.30%\n",
      "Mean accuracy:      98.72% +- 0.326%\n"
     ]
    },
    {
     "data": {
      "text/plain": [
       "(8, 11)"
      ]
     },
     "execution_count": 22,
     "metadata": {},
     "output_type": "execute_result"
    }
   ],
   "source": [
    "model = DecisionTreeClassifier(max_depth=None,\n",
    "                               max_features=16,\n",
    "                               max_leaf_nodes=None,\n",
    "                               min_impurity_decrease=9e-4,\n",
    "                               random_state=seed)\n",
    "# test_trees(model,\n",
    "#            # max_depth=range(1, 10),\n",
    "#            # max_depth=[10],\n",
    "#            # max_features=range(3, 21),\n",
    "#            # max_features=[16],\n",
    "#            # max_leaf_nodes=range(10, 22),\n",
    "#            # max_leaf_nodes=[20],\n",
    "#            # min_impurity_decrease=10.**np.arange(-9, 0),\n",
    "#            # min_impurity_decrease=1e-3*np.asarray([0.5, 0.6, 0.7, 0.8, 0.9, 1, 2, 3, 4, 5]),\n",
    "#            min_impurity_decrease=[9e-4],\n",
    "#           )\n",
    "acc_strat, y_pred = Train_stratCV(model, X, y, 5, seed)\n",
    "# cross_val_score(model, X, y, cv=5, n_jobs=-1, verbose=1)\n",
    "\n",
    "model.get_depth(), model.get_n_leaves()"
   ]
  },
  {
   "cell_type": "code",
   "execution_count": 25,
   "id": "a22323c4",
   "metadata": {
    "ExecuteTime": {
     "end_time": "2021-11-20T04:41:24.422357Z",
     "start_time": "2021-11-20T04:41:24.095101Z"
    },
    "scrolled": true
   },
   "outputs": [
    {
     "data": {
      "image/svg+xml": [
       "<?xml version=\"1.0\" encoding=\"UTF-8\" standalone=\"no\"?>\n",
       "<!DOCTYPE svg PUBLIC \"-//W3C//DTD SVG 1.1//EN\"\n",
       " \"http://www.w3.org/Graphics/SVG/1.1/DTD/svg11.dtd\">\n",
       "<!-- Generated by graphviz version 2.49.3 (0)\n",
       " -->\n",
       "<!-- Title: Tree Pages: 1 -->\n",
       "<svg width=\"649pt\" height=\"1028pt\"\n",
       " viewBox=\"0.00 0.00 649.00 1028.00\" xmlns=\"http://www.w3.org/2000/svg\" xmlns:xlink=\"http://www.w3.org/1999/xlink\">\n",
       "<g id=\"graph0\" class=\"graph\" transform=\"scale(1 1) rotate(0) translate(4 1024)\">\n",
       "<title>Tree</title>\n",
       "<polygon fill=\"white\" stroke=\"transparent\" points=\"-4,4 -4,-1024 645,-1024 645,4 -4,4\"/>\n",
       "<!-- 0 -->\n",
       "<g id=\"node1\" class=\"node\">\n",
       "<title>0</title>\n",
       "<path fill=\"#fefcfb\" stroke=\"black\" d=\"M390.5,-1020C390.5,-1020 270.5,-1020 270.5,-1020 264.5,-1020 258.5,-1014 258.5,-1008 258.5,-1008 258.5,-949 258.5,-949 258.5,-943 264.5,-937 270.5,-937 270.5,-937 390.5,-937 390.5,-937 396.5,-937 402.5,-943 402.5,-949 402.5,-949 402.5,-1008 402.5,-1008 402.5,-1014 396.5,-1020 390.5,-1020\"/>\n",
       "<text text-anchor=\"start\" x=\"291\" y=\"-1004.8\" font-family=\"Helvetica,sans-Serif\" font-size=\"14.00\">+0,9 ≤ 4.775</text>\n",
       "<text text-anchor=\"start\" x=\"301.5\" y=\"-989.8\" font-family=\"Helvetica,sans-Serif\" font-size=\"14.00\">gini = 0.5</text>\n",
       "<text text-anchor=\"start\" x=\"280.5\" y=\"-974.8\" font-family=\"Helvetica,sans-Serif\" font-size=\"14.00\">samples = 8000</text>\n",
       "<text text-anchor=\"start\" x=\"266.5\" y=\"-959.8\" font-family=\"Helvetica,sans-Serif\" font-size=\"14.00\">value = [4045, 3955]</text>\n",
       "<text text-anchor=\"start\" x=\"302.5\" y=\"-944.8\" font-family=\"Helvetica,sans-Serif\" font-size=\"14.00\">class = 0</text>\n",
       "</g>\n",
       "<!-- 1 -->\n",
       "<g id=\"node2\" class=\"node\">\n",
       "<title>1</title>\n",
       "<path fill=\"#a0d0f3\" stroke=\"black\" d=\"M315.5,-901C315.5,-901 195.5,-901 195.5,-901 189.5,-901 183.5,-895 183.5,-889 183.5,-889 183.5,-830 183.5,-830 183.5,-824 189.5,-818 195.5,-818 195.5,-818 315.5,-818 315.5,-818 321.5,-818 327.5,-824 327.5,-830 327.5,-830 327.5,-889 327.5,-889 327.5,-895 321.5,-901 315.5,-901\"/>\n",
       "<text text-anchor=\"start\" x=\"214\" y=\"-885.8\" font-family=\"Helvetica,sans-Serif\" font-size=\"14.00\">+0,8 ≤ &#45;2.248</text>\n",
       "<text text-anchor=\"start\" x=\"223\" y=\"-870.8\" font-family=\"Helvetica,sans-Serif\" font-size=\"14.00\">gini = 0.45</text>\n",
       "<text text-anchor=\"start\" x=\"205.5\" y=\"-855.8\" font-family=\"Helvetica,sans-Serif\" font-size=\"14.00\">samples = 6014</text>\n",
       "<text text-anchor=\"start\" x=\"191.5\" y=\"-840.8\" font-family=\"Helvetica,sans-Serif\" font-size=\"14.00\">value = [2059, 3955]</text>\n",
       "<text text-anchor=\"start\" x=\"227.5\" y=\"-825.8\" font-family=\"Helvetica,sans-Serif\" font-size=\"14.00\">class = 1</text>\n",
       "</g>\n",
       "<!-- 0&#45;&gt;1 -->\n",
       "<g id=\"edge1\" class=\"edge\">\n",
       "<title>0&#45;&gt;1</title>\n",
       "<path fill=\"none\" stroke=\"black\" d=\"M304.48,-936.91C298.84,-928.1 292.81,-918.7 286.98,-909.61\"/>\n",
       "<polygon fill=\"black\" stroke=\"black\" points=\"289.82,-907.55 281.47,-901.02 283.93,-911.33 289.82,-907.55\"/>\n",
       "<text text-anchor=\"middle\" x=\"276.13\" y=\"-921.74\" font-family=\"Helvetica,sans-Serif\" font-size=\"14.00\">True</text>\n",
       "</g>\n",
       "<!-- 20 -->\n",
       "<g id=\"node21\" class=\"node\">\n",
       "<title>20</title>\n",
       "<path fill=\"#e58139\" stroke=\"black\" d=\"M453.5,-893.5C453.5,-893.5 357.5,-893.5 357.5,-893.5 351.5,-893.5 345.5,-887.5 345.5,-881.5 345.5,-881.5 345.5,-837.5 345.5,-837.5 345.5,-831.5 351.5,-825.5 357.5,-825.5 357.5,-825.5 453.5,-825.5 453.5,-825.5 459.5,-825.5 465.5,-831.5 465.5,-837.5 465.5,-837.5 465.5,-881.5 465.5,-881.5 465.5,-887.5 459.5,-893.5 453.5,-893.5\"/>\n",
       "<text text-anchor=\"start\" x=\"376.5\" y=\"-878.3\" font-family=\"Helvetica,sans-Serif\" font-size=\"14.00\">gini = 0.0</text>\n",
       "<text text-anchor=\"start\" x=\"355.5\" y=\"-863.3\" font-family=\"Helvetica,sans-Serif\" font-size=\"14.00\">samples = 1986</text>\n",
       "<text text-anchor=\"start\" x=\"353.5\" y=\"-848.3\" font-family=\"Helvetica,sans-Serif\" font-size=\"14.00\">value = [1986, 0]</text>\n",
       "<text text-anchor=\"start\" x=\"377.5\" y=\"-833.3\" font-family=\"Helvetica,sans-Serif\" font-size=\"14.00\">class = 0</text>\n",
       "</g>\n",
       "<!-- 0&#45;&gt;20 -->\n",
       "<g id=\"edge20\" class=\"edge\">\n",
       "<title>0&#45;&gt;20</title>\n",
       "<path fill=\"none\" stroke=\"black\" d=\"M356.52,-936.91C363.74,-925.65 371.58,-913.42 378.83,-902.11\"/>\n",
       "<polygon fill=\"black\" stroke=\"black\" points=\"381.79,-903.97 384.24,-893.67 375.9,-900.2 381.79,-903.97\"/>\n",
       "<text text-anchor=\"middle\" x=\"389.58\" y=\"-914.39\" font-family=\"Helvetica,sans-Serif\" font-size=\"14.00\">False</text>\n",
       "</g>\n",
       "<!-- 2 -->\n",
       "<g id=\"node3\" class=\"node\">\n",
       "<title>2</title>\n",
       "<path fill=\"#3b9ee5\" stroke=\"black\" d=\"M227,-774.5C227,-774.5 138,-774.5 138,-774.5 132,-774.5 126,-768.5 126,-762.5 126,-762.5 126,-718.5 126,-718.5 126,-712.5 132,-706.5 138,-706.5 138,-706.5 227,-706.5 227,-706.5 233,-706.5 239,-712.5 239,-718.5 239,-718.5 239,-762.5 239,-762.5 239,-768.5 233,-774.5 227,-774.5\"/>\n",
       "<text text-anchor=\"start\" x=\"146\" y=\"-759.3\" font-family=\"Helvetica,sans-Serif\" font-size=\"14.00\">gini = 0.017</text>\n",
       "<text text-anchor=\"start\" x=\"136.5\" y=\"-744.3\" font-family=\"Helvetica,sans-Serif\" font-size=\"14.00\">samples = 805</text>\n",
       "<text text-anchor=\"start\" x=\"134\" y=\"-729.3\" font-family=\"Helvetica,sans-Serif\" font-size=\"14.00\">value = [7, 798]</text>\n",
       "<text text-anchor=\"start\" x=\"154.5\" y=\"-714.3\" font-family=\"Helvetica,sans-Serif\" font-size=\"14.00\">class = 1</text>\n",
       "</g>\n",
       "<!-- 1&#45;&gt;2 -->\n",
       "<g id=\"edge2\" class=\"edge\">\n",
       "<title>1&#45;&gt;2</title>\n",
       "<path fill=\"none\" stroke=\"black\" d=\"M230.17,-817.91C223.22,-806.76 215.67,-794.66 208.67,-783.44\"/>\n",
       "<polygon fill=\"black\" stroke=\"black\" points=\"211.46,-781.3 203.19,-774.67 205.52,-785 211.46,-781.3\"/>\n",
       "</g>\n",
       "<!-- 3 -->\n",
       "<g id=\"node4\" class=\"node\">\n",
       "<title>3</title>\n",
       "<path fill=\"#baddf6\" stroke=\"black\" d=\"M389.5,-782C389.5,-782 269.5,-782 269.5,-782 263.5,-782 257.5,-776 257.5,-770 257.5,-770 257.5,-711 257.5,-711 257.5,-705 263.5,-699 269.5,-699 269.5,-699 389.5,-699 389.5,-699 395.5,-699 401.5,-705 401.5,-711 401.5,-711 401.5,-770 401.5,-770 401.5,-776 395.5,-782 389.5,-782\"/>\n",
       "<text text-anchor=\"start\" x=\"294.5\" y=\"-766.8\" font-family=\"Helvetica,sans-Serif\" font-size=\"14.00\">0,9 ≤ 2.174</text>\n",
       "<text text-anchor=\"start\" x=\"293\" y=\"-751.8\" font-family=\"Helvetica,sans-Serif\" font-size=\"14.00\">gini = 0.477</text>\n",
       "<text text-anchor=\"start\" x=\"279.5\" y=\"-736.8\" font-family=\"Helvetica,sans-Serif\" font-size=\"14.00\">samples = 5209</text>\n",
       "<text text-anchor=\"start\" x=\"265.5\" y=\"-721.8\" font-family=\"Helvetica,sans-Serif\" font-size=\"14.00\">value = [2052, 3157]</text>\n",
       "<text text-anchor=\"start\" x=\"301.5\" y=\"-706.8\" font-family=\"Helvetica,sans-Serif\" font-size=\"14.00\">class = 1</text>\n",
       "</g>\n",
       "<!-- 1&#45;&gt;3 -->\n",
       "<g id=\"edge3\" class=\"edge\">\n",
       "<title>1&#45;&gt;3</title>\n",
       "<path fill=\"none\" stroke=\"black\" d=\"M281.17,-817.91C286.74,-809.1 292.69,-799.7 298.44,-790.61\"/>\n",
       "<polygon fill=\"black\" stroke=\"black\" points=\"301.48,-792.34 303.87,-782.02 295.57,-788.6 301.48,-792.34\"/>\n",
       "</g>\n",
       "<!-- 4 -->\n",
       "<g id=\"node5\" class=\"node\">\n",
       "<title>4</title>\n",
       "<path fill=\"#f4caac\" stroke=\"black\" d=\"M313,-663C313,-663 194,-663 194,-663 188,-663 182,-657 182,-651 182,-651 182,-592 182,-592 182,-586 188,-580 194,-580 194,-580 313,-580 313,-580 319,-580 325,-586 325,-592 325,-592 325,-651 325,-651 325,-657 319,-663 313,-663\"/>\n",
       "<text text-anchor=\"start\" x=\"212\" y=\"-647.8\" font-family=\"Helvetica,sans-Serif\" font-size=\"14.00\">+0,9 ≤ &#45;2.421</text>\n",
       "<text text-anchor=\"start\" x=\"217\" y=\"-632.8\" font-family=\"Helvetica,sans-Serif\" font-size=\"14.00\">gini = 0.465</text>\n",
       "<text text-anchor=\"start\" x=\"203.5\" y=\"-617.8\" font-family=\"Helvetica,sans-Serif\" font-size=\"14.00\">samples = 3228</text>\n",
       "<text text-anchor=\"start\" x=\"190\" y=\"-602.8\" font-family=\"Helvetica,sans-Serif\" font-size=\"14.00\">value = [2041, 1187]</text>\n",
       "<text text-anchor=\"start\" x=\"225.5\" y=\"-587.8\" font-family=\"Helvetica,sans-Serif\" font-size=\"14.00\">class = 0</text>\n",
       "</g>\n",
       "<!-- 3&#45;&gt;4 -->\n",
       "<g id=\"edge4\" class=\"edge\">\n",
       "<title>3&#45;&gt;4</title>\n",
       "<path fill=\"none\" stroke=\"black\" d=\"M303.13,-698.91C297.41,-690.1 291.31,-680.7 285.4,-671.61\"/>\n",
       "<polygon fill=\"black\" stroke=\"black\" points=\"288.2,-669.5 279.82,-663.02 282.33,-673.31 288.2,-669.5\"/>\n",
       "</g>\n",
       "<!-- 19 -->\n",
       "<g id=\"node20\" class=\"node\">\n",
       "<title>19</title>\n",
       "<path fill=\"#3a9ee5\" stroke=\"black\" d=\"M458,-655.5C458,-655.5 355,-655.5 355,-655.5 349,-655.5 343,-649.5 343,-643.5 343,-643.5 343,-599.5 343,-599.5 343,-593.5 349,-587.5 355,-587.5 355,-587.5 458,-587.5 458,-587.5 464,-587.5 470,-593.5 470,-599.5 470,-599.5 470,-643.5 470,-643.5 470,-649.5 464,-655.5 458,-655.5\"/>\n",
       "<text text-anchor=\"start\" x=\"370.5\" y=\"-640.3\" font-family=\"Helvetica,sans-Serif\" font-size=\"14.00\">gini = 0.011</text>\n",
       "<text text-anchor=\"start\" x=\"356.5\" y=\"-625.3\" font-family=\"Helvetica,sans-Serif\" font-size=\"14.00\">samples = 1981</text>\n",
       "<text text-anchor=\"start\" x=\"351\" y=\"-610.3\" font-family=\"Helvetica,sans-Serif\" font-size=\"14.00\">value = [11, 1970]</text>\n",
       "<text text-anchor=\"start\" x=\"378.5\" y=\"-595.3\" font-family=\"Helvetica,sans-Serif\" font-size=\"14.00\">class = 1</text>\n",
       "</g>\n",
       "<!-- 3&#45;&gt;19 -->\n",
       "<g id=\"edge19\" class=\"edge\">\n",
       "<title>3&#45;&gt;19</title>\n",
       "<path fill=\"none\" stroke=\"black\" d=\"M356.21,-698.91C363.62,-687.65 371.67,-675.42 379.12,-664.11\"/>\n",
       "<polygon fill=\"black\" stroke=\"black\" points=\"382.1,-665.94 384.67,-655.67 376.25,-662.1 382.1,-665.94\"/>\n",
       "</g>\n",
       "<!-- 5 -->\n",
       "<g id=\"node6\" class=\"node\">\n",
       "<title>5</title>\n",
       "<path fill=\"#49a5e7\" stroke=\"black\" d=\"M228.5,-544C228.5,-544 132.5,-544 132.5,-544 126.5,-544 120.5,-538 120.5,-532 120.5,-532 120.5,-473 120.5,-473 120.5,-467 126.5,-461 132.5,-461 132.5,-461 228.5,-461 228.5,-461 234.5,-461 240.5,-467 240.5,-473 240.5,-473 240.5,-532 240.5,-532 240.5,-538 234.5,-544 228.5,-544\"/>\n",
       "<text text-anchor=\"start\" x=\"141\" y=\"-528.8\" font-family=\"Helvetica,sans-Serif\" font-size=\"14.00\">+0,8 ≤ 4.579</text>\n",
       "<text text-anchor=\"start\" x=\"144\" y=\"-513.8\" font-family=\"Helvetica,sans-Serif\" font-size=\"14.00\">gini = 0.142</text>\n",
       "<text text-anchor=\"start\" x=\"130.5\" y=\"-498.8\" font-family=\"Helvetica,sans-Serif\" font-size=\"14.00\">samples = 1031</text>\n",
       "<text text-anchor=\"start\" x=\"128.5\" y=\"-483.8\" font-family=\"Helvetica,sans-Serif\" font-size=\"14.00\">value = [79, 952]</text>\n",
       "<text text-anchor=\"start\" x=\"152.5\" y=\"-468.8\" font-family=\"Helvetica,sans-Serif\" font-size=\"14.00\">class = 1</text>\n",
       "</g>\n",
       "<!-- 4&#45;&gt;5 -->\n",
       "<g id=\"edge5\" class=\"edge\">\n",
       "<title>4&#45;&gt;5</title>\n",
       "<path fill=\"none\" stroke=\"black\" d=\"M228.17,-579.91C222.68,-571.1 216.81,-561.7 211.14,-552.61\"/>\n",
       "<polygon fill=\"black\" stroke=\"black\" points=\"214.05,-550.65 205.78,-544.02 208.11,-554.36 214.05,-550.65\"/>\n",
       "</g>\n",
       "<!-- 8 -->\n",
       "<g id=\"node9\" class=\"node\">\n",
       "<title>8</title>\n",
       "<path fill=\"#e89051\" stroke=\"black\" d=\"M382.5,-544C382.5,-544 270.5,-544 270.5,-544 264.5,-544 258.5,-538 258.5,-532 258.5,-532 258.5,-473 258.5,-473 258.5,-467 264.5,-461 270.5,-461 270.5,-461 382.5,-461 382.5,-461 388.5,-461 394.5,-467 394.5,-473 394.5,-473 394.5,-532 394.5,-532 394.5,-538 388.5,-544 382.5,-544\"/>\n",
       "<text text-anchor=\"start\" x=\"287\" y=\"-528.8\" font-family=\"Helvetica,sans-Serif\" font-size=\"14.00\">+0,0 ≤ 2.023</text>\n",
       "<text text-anchor=\"start\" x=\"290\" y=\"-513.8\" font-family=\"Helvetica,sans-Serif\" font-size=\"14.00\">gini = 0.191</text>\n",
       "<text text-anchor=\"start\" x=\"276.5\" y=\"-498.8\" font-family=\"Helvetica,sans-Serif\" font-size=\"14.00\">samples = 2197</text>\n",
       "<text text-anchor=\"start\" x=\"266.5\" y=\"-483.8\" font-family=\"Helvetica,sans-Serif\" font-size=\"14.00\">value = [1962, 235]</text>\n",
       "<text text-anchor=\"start\" x=\"298.5\" y=\"-468.8\" font-family=\"Helvetica,sans-Serif\" font-size=\"14.00\">class = 0</text>\n",
       "</g>\n",
       "<!-- 4&#45;&gt;8 -->\n",
       "<g id=\"edge8\" class=\"edge\">\n",
       "<title>4&#45;&gt;8</title>\n",
       "<path fill=\"none\" stroke=\"black\" d=\"M278.83,-579.91C284.32,-571.1 290.19,-561.7 295.86,-552.61\"/>\n",
       "<polygon fill=\"black\" stroke=\"black\" points=\"298.89,-554.36 301.22,-544.02 292.95,-550.65 298.89,-554.36\"/>\n",
       "</g>\n",
       "<!-- 6 -->\n",
       "<g id=\"node7\" class=\"node\">\n",
       "<title>6</title>\n",
       "<path fill=\"#3a9ee5\" stroke=\"black\" d=\"M101,-417.5C101,-417.5 12,-417.5 12,-417.5 6,-417.5 0,-411.5 0,-405.5 0,-405.5 0,-361.5 0,-361.5 0,-355.5 6,-349.5 12,-349.5 12,-349.5 101,-349.5 101,-349.5 107,-349.5 113,-355.5 113,-361.5 113,-361.5 113,-405.5 113,-405.5 113,-411.5 107,-417.5 101,-417.5\"/>\n",
       "<text text-anchor=\"start\" x=\"20\" y=\"-402.3\" font-family=\"Helvetica,sans-Serif\" font-size=\"14.00\">gini = 0.013</text>\n",
       "<text text-anchor=\"start\" x=\"10.5\" y=\"-387.3\" font-family=\"Helvetica,sans-Serif\" font-size=\"14.00\">samples = 952</text>\n",
       "<text text-anchor=\"start\" x=\"8\" y=\"-372.3\" font-family=\"Helvetica,sans-Serif\" font-size=\"14.00\">value = [6, 946]</text>\n",
       "<text text-anchor=\"start\" x=\"28.5\" y=\"-357.3\" font-family=\"Helvetica,sans-Serif\" font-size=\"14.00\">class = 1</text>\n",
       "</g>\n",
       "<!-- 5&#45;&gt;6 -->\n",
       "<g id=\"edge6\" class=\"edge\">\n",
       "<title>5&#45;&gt;6</title>\n",
       "<path fill=\"none\" stroke=\"black\" d=\"M137.48,-460.91C125.08,-449.21 111.57,-436.46 99.19,-424.78\"/>\n",
       "<polygon fill=\"black\" stroke=\"black\" points=\"101.33,-421.98 91.65,-417.67 96.52,-427.08 101.33,-421.98\"/>\n",
       "</g>\n",
       "<!-- 7 -->\n",
       "<g id=\"node8\" class=\"node\">\n",
       "<title>7</title>\n",
       "<path fill=\"#e78b49\" stroke=\"black\" d=\"M224,-417.5C224,-417.5 143,-417.5 143,-417.5 137,-417.5 131,-411.5 131,-405.5 131,-405.5 131,-361.5 131,-361.5 131,-355.5 137,-349.5 143,-349.5 143,-349.5 224,-349.5 224,-349.5 230,-349.5 236,-355.5 236,-361.5 236,-361.5 236,-405.5 236,-405.5 236,-411.5 230,-417.5 224,-417.5\"/>\n",
       "<text text-anchor=\"start\" x=\"151\" y=\"-402.3\" font-family=\"Helvetica,sans-Serif\" font-size=\"14.00\">gini = 0.14</text>\n",
       "<text text-anchor=\"start\" x=\"141.5\" y=\"-387.3\" font-family=\"Helvetica,sans-Serif\" font-size=\"14.00\">samples = 79</text>\n",
       "<text text-anchor=\"start\" x=\"139\" y=\"-372.3\" font-family=\"Helvetica,sans-Serif\" font-size=\"14.00\">value = [73, 6]</text>\n",
       "<text text-anchor=\"start\" x=\"155.5\" y=\"-357.3\" font-family=\"Helvetica,sans-Serif\" font-size=\"14.00\">class = 0</text>\n",
       "</g>\n",
       "<!-- 5&#45;&gt;7 -->\n",
       "<g id=\"edge7\" class=\"edge\">\n",
       "<title>5&#45;&gt;7</title>\n",
       "<path fill=\"none\" stroke=\"black\" d=\"M181.54,-460.91C181.82,-450.2 182.11,-438.62 182.39,-427.78\"/>\n",
       "<polygon fill=\"black\" stroke=\"black\" points=\"185.89,-427.75 182.65,-417.67 178.89,-427.57 185.89,-427.75\"/>\n",
       "</g>\n",
       "<!-- 9 -->\n",
       "<g id=\"node10\" class=\"node\">\n",
       "<title>9</title>\n",
       "<path fill=\"#e68640\" stroke=\"black\" d=\"M375.5,-425C375.5,-425 271.5,-425 271.5,-425 265.5,-425 259.5,-419 259.5,-413 259.5,-413 259.5,-354 259.5,-354 259.5,-348 265.5,-342 271.5,-342 271.5,-342 375.5,-342 375.5,-342 381.5,-342 387.5,-348 387.5,-354 387.5,-354 387.5,-413 387.5,-413 387.5,-419 381.5,-425 375.5,-425\"/>\n",
       "<text text-anchor=\"start\" x=\"284\" y=\"-409.8\" font-family=\"Helvetica,sans-Serif\" font-size=\"14.00\">+0,3 ≤ 1.319</text>\n",
       "<text text-anchor=\"start\" x=\"287\" y=\"-394.8\" font-family=\"Helvetica,sans-Serif\" font-size=\"14.00\">gini = 0.068</text>\n",
       "<text text-anchor=\"start\" x=\"273.5\" y=\"-379.8\" font-family=\"Helvetica,sans-Serif\" font-size=\"14.00\">samples = 1955</text>\n",
       "<text text-anchor=\"start\" x=\"267.5\" y=\"-364.8\" font-family=\"Helvetica,sans-Serif\" font-size=\"14.00\">value = [1886, 69]</text>\n",
       "<text text-anchor=\"start\" x=\"295.5\" y=\"-349.8\" font-family=\"Helvetica,sans-Serif\" font-size=\"14.00\">class = 0</text>\n",
       "</g>\n",
       "<!-- 8&#45;&gt;9 -->\n",
       "<g id=\"edge9\" class=\"edge\">\n",
       "<title>8&#45;&gt;9</title>\n",
       "<path fill=\"none\" stroke=\"black\" d=\"M325.46,-460.91C325.25,-452.56 325.02,-443.67 324.8,-435.02\"/>\n",
       "<polygon fill=\"black\" stroke=\"black\" points=\"328.29,-434.93 324.54,-425.02 321.3,-435.11 328.29,-434.93\"/>\n",
       "</g>\n",
       "<!-- 16 -->\n",
       "<g id=\"node17\" class=\"node\">\n",
       "<title>16</title>\n",
       "<path fill=\"#94caf1\" stroke=\"black\" d=\"M513.5,-425C513.5,-425 417.5,-425 417.5,-425 411.5,-425 405.5,-419 405.5,-413 405.5,-413 405.5,-354 405.5,-354 405.5,-348 411.5,-342 417.5,-342 417.5,-342 513.5,-342 513.5,-342 519.5,-342 525.5,-348 525.5,-354 525.5,-354 525.5,-413 525.5,-413 525.5,-419 519.5,-425 513.5,-425\"/>\n",
       "<text text-anchor=\"start\" x=\"426\" y=\"-409.8\" font-family=\"Helvetica,sans-Serif\" font-size=\"14.00\">+0,9 ≤ 0.463</text>\n",
       "<text text-anchor=\"start\" x=\"429\" y=\"-394.8\" font-family=\"Helvetica,sans-Serif\" font-size=\"14.00\">gini = 0.431</text>\n",
       "<text text-anchor=\"start\" x=\"419.5\" y=\"-379.8\" font-family=\"Helvetica,sans-Serif\" font-size=\"14.00\">samples = 242</text>\n",
       "<text text-anchor=\"start\" x=\"413.5\" y=\"-364.8\" font-family=\"Helvetica,sans-Serif\" font-size=\"14.00\">value = [76, 166]</text>\n",
       "<text text-anchor=\"start\" x=\"437.5\" y=\"-349.8\" font-family=\"Helvetica,sans-Serif\" font-size=\"14.00\">class = 1</text>\n",
       "</g>\n",
       "<!-- 8&#45;&gt;16 -->\n",
       "<g id=\"edge16\" class=\"edge\">\n",
       "<title>8&#45;&gt;16</title>\n",
       "<path fill=\"none\" stroke=\"black\" d=\"M374.73,-460.91C385.94,-451.47 397.97,-441.34 409.49,-431.65\"/>\n",
       "<polygon fill=\"black\" stroke=\"black\" points=\"411.96,-434.14 417.36,-425.02 407.46,-428.78 411.96,-434.14\"/>\n",
       "</g>\n",
       "<!-- 10 -->\n",
       "<g id=\"node11\" class=\"node\">\n",
       "<title>10</title>\n",
       "<path fill=\"#e6853f\" stroke=\"black\" d=\"M244.5,-306C244.5,-306 140.5,-306 140.5,-306 134.5,-306 128.5,-300 128.5,-294 128.5,-294 128.5,-235 128.5,-235 128.5,-229 134.5,-223 140.5,-223 140.5,-223 244.5,-223 244.5,-223 250.5,-223 256.5,-229 256.5,-235 256.5,-235 256.5,-294 256.5,-294 256.5,-300 250.5,-306 244.5,-306\"/>\n",
       "<text text-anchor=\"start\" x=\"157.5\" y=\"-290.8\" font-family=\"Helvetica,sans-Serif\" font-size=\"14.00\">0,9 ≤ 1.863</text>\n",
       "<text text-anchor=\"start\" x=\"156\" y=\"-275.8\" font-family=\"Helvetica,sans-Serif\" font-size=\"14.00\">gini = 0.055</text>\n",
       "<text text-anchor=\"start\" x=\"142.5\" y=\"-260.8\" font-family=\"Helvetica,sans-Serif\" font-size=\"14.00\">samples = 1941</text>\n",
       "<text text-anchor=\"start\" x=\"136.5\" y=\"-245.8\" font-family=\"Helvetica,sans-Serif\" font-size=\"14.00\">value = [1886, 55]</text>\n",
       "<text text-anchor=\"start\" x=\"164.5\" y=\"-230.8\" font-family=\"Helvetica,sans-Serif\" font-size=\"14.00\">class = 0</text>\n",
       "</g>\n",
       "<!-- 9&#45;&gt;10 -->\n",
       "<g id=\"edge10\" class=\"edge\">\n",
       "<title>9&#45;&gt;10</title>\n",
       "<path fill=\"none\" stroke=\"black\" d=\"M278.05,-341.91C267.58,-332.56 256.36,-322.54 245.6,-312.93\"/>\n",
       "<polygon fill=\"black\" stroke=\"black\" points=\"247.66,-310.07 237.87,-306.02 243,-315.29 247.66,-310.07\"/>\n",
       "</g>\n",
       "<!-- 15 -->\n",
       "<g id=\"node16\" class=\"node\">\n",
       "<title>15</title>\n",
       "<path fill=\"#399de5\" stroke=\"black\" d=\"M368,-298.5C368,-298.5 287,-298.5 287,-298.5 281,-298.5 275,-292.5 275,-286.5 275,-286.5 275,-242.5 275,-242.5 275,-236.5 281,-230.5 287,-230.5 287,-230.5 368,-230.5 368,-230.5 374,-230.5 380,-236.5 380,-242.5 380,-242.5 380,-286.5 380,-286.5 380,-292.5 374,-298.5 368,-298.5\"/>\n",
       "<text text-anchor=\"start\" x=\"298.5\" y=\"-283.3\" font-family=\"Helvetica,sans-Serif\" font-size=\"14.00\">gini = 0.0</text>\n",
       "<text text-anchor=\"start\" x=\"285.5\" y=\"-268.3\" font-family=\"Helvetica,sans-Serif\" font-size=\"14.00\">samples = 14</text>\n",
       "<text text-anchor=\"start\" x=\"283\" y=\"-253.3\" font-family=\"Helvetica,sans-Serif\" font-size=\"14.00\">value = [0, 14]</text>\n",
       "<text text-anchor=\"start\" x=\"299.5\" y=\"-238.3\" font-family=\"Helvetica,sans-Serif\" font-size=\"14.00\">class = 1</text>\n",
       "</g>\n",
       "<!-- 9&#45;&gt;15 -->\n",
       "<g id=\"edge15\" class=\"edge\">\n",
       "<title>9&#45;&gt;15</title>\n",
       "<path fill=\"none\" stroke=\"black\" d=\"M324.89,-341.91C325.25,-331.2 325.65,-319.62 326.02,-308.78\"/>\n",
       "<polygon fill=\"black\" stroke=\"black\" points=\"329.52,-308.78 326.37,-298.67 322.53,-308.54 329.52,-308.78\"/>\n",
       "</g>\n",
       "<!-- 11 -->\n",
       "<g id=\"node12\" class=\"node\">\n",
       "<title>11</title>\n",
       "<path fill=\"#e5833c\" stroke=\"black\" d=\"M175.5,-179.5C175.5,-179.5 71.5,-179.5 71.5,-179.5 65.5,-179.5 59.5,-173.5 59.5,-167.5 59.5,-167.5 59.5,-123.5 59.5,-123.5 59.5,-117.5 65.5,-111.5 71.5,-111.5 71.5,-111.5 175.5,-111.5 175.5,-111.5 181.5,-111.5 187.5,-117.5 187.5,-123.5 187.5,-123.5 187.5,-167.5 187.5,-167.5 187.5,-173.5 181.5,-179.5 175.5,-179.5\"/>\n",
       "<text text-anchor=\"start\" x=\"87\" y=\"-164.3\" font-family=\"Helvetica,sans-Serif\" font-size=\"14.00\">gini = 0.026</text>\n",
       "<text text-anchor=\"start\" x=\"73.5\" y=\"-149.3\" font-family=\"Helvetica,sans-Serif\" font-size=\"14.00\">samples = 1868</text>\n",
       "<text text-anchor=\"start\" x=\"67.5\" y=\"-134.3\" font-family=\"Helvetica,sans-Serif\" font-size=\"14.00\">value = [1843, 25]</text>\n",
       "<text text-anchor=\"start\" x=\"95.5\" y=\"-119.3\" font-family=\"Helvetica,sans-Serif\" font-size=\"14.00\">class = 0</text>\n",
       "</g>\n",
       "<!-- 10&#45;&gt;11 -->\n",
       "<g id=\"edge11\" class=\"edge\">\n",
       "<title>10&#45;&gt;11</title>\n",
       "<path fill=\"none\" stroke=\"black\" d=\"M168.56,-222.91C161.99,-211.76 154.85,-199.66 148.23,-188.44\"/>\n",
       "<polygon fill=\"black\" stroke=\"black\" points=\"151.15,-186.5 143.06,-179.67 145.13,-190.06 151.15,-186.5\"/>\n",
       "</g>\n",
       "<!-- 12 -->\n",
       "<g id=\"node13\" class=\"node\">\n",
       "<title>12</title>\n",
       "<path fill=\"#f7d9c3\" stroke=\"black\" d=\"M307,-187C307,-187 218,-187 218,-187 212,-187 206,-181 206,-175 206,-175 206,-116 206,-116 206,-110 212,-104 218,-104 218,-104 307,-104 307,-104 313,-104 319,-110 319,-116 319,-116 319,-175 319,-175 319,-181 313,-187 307,-187\"/>\n",
       "<text text-anchor=\"start\" x=\"221\" y=\"-171.8\" font-family=\"Helvetica,sans-Serif\" font-size=\"14.00\">+0,1 ≤ &#45;1.186</text>\n",
       "<text text-anchor=\"start\" x=\"226\" y=\"-156.8\" font-family=\"Helvetica,sans-Serif\" font-size=\"14.00\">gini = 0.484</text>\n",
       "<text text-anchor=\"start\" x=\"220.5\" y=\"-141.8\" font-family=\"Helvetica,sans-Serif\" font-size=\"14.00\">samples = 73</text>\n",
       "<text text-anchor=\"start\" x=\"214\" y=\"-126.8\" font-family=\"Helvetica,sans-Serif\" font-size=\"14.00\">value = [43, 30]</text>\n",
       "<text text-anchor=\"start\" x=\"234.5\" y=\"-111.8\" font-family=\"Helvetica,sans-Serif\" font-size=\"14.00\">class = 0</text>\n",
       "</g>\n",
       "<!-- 10&#45;&gt;12 -->\n",
       "<g id=\"edge12\" class=\"edge\">\n",
       "<title>10&#45;&gt;12</title>\n",
       "<path fill=\"none\" stroke=\"black\" d=\"M216.79,-222.91C222.05,-214.1 227.68,-204.7 233.12,-195.61\"/>\n",
       "<polygon fill=\"black\" stroke=\"black\" points=\"236.13,-197.4 238.26,-187.02 230.12,-193.81 236.13,-197.4\"/>\n",
       "</g>\n",
       "<!-- 13 -->\n",
       "<g id=\"node14\" class=\"node\">\n",
       "<title>13</title>\n",
       "<path fill=\"#80c0ee\" stroke=\"black\" d=\"M242,-68C242,-68 161,-68 161,-68 155,-68 149,-62 149,-56 149,-56 149,-12 149,-12 149,-6 155,0 161,0 161,0 242,0 242,0 248,0 254,-6 254,-12 254,-12 254,-56 254,-56 254,-62 248,-68 242,-68\"/>\n",
       "<text text-anchor=\"start\" x=\"165\" y=\"-52.8\" font-family=\"Helvetica,sans-Serif\" font-size=\"14.00\">gini = 0.389</text>\n",
       "<text text-anchor=\"start\" x=\"159.5\" y=\"-37.8\" font-family=\"Helvetica,sans-Serif\" font-size=\"14.00\">samples = 34</text>\n",
       "<text text-anchor=\"start\" x=\"157\" y=\"-22.8\" font-family=\"Helvetica,sans-Serif\" font-size=\"14.00\">value = [9, 25]</text>\n",
       "<text text-anchor=\"start\" x=\"173.5\" y=\"-7.8\" font-family=\"Helvetica,sans-Serif\" font-size=\"14.00\">class = 1</text>\n",
       "</g>\n",
       "<!-- 12&#45;&gt;13 -->\n",
       "<g id=\"edge13\" class=\"edge\">\n",
       "<title>12&#45;&gt;13</title>\n",
       "<path fill=\"none\" stroke=\"black\" d=\"M239.79,-103.73C234.96,-95.06 229.85,-85.9 225,-77.18\"/>\n",
       "<polygon fill=\"black\" stroke=\"black\" points=\"227.97,-75.33 220.05,-68.3 221.86,-78.74 227.97,-75.33\"/>\n",
       "</g>\n",
       "<!-- 14 -->\n",
       "<g id=\"node15\" class=\"node\">\n",
       "<title>14</title>\n",
       "<path fill=\"#e99456\" stroke=\"black\" d=\"M365,-68C365,-68 284,-68 284,-68 278,-68 272,-62 272,-56 272,-56 272,-12 272,-12 272,-6 278,0 284,0 284,0 365,0 365,0 371,0 377,-6 377,-12 377,-12 377,-56 377,-56 377,-62 371,-68 365,-68\"/>\n",
       "<text text-anchor=\"start\" x=\"288\" y=\"-52.8\" font-family=\"Helvetica,sans-Serif\" font-size=\"14.00\">gini = 0.224</text>\n",
       "<text text-anchor=\"start\" x=\"282.5\" y=\"-37.8\" font-family=\"Helvetica,sans-Serif\" font-size=\"14.00\">samples = 39</text>\n",
       "<text text-anchor=\"start\" x=\"280\" y=\"-22.8\" font-family=\"Helvetica,sans-Serif\" font-size=\"14.00\">value = [34, 5]</text>\n",
       "<text text-anchor=\"start\" x=\"296.5\" y=\"-7.8\" font-family=\"Helvetica,sans-Serif\" font-size=\"14.00\">class = 0</text>\n",
       "</g>\n",
       "<!-- 12&#45;&gt;14 -->\n",
       "<g id=\"edge14\" class=\"edge\">\n",
       "<title>12&#45;&gt;14</title>\n",
       "<path fill=\"none\" stroke=\"black\" d=\"M285.59,-103.73C290.49,-95.06 295.68,-85.9 300.62,-77.18\"/>\n",
       "<polygon fill=\"black\" stroke=\"black\" points=\"303.76,-78.73 305.65,-68.3 297.67,-75.28 303.76,-78.73\"/>\n",
       "</g>\n",
       "<!-- 17 -->\n",
       "<g id=\"node18\" class=\"node\">\n",
       "<title>17</title>\n",
       "<path fill=\"#3a9ee5\" stroke=\"black\" d=\"M506,-298.5C506,-298.5 417,-298.5 417,-298.5 411,-298.5 405,-292.5 405,-286.5 405,-286.5 405,-242.5 405,-242.5 405,-236.5 411,-230.5 417,-230.5 417,-230.5 506,-230.5 506,-230.5 512,-230.5 518,-236.5 518,-242.5 518,-242.5 518,-286.5 518,-286.5 518,-292.5 512,-298.5 506,-298.5\"/>\n",
       "<text text-anchor=\"start\" x=\"425\" y=\"-283.3\" font-family=\"Helvetica,sans-Serif\" font-size=\"14.00\">gini = 0.012</text>\n",
       "<text text-anchor=\"start\" x=\"415.5\" y=\"-268.3\" font-family=\"Helvetica,sans-Serif\" font-size=\"14.00\">samples = 167</text>\n",
       "<text text-anchor=\"start\" x=\"413\" y=\"-253.3\" font-family=\"Helvetica,sans-Serif\" font-size=\"14.00\">value = [1, 166]</text>\n",
       "<text text-anchor=\"start\" x=\"433.5\" y=\"-238.3\" font-family=\"Helvetica,sans-Serif\" font-size=\"14.00\">class = 1</text>\n",
       "</g>\n",
       "<!-- 16&#45;&gt;17 -->\n",
       "<g id=\"edge17\" class=\"edge\">\n",
       "<title>16&#45;&gt;17</title>\n",
       "<path fill=\"none\" stroke=\"black\" d=\"M464.11,-341.91C463.75,-331.2 463.35,-319.62 462.98,-308.78\"/>\n",
       "<polygon fill=\"black\" stroke=\"black\" points=\"466.47,-308.54 462.63,-298.67 459.48,-308.78 466.47,-308.54\"/>\n",
       "</g>\n",
       "<!-- 18 -->\n",
       "<g id=\"node19\" class=\"node\">\n",
       "<title>18</title>\n",
       "<path fill=\"#e58139\" stroke=\"black\" d=\"M629,-298.5C629,-298.5 548,-298.5 548,-298.5 542,-298.5 536,-292.5 536,-286.5 536,-286.5 536,-242.5 536,-242.5 536,-236.5 542,-230.5 548,-230.5 548,-230.5 629,-230.5 629,-230.5 635,-230.5 641,-236.5 641,-242.5 641,-242.5 641,-286.5 641,-286.5 641,-292.5 635,-298.5 629,-298.5\"/>\n",
       "<text text-anchor=\"start\" x=\"559.5\" y=\"-283.3\" font-family=\"Helvetica,sans-Serif\" font-size=\"14.00\">gini = 0.0</text>\n",
       "<text text-anchor=\"start\" x=\"546.5\" y=\"-268.3\" font-family=\"Helvetica,sans-Serif\" font-size=\"14.00\">samples = 75</text>\n",
       "<text text-anchor=\"start\" x=\"544\" y=\"-253.3\" font-family=\"Helvetica,sans-Serif\" font-size=\"14.00\">value = [75, 0]</text>\n",
       "<text text-anchor=\"start\" x=\"560.5\" y=\"-238.3\" font-family=\"Helvetica,sans-Serif\" font-size=\"14.00\">class = 0</text>\n",
       "</g>\n",
       "<!-- 16&#45;&gt;18 -->\n",
       "<g id=\"edge18\" class=\"edge\">\n",
       "<title>16&#45;&gt;18</title>\n",
       "<path fill=\"none\" stroke=\"black\" d=\"M508.17,-341.91C520.47,-330.21 533.88,-317.46 546.15,-305.78\"/>\n",
       "<polygon fill=\"black\" stroke=\"black\" points=\"548.8,-308.1 553.63,-298.67 543.97,-303.02 548.8,-308.1\"/>\n",
       "</g>\n",
       "</g>\n",
       "</svg>\n"
      ],
      "text/plain": [
       "<graphviz.sources.Source at 0x2409fdf9250>"
      ]
     },
     "execution_count": 25,
     "metadata": {},
     "output_type": "execute_result"
    }
   ],
   "source": [
    "from sklearn.tree import export_graphviz\n",
    "import graphviz\n",
    "\n",
    "dot_data = export_graphviz(model, feature_names=df.columns[:-1], class_names=['0','1'],\n",
    "                           filled=True, rounded=True, special_characters=True)\n",
    "# Draw tree\n",
    "graph = graphviz.Source(dot_data)\n",
    "graph.render(f'Docs/DTree_noisy_power_per_op_noisestd={noise_std}', format='png', cleanup=True)\n",
    "graph"
   ]
  }
 ],
 "metadata": {
  "kernelspec": {
   "display_name": "Python [conda env:thesis]",
   "language": "python",
   "name": "conda-env-thesis-py"
  },
  "language_info": {
   "codemirror_mode": {
    "name": "ipython",
    "version": 3
   },
   "file_extension": ".py",
   "mimetype": "text/x-python",
   "name": "python",
   "nbconvert_exporter": "python",
   "pygments_lexer": "ipython3",
   "version": "3.8.12"
  },
  "toc": {
   "base_numbering": 1,
   "nav_menu": {},
   "number_sections": true,
   "sideBar": true,
   "skip_h1_title": false,
   "title_cell": "Contents",
   "title_sidebar": "Contents",
   "toc_cell": false,
   "toc_position": {
    "height": "543.6px",
    "left": "253px",
    "top": "87.6px",
    "width": "228.2px"
   },
   "toc_section_display": true,
   "toc_window_display": true
  },
  "varInspector": {
   "cols": {
    "lenName": 16,
    "lenType": 16,
    "lenVar": 40
   },
   "kernels_config": {
    "python": {
     "delete_cmd_postfix": "",
     "delete_cmd_prefix": "del ",
     "library": "var_list.py",
     "varRefreshCmd": "print(var_dic_list())"
    },
    "r": {
     "delete_cmd_postfix": ") ",
     "delete_cmd_prefix": "rm(",
     "library": "var_list.r",
     "varRefreshCmd": "cat(var_dic_list()) "
    }
   },
   "oldHeight": 188.4,
   "position": {
    "height": "210.4px",
    "left": "1008px",
    "right": "20px",
    "top": "88px",
    "width": "516px"
   },
   "types_to_exclude": [
    "module",
    "function",
    "builtin_function_or_method",
    "instance",
    "_Feature"
   ],
   "varInspector_section_display": "block",
   "window_display": false
  }
 },
 "nbformat": 4,
 "nbformat_minor": 5
}
